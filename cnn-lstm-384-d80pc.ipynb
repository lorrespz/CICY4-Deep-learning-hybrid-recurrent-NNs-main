{
 "cells": [
  {
   "cell_type": "markdown",
   "id": "1511cf5c",
   "metadata": {
    "papermill": {
     "duration": 0.00833,
     "end_time": "2024-05-22T13:31:38.558949",
     "exception": false,
     "start_time": "2024-05-22T13:31:38.550619",
     "status": "completed"
    },
    "tags": []
   },
   "source": [
    "# CICY4: CNN-LSTM-384 (80% data split)"
   ]
  },
  {
   "cell_type": "code",
   "execution_count": 1,
   "id": "bad3cc5f",
   "metadata": {
    "_cell_guid": "b1076dfc-b9ad-4769-8c92-a6c4dae69d19",
    "_uuid": "8f2839f25d086af736a60e9eeb907d3b93b6e0e5",
    "execution": {
     "iopub.execute_input": "2024-05-22T13:31:38.575500Z",
     "iopub.status.busy": "2024-05-22T13:31:38.575157Z",
     "iopub.status.idle": "2024-05-22T13:31:44.331973Z",
     "shell.execute_reply": "2024-05-22T13:31:44.331179Z"
    },
    "papermill": {
     "duration": 5.767772,
     "end_time": "2024-05-22T13:31:44.334342",
     "exception": false,
     "start_time": "2024-05-22T13:31:38.566570",
     "status": "completed"
    },
    "tags": []
   },
   "outputs": [],
   "source": [
    "import numpy as np\n",
    "import pandas as pd\n",
    "import random\n",
    "import os as os\n",
    "import matplotlib.pyplot as plt\n",
    "import seaborn as sns\n",
    "from datetime import datetime\n",
    "sns.set_style(\"darkgrid\")\n",
    "\n",
    "import torch\n",
    "import torch.nn as nn\n",
    "import torch.nn.functional as F\n",
    "import torch.optim.lr_scheduler as lr_scheduler"
   ]
  },
  {
   "cell_type": "code",
   "execution_count": 2,
   "id": "58fd5003",
   "metadata": {
    "execution": {
     "iopub.execute_input": "2024-05-22T13:31:44.351279Z",
     "iopub.status.busy": "2024-05-22T13:31:44.350583Z",
     "iopub.status.idle": "2024-05-22T13:31:44.405632Z",
     "shell.execute_reply": "2024-05-22T13:31:44.404626Z"
    },
    "papermill": {
     "duration": 0.065521,
     "end_time": "2024-05-22T13:31:44.407688",
     "exception": false,
     "start_time": "2024-05-22T13:31:44.342167",
     "status": "completed"
    },
    "tags": []
   },
   "outputs": [
    {
     "name": "stdout",
     "output_type": "stream",
     "text": [
      "cuda:0\n"
     ]
    }
   ],
   "source": [
    "device = torch.device(\"cuda:0\" if torch.cuda.is_available() else \"cpu\")\n",
    "print(device)"
   ]
  },
  {
   "cell_type": "code",
   "execution_count": 3,
   "id": "b92bba1f",
   "metadata": {
    "execution": {
     "iopub.execute_input": "2024-05-22T13:31:44.424935Z",
     "iopub.status.busy": "2024-05-22T13:31:44.424306Z",
     "iopub.status.idle": "2024-05-22T13:31:44.432743Z",
     "shell.execute_reply": "2024-05-22T13:31:44.431907Z"
    },
    "papermill": {
     "duration": 0.019079,
     "end_time": "2024-05-22T13:31:44.434665",
     "exception": false,
     "start_time": "2024-05-22T13:31:44.415586",
     "status": "completed"
    },
    "tags": []
   },
   "outputs": [],
   "source": [
    "seed = 42\n",
    "\n",
    "def seed_everything(seed):\n",
    "    random.seed(seed)\n",
    "    os.environ['PYTHONHASHSEED'] = str(seed)\n",
    "    np.random.seed(seed)\n",
    "    torch.manual_seed(seed)\n",
    "    torch.cuda.manual_seed(seed)\n",
    "    torch.cuda.manual_seed_all(seed)\n",
    "    torch.backends.cudnn.deterministic = True\n",
    "\n",
    "seed_everything(seed)"
   ]
  },
  {
   "cell_type": "markdown",
   "id": "38b4bdb7",
   "metadata": {
    "papermill": {
     "duration": 0.00784,
     "end_time": "2024-05-22T13:31:44.450332",
     "exception": false,
     "start_time": "2024-05-22T13:31:44.442492",
     "status": "completed"
    },
    "tags": []
   },
   "source": [
    "# CNN-LSTM network architecture"
   ]
  },
  {
   "cell_type": "code",
   "execution_count": 4,
   "id": "34dd2dd9",
   "metadata": {
    "execution": {
     "iopub.execute_input": "2024-05-22T13:31:44.468036Z",
     "iopub.status.busy": "2024-05-22T13:31:44.467687Z",
     "iopub.status.idle": "2024-05-22T13:31:44.474488Z",
     "shell.execute_reply": "2024-05-22T13:31:44.473618Z"
    },
    "papermill": {
     "duration": 0.018428,
     "end_time": "2024-05-22T13:31:44.476426",
     "exception": false,
     "start_time": "2024-05-22T13:31:44.457998",
     "status": "completed"
    },
    "tags": []
   },
   "outputs": [],
   "source": [
    "##################### CNN ###############################\n",
    "class CNN_block(nn.Module):  \n",
    "    def __init__(self):\n",
    "        super().__init__()\n",
    "        self.conv1 = nn.Conv2d(1,128, 4, 1)\n",
    "        self.conv2 = nn.Conv2d(128, 64, 3, 1)\n",
    "        self.mxpool = nn.MaxPool2d(2,2)\n",
    "        self.flat = nn.Flatten()\n",
    "        self.conv_total = nn.Sequential(\n",
    "            self.conv1,\n",
    "            self.mxpool,\n",
    "            self.conv2,\n",
    "            self.mxpool\n",
    "        )\n",
    "    def forward(self,x):\n",
    "        x = F.relu(self.conv_total(x))\n",
    "        #reshape is the same as flat(x)\n",
    "        #x = x.reshape(x.shape[0], -1)\n",
    "        x = self.flat(x)   \n",
    "        return x"
   ]
  },
  {
   "cell_type": "code",
   "execution_count": 5,
   "id": "77e0bb2c",
   "metadata": {
    "execution": {
     "iopub.execute_input": "2024-05-22T13:31:44.492863Z",
     "iopub.status.busy": "2024-05-22T13:31:44.492565Z",
     "iopub.status.idle": "2024-05-22T13:31:44.500071Z",
     "shell.execute_reply": "2024-05-22T13:31:44.499319Z"
    },
    "papermill": {
     "duration": 0.017762,
     "end_time": "2024-05-22T13:31:44.501922",
     "exception": false,
     "start_time": "2024-05-22T13:31:44.484160",
     "status": "completed"
    },
    "tags": []
   },
   "outputs": [],
   "source": [
    "class LSTM_block(nn.Module):\n",
    "    def __init__(self, n_inputs, n_hidden, n_rnnlayers, n_outputs):\n",
    "        super(LSTM_block,self).__init__()\n",
    "        self.D = n_inputs\n",
    "        self.M = n_hidden\n",
    "        self.K = n_outputs\n",
    "        self.L = n_rnnlayers        \n",
    "        self.lstm = nn.LSTM(input_size = self.D,\n",
    "                           hidden_size = self.M,\n",
    "                           num_layers = self.L,\n",
    "                           batch_first = True)    \n",
    "    def forward(self, X):\n",
    "        #input X is NxTxD\n",
    "        #initial hidden states\n",
    "        h0 = torch.zeros(self.L, X.size(0), self.M).to(device)\n",
    "        c0 = torch.zeros(self.L, X.size(0), self.M).to(device)\n",
    "        #get LSTM unit output:\n",
    "        #output is NxTxM\n",
    "        out, _ = self.lstm(X, (h0,c0))\n",
    "        #out, _ = self.gru(X, h0)   \n",
    "        #we only want h(T) at the final time step\n",
    "        # output is now of shape (N, M)\n",
    "        out = out[:, -1, :]\n",
    "        return out"
   ]
  },
  {
   "cell_type": "code",
   "execution_count": 6,
   "id": "7caf83c2",
   "metadata": {
    "execution": {
     "iopub.execute_input": "2024-05-22T13:31:44.518170Z",
     "iopub.status.busy": "2024-05-22T13:31:44.517901Z",
     "iopub.status.idle": "2024-05-22T13:31:44.524607Z",
     "shell.execute_reply": "2024-05-22T13:31:44.523783Z"
    },
    "papermill": {
     "duration": 0.016966,
     "end_time": "2024-05-22T13:31:44.526518",
     "exception": false,
     "start_time": "2024-05-22T13:31:44.509552",
     "status": "completed"
    },
    "tags": []
   },
   "outputs": [],
   "source": [
    "class CNN_LSTM_hybrid(nn.Module):\n",
    "    def __init__(self, cnn_block, lstm_block, feat_vec_size):\n",
    "        super(CNN_LSTM_hybrid, self).__init__()\n",
    "        self.cnn_block = cnn_block\n",
    "        self.lstm_block = lstm_block\n",
    "        self.feat_vec_size = feat_vec_size\n",
    "        self.fc1 = nn.Linear(self.feat_vec_size, 1024)\n",
    "        self.fc2 = nn.Linear(1024, 4)       \n",
    "    def forward(self, x):\n",
    "        #output of cnn block is (N,384)\n",
    "        x1 = x.view(-1,1, 16,20)\n",
    "        x1 = self.cnn_block(x1)\n",
    "        #output of rnn block is (N,M)\n",
    "        x2 = self.lstm_block(x)\n",
    "        #concatenate the 2 outputs to produce a feat vec (N, M+384)\n",
    "        xx = torch.cat([x1, x2], dim = 1)\n",
    "        # pass through linear layers\n",
    "        xx = self.fc1(xx)\n",
    "        #final output is 4\n",
    "        xx = self.fc2(xx)       \n",
    "        return xx"
   ]
  },
  {
   "cell_type": "code",
   "execution_count": 7,
   "id": "1a2be69c",
   "metadata": {
    "execution": {
     "iopub.execute_input": "2024-05-22T13:31:44.543469Z",
     "iopub.status.busy": "2024-05-22T13:31:44.542857Z",
     "iopub.status.idle": "2024-05-22T13:31:44.905742Z",
     "shell.execute_reply": "2024-05-22T13:31:44.904824Z"
    },
    "papermill": {
     "duration": 0.374239,
     "end_time": "2024-05-22T13:31:44.908317",
     "exception": false,
     "start_time": "2024-05-22T13:31:44.534078",
     "status": "completed"
    },
    "tags": []
   },
   "outputs": [
    {
     "data": {
      "text/plain": [
       "CNN_LSTM_hybrid(\n",
       "  (cnn_block): CNN_block(\n",
       "    (conv1): Conv2d(1, 128, kernel_size=(4, 4), stride=(1, 1))\n",
       "    (conv2): Conv2d(128, 64, kernel_size=(3, 3), stride=(1, 1))\n",
       "    (mxpool): MaxPool2d(kernel_size=2, stride=2, padding=0, dilation=1, ceil_mode=False)\n",
       "    (flat): Flatten(start_dim=1, end_dim=-1)\n",
       "    (conv_total): Sequential(\n",
       "      (0): Conv2d(1, 128, kernel_size=(4, 4), stride=(1, 1))\n",
       "      (1): MaxPool2d(kernel_size=2, stride=2, padding=0, dilation=1, ceil_mode=False)\n",
       "      (2): Conv2d(128, 64, kernel_size=(3, 3), stride=(1, 1))\n",
       "      (3): MaxPool2d(kernel_size=2, stride=2, padding=0, dilation=1, ceil_mode=False)\n",
       "    )\n",
       "  )\n",
       "  (lstm_block): LSTM_block(\n",
       "    (lstm): LSTM(20, 384, num_layers=2, batch_first=True)\n",
       "  )\n",
       "  (fc1): Linear(in_features=768, out_features=1024, bias=True)\n",
       "  (fc2): Linear(in_features=1024, out_features=4, bias=True)\n",
       ")"
      ]
     },
     "execution_count": 7,
     "metadata": {},
     "output_type": "execute_result"
    }
   ],
   "source": [
    "# Everything is the same as the best CNN-GRU model, \n",
    "#except that the GRU layer is replaced by the LSTM layer\n",
    "cnn_block = CNN_block()\n",
    "cnn_block.to(device)\n",
    "\n",
    "M_size = 384\n",
    "lstm_block = LSTM_block(20, M_size, 2, 4)\n",
    "lstm_block.to(device)\n",
    "\n",
    "model = CNN_LSTM_hybrid(cnn_block, lstm_block, M_size+384)\n",
    "model.to(device)"
   ]
  },
  {
   "cell_type": "code",
   "execution_count": 8,
   "id": "c4238c4d",
   "metadata": {
    "execution": {
     "iopub.execute_input": "2024-05-22T13:31:44.926040Z",
     "iopub.status.busy": "2024-05-22T13:31:44.925699Z",
     "iopub.status.idle": "2024-05-22T13:31:44.933009Z",
     "shell.execute_reply": "2024-05-22T13:31:44.931902Z"
    },
    "papermill": {
     "duration": 0.018255,
     "end_time": "2024-05-22T13:31:44.935106",
     "exception": false,
     "start_time": "2024-05-22T13:31:44.916851",
     "status": "completed"
    },
    "tags": []
   },
   "outputs": [
    {
     "name": "stdout",
     "output_type": "stream",
     "text": [
      "Total numbers of parameters for the CNN part: 75968\n",
      "\n",
      "Total numbers of parameters for the LSTM part: 1806336\n",
      "\n",
      "Total numbers of parameters: 2673860\n"
     ]
    }
   ],
   "source": [
    "#count the number of parameters in the model\n",
    "params_cnn = [p.numel() for p in cnn_block.parameters() if p.requires_grad]\n",
    "print(f'Total numbers of parameters for the CNN part: {sum(params_cnn)}\\n')\n",
    "\n",
    "#count the number of parameters in the model\n",
    "params_lstm = [p.numel() for p in lstm_block.parameters() if p.requires_grad]\n",
    "print(f'Total numbers of parameters for the LSTM part: {sum(params_lstm)}\\n')\n",
    "\n",
    "#count the number of parameters in the model\n",
    "params = [p.numel() for p in model.parameters() if p.requires_grad]\n",
    "print(f'Total numbers of parameters: {sum(params)}')"
   ]
  },
  {
   "cell_type": "markdown",
   "id": "4c574692",
   "metadata": {
    "papermill": {
     "duration": 0.008083,
     "end_time": "2024-05-22T13:31:44.951338",
     "exception": false,
     "start_time": "2024-05-22T13:31:44.943255",
     "status": "completed"
    },
    "tags": []
   },
   "source": [
    "# Load data, define custom dataset class and dataloaders"
   ]
  },
  {
   "cell_type": "code",
   "execution_count": 9,
   "id": "b37462ff",
   "metadata": {
    "execution": {
     "iopub.execute_input": "2024-05-22T13:31:44.969004Z",
     "iopub.status.busy": "2024-05-22T13:31:44.968387Z",
     "iopub.status.idle": "2024-05-22T13:32:00.819983Z",
     "shell.execute_reply": "2024-05-22T13:32:00.819002Z"
    },
    "papermill": {
     "duration": 15.862585,
     "end_time": "2024-05-22T13:32:00.822160",
     "exception": false,
     "start_time": "2024-05-22T13:31:44.959575",
     "status": "completed"
    },
    "tags": []
   },
   "outputs": [
    {
     "name": "stdout",
     "output_type": "stream",
     "text": [
      "(724547, 16, 20) (72455, 16, 20) (108682, 16, 20)\n",
      "(724547, 4) (72455, 4) (108682, 4)\n"
     ]
    }
   ],
   "source": [
    "X_train = np.load('/kaggle/input/calabi-yau-cicy-4-folds/conf_Xtrain_80.npy')\n",
    "X_test = np.load('/kaggle/input/calabi-yau-cicy-4-folds/conf_Xtest_80.npy')\n",
    "X_valid = np.load('/kaggle/input/calabi-yau-cicy-4-folds/conf_Xvalid.npy')\n",
    "\n",
    "y_train = np.load('/kaggle/input/calabi-yau-cicy-4-folds/hodge_ytrain_80.npy')\n",
    "y_test= np.load('/kaggle/input/calabi-yau-cicy-4-folds/hodge_ytest_80.npy')\n",
    "y_valid = np.load('/kaggle/input/calabi-yau-cicy-4-folds/hodge_yvalid.npy')\n",
    "\n",
    "print(X_train.shape, X_valid.shape, X_test.shape)\n",
    "print(y_train.shape, y_valid.shape, y_test.shape)"
   ]
  },
  {
   "cell_type": "code",
   "execution_count": 10,
   "id": "724b8f68",
   "metadata": {
    "execution": {
     "iopub.execute_input": "2024-05-22T13:32:00.840319Z",
     "iopub.status.busy": "2024-05-22T13:32:00.839636Z",
     "iopub.status.idle": "2024-05-22T13:32:01.302020Z",
     "shell.execute_reply": "2024-05-22T13:32:01.300984Z"
    },
    "papermill": {
     "duration": 0.47405,
     "end_time": "2024-05-22T13:32:01.304539",
     "exception": false,
     "start_time": "2024-05-22T13:32:00.830489",
     "status": "completed"
    },
    "tags": []
   },
   "outputs": [],
   "source": [
    "#Convert data to torch tensor with float32 precision \n",
    "#(needed to be compatible with the floating decision of the network parameters)\n",
    "X_train = torch.from_numpy(X_train.astype(np.float32))\n",
    "y_train = torch.from_numpy(y_train.astype(np.float32))\n",
    "\n",
    "X_valid = torch.from_numpy(X_valid.astype(np.float32)) \n",
    "y_valid = torch.from_numpy(y_valid.astype(np.float32)) \n",
    "\n",
    "X_test = torch.from_numpy(X_test.astype(np.float32)) \n",
    "y_test= torch.from_numpy(y_test.astype(np.float32)) "
   ]
  },
  {
   "cell_type": "code",
   "execution_count": 11,
   "id": "cc21cfca",
   "metadata": {
    "execution": {
     "iopub.execute_input": "2024-05-22T13:32:01.322627Z",
     "iopub.status.busy": "2024-05-22T13:32:01.322306Z",
     "iopub.status.idle": "2024-05-22T13:32:01.328572Z",
     "shell.execute_reply": "2024-05-22T13:32:01.327710Z"
    },
    "papermill": {
     "duration": 0.017428,
     "end_time": "2024-05-22T13:32:01.330495",
     "exception": false,
     "start_time": "2024-05-22T13:32:01.313067",
     "status": "completed"
    },
    "tags": []
   },
   "outputs": [],
   "source": [
    "class CICY4Dataset(torch.utils.data.Dataset):\n",
    "    def __init__(self, X, y):\n",
    "        self.X = X\n",
    "        self.y = y        \n",
    "    def __len__(self):\n",
    "        return len(self.X)      \n",
    "    def __getitem__(self, idx):\n",
    "        X0 = self.X[idx]\n",
    "        y0 = self.y[idx]  \n",
    "        return X0, y0\n",
    "        \n",
    "train_set = CICY4Dataset(X_train, y_train)\n",
    "val_set = CICY4Dataset(X_valid, y_valid)\n",
    "test_set = CICY4Dataset(X_test, y_test)"
   ]
  },
  {
   "cell_type": "code",
   "execution_count": 12,
   "id": "94fe3fd8",
   "metadata": {
    "execution": {
     "iopub.execute_input": "2024-05-22T13:32:01.347879Z",
     "iopub.status.busy": "2024-05-22T13:32:01.347572Z",
     "iopub.status.idle": "2024-05-22T13:32:01.352768Z",
     "shell.execute_reply": "2024-05-22T13:32:01.352018Z"
    },
    "papermill": {
     "duration": 0.016138,
     "end_time": "2024-05-22T13:32:01.354705",
     "exception": false,
     "start_time": "2024-05-22T13:32:01.338567",
     "status": "completed"
    },
    "tags": []
   },
   "outputs": [],
   "source": [
    "from torch.utils.data import DataLoader\n",
    "\n",
    "train_loader = DataLoader(train_set, batch_size=128, shuffle=True)\n",
    "val_loader = DataLoader(val_set, batch_size=128, shuffle=True)\n",
    "test_loader = DataLoader(test_set, batch_size=128, shuffle=False)"
   ]
  },
  {
   "cell_type": "markdown",
   "id": "536b630c",
   "metadata": {
    "papermill": {
     "duration": 0.007708,
     "end_time": "2024-05-22T13:32:01.370352",
     "exception": false,
     "start_time": "2024-05-22T13:32:01.362644",
     "status": "completed"
    },
    "tags": []
   },
   "source": [
    "# Utility functions"
   ]
  },
  {
   "cell_type": "code",
   "execution_count": 13,
   "id": "f58fe8b3",
   "metadata": {
    "execution": {
     "iopub.execute_input": "2024-05-22T13:32:01.387915Z",
     "iopub.status.busy": "2024-05-22T13:32:01.387275Z",
     "iopub.status.idle": "2024-05-22T13:32:01.391571Z",
     "shell.execute_reply": "2024-05-22T13:32:01.390795Z"
    },
    "papermill": {
     "duration": 0.01535,
     "end_time": "2024-05-22T13:32:01.393544",
     "exception": false,
     "start_time": "2024-05-22T13:32:01.378194",
     "status": "completed"
    },
    "tags": []
   },
   "outputs": [],
   "source": [
    "if not os.path.exists('saved_models'):\n",
    "    os.makedirs('saved_models')"
   ]
  },
  {
   "cell_type": "code",
   "execution_count": 14,
   "id": "bf34241d",
   "metadata": {
    "execution": {
     "iopub.execute_input": "2024-05-22T13:32:01.412141Z",
     "iopub.status.busy": "2024-05-22T13:32:01.411841Z",
     "iopub.status.idle": "2024-05-22T13:32:01.418265Z",
     "shell.execute_reply": "2024-05-22T13:32:01.417460Z"
    },
    "papermill": {
     "duration": 0.018625,
     "end_time": "2024-05-22T13:32:01.420210",
     "exception": false,
     "start_time": "2024-05-22T13:32:01.401585",
     "status": "completed"
    },
    "tags": []
   },
   "outputs": [],
   "source": [
    "def train_one_epoch(model, criterion, optimizer, train_loader, cnn = False):\n",
    "    model.train()\n",
    "    train_loss = []\n",
    "    for inputs, target in train_loader:\n",
    "        if cnn:\n",
    "            inputs = inputs.view(batch_size,1,16,20)\n",
    "        inputs, target = inputs.to(device), target.to(device)\n",
    "        optimizer.zero_grad()\n",
    "        out = model(inputs)\n",
    "        loss = criterion(out, target)\n",
    "        loss.backward()\n",
    "        optimizer.step()\n",
    "        train_loss.append(loss.item())\n",
    "    #average the train_loss list in for all batches in the train_gen\n",
    "    train_loss = np.mean(train_loss)    \n",
    "    return train_loss"
   ]
  },
  {
   "cell_type": "code",
   "execution_count": 15,
   "id": "b8e75638",
   "metadata": {
    "execution": {
     "iopub.execute_input": "2024-05-22T13:32:01.438490Z",
     "iopub.status.busy": "2024-05-22T13:32:01.438004Z",
     "iopub.status.idle": "2024-05-22T13:32:01.444167Z",
     "shell.execute_reply": "2024-05-22T13:32:01.443330Z"
    },
    "papermill": {
     "duration": 0.017777,
     "end_time": "2024-05-22T13:32:01.445983",
     "exception": false,
     "start_time": "2024-05-22T13:32:01.428206",
     "status": "completed"
    },
    "tags": []
   },
   "outputs": [],
   "source": [
    "def validate_one_epoch(model, criterion, optimizer, val_loader, cnn = False):\n",
    "    model.eval()\n",
    "    test_loss = []\n",
    "    for inputs, target in val_loader:\n",
    "        if cnn:\n",
    "            inputs = inputs.view(batch_size,1,16,20)\n",
    "        inputs, target = inputs.to(device), target.to(device)\n",
    "        out = model(inputs)\n",
    "        loss = criterion(out, target)\n",
    "        test_loss.append(loss.item())\n",
    "    #average the test_loss list in for all batches in the test_gen\n",
    "    test_loss = np.mean(test_loss)\n",
    "    return test_loss"
   ]
  },
  {
   "cell_type": "code",
   "execution_count": 16,
   "id": "4d80a891",
   "metadata": {
    "execution": {
     "iopub.execute_input": "2024-05-22T13:32:01.463718Z",
     "iopub.status.busy": "2024-05-22T13:32:01.463414Z",
     "iopub.status.idle": "2024-05-22T13:32:01.474018Z",
     "shell.execute_reply": "2024-05-22T13:32:01.473155Z"
    },
    "papermill": {
     "duration": 0.021919,
     "end_time": "2024-05-22T13:32:01.475954",
     "exception": false,
     "start_time": "2024-05-22T13:32:01.454035",
     "status": "completed"
    },
    "tags": []
   },
   "outputs": [],
   "source": [
    "def batch_gd_scheduler(model, new_model_name, criterion, optimizer, train_loader, val_loader, scheduler,\n",
    "                         epochs, device, batch_size=128,  cnn = False):\n",
    "    train_losses = np.zeros(epochs)\n",
    "    test_losses = np.zeros(epochs)\n",
    "    patience = 0\n",
    "    best_loss = 1000\n",
    "    max_patience = 20\n",
    "    for i in range(epochs):\n",
    "        t0 = datetime.now()\n",
    "        train_loss = train_one_epoch(model, criterion, optimizer,train_loader)\n",
    "        test_loss = validate_one_epoch(model, criterion, optimizer,val_loader)\n",
    "        #Early stopping based on test loss\n",
    "        if i == 0:\n",
    "            best_loss = test_loss   \n",
    "            torch.save(model, f'/kaggle/working/saved_models/{new_model_name}.pt')\n",
    "            print(f'Model saved as {new_model_name} at epoch {i}')\n",
    "        else:\n",
    "            if test_loss < best_loss:\n",
    "                best_loss = test_loss\n",
    "                torch.save(model, f'/kaggle/working/saved_models/{new_model_name}.pt')\n",
    "                print(f'Model overwritten at epoch {i}, new best val loss {best_loss}')\n",
    "                patience = 0\n",
    "            else:\n",
    "                patience = patience +1\n",
    "                #print(f'No improvement, current patience level is {patience} at epoch {i}')\n",
    "        if patience > max_patience:\n",
    "            print(f'Max patience reached, training is terminated at epoch {i}')\n",
    "            break\n",
    "        #Apply scheduler after the train+validate parts\n",
    "        before_lr = optimizer.param_groups[0][\"lr\"]\n",
    "        scheduler.step(test_loss)\n",
    "        after_lr = optimizer.param_groups[0][\"lr\"]\n",
    "        train_losses[i] = train_loss\n",
    "        test_losses[i] = test_loss\n",
    "        #write the losses into a csv file\n",
    "        loss_dict = {'train_loss': train_losses, 'val_loss': test_losses}\n",
    "        dd = pd.DataFrame(loss_dict)\n",
    "        dd.to_csv(f'loss_dict_cnn_lstm_{M_size}-80pc.csv', index = False)\n",
    "        dt = datetime.now()-t0\n",
    "        if i%10==0:\n",
    "            print(f'Epoch: {i+1}/{epochs}, train loss: {train_loss: .3f}, val_loss: {test_loss: .3f}, duration: {dt}, learning rate: {before_lr, after_lr}')\n",
    "    return train_losses, test_losses"
   ]
  },
  {
   "cell_type": "code",
   "execution_count": 17,
   "id": "91e9b70d",
   "metadata": {
    "execution": {
     "iopub.execute_input": "2024-05-22T13:32:01.493324Z",
     "iopub.status.busy": "2024-05-22T13:32:01.493048Z",
     "iopub.status.idle": "2024-05-22T13:32:01.499940Z",
     "shell.execute_reply": "2024-05-22T13:32:01.499119Z"
    },
    "papermill": {
     "duration": 0.017918,
     "end_time": "2024-05-22T13:32:01.501974",
     "exception": false,
     "start_time": "2024-05-22T13:32:01.484056",
     "status": "completed"
    },
    "tags": []
   },
   "outputs": [],
   "source": [
    "def train_from_scratch_or_load(load_model_weight,new_model_name, epochs, cnn = False):    \n",
    "    if load_model_weight==None:\n",
    "        criterion = nn.HuberLoss()\n",
    "        optimizer = torch.optim.AdamW(model.parameters(), lr=0.01)\n",
    "        scheduler = lr_scheduler.ReduceLROnPlateau(optimizer, 'min', factor=0.1, min_lr = 1e-8)\n",
    "        train_losses, test_losses=batch_gd_scheduler(model, new_model_name, criterion, \n",
    "                                                     optimizer,train_loader, val_loader,\n",
    "                                                      scheduler, epochs, \n",
    "                                                       device = device, cnn=cnn)\n",
    "        return train_losses, test_losses\n",
    "    else:\n",
    "        if torch.cuda.is_available():\n",
    "            trained_model = torch.load(load_model_weight)     \n",
    "        else:\n",
    "            trained_model = torch.load(load_model_weight, map_location=torch.device('cpu'))       \n",
    "        return trained_model"
   ]
  },
  {
   "cell_type": "code",
   "execution_count": 18,
   "id": "c2475a6c",
   "metadata": {
    "execution": {
     "iopub.execute_input": "2024-05-22T13:32:01.519112Z",
     "iopub.status.busy": "2024-05-22T13:32:01.518594Z",
     "iopub.status.idle": "2024-05-22T13:32:01.524863Z",
     "shell.execute_reply": "2024-05-22T13:32:01.524014Z"
    },
    "papermill": {
     "duration": 0.016861,
     "end_time": "2024-05-22T13:32:01.526776",
     "exception": false,
     "start_time": "2024-05-22T13:32:01.509915",
     "status": "completed"
    },
    "tags": []
   },
   "outputs": [],
   "source": [
    "def load_and_retrain(load_model_weight, new_model_name, epochs, cnn=False):\n",
    "    trained_model = torch.load(load_model_weight) \n",
    "    print('Saved model loaded!')\n",
    "    criterion = nn.HuberLoss()\n",
    "    optimizer = torch.optim.AdamW(trained_model.parameters(),lr=0.01)\n",
    "    scheduler = lr_scheduler.ReduceLROnPlateau(optimizer, 'min', factor=0.1, min_lr = 1e-7)\n",
    "    trained_model.train()\n",
    "    print('Training starts!')\n",
    "    train_losses, test_losses=batch_gd_scheduler(trained_model,new_model_name, criterion, optimizer,\n",
    "                                                 train_loader, val_loader, \n",
    "                                                 scheduler, epochs, \n",
    "                                                 device = device, cnn=cnn)\n",
    "    return trained_model, train_losses, test_losses"
   ]
  },
  {
   "cell_type": "code",
   "execution_count": 19,
   "id": "ba4b67fa",
   "metadata": {
    "execution": {
     "iopub.execute_input": "2024-05-22T13:32:01.544476Z",
     "iopub.status.busy": "2024-05-22T13:32:01.544179Z",
     "iopub.status.idle": "2024-05-22T13:32:01.548998Z",
     "shell.execute_reply": "2024-05-22T13:32:01.548174Z"
    },
    "papermill": {
     "duration": 0.016096,
     "end_time": "2024-05-22T13:32:01.550900",
     "exception": false,
     "start_time": "2024-05-22T13:32:01.534804",
     "status": "completed"
    },
    "tags": []
   },
   "outputs": [],
   "source": [
    "def plot_losses(train_losses, test_losses):\n",
    "    # Plot the train loss and test loss per iteration\n",
    "    plt.plot(train_losses, label='train loss')\n",
    "    plt.plot(test_losses, label='val loss')\n",
    "    plt.legend()\n",
    "    plt.show()"
   ]
  },
  {
   "cell_type": "code",
   "execution_count": 20,
   "id": "a06b3d2a",
   "metadata": {
    "execution": {
     "iopub.execute_input": "2024-05-22T13:32:01.568153Z",
     "iopub.status.busy": "2024-05-22T13:32:01.567852Z",
     "iopub.status.idle": "2024-05-22T13:32:01.580456Z",
     "shell.execute_reply": "2024-05-22T13:32:01.579707Z"
    },
    "papermill": {
     "duration": 0.023627,
     "end_time": "2024-05-22T13:32:01.582450",
     "exception": false,
     "start_time": "2024-05-22T13:32:01.558823",
     "status": "completed"
    },
    "tags": []
   },
   "outputs": [],
   "source": [
    "################## GET PREDICTIONS + ACCURACY #####################\n",
    "def get_pred_n_acc(models, device, dataloader, num_iter):\n",
    "    i = 0\n",
    "    ypreds =[]\n",
    "    targets = []\n",
    "    #The last batch might not have size 128\n",
    "    while i< num_iter:\n",
    "        for data, target in dataloader:\n",
    "            #this empty list is to hold all models' preds\n",
    "            ypred = []    \n",
    "            data= data.to(device)\n",
    "            data = data.to(torch.float32)\n",
    "            target = target.to(torch.float32)\n",
    "            #append the 'i^th' target\n",
    "            targets.append(target)\n",
    "            for model in models:\n",
    "                model.eval()\n",
    "                yp = model(data)\n",
    "                yp = yp.detach().cpu().numpy()\n",
    "                ypred.append(yp)\n",
    "            #take the mean of all models' predictions\n",
    "            ypred = np.array(ypred).mean(axis = 0)\n",
    "            ypred = np.round(ypred)\n",
    "            i+=1\n",
    "            #append ypred, targets inside the 'i' loop\n",
    "            # append the 'i^th' mean prediction\n",
    "            ypreds.append(ypred)   \n",
    "            if i == num_iter:\n",
    "                break \n",
    "     #Do not convert ypreds, targets to np.array at this point,\n",
    "    #since the last batch has a different size, causing an error !\n",
    "    #CALCULATING ACCURACY    \n",
    "    yp =  np.concatenate([ypreds[j] for j in range(len(ypreds))], axis = 0)\n",
    "    tgs =  np.concatenate([targets[j] for j in range(len(targets))], axis = 0)\n",
    "    h11_acc = ((yp[:,0] == tgs[:,0]).sum())/len(yp)\n",
    "    h21_acc = ((yp[:,1] == tgs[:,1]).sum())/len(yp)\n",
    "    h31_acc = ((yp[:,2] == tgs[:,2]).sum())/len(yp)\n",
    "    h22_acc = ((yp[:,3] == tgs[:,3]).sum())/len(yp)\n",
    "    acc = [h11_acc*100,h21_acc*100,h31_acc*100,h22_acc*100 ]\n",
    "    return  yp, tgs, acc\n"
   ]
  },
  {
   "cell_type": "markdown",
   "id": "bcbd8020",
   "metadata": {
    "papermill": {
     "duration": 0.00786,
     "end_time": "2024-05-22T13:32:01.598353",
     "exception": false,
     "start_time": "2024-05-22T13:32:01.590493",
     "status": "completed"
    },
    "tags": []
   },
   "source": [
    "# Load trained model and verify accuracies"
   ]
  },
  {
   "cell_type": "code",
   "execution_count": 21,
   "id": "91ec2ea2",
   "metadata": {
    "execution": {
     "iopub.execute_input": "2024-05-22T13:32:01.615727Z",
     "iopub.status.busy": "2024-05-22T13:32:01.615393Z",
     "iopub.status.idle": "2024-05-22T16:43:05.459818Z",
     "shell.execute_reply": "2024-05-22T16:43:05.458792Z"
    },
    "papermill": {
     "duration": 11463.870684,
     "end_time": "2024-05-22T16:43:05.476924",
     "exception": false,
     "start_time": "2024-05-22T13:32:01.606240",
     "status": "completed"
    },
    "tags": []
   },
   "outputs": [
    {
     "name": "stdout",
     "output_type": "stream",
     "text": [
      "Saved model loaded!\n",
      "Training starts!\n",
      "Model saved as CNN-LSTM-384-d80pc at epoch 0\n",
      "Epoch: 1/550, train loss:  3.407, val_loss:  2.267, duration: 0:01:01.934839, learning rate: (0.01, 0.01)\n",
      "Model overwritten at epoch 1, new best val loss 2.061064371776749\n",
      "Model overwritten at epoch 2, new best val loss 1.8492629576402155\n",
      "Model overwritten at epoch 3, new best val loss 1.669915943339178\n",
      "Model overwritten at epoch 7, new best val loss 1.5326212395435919\n",
      "Epoch: 11/550, train loss:  1.601, val_loss:  1.583, duration: 0:01:00.759397, learning rate: (0.01, 0.01)\n",
      "Model overwritten at epoch 12, new best val loss 1.4092255546933128\n",
      "Model overwritten at epoch 17, new best val loss 1.3531526497432165\n",
      "Model overwritten at epoch 19, new best val loss 1.2921825119637518\n",
      "Epoch: 21/550, train loss:  1.482, val_loss:  1.427, duration: 0:01:00.585380, learning rate: (0.01, 0.01)\n",
      "Model overwritten at epoch 23, new best val loss 1.2598221585864113\n",
      "Model overwritten at epoch 30, new best val loss 1.2300628175600916\n",
      "Epoch: 31/550, train loss:  1.560, val_loss:  1.230, duration: 0:01:00.846597, learning rate: (0.01, 0.01)\n",
      "Epoch: 41/550, train loss:  1.748, val_loss:  1.565, duration: 0:01:00.747947, learning rate: (0.01, 0.01)\n",
      "Model overwritten at epoch 42, new best val loss 0.8535487323841721\n",
      "Model overwritten at epoch 43, new best val loss 0.7603660982752604\n",
      "Model overwritten at epoch 44, new best val loss 0.734472339168007\n",
      "Model overwritten at epoch 45, new best val loss 0.7145338724950424\n",
      "Model overwritten at epoch 46, new best val loss 0.6754136388789619\n",
      "Model overwritten at epoch 47, new best val loss 0.6526684302711824\n",
      "Model overwritten at epoch 48, new best val loss 0.62500730435474\n",
      "Model overwritten at epoch 50, new best val loss 0.6094896542121914\n",
      "Epoch: 51/550, train loss:  0.529, val_loss:  0.609, duration: 0:01:00.642353, learning rate: (0.001, 0.001)\n",
      "Model overwritten at epoch 51, new best val loss 0.5916069733928331\n",
      "Model overwritten at epoch 55, new best val loss 0.5763330642771258\n",
      "Epoch: 61/550, train loss:  0.484, val_loss:  0.591, duration: 0:01:00.492031, learning rate: (0.001, 0.001)\n",
      "Model overwritten at epoch 63, new best val loss 0.5730597027815628\n",
      "Model overwritten at epoch 65, new best val loss 0.5677059385826979\n",
      "Model overwritten at epoch 68, new best val loss 0.5470042279157689\n",
      "Epoch: 71/550, train loss:  0.474, val_loss:  0.552, duration: 0:01:00.649755, learning rate: (0.001, 0.001)\n",
      "Model overwritten at epoch 71, new best val loss 0.5379954515521068\n",
      "Model overwritten at epoch 76, new best val loss 0.5323363291313198\n",
      "Model overwritten at epoch 80, new best val loss 0.5142804236796797\n",
      "Epoch: 81/550, train loss:  0.451, val_loss:  0.514, duration: 0:01:00.620844, learning rate: (0.001, 0.001)\n",
      "Model overwritten at epoch 83, new best val loss 0.48152872150011583\n",
      "Epoch: 91/550, train loss:  0.419, val_loss:  0.490, duration: 0:01:00.525409, learning rate: (0.001, 0.001)\n",
      "Model overwritten at epoch 91, new best val loss 0.47034077459331963\n",
      "Model overwritten at epoch 98, new best val loss 0.4530755432299626\n",
      "Model overwritten at epoch 99, new best val loss 0.42744260371992826\n",
      "Epoch: 101/550, train loss:  0.387, val_loss:  0.438, duration: 0:01:00.628752, learning rate: (0.001, 0.001)\n",
      "Epoch: 111/550, train loss:  0.355, val_loss:  0.442, duration: 0:01:00.734077, learning rate: (0.001, 0.0001)\n",
      "Model overwritten at epoch 111, new best val loss 0.23977070138830778\n",
      "Model overwritten at epoch 112, new best val loss 0.21735455718620744\n",
      "Model overwritten at epoch 113, new best val loss 0.20882624452128823\n",
      "Model overwritten at epoch 114, new best val loss 0.20367402077128544\n",
      "Model overwritten at epoch 115, new best val loss 0.19804246408283396\n",
      "Model overwritten at epoch 116, new best val loss 0.1935399891102335\n",
      "Model overwritten at epoch 117, new best val loss 0.1931659726711808\n",
      "Model overwritten at epoch 118, new best val loss 0.18610777616553417\n",
      "Model overwritten at epoch 119, new best val loss 0.1851183555796874\n",
      "Model overwritten at epoch 120, new best val loss 0.18440707679673687\n",
      "Epoch: 121/550, train loss:  0.074, val_loss:  0.184, duration: 0:01:00.950672, learning rate: (0.0001, 0.0001)\n",
      "Model overwritten at epoch 121, new best val loss 0.1799390354510758\n",
      "Model overwritten at epoch 123, new best val loss 0.17706443015913065\n",
      "Model overwritten at epoch 124, new best val loss 0.1751756097273852\n",
      "Model overwritten at epoch 126, new best val loss 0.17455324824945426\n",
      "Model overwritten at epoch 127, new best val loss 0.17271868182868555\n",
      "Model overwritten at epoch 128, new best val loss 0.17237633853046982\n",
      "Model overwritten at epoch 130, new best val loss 0.1716384656162279\n",
      "Epoch: 131/550, train loss:  0.052, val_loss:  0.172, duration: 0:01:00.590106, learning rate: (0.0001, 0.0001)\n",
      "Model overwritten at epoch 131, new best val loss 0.1711125713649881\n",
      "Model overwritten at epoch 132, new best val loss 0.1692722967219731\n",
      "Model overwritten at epoch 134, new best val loss 0.16866284012925897\n",
      "Model overwritten at epoch 135, new best val loss 0.16861995392375523\n",
      "Model overwritten at epoch 136, new best val loss 0.16684033423399378\n",
      "Model overwritten at epoch 140, new best val loss 0.1646827175602238\n",
      "Epoch: 141/550, train loss:  0.043, val_loss:  0.165, duration: 0:01:00.636462, learning rate: (0.0001, 0.0001)\n",
      "Model overwritten at epoch 142, new best val loss 0.16417703112156987\n",
      "Model overwritten at epoch 150, new best val loss 0.16237141272115538\n",
      "Epoch: 151/550, train loss:  0.039, val_loss:  0.162, duration: 0:01:00.625424, learning rate: (0.0001, 0.0001)\n",
      "Epoch: 161/550, train loss:  0.037, val_loss:  0.166, duration: 0:01:00.696581, learning rate: (0.0001, 0.0001)\n",
      "Model overwritten at epoch 162, new best val loss 0.15658577632099863\n",
      "Model overwritten at epoch 163, new best val loss 0.1556642517132103\n",
      "Model overwritten at epoch 164, new best val loss 0.1550344453904469\n",
      "Model overwritten at epoch 167, new best val loss 0.15500830293910633\n",
      "Epoch: 171/550, train loss:  0.017, val_loss:  0.155, duration: 0:01:00.590600, learning rate: (1e-05, 1e-05)\n",
      "Epoch: 181/550, train loss:  0.015, val_loss:  0.156, duration: 0:01:00.862446, learning rate: (1.0000000000000002e-06, 1.0000000000000002e-06)\n",
      "Max patience reached, training is terminated at epoch 188\n"
     ]
    }
   ],
   "source": [
    "load_model_weight = '/kaggle/input/calabi-yau-cicy-4-folds/trained_models/CNN-LSTM-384.pt'\n",
    "epochs = 550\n",
    "new_model_name = 'CNN-LSTM-384-d80pc'\n",
    "if load_model_weight is None:\n",
    "    train_losses, test_losses=train_from_scratch_or_load(load_model_weight,new_model_name,  epochs)\n",
    "else:\n",
    "    model, train_losses, test_losses=load_and_retrain(load_model_weight, new_model_name, epochs)"
   ]
  },
  {
   "cell_type": "code",
   "execution_count": 22,
   "id": "7a45ad9d",
   "metadata": {
    "execution": {
     "iopub.execute_input": "2024-05-22T16:43:05.506510Z",
     "iopub.status.busy": "2024-05-22T16:43:05.505732Z",
     "iopub.status.idle": "2024-05-22T16:43:05.856053Z",
     "shell.execute_reply": "2024-05-22T16:43:05.855109Z"
    },
    "papermill": {
     "duration": 0.366966,
     "end_time": "2024-05-22T16:43:05.858165",
     "exception": false,
     "start_time": "2024-05-22T16:43:05.491199",
     "status": "completed"
    },
    "tags": []
   },
   "outputs": [
    {
     "data": {
      "image/png": "[encoded data removed]",
      "text/plain": [
       "<Figure size 640x480 with 1 Axes>"
      ]
     },
     "metadata": {},
     "output_type": "display_data"
    }
   ],
   "source": [
    "plot_losses(train_losses, test_losses)"
   ]
  },
  {
   "cell_type": "markdown",
   "id": "a50ee4db",
   "metadata": {
    "papermill": {
     "duration": 0.013662,
     "end_time": "2024-05-22T16:43:05.886234",
     "exception": false,
     "start_time": "2024-05-22T16:43:05.872572",
     "status": "completed"
    },
    "tags": []
   },
   "source": [
    "# Train, validation, test accuracies"
   ]
  },
  {
   "cell_type": "code",
   "execution_count": 23,
   "id": "a56a548b",
   "metadata": {
    "execution": {
     "iopub.execute_input": "2024-05-22T16:43:05.915032Z",
     "iopub.status.busy": "2024-05-22T16:43:05.914729Z",
     "iopub.status.idle": "2024-05-22T16:43:34.316392Z",
     "shell.execute_reply": "2024-05-22T16:43:34.315479Z"
    },
    "papermill": {
     "duration": 28.418549,
     "end_time": "2024-05-22T16:43:34.318590",
     "exception": false,
     "start_time": "2024-05-22T16:43:05.900041",
     "status": "completed"
    },
    "tags": []
   },
   "outputs": [
    {
     "name": "stdout",
     "output_type": "stream",
     "text": [
      "Train data, target shapes: ((724547, 4), (724547, 4)),\n",
      " train accuracies [99.88489359558456, 99.00296323081871, 99.57062826842152, 94.71807902040862]\n",
      "Validation data, target shapes: ((72455, 4), (72455, 4)),\n",
      " validation accuracies [99.34580084190186, 95.61658960734249, 89.37961493340694, 69.16154854737422]\n"
     ]
    }
   ],
   "source": [
    "#Train accuracy\n",
    "yt, tgt, acct = get_pred_n_acc([model], device, train_loader, num_iter = len(train_loader))\n",
    "#validation accuracy\n",
    "yv, tgv, accv = get_pred_n_acc([model], device, val_loader, num_iter = len(val_loader))\n",
    "print(f'Train data, target shapes: {yt.shape, tgt.shape},\\n train accuracies {acct}')\n",
    "print(f'Validation data, target shapes: {yv.shape, tgv.shape},\\n validation accuracies {accv}')"
   ]
  },
  {
   "cell_type": "code",
   "execution_count": 24,
   "id": "d66f65d7",
   "metadata": {
    "execution": {
     "iopub.execute_input": "2024-05-22T16:43:34.348426Z",
     "iopub.status.busy": "2024-05-22T16:43:34.348143Z",
     "iopub.status.idle": "2024-05-22T16:43:38.045472Z",
     "shell.execute_reply": "2024-05-22T16:43:38.044505Z"
    },
    "papermill": {
     "duration": 3.714781,
     "end_time": "2024-05-22T16:43:38.047747",
     "exception": false,
     "start_time": "2024-05-22T16:43:34.332966",
     "status": "completed"
    },
    "tags": []
   },
   "outputs": [
    {
     "name": "stdout",
     "output_type": "stream",
     "text": [
      "Test data, target shapes: ((108682, 4), (108682, 4)),\n",
      " test accuracies [99.3743214147697, 95.65981487274802, 89.47295780350012, 69.33254816804991]\n"
     ]
    }
   ],
   "source": [
    "#Test accuracy\n",
    "yts, tgts, accts = get_pred_n_acc([model], device, test_loader, num_iter = len(test_loader))\n",
    "print(f'Test data, target shapes: {yts.shape, tgts.shape},\\n test accuracies {accts}')"
   ]
  }
 ],
 "metadata": {
  "kaggle": {
   "accelerator": "gpu",
   "dataSources": [
    {
     "datasetId": 4575883,
     "sourceId": 8483482,
     "sourceType": "datasetVersion"
    }
   ],
   "dockerImageVersionId": 30683,
   "isGpuEnabled": true,
   "isInternetEnabled": true,
   "language": "python",
   "sourceType": "notebook"
  },
  "kernelspec": {
   "display_name": "Python 3",
   "language": "python",
   "name": "python3"
  },
  "language_info": {
   "codemirror_mode": {
    "name": "ipython",
    "version": 3
   },
   "file_extension": ".py",
   "mimetype": "text/x-python",
   "name": "python",
   "nbconvert_exporter": "python",
   "pygments_lexer": "ipython3",
   "version": "3.10.13"
  },
  "papermill": {
   "default_parameters": {},
   "duration": 11524.131193,
   "end_time": "2024-05-22T16:43:39.808636",
   "environment_variables": {},
   "exception": null,
   "input_path": "__notebook__.ipynb",
   "output_path": "__notebook__.ipynb",
   "parameters": {},
   "start_time": "2024-05-22T13:31:35.677443",
   "version": "2.5.0"
  }
 },
 "nbformat": 4,
 "nbformat_minor": 5
}
