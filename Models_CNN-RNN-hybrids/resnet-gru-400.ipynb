{
 "cells": [
  {
   "cell_type": "markdown",
   "id": "a8d08dd7",
   "metadata": {
    "papermill": {
     "duration": 0.00935,
     "end_time": "2024-05-12T09:41:46.951968",
     "exception": false,
     "start_time": "2024-05-12T09:41:46.942618",
     "status": "completed"
    },
    "tags": []
   },
   "source": [
    "# ResNet-GRU-400"
   ]
  },
  {
   "cell_type": "code",
   "execution_count": 1,
   "id": "d0ed0926",
   "metadata": {
    "_cell_guid": "b1076dfc-b9ad-4769-8c92-a6c4dae69d19",
    "_uuid": "8f2839f25d086af736a60e9eeb907d3b93b6e0e5",
    "execution": {
     "iopub.execute_input": "2024-05-12T09:41:46.970786Z",
     "iopub.status.busy": "2024-05-12T09:41:46.970072Z",
     "iopub.status.idle": "2024-05-12T09:41:52.578033Z",
     "shell.execute_reply": "2024-05-12T09:41:52.577262Z"
    },
    "papermill": {
     "duration": 5.619997,
     "end_time": "2024-05-12T09:41:52.580552",
     "exception": false,
     "start_time": "2024-05-12T09:41:46.960555",
     "status": "completed"
    },
    "tags": []
   },
   "outputs": [],
   "source": [
    "import numpy as np\n",
    "import pandas as pd\n",
    "import random\n",
    "import os as os\n",
    "import matplotlib.pyplot as plt\n",
    "import seaborn as sns\n",
    "from datetime import datetime\n",
    "sns.set_style(\"darkgrid\")\n",
    "\n",
    "import torch\n",
    "import torch.nn as nn\n",
    "import torch.nn.functional as F\n",
    "import torch.optim.lr_scheduler as lr_scheduler"
   ]
  },
  {
   "cell_type": "code",
   "execution_count": 2,
   "id": "f398c7a2",
   "metadata": {
    "execution": {
     "iopub.execute_input": "2024-05-12T09:41:52.599968Z",
     "iopub.status.busy": "2024-05-12T09:41:52.599547Z",
     "iopub.status.idle": "2024-05-12T09:41:52.649487Z",
     "shell.execute_reply": "2024-05-12T09:41:52.648587Z"
    },
    "papermill": {
     "duration": 0.062032,
     "end_time": "2024-05-12T09:41:52.651756",
     "exception": false,
     "start_time": "2024-05-12T09:41:52.589724",
     "status": "completed"
    },
    "tags": []
   },
   "outputs": [
    {
     "name": "stdout",
     "output_type": "stream",
     "text": [
      "cuda:0\n"
     ]
    }
   ],
   "source": [
    "device = torch.device(\"cuda:0\" if torch.cuda.is_available() else \"cpu\")\n",
    "print(device)"
   ]
  },
  {
   "cell_type": "code",
   "execution_count": 3,
   "id": "53f253db",
   "metadata": {
    "execution": {
     "iopub.execute_input": "2024-05-12T09:41:52.670365Z",
     "iopub.status.busy": "2024-05-12T09:41:52.670058Z",
     "iopub.status.idle": "2024-05-12T09:41:52.679133Z",
     "shell.execute_reply": "2024-05-12T09:41:52.678204Z"
    },
    "papermill": {
     "duration": 0.020508,
     "end_time": "2024-05-12T09:41:52.681125",
     "exception": false,
     "start_time": "2024-05-12T09:41:52.660617",
     "status": "completed"
    },
    "tags": []
   },
   "outputs": [],
   "source": [
    "seed = 42\n",
    "\n",
    "def seed_everything(seed):\n",
    "    random.seed(seed)\n",
    "    os.environ['PYTHONHASHSEED'] = str(seed)\n",
    "    np.random.seed(seed)\n",
    "    torch.manual_seed(seed)\n",
    "    torch.cuda.manual_seed(seed)\n",
    "    torch.cuda.manual_seed_all(seed)\n",
    "    torch.backends.cudnn.deterministic = True\n",
    "\n",
    "seed_everything(seed)"
   ]
  },
  {
   "cell_type": "markdown",
   "id": "924a3a36",
   "metadata": {
    "papermill": {
     "duration": 0.008284,
     "end_time": "2024-05-12T09:41:52.698059",
     "exception": false,
     "start_time": "2024-05-12T09:41:52.689775",
     "status": "completed"
    },
    "tags": []
   },
   "source": [
    "# ResNet-GRU architecture"
   ]
  },
  {
   "cell_type": "code",
   "execution_count": 4,
   "id": "5b6453e0",
   "metadata": {
    "execution": {
     "iopub.execute_input": "2024-05-12T09:41:52.716972Z",
     "iopub.status.busy": "2024-05-12T09:41:52.716720Z",
     "iopub.status.idle": "2024-05-12T09:41:52.725808Z",
     "shell.execute_reply": "2024-05-12T09:41:52.725048Z"
    },
    "papermill": {
     "duration": 0.021212,
     "end_time": "2024-05-12T09:41:52.727665",
     "exception": false,
     "start_time": "2024-05-12T09:41:52.706453",
     "status": "completed"
    },
    "tags": []
   },
   "outputs": [],
   "source": [
    "# CNN ###############################\n",
    "class ResNet_block(nn.Module):    \n",
    "    def __init__(self, filters, kernels):\n",
    "        super().__init__()\n",
    "        f1, f2, f3 = filters\n",
    "        k1, k2, k3 = kernels\n",
    "        self.conv1 = nn.Conv2d(1,f1, k1, 1)\n",
    "        self.bn1 = nn.BatchNorm2d(f1)\n",
    "        self.conv2 = nn.Conv2d(f1,f2, k2, 1)\n",
    "        self.bn2 = nn.BatchNorm2d(f2)\n",
    "        self.conv3 = nn.Conv2d(f2,f3, k3, 1)\n",
    "        self.maxpool = nn.MaxPool2d(2,2)\n",
    "        self.flat = nn.Flatten()\n",
    "        self.relu = nn.ReLU()\n",
    "        #this layer is to get the identity to have\n",
    "        #the same shape as the other branch, bias = False\n",
    "        self.fc0 = nn.Linear(320,256, bias = False)\n",
    "        #convolution branch/main branch\n",
    "        self.conv_total = nn.Sequential(\n",
    "            self.conv1,\n",
    "            self.maxpool,\n",
    "            #self.bn1,\n",
    "            self.relu,\n",
    "            self.conv2,\n",
    "            self.maxpool,\n",
    "            #self.bn2,\n",
    "            self.relu,\n",
    "            self.conv3,\n",
    "            self.flat\n",
    "        )\n",
    "        #shortcut branch\n",
    "        self.shortcut = nn.Sequential(self.flat, self.fc0)\n",
    "\n",
    "    def forward(self,x):\n",
    "        #x_i and x must have the same shape\n",
    "        x_i = self.shortcut(x)\n",
    "        x = self.conv_total(x)\n",
    "        xt = x+ x_i\n",
    "        #xt = torch.cat([x, x_i], dim = 1) \n",
    "        return xt"
   ]
  },
  {
   "cell_type": "code",
   "execution_count": 5,
   "id": "d1e8565c",
   "metadata": {
    "execution": {
     "iopub.execute_input": "2024-05-12T09:41:52.745605Z",
     "iopub.status.busy": "2024-05-12T09:41:52.745263Z",
     "iopub.status.idle": "2024-05-12T09:41:52.752505Z",
     "shell.execute_reply": "2024-05-12T09:41:52.751698Z"
    },
    "papermill": {
     "duration": 0.018241,
     "end_time": "2024-05-12T09:41:52.754301",
     "exception": false,
     "start_time": "2024-05-12T09:41:52.736060",
     "status": "completed"
    },
    "tags": []
   },
   "outputs": [],
   "source": [
    "class RNN_block(nn.Module):\n",
    "    def __init__(self, n_inputs, n_hidden, n_rnnlayers, n_outputs):\n",
    "        super(RNN_block,self).__init__()\n",
    "        self.D = n_inputs\n",
    "        self.M = n_hidden\n",
    "        self.K = n_outputs\n",
    "        self.L = n_rnnlayers        \n",
    "        #self.lstm = nn.LSTM(input_size = self.D,\n",
    "        #                   hidden_size = self.M,\n",
    "        #                   num_layers = self.L,\n",
    "        #                   batch_first = True)    \n",
    "        self.gru = nn.GRU(input_size = self.D,\n",
    "                           hidden_size = self.M,\n",
    "                           num_layers = self.L,\n",
    "                           batch_first = True,\n",
    "                          bidirectional=False)\n",
    "        #self.fc1 = nn.Linear(self.M, 128)\n",
    "        #self.fc2 = nn.Linear(128, self.K)\n",
    "    def forward(self, X):\n",
    "        #input X is NxTxD\n",
    "        #initial hidden state h\n",
    "        #for bidirectional: Need to multiply L by 2\n",
    "        #h0 = torch.zeros(self.L*2, X.size(0), self.M).to(device)\n",
    "        #non-bidirectional\n",
    "        h0 = torch.zeros(self.L, X.size(0), self.M).to(device)\n",
    "        #output is NxTx2M for birdir, NxTxM for non-bidir\n",
    "        out, _ = self.gru(X, h0)   \n",
    "        #we only want h(T) at the final time step\n",
    "        # output is now of shape (N, M)\n",
    "        out = out[:, -1, :]\n",
    "        return out"
   ]
  },
  {
   "cell_type": "code",
   "execution_count": 6,
   "id": "3eeb76d2",
   "metadata": {
    "execution": {
     "iopub.execute_input": "2024-05-12T09:41:52.772240Z",
     "iopub.status.busy": "2024-05-12T09:41:52.771970Z",
     "iopub.status.idle": "2024-05-12T09:41:52.778927Z",
     "shell.execute_reply": "2024-05-12T09:41:52.778154Z"
    },
    "papermill": {
     "duration": 0.01804,
     "end_time": "2024-05-12T09:41:52.780760",
     "exception": false,
     "start_time": "2024-05-12T09:41:52.762720",
     "status": "completed"
    },
    "tags": []
   },
   "outputs": [],
   "source": [
    "class ResNet_RNN_hybrid(nn.Module):\n",
    "    def __init__(self, resnet_block, rnn_block, feat_vec_size):\n",
    "        super(ResNet_RNN_hybrid, self).__init__()\n",
    "        self.resnet_block = resnet_block\n",
    "        self.rnn_block = rnn_block\n",
    "        self.feat_vec_size = feat_vec_size\n",
    "        self.fc1 = nn.Linear(self.feat_vec_size, 1024)\n",
    "        self.fc2 = nn.Linear(1024, 4)\n",
    "        \n",
    "    def forward(self, x):\n",
    "        #output of cnn block is (N,848)\n",
    "        x1 = x.view(-1,1, 16,20)\n",
    "        x1 = self.resnet_block(x1)\n",
    "        #output of rnn block is (N,M )\n",
    "        x2 = self.rnn_block(x)\n",
    "        #concatenate the 2 outputs to produce a feat vec (N, M+208)\n",
    "        xx = torch.cat([x1, x2], dim = 1)\n",
    "        # pass through linear layers\n",
    "        xx = self.fc1(xx)\n",
    "        #final output is 4\n",
    "        xx = self.fc2(xx)      \n",
    "        return xx"
   ]
  },
  {
   "cell_type": "code",
   "execution_count": 7,
   "id": "2bd81168",
   "metadata": {
    "execution": {
     "iopub.execute_input": "2024-05-12T09:41:52.798955Z",
     "iopub.status.busy": "2024-05-12T09:41:52.798351Z",
     "iopub.status.idle": "2024-05-12T09:41:53.143926Z",
     "shell.execute_reply": "2024-05-12T09:41:53.142946Z"
    },
    "papermill": {
     "duration": 0.356736,
     "end_time": "2024-05-12T09:41:53.145903",
     "exception": false,
     "start_time": "2024-05-12T09:41:52.789167",
     "status": "completed"
    },
    "tags": []
   },
   "outputs": [
    {
     "data": {
      "text/plain": [
       "ResNet_RNN_hybrid(\n",
       "  (resnet_block): ResNet_block(\n",
       "    (conv1): Conv2d(1, 128, kernel_size=(4, 4), stride=(1, 1))\n",
       "    (bn1): BatchNorm2d(128, eps=1e-05, momentum=0.1, affine=True, track_running_stats=True)\n",
       "    (conv2): Conv2d(128, 64, kernel_size=(3, 3), stride=(1, 1))\n",
       "    (bn2): BatchNorm2d(64, eps=1e-05, momentum=0.1, affine=True, track_running_stats=True)\n",
       "    (conv3): Conv2d(64, 128, kernel_size=(2, 2), stride=(1, 1))\n",
       "    (maxpool): MaxPool2d(kernel_size=2, stride=2, padding=0, dilation=1, ceil_mode=False)\n",
       "    (flat): Flatten(start_dim=1, end_dim=-1)\n",
       "    (relu): ReLU()\n",
       "    (fc0): Linear(in_features=320, out_features=256, bias=False)\n",
       "    (conv_total): Sequential(\n",
       "      (0): Conv2d(1, 128, kernel_size=(4, 4), stride=(1, 1))\n",
       "      (1): MaxPool2d(kernel_size=2, stride=2, padding=0, dilation=1, ceil_mode=False)\n",
       "      (2): ReLU()\n",
       "      (3): Conv2d(128, 64, kernel_size=(3, 3), stride=(1, 1))\n",
       "      (4): MaxPool2d(kernel_size=2, stride=2, padding=0, dilation=1, ceil_mode=False)\n",
       "      (5): ReLU()\n",
       "      (6): Conv2d(64, 128, kernel_size=(2, 2), stride=(1, 1))\n",
       "      (7): Flatten(start_dim=1, end_dim=-1)\n",
       "    )\n",
       "    (shortcut): Sequential(\n",
       "      (0): Flatten(start_dim=1, end_dim=-1)\n",
       "      (1): Linear(in_features=320, out_features=256, bias=False)\n",
       "    )\n",
       "  )\n",
       "  (rnn_block): RNN_block(\n",
       "    (gru): GRU(20, 400, num_layers=2, batch_first=True)\n",
       "  )\n",
       "  (fc1): Linear(in_features=656, out_features=1024, bias=True)\n",
       "  (fc2): Linear(in_features=1024, out_features=4, bias=True)\n",
       ")"
      ]
     },
     "execution_count": 7,
     "metadata": {},
     "output_type": "execute_result"
    }
   ],
   "source": [
    "resnet_block = ResNet_block([128,64,128], [4,3,2])\n",
    "resnet_block.to(device)\n",
    "\n",
    "#gru_block = RNN_block(20, 256, 2, 4)\n",
    "gru_block = RNN_block(20, 400, 2, 4)\n",
    "gru_block.to(device)\n",
    "\n",
    "model = ResNet_RNN_hybrid(resnet_block, gru_block, 400+256)\n",
    "model.to(device)"
   ]
  },
  {
   "cell_type": "code",
   "execution_count": 8,
   "id": "057f664e",
   "metadata": {
    "execution": {
     "iopub.execute_input": "2024-05-12T09:41:53.164945Z",
     "iopub.status.busy": "2024-05-12T09:41:53.164635Z",
     "iopub.status.idle": "2024-05-12T09:41:53.169991Z",
     "shell.execute_reply": "2024-05-12T09:41:53.168985Z"
    },
    "papermill": {
     "duration": 0.016842,
     "end_time": "2024-05-12T09:41:53.171885",
     "exception": false,
     "start_time": "2024-05-12T09:41:53.155043",
     "status": "completed"
    },
    "tags": []
   },
   "outputs": [
    {
     "name": "stdout",
     "output_type": "stream",
     "text": [
      "2336836\n"
     ]
    }
   ],
   "source": [
    "#count the number of parameters in the model\n",
    "params = [p.numel() for p in model.parameters() if p.requires_grad]\n",
    "print(sum(params))"
   ]
  },
  {
   "cell_type": "markdown",
   "id": "f801bd96",
   "metadata": {
    "papermill": {
     "duration": 0.008615,
     "end_time": "2024-05-12T09:41:53.189211",
     "exception": false,
     "start_time": "2024-05-12T09:41:53.180596",
     "status": "completed"
    },
    "tags": []
   },
   "source": [
    "# Load data, define dataset and dataloaders"
   ]
  },
  {
   "cell_type": "code",
   "execution_count": 9,
   "id": "e7c02aaf",
   "metadata": {
    "execution": {
     "iopub.execute_input": "2024-05-12T09:41:53.208915Z",
     "iopub.status.busy": "2024-05-12T09:41:53.208638Z",
     "iopub.status.idle": "2024-05-12T09:42:12.200916Z",
     "shell.execute_reply": "2024-05-12T09:42:12.199906Z"
    },
    "papermill": {
     "duration": 19.004766,
     "end_time": "2024-05-12T09:42:12.203082",
     "exception": false,
     "start_time": "2024-05-12T09:41:53.198316",
     "status": "completed"
    },
    "tags": []
   },
   "outputs": [
    {
     "name": "stdout",
     "output_type": "stream",
     "text": [
      "(652092, 16, 20) (72455, 16, 20) (181137, 16, 20)\n",
      "(652092, 4) (72455, 4) (181137, 4)\n"
     ]
    }
   ],
   "source": [
    "X_train = np.load('/kaggle/input/cicy4-data-processing/conf_Xtrain.npy')\n",
    "X_test = np.load('/kaggle/input/cicy4-data-processing/conf_Xtest.npy')\n",
    "X_valid = np.load('/kaggle/input/cicy4-data-processing/conf_Xvalid.npy')\n",
    "\n",
    "y_train = np.load('/kaggle/input/cicy4-data-processing/hodge_ytrain.npy')\n",
    "y_test= np.load('/kaggle/input/cicy4-data-processing/hodge_ytest.npy')\n",
    "y_valid = np.load('/kaggle/input/cicy4-data-processing/hodge_yvalid.npy')\n",
    "\n",
    "print(X_train.shape, X_valid.shape, X_test.shape)\n",
    "print(y_train.shape, y_valid.shape, y_test.shape)"
   ]
  },
  {
   "cell_type": "code",
   "execution_count": 10,
   "id": "7ccd5b49",
   "metadata": {
    "execution": {
     "iopub.execute_input": "2024-05-12T09:42:12.222637Z",
     "iopub.status.busy": "2024-05-12T09:42:12.222303Z",
     "iopub.status.idle": "2024-05-12T09:42:12.695253Z",
     "shell.execute_reply": "2024-05-12T09:42:12.694445Z"
    },
    "papermill": {
     "duration": 0.48509,
     "end_time": "2024-05-12T09:42:12.697570",
     "exception": false,
     "start_time": "2024-05-12T09:42:12.212480",
     "status": "completed"
    },
    "tags": []
   },
   "outputs": [],
   "source": [
    "#Convert data to torch tensor with float32 precision \n",
    "#(needed to be compatible with the floating decision of the network parameters)\n",
    "X_train = torch.from_numpy(X_train.astype(np.float32))\n",
    "y_train = torch.from_numpy(y_train.astype(np.float32))\n",
    "\n",
    "X_valid = torch.from_numpy(X_valid.astype(np.float32)) \n",
    "y_valid = torch.from_numpy(y_valid.astype(np.float32)) \n",
    "\n",
    "X_test = torch.from_numpy(X_test.astype(np.float32)) \n",
    "y_test= torch.from_numpy(y_test.astype(np.float32))"
   ]
  },
  {
   "cell_type": "code",
   "execution_count": 11,
   "id": "7a3cd382",
   "metadata": {
    "execution": {
     "iopub.execute_input": "2024-05-12T09:42:12.717162Z",
     "iopub.status.busy": "2024-05-12T09:42:12.716864Z",
     "iopub.status.idle": "2024-05-12T09:42:12.722923Z",
     "shell.execute_reply": "2024-05-12T09:42:12.722080Z"
    },
    "papermill": {
     "duration": 0.018024,
     "end_time": "2024-05-12T09:42:12.724871",
     "exception": false,
     "start_time": "2024-05-12T09:42:12.706847",
     "status": "completed"
    },
    "tags": []
   },
   "outputs": [],
   "source": [
    "class CICY4Dataset(torch.utils.data.Dataset):\n",
    "    def __init__(self, X, y):\n",
    "        self.X = X\n",
    "        self.y = y        \n",
    "    def __len__(self):\n",
    "        return len(self.X)      \n",
    "    def __getitem__(self, idx):\n",
    "        X0 = self.X[idx]\n",
    "        y0 = self.y[idx]  \n",
    "        return X0, y0\n",
    "        \n",
    "train_set = CICY4Dataset(X_train, y_train)\n",
    "val_set = CICY4Dataset(X_valid, y_valid)\n",
    "test_set = CICY4Dataset(X_test, y_test)"
   ]
  },
  {
   "cell_type": "code",
   "execution_count": 12,
   "id": "b20748db",
   "metadata": {
    "execution": {
     "iopub.execute_input": "2024-05-12T09:42:12.743692Z",
     "iopub.status.busy": "2024-05-12T09:42:12.743421Z",
     "iopub.status.idle": "2024-05-12T09:42:12.748447Z",
     "shell.execute_reply": "2024-05-12T09:42:12.747623Z"
    },
    "papermill": {
     "duration": 0.016741,
     "end_time": "2024-05-12T09:42:12.750407",
     "exception": false,
     "start_time": "2024-05-12T09:42:12.733666",
     "status": "completed"
    },
    "tags": []
   },
   "outputs": [],
   "source": [
    "from torch.utils.data import DataLoader\n",
    "\n",
    "train_loader = DataLoader(train_set, batch_size=128, shuffle=True)\n",
    "val_loader = DataLoader(val_set, batch_size=128, shuffle=False)\n",
    "test_loader = DataLoader(test_set, batch_size=128, shuffle=False)"
   ]
  },
  {
   "cell_type": "code",
   "execution_count": 13,
   "id": "df08daaa",
   "metadata": {
    "execution": {
     "iopub.execute_input": "2024-05-12T09:42:12.769419Z",
     "iopub.status.busy": "2024-05-12T09:42:12.769139Z",
     "iopub.status.idle": "2024-05-12T09:42:12.792714Z",
     "shell.execute_reply": "2024-05-12T09:42:12.791819Z"
    },
    "papermill": {
     "duration": 0.03516,
     "end_time": "2024-05-12T09:42:12.794700",
     "exception": false,
     "start_time": "2024-05-12T09:42:12.759540",
     "status": "completed"
    },
    "tags": []
   },
   "outputs": [
    {
     "name": "stdout",
     "output_type": "stream",
     "text": [
      "Train loader contains 5095 batches, each of size 128\n",
      "Valid loader contains 567 batches, each of size 128\n",
      "Test loader contains 1416 batches, each of size 128\n",
      "torch.float32\n",
      "Each data and target batch have the following shape\n",
      "torch.Size([128, 16, 20]) torch.Size([128, 4])\n"
     ]
    }
   ],
   "source": [
    "print(f'Train loader contains {len(train_loader)} batches, each of size 128')\n",
    "print(f'Valid loader contains {len(val_loader)} batches, each of size 128')\n",
    "print(f'Test loader contains {len(test_loader)} batches, each of size 128')\n",
    "#d, t = next(iter(train_loader))\n",
    "#print(d.dtype)\n",
    "#print('Each data and target batch have the following shape')\n",
    "#print(d.shape, t.shape)\n",
    "\n",
    "for d, t in test_loader:\n",
    "    print(d.dtype)\n",
    "    print('Each data and target batch have the following shape')\n",
    "    print(d.shape, t.shape)\n",
    "    break"
   ]
  },
  {
   "cell_type": "markdown",
   "id": "355ee917",
   "metadata": {
    "papermill": {
     "duration": 0.008703,
     "end_time": "2024-05-12T09:42:12.812303",
     "exception": false,
     "start_time": "2024-05-12T09:42:12.803600",
     "status": "completed"
    },
    "tags": []
   },
   "source": [
    "# Shape tracing"
   ]
  },
  {
   "cell_type": "code",
   "execution_count": 14,
   "id": "24af261f",
   "metadata": {
    "execution": {
     "iopub.execute_input": "2024-05-12T09:42:12.831208Z",
     "iopub.status.busy": "2024-05-12T09:42:12.830943Z",
     "iopub.status.idle": "2024-05-12T09:42:13.305986Z",
     "shell.execute_reply": "2024-05-12T09:42:13.305148Z"
    },
    "papermill": {
     "duration": 0.486837,
     "end_time": "2024-05-12T09:42:13.308180",
     "exception": false,
     "start_time": "2024-05-12T09:42:12.821343",
     "status": "completed"
    },
    "tags": []
   },
   "outputs": [
    {
     "name": "stdout",
     "output_type": "stream",
     "text": [
      "CNN BLOCK SHAPE TRACING\n",
      "Original shape of the image before passing through the network: \n",
      " torch.Size([16, 20])\n",
      "\n",
      "Reshape the size to take in account the batch number\n",
      "The new size is torch.Size([1, 1, 16, 20])\n",
      "\n",
      "Shape of the image after passing through the shortcut: \n",
      " torch.Size([1, 256])\n",
      "\n",
      "Shape of the image after passing through Sequential(\n",
      "  (0): Conv2d(1, 128, kernel_size=(4, 4), stride=(1, 1))\n",
      "  (1): MaxPool2d(kernel_size=2, stride=2, padding=0, dilation=1, ceil_mode=False)\n",
      "  (2): ReLU()\n",
      "  (3): Conv2d(128, 64, kernel_size=(3, 3), stride=(1, 1))\n",
      "  (4): MaxPool2d(kernel_size=2, stride=2, padding=0, dilation=1, ceil_mode=False)\n",
      "  (5): ReLU()\n",
      "  (6): Conv2d(64, 128, kernel_size=(2, 2), stride=(1, 1))\n",
      "  (7): Flatten(start_dim=1, end_dim=-1)\n",
      "): \n",
      " torch.Size([1, 256])\n",
      "\n",
      "After flattening torch.Size([1, 256])\n",
      "After adding 2 branches: torch.Size([1, 256])\n"
     ]
    }
   ],
   "source": [
    " X = X_train[0].to(device)\n",
    "print('CNN BLOCK SHAPE TRACING')\n",
    "print(f'Original shape of the image before passing through the network: \\n {X.shape}\\n')\n",
    "\n",
    "print('Reshape the size to take in account the batch number')\n",
    "X = X.view(1,1,16,20)\n",
    "print(f'The new size is {X.shape}\\n')\n",
    "#shortcut branch\n",
    "X_i = resnet_block.shortcut(X)\n",
    "print(f'Shape of the image after passing through the shortcut: \\n {X_i.shape}\\n')\n",
    "#main branch\n",
    "X = resnet_block.conv_total(X)\n",
    "print(f'Shape of the image after passing through {resnet_block.conv_total}: \\n {X.shape}\\n')\n",
    "\n",
    "X = resnet_block.flat(X)\n",
    "print(f'After flattening {X.shape}')\n",
    "# adding 2 branches\n",
    "Xt = X+X_i\n",
    "print(f'After adding 2 branches: {Xt.shape}')\n"
   ]
  },
  {
   "cell_type": "code",
   "execution_count": 15,
   "id": "7844887b",
   "metadata": {
    "execution": {
     "iopub.execute_input": "2024-05-12T09:42:13.328130Z",
     "iopub.status.busy": "2024-05-12T09:42:13.327837Z",
     "iopub.status.idle": "2024-05-12T09:42:13.410267Z",
     "shell.execute_reply": "2024-05-12T09:42:13.409053Z"
    },
    "papermill": {
     "duration": 0.094569,
     "end_time": "2024-05-12T09:42:13.412280",
     "exception": false,
     "start_time": "2024-05-12T09:42:13.317711",
     "status": "completed"
    },
    "tags": []
   },
   "outputs": [
    {
     "name": "stdout",
     "output_type": "stream",
     "text": [
      "RNN BLOCK SHAPE TRACING\n",
      "Original shape of the image before passing through the network: \n",
      " torch.Size([16, 20])\n",
      "\n",
      "Reshape the size to take in account the batch number\n",
      "The new size is torch.Size([1, 16, 20])\n",
      "\n",
      "Shape of the image after passing through the GRU(20, 400, num_layers=2, batch_first=True): \n",
      " torch.Size([1, 16, 400])\n",
      "\n",
      "The final output shape is torch.Size([1, 400])\n"
     ]
    }
   ],
   "source": [
    " X = X_train[0].to(device)\n",
    "\n",
    "print('RNN BLOCK SHAPE TRACING')\n",
    "print(f'Original shape of the image before passing through the network: \\n {X.shape}\\n')\n",
    "\n",
    "print('Reshape the size to take in account the batch number')\n",
    "X = X.view(1,16,20)\n",
    "print(f'The new size is {X.shape}\\n')\n",
    "\n",
    "#h0 = torch.zeros(gru_block.L*2, X.size(0), gru_block.M).to(device)\n",
    "h0 = torch.zeros(gru_block.L, X.size(0), gru_block.M).to(device)\n",
    "X, _ = gru_block.gru(X, h0)\n",
    "print(f'Shape of the image after passing through the {gru_block.gru}: \\n {X.shape}\\n')\n",
    "\n",
    "#get only the h(T) at the last time step\n",
    "Xg = X[:, -1, :]\n",
    "print(f'The final output shape is {Xg.shape}')\n",
    "#print(X)\n",
    "#print(f'Target: {y}')"
   ]
  },
  {
   "cell_type": "code",
   "execution_count": 16,
   "id": "4138c7cb",
   "metadata": {
    "execution": {
     "iopub.execute_input": "2024-05-12T09:42:13.432130Z",
     "iopub.status.busy": "2024-05-12T09:42:13.431844Z",
     "iopub.status.idle": "2024-05-12T09:42:13.460443Z",
     "shell.execute_reply": "2024-05-12T09:42:13.459324Z"
    },
    "papermill": {
     "duration": 0.040873,
     "end_time": "2024-05-12T09:42:13.462462",
     "exception": false,
     "start_time": "2024-05-12T09:42:13.421589",
     "status": "completed"
    },
    "tags": []
   },
   "outputs": [
    {
     "name": "stdout",
     "output_type": "stream",
     "text": [
      "ResNet-RNN HYBRID BLOCK SHAPE TRACING\n",
      "\n",
      "After Resnet block torch.Size([1, 256])\n",
      "\n",
      "After GRU block torch.Size([1, 400])\n",
      "\n",
      "Shape  after passing through the entire network: \n",
      " torch.Size([1, 4])\n",
      "\n"
     ]
    }
   ],
   "source": [
    "X = X_train[0].to(device)\n",
    "print('ResNet-RNN HYBRID BLOCK SHAPE TRACING\\n')\n",
    "#print(f'Original shape of the image before passing through the network: \\n {X.shape}\\n')\n",
    "\n",
    "#print('Reshape the size to take in account the batch number')\n",
    "X = X.view(1,16,20)\n",
    "#print(f'The new size is {X.shape}\\n')\n",
    "X1 = model.resnet_block(X.view(1,1,16,20))\n",
    "print(f'After Resnet block {X1.shape}\\n')\n",
    "\n",
    "X2= model.rnn_block(X)\n",
    "print(f'After GRU block {X2.shape}\\n')\n",
    "\n",
    "X = model(X)\n",
    "print(f'Shape  after passing through the entire network: \\n {X.shape}\\n')"
   ]
  },
  {
   "cell_type": "markdown",
   "id": "5145240a",
   "metadata": {
    "papermill": {
     "duration": 0.008887,
     "end_time": "2024-05-12T09:42:13.480573",
     "exception": false,
     "start_time": "2024-05-12T09:42:13.471686",
     "status": "completed"
    },
    "tags": []
   },
   "source": [
    "# Utility functions for training"
   ]
  },
  {
   "cell_type": "code",
   "execution_count": 17,
   "id": "7aebb0de",
   "metadata": {
    "execution": {
     "iopub.execute_input": "2024-05-12T09:42:13.500354Z",
     "iopub.status.busy": "2024-05-12T09:42:13.500035Z",
     "iopub.status.idle": "2024-05-12T09:42:13.506192Z",
     "shell.execute_reply": "2024-05-12T09:42:13.505380Z"
    },
    "papermill": {
     "duration": 0.018236,
     "end_time": "2024-05-12T09:42:13.508195",
     "exception": false,
     "start_time": "2024-05-12T09:42:13.489959",
     "status": "completed"
    },
    "tags": []
   },
   "outputs": [],
   "source": [
    "def train_one_epoch(model, criterion, optimizer, train_loader, cnn = False):\n",
    "    model.train()\n",
    "    train_loss = []\n",
    "    for inputs, target in train_loader:\n",
    "        if cnn:\n",
    "            inputs = inputs.view(batch_size,1,16,20)\n",
    "        inputs, target = inputs.to(device), target.to(device)\n",
    "        optimizer.zero_grad()\n",
    "        out = model(inputs)\n",
    "        loss = criterion(out, target)\n",
    "        loss.backward()\n",
    "        optimizer.step()\n",
    "        train_loss.append(loss.item())\n",
    "    #average the train_loss list in for all batches in the train_gen\n",
    "    train_loss = np.mean(train_loss)    \n",
    "    return train_loss"
   ]
  },
  {
   "cell_type": "code",
   "execution_count": 18,
   "id": "b7fea541",
   "metadata": {
    "execution": {
     "iopub.execute_input": "2024-05-12T09:42:13.527683Z",
     "iopub.status.busy": "2024-05-12T09:42:13.527419Z",
     "iopub.status.idle": "2024-05-12T09:42:13.533638Z",
     "shell.execute_reply": "2024-05-12T09:42:13.532750Z"
    },
    "papermill": {
     "duration": 0.017991,
     "end_time": "2024-05-12T09:42:13.535338",
     "exception": false,
     "start_time": "2024-05-12T09:42:13.517347",
     "status": "completed"
    },
    "tags": []
   },
   "outputs": [],
   "source": [
    "def validate_one_epoch(model, criterion, optimizer, val_loader, cnn = False):\n",
    "    model.eval()\n",
    "    test_loss = []\n",
    "    for inputs, target in val_loader:\n",
    "        if cnn:\n",
    "            inputs = inputs.view(batch_size,1,16,20)\n",
    "        inputs, target = inputs.to(device), target.to(device)\n",
    "        out = model(inputs)\n",
    "        loss = criterion(out, target)\n",
    "        test_loss.append(loss.item())\n",
    "    #average the test_loss list in for all batches in the test_gen\n",
    "    test_loss = np.mean(test_loss)\n",
    "    return test_loss"
   ]
  },
  {
   "cell_type": "code",
   "execution_count": 19,
   "id": "c05e3224",
   "metadata": {
    "execution": {
     "iopub.execute_input": "2024-05-12T09:42:13.554761Z",
     "iopub.status.busy": "2024-05-12T09:42:13.554499Z",
     "iopub.status.idle": "2024-05-12T09:42:13.564861Z",
     "shell.execute_reply": "2024-05-12T09:42:13.564042Z"
    },
    "papermill": {
     "duration": 0.022258,
     "end_time": "2024-05-12T09:42:13.566761",
     "exception": false,
     "start_time": "2024-05-12T09:42:13.544503",
     "status": "completed"
    },
    "tags": []
   },
   "outputs": [],
   "source": [
    "def batch_gd_scheduler(model, new_model_name, criterion, optimizer, train_loader, val_loader, scheduler,\n",
    "                         epochs, device, batch_size=128,  cnn = False):\n",
    "    train_losses = np.zeros(epochs)\n",
    "    test_losses = np.zeros(epochs)\n",
    "    patience = 0\n",
    "    best_loss = 1000\n",
    "    max_patience = 20\n",
    "    for i in range(epochs):\n",
    "        t0 = datetime.now()\n",
    "        train_loss = train_one_epoch(model, criterion, optimizer,train_loader)\n",
    "        test_loss = validate_one_epoch(model, criterion, optimizer,val_loader)\n",
    "        #Early stopping based on test loss\n",
    "        if i == 0:\n",
    "            best_loss = test_loss   \n",
    "            torch.save(model, f'/kaggle/working/{new_model_name}.pt')\n",
    "            print(f'Model saved as {new_model_name} at epoch {i}')\n",
    "        else:\n",
    "            if test_loss < best_loss:\n",
    "                best_loss = test_loss\n",
    "                torch.save(model, f'/kaggle/working/{new_model_name}.pt')\n",
    "                print(f'Model overwritten at epoch {i}, new best val loss {best_loss: .4f}')\n",
    "                patience = 0\n",
    "            else:\n",
    "                patience = patience +1\n",
    "                #print(f'No improvement, current patience level is {patience} at epoch {i}')\n",
    "        if patience > max_patience:\n",
    "            print(f'Max patience reached, training is terminated at epoch {i}')\n",
    "            break\n",
    "        #if early_stopper.early_stop(test_loss):             \n",
    "        #    break\n",
    "        #Apply scheduler after the train+validate parts\n",
    "        before_lr = optimizer.param_groups[0][\"lr\"]\n",
    "        scheduler.step(test_loss)\n",
    "        after_lr = optimizer.param_groups[0][\"lr\"]\n",
    "        train_losses[i] = train_loss\n",
    "        test_losses[i] = test_loss\n",
    "        #write the losses into a csv file\n",
    "        loss_dict = {'train_loss': train_losses, 'test_loss': test_losses}\n",
    "        dd = pd.DataFrame(loss_dict)\n",
    "        dd.to_csv('loss_dict_resnet_gru_400.csv', index = False)\n",
    "        dt = datetime.now()-t0\n",
    "        if i%10==0:\n",
    "            print(f'Epoch: {i}/{epochs}, train loss: {train_loss: .3f}, val_loss: {test_loss: .3f}, duration: {dt}, learning rate: {before_lr, after_lr}')\n",
    "    return train_losses, test_losses"
   ]
  },
  {
   "cell_type": "code",
   "execution_count": 20,
   "id": "37c5c884",
   "metadata": {
    "execution": {
     "iopub.execute_input": "2024-05-12T09:42:13.586279Z",
     "iopub.status.busy": "2024-05-12T09:42:13.586046Z",
     "iopub.status.idle": "2024-05-12T09:42:13.592503Z",
     "shell.execute_reply": "2024-05-12T09:42:13.591702Z"
    },
    "papermill": {
     "duration": 0.01839,
     "end_time": "2024-05-12T09:42:13.594429",
     "exception": false,
     "start_time": "2024-05-12T09:42:13.576039",
     "status": "completed"
    },
    "tags": []
   },
   "outputs": [],
   "source": [
    "def train_from_scratch_or_load(load_model_weight,new_model_name, epochs, cnn = False):    \n",
    "    if load_model_weight==None:\n",
    "        #criterion = nn.MSELoss()\n",
    "        criterion = nn.HuberLoss()\n",
    "        optimizer = torch.optim.AdamW(model.parameters(), lr=0.01)\n",
    "        scheduler = lr_scheduler.ReduceLROnPlateau(optimizer, 'min', factor=0.1, min_lr = 1e-7)\n",
    "        train_losses, test_losses=batch_gd_scheduler(model, new_model_name, criterion, \n",
    "                                                     optimizer,train_loader, val_loader,\n",
    "                                                      scheduler, epochs, \n",
    "                                                       device = device, cnn=cnn)\n",
    "        return train_losses, test_losses\n",
    "    else:\n",
    "        if torch.cuda.is_available():\n",
    "            trained_model = torch.load(load_model_weight)     \n",
    "        else:\n",
    "            trained_model = torch.load(load_model_weight, map_location=torch.device('cpu'))       \n",
    "        return trained_model"
   ]
  },
  {
   "cell_type": "code",
   "execution_count": 21,
   "id": "5919f0c8",
   "metadata": {
    "execution": {
     "iopub.execute_input": "2024-05-12T09:42:13.613933Z",
     "iopub.status.busy": "2024-05-12T09:42:13.613694Z",
     "iopub.status.idle": "2024-05-12T09:42:13.619451Z",
     "shell.execute_reply": "2024-05-12T09:42:13.618626Z"
    },
    "papermill": {
     "duration": 0.017678,
     "end_time": "2024-05-12T09:42:13.621241",
     "exception": false,
     "start_time": "2024-05-12T09:42:13.603563",
     "status": "completed"
    },
    "tags": []
   },
   "outputs": [],
   "source": [
    "def load_and_retrain(load_model_weight, new_model_name, epochs, cnn=False):\n",
    "    trained_model = torch.load(load_model_weight) \n",
    "    #criterion = nn.MSELoss()\n",
    "    criterion = nn.HuberLoss()\n",
    "    optimizer = torch.optim.AdamW(trained_model.parameters(),lr=0.0001)\n",
    "    scheduler = lr_scheduler.ReduceLROnPlateau(optimizer, 'min', factor=0.5, min_lr = 5e-7)\n",
    "    trained_model.train()\n",
    "    train_losses, test_losses=batch_gd_scheduler(trained_model,new_model_name, criterion, optimizer,\n",
    "                                                 train_loader, val_loader, \n",
    "                                                 scheduler, epochs, \n",
    "                                                 device = device, cnn=cnn)\n",
    "    return trained_model, train_losses, test_losses\n",
    "\n"
   ]
  },
  {
   "cell_type": "code",
   "execution_count": 22,
   "id": "f036b4d0",
   "metadata": {
    "execution": {
     "iopub.execute_input": "2024-05-12T09:42:13.640549Z",
     "iopub.status.busy": "2024-05-12T09:42:13.640271Z",
     "iopub.status.idle": "2024-05-12T09:42:13.644531Z",
     "shell.execute_reply": "2024-05-12T09:42:13.643711Z"
    },
    "papermill": {
     "duration": 0.015867,
     "end_time": "2024-05-12T09:42:13.646292",
     "exception": false,
     "start_time": "2024-05-12T09:42:13.630425",
     "status": "completed"
    },
    "tags": []
   },
   "outputs": [],
   "source": [
    "def plot_losses(train_losses, test_losses):\n",
    "    # Plot the train loss and test loss per iteration\n",
    "    plt.plot(train_losses, label='train loss')\n",
    "    plt.plot(test_losses, label='val loss')\n",
    "    plt.legend()\n",
    "    plt.show()"
   ]
  },
  {
   "cell_type": "code",
   "execution_count": 23,
   "id": "da3c1946",
   "metadata": {
    "execution": {
     "iopub.execute_input": "2024-05-12T09:42:13.665887Z",
     "iopub.status.busy": "2024-05-12T09:42:13.665649Z",
     "iopub.status.idle": "2024-05-12T09:42:13.677955Z",
     "shell.execute_reply": "2024-05-12T09:42:13.677109Z"
    },
    "papermill": {
     "duration": 0.02416,
     "end_time": "2024-05-12T09:42:13.679766",
     "exception": false,
     "start_time": "2024-05-12T09:42:13.655606",
     "status": "completed"
    },
    "tags": []
   },
   "outputs": [],
   "source": [
    "def get_pred_n_acc(models, device, dataloader, num_iter):\n",
    "    i = 0\n",
    "    ypreds =[]\n",
    "    targets = []\n",
    "    #The last batch might not have size 128\n",
    "    while i< num_iter:\n",
    "        for data, target in dataloader:\n",
    "            #this empty list is to hold all models' preds\n",
    "            ypred = []    \n",
    "            data= data.to(device)\n",
    "            data = data.to(torch.float32)\n",
    "            target = target.to(torch.float32)\n",
    "            #append the 'i^th' target\n",
    "            targets.append(target)\n",
    "            for model in models:\n",
    "                model.eval()\n",
    "                yp = model(data)\n",
    "                yp = yp.detach().cpu().numpy()\n",
    "                ypred.append(yp)\n",
    "            #take the mean of all models' predictions\n",
    "            ypred = np.array(ypred).mean(axis = 0)\n",
    "            ypred = np.round(ypred)\n",
    "            i+=1\n",
    "            #append ypred, targets inside the 'i' loop\n",
    "            # append the 'i^th' mean prediction\n",
    "            ypreds.append(ypred)   \n",
    "            if i == num_iter:\n",
    "                break \n",
    "     #Do not convert ypreds, targets to np.array at this point,\n",
    "    #since the last batch has a different size, causing an error !\n",
    "    #CALCULATING ACCURACY    \n",
    "    yp =  np.concatenate([ypreds[j] for j in range(len(ypreds))], axis = 0)\n",
    "    tgs =  np.concatenate([targets[j] for j in range(len(targets))], axis = 0)\n",
    "    h11_acc = ((yp[:,0] == tgs[:,0]).sum())/len(yp)\n",
    "    h21_acc = ((yp[:,1] == tgs[:,1]).sum())/len(yp)\n",
    "    h31_acc = ((yp[:,2] == tgs[:,2]).sum())/len(yp)\n",
    "    h22_acc = ((yp[:,3] == tgs[:,3]).sum())/len(yp)\n",
    "    acc = [h11_acc*100,h21_acc*100,h31_acc*100,h22_acc*100 ]\n",
    "    return  yp, tgs, acc"
   ]
  },
  {
   "cell_type": "markdown",
   "id": "600aa3bd",
   "metadata": {
    "papermill": {
     "duration": 0.009174,
     "end_time": "2024-05-12T09:42:13.698277",
     "exception": false,
     "start_time": "2024-05-12T09:42:13.689103",
     "status": "completed"
    },
    "tags": []
   },
   "source": [
    "# Train loop"
   ]
  },
  {
   "cell_type": "code",
   "execution_count": 24,
   "id": "34063fda",
   "metadata": {
    "execution": {
     "iopub.execute_input": "2024-05-12T09:42:13.717833Z",
     "iopub.status.busy": "2024-05-12T09:42:13.717561Z",
     "iopub.status.idle": "2024-05-12T15:32:52.805343Z",
     "shell.execute_reply": "2024-05-12T15:32:52.804356Z"
    },
    "papermill": {
     "duration": 21039.120725,
     "end_time": "2024-05-12T15:32:52.828383",
     "exception": false,
     "start_time": "2024-05-12T09:42:13.707658",
     "status": "completed"
    },
    "tags": []
   },
   "outputs": [
    {
     "name": "stdout",
     "output_type": "stream",
     "text": [
      "Model saved as ResNet-GRU-400 at epoch 0\n",
      "Epoch: 0/550, train loss:  7.919, val_loss:  7.456, duration: 0:00:54.326498, learning rate: (0.01, 0.01)\n",
      "Model overwritten at epoch 1, new best val loss  7.4444\n",
      "Model overwritten at epoch 4, new best val loss  7.4005\n",
      "Model overwritten at epoch 6, new best val loss  7.3964\n",
      "Model overwritten at epoch 10, new best val loss  7.3882\n",
      "Epoch: 10/550, train loss:  7.607, val_loss:  7.388, duration: 0:00:53.741075, learning rate: (0.01, 0.01)\n",
      "Model overwritten at epoch 14, new best val loss  7.3783\n",
      "Epoch: 20/550, train loss:  7.668, val_loss:  7.687, duration: 0:00:53.872421, learning rate: (0.01, 0.01)\n",
      "Model overwritten at epoch 24, new best val loss  7.3632\n",
      "Epoch: 30/550, train loss:  7.687, val_loss:  7.436, duration: 0:00:53.913395, learning rate: (0.01, 0.01)\n",
      "Model overwritten at epoch 36, new best val loss  7.2961\n",
      "Model overwritten at epoch 37, new best val loss  7.2704\n",
      "Model overwritten at epoch 38, new best val loss  7.2487\n",
      "Model overwritten at epoch 39, new best val loss  7.1434\n",
      "Model overwritten at epoch 40, new best val loss  7.0067\n",
      "Epoch: 40/550, train loss:  7.071, val_loss:  7.007, duration: 0:00:53.786032, learning rate: (0.001, 0.001)\n",
      "Model overwritten at epoch 41, new best val loss  6.9821\n",
      "Model overwritten at epoch 42, new best val loss  6.6648\n",
      "Model overwritten at epoch 43, new best val loss  6.4153\n",
      "Model overwritten at epoch 44, new best val loss  6.1541\n",
      "Model overwritten at epoch 45, new best val loss  5.7686\n",
      "Model overwritten at epoch 46, new best val loss  5.5114\n",
      "Model overwritten at epoch 47, new best val loss  5.4139\n",
      "Model overwritten at epoch 48, new best val loss  4.7978\n",
      "Model overwritten at epoch 50, new best val loss  4.5787\n",
      "Epoch: 50/550, train loss:  4.589, val_loss:  4.579, duration: 0:00:53.715279, learning rate: (0.001, 0.001)\n",
      "Model overwritten at epoch 51, new best val loss  4.0121\n",
      "Model overwritten at epoch 53, new best val loss  3.7108\n",
      "Model overwritten at epoch 54, new best val loss  3.6609\n",
      "Model overwritten at epoch 55, new best val loss  3.4702\n",
      "Model overwritten at epoch 57, new best val loss  3.4093\n",
      "Model overwritten at epoch 58, new best val loss  3.2616\n",
      "Model overwritten at epoch 59, new best val loss  3.2364\n",
      "Model overwritten at epoch 60, new best val loss  3.0379\n",
      "Epoch: 60/550, train loss:  3.234, val_loss:  3.038, duration: 0:00:53.938347, learning rate: (0.001, 0.001)\n",
      "Model overwritten at epoch 68, new best val loss  2.7762\n",
      "Epoch: 70/550, train loss:  2.820, val_loss:  2.865, duration: 0:00:53.879078, learning rate: (0.001, 0.001)\n",
      "Model overwritten at epoch 71, new best val loss  2.6822\n",
      "Model overwritten at epoch 73, new best val loss  2.5486\n",
      "Epoch: 80/550, train loss:  2.537, val_loss:  2.562, duration: 0:00:54.455133, learning rate: (0.001, 0.001)\n",
      "Model overwritten at epoch 82, new best val loss  2.5124\n",
      "Model overwritten at epoch 84, new best val loss  2.4912\n",
      "Model overwritten at epoch 85, new best val loss  2.3722\n",
      "Model overwritten at epoch 89, new best val loss  2.3232\n",
      "Epoch: 90/550, train loss:  2.332, val_loss:  2.476, duration: 0:00:54.445422, learning rate: (0.001, 0.001)\n",
      "Model overwritten at epoch 93, new best val loss  2.2096\n",
      "Model overwritten at epoch 95, new best val loss  2.1832\n",
      "Model overwritten at epoch 97, new best val loss  2.0561\n",
      "Model overwritten at epoch 99, new best val loss  2.0002\n",
      "Epoch: 100/550, train loss:  2.110, val_loss:  2.027, duration: 0:00:54.463393, learning rate: (0.001, 0.001)\n",
      "Model overwritten at epoch 105, new best val loss  1.9892\n",
      "Model overwritten at epoch 107, new best val loss  1.9252\n",
      "Model overwritten at epoch 110, new best val loss  1.8009\n",
      "Epoch: 110/550, train loss:  1.837, val_loss:  1.801, duration: 0:00:54.113075, learning rate: (0.001, 0.001)\n",
      "Model overwritten at epoch 111, new best val loss  1.7551\n",
      "Model overwritten at epoch 114, new best val loss  1.6880\n",
      "Model overwritten at epoch 116, new best val loss  1.6228\n",
      "Model overwritten at epoch 119, new best val loss  1.5895\n",
      "Model overwritten at epoch 120, new best val loss  1.5177\n",
      "Epoch: 120/550, train loss:  1.535, val_loss:  1.518, duration: 0:00:53.822973, learning rate: (0.001, 0.001)\n",
      "Model overwritten at epoch 124, new best val loss  1.4993\n",
      "Model overwritten at epoch 125, new best val loss  1.3490\n",
      "Model overwritten at epoch 127, new best val loss  1.3354\n",
      "Model overwritten at epoch 128, new best val loss  1.2826\n",
      "Model overwritten at epoch 130, new best val loss  1.2726\n",
      "Epoch: 130/550, train loss:  1.249, val_loss:  1.273, duration: 0:00:53.798418, learning rate: (0.001, 0.001)\n",
      "Model overwritten at epoch 131, new best val loss  1.2414\n",
      "Model overwritten at epoch 134, new best val loss  1.1636\n",
      "Model overwritten at epoch 136, new best val loss  1.1336\n",
      "Model overwritten at epoch 139, new best val loss  1.0937\n",
      "Epoch: 140/550, train loss:  1.064, val_loss:  1.147, duration: 0:00:54.203022, learning rate: (0.001, 0.001)\n",
      "Model overwritten at epoch 144, new best val loss  1.0782\n",
      "Model overwritten at epoch 145, new best val loss  1.0716\n",
      "Model overwritten at epoch 146, new best val loss  1.0463\n",
      "Model overwritten at epoch 147, new best val loss  1.0190\n",
      "Model overwritten at epoch 149, new best val loss  0.9972\n",
      "Epoch: 150/550, train loss:  0.944, val_loss:  1.150, duration: 0:00:53.787124, learning rate: (0.001, 0.001)\n",
      "Model overwritten at epoch 152, new best val loss  0.9569\n",
      "Model overwritten at epoch 155, new best val loss  0.9471\n",
      "Model overwritten at epoch 160, new best val loss  0.9390\n",
      "Epoch: 160/550, train loss:  0.853, val_loss:  0.939, duration: 0:00:53.803150, learning rate: (0.001, 0.001)\n",
      "Model overwritten at epoch 161, new best val loss  0.9066\n",
      "Model overwritten at epoch 163, new best val loss  0.8758\n",
      "Model overwritten at epoch 165, new best val loss  0.8664\n",
      "Model overwritten at epoch 167, new best val loss  0.8649\n",
      "Model overwritten at epoch 168, new best val loss  0.8267\n",
      "Epoch: 170/550, train loss:  0.784, val_loss:  0.900, duration: 0:00:54.192468, learning rate: (0.001, 0.001)\n",
      "Model overwritten at epoch 171, new best val loss  0.8199\n",
      "Epoch: 180/550, train loss:  0.732, val_loss:  0.867, duration: 0:00:53.959714, learning rate: (0.001, 0.001)\n",
      "Model overwritten at epoch 182, new best val loss  0.7820\n",
      "Model overwritten at epoch 188, new best val loss  0.7280\n",
      "Epoch: 190/550, train loss:  0.691, val_loss:  0.797, duration: 0:00:54.506001, learning rate: (0.001, 0.001)\n",
      "Model overwritten at epoch 195, new best val loss  0.7080\n",
      "Model overwritten at epoch 200, new best val loss  0.6930\n",
      "Epoch: 200/550, train loss:  0.641, val_loss:  0.693, duration: 0:00:54.389903, learning rate: (0.001, 0.001)\n",
      "Model overwritten at epoch 205, new best val loss  0.6921\n",
      "Model overwritten at epoch 210, new best val loss  0.6616\n",
      "Epoch: 210/550, train loss:  0.618, val_loss:  0.662, duration: 0:00:54.541536, learning rate: (0.001, 0.001)\n",
      "Model overwritten at epoch 215, new best val loss  0.6571\n",
      "Model overwritten at epoch 219, new best val loss  0.6550\n",
      "Epoch: 220/550, train loss:  0.589, val_loss:  0.714, duration: 0:00:54.337147, learning rate: (0.001, 0.001)\n",
      "Model overwritten at epoch 227, new best val loss  0.6546\n",
      "Model overwritten at epoch 229, new best val loss  0.6314\n",
      "Model overwritten at epoch 230, new best val loss  0.6045\n",
      "Epoch: 230/550, train loss:  0.561, val_loss:  0.604, duration: 0:00:54.353585, learning rate: (0.001, 0.001)\n",
      "Model overwritten at epoch 240, new best val loss  0.5876\n",
      "Epoch: 240/550, train loss:  0.529, val_loss:  0.588, duration: 0:00:54.427154, learning rate: (0.001, 0.001)\n",
      "Model overwritten at epoch 242, new best val loss  0.5594\n",
      "Model overwritten at epoch 247, new best val loss  0.5500\n",
      "Epoch: 250/550, train loss:  0.510, val_loss:  0.569, duration: 0:00:54.384670, learning rate: (0.001, 0.001)\n",
      "Model overwritten at epoch 256, new best val loss  0.5466\n",
      "Epoch: 260/550, train loss:  0.496, val_loss:  0.589, duration: 0:00:54.549995, learning rate: (0.001, 0.001)\n",
      "Model overwritten at epoch 263, new best val loss  0.5309\n",
      "Epoch: 270/550, train loss:  0.482, val_loss:  0.544, duration: 0:00:54.342008, learning rate: (0.001, 0.001)\n",
      "Model overwritten at epoch 271, new best val loss  0.5226\n",
      "Model overwritten at epoch 276, new best val loss  0.5175\n",
      "Epoch: 280/550, train loss:  0.458, val_loss:  0.534, duration: 0:00:54.440524, learning rate: (0.001, 0.001)\n",
      "Model overwritten at epoch 283, new best val loss  0.5036\n",
      "Epoch: 290/550, train loss:  0.445, val_loss:  0.721, duration: 0:00:54.369627, learning rate: (0.001, 0.001)\n",
      "Model overwritten at epoch 291, new best val loss  0.4754\n",
      "Epoch: 300/550, train loss:  0.432, val_loss:  0.561, duration: 0:00:54.403553, learning rate: (0.001, 0.001)\n",
      "Model overwritten at epoch 303, new best val loss  0.2978\n",
      "Model overwritten at epoch 304, new best val loss  0.2819\n",
      "Model overwritten at epoch 305, new best val loss  0.2637\n",
      "Model overwritten at epoch 306, new best val loss  0.2587\n",
      "Model overwritten at epoch 307, new best val loss  0.2522\n",
      "Model overwritten at epoch 308, new best val loss  0.2516\n",
      "Model overwritten at epoch 309, new best val loss  0.2445\n",
      "Model overwritten at epoch 310, new best val loss  0.2416\n",
      "Epoch: 310/550, train loss:  0.124, val_loss:  0.242, duration: 0:00:54.672355, learning rate: (0.0001, 0.0001)\n",
      "Model overwritten at epoch 311, new best val loss  0.2406\n",
      "Model overwritten at epoch 313, new best val loss  0.2357\n",
      "Model overwritten at epoch 315, new best val loss  0.2313\n",
      "Model overwritten at epoch 316, new best val loss  0.2288\n",
      "Model overwritten at epoch 320, new best val loss  0.2280\n",
      "Epoch: 320/550, train loss:  0.096, val_loss:  0.228, duration: 0:00:54.816091, learning rate: (0.0001, 0.0001)\n",
      "Model overwritten at epoch 322, new best val loss  0.2258\n",
      "Model overwritten at epoch 324, new best val loss  0.2239\n",
      "Model overwritten at epoch 326, new best val loss  0.2233\n",
      "Model overwritten at epoch 327, new best val loss  0.2215\n",
      "Model overwritten at epoch 329, new best val loss  0.2191\n",
      "Epoch: 330/550, train loss:  0.082, val_loss:  0.221, duration: 0:00:54.550311, learning rate: (0.0001, 0.0001)\n",
      "Model overwritten at epoch 332, new best val loss  0.2183\n",
      "Model overwritten at epoch 335, new best val loss  0.2182\n",
      "Model overwritten at epoch 336, new best val loss  0.2181\n",
      "Model overwritten at epoch 337, new best val loss  0.2164\n",
      "Epoch: 340/550, train loss:  0.074, val_loss:  0.218, duration: 0:00:54.662486, learning rate: (0.0001, 0.0001)\n",
      "Model overwritten at epoch 343, new best val loss  0.2159\n",
      "Model overwritten at epoch 347, new best val loss  0.2151\n",
      "Model overwritten at epoch 348, new best val loss  0.2133\n",
      "Model overwritten at epoch 350, new best val loss  0.2126\n",
      "Epoch: 350/550, train loss:  0.069, val_loss:  0.213, duration: 0:00:54.675759, learning rate: (0.0001, 0.0001)\n",
      "Model overwritten at epoch 351, new best val loss  0.2118\n",
      "Epoch: 360/550, train loss:  0.065, val_loss:  0.213, duration: 0:00:54.397773, learning rate: (0.0001, 0.0001)\n",
      "Model overwritten at epoch 363, new best val loss  0.2034\n",
      "Model overwritten at epoch 364, new best val loss  0.2033\n",
      "Model overwritten at epoch 366, new best val loss  0.2032\n",
      "Epoch: 370/550, train loss:  0.043, val_loss:  0.204, duration: 0:00:54.364426, learning rate: (1e-05, 1e-05)\n",
      "Epoch: 380/550, train loss:  0.040, val_loss:  0.204, duration: 0:00:54.433046, learning rate: (1.0000000000000002e-06, 1.0000000000000002e-06)\n",
      "Max patience reached, training is terminated at epoch 387\n"
     ]
    }
   ],
   "source": [
    "load_model_weight = None\n",
    "epochs = 550\n",
    "new_model_name = 'ResNet-GRU-400'\n",
    "train_losses, test_losses=train_from_scratch_or_load(load_model_weight,new_model_name,  epochs, cnn = False)"
   ]
  },
  {
   "cell_type": "code",
   "execution_count": 25,
   "id": "06bf2212",
   "metadata": {
    "execution": {
     "iopub.execute_input": "2024-05-12T15:32:52.870568Z",
     "iopub.status.busy": "2024-05-12T15:32:52.870196Z",
     "iopub.status.idle": "2024-05-12T15:32:53.195940Z",
     "shell.execute_reply": "2024-05-12T15:32:53.195094Z"
    },
    "papermill": {
     "duration": 0.349469,
     "end_time": "2024-05-12T15:32:53.198037",
     "exception": false,
     "start_time": "2024-05-12T15:32:52.848568",
     "status": "completed"
    },
    "tags": []
   },
   "outputs": [
    {
     "data": {
      "image/png": "[encoded data removed]",
      "text/plain": [
       "<Figure size 640x480 with 1 Axes>"
      ]
     },
     "metadata": {},
     "output_type": "display_data"
    }
   ],
   "source": [
    "plot_losses(train_losses, test_losses)"
   ]
  },
  {
   "cell_type": "markdown",
   "id": "b273f13b",
   "metadata": {
    "papermill": {
     "duration": 0.020705,
     "end_time": "2024-05-12T15:32:53.239771",
     "exception": false,
     "start_time": "2024-05-12T15:32:53.219066",
     "status": "completed"
    },
    "tags": []
   },
   "source": [
    "# Train/validation/test accuracy"
   ]
  },
  {
   "cell_type": "code",
   "execution_count": 26,
   "id": "323e388b",
   "metadata": {
    "execution": {
     "iopub.execute_input": "2024-05-12T15:32:53.283506Z",
     "iopub.status.busy": "2024-05-12T15:32:53.282878Z",
     "iopub.status.idle": "2024-05-12T15:33:17.970972Z",
     "shell.execute_reply": "2024-05-12T15:33:17.969787Z"
    },
    "papermill": {
     "duration": 24.712025,
     "end_time": "2024-05-12T15:33:17.972942",
     "exception": false,
     "start_time": "2024-05-12T15:32:53.260917",
     "status": "completed"
    },
    "tags": []
   },
   "outputs": [
    {
     "name": "stdout",
     "output_type": "stream",
     "text": [
      "Train data, target shapes: ((652092, 4), (652092, 4)),\n",
      " train accuracies [99.77457168620379, 96.12585340718795, 98.04858823601577, 81.26322666126865]\n",
      "Validation data, target shapes: ((72455, 4), (72455, 4)),\n",
      " validation accuracies [99.1953626388793, 92.53329652887999, 86.87047132703057, 59.91995031398799]\n"
     ]
    }
   ],
   "source": [
    "#Train accuracy\n",
    "yt, tgt, acct = get_pred_n_acc([model], device, train_loader, num_iter = len(train_loader))\n",
    "#validation accuracy\n",
    "yv, tgv, accv = get_pred_n_acc([model], device, val_loader, num_iter = len(val_loader))\n",
    "print(f'Train data, target shapes: {yt.shape, tgt.shape},\\n train accuracies {acct}')\n",
    "print(f'Validation data, target shapes: {yv.shape, tgv.shape},\\n validation accuracies {accv}')"
   ]
  },
  {
   "cell_type": "code",
   "execution_count": 27,
   "id": "33f3f56d",
   "metadata": {
    "execution": {
     "iopub.execute_input": "2024-05-12T15:33:18.017888Z",
     "iopub.status.busy": "2024-05-12T15:33:18.017093Z",
     "iopub.status.idle": "2024-05-12T15:33:24.056850Z",
     "shell.execute_reply": "2024-05-12T15:33:24.055768Z"
    },
    "papermill": {
     "duration": 6.064306,
     "end_time": "2024-05-12T15:33:24.059069",
     "exception": false,
     "start_time": "2024-05-12T15:33:17.994763",
     "status": "completed"
    },
    "tags": []
   },
   "outputs": [
    {
     "name": "stdout",
     "output_type": "stream",
     "text": [
      "Test data, target shapes: ((181137, 4), (181137, 4)),\n",
      " test accuracies [99.22931261972981, 92.49463113554933, 86.7117154419031, 59.60792107631241]\n"
     ]
    }
   ],
   "source": [
    "#Inference: Test accuracy\n",
    "yts, tgts, accts = get_pred_n_acc([model], device, test_loader, num_iter = len(test_loader))\n",
    "print(f'Test data, target shapes: {yts.shape, tgts.shape},\\n test accuracies {accts}')"
   ]
  }
 ],
 "metadata": {
  "kaggle": {
   "accelerator": "none",
   "dataSources": [
    {
     "sourceId": 174871011,
     "sourceType": "kernelVersion"
    }
   ],
   "dockerImageVersionId": 30674,
   "isGpuEnabled": false,
   "isInternetEnabled": true,
   "language": "python",
   "sourceType": "notebook"
  },
  "kernelspec": {
   "display_name": "Python 3",
   "language": "python",
   "name": "python3"
  },
  "language_info": {
   "codemirror_mode": {
    "name": "ipython",
    "version": 3
   },
   "file_extension": ".py",
   "mimetype": "text/x-python",
   "name": "python",
   "nbconvert_exporter": "python",
   "pygments_lexer": "ipython3",
   "version": "3.10.13"
  },
  "papermill": {
   "default_parameters": {},
   "duration": 21102.084913,
   "end_time": "2024-05-12T15:33:26.293646",
   "environment_variables": {},
   "exception": null,
   "input_path": "__notebook__.ipynb",
   "output_path": "__notebook__.ipynb",
   "parameters": {},
   "start_time": "2024-05-12T09:41:44.208733",
   "version": "2.5.0"
  }
 },
 "nbformat": 4,
 "nbformat_minor": 5
}
