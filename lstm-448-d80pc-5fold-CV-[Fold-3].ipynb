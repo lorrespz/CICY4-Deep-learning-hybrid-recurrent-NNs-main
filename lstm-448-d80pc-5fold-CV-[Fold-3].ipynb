{
 "cells": [
  {
   "cell_type": "markdown",
   "id": "6fa93765",
   "metadata": {
    "papermill": {
     "duration": 0.007698,
     "end_time": "2024-06-01T05:49:40.012700",
     "exception": false,
     "start_time": "2024-06-01T05:49:40.005002",
     "status": "completed"
    },
    "tags": []
   },
   "source": [
    "# CICY4: LSTM-448 [5-fold-CV] - Fold-2"
   ]
  },
  {
   "cell_type": "code",
   "execution_count": 1,
   "id": "15650ac1",
   "metadata": {
    "_cell_guid": "b1076dfc-b9ad-4769-8c92-a6c4dae69d19",
    "_uuid": "8f2839f25d086af736a60e9eeb907d3b93b6e0e5",
    "execution": {
     "iopub.execute_input": "2024-06-01T05:49:40.028604Z",
     "iopub.status.busy": "2024-06-01T05:49:40.028264Z",
     "iopub.status.idle": "2024-06-01T05:49:45.497168Z",
     "shell.execute_reply": "2024-06-01T05:49:45.496264Z"
    },
    "papermill": {
     "duration": 5.479523,
     "end_time": "2024-06-01T05:49:45.499560",
     "exception": false,
     "start_time": "2024-06-01T05:49:40.020037",
     "status": "completed"
    },
    "tags": []
   },
   "outputs": [],
   "source": [
    "import numpy as np\n",
    "import random\n",
    "import pandas as pd\n",
    "import os as os\n",
    "import matplotlib.pyplot as plt\n",
    "import seaborn as sns\n",
    "from datetime import datetime\n",
    "\n",
    "import torch\n",
    "import torch.nn as nn\n",
    "import torch.nn.functional as F\n",
    "import torch.optim.lr_scheduler as lr_scheduler"
   ]
  },
  {
   "cell_type": "code",
   "execution_count": 2,
   "id": "72b2ceca",
   "metadata": {
    "execution": {
     "iopub.execute_input": "2024-06-01T05:49:45.517870Z",
     "iopub.status.busy": "2024-06-01T05:49:45.516992Z",
     "iopub.status.idle": "2024-06-01T05:49:45.569408Z",
     "shell.execute_reply": "2024-06-01T05:49:45.568440Z"
    },
    "papermill": {
     "duration": 0.064043,
     "end_time": "2024-06-01T05:49:45.571595",
     "exception": false,
     "start_time": "2024-06-01T05:49:45.507552",
     "status": "completed"
    },
    "tags": []
   },
   "outputs": [
    {
     "name": "stdout",
     "output_type": "stream",
     "text": [
      "cuda:0\n"
     ]
    }
   ],
   "source": [
    "device = torch.device(\"cuda:0\" if torch.cuda.is_available() else \"cpu\")\n",
    "print(device)"
   ]
  },
  {
   "cell_type": "code",
   "execution_count": 3,
   "id": "73090acb",
   "metadata": {
    "execution": {
     "iopub.execute_input": "2024-06-01T05:49:45.587268Z",
     "iopub.status.busy": "2024-06-01T05:49:45.586959Z",
     "iopub.status.idle": "2024-06-01T05:49:45.594998Z",
     "shell.execute_reply": "2024-06-01T05:49:45.594284Z"
    },
    "papermill": {
     "duration": 0.017948,
     "end_time": "2024-06-01T05:49:45.596838",
     "exception": false,
     "start_time": "2024-06-01T05:49:45.578890",
     "status": "completed"
    },
    "tags": []
   },
   "outputs": [],
   "source": [
    "seed = 42\n",
    "\n",
    "def seed_everything(seed):\n",
    "    random.seed(seed)\n",
    "    os.environ['PYTHONHASHSEED'] = str(seed)\n",
    "    np.random.seed(seed)\n",
    "    torch.manual_seed(seed)\n",
    "    torch.cuda.manual_seed(seed)\n",
    "    torch.cuda.manual_seed_all(seed)\n",
    "    torch.backends.cudnn.deterministic = True\n",
    "\n",
    "seed_everything(seed)"
   ]
  },
  {
   "cell_type": "markdown",
   "id": "3ec8ae53",
   "metadata": {
    "papermill": {
     "duration": 0.006871,
     "end_time": "2024-06-01T05:49:45.610780",
     "exception": false,
     "start_time": "2024-06-01T05:49:45.603909",
     "status": "completed"
    },
    "tags": []
   },
   "source": [
    " # LSTM-based network architecture"
   ]
  },
  {
   "cell_type": "code",
   "execution_count": 4,
   "id": "137c064b",
   "metadata": {
    "execution": {
     "iopub.execute_input": "2024-06-01T05:49:45.626189Z",
     "iopub.status.busy": "2024-06-01T05:49:45.625858Z",
     "iopub.status.idle": "2024-06-01T05:49:45.634723Z",
     "shell.execute_reply": "2024-06-01T05:49:45.633852Z"
    },
    "papermill": {
     "duration": 0.018686,
     "end_time": "2024-06-01T05:49:45.636567",
     "exception": false,
     "start_time": "2024-06-01T05:49:45.617881",
     "status": "completed"
    },
    "tags": []
   },
   "outputs": [],
   "source": [
    "class LSTM_block(nn.Module):\n",
    "    def __init__(self, n_inputs, n_hidden, n_rnnlayers, n_outputs):\n",
    "        super(LSTM_block,self).__init__()\n",
    "        self.D = n_inputs\n",
    "        self.M = n_hidden\n",
    "        self.K = n_outputs\n",
    "        self.L = n_rnnlayers\n",
    "        self.lstm = nn.LSTM(input_size = self.D,\n",
    "                           hidden_size = self.M,\n",
    "                           num_layers = self.L,\n",
    "                           batch_first = True)\n",
    "\n",
    "        self.feat_vec_size = self.M\n",
    "        self.fc1 = nn.Linear(self.feat_vec_size, 1024)\n",
    "        self.fc2 = nn.Linear(1024, 4)\n",
    "    def forward(self, X):\n",
    "        #input X is NxTxD\n",
    "        #initial hidden states\n",
    "        h0 = torch.zeros(self.L, X.size(0), self.M).to(device)\n",
    "        c0 = torch.zeros(self.L, X.size(0), self.M).to(device)\n",
    "        #get LSTM unit output:\n",
    "        #output is NxTxM\n",
    "        out, _ = self.lstm(X, (h0,c0))\n",
    "        #we only want the output y at the final time step\n",
    "        # output is now of shape (N, M)\n",
    "        xx = out[:, -1, :]\n",
    "        xx = self.fc1(xx)\n",
    "        #final output is 4\n",
    "        xx = self.fc2(xx)\n",
    "        return xx"
   ]
  },
  {
   "cell_type": "code",
   "execution_count": 5,
   "id": "15a94a27",
   "metadata": {
    "execution": {
     "iopub.execute_input": "2024-06-01T05:49:45.652084Z",
     "iopub.status.busy": "2024-06-01T05:49:45.651817Z",
     "iopub.status.idle": "2024-06-01T05:49:45.987086Z",
     "shell.execute_reply": "2024-06-01T05:49:45.986108Z"
    },
    "papermill": {
     "duration": 0.345463,
     "end_time": "2024-06-01T05:49:45.989241",
     "exception": false,
     "start_time": "2024-06-01T05:49:45.643778",
     "status": "completed"
    },
    "tags": []
   },
   "outputs": [
    {
     "data": {
      "text/plain": [
       "LSTM_block(\n",
       "  (lstm): LSTM(20, 448, num_layers=2, batch_first=True)\n",
       "  (fc1): Linear(in_features=448, out_features=1024, bias=True)\n",
       "  (fc2): Linear(in_features=1024, out_features=4, bias=True)\n",
       ")"
      ]
     },
     "execution_count": 5,
     "metadata": {},
     "output_type": "execute_result"
    }
   ],
   "source": [
    "model = LSTM_block(20, 448, 2, 4)\n",
    "model.to(device)"
   ]
  },
  {
   "cell_type": "code",
   "execution_count": 6,
   "id": "f673bc27",
   "metadata": {
    "execution": {
     "iopub.execute_input": "2024-06-01T05:49:46.006162Z",
     "iopub.status.busy": "2024-06-01T05:49:46.005866Z",
     "iopub.status.idle": "2024-06-01T05:49:46.011300Z",
     "shell.execute_reply": "2024-06-01T05:49:46.010188Z"
    },
    "papermill": {
     "duration": 0.01654,
     "end_time": "2024-06-01T05:49:46.013277",
     "exception": false,
     "start_time": "2024-06-01T05:49:45.996737",
     "status": "completed"
    },
    "tags": []
   },
   "outputs": [
    {
     "name": "stdout",
     "output_type": "stream",
     "text": [
      "Total numbers of parameters: 2915332\n"
     ]
    }
   ],
   "source": [
    "#count the number of parameters in the model\n",
    "params = [p.numel() for p in model.parameters() if p.requires_grad]\n",
    "print(f'Total numbers of parameters: {sum(params)}')"
   ]
  },
  {
   "cell_type": "markdown",
   "id": "c38a7651",
   "metadata": {
    "papermill": {
     "duration": 0.007025,
     "end_time": "2024-06-01T05:49:46.027677",
     "exception": false,
     "start_time": "2024-06-01T05:49:46.020652",
     "status": "completed"
    },
    "tags": []
   },
   "source": [
    "# Load data (fold-0) & define dataset class"
   ]
  },
  {
   "cell_type": "code",
   "execution_count": 7,
   "id": "4ab1bf0d",
   "metadata": {
    "execution": {
     "iopub.execute_input": "2024-06-01T05:49:46.043511Z",
     "iopub.status.busy": "2024-06-01T05:49:46.043235Z",
     "iopub.status.idle": "2024-06-01T05:50:05.844914Z",
     "shell.execute_reply": "2024-06-01T05:50:05.843724Z"
    },
    "papermill": {
     "duration": 19.811906,
     "end_time": "2024-06-01T05:50:05.846981",
     "exception": false,
     "start_time": "2024-06-01T05:49:46.035075",
     "status": "completed"
    },
    "tags": []
   },
   "outputs": [
    {
     "name": "stdout",
     "output_type": "stream",
     "text": [
      "(579638, 16, 20) (144909, 16, 20) (181137, 16, 20)\n",
      "(579638, 4) (144909, 4) (181137, 4)\n",
      "0.640000264993088 0.1599995141793385 0.2000002208275734\n"
     ]
    }
   ],
   "source": [
    "# load data\n",
    "path = '/kaggle/input/cicy4-data-for-5-fold-cv/'\n",
    "X_train = np.load(path + 'foldx_3_Xtrain.npy')\n",
    "X_valid = np.load(path +'foldx_3_Xval.npy')\n",
    "y_train = np.load(path+'foldx_3_ytrain.npy')\n",
    "y_valid = np.load(path+'foldx_3_yval.npy')\n",
    "\n",
    "#Test set is the original test set from the 72% dataset\n",
    "path2 = '/kaggle/input/calabi-yau-cicy-4-folds/'\n",
    "X_test = np.load(path2+'conf_Xtest.npy')\n",
    "y_test= np.load(path2+'hodge_ytest.npy')\n",
    "\n",
    "print(X_train.shape, X_valid.shape, X_test.shape)\n",
    "print(y_train.shape, y_valid.shape, y_test.shape)\n",
    "print(y_train.shape[0]/905684, y_valid.shape[0]/905684, y_test.shape[0]/905684)"
   ]
  },
  {
   "cell_type": "code",
   "execution_count": 8,
   "id": "76e664e1",
   "metadata": {
    "execution": {
     "iopub.execute_input": "2024-06-01T05:50:05.863537Z",
     "iopub.status.busy": "2024-06-01T05:50:05.863233Z",
     "iopub.status.idle": "2024-06-01T05:50:06.336179Z",
     "shell.execute_reply": "2024-06-01T05:50:06.335364Z"
    },
    "papermill": {
     "duration": 0.483852,
     "end_time": "2024-06-01T05:50:06.338592",
     "exception": false,
     "start_time": "2024-06-01T05:50:05.854740",
     "status": "completed"
    },
    "tags": []
   },
   "outputs": [],
   "source": [
    "#Convert data to torch tensor with float32 precision\n",
    "#(needed to be compatible with the floating decision of the network parameters)\n",
    "X_train = torch.from_numpy(X_train.astype(np.float32))\n",
    "y_train = torch.from_numpy(y_train.astype(np.float32))\n",
    "\n",
    "X_valid = torch.from_numpy(X_valid.astype(np.float32))\n",
    "y_valid = torch.from_numpy(y_valid.astype(np.float32))\n",
    "\n",
    "X_test = torch.from_numpy(X_test.astype(np.float32))\n",
    "y_test= torch.from_numpy(y_test.astype(np.float32))"
   ]
  },
  {
   "cell_type": "code",
   "execution_count": 9,
   "id": "215105a8",
   "metadata": {
    "execution": {
     "iopub.execute_input": "2024-06-01T05:50:06.355113Z",
     "iopub.status.busy": "2024-06-01T05:50:06.354746Z",
     "iopub.status.idle": "2024-06-01T05:50:06.360984Z",
     "shell.execute_reply": "2024-06-01T05:50:06.360102Z"
    },
    "papermill": {
     "duration": 0.016559,
     "end_time": "2024-06-01T05:50:06.362882",
     "exception": false,
     "start_time": "2024-06-01T05:50:06.346323",
     "status": "completed"
    },
    "tags": []
   },
   "outputs": [],
   "source": [
    "class CICY4Dataset(torch.utils.data.Dataset):\n",
    "    def __init__(self, X, y):\n",
    "        self.X = X\n",
    "        self.y = y\n",
    "    def __len__(self):\n",
    "        return len(self.X)\n",
    "    def __getitem__(self, idx):\n",
    "        X0 = self.X[idx]\n",
    "        y0 = self.y[idx]\n",
    "        return X0, y0\n",
    "\n",
    "train_set = CICY4Dataset(X_train, y_train)\n",
    "val_set = CICY4Dataset(X_valid, y_valid)\n",
    "test_set = CICY4Dataset(X_test, y_test)"
   ]
  },
  {
   "cell_type": "code",
   "execution_count": 10,
   "id": "4e871e18",
   "metadata": {
    "execution": {
     "iopub.execute_input": "2024-06-01T05:50:06.378920Z",
     "iopub.status.busy": "2024-06-01T05:50:06.378600Z",
     "iopub.status.idle": "2024-06-01T05:50:06.383830Z",
     "shell.execute_reply": "2024-06-01T05:50:06.382945Z"
    },
    "papermill": {
     "duration": 0.015595,
     "end_time": "2024-06-01T05:50:06.385878",
     "exception": false,
     "start_time": "2024-06-01T05:50:06.370283",
     "status": "completed"
    },
    "tags": []
   },
   "outputs": [],
   "source": [
    "from torch.utils.data import DataLoader\n",
    "\n",
    "train_loader = DataLoader(train_set, batch_size=128, shuffle=True)\n",
    "val_loader = DataLoader(val_set, batch_size=128, shuffle=True)\n",
    "test_loader = DataLoader(test_set, batch_size=128, shuffle=False)"
   ]
  },
  {
   "cell_type": "markdown",
   "id": "48fb1f39",
   "metadata": {
    "papermill": {
     "duration": 0.007473,
     "end_time": "2024-06-01T05:50:06.400678",
     "exception": false,
     "start_time": "2024-06-01T05:50:06.393205",
     "status": "completed"
    },
    "tags": []
   },
   "source": [
    "# Utility functions"
   ]
  },
  {
   "cell_type": "code",
   "execution_count": 11,
   "id": "4bd6b363",
   "metadata": {
    "execution": {
     "iopub.execute_input": "2024-06-01T05:50:06.417099Z",
     "iopub.status.busy": "2024-06-01T05:50:06.416291Z",
     "iopub.status.idle": "2024-06-01T05:50:06.422383Z",
     "shell.execute_reply": "2024-06-01T05:50:06.421694Z"
    },
    "papermill": {
     "duration": 0.016296,
     "end_time": "2024-06-01T05:50:06.424274",
     "exception": false,
     "start_time": "2024-06-01T05:50:06.407978",
     "status": "completed"
    },
    "tags": []
   },
   "outputs": [],
   "source": [
    "def train_one_epoch(model, criterion, optimizer, train_loader):\n",
    "    model.train()\n",
    "    train_loss = []\n",
    "    for inputs, target in train_loader:\n",
    "        inputs, target = inputs.to(device), target.to(device)\n",
    "        optimizer.zero_grad()\n",
    "        out = model(inputs)\n",
    "        loss = criterion(out, target)\n",
    "        loss.backward()\n",
    "        optimizer.step()\n",
    "        train_loss.append(loss.item())\n",
    "    #average the train_loss list in for all batches in the train_gen\n",
    "    train_loss = np.mean(train_loss)\n",
    "    return train_loss"
   ]
  },
  {
   "cell_type": "code",
   "execution_count": 12,
   "id": "e59b6df3",
   "metadata": {
    "execution": {
     "iopub.execute_input": "2024-06-01T05:50:06.440210Z",
     "iopub.status.busy": "2024-06-01T05:50:06.439934Z",
     "iopub.status.idle": "2024-06-01T05:50:06.445433Z",
     "shell.execute_reply": "2024-06-01T05:50:06.444603Z"
    },
    "papermill": {
     "duration": 0.015664,
     "end_time": "2024-06-01T05:50:06.447309",
     "exception": false,
     "start_time": "2024-06-01T05:50:06.431645",
     "status": "completed"
    },
    "tags": []
   },
   "outputs": [],
   "source": [
    "def validate_one_epoch(model, criterion, optimizer, val_loader):\n",
    "    model.eval()\n",
    "    test_loss = []\n",
    "    for inputs, target in val_loader:\n",
    "        inputs, target = inputs.to(device), target.to(device)\n",
    "        out = model(inputs)\n",
    "        loss = criterion(out, target)\n",
    "        test_loss.append(loss.item())\n",
    "    #average the test_loss list in for all batches in the test_gen\n",
    "    test_loss = np.mean(test_loss)\n",
    "    return test_loss"
   ]
  },
  {
   "cell_type": "code",
   "execution_count": 13,
   "id": "99f9ad76",
   "metadata": {
    "execution": {
     "iopub.execute_input": "2024-06-01T05:50:06.463399Z",
     "iopub.status.busy": "2024-06-01T05:50:06.463129Z",
     "iopub.status.idle": "2024-06-01T05:50:06.473768Z",
     "shell.execute_reply": "2024-06-01T05:50:06.472927Z"
    },
    "papermill": {
     "duration": 0.02093,
     "end_time": "2024-06-01T05:50:06.475593",
     "exception": false,
     "start_time": "2024-06-01T05:50:06.454663",
     "status": "completed"
    },
    "tags": []
   },
   "outputs": [],
   "source": [
    "def batch_gd_scheduler(model, new_model_name, criterion, optimizer, train_loader, val_loader, scheduler,\n",
    "                         epochs, device, batch_size=128):\n",
    "    train_losses = np.zeros(epochs)\n",
    "    test_losses = np.zeros(epochs)\n",
    "    patience = 0\n",
    "    best_loss = 1000\n",
    "    max_patience = 20\n",
    "    for i in range(epochs):\n",
    "        t0 = datetime.now()\n",
    "        train_loss = train_one_epoch(model, criterion, optimizer,train_loader)\n",
    "        test_loss = validate_one_epoch(model, criterion, optimizer,val_loader)\n",
    "        #Early stopping based on test loss\n",
    "        if i == 0:\n",
    "            best_loss = test_loss\n",
    "            torch.save(model, f'/kaggle/working/{new_model_name}.pt')\n",
    "            #torch.save(model, path+f'{new_model_name}.pt')\n",
    "            print(f'Model saved as {new_model_name} at epoch {i}')\n",
    "        else:\n",
    "            if test_loss < best_loss:\n",
    "                best_loss = test_loss\n",
    "                torch.save(model, f'/kaggle/working/{new_model_name}.pt')\n",
    "                #torch.save(model, path+f'{new_model_name}.pt')\n",
    "                print(f'Model overwritten at epoch {i}, new best val loss {best_loss}')\n",
    "                patience = 0\n",
    "            else:\n",
    "                patience = patience +1\n",
    "                #print(f'No improvement, current patience level is {patience} at epoch {i}')\n",
    "        if patience > max_patience:\n",
    "            print(f'Max patience reached, training is terminated at epoch {i}')\n",
    "            break\n",
    "        #Apply scheduler after the train+validate parts\n",
    "        before_lr = optimizer.param_groups[0][\"lr\"]\n",
    "        scheduler.step(test_loss)\n",
    "        after_lr = optimizer.param_groups[0][\"lr\"]\n",
    "        train_losses[i] = train_loss\n",
    "        test_losses[i] = test_loss\n",
    "        #write the losses into a csv file\n",
    "        loss_dict = {'train_loss': train_losses, 'val_loss': test_losses}\n",
    "        dd = pd.DataFrame(loss_dict)\n",
    "        dd.to_csv('loss_dict_lstm_448_fold3.csv', index = False)\n",
    "        dt = datetime.now()-t0\n",
    "        if i%10==0:\n",
    "            print(f'Epoch: {i}/{epochs}, train loss: {train_loss: .3f}, val_loss: {test_loss: .3f}, duration: {dt}, learning rate: {before_lr, after_lr}')\n",
    "    return train_losses, test_losses\n"
   ]
  },
  {
   "cell_type": "code",
   "execution_count": 14,
   "id": "2b7b253f",
   "metadata": {
    "execution": {
     "iopub.execute_input": "2024-06-01T05:50:06.491325Z",
     "iopub.status.busy": "2024-06-01T05:50:06.491063Z",
     "iopub.status.idle": "2024-06-01T05:50:06.497635Z",
     "shell.execute_reply": "2024-06-01T05:50:06.496776Z"
    },
    "papermill": {
     "duration": 0.016423,
     "end_time": "2024-06-01T05:50:06.499418",
     "exception": false,
     "start_time": "2024-06-01T05:50:06.482995",
     "status": "completed"
    },
    "tags": []
   },
   "outputs": [],
   "source": [
    "def train_from_scratch_or_load(load_model_weight,new_model_name, epochs):\n",
    "    if load_model_weight==None:\n",
    "        #criterion = nn.MSELoss()\n",
    "        criterion = nn.HuberLoss()\n",
    "        optimizer = torch.optim.AdamW(model.parameters(), lr=0.01)\n",
    "        scheduler = lr_scheduler.ReduceLROnPlateau(optimizer, 'min', factor=0.1, min_lr = 1e-8)\n",
    "        train_losses, test_losses=batch_gd_scheduler(model, new_model_name, criterion,\n",
    "                                                     optimizer,train_loader, val_loader,\n",
    "                                                      scheduler, epochs,\n",
    "                                                       device = device)\n",
    "        return train_losses, test_losses\n",
    "    else:\n",
    "        if torch.cuda.is_available():\n",
    "            trained_model = torch.load(load_model_weight)\n",
    "        else:\n",
    "            trained_model = torch.load(load_model_weight, map_location=torch.device('cpu'))\n",
    "        return trained_model"
   ]
  },
  {
   "cell_type": "code",
   "execution_count": 15,
   "id": "6bb3142e",
   "metadata": {
    "execution": {
     "iopub.execute_input": "2024-06-01T05:50:06.515237Z",
     "iopub.status.busy": "2024-06-01T05:50:06.514978Z",
     "iopub.status.idle": "2024-06-01T05:50:06.520903Z",
     "shell.execute_reply": "2024-06-01T05:50:06.520084Z"
    },
    "papermill": {
     "duration": 0.015848,
     "end_time": "2024-06-01T05:50:06.522651",
     "exception": false,
     "start_time": "2024-06-01T05:50:06.506803",
     "status": "completed"
    },
    "tags": []
   },
   "outputs": [],
   "source": [
    "def load_and_retrain(load_model_weight, new_model_name, epochs):\n",
    "    trained_model = torch.load(load_model_weight)\n",
    "    print('Trained model loaded')\n",
    "    criterion = nn.HuberLoss()\n",
    "    optimizer = torch.optim.AdamW(trained_model.parameters(),lr=0.01)\n",
    "    scheduler = lr_scheduler.ReduceLROnPlateau(optimizer, 'min', factor=0.1, min_lr = 1e-7)\n",
    "    trained_model.train()\n",
    "    print('Begin retraining')\n",
    "    train_losses, test_losses=batch_gd_scheduler(trained_model,new_model_name, criterion, optimizer,\n",
    "                                                 train_loader, val_loader,\n",
    "                                                 scheduler, epochs,\n",
    "                                                 device = device)\n",
    "    return trained_model, train_losses, test_losses"
   ]
  },
  {
   "cell_type": "code",
   "execution_count": 16,
   "id": "deacdd67",
   "metadata": {
    "execution": {
     "iopub.execute_input": "2024-06-01T05:50:06.538348Z",
     "iopub.status.busy": "2024-06-01T05:50:06.538109Z",
     "iopub.status.idle": "2024-06-01T05:50:06.542451Z",
     "shell.execute_reply": "2024-06-01T05:50:06.541688Z"
    },
    "papermill": {
     "duration": 0.014352,
     "end_time": "2024-06-01T05:50:06.544298",
     "exception": false,
     "start_time": "2024-06-01T05:50:06.529946",
     "status": "completed"
    },
    "tags": []
   },
   "outputs": [],
   "source": [
    "def plot_losses(train_losses, test_losses):\n",
    "    # Plot the train loss and test loss per iteration\n",
    "    plt.plot(train_losses, label='train loss')\n",
    "    plt.plot(test_losses, label='val loss')\n",
    "    plt.legend()\n",
    "    plt.show()"
   ]
  },
  {
   "cell_type": "code",
   "execution_count": 17,
   "id": "6090dc96",
   "metadata": {
    "execution": {
     "iopub.execute_input": "2024-06-01T05:50:06.560330Z",
     "iopub.status.busy": "2024-06-01T05:50:06.559672Z",
     "iopub.status.idle": "2024-06-01T05:50:06.570371Z",
     "shell.execute_reply": "2024-06-01T05:50:06.569595Z"
    },
    "papermill": {
     "duration": 0.020775,
     "end_time": "2024-06-01T05:50:06.572349",
     "exception": false,
     "start_time": "2024-06-01T05:50:06.551574",
     "status": "completed"
    },
    "tags": []
   },
   "outputs": [],
   "source": [
    "################## GET PREDICTIONS + ACCURACY #####################\n",
    "def get_pred_n_acc(models, device, dataloader, num_iter):\n",
    "    i = 0\n",
    "    ypreds =[]\n",
    "    targets = []\n",
    "    #The last batch might not have size 128\n",
    "    while i< num_iter:\n",
    "        for data, target in dataloader:\n",
    "            #this empty list is to hold all models' preds\n",
    "            ypred = []\n",
    "            data= data.to(device)\n",
    "            data = data.to(torch.float32)\n",
    "            target = target.to(torch.float32)\n",
    "            #append the 'i^th' target\n",
    "            targets.append(target)\n",
    "            for model in models:\n",
    "                model.eval()\n",
    "                yp = model(data)\n",
    "                yp = yp.detach().cpu().numpy()\n",
    "                ypred.append(yp)\n",
    "            #take the mean of all models' predictions\n",
    "            ypred = np.array(ypred).mean(axis = 0)\n",
    "            ypred = np.round(ypred)\n",
    "            i+=1\n",
    "            #append ypred, targets inside the 'i' loop\n",
    "            # append the 'i^th' mean prediction\n",
    "            ypreds.append(ypred)\n",
    "            if i == num_iter:\n",
    "                break\n",
    "     #Do not convert ypreds, targets to np.array at this point,\n",
    "    #since the last batch has a different size, causing an error !\n",
    "    #CALCULATING ACCURACY\n",
    "    yp =  np.concatenate([ypreds[j] for j in range(len(ypreds))], axis = 0)\n",
    "    tgs =  np.concatenate([targets[j] for j in range(len(targets))], axis = 0)\n",
    "    h11_acc = ((yp[:,0] == tgs[:,0]).sum())/len(yp)\n",
    "    h21_acc = ((yp[:,1] == tgs[:,1]).sum())/len(yp)\n",
    "    h31_acc = ((yp[:,2] == tgs[:,2]).sum())/len(yp)\n",
    "    h22_acc = ((yp[:,3] == tgs[:,3]).sum())/len(yp)\n",
    "    acc = [h11_acc*100,h21_acc*100,h31_acc*100,h22_acc*100 ]\n",
    "    return  yp, tgs, acc\n"
   ]
  },
  {
   "cell_type": "markdown",
   "id": "b3e309ee",
   "metadata": {
    "papermill": {
     "duration": 0.007338,
     "end_time": "2024-06-01T05:50:06.587171",
     "exception": false,
     "start_time": "2024-06-01T05:50:06.579833",
     "status": "completed"
    },
    "tags": []
   },
   "source": [
    "# Train loop"
   ]
  },
  {
   "cell_type": "code",
   "execution_count": 18,
   "id": "5d5b6d8f",
   "metadata": {
    "execution": {
     "iopub.execute_input": "2024-06-01T05:50:06.604211Z",
     "iopub.status.busy": "2024-06-01T05:50:06.603652Z",
     "iopub.status.idle": "2024-06-01T10:53:23.920545Z",
     "shell.execute_reply": "2024-06-01T10:53:23.919551Z"
    },
    "papermill": {
     "duration": 18197.34651,
     "end_time": "2024-06-01T10:53:23.941935",
     "exception": false,
     "start_time": "2024-06-01T05:50:06.595425",
     "status": "completed"
    },
    "tags": []
   },
   "outputs": [
    {
     "name": "stdout",
     "output_type": "stream",
     "text": [
      "Model saved as LSTM-448-d80-fold3 at epoch 0\n",
      "Epoch: 0/550, train loss:  10.055, val_loss:  9.776, duration: 0:00:48.904155, learning rate: (0.01, 0.01)\n",
      "Model overwritten at epoch 1, new best val loss 9.692688975624563\n",
      "Model overwritten at epoch 2, new best val loss 9.637539760054263\n",
      "Model overwritten at epoch 6, new best val loss 9.631509385693947\n",
      "Model overwritten at epoch 8, new best val loss 8.869498010872743\n",
      "Model overwritten at epoch 9, new best val loss 8.401026780060299\n",
      "Model overwritten at epoch 10, new best val loss 8.357243448679991\n",
      "Epoch: 10/550, train loss:  8.782, val_loss:  8.357, duration: 0:00:49.110440, learning rate: (0.01, 0.01)\n",
      "Model overwritten at epoch 11, new best val loss 8.309527811705276\n",
      "Model overwritten at epoch 16, new best val loss 8.302010702855378\n",
      "Epoch: 20/550, train loss:  8.458, val_loss:  8.376, duration: 0:00:48.662604, learning rate: (0.01, 0.01)\n",
      "Model overwritten at epoch 26, new best val loss 8.296714497790964\n",
      "Model overwritten at epoch 30, new best val loss 8.294944471525914\n",
      "Epoch: 30/550, train loss:  8.397, val_loss:  8.295, duration: 0:00:48.812490, learning rate: (0.01, 0.01)\n",
      "Model overwritten at epoch 35, new best val loss 8.279527936482577\n",
      "Epoch: 40/550, train loss:  8.433, val_loss:  8.343, duration: 0:00:48.317582, learning rate: (0.01, 0.01)\n",
      "Model overwritten at epoch 49, new best val loss 7.606811621077589\n",
      "Model overwritten at epoch 50, new best val loss 7.387026255675785\n",
      "Epoch: 50/550, train loss:  7.391, val_loss:  7.387, duration: 0:00:48.590810, learning rate: (0.001, 0.001)\n",
      "Model overwritten at epoch 51, new best val loss 7.1464228175534465\n",
      "Model overwritten at epoch 53, new best val loss 6.910392972924282\n",
      "Model overwritten at epoch 56, new best val loss 6.7812320380114075\n",
      "Model overwritten at epoch 57, new best val loss 6.582838731851603\n",
      "Epoch: 60/550, train loss:  6.623, val_loss:  6.629, duration: 0:00:48.557066, learning rate: (0.001, 0.001)\n",
      "Model overwritten at epoch 61, new best val loss 6.3643250435932694\n",
      "Model overwritten at epoch 63, new best val loss 6.258483852628891\n",
      "Model overwritten at epoch 64, new best val loss 6.104983992631311\n",
      "Model overwritten at epoch 65, new best val loss 6.03415487765845\n",
      "Model overwritten at epoch 67, new best val loss 5.990248029882258\n",
      "Model overwritten at epoch 69, new best val loss 5.656535621670002\n",
      "Epoch: 70/550, train loss:  5.822, val_loss:  5.963, duration: 0:00:49.103098, learning rate: (0.001, 0.001)\n",
      "Model overwritten at epoch 71, new best val loss 5.466816584830355\n",
      "Model overwritten at epoch 72, new best val loss 5.383206535837656\n",
      "Model overwritten at epoch 74, new best val loss 5.157438112168005\n",
      "Model overwritten at epoch 77, new best val loss 4.921630612960034\n",
      "Model overwritten at epoch 78, new best val loss 4.76266956729165\n",
      "Epoch: 80/550, train loss:  4.756, val_loss:  4.782, duration: 0:00:48.456918, learning rate: (0.001, 0.001)\n",
      "Model overwritten at epoch 81, new best val loss 4.475601081183182\n",
      "Model overwritten at epoch 83, new best val loss 4.207245342518941\n",
      "Model overwritten at epoch 84, new best val loss 4.187009182843295\n",
      "Model overwritten at epoch 85, new best val loss 4.118999458895462\n",
      "Model overwritten at epoch 86, new best val loss 3.8788714246842466\n",
      "Model overwritten at epoch 87, new best val loss 3.851345491956423\n",
      "Model overwritten at epoch 88, new best val loss 3.8129809611893712\n",
      "Model overwritten at epoch 89, new best val loss 3.4648849551696643\n",
      "Epoch: 90/550, train loss:  3.423, val_loss:  3.485, duration: 0:00:48.843407, learning rate: (0.001, 0.001)\n",
      "Model overwritten at epoch 91, new best val loss 3.3762773093352356\n",
      "Model overwritten at epoch 92, new best val loss 3.0133895116471026\n",
      "Model overwritten at epoch 94, new best val loss 2.8718343220868157\n",
      "Model overwritten at epoch 96, new best val loss 2.5208446433453675\n",
      "Model overwritten at epoch 100, new best val loss 2.3456058821000574\n",
      "Epoch: 100/550, train loss:  2.392, val_loss:  2.346, duration: 0:00:48.823061, learning rate: (0.001, 0.001)\n",
      "Model overwritten at epoch 101, new best val loss 2.2303222003281906\n",
      "Model overwritten at epoch 104, new best val loss 2.061113600697227\n",
      "Model overwritten at epoch 105, new best val loss 1.9779628730935537\n",
      "Model overwritten at epoch 108, new best val loss 1.9072159788614864\n",
      "Epoch: 110/550, train loss:  1.825, val_loss:  2.130, duration: 0:00:48.646544, learning rate: (0.001, 0.001)\n",
      "Model overwritten at epoch 113, new best val loss 1.8132135171545152\n",
      "Model overwritten at epoch 114, new best val loss 1.7027287373791093\n",
      "Model overwritten at epoch 116, new best val loss 1.6631785465991298\n",
      "Model overwritten at epoch 117, new best val loss 1.5231380820379568\n",
      "Model overwritten at epoch 118, new best val loss 1.4946237291157614\n",
      "Epoch: 120/550, train loss:  1.479, val_loss:  1.576, duration: 0:00:48.350176, learning rate: (0.001, 0.001)\n",
      "Model overwritten at epoch 123, new best val loss 1.3282933727577526\n",
      "Model overwritten at epoch 130, new best val loss 1.3085395947874696\n",
      "Epoch: 130/550, train loss:  1.242, val_loss:  1.309, duration: 0:00:48.539762, learning rate: (0.001, 0.001)\n",
      "Model overwritten at epoch 134, new best val loss 1.209400549517831\n",
      "Model overwritten at epoch 137, new best val loss 1.173356732381516\n",
      "Model overwritten at epoch 138, new best val loss 1.1608890180343667\n",
      "Model overwritten at epoch 139, new best val loss 1.1459412268064555\n",
      "Epoch: 140/550, train loss:  1.084, val_loss:  1.160, duration: 0:00:48.460715, learning rate: (0.001, 0.001)\n",
      "Model overwritten at epoch 143, new best val loss 1.0873361344581565\n",
      "Model overwritten at epoch 148, new best val loss 1.0480772900770747\n",
      "Model overwritten at epoch 150, new best val loss 1.0451181414163122\n",
      "Epoch: 150/550, train loss:  0.973, val_loss:  1.045, duration: 0:00:48.305189, learning rate: (0.001, 0.001)\n",
      "Model overwritten at epoch 151, new best val loss 0.9922995398976796\n",
      "Model overwritten at epoch 156, new best val loss 0.9887587102976713\n",
      "Model overwritten at epoch 159, new best val loss 0.9875534579802275\n",
      "Model overwritten at epoch 160, new best val loss 0.9853684159368934\n",
      "Epoch: 160/550, train loss:  0.869, val_loss:  0.985, duration: 0:00:48.463918, learning rate: (0.001, 0.001)\n",
      "Model overwritten at epoch 162, new best val loss 0.9626916422322064\n",
      "Model overwritten at epoch 163, new best val loss 0.9447459270758432\n",
      "Model overwritten at epoch 165, new best val loss 0.9071573450411723\n",
      "Model overwritten at epoch 167, new best val loss 0.8945370328605228\n",
      "Model overwritten at epoch 169, new best val loss 0.8240175864808031\n",
      "Epoch: 170/550, train loss:  0.782, val_loss:  0.951, duration: 0:00:48.341145, learning rate: (0.001, 0.001)\n",
      "Model overwritten at epoch 176, new best val loss 0.7791392458084928\n",
      "Model overwritten at epoch 177, new best val loss 0.7727568228741399\n",
      "Epoch: 180/550, train loss:  0.703, val_loss:  0.816, duration: 0:00:49.022672, learning rate: (0.001, 0.001)\n",
      "Model overwritten at epoch 182, new best val loss 0.7476054139612842\n",
      "Model overwritten at epoch 189, new best val loss 0.7084917555261478\n",
      "Epoch: 190/550, train loss:  0.619, val_loss:  0.786, duration: 0:00:48.786165, learning rate: (0.001, 0.001)\n",
      "Model overwritten at epoch 194, new best val loss 0.6808279293991251\n",
      "Model overwritten at epoch 196, new best val loss 0.6728741818182467\n",
      "Model overwritten at epoch 200, new best val loss 0.6542479411122658\n",
      "Epoch: 200/550, train loss:  0.565, val_loss:  0.654, duration: 0:00:48.462442, learning rate: (0.001, 0.001)\n",
      "Model overwritten at epoch 202, new best val loss 0.6511391403921284\n",
      "Model overwritten at epoch 203, new best val loss 0.6041296699987716\n",
      "Model overwritten at epoch 209, new best val loss 0.6020596293832807\n",
      "Epoch: 210/550, train loss:  0.517, val_loss:  0.678, duration: 0:00:48.300524, learning rate: (0.001, 0.001)\n",
      "Model overwritten at epoch 212, new best val loss 0.5936242213895231\n",
      "Model overwritten at epoch 217, new best val loss 0.5864131553501338\n",
      "Epoch: 220/550, train loss:  0.466, val_loss:  0.603, duration: 0:00:48.612306, learning rate: (0.001, 0.001)\n",
      "Model overwritten at epoch 222, new best val loss 0.5772463434687359\n",
      "Model overwritten at epoch 224, new best val loss 0.5480264468416112\n",
      "Model overwritten at epoch 226, new best val loss 0.5361903826956821\n",
      "Epoch: 230/550, train loss:  0.447, val_loss:  0.539, duration: 0:00:48.362031, learning rate: (0.001, 0.001)\n",
      "Model overwritten at epoch 234, new best val loss 0.5241500915990713\n",
      "Model overwritten at epoch 235, new best val loss 0.4920044463236355\n",
      "Model overwritten at epoch 238, new best val loss 0.4917225634641386\n",
      "Epoch: 240/550, train loss:  0.419, val_loss:  0.555, duration: 0:00:48.354439, learning rate: (0.001, 0.001)\n",
      "Model overwritten at epoch 249, new best val loss 0.47102260772411736\n",
      "Epoch: 250/550, train loss:  0.389, val_loss:  0.481, duration: 0:00:48.416832, learning rate: (0.001, 0.001)\n",
      "Model overwritten at epoch 257, new best val loss 0.4464087920676052\n",
      "Epoch: 260/550, train loss:  0.392, val_loss:  0.454, duration: 0:00:48.319457, learning rate: (0.001, 0.001)\n",
      "Model overwritten at epoch 264, new best val loss 0.41093519102495957\n",
      "Model overwritten at epoch 265, new best val loss 0.4080310433918885\n",
      "Epoch: 270/550, train loss:  0.347, val_loss:  0.439, duration: 0:00:48.360378, learning rate: (0.001, 0.001)\n",
      "Model overwritten at epoch 275, new best val loss 0.3696680498183668\n",
      "Epoch: 280/550, train loss:  0.330, val_loss:  0.413, duration: 0:00:48.436027, learning rate: (0.001, 0.001)\n",
      "Model overwritten at epoch 287, new best val loss 0.23241957753817802\n",
      "Model overwritten at epoch 288, new best val loss 0.2084580186790633\n",
      "Model overwritten at epoch 289, new best val loss 0.2021410845726439\n",
      "Model overwritten at epoch 290, new best val loss 0.19251887619968863\n",
      "Epoch: 290/550, train loss:  0.089, val_loss:  0.193, duration: 0:00:48.326331, learning rate: (0.0001, 0.0001)\n",
      "Model overwritten at epoch 291, new best val loss 0.19176015201281996\n",
      "Model overwritten at epoch 292, new best val loss 0.18582229633196623\n",
      "Model overwritten at epoch 293, new best val loss 0.18256089614748638\n",
      "Model overwritten at epoch 294, new best val loss 0.1817428451705484\n",
      "Model overwritten at epoch 295, new best val loss 0.17861494857288523\n",
      "Model overwritten at epoch 296, new best val loss 0.1783326888113346\n",
      "Model overwritten at epoch 297, new best val loss 0.17480248421272765\n",
      "Model overwritten at epoch 299, new best val loss 0.17369766245347046\n",
      "Model overwritten at epoch 300, new best val loss 0.17190235215325536\n",
      "Epoch: 300/550, train loss:  0.051, val_loss:  0.172, duration: 0:00:48.409997, learning rate: (0.0001, 0.0001)\n",
      "Model overwritten at epoch 302, new best val loss 0.17100498698395328\n",
      "Model overwritten at epoch 303, new best val loss 0.17031738906112373\n",
      "Model overwritten at epoch 304, new best val loss 0.16879733492737836\n",
      "Model overwritten at epoch 305, new best val loss 0.16810261551866149\n",
      "Model overwritten at epoch 307, new best val loss 0.16756014718566442\n",
      "Model overwritten at epoch 310, new best val loss 0.1667235959107541\n",
      "Epoch: 310/550, train loss:  0.038, val_loss:  0.167, duration: 0:00:48.435303, learning rate: (0.0001, 0.0001)\n",
      "Model overwritten at epoch 313, new best val loss 0.16545008165336034\n",
      "Model overwritten at epoch 315, new best val loss 0.16386354580153328\n",
      "Model overwritten at epoch 320, new best val loss 0.1637481247902653\n",
      "Epoch: 320/550, train loss:  0.032, val_loss:  0.164, duration: 0:00:48.462842, learning rate: (0.0001, 0.0001)\n",
      "Model overwritten at epoch 323, new best val loss 0.16283124105944005\n",
      "Model overwritten at epoch 328, new best val loss 0.1622540422099571\n",
      "Epoch: 330/550, train loss:  0.028, val_loss:  0.162, duration: 0:00:48.333073, learning rate: (0.0001, 0.0001)\n",
      "Model overwritten at epoch 331, new best val loss 0.16160275917977016\n",
      "Model overwritten at epoch 336, new best val loss 0.16138065889122627\n",
      "Model overwritten at epoch 339, new best val loss 0.16036335845121955\n",
      "Epoch: 340/550, train loss:  0.026, val_loss:  0.163, duration: 0:00:48.358711, learning rate: (0.0001, 0.0001)\n",
      "Epoch: 350/550, train loss:  0.024, val_loss:  0.163, duration: 0:00:48.268878, learning rate: (0.0001, 1e-05)\n",
      "Model overwritten at epoch 351, new best val loss 0.1562319392303871\n",
      "Model overwritten at epoch 352, new best val loss 0.15549107498611797\n",
      "Model overwritten at epoch 353, new best val loss 0.155420392948973\n",
      "Epoch: 360/550, train loss:  0.011, val_loss:  0.157, duration: 0:00:48.231384, learning rate: (1e-05, 1e-05)\n",
      "Epoch: 370/550, train loss:  0.010, val_loss:  0.156, duration: 0:00:48.344899, learning rate: (1.0000000000000002e-06, 1.0000000000000002e-06)\n",
      "Max patience reached, training is terminated at epoch 374\n"
     ]
    }
   ],
   "source": [
    "load_model_weight = None\n",
    "epochs = 550\n",
    "new_model_name = 'LSTM-448-d80-fold3'\n",
    "if load_model_weight is None:\n",
    "    train_losses, test_losses=train_from_scratch_or_load(load_model_weight,new_model_name,  epochs)\n",
    "else:\n",
    "    model, train_losses, test_losses=load_and_retrain(load_model_weight, new_model_name, epochs)"
   ]
  },
  {
   "cell_type": "code",
   "execution_count": 19,
   "id": "311cc360",
   "metadata": {
    "execution": {
     "iopub.execute_input": "2024-06-01T10:53:23.981936Z",
     "iopub.status.busy": "2024-06-01T10:53:23.981147Z",
     "iopub.status.idle": "2024-06-01T10:53:24.246783Z",
     "shell.execute_reply": "2024-06-01T10:53:24.245900Z"
    },
    "papermill": {
     "duration": 0.28814,
     "end_time": "2024-06-01T10:53:24.249090",
     "exception": false,
     "start_time": "2024-06-01T10:53:23.960950",
     "status": "completed"
    },
    "tags": []
   },
   "outputs": [
    {
     "data": {
      "image/png": "[encoded data removed]",
      "text/plain": [
       "<Figure size 640x480 with 1 Axes>"
      ]
     },
     "metadata": {},
     "output_type": "display_data"
    }
   ],
   "source": [
    "plot_losses(train_losses, test_losses)"
   ]
  },
  {
   "cell_type": "markdown",
   "id": "5a6ef232",
   "metadata": {
    "papermill": {
     "duration": 0.018732,
     "end_time": "2024-06-01T10:53:24.287265",
     "exception": false,
     "start_time": "2024-06-01T10:53:24.268533",
     "status": "completed"
    },
    "tags": []
   },
   "source": [
    "# Accuracies"
   ]
  },
  {
   "cell_type": "code",
   "execution_count": 20,
   "id": "167057e1",
   "metadata": {
    "execution": {
     "iopub.execute_input": "2024-06-01T10:53:24.326638Z",
     "iopub.status.busy": "2024-06-01T10:53:24.325870Z",
     "iopub.status.idle": "2024-06-01T10:53:48.995011Z",
     "shell.execute_reply": "2024-06-01T10:53:48.993930Z"
    },
    "papermill": {
     "duration": 24.691231,
     "end_time": "2024-06-01T10:53:48.997229",
     "exception": false,
     "start_time": "2024-06-01T10:53:24.305998",
     "status": "completed"
    },
    "tags": []
   },
   "outputs": [
    {
     "name": "stdout",
     "output_type": "stream",
     "text": [
      "Train data, target shapes: ((579638, 4), (579638, 4)),\n",
      " train accuracies [99.97670960150991, 99.34579858463385, 99.80763856061887, 98.10071113350057]\n",
      "Validation data, target shapes: ((144909, 4), (144909, 4)),\n",
      " validation accuracies [99.57076510085639, 95.31637096384628, 90.03719575733736, 68.69138562822185]\n"
     ]
    }
   ],
   "source": [
    "#Train accuracy\n",
    "yt, tgt, acct = get_pred_n_acc([model], device, train_loader, num_iter = len(train_loader))\n",
    "#validation accuracy\n",
    "yv, tgv, accv = get_pred_n_acc([model], device, val_loader, num_iter = len(val_loader))\n",
    "print(f'Train data, target shapes: {yt.shape, tgt.shape},\\n train accuracies {acct}')\n",
    "print(f'Validation data, target shapes: {yv.shape, tgv.shape},\\n validation accuracies {accv}')\n"
   ]
  },
  {
   "cell_type": "code",
   "execution_count": 21,
   "id": "cf244e97",
   "metadata": {
    "execution": {
     "iopub.execute_input": "2024-06-01T10:53:49.038043Z",
     "iopub.status.busy": "2024-06-01T10:53:49.037245Z",
     "iopub.status.idle": "2024-06-01T10:53:55.003603Z",
     "shell.execute_reply": "2024-06-01T10:53:55.002490Z"
    },
    "papermill": {
     "duration": 5.988824,
     "end_time": "2024-06-01T10:53:55.005682",
     "exception": false,
     "start_time": "2024-06-01T10:53:49.016858",
     "status": "completed"
    },
    "tags": []
   },
   "outputs": [
    {
     "name": "stdout",
     "output_type": "stream",
     "text": [
      "Test data, target shapes: ((181137, 4), (181137, 4)),\n",
      " test accuracies [99.58263634707431, 95.33115818413687, 90.17428796987915, 68.71097567034896]\n"
     ]
    }
   ],
   "source": [
    "#Test accuracy\n",
    "yts, tgts, accts = get_pred_n_acc([model], device, test_loader, num_iter = len(test_loader))\n",
    "print(f'Test data, target shapes: {yts.shape, tgts.shape},\\n test accuracies {accts}')\n"
   ]
  }
 ],
 "metadata": {
  "kaggle": {
   "accelerator": "gpu",
   "dataSources": [
    {
     "datasetId": 4575883,
     "sourceId": 8488978,
     "sourceType": "datasetVersion"
    },
    {
     "sourceId": 180758667,
     "sourceType": "kernelVersion"
    }
   ],
   "dockerImageVersionId": 30665,
   "isGpuEnabled": true,
   "isInternetEnabled": true,
   "language": "python",
   "sourceType": "notebook"
  },
  "kernelspec": {
   "display_name": "Python 3",
   "language": "python",
   "name": "python3"
  },
  "language_info": {
   "codemirror_mode": {
    "name": "ipython",
    "version": 3
   },
   "file_extension": ".py",
   "mimetype": "text/x-python",
   "name": "python",
   "nbconvert_exporter": "python",
   "pygments_lexer": "ipython3",
   "version": "3.10.13"
  },
  "papermill": {
   "default_parameters": {},
   "duration": 18259.513835,
   "end_time": "2024-06-01T10:53:56.786274",
   "environment_variables": {},
   "exception": null,
   "input_path": "__notebook__.ipynb",
   "output_path": "__notebook__.ipynb",
   "parameters": {},
   "start_time": "2024-06-01T05:49:37.272439",
   "version": "2.5.0"
  }
 },
 "nbformat": 4,
 "nbformat_minor": 5
}
