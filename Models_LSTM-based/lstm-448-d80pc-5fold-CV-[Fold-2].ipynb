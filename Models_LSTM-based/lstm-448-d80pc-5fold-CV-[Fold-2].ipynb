{
 "cells": [
  {
   "cell_type": "markdown",
   "id": "cf5eb3fd",
   "metadata": {
    "papermill": {
     "duration": 0.007698,
     "end_time": "2024-05-31T18:44:35.645057",
     "exception": false,
     "start_time": "2024-05-31T18:44:35.637359",
     "status": "completed"
    },
    "tags": []
   },
   "source": [
    "# CICY4: LSTM-448 [5-fold-CV] - Fold-2"
   ]
  },
  {
   "cell_type": "code",
   "execution_count": 1,
   "id": "7c75aa3d",
   "metadata": {
    "_cell_guid": "b1076dfc-b9ad-4769-8c92-a6c4dae69d19",
    "_uuid": "8f2839f25d086af736a60e9eeb907d3b93b6e0e5",
    "execution": {
     "iopub.execute_input": "2024-05-31T18:44:35.661067Z",
     "iopub.status.busy": "2024-05-31T18:44:35.660700Z",
     "iopub.status.idle": "2024-05-31T18:44:41.287311Z",
     "shell.execute_reply": "2024-05-31T18:44:41.286533Z"
    },
    "papermill": {
     "duration": 5.637398,
     "end_time": "2024-05-31T18:44:41.289632",
     "exception": false,
     "start_time": "2024-05-31T18:44:35.652234",
     "status": "completed"
    },
    "tags": []
   },
   "outputs": [],
   "source": [
    "import numpy as np\n",
    "import random\n",
    "import pandas as pd\n",
    "import os as os\n",
    "import matplotlib.pyplot as plt\n",
    "import seaborn as sns\n",
    "from datetime import datetime\n",
    "\n",
    "import torch\n",
    "import torch.nn as nn\n",
    "import torch.nn.functional as F\n",
    "import torch.optim.lr_scheduler as lr_scheduler"
   ]
  },
  {
   "cell_type": "code",
   "execution_count": 2,
   "id": "7e7baef2",
   "metadata": {
    "execution": {
     "iopub.execute_input": "2024-05-31T18:44:41.306182Z",
     "iopub.status.busy": "2024-05-31T18:44:41.305786Z",
     "iopub.status.idle": "2024-05-31T18:44:41.360382Z",
     "shell.execute_reply": "2024-05-31T18:44:41.359211Z"
    },
    "papermill": {
     "duration": 0.065138,
     "end_time": "2024-05-31T18:44:41.362317",
     "exception": false,
     "start_time": "2024-05-31T18:44:41.297179",
     "status": "completed"
    },
    "tags": []
   },
   "outputs": [
    {
     "name": "stdout",
     "output_type": "stream",
     "text": [
      "cuda:0\n"
     ]
    }
   ],
   "source": [
    "device = torch.device(\"cuda:0\" if torch.cuda.is_available() else \"cpu\")\n",
    "print(device)"
   ]
  },
  {
   "cell_type": "code",
   "execution_count": 3,
   "id": "05d398a6",
   "metadata": {
    "execution": {
     "iopub.execute_input": "2024-05-31T18:44:41.378016Z",
     "iopub.status.busy": "2024-05-31T18:44:41.377727Z",
     "iopub.status.idle": "2024-05-31T18:44:41.386037Z",
     "shell.execute_reply": "2024-05-31T18:44:41.385173Z"
    },
    "papermill": {
     "duration": 0.018336,
     "end_time": "2024-05-31T18:44:41.387929",
     "exception": false,
     "start_time": "2024-05-31T18:44:41.369593",
     "status": "completed"
    },
    "tags": []
   },
   "outputs": [],
   "source": [
    "seed = 42\n",
    "\n",
    "def seed_everything(seed):\n",
    "    random.seed(seed)\n",
    "    os.environ['PYTHONHASHSEED'] = str(seed)\n",
    "    np.random.seed(seed)\n",
    "    torch.manual_seed(seed)\n",
    "    torch.cuda.manual_seed(seed)\n",
    "    torch.cuda.manual_seed_all(seed)\n",
    "    torch.backends.cudnn.deterministic = True\n",
    "\n",
    "seed_everything(seed)"
   ]
  },
  {
   "cell_type": "markdown",
   "id": "e3e05772",
   "metadata": {
    "papermill": {
     "duration": 0.006905,
     "end_time": "2024-05-31T18:44:41.401908",
     "exception": false,
     "start_time": "2024-05-31T18:44:41.395003",
     "status": "completed"
    },
    "tags": []
   },
   "source": [
    " # LSTM-based network architecture"
   ]
  },
  {
   "cell_type": "code",
   "execution_count": 4,
   "id": "cfcea41e",
   "metadata": {
    "execution": {
     "iopub.execute_input": "2024-05-31T18:44:41.417270Z",
     "iopub.status.busy": "2024-05-31T18:44:41.416990Z",
     "iopub.status.idle": "2024-05-31T18:44:41.425653Z",
     "shell.execute_reply": "2024-05-31T18:44:41.424912Z"
    },
    "papermill": {
     "duration": 0.018428,
     "end_time": "2024-05-31T18:44:41.427529",
     "exception": false,
     "start_time": "2024-05-31T18:44:41.409101",
     "status": "completed"
    },
    "tags": []
   },
   "outputs": [],
   "source": [
    "class LSTM_block(nn.Module):\n",
    "    def __init__(self, n_inputs, n_hidden, n_rnnlayers, n_outputs):\n",
    "        super(LSTM_block,self).__init__()\n",
    "        self.D = n_inputs\n",
    "        self.M = n_hidden\n",
    "        self.K = n_outputs\n",
    "        self.L = n_rnnlayers\n",
    "        self.lstm = nn.LSTM(input_size = self.D,\n",
    "                           hidden_size = self.M,\n",
    "                           num_layers = self.L,\n",
    "                           batch_first = True)\n",
    "\n",
    "        self.feat_vec_size = self.M\n",
    "        self.fc1 = nn.Linear(self.feat_vec_size, 1024)\n",
    "        self.fc2 = nn.Linear(1024, 4)\n",
    "    def forward(self, X):\n",
    "        #input X is NxTxD\n",
    "        #initial hidden states\n",
    "        h0 = torch.zeros(self.L, X.size(0), self.M).to(device)\n",
    "        c0 = torch.zeros(self.L, X.size(0), self.M).to(device)\n",
    "        #get LSTM unit output:\n",
    "        #output is NxTxM\n",
    "        out, _ = self.lstm(X, (h0,c0))\n",
    "        #we only want the output y at the final time step\n",
    "        # output is now of shape (N, M)\n",
    "        xx = out[:, -1, :]\n",
    "        xx = self.fc1(xx)\n",
    "        #final output is 4\n",
    "        xx = self.fc2(xx)\n",
    "        return xx"
   ]
  },
  {
   "cell_type": "code",
   "execution_count": 5,
   "id": "30539c92",
   "metadata": {
    "execution": {
     "iopub.execute_input": "2024-05-31T18:44:41.443036Z",
     "iopub.status.busy": "2024-05-31T18:44:41.442504Z",
     "iopub.status.idle": "2024-05-31T18:44:41.777139Z",
     "shell.execute_reply": "2024-05-31T18:44:41.776164Z"
    },
    "papermill": {
     "duration": 0.344606,
     "end_time": "2024-05-31T18:44:41.779150",
     "exception": false,
     "start_time": "2024-05-31T18:44:41.434544",
     "status": "completed"
    },
    "tags": []
   },
   "outputs": [
    {
     "data": {
      "text/plain": [
       "LSTM_block(\n",
       "  (lstm): LSTM(20, 448, num_layers=2, batch_first=True)\n",
       "  (fc1): Linear(in_features=448, out_features=1024, bias=True)\n",
       "  (fc2): Linear(in_features=1024, out_features=4, bias=True)\n",
       ")"
      ]
     },
     "execution_count": 5,
     "metadata": {},
     "output_type": "execute_result"
    }
   ],
   "source": [
    "model = LSTM_block(20, 448, 2, 4)\n",
    "model.to(device)"
   ]
  },
  {
   "cell_type": "code",
   "execution_count": 6,
   "id": "1d4261be",
   "metadata": {
    "execution": {
     "iopub.execute_input": "2024-05-31T18:44:41.795733Z",
     "iopub.status.busy": "2024-05-31T18:44:41.795419Z",
     "iopub.status.idle": "2024-05-31T18:44:41.800642Z",
     "shell.execute_reply": "2024-05-31T18:44:41.799855Z"
    },
    "papermill": {
     "duration": 0.016252,
     "end_time": "2024-05-31T18:44:41.802737",
     "exception": false,
     "start_time": "2024-05-31T18:44:41.786485",
     "status": "completed"
    },
    "tags": []
   },
   "outputs": [
    {
     "name": "stdout",
     "output_type": "stream",
     "text": [
      "Total numbers of parameters: 2915332\n"
     ]
    }
   ],
   "source": [
    "#count the number of parameters in the model\n",
    "params = [p.numel() for p in model.parameters() if p.requires_grad]\n",
    "print(f'Total numbers of parameters: {sum(params)}')"
   ]
  },
  {
   "cell_type": "markdown",
   "id": "a15d5306",
   "metadata": {
    "papermill": {
     "duration": 0.007001,
     "end_time": "2024-05-31T18:44:41.816943",
     "exception": false,
     "start_time": "2024-05-31T18:44:41.809942",
     "status": "completed"
    },
    "tags": []
   },
   "source": [
    "# Load data (fold-0) & define dataset class"
   ]
  },
  {
   "cell_type": "code",
   "execution_count": 7,
   "id": "38c6544f",
   "metadata": {
    "execution": {
     "iopub.execute_input": "2024-05-31T18:44:41.832569Z",
     "iopub.status.busy": "2024-05-31T18:44:41.832300Z",
     "iopub.status.idle": "2024-05-31T18:44:57.973115Z",
     "shell.execute_reply": "2024-05-31T18:44:57.972190Z"
    },
    "papermill": {
     "duration": 16.151127,
     "end_time": "2024-05-31T18:44:57.975390",
     "exception": false,
     "start_time": "2024-05-31T18:44:41.824263",
     "status": "completed"
    },
    "tags": []
   },
   "outputs": [
    {
     "name": "stdout",
     "output_type": "stream",
     "text": [
      "(579638, 16, 20) (144909, 16, 20) (181137, 16, 20)\n",
      "(579638, 4) (144909, 4) (181137, 4)\n",
      "0.640000264993088 0.1599995141793385 0.2000002208275734\n"
     ]
    }
   ],
   "source": [
    "# load data\n",
    "path = '/kaggle/input/cicy4-data-for-5-fold-cv/'\n",
    "X_train = np.load(path + 'foldx_2_Xtrain.npy')\n",
    "X_valid = np.load(path +'foldx_2_Xval.npy')\n",
    "y_train = np.load(path+'foldx_2_ytrain.npy')\n",
    "y_valid = np.load(path+'foldx_2_yval.npy')\n",
    "\n",
    "#Test set is the original test set from the 72% dataset\n",
    "path2 = '/kaggle/input/calabi-yau-cicy-4-folds/'\n",
    "X_test = np.load(path2+'conf_Xtest.npy')\n",
    "y_test= np.load(path2+'hodge_ytest.npy')\n",
    "\n",
    "print(X_train.shape, X_valid.shape, X_test.shape)\n",
    "print(y_train.shape, y_valid.shape, y_test.shape)\n",
    "print(y_train.shape[0]/905684, y_valid.shape[0]/905684, y_test.shape[0]/905684)"
   ]
  },
  {
   "cell_type": "code",
   "execution_count": 8,
   "id": "bc04b173",
   "metadata": {
    "execution": {
     "iopub.execute_input": "2024-05-31T18:44:57.992096Z",
     "iopub.status.busy": "2024-05-31T18:44:57.991578Z",
     "iopub.status.idle": "2024-05-31T18:44:58.458360Z",
     "shell.execute_reply": "2024-05-31T18:44:58.457285Z"
    },
    "papermill": {
     "duration": 0.477743,
     "end_time": "2024-05-31T18:44:58.460813",
     "exception": false,
     "start_time": "2024-05-31T18:44:57.983070",
     "status": "completed"
    },
    "tags": []
   },
   "outputs": [],
   "source": [
    "#Convert data to torch tensor with float32 precision\n",
    "#(needed to be compatible with the floating decision of the network parameters)\n",
    "X_train = torch.from_numpy(X_train.astype(np.float32))\n",
    "y_train = torch.from_numpy(y_train.astype(np.float32))\n",
    "\n",
    "X_valid = torch.from_numpy(X_valid.astype(np.float32))\n",
    "y_valid = torch.from_numpy(y_valid.astype(np.float32))\n",
    "\n",
    "X_test = torch.from_numpy(X_test.astype(np.float32))\n",
    "y_test= torch.from_numpy(y_test.astype(np.float32))"
   ]
  },
  {
   "cell_type": "code",
   "execution_count": 9,
   "id": "491343d2",
   "metadata": {
    "execution": {
     "iopub.execute_input": "2024-05-31T18:44:58.477804Z",
     "iopub.status.busy": "2024-05-31T18:44:58.477208Z",
     "iopub.status.idle": "2024-05-31T18:44:58.483774Z",
     "shell.execute_reply": "2024-05-31T18:44:58.482866Z"
    },
    "papermill": {
     "duration": 0.017159,
     "end_time": "2024-05-31T18:44:58.485824",
     "exception": false,
     "start_time": "2024-05-31T18:44:58.468665",
     "status": "completed"
    },
    "tags": []
   },
   "outputs": [],
   "source": [
    "class CICY4Dataset(torch.utils.data.Dataset):\n",
    "    def __init__(self, X, y):\n",
    "        self.X = X\n",
    "        self.y = y\n",
    "    def __len__(self):\n",
    "        return len(self.X)\n",
    "    def __getitem__(self, idx):\n",
    "        X0 = self.X[idx]\n",
    "        y0 = self.y[idx]\n",
    "        return X0, y0\n",
    "\n",
    "train_set = CICY4Dataset(X_train, y_train)\n",
    "val_set = CICY4Dataset(X_valid, y_valid)\n",
    "test_set = CICY4Dataset(X_test, y_test)"
   ]
  },
  {
   "cell_type": "code",
   "execution_count": 10,
   "id": "4e11c18a",
   "metadata": {
    "execution": {
     "iopub.execute_input": "2024-05-31T18:44:58.502300Z",
     "iopub.status.busy": "2024-05-31T18:44:58.502046Z",
     "iopub.status.idle": "2024-05-31T18:44:58.507172Z",
     "shell.execute_reply": "2024-05-31T18:44:58.506327Z"
    },
    "papermill": {
     "duration": 0.015555,
     "end_time": "2024-05-31T18:44:58.508987",
     "exception": false,
     "start_time": "2024-05-31T18:44:58.493432",
     "status": "completed"
    },
    "tags": []
   },
   "outputs": [],
   "source": [
    "from torch.utils.data import DataLoader\n",
    "\n",
    "train_loader = DataLoader(train_set, batch_size=128, shuffle=True)\n",
    "val_loader = DataLoader(val_set, batch_size=128, shuffle=True)\n",
    "test_loader = DataLoader(test_set, batch_size=128, shuffle=False)"
   ]
  },
  {
   "cell_type": "markdown",
   "id": "91eb6947",
   "metadata": {
    "papermill": {
     "duration": 0.007269,
     "end_time": "2024-05-31T18:44:58.523642",
     "exception": false,
     "start_time": "2024-05-31T18:44:58.516373",
     "status": "completed"
    },
    "tags": []
   },
   "source": [
    "# Utility functions"
   ]
  },
  {
   "cell_type": "code",
   "execution_count": 11,
   "id": "2a90f202",
   "metadata": {
    "execution": {
     "iopub.execute_input": "2024-05-31T18:44:58.539578Z",
     "iopub.status.busy": "2024-05-31T18:44:58.539311Z",
     "iopub.status.idle": "2024-05-31T18:44:58.545545Z",
     "shell.execute_reply": "2024-05-31T18:44:58.544676Z"
    },
    "papermill": {
     "duration": 0.016451,
     "end_time": "2024-05-31T18:44:58.547428",
     "exception": false,
     "start_time": "2024-05-31T18:44:58.530977",
     "status": "completed"
    },
    "tags": []
   },
   "outputs": [],
   "source": [
    "def train_one_epoch(model, criterion, optimizer, train_loader):\n",
    "    model.train()\n",
    "    train_loss = []\n",
    "    for inputs, target in train_loader:\n",
    "        inputs, target = inputs.to(device), target.to(device)\n",
    "        optimizer.zero_grad()\n",
    "        out = model(inputs)\n",
    "        loss = criterion(out, target)\n",
    "        loss.backward()\n",
    "        optimizer.step()\n",
    "        train_loss.append(loss.item())\n",
    "    #average the train_loss list in for all batches in the train_gen\n",
    "    train_loss = np.mean(train_loss)\n",
    "    return train_loss"
   ]
  },
  {
   "cell_type": "code",
   "execution_count": 12,
   "id": "5a0c32b5",
   "metadata": {
    "execution": {
     "iopub.execute_input": "2024-05-31T18:44:58.563895Z",
     "iopub.status.busy": "2024-05-31T18:44:58.563231Z",
     "iopub.status.idle": "2024-05-31T18:44:58.568938Z",
     "shell.execute_reply": "2024-05-31T18:44:58.568073Z"
    },
    "papermill": {
     "duration": 0.015974,
     "end_time": "2024-05-31T18:44:58.570860",
     "exception": false,
     "start_time": "2024-05-31T18:44:58.554886",
     "status": "completed"
    },
    "tags": []
   },
   "outputs": [],
   "source": [
    "def validate_one_epoch(model, criterion, optimizer, val_loader):\n",
    "    model.eval()\n",
    "    test_loss = []\n",
    "    for inputs, target in val_loader:\n",
    "        inputs, target = inputs.to(device), target.to(device)\n",
    "        out = model(inputs)\n",
    "        loss = criterion(out, target)\n",
    "        test_loss.append(loss.item())\n",
    "    #average the test_loss list in for all batches in the test_gen\n",
    "    test_loss = np.mean(test_loss)\n",
    "    return test_loss"
   ]
  },
  {
   "cell_type": "code",
   "execution_count": 13,
   "id": "04834abd",
   "metadata": {
    "execution": {
     "iopub.execute_input": "2024-05-31T18:44:58.587226Z",
     "iopub.status.busy": "2024-05-31T18:44:58.586504Z",
     "iopub.status.idle": "2024-05-31T18:44:58.597291Z",
     "shell.execute_reply": "2024-05-31T18:44:58.596595Z"
    },
    "papermill": {
     "duration": 0.020976,
     "end_time": "2024-05-31T18:44:58.599160",
     "exception": false,
     "start_time": "2024-05-31T18:44:58.578184",
     "status": "completed"
    },
    "tags": []
   },
   "outputs": [],
   "source": [
    "def batch_gd_scheduler(model, new_model_name, criterion, optimizer, train_loader, val_loader, scheduler,\n",
    "                         epochs, device, batch_size=128):\n",
    "    train_losses = np.zeros(epochs)\n",
    "    test_losses = np.zeros(epochs)\n",
    "    patience = 0\n",
    "    best_loss = 1000\n",
    "    max_patience = 20\n",
    "    for i in range(epochs):\n",
    "        t0 = datetime.now()\n",
    "        train_loss = train_one_epoch(model, criterion, optimizer,train_loader)\n",
    "        test_loss = validate_one_epoch(model, criterion, optimizer,val_loader)\n",
    "        #Early stopping based on test loss\n",
    "        if i == 0:\n",
    "            best_loss = test_loss\n",
    "            torch.save(model, f'/kaggle/working/{new_model_name}.pt')\n",
    "            #torch.save(model, path+f'{new_model_name}.pt')\n",
    "            print(f'Model saved as {new_model_name} at epoch {i}')\n",
    "        else:\n",
    "            if test_loss < best_loss:\n",
    "                best_loss = test_loss\n",
    "                torch.save(model, f'/kaggle/working/{new_model_name}.pt')\n",
    "                #torch.save(model, path+f'{new_model_name}.pt')\n",
    "                print(f'Model overwritten at epoch {i}, new best val loss {best_loss}')\n",
    "                patience = 0\n",
    "            else:\n",
    "                patience = patience +1\n",
    "                #print(f'No improvement, current patience level is {patience} at epoch {i}')\n",
    "        if patience > max_patience:\n",
    "            print(f'Max patience reached, training is terminated at epoch {i}')\n",
    "            break\n",
    "        #Apply scheduler after the train+validate parts\n",
    "        before_lr = optimizer.param_groups[0][\"lr\"]\n",
    "        scheduler.step(test_loss)\n",
    "        after_lr = optimizer.param_groups[0][\"lr\"]\n",
    "        train_losses[i] = train_loss\n",
    "        test_losses[i] = test_loss\n",
    "        #write the losses into a csv file\n",
    "        loss_dict = {'train_loss': train_losses, 'val_loss': test_losses}\n",
    "        dd = pd.DataFrame(loss_dict)\n",
    "        dd.to_csv('loss_dict_lstm_448_fold2.csv', index = False)\n",
    "        dt = datetime.now()-t0\n",
    "        if i%10==0:\n",
    "            print(f'Epoch: {i}/{epochs}, train loss: {train_loss: .3f}, val_loss: {test_loss: .3f}, duration: {dt}, learning rate: {before_lr, after_lr}')\n",
    "    return train_losses, test_losses\n"
   ]
  },
  {
   "cell_type": "code",
   "execution_count": 14,
   "id": "eaa9ea6f",
   "metadata": {
    "execution": {
     "iopub.execute_input": "2024-05-31T18:44:58.616134Z",
     "iopub.status.busy": "2024-05-31T18:44:58.615855Z",
     "iopub.status.idle": "2024-05-31T18:44:58.622575Z",
     "shell.execute_reply": "2024-05-31T18:44:58.621729Z"
    },
    "papermill": {
     "duration": 0.017975,
     "end_time": "2024-05-31T18:44:58.624645",
     "exception": false,
     "start_time": "2024-05-31T18:44:58.606670",
     "status": "completed"
    },
    "tags": []
   },
   "outputs": [],
   "source": [
    "def train_from_scratch_or_load(load_model_weight,new_model_name, epochs):\n",
    "    if load_model_weight==None:\n",
    "        #criterion = nn.MSELoss()\n",
    "        criterion = nn.HuberLoss()\n",
    "        optimizer = torch.optim.AdamW(model.parameters(), lr=0.01)\n",
    "        scheduler = lr_scheduler.ReduceLROnPlateau(optimizer, 'min', factor=0.1, min_lr = 1e-8)\n",
    "        train_losses, test_losses=batch_gd_scheduler(model, new_model_name, criterion,\n",
    "                                                     optimizer,train_loader, val_loader,\n",
    "                                                      scheduler, epochs,\n",
    "                                                       device = device)\n",
    "        return train_losses, test_losses\n",
    "    else:\n",
    "        if torch.cuda.is_available():\n",
    "            trained_model = torch.load(load_model_weight)\n",
    "        else:\n",
    "            trained_model = torch.load(load_model_weight, map_location=torch.device('cpu'))\n",
    "        return trained_model"
   ]
  },
  {
   "cell_type": "code",
   "execution_count": 15,
   "id": "a18a1a59",
   "metadata": {
    "execution": {
     "iopub.execute_input": "2024-05-31T18:44:58.641073Z",
     "iopub.status.busy": "2024-05-31T18:44:58.640799Z",
     "iopub.status.idle": "2024-05-31T18:44:58.646769Z",
     "shell.execute_reply": "2024-05-31T18:44:58.645957Z"
    },
    "papermill": {
     "duration": 0.016335,
     "end_time": "2024-05-31T18:44:58.648653",
     "exception": false,
     "start_time": "2024-05-31T18:44:58.632318",
     "status": "completed"
    },
    "tags": []
   },
   "outputs": [],
   "source": [
    "def load_and_retrain(load_model_weight, new_model_name, epochs):\n",
    "    trained_model = torch.load(load_model_weight)\n",
    "    print('Trained model loaded')\n",
    "    criterion = nn.HuberLoss()\n",
    "    optimizer = torch.optim.AdamW(trained_model.parameters(),lr=0.01)\n",
    "    scheduler = lr_scheduler.ReduceLROnPlateau(optimizer, 'min', factor=0.1, min_lr = 1e-7)\n",
    "    trained_model.train()\n",
    "    print('Begin retraining')\n",
    "    train_losses, test_losses=batch_gd_scheduler(trained_model,new_model_name, criterion, optimizer,\n",
    "                                                 train_loader, val_loader,\n",
    "                                                 scheduler, epochs,\n",
    "                                                 device = device)\n",
    "    return trained_model, train_losses, test_losses"
   ]
  },
  {
   "cell_type": "code",
   "execution_count": 16,
   "id": "f5866077",
   "metadata": {
    "execution": {
     "iopub.execute_input": "2024-05-31T18:44:58.664570Z",
     "iopub.status.busy": "2024-05-31T18:44:58.664335Z",
     "iopub.status.idle": "2024-05-31T18:44:58.668718Z",
     "shell.execute_reply": "2024-05-31T18:44:58.667820Z"
    },
    "papermill": {
     "duration": 0.014274,
     "end_time": "2024-05-31T18:44:58.670531",
     "exception": false,
     "start_time": "2024-05-31T18:44:58.656257",
     "status": "completed"
    },
    "tags": []
   },
   "outputs": [],
   "source": [
    "def plot_losses(train_losses, test_losses):\n",
    "    # Plot the train loss and test loss per iteration\n",
    "    plt.plot(train_losses, label='train loss')\n",
    "    plt.plot(test_losses, label='val loss')\n",
    "    plt.legend()\n",
    "    plt.show()"
   ]
  },
  {
   "cell_type": "code",
   "execution_count": 17,
   "id": "5c83b923",
   "metadata": {
    "execution": {
     "iopub.execute_input": "2024-05-31T18:44:58.686240Z",
     "iopub.status.busy": "2024-05-31T18:44:58.685985Z",
     "iopub.status.idle": "2024-05-31T18:44:58.696948Z",
     "shell.execute_reply": "2024-05-31T18:44:58.696103Z"
    },
    "papermill": {
     "duration": 0.020893,
     "end_time": "2024-05-31T18:44:58.698742",
     "exception": false,
     "start_time": "2024-05-31T18:44:58.677849",
     "status": "completed"
    },
    "tags": []
   },
   "outputs": [],
   "source": [
    "################## GET PREDICTIONS + ACCURACY #####################\n",
    "def get_pred_n_acc(models, device, dataloader, num_iter):\n",
    "    i = 0\n",
    "    ypreds =[]\n",
    "    targets = []\n",
    "    #The last batch might not have size 128\n",
    "    while i< num_iter:\n",
    "        for data, target in dataloader:\n",
    "            #this empty list is to hold all models' preds\n",
    "            ypred = []\n",
    "            data= data.to(device)\n",
    "            data = data.to(torch.float32)\n",
    "            target = target.to(torch.float32)\n",
    "            #append the 'i^th' target\n",
    "            targets.append(target)\n",
    "            for model in models:\n",
    "                model.eval()\n",
    "                yp = model(data)\n",
    "                yp = yp.detach().cpu().numpy()\n",
    "                ypred.append(yp)\n",
    "            #take the mean of all models' predictions\n",
    "            ypred = np.array(ypred).mean(axis = 0)\n",
    "            ypred = np.round(ypred)\n",
    "            i+=1\n",
    "            #append ypred, targets inside the 'i' loop\n",
    "            # append the 'i^th' mean prediction\n",
    "            ypreds.append(ypred)\n",
    "            if i == num_iter:\n",
    "                break\n",
    "     #Do not convert ypreds, targets to np.array at this point,\n",
    "    #since the last batch has a different size, causing an error !\n",
    "    #CALCULATING ACCURACY\n",
    "    yp =  np.concatenate([ypreds[j] for j in range(len(ypreds))], axis = 0)\n",
    "    tgs =  np.concatenate([targets[j] for j in range(len(targets))], axis = 0)\n",
    "    h11_acc = ((yp[:,0] == tgs[:,0]).sum())/len(yp)\n",
    "    h21_acc = ((yp[:,1] == tgs[:,1]).sum())/len(yp)\n",
    "    h31_acc = ((yp[:,2] == tgs[:,2]).sum())/len(yp)\n",
    "    h22_acc = ((yp[:,3] == tgs[:,3]).sum())/len(yp)\n",
    "    acc = [h11_acc*100,h21_acc*100,h31_acc*100,h22_acc*100 ]\n",
    "    return  yp, tgs, acc\n"
   ]
  },
  {
   "cell_type": "markdown",
   "id": "dd4ba64c",
   "metadata": {
    "papermill": {
     "duration": 0.007453,
     "end_time": "2024-05-31T18:44:58.713476",
     "exception": false,
     "start_time": "2024-05-31T18:44:58.706023",
     "status": "completed"
    },
    "tags": []
   },
   "source": [
    "# Train loop"
   ]
  },
  {
   "cell_type": "code",
   "execution_count": 18,
   "id": "8d8eca15",
   "metadata": {
    "execution": {
     "iopub.execute_input": "2024-05-31T18:44:58.729634Z",
     "iopub.status.busy": "2024-05-31T18:44:58.729392Z",
     "iopub.status.idle": "2024-05-31T22:32:56.249475Z",
     "shell.execute_reply": "2024-05-31T22:32:56.248374Z"
    },
    "papermill": {
     "duration": 13677.548507,
     "end_time": "2024-05-31T22:32:56.269674",
     "exception": false,
     "start_time": "2024-05-31T18:44:58.721167",
     "status": "completed"
    },
    "tags": []
   },
   "outputs": [
    {
     "name": "stdout",
     "output_type": "stream",
     "text": [
      "Model saved as LSTM-448-d80-fold2 at epoch 0\n",
      "Epoch: 0/550, train loss:  10.001, val_loss:  9.703, duration: 0:00:50.114550, learning rate: (0.01, 0.01)\n",
      "Model overwritten at epoch 1, new best val loss 9.668595417978905\n",
      "Model overwritten at epoch 4, new best val loss 9.659894073314616\n",
      "Model overwritten at epoch 5, new best val loss 9.626951667553328\n",
      "Epoch: 10/550, train loss:  9.686, val_loss:  9.680, duration: 0:00:49.421635, learning rate: (0.01, 0.01)\n",
      "Model overwritten at epoch 11, new best val loss 8.333293629450178\n",
      "Model overwritten at epoch 16, new best val loss 8.321935981959236\n",
      "Model overwritten at epoch 17, new best val loss 8.318706409339871\n",
      "Epoch: 20/550, train loss:  8.463, val_loss:  8.415, duration: 0:00:49.673126, learning rate: (0.01, 0.01)\n",
      "Model overwritten at epoch 21, new best val loss 8.313479485810593\n",
      "Model overwritten at epoch 25, new best val loss 8.29412847478518\n",
      "Epoch: 30/550, train loss:  8.609, val_loss:  8.302, duration: 0:00:49.693572, learning rate: (0.01, 0.01)\n",
      "Model overwritten at epoch 31, new best val loss 8.292793374511907\n",
      "Epoch: 40/550, train loss:  8.451, val_loss:  8.362, duration: 0:00:49.713956, learning rate: (0.01, 0.01)\n",
      "Model overwritten at epoch 43, new best val loss 8.289402088020507\n",
      "Model overwritten at epoch 44, new best val loss 8.275866555620482\n",
      "Model overwritten at epoch 46, new best val loss 7.189639099908948\n",
      "Model overwritten at epoch 47, new best val loss 7.095581561826755\n",
      "Model overwritten at epoch 48, new best val loss 6.8576170040881435\n",
      "Model overwritten at epoch 49, new best val loss 6.814838846279053\n",
      "Model overwritten at epoch 50, new best val loss 6.565005017926182\n",
      "Epoch: 50/550, train loss:  6.728, val_loss:  6.565, duration: 0:00:49.683937, learning rate: (0.001, 0.001)\n",
      "Model overwritten at epoch 51, new best val loss 6.535849825849811\n",
      "Model overwritten at epoch 52, new best val loss 6.402574209438839\n",
      "Model overwritten at epoch 53, new best val loss 6.235273986607658\n",
      "Model overwritten at epoch 54, new best val loss 6.204064141935936\n",
      "Model overwritten at epoch 55, new best val loss 6.073082827511659\n",
      "Model overwritten at epoch 56, new best val loss 5.763266801623676\n",
      "Model overwritten at epoch 57, new best val loss 5.683440788593948\n",
      "Model overwritten at epoch 58, new best val loss 5.585382156422574\n",
      "Model overwritten at epoch 60, new best val loss 5.06277057583734\n",
      "Epoch: 60/550, train loss:  5.164, val_loss:  5.063, duration: 0:00:49.836227, learning rate: (0.001, 0.001)\n",
      "Model overwritten at epoch 61, new best val loss 4.49987678494163\n",
      "Model overwritten at epoch 62, new best val loss 4.354336912823481\n",
      "Model overwritten at epoch 63, new best val loss 3.8777743307553028\n",
      "Model overwritten at epoch 64, new best val loss 3.5362529188578673\n",
      "Model overwritten at epoch 65, new best val loss 3.273445014709513\n",
      "Model overwritten at epoch 66, new best val loss 3.112467642495407\n",
      "Model overwritten at epoch 68, new best val loss 2.9034352123684726\n",
      "Model overwritten at epoch 70, new best val loss 2.523872121603007\n",
      "Epoch: 70/550, train loss:  2.660, val_loss:  2.524, duration: 0:00:50.483401, learning rate: (0.001, 0.001)\n",
      "Model overwritten at epoch 71, new best val loss 2.4517754535178433\n",
      "Model overwritten at epoch 72, new best val loss 2.3473239189107544\n",
      "Model overwritten at epoch 74, new best val loss 2.2918041455251186\n",
      "Model overwritten at epoch 75, new best val loss 2.143592773026738\n",
      "Model overwritten at epoch 76, new best val loss 2.1049902043506727\n",
      "Model overwritten at epoch 77, new best val loss 2.1037485006101764\n",
      "Model overwritten at epoch 78, new best val loss 1.9713941610501282\n",
      "Model overwritten at epoch 79, new best val loss 1.7488499616798003\n",
      "Epoch: 80/550, train loss:  1.785, val_loss:  1.749, duration: 0:00:50.237972, learning rate: (0.001, 0.001)\n",
      "Model overwritten at epoch 82, new best val loss 1.7045769623077136\n",
      "Model overwritten at epoch 83, new best val loss 1.6051534748350953\n",
      "Model overwritten at epoch 84, new best val loss 1.6003113395854212\n",
      "Model overwritten at epoch 85, new best val loss 1.543568809792097\n",
      "Model overwritten at epoch 87, new best val loss 1.4620905381225424\n",
      "Model overwritten at epoch 89, new best val loss 1.437969035315282\n",
      "Epoch: 90/550, train loss:  1.352, val_loss:  1.580, duration: 0:00:50.121758, learning rate: (0.001, 0.001)\n",
      "Model overwritten at epoch 91, new best val loss 1.3552660636952358\n",
      "Model overwritten at epoch 92, new best val loss 1.337889730772505\n",
      "Model overwritten at epoch 95, new best val loss 1.3053888633834085\n",
      "Model overwritten at epoch 96, new best val loss 1.191945330347514\n",
      "Model overwritten at epoch 100, new best val loss 1.18133122186585\n",
      "Epoch: 100/550, train loss:  1.111, val_loss:  1.181, duration: 0:00:50.368667, learning rate: (0.001, 0.001)\n",
      "Model overwritten at epoch 101, new best val loss 1.157324078013596\n",
      "Model overwritten at epoch 104, new best val loss 1.0967167180560904\n",
      "Model overwritten at epoch 106, new best val loss 1.0863033174311074\n",
      "Model overwritten at epoch 108, new best val loss 1.0373865303378766\n",
      "Epoch: 110/550, train loss:  0.948, val_loss:  1.221, duration: 0:00:50.284512, learning rate: (0.001, 0.001)\n",
      "Model overwritten at epoch 114, new best val loss 0.9994468648456832\n",
      "Model overwritten at epoch 115, new best val loss 0.9886285945154983\n",
      "Model overwritten at epoch 117, new best val loss 0.9307482260470883\n",
      "Model overwritten at epoch 118, new best val loss 0.9269791559003037\n",
      "Epoch: 120/550, train loss:  0.835, val_loss:  0.930, duration: 0:00:50.222418, learning rate: (0.001, 0.001)\n",
      "Model overwritten at epoch 122, new best val loss 0.9068726106018276\n",
      "Model overwritten at epoch 123, new best val loss 0.8856381783418075\n",
      "Model overwritten at epoch 126, new best val loss 0.8306416167375374\n",
      "Epoch: 130/550, train loss:  0.755, val_loss:  0.876, duration: 0:00:50.323863, learning rate: (0.001, 0.001)\n",
      "Model overwritten at epoch 132, new best val loss 0.8275337197143002\n",
      "Model overwritten at epoch 138, new best val loss 0.7734019482756544\n",
      "Model overwritten at epoch 140, new best val loss 0.7609572477132371\n",
      "Epoch: 140/550, train loss:  0.684, val_loss:  0.761, duration: 0:00:50.491968, learning rate: (0.001, 0.001)\n",
      "Model overwritten at epoch 147, new best val loss 0.7308347459293948\n",
      "Model overwritten at epoch 149, new best val loss 0.6800588138158197\n",
      "Epoch: 150/550, train loss:  0.621, val_loss:  0.770, duration: 0:00:50.685568, learning rate: (0.001, 0.001)\n",
      "Model overwritten at epoch 154, new best val loss 0.669884589033009\n",
      "Model overwritten at epoch 157, new best val loss 0.6311102758333521\n",
      "Epoch: 160/550, train loss:  0.567, val_loss:  0.870, duration: 0:00:50.666369, learning rate: (0.001, 0.001)\n",
      "Model overwritten at epoch 166, new best val loss 0.614076469156033\n",
      "Model overwritten at epoch 170, new best val loss 0.608152255258093\n",
      "Epoch: 170/550, train loss:  0.532, val_loss:  0.608, duration: 0:00:49.943732, learning rate: (0.001, 0.001)\n",
      "Model overwritten at epoch 174, new best val loss 0.5614273458166872\n",
      "Epoch: 180/550, train loss:  0.500, val_loss:  0.596, duration: 0:00:49.665884, learning rate: (0.001, 0.001)\n",
      "Model overwritten at epoch 186, new best val loss 0.3615496004853539\n",
      "Model overwritten at epoch 187, new best val loss 0.33762872019176027\n",
      "Model overwritten at epoch 188, new best val loss 0.3243614254356588\n",
      "Model overwritten at epoch 189, new best val loss 0.3206206520679033\n",
      "Model overwritten at epoch 190, new best val loss 0.3134966404929376\n",
      "Epoch: 190/550, train loss:  0.167, val_loss:  0.313, duration: 0:00:49.728352, learning rate: (0.0001, 0.0001)\n",
      "Model overwritten at epoch 191, new best val loss 0.31186676185844436\n",
      "Model overwritten at epoch 192, new best val loss 0.30662669868776465\n",
      "Model overwritten at epoch 193, new best val loss 0.3051991987075831\n",
      "Model overwritten at epoch 194, new best val loss 0.29931075685548236\n",
      "Model overwritten at epoch 195, new best val loss 0.29680502747447746\n",
      "Model overwritten at epoch 198, new best val loss 0.291865395031876\n",
      "Epoch: 200/550, train loss:  0.118, val_loss:  0.292, duration: 0:00:49.629524, learning rate: (0.0001, 0.0001)\n",
      "Model overwritten at epoch 201, new best val loss 0.2892143897718807\n",
      "Model overwritten at epoch 202, new best val loss 0.28884060492793334\n",
      "Model overwritten at epoch 203, new best val loss 0.287604731888184\n",
      "Model overwritten at epoch 204, new best val loss 0.2864437485993277\n",
      "Model overwritten at epoch 206, new best val loss 0.286021612012481\n",
      "Model overwritten at epoch 207, new best val loss 0.2837469088405187\n",
      "Model overwritten at epoch 209, new best val loss 0.28271184709097363\n",
      "Epoch: 210/550, train loss:  0.097, val_loss:  0.283, duration: 0:00:49.554320, learning rate: (0.0001, 0.0001)\n",
      "Model overwritten at epoch 211, new best val loss 0.2825617817709747\n",
      "Model overwritten at epoch 212, new best val loss 0.282391872602233\n",
      "Model overwritten at epoch 213, new best val loss 0.28181501846211415\n",
      "Model overwritten at epoch 216, new best val loss 0.2813298915433126\n",
      "Model overwritten at epoch 219, new best val loss 0.27883132192695026\n",
      "Epoch: 220/550, train loss:  0.084, val_loss:  0.281, duration: 0:00:49.747652, learning rate: (0.0001, 0.0001)\n",
      "Model overwritten at epoch 226, new best val loss 0.2774691586723816\n",
      "Model overwritten at epoch 228, new best val loss 0.2766175261531798\n",
      "Epoch: 230/550, train loss:  0.076, val_loss:  0.277, duration: 0:00:49.787055, learning rate: (0.0001, 0.0001)\n",
      "Model overwritten at epoch 237, new best val loss 0.2764281350280843\n",
      "Model overwritten at epoch 238, new best val loss 0.2753799076521702\n",
      "Epoch: 240/550, train loss:  0.070, val_loss:  0.278, duration: 0:00:49.531008, learning rate: (0.0001, 0.0001)\n",
      "Model overwritten at epoch 250, new best val loss 0.26656651287771177\n",
      "Epoch: 250/550, train loss:  0.050, val_loss:  0.267, duration: 0:00:49.488014, learning rate: (1e-05, 1e-05)\n",
      "Model overwritten at epoch 251, new best val loss 0.26603336573725556\n",
      "Model overwritten at epoch 252, new best val loss 0.2658826029692618\n",
      "Epoch: 260/550, train loss:  0.040, val_loss:  0.267, duration: 0:00:49.434694, learning rate: (1e-05, 1e-05)\n",
      "Epoch: 270/550, train loss:  0.037, val_loss:  0.267, duration: 0:00:49.274605, learning rate: (1.0000000000000002e-06, 1.0000000000000002e-06)\n",
      "Max patience reached, training is terminated at epoch 273\n"
     ]
    }
   ],
   "source": [
    "load_model_weight = None\n",
    "epochs = 550\n",
    "new_model_name = 'LSTM-448-d80-fold2'\n",
    "if load_model_weight is None:\n",
    "    train_losses, test_losses=train_from_scratch_or_load(load_model_weight,new_model_name,  epochs)\n",
    "else:\n",
    "    model, train_losses, test_losses=load_and_retrain(load_model_weight, new_model_name, epochs)"
   ]
  },
  {
   "cell_type": "code",
   "execution_count": 19,
   "id": "30f96243",
   "metadata": {
    "execution": {
     "iopub.execute_input": "2024-05-31T22:32:56.304785Z",
     "iopub.status.busy": "2024-05-31T22:32:56.304436Z",
     "iopub.status.idle": "2024-05-31T22:32:56.513242Z",
     "shell.execute_reply": "2024-05-31T22:32:56.512230Z"
    },
    "papermill": {
     "duration": 0.228674,
     "end_time": "2024-05-31T22:32:56.515216",
     "exception": false,
     "start_time": "2024-05-31T22:32:56.286542",
     "status": "completed"
    },
    "tags": []
   },
   "outputs": [
    {
     "data": {
      "image/png": "[encoded data removed]",
      "text/plain": [
       "<Figure size 640x480 with 1 Axes>"
      ]
     },
     "metadata": {},
     "output_type": "display_data"
    }
   ],
   "source": [
    "plot_losses(train_losses, test_losses)"
   ]
  },
  {
   "cell_type": "markdown",
   "id": "6f29ced8",
   "metadata": {
    "papermill": {
     "duration": 0.016958,
     "end_time": "2024-05-31T22:32:56.550261",
     "exception": false,
     "start_time": "2024-05-31T22:32:56.533303",
     "status": "completed"
    },
    "tags": []
   },
   "source": [
    "# Accuracies"
   ]
  },
  {
   "cell_type": "code",
   "execution_count": 20,
   "id": "ff5510eb",
   "metadata": {
    "execution": {
     "iopub.execute_input": "2024-05-31T22:32:56.585611Z",
     "iopub.status.busy": "2024-05-31T22:32:56.585326Z",
     "iopub.status.idle": "2024-05-31T22:33:22.249053Z",
     "shell.execute_reply": "2024-05-31T22:33:22.247966Z"
    },
    "papermill": {
     "duration": 25.683876,
     "end_time": "2024-05-31T22:33:22.251103",
     "exception": false,
     "start_time": "2024-05-31T22:32:56.567227",
     "status": "completed"
    },
    "tags": []
   },
   "outputs": [
    {
     "name": "stdout",
     "output_type": "stream",
     "text": [
      "Train data, target shapes: ((579638, 4), (579638, 4)),\n",
      " train accuracies [99.77899999654957, 96.76763773251581, 98.08690941587682, 85.8746320979646]\n",
      "Validation data, target shapes: ((144909, 4), (144909, 4)),\n",
      " validation accuracies [99.01524404971396, 91.41254166407884, 81.97144414770649, 58.948029452967035]\n"
     ]
    }
   ],
   "source": [
    "#Train accuracy\n",
    "yt, tgt, acct = get_pred_n_acc([model], device, train_loader, num_iter = len(train_loader))\n",
    "#validation accuracy\n",
    "yv, tgv, accv = get_pred_n_acc([model], device, val_loader, num_iter = len(val_loader))\n",
    "print(f'Train data, target shapes: {yt.shape, tgt.shape},\\n train accuracies {acct}')\n",
    "print(f'Validation data, target shapes: {yv.shape, tgv.shape},\\n validation accuracies {accv}')\n"
   ]
  },
  {
   "cell_type": "code",
   "execution_count": 21,
   "id": "df5c27a1",
   "metadata": {
    "execution": {
     "iopub.execute_input": "2024-05-31T22:33:22.287676Z",
     "iopub.status.busy": "2024-05-31T22:33:22.287379Z",
     "iopub.status.idle": "2024-05-31T22:33:28.458304Z",
     "shell.execute_reply": "2024-05-31T22:33:28.457330Z"
    },
    "papermill": {
     "duration": 6.191488,
     "end_time": "2024-05-31T22:33:28.460343",
     "exception": false,
     "start_time": "2024-05-31T22:33:22.268855",
     "status": "completed"
    },
    "tags": []
   },
   "outputs": [
    {
     "name": "stdout",
     "output_type": "stream",
     "text": [
      "Test data, target shapes: ((181137, 4), (181137, 4)),\n",
      " test accuracies [99.04878627778973, 91.42196238206441, 82.02410330302479, 58.86207677062113]\n"
     ]
    }
   ],
   "source": [
    "#Test accuracy\n",
    "yts, tgts, accts = get_pred_n_acc([model], device, test_loader, num_iter = len(test_loader))\n",
    "print(f'Test data, target shapes: {yts.shape, tgts.shape},\\n test accuracies {accts}')\n"
   ]
  }
 ],
 "metadata": {
  "kaggle": {
   "accelerator": "gpu",
   "dataSources": [
    {
     "datasetId": 4575883,
     "sourceId": 8488978,
     "sourceType": "datasetVersion"
    },
    {
     "sourceId": 180758667,
     "sourceType": "kernelVersion"
    }
   ],
   "dockerImageVersionId": 30665,
   "isGpuEnabled": true,
   "isInternetEnabled": true,
   "language": "python",
   "sourceType": "notebook"
  },
  "kernelspec": {
   "display_name": "Python 3",
   "language": "python",
   "name": "python3"
  },
  "language_info": {
   "codemirror_mode": {
    "name": "ipython",
    "version": 3
   },
   "file_extension": ".py",
   "mimetype": "text/x-python",
   "name": "python",
   "nbconvert_exporter": "python",
   "pygments_lexer": "ipython3",
   "version": "3.10.13"
  },
  "papermill": {
   "default_parameters": {},
   "duration": 13738.021177,
   "end_time": "2024-05-31T22:33:30.900229",
   "environment_variables": {},
   "exception": null,
   "input_path": "__notebook__.ipynb",
   "output_path": "__notebook__.ipynb",
   "parameters": {},
   "start_time": "2024-05-31T18:44:32.879052",
   "version": "2.5.0"
  }
 },
 "nbformat": 4,
 "nbformat_minor": 5
}
