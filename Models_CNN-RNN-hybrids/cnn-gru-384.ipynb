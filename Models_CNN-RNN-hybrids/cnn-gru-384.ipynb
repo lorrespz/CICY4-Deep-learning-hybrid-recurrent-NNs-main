{
 "cells": [
  {
   "cell_type": "markdown",
   "id": "eaee74a1",
   "metadata": {
    "papermill": {
     "duration": 0.008539,
     "end_time": "2024-05-12T05:30:47.779289",
     "exception": false,
     "start_time": "2024-05-12T05:30:47.770750",
     "status": "completed"
    },
    "tags": []
   },
   "source": [
    "# CICY4:CNN-GRU (384) hybrid"
   ]
  },
  {
   "cell_type": "code",
   "execution_count": 1,
   "id": "0f66341f",
   "metadata": {
    "_cell_guid": "b1076dfc-b9ad-4769-8c92-a6c4dae69d19",
    "_uuid": "8f2839f25d086af736a60e9eeb907d3b93b6e0e5",
    "execution": {
     "iopub.execute_input": "2024-05-12T05:30:47.796385Z",
     "iopub.status.busy": "2024-05-12T05:30:47.796088Z",
     "iopub.status.idle": "2024-05-12T05:30:53.831776Z",
     "shell.execute_reply": "2024-05-12T05:30:53.830769Z"
    },
    "papermill": {
     "duration": 6.047,
     "end_time": "2024-05-12T05:30:53.834252",
     "exception": false,
     "start_time": "2024-05-12T05:30:47.787252",
     "status": "completed"
    },
    "tags": []
   },
   "outputs": [],
   "source": [
    "import numpy as np\n",
    "import pandas as pd\n",
    "import random\n",
    "import os as os\n",
    "import matplotlib.pyplot as plt\n",
    "import seaborn as sns\n",
    "from datetime import datetime\n",
    "sns.set_style(\"darkgrid\")\n",
    "\n",
    "import torch\n",
    "import torch.nn as nn\n",
    "import torch.nn.functional as F\n",
    "import torch.optim.lr_scheduler as lr_scheduler"
   ]
  },
  {
   "cell_type": "code",
   "execution_count": 2,
   "id": "72be2d0b",
   "metadata": {
    "execution": {
     "iopub.execute_input": "2024-05-12T05:30:53.852042Z",
     "iopub.status.busy": "2024-05-12T05:30:53.851562Z",
     "iopub.status.idle": "2024-05-12T05:30:53.909183Z",
     "shell.execute_reply": "2024-05-12T05:30:53.908273Z"
    },
    "papermill": {
     "duration": 0.069214,
     "end_time": "2024-05-12T05:30:53.911828",
     "exception": false,
     "start_time": "2024-05-12T05:30:53.842614",
     "status": "completed"
    },
    "tags": []
   },
   "outputs": [
    {
     "name": "stdout",
     "output_type": "stream",
     "text": [
      "cuda:0\n"
     ]
    }
   ],
   "source": [
    "device = torch.device(\"cuda:0\" if torch.cuda.is_available() else \"cpu\")\n",
    "print(device)"
   ]
  },
  {
   "cell_type": "code",
   "execution_count": 3,
   "id": "cc6b8560",
   "metadata": {
    "execution": {
     "iopub.execute_input": "2024-05-12T05:30:53.934088Z",
     "iopub.status.busy": "2024-05-12T05:30:53.933715Z",
     "iopub.status.idle": "2024-05-12T05:30:53.943337Z",
     "shell.execute_reply": "2024-05-12T05:30:53.942485Z"
    },
    "papermill": {
     "duration": 0.022392,
     "end_time": "2024-05-12T05:30:53.945217",
     "exception": false,
     "start_time": "2024-05-12T05:30:53.922825",
     "status": "completed"
    },
    "tags": []
   },
   "outputs": [],
   "source": [
    "seed = 42\n",
    "\n",
    "def seed_everything(seed):\n",
    "    random.seed(seed)\n",
    "    os.environ['PYTHONHASHSEED'] = str(seed)\n",
    "    np.random.seed(seed)\n",
    "    torch.manual_seed(seed)\n",
    "    torch.cuda.manual_seed(seed)\n",
    "    torch.cuda.manual_seed_all(seed)\n",
    "    torch.backends.cudnn.deterministic = True\n",
    "\n",
    "seed_everything(seed)"
   ]
  },
  {
   "cell_type": "markdown",
   "id": "f1ba9e80",
   "metadata": {
    "papermill": {
     "duration": 0.008215,
     "end_time": "2024-05-12T05:30:53.961526",
     "exception": false,
     "start_time": "2024-05-12T05:30:53.953311",
     "status": "completed"
    },
    "tags": []
   },
   "source": [
    "# CNN-RNN hybrid network architecture"
   ]
  },
  {
   "cell_type": "code",
   "execution_count": 4,
   "id": "979ad4aa",
   "metadata": {
    "execution": {
     "iopub.execute_input": "2024-05-12T05:30:53.980278Z",
     "iopub.status.busy": "2024-05-12T05:30:53.979615Z",
     "iopub.status.idle": "2024-05-12T05:30:53.987989Z",
     "shell.execute_reply": "2024-05-12T05:30:53.987118Z"
    },
    "papermill": {
     "duration": 0.020472,
     "end_time": "2024-05-12T05:30:53.990027",
     "exception": false,
     "start_time": "2024-05-12T05:30:53.969555",
     "status": "completed"
    },
    "tags": []
   },
   "outputs": [],
   "source": [
    "##################### CNN ###############################\n",
    "class CNN_block(nn.Module):  \n",
    "    def __init__(self):\n",
    "        super().__init__()\n",
    "        self.conv1 = nn.Conv2d(1,128, 4, 1)\n",
    "        #self.bn1 = nn.BatchNorm2d(128)\n",
    "        self.conv2 = nn.Conv2d(128, 64, 3, 1)\n",
    "        #self.bn2 = nn.BatchNorm2d(64)\n",
    "        self.mxpool = nn.MaxPool2d(2,2)\n",
    "        #self.conv3 = nn.Conv2d(128,64, 2, 1)\n",
    "        self.flat = nn.Flatten()\n",
    "        self.conv_total = nn.Sequential(\n",
    "            self.conv1,\n",
    "            self.mxpool,\n",
    "            self.conv2,\n",
    "            self.mxpool,\n",
    "        )\n",
    "    def forward(self,x):\n",
    "        x = F.relu(self.conv_total(x))\n",
    "        #reshape is the same as flat(x)\n",
    "        #x = x.reshape(x.shape[0], -1)\n",
    "        x = self.flat(x)   \n",
    "        return x"
   ]
  },
  {
   "cell_type": "code",
   "execution_count": 5,
   "id": "843fce3a",
   "metadata": {
    "execution": {
     "iopub.execute_input": "2024-05-12T05:30:54.007990Z",
     "iopub.status.busy": "2024-05-12T05:30:54.007259Z",
     "iopub.status.idle": "2024-05-12T05:30:54.015157Z",
     "shell.execute_reply": "2024-05-12T05:30:54.014300Z"
    },
    "papermill": {
     "duration": 0.018928,
     "end_time": "2024-05-12T05:30:54.017084",
     "exception": false,
     "start_time": "2024-05-12T05:30:53.998156",
     "status": "completed"
    },
    "tags": []
   },
   "outputs": [],
   "source": [
    "class RNN_block(nn.Module):\n",
    "    def __init__(self, n_inputs, n_hidden, n_rnnlayers, n_outputs):\n",
    "        super(RNN_block,self).__init__()\n",
    "        self.D = n_inputs\n",
    "        self.M = n_hidden\n",
    "        self.K = n_outputs\n",
    "        self.L = n_rnnlayers          \n",
    "        self.gru = nn.GRU(input_size = self.D,\n",
    "                           hidden_size = self.M,\n",
    "                           num_layers = self.L,\n",
    "                           batch_first = True)\n",
    "    def forward(self, X):\n",
    "        #input X is NxTxD\n",
    "        #initial hidden states\n",
    "        h0 = torch.zeros(self.L, X.size(0), self.M).to(device)\n",
    "        #output is NxTxM\n",
    "        out, _ = self.gru(X, h0)   \n",
    "        #we only want h(T) at the final time step\n",
    "        # output is now of shape (N, M)\n",
    "        out = out[:, -1, :]\n",
    "        return out"
   ]
  },
  {
   "cell_type": "code",
   "execution_count": 6,
   "id": "d177dc68",
   "metadata": {
    "execution": {
     "iopub.execute_input": "2024-05-12T05:30:54.034463Z",
     "iopub.status.busy": "2024-05-12T05:30:54.034152Z",
     "iopub.status.idle": "2024-05-12T05:30:54.042687Z",
     "shell.execute_reply": "2024-05-12T05:30:54.041851Z"
    },
    "papermill": {
     "duration": 0.019813,
     "end_time": "2024-05-12T05:30:54.044919",
     "exception": false,
     "start_time": "2024-05-12T05:30:54.025106",
     "status": "completed"
    },
    "tags": []
   },
   "outputs": [],
   "source": [
    "class CNN_RNN_hybrid(nn.Module):\n",
    "    def __init__(self, cnn_block, rnn_block, feat_vec_size):\n",
    "        super(CNN_RNN_hybrid, self).__init__()\n",
    "        self.cnn_block = cnn_block\n",
    "        self.rnn_block = rnn_block\n",
    "        self.feat_vec_size = feat_vec_size\n",
    "        self.fc1 = nn.Linear(self.feat_vec_size, 1024)\n",
    "        self.fc2 = nn.Linear(1024, 4)       \n",
    "    def forward(self, x):\n",
    "        #output of cnn block is (N,384)\n",
    "        x1 = x.view(-1,1, 16,20)\n",
    "        x1 = self.cnn_block(x1)\n",
    "        #output of rnn block is (N,M = 64)\n",
    "        x2 = self.rnn_block(x)\n",
    "        #concatenate the 2 outputs to produce a feat vec (N, M+384)\n",
    "        xx = torch.cat([x1, x2], dim = 1)\n",
    "        # pass through linear layers\n",
    "        xx = self.fc1(xx)\n",
    "        #final output is 4\n",
    "        xx = self.fc2(xx)       \n",
    "        return xx"
   ]
  },
  {
   "cell_type": "code",
   "execution_count": 7,
   "id": "96257aeb",
   "metadata": {
    "execution": {
     "iopub.execute_input": "2024-05-12T05:30:54.064609Z",
     "iopub.status.busy": "2024-05-12T05:30:54.064254Z",
     "iopub.status.idle": "2024-05-12T05:30:54.418442Z",
     "shell.execute_reply": "2024-05-12T05:30:54.417421Z"
    },
    "papermill": {
     "duration": 0.367395,
     "end_time": "2024-05-12T05:30:54.420675",
     "exception": false,
     "start_time": "2024-05-12T05:30:54.053280",
     "status": "completed"
    },
    "tags": []
   },
   "outputs": [
    {
     "data": {
      "text/plain": [
       "CNN_RNN_hybrid(\n",
       "  (cnn_block): CNN_block(\n",
       "    (conv1): Conv2d(1, 128, kernel_size=(4, 4), stride=(1, 1))\n",
       "    (conv2): Conv2d(128, 64, kernel_size=(3, 3), stride=(1, 1))\n",
       "    (mxpool): MaxPool2d(kernel_size=2, stride=2, padding=0, dilation=1, ceil_mode=False)\n",
       "    (flat): Flatten(start_dim=1, end_dim=-1)\n",
       "    (conv_total): Sequential(\n",
       "      (0): Conv2d(1, 128, kernel_size=(4, 4), stride=(1, 1))\n",
       "      (1): MaxPool2d(kernel_size=2, stride=2, padding=0, dilation=1, ceil_mode=False)\n",
       "      (2): Conv2d(128, 64, kernel_size=(3, 3), stride=(1, 1))\n",
       "      (3): MaxPool2d(kernel_size=2, stride=2, padding=0, dilation=1, ceil_mode=False)\n",
       "    )\n",
       "  )\n",
       "  (rnn_block): RNN_block(\n",
       "    (gru): GRU(20, 384, num_layers=2, batch_first=True)\n",
       "  )\n",
       "  (fc1): Linear(in_features=768, out_features=1024, bias=True)\n",
       "  (fc2): Linear(in_features=1024, out_features=4, bias=True)\n",
       ")"
      ]
     },
     "execution_count": 7,
     "metadata": {},
     "output_type": "execute_result"
    }
   ],
   "source": [
    "cnn_block = CNN_block()\n",
    "cnn_block.to(device)\n",
    "gru_block = RNN_block(20, 384, 2, 4)\n",
    "gru_block.to(device)\n",
    "model = CNN_RNN_hybrid(cnn_block, gru_block, 384+384)\n",
    "model.to(device)"
   ]
  },
  {
   "cell_type": "code",
   "execution_count": 8,
   "id": "4b59f9b6",
   "metadata": {
    "execution": {
     "iopub.execute_input": "2024-05-12T05:30:54.439776Z",
     "iopub.status.busy": "2024-05-12T05:30:54.439082Z",
     "iopub.status.idle": "2024-05-12T05:30:54.445186Z",
     "shell.execute_reply": "2024-05-12T05:30:54.444183Z"
    },
    "papermill": {
     "duration": 0.017831,
     "end_time": "2024-05-12T05:30:54.447371",
     "exception": false,
     "start_time": "2024-05-12T05:30:54.429540",
     "status": "completed"
    },
    "tags": []
   },
   "outputs": [
    {
     "name": "stdout",
     "output_type": "stream",
     "text": [
      "2222276\n"
     ]
    }
   ],
   "source": [
    "#count the number of parameters in the model\n",
    "params = [p.numel() for p in model.parameters() if p.requires_grad]\n",
    "print(sum(params))"
   ]
  },
  {
   "cell_type": "markdown",
   "id": "40c8a375",
   "metadata": {
    "papermill": {
     "duration": 0.008411,
     "end_time": "2024-05-12T05:30:54.464105",
     "exception": false,
     "start_time": "2024-05-12T05:30:54.455694",
     "status": "completed"
    },
    "tags": []
   },
   "source": [
    "# Load data, define custom dataset class and dataloaders"
   ]
  },
  {
   "cell_type": "code",
   "execution_count": 9,
   "id": "54ff8ec8",
   "metadata": {
    "execution": {
     "iopub.execute_input": "2024-05-12T05:30:54.482582Z",
     "iopub.status.busy": "2024-05-12T05:30:54.481855Z",
     "iopub.status.idle": "2024-05-12T05:31:17.098234Z",
     "shell.execute_reply": "2024-05-12T05:31:17.096961Z"
    },
    "papermill": {
     "duration": 22.627708,
     "end_time": "2024-05-12T05:31:17.100299",
     "exception": false,
     "start_time": "2024-05-12T05:30:54.472591",
     "status": "completed"
    },
    "tags": []
   },
   "outputs": [
    {
     "name": "stdout",
     "output_type": "stream",
     "text": [
      "(652092, 16, 20) (72455, 16, 20) (181137, 16, 20)\n",
      "(652092, 4) (72455, 4) (181137, 4)\n"
     ]
    }
   ],
   "source": [
    "X_train = np.load('/kaggle/input/cicy4-data-processing/conf_Xtrain.npy')\n",
    "X_test = np.load('/kaggle/input/cicy4-data-processing/conf_Xtest.npy')\n",
    "X_valid = np.load('/kaggle/input/cicy4-data-processing/conf_Xvalid.npy')\n",
    "\n",
    "y_train = np.load('/kaggle/input/cicy4-data-processing/hodge_ytrain.npy')\n",
    "y_test= np.load('/kaggle/input/cicy4-data-processing/hodge_ytest.npy')\n",
    "y_valid = np.load('/kaggle/input/cicy4-data-processing/hodge_yvalid.npy')\n",
    "\n",
    "print(X_train.shape, X_valid.shape, X_test.shape)\n",
    "print(y_train.shape, y_valid.shape, y_test.shape)"
   ]
  },
  {
   "cell_type": "code",
   "execution_count": 10,
   "id": "09f77986",
   "metadata": {
    "execution": {
     "iopub.execute_input": "2024-05-12T05:31:17.118754Z",
     "iopub.status.busy": "2024-05-12T05:31:17.118422Z",
     "iopub.status.idle": "2024-05-12T05:31:17.581349Z",
     "shell.execute_reply": "2024-05-12T05:31:17.580557Z"
    },
    "papermill": {
     "duration": 0.474667,
     "end_time": "2024-05-12T05:31:17.583694",
     "exception": false,
     "start_time": "2024-05-12T05:31:17.109027",
     "status": "completed"
    },
    "tags": []
   },
   "outputs": [],
   "source": [
    "#Convert data to torch tensor with float32 precision \n",
    "#(needed to be compatible with the floating decision of the network parameters)\n",
    "X_train = torch.from_numpy(X_train.astype(np.float32))\n",
    "y_train = torch.from_numpy(y_train.astype(np.float32))\n",
    "\n",
    "X_valid = torch.from_numpy(X_valid.astype(np.float32)) \n",
    "y_valid = torch.from_numpy(y_valid.astype(np.float32)) \n",
    "\n",
    "X_test = torch.from_numpy(X_test.astype(np.float32)) \n",
    "y_test= torch.from_numpy(y_test.astype(np.float32)) "
   ]
  },
  {
   "cell_type": "code",
   "execution_count": 11,
   "id": "e3a23f25",
   "metadata": {
    "execution": {
     "iopub.execute_input": "2024-05-12T05:31:17.602285Z",
     "iopub.status.busy": "2024-05-12T05:31:17.601967Z",
     "iopub.status.idle": "2024-05-12T05:31:17.608242Z",
     "shell.execute_reply": "2024-05-12T05:31:17.607352Z"
    },
    "papermill": {
     "duration": 0.017758,
     "end_time": "2024-05-12T05:31:17.610292",
     "exception": false,
     "start_time": "2024-05-12T05:31:17.592534",
     "status": "completed"
    },
    "tags": []
   },
   "outputs": [],
   "source": [
    "class CICY4Dataset(torch.utils.data.Dataset):\n",
    "    def __init__(self, X, y):\n",
    "        self.X = X\n",
    "        self.y = y        \n",
    "    def __len__(self):\n",
    "        return len(self.X)      \n",
    "    def __getitem__(self, idx):\n",
    "        X0 = self.X[idx]\n",
    "        y0 = self.y[idx]  \n",
    "        return X0, y0\n",
    "        \n",
    "train_set = CICY4Dataset(X_train, y_train)\n",
    "val_set = CICY4Dataset(X_valid, y_valid)\n",
    "test_set = CICY4Dataset(X_test, y_test)"
   ]
  },
  {
   "cell_type": "code",
   "execution_count": 12,
   "id": "4df51c6c",
   "metadata": {
    "execution": {
     "iopub.execute_input": "2024-05-12T05:31:17.629232Z",
     "iopub.status.busy": "2024-05-12T05:31:17.628451Z",
     "iopub.status.idle": "2024-05-12T05:31:17.634088Z",
     "shell.execute_reply": "2024-05-12T05:31:17.633226Z"
    },
    "papermill": {
     "duration": 0.017439,
     "end_time": "2024-05-12T05:31:17.636060",
     "exception": false,
     "start_time": "2024-05-12T05:31:17.618621",
     "status": "completed"
    },
    "tags": []
   },
   "outputs": [],
   "source": [
    "from torch.utils.data import DataLoader\n",
    "\n",
    "train_loader = DataLoader(train_set, batch_size=128, shuffle=True)\n",
    "val_loader = DataLoader(val_set, batch_size=128, shuffle=True)\n",
    "test_loader = DataLoader(test_set, batch_size=128, shuffle=False)"
   ]
  },
  {
   "cell_type": "code",
   "execution_count": 13,
   "id": "b435171e",
   "metadata": {
    "execution": {
     "iopub.execute_input": "2024-05-12T05:31:17.654045Z",
     "iopub.status.busy": "2024-05-12T05:31:17.653753Z",
     "iopub.status.idle": "2024-05-12T05:31:17.680812Z",
     "shell.execute_reply": "2024-05-12T05:31:17.679818Z"
    },
    "papermill": {
     "duration": 0.038237,
     "end_time": "2024-05-12T05:31:17.682818",
     "exception": false,
     "start_time": "2024-05-12T05:31:17.644581",
     "status": "completed"
    },
    "tags": []
   },
   "outputs": [
    {
     "name": "stdout",
     "output_type": "stream",
     "text": [
      "Train loader contains 5095 batches, each of size 128\n",
      "Valid loader contains 567 batches, each of size 128\n",
      "Test loader contains 1416 batches, each of size 128\n",
      "torch.float32\n",
      "Each data and target batch have the following shape\n",
      "torch.Size([128, 16, 20]) torch.Size([128, 4])\n"
     ]
    }
   ],
   "source": [
    "print(f'Train loader contains {len(train_loader)} batches, each of size 128')\n",
    "print(f'Valid loader contains {len(val_loader)} batches, each of size 128')\n",
    "print(f'Test loader contains {len(test_loader)} batches, each of size 128')\n",
    "#d, t = next(iter(train_loader))\n",
    "#print(d.dtype)\n",
    "#print('Each data and target batch have the following shape')\n",
    "#print(d.shape, t.shape)\n",
    "\n",
    "for d, t in test_loader:\n",
    "    print(d.dtype)\n",
    "    print('Each data and target batch have the following shape')\n",
    "    print(d.shape, t.shape)\n",
    "    break"
   ]
  },
  {
   "cell_type": "markdown",
   "id": "d0831659",
   "metadata": {
    "papermill": {
     "duration": 0.009559,
     "end_time": "2024-05-12T05:31:17.701068",
     "exception": false,
     "start_time": "2024-05-12T05:31:17.691509",
     "status": "completed"
    },
    "tags": []
   },
   "source": [
    "# Utility functions"
   ]
  },
  {
   "cell_type": "code",
   "execution_count": 14,
   "id": "b27ddded",
   "metadata": {
    "execution": {
     "iopub.execute_input": "2024-05-12T05:31:17.719252Z",
     "iopub.status.busy": "2024-05-12T05:31:17.718970Z",
     "iopub.status.idle": "2024-05-12T05:31:17.725474Z",
     "shell.execute_reply": "2024-05-12T05:31:17.724586Z"
    },
    "papermill": {
     "duration": 0.017942,
     "end_time": "2024-05-12T05:31:17.727497",
     "exception": false,
     "start_time": "2024-05-12T05:31:17.709555",
     "status": "completed"
    },
    "tags": []
   },
   "outputs": [],
   "source": [
    "def train_one_epoch(model, criterion, optimizer, train_loader, cnn = False):\n",
    "    model.train()\n",
    "    train_loss = []\n",
    "    for inputs, target in train_loader:\n",
    "        if cnn:\n",
    "            inputs = inputs.view(batch_size,1,16,20)\n",
    "        inputs, target = inputs.to(device), target.to(device)\n",
    "        optimizer.zero_grad()\n",
    "        out = model(inputs)\n",
    "        loss = criterion(out, target)\n",
    "        loss.backward()\n",
    "        optimizer.step()\n",
    "        train_loss.append(loss.item())\n",
    "    #average the train_loss list in for all batches in the train_gen\n",
    "    train_loss = np.mean(train_loss)    \n",
    "    return train_loss"
   ]
  },
  {
   "cell_type": "code",
   "execution_count": 15,
   "id": "424bbb8e",
   "metadata": {
    "execution": {
     "iopub.execute_input": "2024-05-12T05:31:17.746211Z",
     "iopub.status.busy": "2024-05-12T05:31:17.745949Z",
     "iopub.status.idle": "2024-05-12T05:31:17.751882Z",
     "shell.execute_reply": "2024-05-12T05:31:17.751005Z"
    },
    "papermill": {
     "duration": 0.018011,
     "end_time": "2024-05-12T05:31:17.753966",
     "exception": false,
     "start_time": "2024-05-12T05:31:17.735955",
     "status": "completed"
    },
    "tags": []
   },
   "outputs": [],
   "source": [
    "def validate_one_epoch(model, criterion, optimizer, val_loader, cnn = False):\n",
    "    model.eval()\n",
    "    test_loss = []\n",
    "    for inputs, target in val_loader:\n",
    "        if cnn:\n",
    "            inputs = inputs.view(batch_size,1,16,20)\n",
    "        inputs, target = inputs.to(device), target.to(device)\n",
    "        out = model(inputs)\n",
    "        loss = criterion(out, target)\n",
    "        test_loss.append(loss.item())\n",
    "    #average the test_loss list in for all batches in the test_gen\n",
    "    test_loss = np.mean(test_loss)\n",
    "    return test_loss"
   ]
  },
  {
   "cell_type": "code",
   "execution_count": 16,
   "id": "98c312cc",
   "metadata": {
    "execution": {
     "iopub.execute_input": "2024-05-12T05:31:17.771977Z",
     "iopub.status.busy": "2024-05-12T05:31:17.771690Z",
     "iopub.status.idle": "2024-05-12T05:31:17.782051Z",
     "shell.execute_reply": "2024-05-12T05:31:17.781244Z"
    },
    "papermill": {
     "duration": 0.021546,
     "end_time": "2024-05-12T05:31:17.783827",
     "exception": false,
     "start_time": "2024-05-12T05:31:17.762281",
     "status": "completed"
    },
    "tags": []
   },
   "outputs": [],
   "source": [
    "def batch_gd_scheduler(model, new_model_name, criterion, optimizer, train_loader, val_loader, scheduler,\n",
    "                         epochs, device, batch_size=128,  cnn = False):\n",
    "    train_losses = np.zeros(epochs)\n",
    "    test_losses = np.zeros(epochs)\n",
    "    patience = 0\n",
    "    best_loss = 1000\n",
    "    max_patience = 20\n",
    "    for i in range(epochs):\n",
    "        t0 = datetime.now()\n",
    "        train_loss = train_one_epoch(model, criterion, optimizer,train_loader)\n",
    "        test_loss = validate_one_epoch(model, criterion, optimizer,val_loader)\n",
    "        #Early stopping based on test loss\n",
    "        if i == 0:\n",
    "            best_loss = test_loss   \n",
    "            torch.save(model, f'/kaggle/working/{new_model_name}.pt')\n",
    "            print(f'Model saved as {new_model_name} at epoch {i}')\n",
    "        else:\n",
    "            if test_loss < best_loss:\n",
    "                best_loss = test_loss\n",
    "                torch.save(model, f'/kaggle/working/{new_model_name}.pt')\n",
    "                print(f'Model overwritten at epoch {i}, new best val loss {best_loss: .4f}')\n",
    "                patience = 0\n",
    "            else:\n",
    "                patience = patience +1\n",
    "                #print(f'No improvement, current patience level is {patience} at epoch {i}')\n",
    "        if patience > max_patience:\n",
    "            print(f'Max patience reached, training is terminated at epoch {i}')\n",
    "            break\n",
    "        #if early_stopper.early_stop(test_loss):             \n",
    "        #    break\n",
    "        #Apply scheduler after the train+validate parts\n",
    "        before_lr = optimizer.param_groups[0][\"lr\"]\n",
    "        scheduler.step(test_loss)\n",
    "        after_lr = optimizer.param_groups[0][\"lr\"]\n",
    "        train_losses[i] = train_loss\n",
    "        test_losses[i] = test_loss\n",
    "        #write the losses into a csv file\n",
    "        loss_dict = {'train_loss': train_losses, 'test_loss': test_losses}\n",
    "        dd = pd.DataFrame(loss_dict)\n",
    "        dd.to_csv('loss_dict_cnn_gru_384.csv', index = False)\n",
    "        dt = datetime.now()-t0\n",
    "        if i%10==0:\n",
    "            print(f'Epoch: {i}/{epochs}, train loss: {train_loss: .3f}, val_loss: {test_loss: .3f}, duration: {dt}, learning rate: {before_lr, after_lr}')\n",
    "    return train_losses, test_losses"
   ]
  },
  {
   "cell_type": "code",
   "execution_count": 17,
   "id": "46e81498",
   "metadata": {
    "execution": {
     "iopub.execute_input": "2024-05-12T05:31:17.801593Z",
     "iopub.status.busy": "2024-05-12T05:31:17.801315Z",
     "iopub.status.idle": "2024-05-12T05:31:17.808182Z",
     "shell.execute_reply": "2024-05-12T05:31:17.807248Z"
    },
    "papermill": {
     "duration": 0.018156,
     "end_time": "2024-05-12T05:31:17.810210",
     "exception": false,
     "start_time": "2024-05-12T05:31:17.792054",
     "status": "completed"
    },
    "tags": []
   },
   "outputs": [],
   "source": [
    "def train_from_scratch_or_load(load_model_weight,new_model_name, epochs, cnn = False):    \n",
    "    if load_model_weight==None:\n",
    "        #criterion = nn.MSELoss()\n",
    "        criterion = nn.HuberLoss()\n",
    "        optimizer = torch.optim.AdamW(model.parameters(), lr=0.01)\n",
    "        scheduler = lr_scheduler.ReduceLROnPlateau(optimizer, 'min', factor=0.1, min_lr = 1e-8)\n",
    "        train_losses, test_losses=batch_gd_scheduler(model, new_model_name, criterion, \n",
    "                                                     optimizer,train_loader, val_loader,\n",
    "                                                      scheduler, epochs, \n",
    "                                                       device = device, cnn=cnn)\n",
    "        return train_losses, test_losses\n",
    "    else:\n",
    "        if torch.cuda.is_available():\n",
    "            trained_model = torch.load(load_model_weight)     \n",
    "        else:\n",
    "            trained_model = torch.load(load_model_weight, map_location=torch.device('cpu'))       \n",
    "        return trained_model"
   ]
  },
  {
   "cell_type": "code",
   "execution_count": 18,
   "id": "9458898a",
   "metadata": {
    "execution": {
     "iopub.execute_input": "2024-05-12T05:31:17.829064Z",
     "iopub.status.busy": "2024-05-12T05:31:17.828764Z",
     "iopub.status.idle": "2024-05-12T05:31:17.834769Z",
     "shell.execute_reply": "2024-05-12T05:31:17.833895Z"
    },
    "papermill": {
     "duration": 0.017587,
     "end_time": "2024-05-12T05:31:17.836717",
     "exception": false,
     "start_time": "2024-05-12T05:31:17.819130",
     "status": "completed"
    },
    "tags": []
   },
   "outputs": [],
   "source": [
    "def load_and_retrain(load_model_weight, new_model_name, epochs, cnn=False):\n",
    "    trained_model = torch.load(load_model_weight) \n",
    "    #criterion = nn.MSELoss()\n",
    "    criterion = nn.HuberLoss()\n",
    "    optimizer = torch.optim.AdamW(trained_model.parameters(),lr=0.0002)\n",
    "    scheduler = lr_scheduler.ReduceLROnPlateau(optimizer, 'min', factor=0.5, min_lr = 5e-7)\n",
    "    trained_model.train()\n",
    "    train_losses, test_losses=batch_gd_scheduler(trained_model,new_model_name, criterion, optimizer,\n",
    "                                                 train_loader, val_loader, \n",
    "                                                 scheduler, epochs, \n",
    "                                                 device = device, cnn=cnn)\n",
    "    return trained_model, train_losses, test_losses"
   ]
  },
  {
   "cell_type": "code",
   "execution_count": 19,
   "id": "14e00c67",
   "metadata": {
    "execution": {
     "iopub.execute_input": "2024-05-12T05:31:17.854801Z",
     "iopub.status.busy": "2024-05-12T05:31:17.854535Z",
     "iopub.status.idle": "2024-05-12T05:31:17.859428Z",
     "shell.execute_reply": "2024-05-12T05:31:17.858516Z"
    },
    "papermill": {
     "duration": 0.016256,
     "end_time": "2024-05-12T05:31:17.861386",
     "exception": false,
     "start_time": "2024-05-12T05:31:17.845130",
     "status": "completed"
    },
    "tags": []
   },
   "outputs": [],
   "source": [
    "def plot_losses(train_losses, test_losses):\n",
    "    # Plot the train loss and test loss per iteration\n",
    "    plt.plot(train_losses, label='train loss')\n",
    "    plt.plot(test_losses, label='val loss')\n",
    "    plt.legend()\n",
    "    plt.show()"
   ]
  },
  {
   "cell_type": "code",
   "execution_count": 20,
   "id": "b63c23a4",
   "metadata": {
    "execution": {
     "iopub.execute_input": "2024-05-12T05:31:17.879438Z",
     "iopub.status.busy": "2024-05-12T05:31:17.879188Z",
     "iopub.status.idle": "2024-05-12T05:31:17.891614Z",
     "shell.execute_reply": "2024-05-12T05:31:17.890771Z"
    },
    "papermill": {
     "duration": 0.023693,
     "end_time": "2024-05-12T05:31:17.893557",
     "exception": false,
     "start_time": "2024-05-12T05:31:17.869864",
     "status": "completed"
    },
    "tags": []
   },
   "outputs": [],
   "source": [
    "################## GET PREDICTIONS + ACCURACY #####################\n",
    "def get_pred_n_acc(models, device, dataloader, num_iter):\n",
    "    i = 0\n",
    "    ypreds =[]\n",
    "    targets = []\n",
    "    #The last batch might not have size 128\n",
    "    while i< num_iter:\n",
    "        for data, target in dataloader:\n",
    "            #this empty list is to hold all models' preds\n",
    "            ypred = []    \n",
    "            data= data.to(device)\n",
    "            data = data.to(torch.float32)\n",
    "            target = target.to(torch.float32)\n",
    "            #append the 'i^th' target\n",
    "            targets.append(target)\n",
    "            for model in models:\n",
    "                model.eval()\n",
    "                yp = model(data)\n",
    "                yp = yp.detach().cpu().numpy()\n",
    "                ypred.append(yp)\n",
    "            #take the mean of all models' predictions\n",
    "            ypred = np.array(ypred).mean(axis = 0)\n",
    "            ypred = np.round(ypred)\n",
    "            i+=1\n",
    "            #append ypred, targets inside the 'i' loop\n",
    "            # append the 'i^th' mean prediction\n",
    "            ypreds.append(ypred)   \n",
    "            if i == num_iter:\n",
    "                break \n",
    "     #Do not convert ypreds, targets to np.array at this point,\n",
    "    #since the last batch has a different size, causing an error !\n",
    "    #CALCULATING ACCURACY    \n",
    "    yp =  np.concatenate([ypreds[j] for j in range(len(ypreds))], axis = 0)\n",
    "    tgs =  np.concatenate([targets[j] for j in range(len(targets))], axis = 0)\n",
    "    h11_acc = ((yp[:,0] == tgs[:,0]).sum())/len(yp)\n",
    "    h21_acc = ((yp[:,1] == tgs[:,1]).sum())/len(yp)\n",
    "    h31_acc = ((yp[:,2] == tgs[:,2]).sum())/len(yp)\n",
    "    h22_acc = ((yp[:,3] == tgs[:,3]).sum())/len(yp)\n",
    "    acc = [h11_acc*100,h21_acc*100,h31_acc*100,h22_acc*100 ]\n",
    "    return  yp, tgs, acc"
   ]
  },
  {
   "cell_type": "markdown",
   "id": "8e43e6c1",
   "metadata": {
    "papermill": {
     "duration": 0.008968,
     "end_time": "2024-05-12T05:31:17.911485",
     "exception": false,
     "start_time": "2024-05-12T05:31:17.902517",
     "status": "completed"
    },
    "tags": []
   },
   "source": [
    "# Load trained model and verify accuracies"
   ]
  },
  {
   "cell_type": "code",
   "execution_count": 21,
   "id": "c4ca8c19",
   "metadata": {
    "execution": {
     "iopub.execute_input": "2024-05-12T05:31:17.931166Z",
     "iopub.status.busy": "2024-05-12T05:31:17.930907Z",
     "iopub.status.idle": "2024-05-12T09:39:33.659708Z",
     "shell.execute_reply": "2024-05-12T09:39:33.658624Z"
    },
    "papermill": {
     "duration": 14895.759912,
     "end_time": "2024-05-12T09:39:33.680485",
     "exception": false,
     "start_time": "2024-05-12T05:31:17.920573",
     "status": "completed"
    },
    "tags": []
   },
   "outputs": [
    {
     "name": "stdout",
     "output_type": "stream",
     "text": [
      "Model saved as CNN-GRU-384 at epoch 0\n",
      "Epoch: 0/550, train loss:  6.053, val_loss:  5.170, duration: 0:00:49.267388, learning rate: (0.01, 0.01)\n",
      "Model overwritten at epoch 1, new best val loss  4.6232\n",
      "Model overwritten at epoch 2, new best val loss  4.4055\n",
      "Model overwritten at epoch 4, new best val loss  4.2542\n",
      "Model overwritten at epoch 9, new best val loss  4.1941\n",
      "Epoch: 10/550, train loss:  4.351, val_loss:  4.769, duration: 0:00:48.194876, learning rate: (0.01, 0.01)\n",
      "Model overwritten at epoch 12, new best val loss  4.0987\n",
      "Model overwritten at epoch 15, new best val loss  4.0129\n",
      "Epoch: 20/550, train loss:  4.340, val_loss:  4.136, duration: 0:00:48.209111, learning rate: (0.01, 0.01)\n",
      "Model overwritten at epoch 24, new best val loss  3.8073\n",
      "Epoch: 30/550, train loss:  4.160, val_loss:  3.993, duration: 0:00:48.219217, learning rate: (0.01, 0.01)\n",
      "Model overwritten at epoch 36, new best val loss  3.4554\n",
      "Model overwritten at epoch 37, new best val loss  3.4257\n",
      "Model overwritten at epoch 38, new best val loss  3.3524\n",
      "Model overwritten at epoch 39, new best val loss  3.3504\n",
      "Model overwritten at epoch 40, new best val loss  3.3344\n",
      "Epoch: 40/550, train loss:  3.256, val_loss:  3.334, duration: 0:00:48.236656, learning rate: (0.001, 0.001)\n",
      "Model overwritten at epoch 41, new best val loss  3.2948\n",
      "Model overwritten at epoch 42, new best val loss  3.2935\n",
      "Model overwritten at epoch 43, new best val loss  3.2746\n",
      "Model overwritten at epoch 44, new best val loss  3.2657\n",
      "Model overwritten at epoch 45, new best val loss  3.2432\n",
      "Model overwritten at epoch 47, new best val loss  3.2192\n",
      "Epoch: 50/550, train loss:  3.109, val_loss:  3.226, duration: 0:00:48.177679, learning rate: (0.001, 0.001)\n",
      "Model overwritten at epoch 51, new best val loss  3.1654\n",
      "Model overwritten at epoch 54, new best val loss  3.1436\n",
      "Model overwritten at epoch 55, new best val loss  3.1312\n",
      "Model overwritten at epoch 59, new best val loss  3.0930\n",
      "Epoch: 60/550, train loss:  2.985, val_loss:  3.123, duration: 0:00:48.622416, learning rate: (0.001, 0.001)\n",
      "Model overwritten at epoch 61, new best val loss  3.0526\n",
      "Model overwritten at epoch 62, new best val loss  3.0346\n",
      "Model overwritten at epoch 63, new best val loss  2.9646\n",
      "Model overwritten at epoch 65, new best val loss  2.8830\n",
      "Model overwritten at epoch 66, new best val loss  2.8438\n",
      "Model overwritten at epoch 67, new best val loss  2.8021\n",
      "Model overwritten at epoch 69, new best val loss  2.6563\n",
      "Model overwritten at epoch 70, new best val loss  2.5397\n",
      "Epoch: 70/550, train loss:  2.480, val_loss:  2.540, duration: 0:00:48.153329, learning rate: (0.001, 0.001)\n",
      "Model overwritten at epoch 72, new best val loss  2.4870\n",
      "Model overwritten at epoch 73, new best val loss  2.3386\n",
      "Model overwritten at epoch 74, new best val loss  2.2159\n",
      "Model overwritten at epoch 75, new best val loss  2.1792\n",
      "Model overwritten at epoch 76, new best val loss  2.1335\n",
      "Model overwritten at epoch 77, new best val loss  1.9925\n",
      "Model overwritten at epoch 78, new best val loss  1.9563\n",
      "Model overwritten at epoch 80, new best val loss  1.9250\n",
      "Epoch: 80/550, train loss:  1.798, val_loss:  1.925, duration: 0:00:48.621792, learning rate: (0.001, 0.001)\n",
      "Model overwritten at epoch 81, new best val loss  1.7742\n",
      "Model overwritten at epoch 82, new best val loss  1.7153\n",
      "Model overwritten at epoch 85, new best val loss  1.5620\n",
      "Model overwritten at epoch 86, new best val loss  1.5021\n",
      "Model overwritten at epoch 88, new best val loss  1.4272\n",
      "Model overwritten at epoch 89, new best val loss  1.3838\n",
      "Epoch: 90/550, train loss:  1.293, val_loss:  1.592, duration: 0:00:48.153082, learning rate: (0.001, 0.001)\n",
      "Model overwritten at epoch 91, new best val loss  1.3206\n",
      "Model overwritten at epoch 92, new best val loss  1.3061\n",
      "Model overwritten at epoch 94, new best val loss  1.2652\n",
      "Model overwritten at epoch 95, new best val loss  1.2497\n",
      "Model overwritten at epoch 97, new best val loss  1.1417\n",
      "Model overwritten at epoch 100, new best val loss  1.0615\n",
      "Epoch: 100/550, train loss:  1.038, val_loss:  1.062, duration: 0:00:48.151392, learning rate: (0.001, 0.001)\n",
      "Model overwritten at epoch 104, new best val loss  1.0389\n",
      "Model overwritten at epoch 106, new best val loss  0.9963\n",
      "Epoch: 110/550, train loss:  0.898, val_loss:  1.071, duration: 0:00:48.527230, learning rate: (0.001, 0.001)\n",
      "Model overwritten at epoch 111, new best val loss  0.9494\n",
      "Model overwritten at epoch 114, new best val loss  0.9464\n",
      "Model overwritten at epoch 118, new best val loss  0.9340\n",
      "Model overwritten at epoch 119, new best val loss  0.9123\n",
      "Model overwritten at epoch 120, new best val loss  0.8938\n",
      "Epoch: 120/550, train loss:  0.812, val_loss:  0.894, duration: 0:00:49.384217, learning rate: (0.001, 0.001)\n",
      "Model overwritten at epoch 125, new best val loss  0.8555\n",
      "Model overwritten at epoch 128, new best val loss  0.8434\n",
      "Epoch: 130/550, train loss:  0.750, val_loss:  0.849, duration: 0:00:49.182595, learning rate: (0.001, 0.001)\n",
      "Model overwritten at epoch 131, new best val loss  0.8372\n",
      "Model overwritten at epoch 132, new best val loss  0.8358\n",
      "Model overwritten at epoch 134, new best val loss  0.8270\n",
      "Model overwritten at epoch 138, new best val loss  0.8078\n",
      "Epoch: 140/550, train loss:  0.706, val_loss:  0.831, duration: 0:00:48.883740, learning rate: (0.001, 0.001)\n",
      "Model overwritten at epoch 146, new best val loss  0.7496\n",
      "Epoch: 150/550, train loss:  0.669, val_loss:  0.769, duration: 0:00:48.851765, learning rate: (0.001, 0.001)\n",
      "Model overwritten at epoch 158, new best val loss  0.5382\n",
      "Model overwritten at epoch 159, new best val loss  0.5244\n",
      "Model overwritten at epoch 160, new best val loss  0.5173\n",
      "Epoch: 160/550, train loss:  0.329, val_loss:  0.517, duration: 0:00:48.763225, learning rate: (0.0001, 0.0001)\n",
      "Model overwritten at epoch 161, new best val loss  0.5075\n",
      "Model overwritten at epoch 162, new best val loss  0.5069\n",
      "Model overwritten at epoch 163, new best val loss  0.5000\n",
      "Model overwritten at epoch 164, new best val loss  0.4991\n",
      "Model overwritten at epoch 165, new best val loss  0.4979\n",
      "Model overwritten at epoch 166, new best val loss  0.4934\n",
      "Model overwritten at epoch 167, new best val loss  0.4891\n",
      "Model overwritten at epoch 168, new best val loss  0.4877\n",
      "Model overwritten at epoch 170, new best val loss  0.4857\n",
      "Epoch: 170/550, train loss:  0.271, val_loss:  0.486, duration: 0:00:48.165383, learning rate: (0.0001, 0.0001)\n",
      "Model overwritten at epoch 171, new best val loss  0.4835\n",
      "Model overwritten at epoch 172, new best val loss  0.4832\n",
      "Model overwritten at epoch 173, new best val loss  0.4828\n",
      "Model overwritten at epoch 174, new best val loss  0.4827\n",
      "Model overwritten at epoch 175, new best val loss  0.4796\n",
      "Model overwritten at epoch 176, new best val loss  0.4777\n",
      "Model overwritten at epoch 178, new best val loss  0.4767\n",
      "Model overwritten at epoch 179, new best val loss  0.4746\n",
      "Epoch: 180/550, train loss:  0.249, val_loss:  0.483, duration: 0:00:48.270602, learning rate: (0.0001, 0.0001)\n",
      "Model overwritten at epoch 181, new best val loss  0.4720\n",
      "Model overwritten at epoch 187, new best val loss  0.4693\n",
      "Epoch: 190/550, train loss:  0.235, val_loss:  0.471, duration: 0:00:48.260593, learning rate: (0.0001, 0.0001)\n",
      "Model overwritten at epoch 193, new best val loss  0.4678\n",
      "Model overwritten at epoch 194, new best val loss  0.4646\n",
      "Model overwritten at epoch 197, new best val loss  0.4641\n",
      "Model overwritten at epoch 199, new best val loss  0.4640\n",
      "Epoch: 200/550, train loss:  0.224, val_loss:  0.467, duration: 0:00:48.207505, learning rate: (0.0001, 0.0001)\n",
      "Model overwritten at epoch 201, new best val loss  0.4632\n",
      "Model overwritten at epoch 203, new best val loss  0.4617\n",
      "Model overwritten at epoch 206, new best val loss  0.4610\n",
      "Model overwritten at epoch 207, new best val loss  0.4607\n",
      "Model overwritten at epoch 210, new best val loss  0.4571\n",
      "Epoch: 210/550, train loss:  0.216, val_loss:  0.457, duration: 0:00:48.131640, learning rate: (0.0001, 0.0001)\n",
      "Model overwritten at epoch 219, new best val loss  0.4567\n",
      "Epoch: 220/550, train loss:  0.210, val_loss:  0.459, duration: 0:00:48.150313, learning rate: (0.0001, 0.0001)\n",
      "Model overwritten at epoch 222, new best val loss  0.4547\n",
      "Model overwritten at epoch 227, new best val loss  0.4532\n",
      "Epoch: 230/550, train loss:  0.205, val_loss:  0.453, duration: 0:00:48.275236, learning rate: (0.0001, 0.0001)\n",
      "Model overwritten at epoch 232, new best val loss  0.4520\n",
      "Model overwritten at epoch 239, new best val loss  0.4515\n",
      "Epoch: 240/550, train loss:  0.202, val_loss:  0.461, duration: 0:00:48.114380, learning rate: (0.0001, 0.0001)\n",
      "Model overwritten at epoch 242, new best val loss  0.4508\n",
      "Model overwritten at epoch 243, new best val loss  0.4504\n",
      "Model overwritten at epoch 249, new best val loss  0.4487\n",
      "Epoch: 250/550, train loss:  0.199, val_loss:  0.453, duration: 0:00:48.171098, learning rate: (0.0001, 0.0001)\n",
      "Model overwritten at epoch 252, new best val loss  0.4482\n",
      "Model overwritten at epoch 254, new best val loss  0.4476\n",
      "Model overwritten at epoch 257, new best val loss  0.4470\n",
      "Epoch: 260/550, train loss:  0.196, val_loss:  0.454, duration: 0:00:48.214020, learning rate: (0.0001, 0.0001)\n",
      "Model overwritten at epoch 269, new best val loss  0.4290\n",
      "Epoch: 270/550, train loss:  0.147, val_loss:  0.431, duration: 0:00:48.185186, learning rate: (1e-05, 1e-05)\n",
      "Model overwritten at epoch 274, new best val loss  0.4283\n",
      "Epoch: 280/550, train loss:  0.141, val_loss:  0.431, duration: 0:00:48.229522, learning rate: (1e-05, 1e-05)\n",
      "Model overwritten at epoch 286, new best val loss  0.4274\n",
      "Epoch: 290/550, train loss:  0.135, val_loss:  0.428, duration: 0:00:48.245370, learning rate: (1.0000000000000002e-06, 1.0000000000000002e-06)\n",
      "Epoch: 300/550, train loss:  0.134, val_loss:  0.428, duration: 0:00:48.160167, learning rate: (1.0000000000000002e-07, 1.0000000000000002e-07)\n",
      "Max patience reached, training is terminated at epoch 307\n"
     ]
    }
   ],
   "source": [
    "load_model_weight = None\n",
    "epochs = 550\n",
    "new_model_name = 'CNN-GRU-384'\n",
    "if load_model_weight is None:   \n",
    "    train_losses, test_losses=train_from_scratch_or_load(load_model_weight,new_model_name,  epochs, cnn = False)\n",
    "else:\n",
    "    trained_model_v00 = train_from_scratch_or_load(load_model_weight, new_model_name, epochs, cnn = False)\n",
    "    #Train accuracy\n",
    "    yt, tgt, acct = get_pred_n_acc([trained_model_v00], device, train_loader, num_iter = len(train_loader))\n",
    "    #validation accuracy\n",
    "    yv, tgv, accv = get_pred_n_acc([trained_model_v00], device, val_loader, num_iter = len(val_loader))\n",
    "    print(f'Train data, target shapes: {yt.shape, tgt.shape},\\n train accuracies {acct}')\n",
    "    print(f'Validation data, target shapes: {yv.shape, tgv.shape},\\n validation accuracies {accv}')\n",
    "    #Test accuracy\n",
    "    yts, tgts, accts = get_pred_n_acc([trained_model_v00], device, test_loader, num_iter = len(test_loader))\n",
    "    print(f'Test data, target shapes: {yts.shape, tgts.shape},\\n test accuracies {accts}')"
   ]
  },
  {
   "cell_type": "code",
   "execution_count": 22,
   "id": "f22cbfdb",
   "metadata": {
    "execution": {
     "iopub.execute_input": "2024-05-12T09:39:33.719347Z",
     "iopub.status.busy": "2024-05-12T09:39:33.719030Z",
     "iopub.status.idle": "2024-05-12T09:39:34.060856Z",
     "shell.execute_reply": "2024-05-12T09:39:34.059881Z"
    },
    "papermill": {
     "duration": 0.363765,
     "end_time": "2024-05-12T09:39:34.063060",
     "exception": false,
     "start_time": "2024-05-12T09:39:33.699295",
     "status": "completed"
    },
    "tags": []
   },
   "outputs": [
    {
     "data": {
      "image/png": "[encoded data removed]",
      "text/plain": [
       "<Figure size 640x480 with 1 Axes>"
      ]
     },
     "metadata": {},
     "output_type": "display_data"
    }
   ],
   "source": [
    "plot_losses(train_losses, test_losses)"
   ]
  },
  {
   "cell_type": "code",
   "execution_count": 23,
   "id": "7d9f3af0",
   "metadata": {
    "execution": {
     "iopub.execute_input": "2024-05-12T09:39:34.104263Z",
     "iopub.status.busy": "2024-05-12T09:39:34.103947Z",
     "iopub.status.idle": "2024-05-12T09:39:34.121636Z",
     "shell.execute_reply": "2024-05-12T09:39:34.120689Z"
    },
    "papermill": {
     "duration": 0.039937,
     "end_time": "2024-05-12T09:39:34.123708",
     "exception": false,
     "start_time": "2024-05-12T09:39:34.083771",
     "status": "completed"
    },
    "tags": []
   },
   "outputs": [
    {
     "data": {
      "text/html": [
       "<div>\n",
       "<style scoped>\n",
       "    .dataframe tbody tr th:only-of-type {\n",
       "        vertical-align: middle;\n",
       "    }\n",
       "\n",
       "    .dataframe tbody tr th {\n",
       "        vertical-align: top;\n",
       "    }\n",
       "\n",
       "    .dataframe thead th {\n",
       "        text-align: right;\n",
       "    }\n",
       "</style>\n",
       "<table border=\"1\" class=\"dataframe\">\n",
       "  <thead>\n",
       "    <tr style=\"text-align: right;\">\n",
       "      <th></th>\n",
       "      <th>train_loss</th>\n",
       "      <th>val_loss</th>\n",
       "    </tr>\n",
       "  </thead>\n",
       "  <tbody>\n",
       "    <tr>\n",
       "      <th>0</th>\n",
       "      <td>6.053329</td>\n",
       "      <td>5.169710</td>\n",
       "    </tr>\n",
       "    <tr>\n",
       "      <th>1</th>\n",
       "      <td>4.966186</td>\n",
       "      <td>4.623202</td>\n",
       "    </tr>\n",
       "    <tr>\n",
       "      <th>2</th>\n",
       "      <td>4.832945</td>\n",
       "      <td>4.405545</td>\n",
       "    </tr>\n",
       "    <tr>\n",
       "      <th>3</th>\n",
       "      <td>4.547861</td>\n",
       "      <td>4.619461</td>\n",
       "    </tr>\n",
       "    <tr>\n",
       "      <th>4</th>\n",
       "      <td>4.552969</td>\n",
       "      <td>4.254152</td>\n",
       "    </tr>\n",
       "  </tbody>\n",
       "</table>\n",
       "</div>"
      ],
      "text/plain": [
       "   train_loss  val_loss\n",
       "0    6.053329  5.169710\n",
       "1    4.966186  4.623202\n",
       "2    4.832945  4.405545\n",
       "3    4.547861  4.619461\n",
       "4    4.552969  4.254152"
      ]
     },
     "execution_count": 23,
     "metadata": {},
     "output_type": "execute_result"
    }
   ],
   "source": [
    "loss_dict = {'train_loss': train_losses, 'val_loss': test_losses}\n",
    "dd = pd.DataFrame(loss_dict)\n",
    "dd.to_csv('loss_dict.csv', index = False)\n",
    "dd.head()"
   ]
  },
  {
   "cell_type": "markdown",
   "id": "0a1fd6e7",
   "metadata": {
    "papermill": {
     "duration": 0.019104,
     "end_time": "2024-05-12T09:39:34.163628",
     "exception": false,
     "start_time": "2024-05-12T09:39:34.144524",
     "status": "completed"
    },
    "tags": []
   },
   "source": [
    "# Train & validation accuracies"
   ]
  },
  {
   "cell_type": "code",
   "execution_count": 24,
   "id": "420dc552",
   "metadata": {
    "execution": {
     "iopub.execute_input": "2024-05-12T09:39:34.203176Z",
     "iopub.status.busy": "2024-05-12T09:39:34.202766Z",
     "iopub.status.idle": "2024-05-12T09:39:57.108415Z",
     "shell.execute_reply": "2024-05-12T09:39:57.107282Z"
    },
    "papermill": {
     "duration": 22.928031,
     "end_time": "2024-05-12T09:39:57.110615",
     "exception": false,
     "start_time": "2024-05-12T09:39:34.182584",
     "status": "completed"
    },
    "tags": []
   },
   "outputs": [
    {
     "name": "stdout",
     "output_type": "stream",
     "text": [
      "Train data, target shapes: ((652092, 4), (652092, 4)),\n",
      " train accuracies [98.9892530501831, 88.96275372186747, 89.26409156990118, 53.72156076136496]\n",
      "Validation data, target shapes: ((72455, 4), (72455, 4)),\n",
      " validation accuracies [98.20302256573046, 84.96860120074528, 69.20847422538127, 31.81560968877234]\n"
     ]
    }
   ],
   "source": [
    "#Train accuracy\n",
    "yt, tgt, acct = get_pred_n_acc([model], device, train_loader, num_iter = len(train_loader))\n",
    "#validation accuracy\n",
    "yv, tgv, accv = get_pred_n_acc([model], device, val_loader, num_iter = len(val_loader))\n",
    "print(f'Train data, target shapes: {yt.shape, tgt.shape},\\n train accuracies {acct}')\n",
    "print(f'Validation data, target shapes: {yv.shape, tgv.shape},\\n validation accuracies {accv}')"
   ]
  },
  {
   "cell_type": "markdown",
   "id": "8f07517e",
   "metadata": {
    "papermill": {
     "duration": 0.019139,
     "end_time": "2024-05-12T09:39:57.150474",
     "exception": false,
     "start_time": "2024-05-12T09:39:57.131335",
     "status": "completed"
    },
    "tags": []
   },
   "source": [
    "# Inference on the test set"
   ]
  },
  {
   "cell_type": "code",
   "execution_count": 25,
   "id": "7ae9acb2",
   "metadata": {
    "execution": {
     "iopub.execute_input": "2024-05-12T09:39:57.192450Z",
     "iopub.status.busy": "2024-05-12T09:39:57.191682Z",
     "iopub.status.idle": "2024-05-12T09:40:02.740943Z",
     "shell.execute_reply": "2024-05-12T09:40:02.740051Z"
    },
    "papermill": {
     "duration": 5.572087,
     "end_time": "2024-05-12T09:40:02.743272",
     "exception": false,
     "start_time": "2024-05-12T09:39:57.171185",
     "status": "completed"
    },
    "tags": []
   },
   "outputs": [
    {
     "name": "stdout",
     "output_type": "stream",
     "text": [
      "Test data, target shapes: ((181137, 4), (181137, 4)),\n",
      " test accuracies [98.2405582514892, 84.8269541838498, 69.24979435454932, 31.72626244223985]\n"
     ]
    }
   ],
   "source": [
    "#Test accuracy\n",
    "yts, tgts, accts = get_pred_n_acc([model], device, test_loader, num_iter = len(test_loader))\n",
    "print(f'Test data, target shapes: {yts.shape, tgts.shape},\\n test accuracies {accts}')"
   ]
  }
 ],
 "metadata": {
  "kaggle": {
   "accelerator": "gpu",
   "dataSources": [
    {
     "sourceId": 174871011,
     "sourceType": "kernelVersion"
    }
   ],
   "dockerImageVersionId": 30674,
   "isGpuEnabled": true,
   "isInternetEnabled": true,
   "language": "python",
   "sourceType": "notebook"
  },
  "kernelspec": {
   "display_name": "Python 3",
   "language": "python",
   "name": "python3"
  },
  "language_info": {
   "codemirror_mode": {
    "name": "ipython",
    "version": 3
   },
   "file_extension": ".py",
   "mimetype": "text/x-python",
   "name": "python",
   "nbconvert_exporter": "python",
   "pygments_lexer": "ipython3",
   "version": "3.10.13"
  },
  "papermill": {
   "default_parameters": {},
   "duration": 14959.573279,
   "end_time": "2024-05-12T09:40:04.617206",
   "environment_variables": {},
   "exception": null,
   "input_path": "__notebook__.ipynb",
   "output_path": "__notebook__.ipynb",
   "parameters": {},
   "start_time": "2024-05-12T05:30:45.043927",
   "version": "2.5.0"
  }
 },
 "nbformat": 4,
 "nbformat_minor": 5
}
