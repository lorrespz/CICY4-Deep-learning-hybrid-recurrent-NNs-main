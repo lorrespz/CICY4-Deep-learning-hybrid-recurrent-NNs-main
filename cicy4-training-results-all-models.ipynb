{
 "cells": [
  {
   "cell_type": "markdown",
   "id": "a858921a",
   "metadata": {
    "papermill": {
     "duration": 0.017011,
     "end_time": "2024-05-23T07:48:56.863098",
     "exception": false,
     "start_time": "2024-05-23T07:48:56.846087",
     "status": "completed"
    },
    "tags": []
   },
   "source": [
    "# CICY4: Training results + Inference [All models]\n",
    "\n",
    "In this notebook, 12 trained models were loaded to calculate the train, validation and test accuracies of the 72% dataset. \n",
    "The models can be broadly categorized into CNN-RNN (either GRU or LSTM) hybrid architecture and LSTM-based architecture. \n",
    "\n",
    "- CNN-GRU hybrids :\n",
    "    - CNN-GRU-384\n",
    "    - CNN-GRU-416\n",
    "    - ResNet-GRU-256\n",
    "    - ResNet-GRU-400\n",
    "- CNN-LSTM hybrids:  \n",
    "    - CNN-LSTM-256\n",
    "    - CNN-LSTM-384\n",
    "    - CNN-LSTM-400\n",
    "    - CNN-LSTM-416\n",
    "- LSTM-based:\n",
    "    - LSTM-400\n",
    "    - LSTM-424\n",
    "    - LSTM-448\n",
    "    - LSTM-456\n",
    "    \n",
    " The best performing model so far is CNN-LSTM-400, followed by LSTM-448 and LSTM-424. These 3 models were trained on the enlarged 80% dataset. The retrained models were also loaded to calculate the test accuracies on the 80% dataset.  \n",
    " "
   ]
  },
  {
   "cell_type": "code",
   "execution_count": 1,
   "id": "7c84304e",
   "metadata": {
    "execution": {
     "iopub.execute_input": "2024-05-23T07:48:56.897706Z",
     "iopub.status.busy": "2024-05-23T07:48:56.897406Z",
     "iopub.status.idle": "2024-05-23T07:49:02.271051Z",
     "shell.execute_reply": "2024-05-23T07:49:02.270223Z"
    },
    "papermill": {
     "duration": 5.393494,
     "end_time": "2024-05-23T07:49:02.273323",
     "exception": false,
     "start_time": "2024-05-23T07:48:56.879829",
     "status": "completed"
    },
    "tags": []
   },
   "outputs": [],
   "source": [
    "import numpy as np\n",
    "import pandas as pd\n",
    "import random\n",
    "import os as os\n",
    "import matplotlib.pyplot as plt\n",
    "import seaborn as sns\n",
    "from datetime import datetime\n",
    "import pandas as pd\n",
    "import torch\n",
    "import torch.nn as nn\n",
    "import torch.nn.functional as F"
   ]
  },
  {
   "cell_type": "code",
   "execution_count": 2,
   "id": "97e0c647",
   "metadata": {
    "execution": {
     "iopub.execute_input": "2024-05-23T07:49:02.311129Z",
     "iopub.status.busy": "2024-05-23T07:49:02.310604Z",
     "iopub.status.idle": "2024-05-23T07:49:02.363216Z",
     "shell.execute_reply": "2024-05-23T07:49:02.362241Z"
    },
    "papermill": {
     "duration": 0.073499,
     "end_time": "2024-05-23T07:49:02.365357",
     "exception": false,
     "start_time": "2024-05-23T07:49:02.291858",
     "status": "completed"
    },
    "tags": []
   },
   "outputs": [
    {
     "name": "stdout",
     "output_type": "stream",
     "text": [
      "cuda:0\n"
     ]
    }
   ],
   "source": [
    "device = torch.device(\"cuda:0\" if torch.cuda.is_available() else \"cpu\")\n",
    "print(device)"
   ]
  },
  {
   "cell_type": "code",
   "execution_count": 3,
   "id": "ebc86b16",
   "metadata": {
    "execution": {
     "iopub.execute_input": "2024-05-23T07:49:02.400789Z",
     "iopub.status.busy": "2024-05-23T07:49:02.400134Z",
     "iopub.status.idle": "2024-05-23T07:49:02.408601Z",
     "shell.execute_reply": "2024-05-23T07:49:02.407911Z"
    },
    "papermill": {
     "duration": 0.028382,
     "end_time": "2024-05-23T07:49:02.410525",
     "exception": false,
     "start_time": "2024-05-23T07:49:02.382143",
     "status": "completed"
    },
    "tags": []
   },
   "outputs": [],
   "source": [
    "seed = 42\n",
    "\n",
    "def seed_everything(seed):\n",
    "    random.seed(seed)\n",
    "    os.environ['PYTHONHASHSEED'] = str(seed)\n",
    "    np.random.seed(seed)\n",
    "    torch.manual_seed(seed)\n",
    "    torch.cuda.manual_seed(seed)\n",
    "    torch.cuda.manual_seed_all(seed)\n",
    "    torch.backends.cudnn.deterministic = True\n",
    "\n",
    "seed_everything(seed)"
   ]
  },
  {
   "cell_type": "markdown",
   "id": "5d7cad46",
   "metadata": {
    "papermill": {
     "duration": 0.015949,
     "end_time": "2024-05-23T07:49:02.442830",
     "exception": false,
     "start_time": "2024-05-23T07:49:02.426881",
     "status": "completed"
    },
    "tags": []
   },
   "source": [
    "# Load data"
   ]
  },
  {
   "cell_type": "code",
   "execution_count": 4,
   "id": "98188768",
   "metadata": {
    "execution": {
     "iopub.execute_input": "2024-05-23T07:49:02.476789Z",
     "iopub.status.busy": "2024-05-23T07:49:02.476483Z",
     "iopub.status.idle": "2024-05-23T07:49:16.386480Z",
     "shell.execute_reply": "2024-05-23T07:49:16.385232Z"
    },
    "papermill": {
     "duration": 13.929448,
     "end_time": "2024-05-23T07:49:16.388630",
     "exception": false,
     "start_time": "2024-05-23T07:49:02.459182",
     "status": "completed"
    },
    "tags": []
   },
   "outputs": [
    {
     "name": "stdout",
     "output_type": "stream",
     "text": [
      "torch.Size([652092, 16, 20]) torch.Size([181137, 16, 20])\n",
      "torch.Size([652092, 4]) torch.Size([181137, 4])\n"
     ]
    }
   ],
   "source": [
    "#72% dataset\n",
    "X_train = np.load('/kaggle/input/calabi-yau-cicy-4-folds/conf_Xtrain.npy')\n",
    "X_test = np.load('/kaggle/input/calabi-yau-cicy-4-folds/conf_Xtest.npy')\n",
    "\n",
    "y_train = np.load('/kaggle/input/calabi-yau-cicy-4-folds/hodge_ytrain.npy')\n",
    "y_test= np.load('/kaggle/input/calabi-yau-cicy-4-folds/hodge_ytest.npy')\n",
    "\n",
    "#Convert data to torch tensor with float32 precision \n",
    "#(needed to be compatible with the floating decision of the network parameters)\n",
    "X_train = torch.from_numpy(X_train.astype(np.float32))\n",
    "y_train = torch.from_numpy(y_train.astype(np.float32))\n",
    "\n",
    "X_test = torch.from_numpy(X_test.astype(np.float32)) \n",
    "y_test= torch.from_numpy(y_test.astype(np.float32))\n",
    "\n",
    "print(X_train.shape, X_test.shape)\n",
    "print(y_train.shape, y_test.shape)"
   ]
  },
  {
   "cell_type": "code",
   "execution_count": 5,
   "id": "2840e123",
   "metadata": {
    "execution": {
     "iopub.execute_input": "2024-05-23T07:49:16.423212Z",
     "iopub.status.busy": "2024-05-23T07:49:16.422901Z",
     "iopub.status.idle": "2024-05-23T07:49:33.092976Z",
     "shell.execute_reply": "2024-05-23T07:49:33.091687Z"
    },
    "papermill": {
     "duration": 16.689197,
     "end_time": "2024-05-23T07:49:33.094958",
     "exception": false,
     "start_time": "2024-05-23T07:49:16.405761",
     "status": "completed"
    },
    "tags": []
   },
   "outputs": [
    {
     "name": "stdout",
     "output_type": "stream",
     "text": [
      "torch.Size([724547, 16, 20]) torch.Size([108682, 16, 20])\n",
      "torch.Size([724547, 4]) torch.Size([108682, 4])\n"
     ]
    }
   ],
   "source": [
    "#80% dataset originally from the notebook\n",
    "X_train_80o = np.load('/kaggle/input/cicy4-create-80-data-split/conf_Xtrain_80.npy')\n",
    "X_test_80o = np.load('/kaggle/input/cicy4-create-80-data-split/conf_Xtest_80.npy')\n",
    "\n",
    "y_train_80o = np.load('/kaggle/input/cicy4-create-80-data-split/hodge_ytrain_80.npy')\n",
    "y_test_80o = np.load('/kaggle/input/cicy4-create-80-data-split/hodge_ytest_80.npy')\n",
    "\n",
    "#Convert data to torch tensor with float32 precision \n",
    "#(needed to be compatible with the floating decision of the network parameters)\n",
    "X_train_80o = torch.from_numpy(X_train_80o.astype(np.float32))\n",
    "y_train_80o = torch.from_numpy(y_train_80o.astype(np.float32))\n",
    "\n",
    "X_test_80o = torch.from_numpy(X_test_80o.astype(np.float32)) \n",
    "y_test_80o = torch.from_numpy(y_test_80o.astype(np.float32))\n",
    "\n",
    "print(X_train_80o.shape, X_test_80o.shape)\n",
    "print(y_train_80o.shape, y_test_80o.shape)"
   ]
  },
  {
   "cell_type": "code",
   "execution_count": 6,
   "id": "190b9002",
   "metadata": {
    "execution": {
     "iopub.execute_input": "2024-05-23T07:49:33.129657Z",
     "iopub.status.busy": "2024-05-23T07:49:33.129003Z",
     "iopub.status.idle": "2024-05-23T07:49:46.060408Z",
     "shell.execute_reply": "2024-05-23T07:49:46.059294Z"
    },
    "papermill": {
     "duration": 12.950935,
     "end_time": "2024-05-23T07:49:46.062597",
     "exception": false,
     "start_time": "2024-05-23T07:49:33.111662",
     "status": "completed"
    },
    "tags": []
   },
   "outputs": [
    {
     "name": "stdout",
     "output_type": "stream",
     "text": [
      "torch.Size([724547, 16, 20]) torch.Size([108682, 16, 20])\n",
      "torch.Size([724547, 4]) torch.Size([108682, 4])\n"
     ]
    }
   ],
   "source": [
    "#80% dataset\n",
    "X_train_80 = np.load('/kaggle/input/calabi-yau-cicy-4-folds/conf_Xtrain_80.npy')\n",
    "X_test_80 = np.load('/kaggle/input/calabi-yau-cicy-4-folds/conf_Xtest_80.npy')\n",
    "\n",
    "y_train_80 = np.load('/kaggle/input/calabi-yau-cicy-4-folds/hodge_ytrain_80.npy')\n",
    "y_test_80= np.load('/kaggle/input/calabi-yau-cicy-4-folds/hodge_ytest_80.npy')\n",
    "\n",
    "#Convert data to torch tensor with float32 precision \n",
    "#(needed to be compatible with the floating decision of the network parameters)\n",
    "X_train_80 = torch.from_numpy(X_train_80.astype(np.float32))\n",
    "y_train_80 = torch.from_numpy(y_train_80.astype(np.float32))\n",
    "\n",
    "X_test_80 = torch.from_numpy(X_test_80.astype(np.float32)) \n",
    "y_test_80= torch.from_numpy(y_test_80.astype(np.float32))\n",
    "\n",
    "print(X_train_80.shape, X_test_80.shape)\n",
    "print(y_train_80.shape, y_test_80.shape)"
   ]
  },
  {
   "cell_type": "code",
   "execution_count": 7,
   "id": "2cf92c78",
   "metadata": {
    "execution": {
     "iopub.execute_input": "2024-05-23T07:49:46.097400Z",
     "iopub.status.busy": "2024-05-23T07:49:46.097054Z",
     "iopub.status.idle": "2024-05-23T07:49:46.103803Z",
     "shell.execute_reply": "2024-05-23T07:49:46.103009Z"
    },
    "papermill": {
     "duration": 0.026378,
     "end_time": "2024-05-23T07:49:46.105697",
     "exception": false,
     "start_time": "2024-05-23T07:49:46.079319",
     "status": "completed"
    },
    "tags": []
   },
   "outputs": [],
   "source": [
    "class CICY4Dataset(torch.utils.data.Dataset):\n",
    "    def __init__(self, X, y):\n",
    "        self.X = X\n",
    "        self.y = y        \n",
    "    def __len__(self):\n",
    "        return len(self.X)      \n",
    "    def __getitem__(self, idx):\n",
    "        X0 = self.X[idx]\n",
    "        y0 = self.y[idx]  \n",
    "        return X0, y0\n",
    "        \n",
    "train_set = CICY4Dataset(X_train, y_train)\n",
    "test_set = CICY4Dataset(X_test, y_test)\n",
    "\n",
    "train_set_80 = CICY4Dataset(X_train_80, y_train_80)\n",
    "test_set_80 = CICY4Dataset(X_test_80, y_test_80)\n",
    "\n",
    "train_set_80o = CICY4Dataset(X_train_80o, y_train_80o)\n",
    "test_set_80o= CICY4Dataset(X_test_80o, y_test_80o)"
   ]
  },
  {
   "cell_type": "code",
   "execution_count": 8,
   "id": "959ae405",
   "metadata": {
    "execution": {
     "iopub.execute_input": "2024-05-23T07:49:46.139572Z",
     "iopub.status.busy": "2024-05-23T07:49:46.139325Z",
     "iopub.status.idle": "2024-05-23T07:49:46.146796Z",
     "shell.execute_reply": "2024-05-23T07:49:46.145856Z"
    },
    "papermill": {
     "duration": 0.026469,
     "end_time": "2024-05-23T07:49:46.148691",
     "exception": false,
     "start_time": "2024-05-23T07:49:46.122222",
     "status": "completed"
    },
    "tags": []
   },
   "outputs": [],
   "source": [
    "from torch.utils.data import DataLoader\n",
    "\n",
    "train_loader = DataLoader(train_set, batch_size=128, shuffle=True)\n",
    "test_loader = DataLoader(test_set, batch_size=128, shuffle=False)\n",
    "\n",
    "train_loader_80 = DataLoader(train_set_80, batch_size=128, shuffle=True)\n",
    "test_loader_80 = DataLoader(test_set_80, batch_size=128, shuffle=False)\n",
    "\n",
    "train_loader_80o = DataLoader(train_set_80o, batch_size=128, shuffle=True)\n",
    "test_loader_80o = DataLoader(test_set_80o, batch_size=128, shuffle=False)"
   ]
  },
  {
   "cell_type": "markdown",
   "id": "29860345",
   "metadata": {
    "papermill": {
     "duration": 0.016249,
     "end_time": "2024-05-23T07:49:46.181293",
     "exception": false,
     "start_time": "2024-05-23T07:49:46.165044",
     "status": "completed"
    },
    "tags": []
   },
   "source": [
    "# Utility functions"
   ]
  },
  {
   "cell_type": "code",
   "execution_count": 9,
   "id": "1a448bc4",
   "metadata": {
    "execution": {
     "iopub.execute_input": "2024-05-23T07:49:46.215091Z",
     "iopub.status.busy": "2024-05-23T07:49:46.214739Z",
     "iopub.status.idle": "2024-05-23T07:49:46.225867Z",
     "shell.execute_reply": "2024-05-23T07:49:46.225206Z"
    },
    "papermill": {
     "duration": 0.030273,
     "end_time": "2024-05-23T07:49:46.227888",
     "exception": false,
     "start_time": "2024-05-23T07:49:46.197615",
     "status": "completed"
    },
    "tags": []
   },
   "outputs": [],
   "source": [
    "################## GET PREDICTIONS + ACCURACY #####################\n",
    "def get_pred_n_acc(models, device, dataloader, num_iter):\n",
    "    i = 0\n",
    "    ypreds =[]\n",
    "    targets = []\n",
    "    #The last batch might not have size 128\n",
    "    while i< num_iter:\n",
    "        for data, target in dataloader:\n",
    "            #this empty list is to hold all models' preds\n",
    "            ypred = []    \n",
    "            data= data.to(device)\n",
    "            data = data.to(torch.float32)\n",
    "            target = target.to(torch.float32)\n",
    "            #append the 'i^th' target\n",
    "            targets.append(target)\n",
    "            for model in models:\n",
    "                model.eval()\n",
    "                yp = model(data)\n",
    "                yp = yp.detach().cpu().numpy()\n",
    "                ypred.append(yp)\n",
    "            #take the mean of all models' predictions\n",
    "            ypred = np.array(ypred).mean(axis = 0)\n",
    "            ypred = np.round(ypred)\n",
    "            i+=1\n",
    "            #append ypred, targets inside the 'i' loop\n",
    "            # append the 'i^th' mean prediction\n",
    "            ypreds.append(ypred)   \n",
    "            if i == num_iter:\n",
    "                break \n",
    "     #Do not convert ypreds, targets to np.array at this point,\n",
    "    #since the last batch has a different size, causing an error !\n",
    "    #CALCULATING ACCURACY    \n",
    "    yp =  np.concatenate([ypreds[j] for j in range(len(ypreds))], axis = 0)\n",
    "    tgs =  np.concatenate([targets[j] for j in range(len(targets))], axis = 0)\n",
    "    h11_acc = ((yp[:,0] == tgs[:,0]).sum())/len(yp)\n",
    "    h21_acc = ((yp[:,1] == tgs[:,1]).sum())/len(yp)\n",
    "    h31_acc = ((yp[:,2] == tgs[:,2]).sum())/len(yp)\n",
    "    h22_acc = ((yp[:,3] == tgs[:,3]).sum())/len(yp)\n",
    "    acc = [h11_acc*100,h21_acc*100,h31_acc*100,h22_acc*100 ]\n",
    "    return  yp, tgs, acc"
   ]
  },
  {
   "cell_type": "code",
   "execution_count": 10,
   "id": "a5f0ab56",
   "metadata": {
    "execution": {
     "iopub.execute_input": "2024-05-23T07:49:46.261574Z",
     "iopub.status.busy": "2024-05-23T07:49:46.261312Z",
     "iopub.status.idle": "2024-05-23T07:49:46.266915Z",
     "shell.execute_reply": "2024-05-23T07:49:46.265996Z"
    },
    "papermill": {
     "duration": 0.024671,
     "end_time": "2024-05-23T07:49:46.268805",
     "exception": false,
     "start_time": "2024-05-23T07:49:46.244134",
     "status": "completed"
    },
    "tags": []
   },
   "outputs": [],
   "source": [
    "def load_model_and_get_pred(load_model_weight, model_name, train_loader, test_loader):\n",
    "    trained_model = torch.load(load_model_weight)  \n",
    "    yt, tgt, acct = get_pred_n_acc([trained_model], device, train_loader, num_iter = len(train_loader))\n",
    "    #validation accuracy\n",
    "    #yv, tgv, accv = get_pred_n_acc([trained_model], device, val_loader, num_iter = len(val_loader))\n",
    "    print(f'\\n Train accuracies for {model_name}: {acct} ')\n",
    "    #print(f'\\n Validation accuracies for {model_name}: {accv}')\n",
    "    #Test accuracy\n",
    "    yts, tgts, accts = get_pred_n_acc([trained_model], device, test_loader, num_iter = len(test_loader))\n",
    "    print(f'\\n Test accuracies for {model_name}: {accts} \\n')\n",
    "    return trained_model, acct, accts, yts"
   ]
  },
  {
   "cell_type": "markdown",
   "id": "421bcbde",
   "metadata": {
    "papermill": {
     "duration": 0.01631,
     "end_time": "2024-05-23T07:49:46.301358",
     "exception": false,
     "start_time": "2024-05-23T07:49:46.285048",
     "status": "completed"
    },
    "tags": []
   },
   "source": [
    "# Network building blocks"
   ]
  },
  {
   "cell_type": "code",
   "execution_count": 11,
   "id": "982fa3c5",
   "metadata": {
    "execution": {
     "iopub.execute_input": "2024-05-23T07:49:46.335517Z",
     "iopub.status.busy": "2024-05-23T07:49:46.335256Z",
     "iopub.status.idle": "2024-05-23T07:49:46.341772Z",
     "shell.execute_reply": "2024-05-23T07:49:46.340977Z"
    },
    "papermill": {
     "duration": 0.025531,
     "end_time": "2024-05-23T07:49:46.343569",
     "exception": false,
     "start_time": "2024-05-23T07:49:46.318038",
     "status": "completed"
    },
    "tags": []
   },
   "outputs": [],
   "source": [
    "# CNN BLOCK\n",
    "class CNN_block(nn.Module):  \n",
    "    def __init__(self):\n",
    "        super().__init__()\n",
    "        self.conv1 = nn.Conv2d(1,128, 4, 1)\n",
    "        #self.bn1 = nn.BatchNorm2d(128)\n",
    "        self.conv2 = nn.Conv2d(128, 64, 3, 1)\n",
    "        #self.bn2 = nn.BatchNorm2d(64)\n",
    "        self.mxpool = nn.MaxPool2d(2,2)\n",
    "        #self.conv3 = nn.Conv2d(128,64, 2, 1)\n",
    "        self.flat = nn.Flatten()\n",
    "        self.conv_total = nn.Sequential(\n",
    "            self.conv1,\n",
    "            self.mxpool,\n",
    "            self.conv2,\n",
    "            self.mxpool\n",
    "        )\n",
    "    def forward(self,x):\n",
    "        x = F.relu(self.conv_total(x))\n",
    "        #reshape is the same as flat(x)\n",
    "        #x = x.reshape(x.shape[0], -1)\n",
    "        x = self.flat(x)   \n",
    "        return x"
   ]
  },
  {
   "cell_type": "code",
   "execution_count": 12,
   "id": "840ea2a4",
   "metadata": {
    "execution": {
     "iopub.execute_input": "2024-05-23T07:49:46.378195Z",
     "iopub.status.busy": "2024-05-23T07:49:46.377382Z",
     "iopub.status.idle": "2024-05-23T07:49:46.386375Z",
     "shell.execute_reply": "2024-05-23T07:49:46.385472Z"
    },
    "papermill": {
     "duration": 0.028192,
     "end_time": "2024-05-23T07:49:46.388393",
     "exception": false,
     "start_time": "2024-05-23T07:49:46.360201",
     "status": "completed"
    },
    "tags": []
   },
   "outputs": [],
   "source": [
    "#RESNET BLOCK\n",
    "# CNN ###############################\n",
    "class ResNet_block(nn.Module):    \n",
    "    def __init__(self, filters, kernels):\n",
    "        super().__init__()\n",
    "        f1, f2, f3 = filters\n",
    "        k1, k2, k3 = kernels\n",
    "        self.conv1 = nn.Conv2d(1,f1, k1, 1)\n",
    "        self.conv2 = nn.Conv2d(f1,f2, k2, 1)\n",
    "        self.conv3 = nn.Conv2d(f2,f3, k3, 1)\n",
    "        self.maxpool = nn.MaxPool2d(2,2)\n",
    "        self.flat = nn.Flatten()\n",
    "        self.relu = nn.ReLU()\n",
    "        #this layer is to get the identity to have\n",
    "        #the same shape as the other branch, bias = False\n",
    "        self.fc0 = nn.Linear(320,256, bias = False)\n",
    "        #convolution branch/main branch\n",
    "        self.conv_total = nn.Sequential(\n",
    "            self.conv1,\n",
    "            self.maxpool,\n",
    "            self.relu,\n",
    "            self.conv2,\n",
    "            self.maxpool,\n",
    "            self.relu,\n",
    "            self.conv3,\n",
    "            self.flat\n",
    "        )\n",
    "        #shortcut branch\n",
    "        self.shortcut = nn.Sequential(self.flat, self.fc0)\n",
    "\n",
    "    def forward(self,x):\n",
    "        #x_i and x must have the same shape\n",
    "        x_i = self.shortcut(x)\n",
    "        x = self.conv_total(x)\n",
    "        xt = x+ x_i\n",
    "        #xt = torch.cat([x, x_i], dim = 1) \n",
    "        return xt"
   ]
  },
  {
   "cell_type": "code",
   "execution_count": 13,
   "id": "483e10e8",
   "metadata": {
    "execution": {
     "iopub.execute_input": "2024-05-23T07:49:46.423172Z",
     "iopub.status.busy": "2024-05-23T07:49:46.422425Z",
     "iopub.status.idle": "2024-05-23T07:49:46.429779Z",
     "shell.execute_reply": "2024-05-23T07:49:46.428955Z"
    },
    "papermill": {
     "duration": 0.026766,
     "end_time": "2024-05-23T07:49:46.431604",
     "exception": false,
     "start_time": "2024-05-23T07:49:46.404838",
     "status": "completed"
    },
    "tags": []
   },
   "outputs": [],
   "source": [
    "#GRU BLOCK\n",
    "class RNN_block(nn.Module):\n",
    "    def __init__(self, n_inputs, n_hidden, n_rnnlayers, n_outputs):\n",
    "        super(RNN_block,self).__init__()\n",
    "        self.D = n_inputs\n",
    "        self.M = n_hidden\n",
    "        self.K = n_outputs\n",
    "        self.L = n_rnnlayers        \n",
    "        self.gru = nn.GRU(input_size = self.D,\n",
    "                           hidden_size = self.M,\n",
    "                           num_layers = self.L,\n",
    "                           batch_first = True)\n",
    "\n",
    "    def forward(self, X):\n",
    "        #input X is NxTxD\n",
    "        #initial hidden states\n",
    "        h0 = torch.zeros(self.L, X.size(0), self.M).to(device)    \n",
    "        out, _ = self.gru(X, h0)   \n",
    "        #we only want h(T) at the final time step\n",
    "        # output is now of shape (N, M)\n",
    "        out = out[:, -1, :]\n",
    "        return out"
   ]
  },
  {
   "cell_type": "code",
   "execution_count": 14,
   "id": "1d88d3ed",
   "metadata": {
    "execution": {
     "iopub.execute_input": "2024-05-23T07:49:46.465524Z",
     "iopub.status.busy": "2024-05-23T07:49:46.465244Z",
     "iopub.status.idle": "2024-05-23T07:49:46.472748Z",
     "shell.execute_reply": "2024-05-23T07:49:46.471894Z"
    },
    "papermill": {
     "duration": 0.026634,
     "end_time": "2024-05-23T07:49:46.474713",
     "exception": false,
     "start_time": "2024-05-23T07:49:46.448079",
     "status": "completed"
    },
    "tags": []
   },
   "outputs": [],
   "source": [
    "#LSTM BLOCK\n",
    "class LSTM_block(nn.Module):\n",
    "    def __init__(self, n_inputs, n_hidden, n_rnnlayers, n_outputs):\n",
    "        super(LSTM_block,self).__init__()\n",
    "        self.D = n_inputs\n",
    "        self.M = n_hidden\n",
    "        self.K = n_outputs\n",
    "        self.L = n_rnnlayers        \n",
    "        self.lstm = nn.LSTM(input_size = self.D,\n",
    "                           hidden_size = self.M,\n",
    "                           num_layers = self.L,\n",
    "                           batch_first = True)    \n",
    "    def forward(self, X):\n",
    "        #input X is NxTxD\n",
    "        #initial hidden states\n",
    "        h0 = torch.zeros(self.L, X.size(0), self.M).to(device)\n",
    "        c0 = torch.zeros(self.L, X.size(0), self.M).to(device)\n",
    "        #get LSTM unit output:\n",
    "        #output is NxTxM\n",
    "        out, _ = self.lstm(X, (h0,c0))\n",
    "        #we only want h(T) at the final time step\n",
    "        # output is now of shape (N, M)\n",
    "        out = out[:, -1, :]\n",
    "        return out"
   ]
  },
  {
   "cell_type": "markdown",
   "id": "40db749a",
   "metadata": {
    "papermill": {
     "duration": 0.016476,
     "end_time": "2024-05-23T07:49:46.507620",
     "exception": false,
     "start_time": "2024-05-23T07:49:46.491144",
     "status": "completed"
    },
    "tags": []
   },
   "source": [
    "# CNN-GRU: 384 & 416"
   ]
  },
  {
   "cell_type": "code",
   "execution_count": 15,
   "id": "071abd29",
   "metadata": {
    "execution": {
     "iopub.execute_input": "2024-05-23T07:49:46.543067Z",
     "iopub.status.busy": "2024-05-23T07:49:46.542396Z",
     "iopub.status.idle": "2024-05-23T07:49:46.549795Z",
     "shell.execute_reply": "2024-05-23T07:49:46.548883Z"
    },
    "papermill": {
     "duration": 0.02751,
     "end_time": "2024-05-23T07:49:46.551716",
     "exception": false,
     "start_time": "2024-05-23T07:49:46.524206",
     "status": "completed"
    },
    "tags": []
   },
   "outputs": [],
   "source": [
    "class CNN_RNN_hybrid(nn.Module):\n",
    "    def __init__(self, cnn_block, rnn_block, feat_vec_size):\n",
    "        super(CNN_RNN_hybrid, self).__init__()\n",
    "        self.cnn_block = cnn_block\n",
    "        self.rnn_block = rnn_block\n",
    "        self.feat_vec_size = feat_vec_size\n",
    "        self.fc1 = nn.Linear(self.feat_vec_size, 1024)\n",
    "        self.fc2 = nn.Linear(1024, 4)       \n",
    "    def forward(self, x):\n",
    "        #output of cnn block is (N,384)\n",
    "        x1 = x.view(-1,1, 16,20)\n",
    "        x1 = self.cnn_block(x1)\n",
    "        #output of rnn block is (N,M = 64)\n",
    "        x2 = self.rnn_block(x)\n",
    "        #concatenate the 2 outputs to produce a feat vec (N, M+384)\n",
    "        xx = torch.cat([x1, x2], dim = 1)\n",
    "        # pass through linear layers\n",
    "        xx = self.fc1(xx)\n",
    "        #final output is 4\n",
    "        xx = self.fc2(xx)       \n",
    "        return xx"
   ]
  },
  {
   "cell_type": "code",
   "execution_count": 16,
   "id": "430606a3",
   "metadata": {
    "execution": {
     "iopub.execute_input": "2024-05-23T07:49:46.630168Z",
     "iopub.status.busy": "2024-05-23T07:49:46.629742Z",
     "iopub.status.idle": "2024-05-23T07:50:13.653985Z",
     "shell.execute_reply": "2024-05-23T07:50:13.652885Z"
    },
    "papermill": {
     "duration": 27.088549,
     "end_time": "2024-05-23T07:50:13.656835",
     "exception": false,
     "start_time": "2024-05-23T07:49:46.568286",
     "status": "completed"
    },
    "tags": []
   },
   "outputs": [
    {
     "name": "stdout",
     "output_type": "stream",
     "text": [
      "\n",
      " Train accuracies for CNN-GRU-384: [98.98495917753937, 88.97364175607123, 89.20213712175583, 53.39323285671347] \n",
      "\n",
      " Test accuracies for CNN-GRU-384: [98.23724584154535, 84.8357872770334, 69.29285568381943, 31.733991398775512] \n",
      "\n"
     ]
    }
   ],
   "source": [
    "model_name = 'CNN-GRU-384'\n",
    "load_model_weight = '/kaggle/input/calabi-yau-cicy-4-folds/trained_models/CNN-GRU-384.pt'\n",
    "cnn_gru_384, acctG384, acctsG384, yt_cnn_gru_384 = load_model_and_get_pred(load_model_weight, model_name, train_loader, test_loader)"
   ]
  },
  {
   "cell_type": "code",
   "execution_count": 17,
   "id": "c7403d19",
   "metadata": {
    "execution": {
     "iopub.execute_input": "2024-05-23T07:50:13.692621Z",
     "iopub.status.busy": "2024-05-23T07:50:13.692305Z",
     "iopub.status.idle": "2024-05-23T07:50:40.928540Z",
     "shell.execute_reply": "2024-05-23T07:50:40.927605Z"
    },
    "papermill": {
     "duration": 27.256357,
     "end_time": "2024-05-23T07:50:40.930982",
     "exception": false,
     "start_time": "2024-05-23T07:50:13.674625",
     "status": "completed"
    },
    "tags": []
   },
   "outputs": [
    {
     "name": "stdout",
     "output_type": "stream",
     "text": [
      "\n",
      " Train accuracies for CNN-GRU-416: [99.0052017200027, 92.24097213276654, 92.8310729160916, 63.72444379014004] \n",
      "\n",
      " Test accuracies for CNN-GRU-416: [98.2543599595886, 88.6373297559306, 77.68981489149097, 45.37063106930114] \n",
      "\n"
     ]
    }
   ],
   "source": [
    "model_name = 'CNN-GRU-416'\n",
    "load_model_weight = '/kaggle/input/calabi-yau-cicy-4-folds/trained_models/CNN-GRU-416.pt'\n",
    "cnn_gru_416, acctG416, acctsG416, yt_cnn_gru_416 = load_model_and_get_pred(load_model_weight, model_name, train_loader, test_loader)"
   ]
  },
  {
   "cell_type": "markdown",
   "id": "d1d236f2",
   "metadata": {
    "papermill": {
     "duration": 0.016649,
     "end_time": "2024-05-23T07:50:40.965228",
     "exception": false,
     "start_time": "2024-05-23T07:50:40.948579",
     "status": "completed"
    },
    "tags": []
   },
   "source": [
    "# ResNet-GRU: 256 & 400"
   ]
  },
  {
   "cell_type": "code",
   "execution_count": 18,
   "id": "42493cf7",
   "metadata": {
    "execution": {
     "iopub.execute_input": "2024-05-23T07:50:41.001705Z",
     "iopub.status.busy": "2024-05-23T07:50:41.000874Z",
     "iopub.status.idle": "2024-05-23T07:50:41.008341Z",
     "shell.execute_reply": "2024-05-23T07:50:41.007492Z"
    },
    "papermill": {
     "duration": 0.02818,
     "end_time": "2024-05-23T07:50:41.010169",
     "exception": false,
     "start_time": "2024-05-23T07:50:40.981989",
     "status": "completed"
    },
    "tags": []
   },
   "outputs": [],
   "source": [
    "class ResNet_RNN_hybrid(nn.Module):\n",
    "    def __init__(self, resnet_block, rnn_block, feat_vec_size):\n",
    "        super(ResNet_RNN_hybrid, self).__init__()\n",
    "        self.resnet_block = resnet_block\n",
    "        self.rnn_block = rnn_block\n",
    "        self.feat_vec_size = feat_vec_size\n",
    "        self.fc1 = nn.Linear(self.feat_vec_size, 1024)\n",
    "        self.fc2 = nn.Linear(1024, 4)\n",
    "        \n",
    "    def forward(self, x):\n",
    "        #output of cnn block is (N,848)\n",
    "        x1 = x.view(-1,1, 16,20)\n",
    "        x1 = self.resnet_block(x1)\n",
    "        #output of rnn block is (N,M )\n",
    "        x2 = self.rnn_block(x)\n",
    "        #concatenate the 2 outputs to produce a feat vec (N, M+208)\n",
    "        xx = torch.cat([x1, x2], dim = 1)\n",
    "        # pass through linear layers\n",
    "        xx = self.fc1(xx)\n",
    "        #final output is 4\n",
    "        xx = self.fc2(xx)      \n",
    "        return xx"
   ]
  },
  {
   "cell_type": "code",
   "execution_count": 19,
   "id": "9d83e1fa",
   "metadata": {
    "execution": {
     "iopub.execute_input": "2024-05-23T07:50:41.045323Z",
     "iopub.status.busy": "2024-05-23T07:50:41.044571Z",
     "iopub.status.idle": "2024-05-23T07:51:03.329579Z",
     "shell.execute_reply": "2024-05-23T07:51:03.328568Z"
    },
    "papermill": {
     "duration": 22.304418,
     "end_time": "2024-05-23T07:51:03.331651",
     "exception": false,
     "start_time": "2024-05-23T07:50:41.027233",
     "status": "completed"
    },
    "tags": []
   },
   "outputs": [
    {
     "name": "stdout",
     "output_type": "stream",
     "text": [
      "\n",
      " Train accuracies for ResNet-GRU-256: [98.40206596615202, 86.79296786343032, 82.04900535507261, 48.081405691221484] \n",
      "\n",
      " Test accuracies for ResNet-GRU-256: [97.87398488436929, 84.05240232531177, 69.54128642960853, 37.14205270044221] \n",
      "\n"
     ]
    }
   ],
   "source": [
    "model_name = 'ResNet-GRU-256'\n",
    "load_model_weight = '/kaggle/input/calabi-yau-cicy-4-folds/trained_models/ResNet-GRU-256.pt'\n",
    "rsnet_gru_256, acctR256, acctsR256, yt_rsnet_gru_256 = load_model_and_get_pred(load_model_weight, model_name, train_loader, test_loader)"
   ]
  },
  {
   "cell_type": "code",
   "execution_count": 20,
   "id": "c9d82377",
   "metadata": {
    "execution": {
     "iopub.execute_input": "2024-05-23T07:51:03.368063Z",
     "iopub.status.busy": "2024-05-23T07:51:03.367753Z",
     "iopub.status.idle": "2024-05-23T07:51:31.692610Z",
     "shell.execute_reply": "2024-05-23T07:51:31.691434Z"
    },
    "papermill": {
     "duration": 28.345051,
     "end_time": "2024-05-23T07:51:31.694731",
     "exception": false,
     "start_time": "2024-05-23T07:51:03.349680",
     "status": "completed"
    },
    "tags": []
   },
   "outputs": [
    {
     "name": "stdout",
     "output_type": "stream",
     "text": [
      "\n",
      " Train accuracies for ResNet-GRU-400: [99.75908307416745, 95.99550370193163, 97.74310986793274, 79.0790256589561] \n",
      "\n",
      " Test accuracies for ResNet-GRU-400: [99.22323986816608, 92.45488221622308, 86.61952003179914, 59.44340471576762] \n",
      "\n"
     ]
    }
   ],
   "source": [
    "model_name = 'ResNet-GRU-400'\n",
    "load_model_weight = '/kaggle/input/calabi-yau-cicy-4-folds/trained_models/ResNet-GRU-400.pt'\n",
    "rsnet_gru_400, acctR400, acctsR400, yt_rsnet_gru_400 = load_model_and_get_pred(load_model_weight, model_name, train_loader, test_loader)"
   ]
  },
  {
   "cell_type": "markdown",
   "id": "94671ab9",
   "metadata": {
    "papermill": {
     "duration": 0.016837,
     "end_time": "2024-05-23T07:51:31.729264",
     "exception": false,
     "start_time": "2024-05-23T07:51:31.712427",
     "status": "completed"
    },
    "tags": []
   },
   "source": [
    "# CNN-LSTM"
   ]
  },
  {
   "cell_type": "code",
   "execution_count": 21,
   "id": "25fcb387",
   "metadata": {
    "execution": {
     "iopub.execute_input": "2024-05-23T07:51:31.778172Z",
     "iopub.status.busy": "2024-05-23T07:51:31.777767Z",
     "iopub.status.idle": "2024-05-23T07:51:31.786010Z",
     "shell.execute_reply": "2024-05-23T07:51:31.784991Z"
    },
    "papermill": {
     "duration": 0.039154,
     "end_time": "2024-05-23T07:51:31.789160",
     "exception": false,
     "start_time": "2024-05-23T07:51:31.750006",
     "status": "completed"
    },
    "tags": []
   },
   "outputs": [],
   "source": [
    "class CNN_LSTM_hybrid(nn.Module):\n",
    "    def __init__(self, cnn_block, lstm_block, feat_vec_size):\n",
    "        super(CNN_LSTM_hybrid, self).__init__()\n",
    "        self.cnn_block = cnn_block\n",
    "        self.lstm_block = lstm_block\n",
    "        self.feat_vec_size = feat_vec_size\n",
    "        self.fc1 = nn.Linear(self.feat_vec_size, 1024)\n",
    "        self.fc2 = nn.Linear(1024, 4)       \n",
    "    def forward(self, x):\n",
    "        #output of cnn block is (N,384)\n",
    "        x1 = x.view(-1,1, 16,20)\n",
    "        x1 = self.cnn_block(x1)\n",
    "        #output of rnn block is (N,M)\n",
    "        x2 = self.lstm_block(x)\n",
    "        #concatenate the 2 outputs to produce a feat vec (N, M+384)\n",
    "        xx = torch.cat([x1, x2], dim = 1)\n",
    "        # pass through linear layers\n",
    "        xx = self.fc1(xx)\n",
    "        #final output is 4\n",
    "        xx = self.fc2(xx)       \n",
    "        return xx"
   ]
  },
  {
   "cell_type": "markdown",
   "id": "0aac0696",
   "metadata": {
    "papermill": {
     "duration": 0.016953,
     "end_time": "2024-05-23T07:51:31.827099",
     "exception": false,
     "start_time": "2024-05-23T07:51:31.810146",
     "status": "completed"
    },
    "tags": []
   },
   "source": [
    "## CNN-LSTM-416"
   ]
  },
  {
   "cell_type": "code",
   "execution_count": 22,
   "id": "e0aa0ec6",
   "metadata": {
    "execution": {
     "iopub.execute_input": "2024-05-23T07:51:31.862349Z",
     "iopub.status.busy": "2024-05-23T07:51:31.862054Z",
     "iopub.status.idle": "2024-05-23T07:52:01.173470Z",
     "shell.execute_reply": "2024-05-23T07:52:01.172459Z"
    },
    "papermill": {
     "duration": 29.331849,
     "end_time": "2024-05-23T07:52:01.175829",
     "exception": false,
     "start_time": "2024-05-23T07:51:31.843980",
     "status": "completed"
    },
    "tags": []
   },
   "outputs": [
    {
     "name": "stdout",
     "output_type": "stream",
     "text": [
      "\n",
      " Train accuracies for CNN-LSTM-416: [94.39204897468456, 81.82802426651455, 78.31793673285364, 37.013642246799535] \n",
      "\n",
      " Test accuracies for CNN-LSTM-416: [92.15290084300834, 77.59265086647123, 51.62059656503089, 16.37379442079752] \n",
      "\n"
     ]
    }
   ],
   "source": [
    "model_name = 'CNN-LSTM-416'\n",
    "load_model_weight = '/kaggle/input/calabi-yau-cicy-4-folds/trained_models/CNN-LSTM-416.pt'\n",
    "cnn_lstm_416,acctL416, acctsL416, _ = load_model_and_get_pred(load_model_weight, model_name, train_loader, test_loader)"
   ]
  },
  {
   "cell_type": "markdown",
   "id": "a3462941",
   "metadata": {
    "papermill": {
     "duration": 0.017421,
     "end_time": "2024-05-23T07:52:01.211512",
     "exception": false,
     "start_time": "2024-05-23T07:52:01.194091",
     "status": "completed"
    },
    "tags": []
   },
   "source": [
    "## CNN-LSTM-400"
   ]
  },
  {
   "cell_type": "code",
   "execution_count": 23,
   "id": "67d1dfff",
   "metadata": {
    "execution": {
     "iopub.execute_input": "2024-05-23T07:52:01.248842Z",
     "iopub.status.busy": "2024-05-23T07:52:01.247912Z",
     "iopub.status.idle": "2024-05-23T07:52:30.867090Z",
     "shell.execute_reply": "2024-05-23T07:52:30.866217Z"
    },
    "papermill": {
     "duration": 29.640366,
     "end_time": "2024-05-23T07:52:30.869496",
     "exception": false,
     "start_time": "2024-05-23T07:52:01.229130",
     "status": "completed"
    },
    "tags": []
   },
   "outputs": [
    {
     "name": "stdout",
     "output_type": "stream",
     "text": [
      "\n",
      " Train accuracies for CNN-LSTM-400: [99.98834520282414, 99.87808468743674, 99.94264612968722, 99.49961048441017] \n",
      "\n",
      " Test accuracies for CNN-LSTM-400: [99.74052788773139, 98.06831293440877, 95.18872455655112, 81.00719345026141] \n",
      "\n"
     ]
    }
   ],
   "source": [
    "#72% dataset\n",
    "model_name = 'CNN-LSTM-400'\n",
    "load_model_weight = '/kaggle/input/calabi-yau-cicy-4-folds/trained_models/CNN-LSTM-400.pt'\n",
    "cnn_lstm_400,acctL400, acctsL400, yt_cnn_lstm_400 = load_model_and_get_pred(load_model_weight, model_name, train_loader, test_loader)"
   ]
  },
  {
   "cell_type": "code",
   "execution_count": 24,
   "id": "08ba11f1",
   "metadata": {
    "execution": {
     "iopub.execute_input": "2024-05-23T07:52:30.906523Z",
     "iopub.status.busy": "2024-05-23T07:52:30.905707Z",
     "iopub.status.idle": "2024-05-23T07:53:00.800685Z",
     "shell.execute_reply": "2024-05-23T07:53:00.799667Z"
    },
    "papermill": {
     "duration": 29.915863,
     "end_time": "2024-05-23T07:53:00.803080",
     "exception": false,
     "start_time": "2024-05-23T07:52:30.887217",
     "status": "completed"
    },
    "tags": []
   },
   "outputs": [
    {
     "name": "stdout",
     "output_type": "stream",
     "text": [
      "\n",
      " Train accuracies for CNN-LSTM-400-d80pc: [99.97860732292038, 99.63618647237516, 99.83810574055238, 98.68911195547011] \n",
      "\n",
      " Test accuracies for CNN-LSTM-400-d80pc: [99.66783828048803, 96.55508731896725, 91.712519092398, 73.7279402292928] \n",
      "\n"
     ]
    }
   ],
   "source": [
    "#80% dataset\n",
    "model_name = 'CNN-LSTM-400-d80pc'\n",
    "load_model_weight = '/kaggle/input/calabi-yau-cicy-4-folds/trained_models_80pc_split/CNN-LSTM-400-d80pc.pt'\n",
    "cnn_lstm_400d,acctL400d, acctsL400d, yt_cnn_lstm_400d = load_model_and_get_pred(load_model_weight, model_name, train_loader_80, test_loader_80)"
   ]
  },
  {
   "cell_type": "code",
   "execution_count": 25,
   "id": "feacd9ed",
   "metadata": {
    "execution": {
     "iopub.execute_input": "2024-05-23T07:53:00.839710Z",
     "iopub.status.busy": "2024-05-23T07:53:00.839413Z",
     "iopub.status.idle": "2024-05-23T07:53:30.659246Z",
     "shell.execute_reply": "2024-05-23T07:53:30.658215Z"
    },
    "papermill": {
     "duration": 29.840539,
     "end_time": "2024-05-23T07:53:30.661447",
     "exception": false,
     "start_time": "2024-05-23T07:53:00.820908",
     "status": "completed"
    },
    "tags": []
   },
   "outputs": [
    {
     "name": "stdout",
     "output_type": "stream",
     "text": [
      "\n",
      " Train accuracies for CNN-LSTM-400: [99.96452956122928, 99.70119260724287, 99.48243523194492, 97.67261475100995] \n",
      "\n",
      " Test accuracies for CNN-LSTM-400: [99.73408660127711, 98.04107395888923, 95.0875029903756, 80.85883586978525] \n",
      "\n"
     ]
    }
   ],
   "source": [
    "#80% dataset, use the trained model on the 72% dataset\n",
    "model_name = 'CNN-LSTM-400'\n",
    "load_model_weight = '/kaggle/input/calabi-yau-cicy-4-folds/trained_models/CNN-LSTM-400.pt'\n",
    "cnn_lstm_400d72,acctL400d72, acctsL400d72, yt_cnn_lstm_400d72 = load_model_and_get_pred(load_model_weight, model_name, train_loader_80, test_loader_80)"
   ]
  },
  {
   "cell_type": "markdown",
   "id": "3cfd5d52",
   "metadata": {
    "papermill": {
     "duration": 0.017413,
     "end_time": "2024-05-23T07:53:30.696910",
     "exception": false,
     "start_time": "2024-05-23T07:53:30.679497",
     "status": "completed"
    },
    "tags": []
   },
   "source": [
    "## CNN-LSTM-384"
   ]
  },
  {
   "cell_type": "code",
   "execution_count": 26,
   "id": "e601859d",
   "metadata": {
    "execution": {
     "iopub.execute_input": "2024-05-23T07:53:30.733849Z",
     "iopub.status.busy": "2024-05-23T07:53:30.733048Z",
     "iopub.status.idle": "2024-05-23T07:53:59.939734Z",
     "shell.execute_reply": "2024-05-23T07:53:59.938550Z"
    },
    "papermill": {
     "duration": 29.227625,
     "end_time": "2024-05-23T07:53:59.942070",
     "exception": false,
     "start_time": "2024-05-23T07:53:30.714445",
     "status": "completed"
    },
    "tags": []
   },
   "outputs": [
    {
     "name": "stdout",
     "output_type": "stream",
     "text": [
      "\n",
      " Train accuracies for CNN-LSTM-384: [99.87977156597535, 98.8693313213473, 99.60803076866455, 94.21646025407458] \n",
      "\n",
      " Test accuracies for CNN-LSTM-384: [99.13049238973815, 94.76694435703362, 87.85284066756101, 62.32133688865334] \n",
      "\n"
     ]
    }
   ],
   "source": [
    "model_name = 'CNN-LSTM-384'\n",
    "load_model_weight = '/kaggle/input/calabi-yau-cicy-4-folds/trained_models/CNN-LSTM-384.pt'\n",
    "cnn_lstm_384,acctL384, acctsL384, yt_cnn_lstm_384 = load_model_and_get_pred(load_model_weight, model_name, train_loader, test_loader)"
   ]
  },
  {
   "cell_type": "markdown",
   "id": "f8d2c750",
   "metadata": {
    "papermill": {
     "duration": 0.017825,
     "end_time": "2024-05-23T07:53:59.978478",
     "exception": false,
     "start_time": "2024-05-23T07:53:59.960653",
     "status": "completed"
    },
    "tags": []
   },
   "source": [
    "## CNN-LSTM-256"
   ]
  },
  {
   "cell_type": "code",
   "execution_count": 27,
   "id": "d752fec7",
   "metadata": {
    "execution": {
     "iopub.execute_input": "2024-05-23T07:54:00.016175Z",
     "iopub.status.busy": "2024-05-23T07:54:00.015552Z",
     "iopub.status.idle": "2024-05-23T07:54:22.949325Z",
     "shell.execute_reply": "2024-05-23T07:54:22.948425Z"
    },
    "papermill": {
     "duration": 22.954957,
     "end_time": "2024-05-23T07:54:22.951467",
     "exception": false,
     "start_time": "2024-05-23T07:53:59.996510",
     "status": "completed"
    },
    "tags": []
   },
   "outputs": [
    {
     "name": "stdout",
     "output_type": "stream",
     "text": [
      "\n",
      " Train accuracies for CNN-LSTM-256: [99.74328775694227, 97.38993884298534, 98.60050422333046, 83.21923900308545] \n",
      "\n",
      " Test accuracies for CNN-LSTM-256: [99.30605011676245, 94.37387171036288, 88.60696599811193, 62.32740964021707] \n",
      "\n"
     ]
    }
   ],
   "source": [
    "model_name = 'CNN-LSTM-256'\n",
    "load_model_weight = '/kaggle/input/calabi-yau-cicy-4-folds/trained_models/CNN-LSTM-256.pt'\n",
    "cnn_lstm_256,acctL256, acctsL256, yt_cnn_lstm_256 = load_model_and_get_pred(load_model_weight, model_name, train_loader, test_loader)"
   ]
  },
  {
   "cell_type": "markdown",
   "id": "c379db11",
   "metadata": {
    "papermill": {
     "duration": 0.017689,
     "end_time": "2024-05-23T07:54:22.987663",
     "exception": false,
     "start_time": "2024-05-23T07:54:22.969974",
     "status": "completed"
    },
    "tags": []
   },
   "source": [
    "# LSTM "
   ]
  },
  {
   "cell_type": "code",
   "execution_count": 28,
   "id": "3e87e4ea",
   "metadata": {
    "execution": {
     "iopub.execute_input": "2024-05-23T07:54:23.025104Z",
     "iopub.status.busy": "2024-05-23T07:54:23.024799Z",
     "iopub.status.idle": "2024-05-23T07:54:23.033331Z",
     "shell.execute_reply": "2024-05-23T07:54:23.032444Z"
    },
    "papermill": {
     "duration": 0.029763,
     "end_time": "2024-05-23T07:54:23.035325",
     "exception": false,
     "start_time": "2024-05-23T07:54:23.005562",
     "status": "completed"
    },
    "tags": []
   },
   "outputs": [],
   "source": [
    "class LSTM_block(nn.Module):\n",
    "    def __init__(self, n_inputs, n_hidden, n_rnnlayers, n_outputs):\n",
    "        super(LSTM_block,self).__init__()\n",
    "        self.D = n_inputs\n",
    "        self.M = n_hidden\n",
    "        self.K = n_outputs\n",
    "        self.L = n_rnnlayers\n",
    "        self.lstm = nn.LSTM(input_size = self.D,\n",
    "                           hidden_size = self.M,\n",
    "                           num_layers = self.L,\n",
    "                           batch_first = True)\n",
    "        self.feat_vec_size = self.M\n",
    "        self.fc1 = nn.Linear(self.feat_vec_size, 1024)\n",
    "        self.fc2 = nn.Linear(1024, 4)\n",
    "    def forward(self, X):\n",
    "        #input X is NxTxD\n",
    "        #initial hidden states\n",
    "        h0 = torch.zeros(self.L, X.size(0), self.M).to(device)\n",
    "        c0 = torch.zeros(self.L, X.size(0), self.M).to(device)\n",
    "        out, _ = self.lstm(X, (h0,c0))\n",
    "        xx = out[:, -1, :]\n",
    "        xx = self.fc1(xx)\n",
    "        xx = self.fc2(xx)\n",
    "        return xx"
   ]
  },
  {
   "cell_type": "code",
   "execution_count": 29,
   "id": "751b21c6",
   "metadata": {
    "execution": {
     "iopub.execute_input": "2024-05-23T07:54:23.072432Z",
     "iopub.status.busy": "2024-05-23T07:54:23.072171Z",
     "iopub.status.idle": "2024-05-23T07:54:50.089198Z",
     "shell.execute_reply": "2024-05-23T07:54:50.088189Z"
    },
    "papermill": {
     "duration": 27.038168,
     "end_time": "2024-05-23T07:54:50.091578",
     "exception": false,
     "start_time": "2024-05-23T07:54:23.053410",
     "status": "completed"
    },
    "tags": []
   },
   "outputs": [
    {
     "name": "stdout",
     "output_type": "stream",
     "text": [
      "\n",
      " Train accuracies for LSTM-400: [99.90814179594291, 98.33489752979641, 99.20946737576907, 88.90125933150537] \n",
      "\n",
      " Test accuracies for LSTM-400: [99.37837106720328, 94.13703439937726, 88.01018013989412, 65.04634613579776] \n",
      "\n"
     ]
    }
   ],
   "source": [
    "model_name = 'LSTM-400'\n",
    "load_model_weight = '/kaggle/input/calabi-yau-cicy-4-folds/trained_models/LSTM-400.pt'\n",
    "lstm_400, acctl400,  acctsl400, yt_lstm_400 = load_model_and_get_pred(load_model_weight, model_name, train_loader, test_loader)"
   ]
  },
  {
   "cell_type": "code",
   "execution_count": 30,
   "id": "92fb8fe1",
   "metadata": {
    "execution": {
     "iopub.execute_input": "2024-05-23T07:54:50.130870Z",
     "iopub.status.busy": "2024-05-23T07:54:50.130591Z",
     "iopub.status.idle": "2024-05-23T07:55:19.959577Z",
     "shell.execute_reply": "2024-05-23T07:55:19.958655Z"
    },
    "papermill": {
     "duration": 29.850643,
     "end_time": "2024-05-23T07:55:19.961808",
     "exception": false,
     "start_time": "2024-05-23T07:54:50.111165",
     "status": "completed"
    },
    "tags": []
   },
   "outputs": [
    {
     "name": "stdout",
     "output_type": "stream",
     "text": [
      "\n",
      " Train accuracies for LSTM-456: [99.84833428411942, 98.05640921833115, 98.8941744416432, 85.95213558822988] \n",
      "\n",
      " Test accuracies for LSTM-456: [99.3529759243004, 94.0133710948067, 87.77499903388043, 64.58150460701016] \n",
      "\n"
     ]
    }
   ],
   "source": [
    "model_name = 'LSTM-456'\n",
    "load_model_weight = '/kaggle/input/calabi-yau-cicy-4-folds/trained_models/LSTM-456.pt'\n",
    "lstm_456, acctl456, acctsl456, yt_lsm_456 = load_model_and_get_pred(load_model_weight, model_name, train_loader, test_loader)"
   ]
  },
  {
   "cell_type": "code",
   "execution_count": 31,
   "id": "a8124768",
   "metadata": {
    "execution": {
     "iopub.execute_input": "2024-05-23T07:55:20.001678Z",
     "iopub.status.busy": "2024-05-23T07:55:20.001374Z",
     "iopub.status.idle": "2024-05-23T07:55:47.784279Z",
     "shell.execute_reply": "2024-05-23T07:55:47.783072Z"
    },
    "papermill": {
     "duration": 27.805875,
     "end_time": "2024-05-23T07:55:47.786646",
     "exception": false,
     "start_time": "2024-05-23T07:55:19.980771",
     "status": "completed"
    },
    "tags": []
   },
   "outputs": [
    {
     "name": "stdout",
     "output_type": "stream",
     "text": [
      "\n",
      " Train accuracies for LSTM-424: [99.98481809315251, 99.73960729467622, 99.9233237027904, 99.19443882151599] \n",
      "\n",
      " Test accuracies for LSTM-424: [99.56331395573517, 97.06630892639274, 93.1924454970547, 74.4668400161204] \n",
      "\n"
     ]
    }
   ],
   "source": [
    "# 72% data split\n",
    "model_name = 'LSTM-424'\n",
    "load_model_weight = '/kaggle/input/calabi-yau-cicy-4-folds/trained_models/LSTM-424.pt'\n",
    "lstm_424, acctl424, acctsl424, yt_lstm_424 = load_model_and_get_pred(load_model_weight, model_name, train_loader, test_loader)"
   ]
  },
  {
   "cell_type": "code",
   "execution_count": 32,
   "id": "e5f55377",
   "metadata": {
    "execution": {
     "iopub.execute_input": "2024-05-23T07:55:47.827169Z",
     "iopub.status.busy": "2024-05-23T07:55:47.826508Z",
     "iopub.status.idle": "2024-05-23T07:56:15.481798Z",
     "shell.execute_reply": "2024-05-23T07:56:15.480801Z"
    },
    "papermill": {
     "duration": 27.677437,
     "end_time": "2024-05-23T07:56:15.483849",
     "exception": false,
     "start_time": "2024-05-23T07:55:47.806412",
     "status": "completed"
    },
    "tags": []
   },
   "outputs": [
    {
     "name": "stdout",
     "output_type": "stream",
     "text": [
      "\n",
      " Train accuracies for LSTM-424-d80: [99.99075284281075, 99.87302411023715, 99.93457981331784, 99.35104278949468] \n",
      "\n",
      " Test accuracies for LSTM-424-d80: [99.81597688669697, 98.1910527962312, 95.7923115143262, 81.46151156585267] \n",
      "\n"
     ]
    }
   ],
   "source": [
    "#80% data split\n",
    "#[99.99282310188296, 99.8919324764301, 99.9541782658682, 99.81560892530091]\n",
    "#[99.81781711783, 98.21589591652712, 95.76562816289726, 81.63633352349055]\n",
    "model_name = 'LSTM-424-d80'\n",
    "load_model_weight = '/kaggle/input/calabi-yau-cicy-4-folds/trained_models_80pc_split/LSTM-424-d80pc.pt'\n",
    "lstm_424d, acctl424d,  acctsl424d, yt_lstm_424d = load_model_and_get_pred(load_model_weight, model_name, train_loader_80, test_loader_80)"
   ]
  },
  {
   "cell_type": "code",
   "execution_count": 33,
   "id": "f413fa36",
   "metadata": {
    "execution": {
     "iopub.execute_input": "2024-05-23T07:56:15.524066Z",
     "iopub.status.busy": "2024-05-23T07:56:15.523270Z",
     "iopub.status.idle": "2024-05-23T07:56:43.059476Z",
     "shell.execute_reply": "2024-05-23T07:56:43.058323Z"
    },
    "papermill": {
     "duration": 27.55838,
     "end_time": "2024-05-23T07:56:43.061541",
     "exception": false,
     "start_time": "2024-05-23T07:56:15.503161",
     "status": "completed"
    },
    "tags": []
   },
   "outputs": [
    {
     "name": "stdout",
     "output_type": "stream",
     "text": [
      "\n",
      " Train accuracies for LSTM-424-d80: [99.99075284281075, 99.87302411023715, 99.93457981331784, 99.35104278949468] \n",
      "\n",
      " Test accuracies for LSTM-424-d80: [99.81597688669697, 98.1910527962312, 95.7923115143262, 81.46151156585267] \n",
      "\n"
     ]
    }
   ],
   "source": [
    "#80% data split (original data)\n",
    "#[99.99282310188296, 99.8919324764301, 99.9541782658682, 99.81560892530091]\n",
    "#[99.81781711783, 98.21589591652712, 95.76562816289726, 81.63633352349055]\n",
    "model_name = 'LSTM-424-d80'\n",
    "load_model_weight = '/kaggle/input/calabi-yau-cicy-4-folds/trained_models_80pc_split/LSTM-424-d80pc.pt'\n",
    "lstm_424d, acctl424d,  acctsl424d, yt_lstm_424d = load_model_and_get_pred(load_model_weight, model_name, train_loader_80o, test_loader_80o)"
   ]
  },
  {
   "cell_type": "code",
   "execution_count": 34,
   "id": "948a867f",
   "metadata": {
    "execution": {
     "iopub.execute_input": "2024-05-23T07:56:43.102432Z",
     "iopub.status.busy": "2024-05-23T07:56:43.101709Z",
     "iopub.status.idle": "2024-05-23T07:57:11.269805Z",
     "shell.execute_reply": "2024-05-23T07:57:11.268791Z"
    },
    "papermill": {
     "duration": 28.190789,
     "end_time": "2024-05-23T07:57:11.272122",
     "exception": false,
     "start_time": "2024-05-23T07:56:43.081333",
     "status": "completed"
    },
    "tags": []
   },
   "outputs": [
    {
     "name": "stdout",
     "output_type": "stream",
     "text": [
      "\n",
      " Train accuracies for LSTM-448: [99.98021751531992, 99.78975359305129, 99.88927942682935, 99.21958864700073] \n",
      "\n",
      " Test accuracies for LSTM-448: [99.73500720449164, 97.51403633713709, 94.23585462936893, 78.62612276895389] \n",
      "\n"
     ]
    }
   ],
   "source": [
    "#72% data split\n",
    "model_name = 'LSTM-448'\n",
    "load_model_weight = '/kaggle/input/calabi-yau-cicy-4-folds/trained_models/LSTM-448.pt'\n",
    "lstm_448, acctl448,  acctsl448, yt_lstm_448 = load_model_and_get_pred(load_model_weight, model_name, train_loader, test_loader)"
   ]
  },
  {
   "cell_type": "code",
   "execution_count": 35,
   "id": "1f82024d",
   "metadata": {
    "execution": {
     "iopub.execute_input": "2024-05-23T07:57:11.314125Z",
     "iopub.status.busy": "2024-05-23T07:57:11.313397Z",
     "iopub.status.idle": "2024-05-23T07:57:39.592884Z",
     "shell.execute_reply": "2024-05-23T07:57:39.591849Z"
    },
    "papermill": {
     "duration": 28.303019,
     "end_time": "2024-05-23T07:57:39.595129",
     "exception": false,
     "start_time": "2024-05-23T07:57:11.292110",
     "status": "completed"
    },
    "tags": []
   },
   "outputs": [
    {
     "name": "stdout",
     "output_type": "stream",
     "text": [
      "\n",
      " Train accuracies for LSTM-448-d80: [99.99282310188296, 99.94617326412228, 99.9570766285693, 99.7609540857943] \n",
      "\n",
      " Test accuracies for LSTM-448-d80: [99.85370162492408, 98.6575513884544, 96.2606503376824, 84.77024714304116] \n",
      "\n"
     ]
    }
   ],
   "source": [
    "#80% data split\n",
    "#[99.9940652573263, 99.95390223132523, 99.96646180303003, 99.92919713973006]\n",
    "#[99.86106254945622, 98.65663127288788, 96.26157045324892, 84.9846340700392]\n",
    "model_name = 'LSTM-448-d80'\n",
    "load_model_weight = '/kaggle/input/calabi-yau-cicy-4-folds/trained_models_80pc_split/LSTM-448-d80pc.pt'\n",
    "lstm_448d, acctl448d,  acctsl448d, yt_lstm_448d = load_model_and_get_pred(load_model_weight, model_name, train_loader_80, test_loader_80)"
   ]
  },
  {
   "cell_type": "code",
   "execution_count": 36,
   "id": "e86e1538",
   "metadata": {
    "execution": {
     "iopub.execute_input": "2024-05-23T07:57:39.637048Z",
     "iopub.status.busy": "2024-05-23T07:57:39.636474Z",
     "iopub.status.idle": "2024-05-23T07:58:07.686170Z",
     "shell.execute_reply": "2024-05-23T07:58:07.685212Z"
    },
    "papermill": {
     "duration": 28.072725,
     "end_time": "2024-05-23T07:58:07.688187",
     "exception": false,
     "start_time": "2024-05-23T07:57:39.615462",
     "status": "completed"
    },
    "tags": []
   },
   "outputs": [
    {
     "name": "stdout",
     "output_type": "stream",
     "text": [
      "\n",
      " Train accuracies for LSTM-448-d80: [99.99282310188296, 99.94617326412228, 99.9570766285693, 99.7609540857943] \n",
      "\n",
      " Test accuracies for LSTM-448-d80: [99.85370162492408, 98.6575513884544, 96.2606503376824, 84.77024714304116] \n",
      "\n"
     ]
    }
   ],
   "source": [
    "#80% data split\n",
    "#[99.9940652573263, 99.95390223132523, 99.96646180303003, 99.92919713973006]\n",
    "#[99.86106254945622, 98.65663127288788, 96.26157045324892, 84.9846340700392]\n",
    "model_name = 'LSTM-448-d80'\n",
    "load_model_weight = '/kaggle/input/calabi-yau-cicy-4-folds/trained_models_80pc_split/LSTM-448-d80pc.pt'\n",
    "lstm_448d, acctl448d,  acctsl448d, yt_lstm_448d = load_model_and_get_pred(load_model_weight, model_name, train_loader_80o, test_loader_80o)"
   ]
  },
  {
   "cell_type": "markdown",
   "id": "5770420e",
   "metadata": {
    "papermill": {
     "duration": 0.019721,
     "end_time": "2024-05-23T07:58:07.728038",
     "exception": false,
     "start_time": "2024-05-23T07:58:07.708317",
     "status": "completed"
    },
    "tags": []
   },
   "source": [
    "# Ensembles - 72% dataset"
   ]
  },
  {
   "cell_type": "code",
   "execution_count": 37,
   "id": "b2d88a2a",
   "metadata": {
    "execution": {
     "iopub.execute_input": "2024-05-23T07:58:07.768959Z",
     "iopub.status.busy": "2024-05-23T07:58:07.768632Z",
     "iopub.status.idle": "2024-05-23T07:58:58.364241Z",
     "shell.execute_reply": "2024-05-23T07:58:58.363315Z"
    },
    "papermill": {
     "duration": 50.638282,
     "end_time": "2024-05-23T07:58:58.386019",
     "exception": false,
     "start_time": "2024-05-23T07:58:07.747737",
     "status": "completed"
    },
    "tags": []
   },
   "outputs": [
    {
     "name": "stdout",
     "output_type": "stream",
     "text": [
      "Train accuracy of first ensemble: [99.99187231249577, 99.87808468743674, 99.91504266269176, 99.74420787250878]\n",
      "Test accuracy of first ensemble: [99.80401574498859, 98.32447263673352, 95.72423083080763, 82.92507880775325]\n"
     ]
    }
   ],
   "source": [
    "yts_ens_1, tgts_ens_1, accts_ens_1 = get_pred_n_acc([cnn_lstm_400, lstm_448], device, test_loader, num_iter = len(test_loader))\n",
    "yt_ens_1, tgt_ens_1, acct_ens_1 = get_pred_n_acc([cnn_lstm_400, lstm_448], device, train_loader, num_iter = len(train_loader))\n",
    "print(f'Train accuracy of first ensemble: {acct_ens_1}')\n",
    "print(f'Test accuracy of first ensemble: {accts_ens_1}')"
   ]
  },
  {
   "cell_type": "code",
   "execution_count": 38,
   "id": "2b2443fe",
   "metadata": {
    "execution": {
     "iopub.execute_input": "2024-05-23T07:58:58.427798Z",
     "iopub.status.busy": "2024-05-23T07:58:58.427054Z",
     "iopub.status.idle": "2024-05-23T08:00:09.202735Z",
     "shell.execute_reply": "2024-05-23T08:00:09.201784Z"
    },
    "papermill": {
     "duration": 70.819258,
     "end_time": "2024-05-23T08:00:09.225551",
     "exception": false,
     "start_time": "2024-05-23T07:58:58.406293",
     "status": "completed"
    },
    "tags": []
   },
   "outputs": [
    {
     "name": "stdout",
     "output_type": "stream",
     "text": [
      "Train accuracy of 2nd ensemble: [99.99294578065671, 99.88851266385724, 99.91028873226477, 99.78147255295265]\n",
      "Test accuracy of 2nd ensemble: [99.7973909251009, 98.39844979214628, 95.79047902968472, 83.01893042282913]\n"
     ]
    }
   ],
   "source": [
    "yts_ens_2, tgts_ens_2, accts_ens_2 = get_pred_n_acc([lstm_424, lstm_448,cnn_lstm_400], device, test_loader, num_iter = len(test_loader))\n",
    "yt_ens_2, tgt_ens_2, acct_ens_2 = get_pred_n_acc([lstm_424, lstm_448, cnn_lstm_400], device, train_loader, num_iter = len(train_loader))\n",
    "print(f'Train accuracy of 2nd ensemble: {acct_ens_2}')\n",
    "print(f'Test accuracy of 2nd ensemble: {accts_ens_2}')"
   ]
  },
  {
   "cell_type": "code",
   "execution_count": 39,
   "id": "46324b5b",
   "metadata": {
    "execution": {
     "iopub.execute_input": "2024-05-23T08:00:09.266914Z",
     "iopub.status.busy": "2024-05-23T08:00:09.266608Z",
     "iopub.status.idle": "2024-05-23T08:01:41.975011Z",
     "shell.execute_reply": "2024-05-23T08:01:41.974077Z"
    },
    "papermill": {
     "duration": 92.751283,
     "end_time": "2024-05-23T08:01:41.996929",
     "exception": false,
     "start_time": "2024-05-23T08:00:09.245646",
     "status": "completed"
    },
    "tags": []
   },
   "outputs": [
    {
     "name": "stdout",
     "output_type": "stream",
     "text": [
      "Train accuracy of 3rd ensemble: [99.99187231249577, 99.85278150935758, 99.89065960017912, 99.64391527575863]\n",
      "Test accuracy of 3rd ensemble: [99.78414128532546, 98.2157151769103, 95.21522383610196, 80.16915373446618]\n"
     ]
    }
   ],
   "source": [
    "yts_ens_3, tgts_ens_3, accts_ens_3 = get_pred_n_acc([cnn_lstm_400, lstm_448,cnn_lstm_384, lstm_424], device, test_loader, num_iter = len(test_loader))\n",
    "yt_ens_3, tgt_ens_3, acct_ens_3 = get_pred_n_acc([cnn_lstm_400, lstm_448, cnn_lstm_384, lstm_424], device, train_loader, num_iter = len(train_loader))\n",
    "print(f'Train accuracy of 3rd ensemble: {acct_ens_3}')\n",
    "print(f'Test accuracy of 3rd ensemble: {accts_ens_3}')"
   ]
  },
  {
   "cell_type": "code",
   "execution_count": 40,
   "id": "264d6bc5",
   "metadata": {
    "execution": {
     "iopub.execute_input": "2024-05-23T08:01:42.038854Z",
     "iopub.status.busy": "2024-05-23T08:01:42.038267Z",
     "iopub.status.idle": "2024-05-23T08:02:30.509464Z",
     "shell.execute_reply": "2024-05-23T08:02:30.508584Z"
    },
    "papermill": {
     "duration": 48.51513,
     "end_time": "2024-05-23T08:02:30.532171",
     "exception": false,
     "start_time": "2024-05-23T08:01:42.017041",
     "status": "completed"
    },
    "tags": []
   },
   "outputs": [
    {
     "name": "stdout",
     "output_type": "stream",
     "text": [
      "Train accuracy of 4th ensemble: [99.99033878655159, 99.84787422633616, 99.90369457070474, 99.70464290314864]\n",
      "Test accuracy of 4th ensemble: [99.71292447153259, 97.97280511436095, 94.97286584187658, 80.15203961642293]\n"
     ]
    }
   ],
   "source": [
    "yts_ens_4, tgts_ens_4, accts_ens_4 = get_pred_n_acc([lstm_448, lstm_424], device, test_loader, num_iter = len(test_loader))\n",
    "yt_ens_4, tgt_ens_4, acct_ens_4 = get_pred_n_acc([lstm_448, lstm_424], device, train_loader, num_iter = len(train_loader))\n",
    "print(f'Train accuracy of 4th ensemble: {acct_ens_4}')\n",
    "print(f'Test accuracy of 4th ensemble: {accts_ens_4}')"
   ]
  },
  {
   "cell_type": "markdown",
   "id": "90813997",
   "metadata": {
    "papermill": {
     "duration": 0.02013,
     "end_time": "2024-05-23T08:02:30.574278",
     "exception": false,
     "start_time": "2024-05-23T08:02:30.554148",
     "status": "completed"
    },
    "tags": []
   },
   "source": [
    "# Ensembles - 80% dataset"
   ]
  },
  {
   "cell_type": "code",
   "execution_count": 41,
   "id": "b746e8e4",
   "metadata": {
    "execution": {
     "iopub.execute_input": "2024-05-23T08:02:30.617160Z",
     "iopub.status.busy": "2024-05-23T08:02:30.616838Z",
     "iopub.status.idle": "2024-05-23T08:03:19.021139Z",
     "shell.execute_reply": "2024-05-23T08:03:19.020207Z"
    },
    "papermill": {
     "duration": 48.448467,
     "end_time": "2024-05-23T08:03:19.043552",
     "exception": false,
     "start_time": "2024-05-23T08:02:30.595085",
     "status": "completed"
    },
    "tags": []
   },
   "outputs": [
    {
     "name": "stdout",
     "output_type": "stream",
     "text": [
      "Train accuracy of 1st ensemble: [99.99323715369741, 99.93734015874747, 99.94382697050709, 99.82513211703312]\n",
      "Test accuracy of 1st ensemble: [99.88038497635303, 98.84801531072303, 96.85872545591727, 86.19090557774057]\n"
     ]
    }
   ],
   "source": [
    "yts_ens80_1, tgts_ens80_1, accts_ens80_1 = get_pred_n_acc([lstm_448d, lstm_424d], device, test_loader_80, num_iter = len(test_loader_80))\n",
    "yt_ens80_1, tgt_ens80_1, acct_ens80_1 = get_pred_n_acc([lstm_448d, lstm_424d], device, train_loader_80, num_iter = len(train_loader_80))\n",
    "print(f'Train accuracy of 1st ensemble: {acct_ens80_1}')\n",
    "print(f'Test accuracy of 1st ensemble: {accts_ens80_1}')"
   ]
  },
  {
   "cell_type": "code",
   "execution_count": 42,
   "id": "07f42dcd",
   "metadata": {
    "execution": {
     "iopub.execute_input": "2024-05-23T08:03:19.086335Z",
     "iopub.status.busy": "2024-05-23T08:03:19.086031Z",
     "iopub.status.idle": "2024-05-23T08:04:29.844470Z",
     "shell.execute_reply": "2024-05-23T08:04:29.843407Z"
    },
    "papermill": {
     "duration": 70.805271,
     "end_time": "2024-05-23T08:04:29.869430",
     "exception": false,
     "start_time": "2024-05-23T08:03:19.064159",
     "status": "completed"
    },
    "tags": []
   },
   "outputs": [
    {
     "name": "stdout",
     "output_type": "stream",
     "text": [
      "Train accuracy of 3rd ensemble: [99.9903387909963, 99.90532015176379, 99.84859505318495, 99.26105552848884]\n",
      "Test accuracy of 3rd ensemble: [99.87946486078651, 98.90690270697999, 96.96085828380045, 86.78069965587679]\n"
     ]
    }
   ],
   "source": [
    "yts_ens80_3, tgts_ens80_3, accts_ens80_3 = get_pred_n_acc([lstm_448d, lstm_424d, cnn_lstm_400d72], device, test_loader_80, num_iter = len(test_loader_80))\n",
    "yt_ens80_3, tgt_ens80_3, acct_ens80_3 = get_pred_n_acc([lstm_448d, lstm_424d, cnn_lstm_400d72], device, train_loader_80, num_iter = len(train_loader_80))\n",
    "print(f'Train accuracy of 3rd ensemble: {acct_ens80_3}')\n",
    "print(f'Test accuracy of 3rd ensemble: {accts_ens80_3}')"
   ]
  },
  {
   "cell_type": "code",
   "execution_count": 43,
   "id": "86ea924b",
   "metadata": {
    "execution": {
     "iopub.execute_input": "2024-05-23T08:04:29.918572Z",
     "iopub.status.busy": "2024-05-23T08:04:29.918231Z",
     "iopub.status.idle": "2024-05-23T08:05:40.764096Z",
     "shell.execute_reply": "2024-05-23T08:05:40.763176Z"
    },
    "papermill": {
     "duration": 70.893613,
     "end_time": "2024-05-23T08:05:40.786961",
     "exception": false,
     "start_time": "2024-05-23T08:04:29.893348",
     "status": "completed"
    },
    "tags": []
   },
   "outputs": [
    {
     "name": "stdout",
     "output_type": "stream",
     "text": [
      "Train accuracy of 2nd ensemble: [99.99323715369741, 99.89524489094566, 99.90131765089083, 99.76661279392503]\n",
      "Test accuracy of 2nd ensemble: [99.85922231832318, 98.5305754402753, 96.1207927715721, 83.80780626046631]\n"
     ]
    }
   ],
   "source": [
    "yts_ens80_2, tgts_ens80_2, accts_ens80_2 = get_pred_n_acc([lstm_448d, lstm_424d, cnn_lstm_400d], device, test_loader_80, num_iter = len(test_loader_80))\n",
    "yt_ens80_2, tgt_ens80_2, acct_ens80_2 = get_pred_n_acc([lstm_448d, lstm_424d, cnn_lstm_400d], device, train_loader_80, num_iter = len(train_loader_80))\n",
    "print(f'Train accuracy of 2nd ensemble: {acct_ens80_2}')\n",
    "print(f'Test accuracy of 2nd ensemble: {accts_ens80_2}')"
   ]
  },
  {
   "cell_type": "markdown",
   "id": "4635d618",
   "metadata": {
    "papermill": {
     "duration": 0.02035,
     "end_time": "2024-05-23T08:05:40.828011",
     "exception": false,
     "start_time": "2024-05-23T08:05:40.807661",
     "status": "completed"
    },
    "tags": []
   },
   "source": [
    "# Accuracies (80% dataset)"
   ]
  },
  {
   "cell_type": "code",
   "execution_count": 44,
   "id": "4c0ec51b",
   "metadata": {
    "execution": {
     "iopub.execute_input": "2024-05-23T08:05:40.870340Z",
     "iopub.status.busy": "2024-05-23T08:05:40.870033Z",
     "iopub.status.idle": "2024-05-23T08:05:40.874082Z",
     "shell.execute_reply": "2024-05-23T08:05:40.873272Z"
    },
    "papermill": {
     "duration": 0.027511,
     "end_time": "2024-05-23T08:05:40.875908",
     "exception": false,
     "start_time": "2024-05-23T08:05:40.848397",
     "status": "completed"
    },
    "tags": []
   },
   "outputs": [],
   "source": [
    "mds2 = ['CNN-LSTM-400','CNN-LSTM-400-d72',\n",
    "         'LSTM-424','LSTM-448',\n",
    "       'Ens_80-1', 'Ens_80-2', 'Ens_80-3']"
   ]
  },
  {
   "cell_type": "code",
   "execution_count": 45,
   "id": "56417727",
   "metadata": {
    "execution": {
     "iopub.execute_input": "2024-05-23T08:05:40.918638Z",
     "iopub.status.busy": "2024-05-23T08:05:40.918334Z",
     "iopub.status.idle": "2024-05-23T08:05:40.922525Z",
     "shell.execute_reply": "2024-05-23T08:05:40.921725Z"
    },
    "papermill": {
     "duration": 0.0278,
     "end_time": "2024-05-23T08:05:40.924321",
     "exception": false,
     "start_time": "2024-05-23T08:05:40.896521",
     "status": "completed"
    },
    "tags": []
   },
   "outputs": [],
   "source": [
    "test80_acc_all = np.array([acctsL400d, acctsL400d72, acctsl424d, acctsl448d,\n",
    "                        accts_ens80_1, accts_ens80_2, accts_ens80_3])"
   ]
  },
  {
   "cell_type": "code",
   "execution_count": 46,
   "id": "918f0505",
   "metadata": {
    "execution": {
     "iopub.execute_input": "2024-05-23T08:05:40.966986Z",
     "iopub.status.busy": "2024-05-23T08:05:40.966696Z",
     "iopub.status.idle": "2024-05-23T08:05:40.991327Z",
     "shell.execute_reply": "2024-05-23T08:05:40.990520Z"
    },
    "papermill": {
     "duration": 0.047993,
     "end_time": "2024-05-23T08:05:40.993100",
     "exception": false,
     "start_time": "2024-05-23T08:05:40.945107",
     "status": "completed"
    },
    "tags": []
   },
   "outputs": [
    {
     "data": {
      "text/html": [
       "<div>\n",
       "<style scoped>\n",
       "    .dataframe tbody tr th:only-of-type {\n",
       "        vertical-align: middle;\n",
       "    }\n",
       "\n",
       "    .dataframe tbody tr th {\n",
       "        vertical-align: top;\n",
       "    }\n",
       "\n",
       "    .dataframe thead th {\n",
       "        text-align: right;\n",
       "    }\n",
       "</style>\n",
       "<table border=\"1\" class=\"dataframe\">\n",
       "  <thead>\n",
       "    <tr style=\"text-align: right;\">\n",
       "      <th></th>\n",
       "      <th>Test_h11</th>\n",
       "      <th>Test_h21</th>\n",
       "      <th>Test_h31</th>\n",
       "      <th>Test_h22</th>\n",
       "    </tr>\n",
       "  </thead>\n",
       "  <tbody>\n",
       "    <tr>\n",
       "      <th>CNN-LSTM-400</th>\n",
       "      <td>99.667838</td>\n",
       "      <td>96.555087</td>\n",
       "      <td>91.712519</td>\n",
       "      <td>73.727940</td>\n",
       "    </tr>\n",
       "    <tr>\n",
       "      <th>CNN-LSTM-400-d72</th>\n",
       "      <td>99.734087</td>\n",
       "      <td>98.041074</td>\n",
       "      <td>95.087503</td>\n",
       "      <td>80.858836</td>\n",
       "    </tr>\n",
       "    <tr>\n",
       "      <th>LSTM-424</th>\n",
       "      <td>99.815977</td>\n",
       "      <td>98.191053</td>\n",
       "      <td>95.792312</td>\n",
       "      <td>81.461512</td>\n",
       "    </tr>\n",
       "    <tr>\n",
       "      <th>LSTM-448</th>\n",
       "      <td>99.853702</td>\n",
       "      <td>98.657551</td>\n",
       "      <td>96.260650</td>\n",
       "      <td>84.770247</td>\n",
       "    </tr>\n",
       "    <tr>\n",
       "      <th>Ens_80-1</th>\n",
       "      <td>99.880385</td>\n",
       "      <td>98.848015</td>\n",
       "      <td>96.858725</td>\n",
       "      <td>86.190906</td>\n",
       "    </tr>\n",
       "    <tr>\n",
       "      <th>Ens_80-2</th>\n",
       "      <td>99.859222</td>\n",
       "      <td>98.530575</td>\n",
       "      <td>96.120793</td>\n",
       "      <td>83.807806</td>\n",
       "    </tr>\n",
       "    <tr>\n",
       "      <th>Ens_80-3</th>\n",
       "      <td>99.879465</td>\n",
       "      <td>98.906903</td>\n",
       "      <td>96.960858</td>\n",
       "      <td>86.780700</td>\n",
       "    </tr>\n",
       "  </tbody>\n",
       "</table>\n",
       "</div>"
      ],
      "text/plain": [
       "                   Test_h11   Test_h21   Test_h31   Test_h22\n",
       "CNN-LSTM-400      99.667838  96.555087  91.712519  73.727940\n",
       "CNN-LSTM-400-d72  99.734087  98.041074  95.087503  80.858836\n",
       "LSTM-424          99.815977  98.191053  95.792312  81.461512\n",
       "LSTM-448          99.853702  98.657551  96.260650  84.770247\n",
       "Ens_80-1          99.880385  98.848015  96.858725  86.190906\n",
       "Ens_80-2          99.859222  98.530575  96.120793  83.807806\n",
       "Ens_80-3          99.879465  98.906903  96.960858  86.780700"
      ]
     },
     "execution_count": 46,
     "metadata": {},
     "output_type": "execute_result"
    }
   ],
   "source": [
    "acc80_dict = {\n",
    "            'Test_h11':test80_acc_all[:,0], 'Test_h21':test80_acc_all[:,1],'Test_h31':test80_acc_all[:,2],\n",
    "           'Test_h22':test80_acc_all[:,3]}\n",
    "df80 = pd.DataFrame(acc80_dict, index = mds2)\n",
    "df80.to_csv('test80_all.csv')\n",
    "df80"
   ]
  },
  {
   "cell_type": "code",
   "execution_count": 47,
   "id": "6405001f",
   "metadata": {
    "execution": {
     "iopub.execute_input": "2024-05-23T08:05:41.037141Z",
     "iopub.status.busy": "2024-05-23T08:05:41.036502Z",
     "iopub.status.idle": "2024-05-23T08:05:43.170012Z",
     "shell.execute_reply": "2024-05-23T08:05:43.169102Z"
    },
    "papermill": {
     "duration": 2.157585,
     "end_time": "2024-05-23T08:05:43.172156",
     "exception": false,
     "start_time": "2024-05-23T08:05:41.014571",
     "status": "completed"
    },
    "tags": []
   },
   "outputs": [
    {
     "data": {
      "image/png": "[encoded data removed]",
      "text/plain": [
       "<Figure size 1000x1000 with 4 Axes>"
      ]
     },
     "metadata": {},
     "output_type": "display_data"
    }
   ],
   "source": [
    "df80_t11 = df80['Test_h11'].sort_values(ascending = True)\n",
    "df80_t21 = df80['Test_h21'].sort_values(ascending = True)\n",
    "df80_t31 = df80['Test_h31'].sort_values(ascending = True)\n",
    "df80_t22 = df80['Test_h22'].sort_values(ascending = True)\n",
    "\n",
    "fig, ax = plt.subplots(2,2, figsize = (10,10), tight_layout = True)\n",
    "df80_t11.plot(ax = ax[0,0], style='s-')\n",
    "ax[0,0].grid()\n",
    "ax[0,0].set_title('Test accuracy for $h^{(1,1)}$ in ascending order')\n",
    "ax[0,0].set_xticks(range(len(df80.index)))\n",
    "ax[0,0].set_xticklabels(df80_t11.index)\n",
    "ax[0,0].tick_params(axis='x', labelrotation=90)\n",
    "ax[0,0].legend()\n",
    "\n",
    "df80_t21.plot(ax = ax[0,1],style='s-')\n",
    "ax[0,1].grid()\n",
    "ax[0,1].set_title('Test accuracy for $h^{(2,1)}$ in ascending order')\n",
    "ax[0,1].tick_params(axis='x', labelrotation=90)\n",
    "ax[0,1].set_xticks(range(len(df80.index)))\n",
    "ax[0,1].set_xticklabels(df80_t21.index)\n",
    "ax[0,1].set_xticks(range(len(df80.index)))\n",
    "ax[0,1].legend()\n",
    "\n",
    "df80_t31.plot(ax = ax[1,0],style='s-')\n",
    "ax[1,0].grid()\n",
    "ax[1,0].set_title('Test accuracy for $h^{(3,1)}$ in ascending order')\n",
    "ax[1,0].tick_params(axis='x', labelrotation=90)\n",
    "ax[1,0].set_xticks(range(len(df80.index)))\n",
    "ax[1,0].set_xticklabels(df80_t31.index)\n",
    "ax[1,0].set_xticks(range(len(df80.index)))\n",
    "ax[1,0].legend()\n",
    "\n",
    "df80_t22.plot(ax = ax[1,1],style='s-')\n",
    "ax[1,1].grid()\n",
    "ax[1,1].set_title('Test accuracy for $h^{(2,2)}$ in ascending order')\n",
    "ax[1,1].tick_params(axis='x', labelrotation=90)\n",
    "ax[1,1].set_xticks(range(len(df80.index)))\n",
    "ax[1,1].set_xticklabels(df80_t22.index)\n",
    "ax[1,1].set_xticks(range(len(df80.index)))\n",
    "ax[1,1].legend()\n",
    "plt.savefig('Test80_accuracies_all')"
   ]
  },
  {
   "cell_type": "markdown",
   "id": "7409ef58",
   "metadata": {
    "papermill": {
     "duration": 0.023377,
     "end_time": "2024-05-23T08:05:43.218168",
     "exception": false,
     "start_time": "2024-05-23T08:05:43.194791",
     "status": "completed"
    },
    "tags": []
   },
   "source": [
    "# Accuracies (72% dataset)"
   ]
  },
  {
   "cell_type": "code",
   "execution_count": 48,
   "id": "b390a066",
   "metadata": {
    "execution": {
     "iopub.execute_input": "2024-05-23T08:05:43.265858Z",
     "iopub.status.busy": "2024-05-23T08:05:43.265289Z",
     "iopub.status.idle": "2024-05-23T08:05:43.270938Z",
     "shell.execute_reply": "2024-05-23T08:05:43.270120Z"
    },
    "papermill": {
     "duration": 0.032292,
     "end_time": "2024-05-23T08:05:43.272834",
     "exception": false,
     "start_time": "2024-05-23T08:05:43.240542",
     "status": "completed"
    },
    "tags": []
   },
   "outputs": [],
   "source": [
    "test_acc_all = np.array([acctsG384,acctsG416, acctsR256, acctsR400, acctsL256, acctsL384, acctsL400, \n",
    "                         acctsl400, acctsl424, acctsl448, acctsl456,\n",
    "                        accts_ens_1, accts_ens_2,accts_ens_3,accts_ens_4])\n",
    "\n",
    "train_acc_all = np.array([acctG384,acctG416, acctR256, acctR400, acctL256, acctL384, acctL400,\n",
    "                         acctl400, acctl424, acctl448, acctl456,\n",
    "                         acct_ens_1,acct_ens_2,acct_ens_3,acct_ens_4])"
   ]
  },
  {
   "cell_type": "code",
   "execution_count": 49,
   "id": "394f043b",
   "metadata": {
    "execution": {
     "iopub.execute_input": "2024-05-23T08:05:43.319349Z",
     "iopub.status.busy": "2024-05-23T08:05:43.319024Z",
     "iopub.status.idle": "2024-05-23T08:05:43.341304Z",
     "shell.execute_reply": "2024-05-23T08:05:43.340461Z"
    },
    "papermill": {
     "duration": 0.047776,
     "end_time": "2024-05-23T08:05:43.343251",
     "exception": false,
     "start_time": "2024-05-23T08:05:43.295475",
     "status": "completed"
    },
    "tags": []
   },
   "outputs": [
    {
     "data": {
      "text/html": [
       "<div>\n",
       "<style scoped>\n",
       "    .dataframe tbody tr th:only-of-type {\n",
       "        vertical-align: middle;\n",
       "    }\n",
       "\n",
       "    .dataframe tbody tr th {\n",
       "        vertical-align: top;\n",
       "    }\n",
       "\n",
       "    .dataframe thead th {\n",
       "        text-align: right;\n",
       "    }\n",
       "</style>\n",
       "<table border=\"1\" class=\"dataframe\">\n",
       "  <thead>\n",
       "    <tr style=\"text-align: right;\">\n",
       "      <th></th>\n",
       "      <th>Train_h11</th>\n",
       "      <th>Train_h21</th>\n",
       "      <th>Train_h31</th>\n",
       "      <th>Train_h22</th>\n",
       "      <th>Test_h11</th>\n",
       "      <th>Test_h21</th>\n",
       "      <th>Test_h31</th>\n",
       "      <th>Test_h22</th>\n",
       "    </tr>\n",
       "  </thead>\n",
       "  <tbody>\n",
       "    <tr>\n",
       "      <th>CNN-GRU-384</th>\n",
       "      <td>98.984959</td>\n",
       "      <td>88.973642</td>\n",
       "      <td>89.202137</td>\n",
       "      <td>53.393233</td>\n",
       "      <td>98.237246</td>\n",
       "      <td>84.835787</td>\n",
       "      <td>69.292856</td>\n",
       "      <td>31.733991</td>\n",
       "    </tr>\n",
       "    <tr>\n",
       "      <th>CNN-GRU-416</th>\n",
       "      <td>99.005202</td>\n",
       "      <td>92.240972</td>\n",
       "      <td>92.831073</td>\n",
       "      <td>63.724444</td>\n",
       "      <td>98.254360</td>\n",
       "      <td>88.637330</td>\n",
       "      <td>77.689815</td>\n",
       "      <td>45.370631</td>\n",
       "    </tr>\n",
       "    <tr>\n",
       "      <th>ResNet-GRU-256</th>\n",
       "      <td>98.402066</td>\n",
       "      <td>86.792968</td>\n",
       "      <td>82.049005</td>\n",
       "      <td>48.081406</td>\n",
       "      <td>97.873985</td>\n",
       "      <td>84.052402</td>\n",
       "      <td>69.541286</td>\n",
       "      <td>37.142053</td>\n",
       "    </tr>\n",
       "    <tr>\n",
       "      <th>ResNet-GRU-400</th>\n",
       "      <td>99.759083</td>\n",
       "      <td>95.995504</td>\n",
       "      <td>97.743110</td>\n",
       "      <td>79.079026</td>\n",
       "      <td>99.223240</td>\n",
       "      <td>92.454882</td>\n",
       "      <td>86.619520</td>\n",
       "      <td>59.443405</td>\n",
       "    </tr>\n",
       "    <tr>\n",
       "      <th>CNN-LSTM-256</th>\n",
       "      <td>99.743288</td>\n",
       "      <td>97.389939</td>\n",
       "      <td>98.600504</td>\n",
       "      <td>83.219239</td>\n",
       "      <td>99.306050</td>\n",
       "      <td>94.373872</td>\n",
       "      <td>88.606966</td>\n",
       "      <td>62.327410</td>\n",
       "    </tr>\n",
       "    <tr>\n",
       "      <th>CNN-LSTM-384</th>\n",
       "      <td>99.879772</td>\n",
       "      <td>98.869331</td>\n",
       "      <td>99.608031</td>\n",
       "      <td>94.216460</td>\n",
       "      <td>99.130492</td>\n",
       "      <td>94.766944</td>\n",
       "      <td>87.852841</td>\n",
       "      <td>62.321337</td>\n",
       "    </tr>\n",
       "    <tr>\n",
       "      <th>CNN-LSTM-400</th>\n",
       "      <td>99.988345</td>\n",
       "      <td>99.878085</td>\n",
       "      <td>99.942646</td>\n",
       "      <td>99.499610</td>\n",
       "      <td>99.740528</td>\n",
       "      <td>98.068313</td>\n",
       "      <td>95.188725</td>\n",
       "      <td>81.007193</td>\n",
       "    </tr>\n",
       "    <tr>\n",
       "      <th>LSTM-400</th>\n",
       "      <td>99.908142</td>\n",
       "      <td>98.334898</td>\n",
       "      <td>99.209467</td>\n",
       "      <td>88.901259</td>\n",
       "      <td>99.378371</td>\n",
       "      <td>94.137034</td>\n",
       "      <td>88.010180</td>\n",
       "      <td>65.046346</td>\n",
       "    </tr>\n",
       "    <tr>\n",
       "      <th>LSTM-424</th>\n",
       "      <td>99.984818</td>\n",
       "      <td>99.739607</td>\n",
       "      <td>99.923324</td>\n",
       "      <td>99.194439</td>\n",
       "      <td>99.563314</td>\n",
       "      <td>97.066309</td>\n",
       "      <td>93.192445</td>\n",
       "      <td>74.466840</td>\n",
       "    </tr>\n",
       "    <tr>\n",
       "      <th>LSTM-448</th>\n",
       "      <td>99.980218</td>\n",
       "      <td>99.789754</td>\n",
       "      <td>99.889279</td>\n",
       "      <td>99.219589</td>\n",
       "      <td>99.735007</td>\n",
       "      <td>97.514036</td>\n",
       "      <td>94.235855</td>\n",
       "      <td>78.626123</td>\n",
       "    </tr>\n",
       "    <tr>\n",
       "      <th>LSTM-456</th>\n",
       "      <td>99.848334</td>\n",
       "      <td>98.056409</td>\n",
       "      <td>98.894174</td>\n",
       "      <td>85.952136</td>\n",
       "      <td>99.352976</td>\n",
       "      <td>94.013371</td>\n",
       "      <td>87.774999</td>\n",
       "      <td>64.581505</td>\n",
       "    </tr>\n",
       "    <tr>\n",
       "      <th>Ensemble-1</th>\n",
       "      <td>99.991872</td>\n",
       "      <td>99.878085</td>\n",
       "      <td>99.915043</td>\n",
       "      <td>99.744208</td>\n",
       "      <td>99.804016</td>\n",
       "      <td>98.324473</td>\n",
       "      <td>95.724231</td>\n",
       "      <td>82.925079</td>\n",
       "    </tr>\n",
       "    <tr>\n",
       "      <th>Ensemble-2</th>\n",
       "      <td>99.992946</td>\n",
       "      <td>99.888513</td>\n",
       "      <td>99.910289</td>\n",
       "      <td>99.781473</td>\n",
       "      <td>99.797391</td>\n",
       "      <td>98.398450</td>\n",
       "      <td>95.790479</td>\n",
       "      <td>83.018930</td>\n",
       "    </tr>\n",
       "    <tr>\n",
       "      <th>Ensemble-3</th>\n",
       "      <td>99.991872</td>\n",
       "      <td>99.852782</td>\n",
       "      <td>99.890660</td>\n",
       "      <td>99.643915</td>\n",
       "      <td>99.784141</td>\n",
       "      <td>98.215715</td>\n",
       "      <td>95.215224</td>\n",
       "      <td>80.169154</td>\n",
       "    </tr>\n",
       "    <tr>\n",
       "      <th>Ensemble-4</th>\n",
       "      <td>99.990339</td>\n",
       "      <td>99.847874</td>\n",
       "      <td>99.903695</td>\n",
       "      <td>99.704643</td>\n",
       "      <td>99.712924</td>\n",
       "      <td>97.972805</td>\n",
       "      <td>94.972866</td>\n",
       "      <td>80.152040</td>\n",
       "    </tr>\n",
       "  </tbody>\n",
       "</table>\n",
       "</div>"
      ],
      "text/plain": [
       "                Train_h11  Train_h21  Train_h31  Train_h22   Test_h11  \\\n",
       "CNN-GRU-384     98.984959  88.973642  89.202137  53.393233  98.237246   \n",
       "CNN-GRU-416     99.005202  92.240972  92.831073  63.724444  98.254360   \n",
       "ResNet-GRU-256  98.402066  86.792968  82.049005  48.081406  97.873985   \n",
       "ResNet-GRU-400  99.759083  95.995504  97.743110  79.079026  99.223240   \n",
       "CNN-LSTM-256    99.743288  97.389939  98.600504  83.219239  99.306050   \n",
       "CNN-LSTM-384    99.879772  98.869331  99.608031  94.216460  99.130492   \n",
       "CNN-LSTM-400    99.988345  99.878085  99.942646  99.499610  99.740528   \n",
       "LSTM-400        99.908142  98.334898  99.209467  88.901259  99.378371   \n",
       "LSTM-424        99.984818  99.739607  99.923324  99.194439  99.563314   \n",
       "LSTM-448        99.980218  99.789754  99.889279  99.219589  99.735007   \n",
       "LSTM-456        99.848334  98.056409  98.894174  85.952136  99.352976   \n",
       "Ensemble-1      99.991872  99.878085  99.915043  99.744208  99.804016   \n",
       "Ensemble-2      99.992946  99.888513  99.910289  99.781473  99.797391   \n",
       "Ensemble-3      99.991872  99.852782  99.890660  99.643915  99.784141   \n",
       "Ensemble-4      99.990339  99.847874  99.903695  99.704643  99.712924   \n",
       "\n",
       "                 Test_h21   Test_h31   Test_h22  \n",
       "CNN-GRU-384     84.835787  69.292856  31.733991  \n",
       "CNN-GRU-416     88.637330  77.689815  45.370631  \n",
       "ResNet-GRU-256  84.052402  69.541286  37.142053  \n",
       "ResNet-GRU-400  92.454882  86.619520  59.443405  \n",
       "CNN-LSTM-256    94.373872  88.606966  62.327410  \n",
       "CNN-LSTM-384    94.766944  87.852841  62.321337  \n",
       "CNN-LSTM-400    98.068313  95.188725  81.007193  \n",
       "LSTM-400        94.137034  88.010180  65.046346  \n",
       "LSTM-424        97.066309  93.192445  74.466840  \n",
       "LSTM-448        97.514036  94.235855  78.626123  \n",
       "LSTM-456        94.013371  87.774999  64.581505  \n",
       "Ensemble-1      98.324473  95.724231  82.925079  \n",
       "Ensemble-2      98.398450  95.790479  83.018930  \n",
       "Ensemble-3      98.215715  95.215224  80.169154  \n",
       "Ensemble-4      97.972805  94.972866  80.152040  "
      ]
     },
     "execution_count": 49,
     "metadata": {},
     "output_type": "execute_result"
    }
   ],
   "source": [
    "mds = ['CNN-GRU-384','CNN-GRU-416', 'ResNet-GRU-256', 'ResNet-GRU-400',\n",
    "    'CNN-LSTM-256', 'CNN-LSTM-384', \n",
    "       'CNN-LSTM-400',\n",
    "     'LSTM-400','LSTM-424','LSTM-448','LSTM-456',\n",
    "       'Ensemble-1', 'Ensemble-2', 'Ensemble-3', 'Ensemble-4' ]\n",
    "acc_dict = {'Train_h11': train_acc_all[:,0],'Train_h21': train_acc_all[:,1],\n",
    "            'Train_h31': train_acc_all[:,2], 'Train_h22': train_acc_all[:,3],\n",
    "            'Test_h11':test_acc_all[:,0], 'Test_h21':test_acc_all[:,1],'Test_h31':test_acc_all[:,2],\n",
    "           'Test_h22':test_acc_all[:,3]}\n",
    "df = pd.DataFrame(acc_dict, index = mds)\n",
    "df.to_csv('train_test_all.csv')\n",
    "df"
   ]
  },
  {
   "cell_type": "code",
   "execution_count": 50,
   "id": "264d62bf",
   "metadata": {
    "execution": {
     "iopub.execute_input": "2024-05-23T08:05:43.389962Z",
     "iopub.status.busy": "2024-05-23T08:05:43.389483Z",
     "iopub.status.idle": "2024-05-23T08:05:46.039351Z",
     "shell.execute_reply": "2024-05-23T08:05:46.038338Z"
    },
    "papermill": {
     "duration": 2.676454,
     "end_time": "2024-05-23T08:05:46.042435",
     "exception": false,
     "start_time": "2024-05-23T08:05:43.365981",
     "status": "completed"
    },
    "tags": []
   },
   "outputs": [
    {
     "data": {
      "image/png": "[encoded data removed]",
      "text/plain": [
       "<Figure size 1200x1200 with 4 Axes>"
      ]
     },
     "metadata": {},
     "output_type": "display_data"
    }
   ],
   "source": [
    "df_t11 = df['Test_h11'].sort_values(ascending = True)\n",
    "df_t21 = df['Test_h21'].sort_values(ascending = True)\n",
    "df_t31 = df['Test_h31'].sort_values(ascending = True)\n",
    "df_t22 = df['Test_h22'].sort_values(ascending = True)\n",
    "\n",
    "fig, ax = plt.subplots(2,2, figsize = (12,12), tight_layout = True)\n",
    "df_t11.plot(ax = ax[0,0], style='s-')\n",
    "ax[0,0].grid()\n",
    "ax[0,0].set_title('Test accuracy for $h^{(1,1)}$ in ascending order')\n",
    "ax[0,0].set_xticks(range(len(df.index)))\n",
    "ax[0,0].set_xticklabels(df_t11.index)\n",
    "ax[0,0].tick_params(axis='x', labelrotation=90)\n",
    "ax[0,0].legend()\n",
    "\n",
    "df_t21.plot(ax = ax[0,1],style='s-')\n",
    "ax[0,1].grid()\n",
    "ax[0,1].set_title('Test accuracy for $h^{(2,1)}$ in ascending order')\n",
    "ax[0,1].tick_params(axis='x', labelrotation=90)\n",
    "ax[0,1].set_xticks(range(len(df.index)))\n",
    "ax[0,1].set_xticklabels(df_t21.index)\n",
    "ax[0,1].set_xticks(range(len(df.index)))\n",
    "ax[0,1].legend()\n",
    "\n",
    "df_t31.plot(ax = ax[1,0],style='s-')\n",
    "ax[1,0].grid()\n",
    "ax[1,0].set_title('Test accuracy for $h^{(3,1)}$ in ascending order')\n",
    "ax[1,0].tick_params(axis='x', labelrotation=90)\n",
    "ax[1,0].set_xticks(range(len(df.index)))\n",
    "ax[1,0].set_xticklabels(df_t31.index)\n",
    "ax[1,0].set_xticks(range(len(df.index)))\n",
    "ax[1,0].legend()\n",
    "\n",
    "df_t22.plot(ax = ax[1,1],style='s-')\n",
    "ax[1,1].grid()\n",
    "ax[1,1].set_title('Test accuracy for $h^{(2,2)}$ in ascending order')\n",
    "ax[1,1].tick_params(axis='x', labelrotation=90)\n",
    "ax[1,1].set_xticks(range(len(df.index)))\n",
    "ax[1,1].set_xticklabels(df_t22.index)\n",
    "ax[1,1].set_xticks(range(len(df.index)))\n",
    "ax[1,1].legend()\n",
    "plt.savefig('Train_test_accuracies_all')"
   ]
  },
  {
   "cell_type": "code",
   "execution_count": 51,
   "id": "0e85354a",
   "metadata": {
    "execution": {
     "iopub.execute_input": "2024-05-23T08:05:46.094292Z",
     "iopub.status.busy": "2024-05-23T08:05:46.093980Z",
     "iopub.status.idle": "2024-05-23T08:05:47.622616Z",
     "shell.execute_reply": "2024-05-23T08:05:47.621733Z"
    },
    "papermill": {
     "duration": 1.557601,
     "end_time": "2024-05-23T08:05:47.625536",
     "exception": false,
     "start_time": "2024-05-23T08:05:46.067935",
     "status": "completed"
    },
    "tags": []
   },
   "outputs": [
    {
     "data": {
      "image/png": "[encoded data removed]",
      "text/plain": [
       "<Figure size 800x1200 with 2 Axes>"
      ]
     },
     "metadata": {},
     "output_type": "display_data"
    }
   ],
   "source": [
    "fig, ax = plt.subplots(2,1, figsize = (8,12), tight_layout = True)\n",
    "df['Train_h11'].plot(ax = ax[0], style='X-')\n",
    "df['Train_h21'].plot(ax = ax[0],style='X-')\n",
    "df['Train_h31'].plot(ax = ax[0],style='X-')\n",
    "df['Train_h22'].plot(ax = ax[0],style='X-')\n",
    "ax[0].grid()\n",
    "ax[0].set_title('Train accuracy for all models')\n",
    "ax[0].tick_params(axis='x', labelrotation=90)\n",
    "ax[0].set_xticks(range(len(df.index)))\n",
    "ax[0].set_xticklabels(df.index)\n",
    "ax[0].legend(loc = 'lower right')\n",
    "\n",
    "\n",
    "df['Test_h11'].plot(ax = ax[1], style='D-')\n",
    "df['Test_h21'].plot(ax = ax[1],style='D-')\n",
    "df['Test_h31'].plot(ax = ax[1],style='D-')\n",
    "df['Test_h22'].plot(ax = ax[1],style='D-')\n",
    "ax[1].grid()\n",
    "ax[1].set_title('Test accuracy for all models')\n",
    "ax[1].tick_params(axis='x', labelrotation=90)\n",
    "ax[1].set_xticks(range(len(df.index)))\n",
    "ax[1].set_xticklabels(df.index)\n",
    "ax[1].set_xticks(range(len(df.index)))\n",
    "ax[1].legend()\n",
    "\n",
    "plt.savefig('Train_test_4x_accuracies_all')"
   ]
  },
  {
   "cell_type": "markdown",
   "id": "08502041",
   "metadata": {
    "papermill": {
     "duration": 0.026123,
     "end_time": "2024-05-23T08:05:47.678681",
     "exception": false,
     "start_time": "2024-05-23T08:05:47.652558",
     "status": "completed"
    },
    "tags": []
   },
   "source": [
    "# MSE, MAE, R2 scores (72% dataset)"
   ]
  },
  {
   "cell_type": "code",
   "execution_count": 52,
   "id": "6a779ac0",
   "metadata": {
    "execution": {
     "iopub.execute_input": "2024-05-23T08:05:47.733090Z",
     "iopub.status.busy": "2024-05-23T08:05:47.732747Z",
     "iopub.status.idle": "2024-05-23T08:05:47.752907Z",
     "shell.execute_reply": "2024-05-23T08:05:47.751990Z"
    },
    "papermill": {
     "duration": 0.049733,
     "end_time": "2024-05-23T08:05:47.754983",
     "exception": false,
     "start_time": "2024-05-23T08:05:47.705250",
     "status": "completed"
    },
    "tags": []
   },
   "outputs": [
    {
     "data": {
      "text/plain": [
       "(15, 181137, 4)"
      ]
     },
     "execution_count": 52,
     "metadata": {},
     "output_type": "execute_result"
    }
   ],
   "source": [
    "#Gather all the predictions together into an array\n",
    "pred_list = np.array([yt_cnn_gru_384, yt_cnn_gru_416, yt_rsnet_gru_256, \n",
    "                      yt_rsnet_gru_400, yt_cnn_lstm_256, yt_cnn_lstm_384,\n",
    "                      yt_cnn_lstm_400,  yt_lstm_400, yt_lstm_424,\n",
    "                      yt_lstm_448, yt_lsm_456,\n",
    "                      yts_ens_1, yts_ens_2, yts_ens_3, yts_ens_4])\n",
    "\n",
    "pred_list.shape"
   ]
  },
  {
   "cell_type": "code",
   "execution_count": 53,
   "id": "07268118",
   "metadata": {
    "execution": {
     "iopub.execute_input": "2024-05-23T08:05:47.812547Z",
     "iopub.status.busy": "2024-05-23T08:05:47.812054Z",
     "iopub.status.idle": "2024-05-23T08:05:48.033504Z",
     "shell.execute_reply": "2024-05-23T08:05:48.032603Z"
    },
    "papermill": {
     "duration": 0.253186,
     "end_time": "2024-05-23T08:05:48.035761",
     "exception": false,
     "start_time": "2024-05-23T08:05:47.782575",
     "status": "completed"
    },
    "tags": []
   },
   "outputs": [
    {
     "data": {
      "text/plain": [
       "(0.0, 0.0, 1.0)"
      ]
     },
     "execution_count": 53,
     "metadata": {},
     "output_type": "execute_result"
    }
   ],
   "source": [
    "from sklearn.metrics import mean_squared_error as mse, mean_absolute_error as mae, r2_score as r2\n",
    "#Perfect score values (benchmark of the target with itself)\n",
    "#MSE, MAE -> 0,  R2 -> 1: perfect agreement\n",
    "mse_bm = mse(y_test, y_test)\n",
    "mae_bm = mae(y_test, y_test)\n",
    "r2_bm = r2(y_test, y_test)\n",
    "mse_bm, mae_bm, r2_bm"
   ]
  },
  {
   "cell_type": "code",
   "execution_count": 54,
   "id": "427d7090",
   "metadata": {
    "execution": {
     "iopub.execute_input": "2024-05-23T08:05:48.092630Z",
     "iopub.status.busy": "2024-05-23T08:05:48.092132Z",
     "iopub.status.idle": "2024-05-23T08:05:48.697351Z",
     "shell.execute_reply": "2024-05-23T08:05:48.696488Z"
    },
    "papermill": {
     "duration": 0.636339,
     "end_time": "2024-05-23T08:05:48.699847",
     "exception": false,
     "start_time": "2024-05-23T08:05:48.063508",
     "status": "completed"
    },
    "tags": []
   },
   "outputs": [],
   "source": [
    "mse_list = []\n",
    "mse_h11 = []\n",
    "mse_h21 = []\n",
    "mse_h31 = []\n",
    "mse_h22 = []\n",
    "\n",
    "mae_list = []\n",
    "mae_h11 = []\n",
    "mae_h21 = []\n",
    "mae_h31 = []\n",
    "mae_h22 = []\n",
    "\n",
    "r2_list = []\n",
    "r2_h11 = []\n",
    "r2_h21 = []\n",
    "r2_h31 = []\n",
    "r2_h22 = []\n",
    "\n",
    "for i in range(len(pred_list)):\n",
    "    mse_i = mse(y_test, pred_list[i])\n",
    "    mse_list.append(mse_i)\n",
    "    mse_h11_i = mse(y_test[:,0], pred_list[i][:,0])\n",
    "    mse_h21_i = mse(y_test[:,1], pred_list[i][:,1])\n",
    "    mse_h31_i = mse(y_test[:,2], pred_list[i][:,2])\n",
    "    mse_h22_i = mse(y_test[:,3], pred_list[i][:,3])\n",
    "    mse_h11.append(mse_h11_i)\n",
    "    mse_h21.append(mse_h21_i)\n",
    "    mse_h31.append(mse_h31_i)\n",
    "    mse_h22.append(mse_h22_i)\n",
    "    \n",
    "    mae_i = mae(y_test, pred_list[i])\n",
    "    mae_list.append(mae_i)\n",
    "    mae_h11_i = mae(y_test[:,0], pred_list[i][:,0])\n",
    "    mae_h21_i = mae(y_test[:,1], pred_list[i][:,1])\n",
    "    mae_h31_i = mae(y_test[:,2], pred_list[i][:,2])\n",
    "    mae_h22_i = mae(y_test[:,3], pred_list[i][:,3])\n",
    "    mae_h11.append(mae_h11_i)\n",
    "    mae_h21.append(mae_h21_i)\n",
    "    mae_h31.append(mae_h31_i)\n",
    "    mae_h22.append(mae_h22_i)\n",
    "    \n",
    "    r2_i = r2(y_test, pred_list[i])\n",
    "    r2_list.append(r2_i)\n",
    "    r2_h11_i = r2(y_test[:,0], pred_list[i][:,0])\n",
    "    r2_h21_i = r2(y_test[:,1], pred_list[i][:,1])\n",
    "    r2_h31_i = r2(y_test[:,2], pred_list[i][:,2])\n",
    "    r2_h22_i = r2(y_test[:,3], pred_list[i][:,3])\n",
    "    r2_h11.append(r2_h11_i)\n",
    "    r2_h21.append(r2_h21_i)\n",
    "    r2_h31.append(r2_h31_i)\n",
    "    r2_h22.append(r2_h22_i)\n",
    "    "
   ]
  },
  {
   "cell_type": "code",
   "execution_count": 55,
   "id": "45acc660",
   "metadata": {
    "execution": {
     "iopub.execute_input": "2024-05-23T08:05:48.757648Z",
     "iopub.status.busy": "2024-05-23T08:05:48.757330Z",
     "iopub.status.idle": "2024-05-23T08:05:48.785337Z",
     "shell.execute_reply": "2024-05-23T08:05:48.784309Z"
    },
    "papermill": {
     "duration": 0.059072,
     "end_time": "2024-05-23T08:05:48.787336",
     "exception": false,
     "start_time": "2024-05-23T08:05:48.728264",
     "status": "completed"
    },
    "tags": []
   },
   "outputs": [
    {
     "data": {
      "text/html": [
       "<div>\n",
       "<style scoped>\n",
       "    .dataframe tbody tr th:only-of-type {\n",
       "        vertical-align: middle;\n",
       "    }\n",
       "\n",
       "    .dataframe tbody tr th {\n",
       "        vertical-align: top;\n",
       "    }\n",
       "\n",
       "    .dataframe thead th {\n",
       "        text-align: right;\n",
       "    }\n",
       "</style>\n",
       "<table border=\"1\" class=\"dataframe\">\n",
       "  <thead>\n",
       "    <tr style=\"text-align: right;\">\n",
       "      <th></th>\n",
       "      <th>MSE_all</th>\n",
       "      <th>MSE_h11</th>\n",
       "      <th>MSE_h21</th>\n",
       "      <th>MSE_h31</th>\n",
       "      <th>MSE_h22</th>\n",
       "      <th>MAE_all</th>\n",
       "      <th>MAE_h11</th>\n",
       "      <th>MAE_h21</th>\n",
       "      <th>MAE_h31</th>\n",
       "      <th>MAE_h22</th>\n",
       "      <th>R2_all</th>\n",
       "      <th>r2_h11</th>\n",
       "      <th>r2_h21</th>\n",
       "      <th>r2_h31</th>\n",
       "      <th>r2_h22</th>\n",
       "    </tr>\n",
       "  </thead>\n",
       "  <tbody>\n",
       "    <tr>\n",
       "      <th>CNN-GRU-384</th>\n",
       "      <td>3.063604</td>\n",
       "      <td>0.026345</td>\n",
       "      <td>0.288621</td>\n",
       "      <td>0.717943</td>\n",
       "      <td>11.221506</td>\n",
       "      <td>0.584066</td>\n",
       "      <td>0.020173</td>\n",
       "      <td>0.183728</td>\n",
       "      <td>0.387055</td>\n",
       "      <td>1.745309</td>\n",
       "      <td>0.976415</td>\n",
       "      <td>0.995510</td>\n",
       "      <td>0.918559</td>\n",
       "      <td>0.996170</td>\n",
       "      <td>0.995423</td>\n",
       "    </tr>\n",
       "    <tr>\n",
       "      <th>CNN-GRU-416</th>\n",
       "      <td>2.516005</td>\n",
       "      <td>0.022359</td>\n",
       "      <td>0.213170</td>\n",
       "      <td>0.592623</td>\n",
       "      <td>9.235866</td>\n",
       "      <td>0.446427</td>\n",
       "      <td>0.018814</td>\n",
       "      <td>0.136455</td>\n",
       "      <td>0.294771</td>\n",
       "      <td>1.335669</td>\n",
       "      <td>0.982277</td>\n",
       "      <td>0.996189</td>\n",
       "      <td>0.939849</td>\n",
       "      <td>0.996838</td>\n",
       "      <td>0.996233</td>\n",
       "    </tr>\n",
       "    <tr>\n",
       "      <th>ResNet-GRU-256</th>\n",
       "      <td>3.441552</td>\n",
       "      <td>0.032859</td>\n",
       "      <td>0.327509</td>\n",
       "      <td>0.815907</td>\n",
       "      <td>12.589934</td>\n",
       "      <td>0.585590</td>\n",
       "      <td>0.024578</td>\n",
       "      <td>0.199893</td>\n",
       "      <td>0.400178</td>\n",
       "      <td>1.717711</td>\n",
       "      <td>0.973124</td>\n",
       "      <td>0.994399</td>\n",
       "      <td>0.907586</td>\n",
       "      <td>0.995647</td>\n",
       "      <td>0.994864</td>\n",
       "    </tr>\n",
       "    <tr>\n",
       "      <th>ResNet-GRU-400</th>\n",
       "      <td>1.797119</td>\n",
       "      <td>0.016093</td>\n",
       "      <td>0.124828</td>\n",
       "      <td>0.429316</td>\n",
       "      <td>6.618239</td>\n",
       "      <td>0.291314</td>\n",
       "      <td>0.010042</td>\n",
       "      <td>0.087939</td>\n",
       "      <td>0.181614</td>\n",
       "      <td>0.885661</td>\n",
       "      <td>0.989261</td>\n",
       "      <td>0.997257</td>\n",
       "      <td>0.964777</td>\n",
       "      <td>0.997710</td>\n",
       "      <td>0.997300</td>\n",
       "    </tr>\n",
       "    <tr>\n",
       "      <th>CNN-LSTM-256</th>\n",
       "      <td>1.564763</td>\n",
       "      <td>0.012664</td>\n",
       "      <td>0.094177</td>\n",
       "      <td>0.371702</td>\n",
       "      <td>5.780509</td>\n",
       "      <td>0.250990</td>\n",
       "      <td>0.008590</td>\n",
       "      <td>0.065061</td>\n",
       "      <td>0.153127</td>\n",
       "      <td>0.777180</td>\n",
       "      <td>0.991732</td>\n",
       "      <td>0.997841</td>\n",
       "      <td>0.973426</td>\n",
       "      <td>0.998017</td>\n",
       "      <td>0.997642</td>\n",
       "    </tr>\n",
       "    <tr>\n",
       "      <th>CNN-LSTM-384</th>\n",
       "      <td>1.793952</td>\n",
       "      <td>0.012129</td>\n",
       "      <td>0.089523</td>\n",
       "      <td>0.422266</td>\n",
       "      <td>6.651888</td>\n",
       "      <td>0.263005</td>\n",
       "      <td>0.009667</td>\n",
       "      <td>0.060937</td>\n",
       "      <td>0.164395</td>\n",
       "      <td>0.817023</td>\n",
       "      <td>0.991926</td>\n",
       "      <td>0.997933</td>\n",
       "      <td>0.974739</td>\n",
       "      <td>0.997747</td>\n",
       "      <td>0.997287</td>\n",
       "    </tr>\n",
       "    <tr>\n",
       "      <th>CNN-LSTM-400</th>\n",
       "      <td>0.981793</td>\n",
       "      <td>0.004417</td>\n",
       "      <td>0.034841</td>\n",
       "      <td>0.225327</td>\n",
       "      <td>3.662587</td>\n",
       "      <td>0.117395</td>\n",
       "      <td>0.003081</td>\n",
       "      <td>0.023192</td>\n",
       "      <td>0.068031</td>\n",
       "      <td>0.375274</td>\n",
       "      <td>0.996680</td>\n",
       "      <td>0.999247</td>\n",
       "      <td>0.990169</td>\n",
       "      <td>0.998798</td>\n",
       "      <td>0.998506</td>\n",
       "    </tr>\n",
       "    <tr>\n",
       "      <th>LSTM-400</th>\n",
       "      <td>1.523907</td>\n",
       "      <td>0.012284</td>\n",
       "      <td>0.099190</td>\n",
       "      <td>0.363841</td>\n",
       "      <td>5.620315</td>\n",
       "      <td>0.255210</td>\n",
       "      <td>0.007955</td>\n",
       "      <td>0.068782</td>\n",
       "      <td>0.162137</td>\n",
       "      <td>0.781966</td>\n",
       "      <td>0.991421</td>\n",
       "      <td>0.997906</td>\n",
       "      <td>0.972011</td>\n",
       "      <td>0.998059</td>\n",
       "      <td>0.997707</td>\n",
       "    </tr>\n",
       "    <tr>\n",
       "      <th>LSTM-424</th>\n",
       "      <td>1.025199</td>\n",
       "      <td>0.007354</td>\n",
       "      <td>0.049256</td>\n",
       "      <td>0.245902</td>\n",
       "      <td>3.798285</td>\n",
       "      <td>0.156235</td>\n",
       "      <td>0.005234</td>\n",
       "      <td>0.034129</td>\n",
       "      <td>0.091378</td>\n",
       "      <td>0.494201</td>\n",
       "      <td>0.995497</td>\n",
       "      <td>0.998747</td>\n",
       "      <td>0.986101</td>\n",
       "      <td>0.998688</td>\n",
       "      <td>0.998451</td>\n",
       "    </tr>\n",
       "    <tr>\n",
       "      <th>LSTM-448</th>\n",
       "      <td>0.920742</td>\n",
       "      <td>0.004924</td>\n",
       "      <td>0.048185</td>\n",
       "      <td>0.214291</td>\n",
       "      <td>3.415570</td>\n",
       "      <td>0.137493</td>\n",
       "      <td>0.003290</td>\n",
       "      <td>0.030286</td>\n",
       "      <td>0.080768</td>\n",
       "      <td>0.435626</td>\n",
       "      <td>0.995757</td>\n",
       "      <td>0.999161</td>\n",
       "      <td>0.986404</td>\n",
       "      <td>0.998857</td>\n",
       "      <td>0.998607</td>\n",
       "    </tr>\n",
       "    <tr>\n",
       "      <th>LSTM-456</th>\n",
       "      <td>1.396963</td>\n",
       "      <td>0.012852</td>\n",
       "      <td>0.099886</td>\n",
       "      <td>0.343110</td>\n",
       "      <td>5.132005</td>\n",
       "      <td>0.252874</td>\n",
       "      <td>0.008259</td>\n",
       "      <td>0.069776</td>\n",
       "      <td>0.162319</td>\n",
       "      <td>0.771140</td>\n",
       "      <td>0.991425</td>\n",
       "      <td>0.997809</td>\n",
       "      <td>0.971815</td>\n",
       "      <td>0.998170</td>\n",
       "      <td>0.997907</td>\n",
       "    </tr>\n",
       "    <tr>\n",
       "      <th>Ensemble-1</th>\n",
       "      <td>0.707678</td>\n",
       "      <td>0.002694</td>\n",
       "      <td>0.029133</td>\n",
       "      <td>0.161734</td>\n",
       "      <td>2.637153</td>\n",
       "      <td>0.103647</td>\n",
       "      <td>0.002175</td>\n",
       "      <td>0.019781</td>\n",
       "      <td>0.057956</td>\n",
       "      <td>0.334675</td>\n",
       "      <td>0.997345</td>\n",
       "      <td>0.999541</td>\n",
       "      <td>0.991780</td>\n",
       "      <td>0.999137</td>\n",
       "      <td>0.998924</td>\n",
       "    </tr>\n",
       "    <tr>\n",
       "      <th>Ensemble-2</th>\n",
       "      <td>0.650037</td>\n",
       "      <td>0.002490</td>\n",
       "      <td>0.026129</td>\n",
       "      <td>0.149986</td>\n",
       "      <td>2.421543</td>\n",
       "      <td>0.099926</td>\n",
       "      <td>0.002170</td>\n",
       "      <td>0.018522</td>\n",
       "      <td>0.055450</td>\n",
       "      <td>0.323562</td>\n",
       "      <td>0.997604</td>\n",
       "      <td>0.999576</td>\n",
       "      <td>0.992627</td>\n",
       "      <td>0.999200</td>\n",
       "      <td>0.999012</td>\n",
       "    </tr>\n",
       "    <tr>\n",
       "      <th>Ensemble-3</th>\n",
       "      <td>0.725367</td>\n",
       "      <td>0.002633</td>\n",
       "      <td>0.028216</td>\n",
       "      <td>0.166631</td>\n",
       "      <td>2.703986</td>\n",
       "      <td>0.114994</td>\n",
       "      <td>0.002302</td>\n",
       "      <td>0.020410</td>\n",
       "      <td>0.062279</td>\n",
       "      <td>0.374987</td>\n",
       "      <td>0.997399</td>\n",
       "      <td>0.999551</td>\n",
       "      <td>0.992038</td>\n",
       "      <td>0.999111</td>\n",
       "      <td>0.998897</td>\n",
       "    </tr>\n",
       "    <tr>\n",
       "      <th>Ensemble-4</th>\n",
       "      <td>0.733340</td>\n",
       "      <td>0.003793</td>\n",
       "      <td>0.033693</td>\n",
       "      <td>0.170976</td>\n",
       "      <td>2.724899</td>\n",
       "      <td>0.119031</td>\n",
       "      <td>0.003152</td>\n",
       "      <td>0.023601</td>\n",
       "      <td>0.066767</td>\n",
       "      <td>0.382605</td>\n",
       "      <td>0.996956</td>\n",
       "      <td>0.999354</td>\n",
       "      <td>0.990493</td>\n",
       "      <td>0.999088</td>\n",
       "      <td>0.998888</td>\n",
       "    </tr>\n",
       "  </tbody>\n",
       "</table>\n",
       "</div>"
      ],
      "text/plain": [
       "                 MSE_all   MSE_h11   MSE_h21   MSE_h31    MSE_h22   MAE_all  \\\n",
       "CNN-GRU-384     3.063604  0.026345  0.288621  0.717943  11.221506  0.584066   \n",
       "CNN-GRU-416     2.516005  0.022359  0.213170  0.592623   9.235866  0.446427   \n",
       "ResNet-GRU-256  3.441552  0.032859  0.327509  0.815907  12.589934  0.585590   \n",
       "ResNet-GRU-400  1.797119  0.016093  0.124828  0.429316   6.618239  0.291314   \n",
       "CNN-LSTM-256    1.564763  0.012664  0.094177  0.371702   5.780509  0.250990   \n",
       "CNN-LSTM-384    1.793952  0.012129  0.089523  0.422266   6.651888  0.263005   \n",
       "CNN-LSTM-400    0.981793  0.004417  0.034841  0.225327   3.662587  0.117395   \n",
       "LSTM-400        1.523907  0.012284  0.099190  0.363841   5.620315  0.255210   \n",
       "LSTM-424        1.025199  0.007354  0.049256  0.245902   3.798285  0.156235   \n",
       "LSTM-448        0.920742  0.004924  0.048185  0.214291   3.415570  0.137493   \n",
       "LSTM-456        1.396963  0.012852  0.099886  0.343110   5.132005  0.252874   \n",
       "Ensemble-1      0.707678  0.002694  0.029133  0.161734   2.637153  0.103647   \n",
       "Ensemble-2      0.650037  0.002490  0.026129  0.149986   2.421543  0.099926   \n",
       "Ensemble-3      0.725367  0.002633  0.028216  0.166631   2.703986  0.114994   \n",
       "Ensemble-4      0.733340  0.003793  0.033693  0.170976   2.724899  0.119031   \n",
       "\n",
       "                 MAE_h11   MAE_h21   MAE_h31   MAE_h22    R2_all    r2_h11  \\\n",
       "CNN-GRU-384     0.020173  0.183728  0.387055  1.745309  0.976415  0.995510   \n",
       "CNN-GRU-416     0.018814  0.136455  0.294771  1.335669  0.982277  0.996189   \n",
       "ResNet-GRU-256  0.024578  0.199893  0.400178  1.717711  0.973124  0.994399   \n",
       "ResNet-GRU-400  0.010042  0.087939  0.181614  0.885661  0.989261  0.997257   \n",
       "CNN-LSTM-256    0.008590  0.065061  0.153127  0.777180  0.991732  0.997841   \n",
       "CNN-LSTM-384    0.009667  0.060937  0.164395  0.817023  0.991926  0.997933   \n",
       "CNN-LSTM-400    0.003081  0.023192  0.068031  0.375274  0.996680  0.999247   \n",
       "LSTM-400        0.007955  0.068782  0.162137  0.781966  0.991421  0.997906   \n",
       "LSTM-424        0.005234  0.034129  0.091378  0.494201  0.995497  0.998747   \n",
       "LSTM-448        0.003290  0.030286  0.080768  0.435626  0.995757  0.999161   \n",
       "LSTM-456        0.008259  0.069776  0.162319  0.771140  0.991425  0.997809   \n",
       "Ensemble-1      0.002175  0.019781  0.057956  0.334675  0.997345  0.999541   \n",
       "Ensemble-2      0.002170  0.018522  0.055450  0.323562  0.997604  0.999576   \n",
       "Ensemble-3      0.002302  0.020410  0.062279  0.374987  0.997399  0.999551   \n",
       "Ensemble-4      0.003152  0.023601  0.066767  0.382605  0.996956  0.999354   \n",
       "\n",
       "                  r2_h21    r2_h31    r2_h22  \n",
       "CNN-GRU-384     0.918559  0.996170  0.995423  \n",
       "CNN-GRU-416     0.939849  0.996838  0.996233  \n",
       "ResNet-GRU-256  0.907586  0.995647  0.994864  \n",
       "ResNet-GRU-400  0.964777  0.997710  0.997300  \n",
       "CNN-LSTM-256    0.973426  0.998017  0.997642  \n",
       "CNN-LSTM-384    0.974739  0.997747  0.997287  \n",
       "CNN-LSTM-400    0.990169  0.998798  0.998506  \n",
       "LSTM-400        0.972011  0.998059  0.997707  \n",
       "LSTM-424        0.986101  0.998688  0.998451  \n",
       "LSTM-448        0.986404  0.998857  0.998607  \n",
       "LSTM-456        0.971815  0.998170  0.997907  \n",
       "Ensemble-1      0.991780  0.999137  0.998924  \n",
       "Ensemble-2      0.992627  0.999200  0.999012  \n",
       "Ensemble-3      0.992038  0.999111  0.998897  \n",
       "Ensemble-4      0.990493  0.999088  0.998888  "
      ]
     },
     "execution_count": 55,
     "metadata": {},
     "output_type": "execute_result"
    }
   ],
   "source": [
    "pred_dict = {'MSE_all': mse_list,\n",
    "             'MSE_h11': mse_h11, 'MSE_h21': mse_h21 , 'MSE_h31': mse_h31, 'MSE_h22': mse_h22,\n",
    "             'MAE_all': mae_list,\n",
    "             'MAE_h11': mae_h11, 'MAE_h21': mae_h21 , 'MAE_h31': mae_h31, 'MAE_h22': mae_h22,\n",
    "             'R2_all': r2_list,\n",
    "             'r2_h11': r2_h11, 'r2_h21': r2_h21 , 'r2_h31': r2_h31, 'r2_h22': r2_h22,\n",
    "            }\n",
    "df_pred = pd.DataFrame(pred_dict, index = mds)\n",
    "df_pred.to_csv('pred_mse_mae_all.csv')\n",
    "df_pred"
   ]
  },
  {
   "cell_type": "markdown",
   "id": "4bd7e536",
   "metadata": {
    "papermill": {
     "duration": 0.02757,
     "end_time": "2024-05-23T08:05:48.842684",
     "exception": false,
     "start_time": "2024-05-23T08:05:48.815114",
     "status": "completed"
    },
    "tags": []
   },
   "source": [
    "# MSE, MAE, R2 - 80% dataset"
   ]
  },
  {
   "cell_type": "code",
   "execution_count": 56,
   "id": "469d1e21",
   "metadata": {
    "execution": {
     "iopub.execute_input": "2024-05-23T08:05:48.899693Z",
     "iopub.status.busy": "2024-05-23T08:05:48.899293Z",
     "iopub.status.idle": "2024-05-23T08:05:48.909820Z",
     "shell.execute_reply": "2024-05-23T08:05:48.908819Z"
    },
    "papermill": {
     "duration": 0.041449,
     "end_time": "2024-05-23T08:05:48.911721",
     "exception": false,
     "start_time": "2024-05-23T08:05:48.870272",
     "status": "completed"
    },
    "tags": []
   },
   "outputs": [
    {
     "data": {
      "text/plain": [
       "(7, 108682, 4)"
      ]
     },
     "execution_count": 56,
     "metadata": {},
     "output_type": "execute_result"
    }
   ],
   "source": [
    "#Gather all the predictions together into an array\n",
    "pred_list_80 = np.array([yt_cnn_lstm_400d,yt_cnn_lstm_400d72,\n",
    "                         yt_lstm_424d,\n",
    "                          yt_lstm_448d, \n",
    "                          yts_ens80_1, yts_ens80_2,  yts_ens80_3])\n",
    "\n",
    "pred_list_80.shape"
   ]
  },
  {
   "cell_type": "code",
   "execution_count": 57,
   "id": "094f218e",
   "metadata": {
    "execution": {
     "iopub.execute_input": "2024-05-23T08:05:48.969529Z",
     "iopub.status.busy": "2024-05-23T08:05:48.969117Z",
     "iopub.status.idle": "2024-05-23T08:05:49.164228Z",
     "shell.execute_reply": "2024-05-23T08:05:49.163119Z"
    },
    "papermill": {
     "duration": 0.226712,
     "end_time": "2024-05-23T08:05:49.166587",
     "exception": false,
     "start_time": "2024-05-23T08:05:48.939875",
     "status": "completed"
    },
    "tags": []
   },
   "outputs": [],
   "source": [
    "mse_list = []\n",
    "mse_h11 = []\n",
    "mse_h21 = []\n",
    "mse_h31 = []\n",
    "mse_h22 = []\n",
    "\n",
    "mae_list = []\n",
    "mae_h11 = []\n",
    "mae_h21 = []\n",
    "mae_h31 = []\n",
    "mae_h22 = []\n",
    "\n",
    "r2_list = []\n",
    "r2_h11 = []\n",
    "r2_h21 = []\n",
    "r2_h31 = []\n",
    "r2_h22 = []\n",
    "\n",
    "for i in range(len(pred_list_80)):\n",
    "    mse_i = mse(y_test_80, pred_list_80[i])\n",
    "    mse_list.append(mse_i)\n",
    "    mse_h11_i = mse(y_test_80[:,0], pred_list_80[i][:,0])\n",
    "    mse_h21_i = mse(y_test_80[:,1], pred_list_80[i][:,1])\n",
    "    mse_h31_i = mse(y_test_80[:,2], pred_list_80[i][:,2])\n",
    "    mse_h22_i = mse(y_test_80[:,3], pred_list_80[i][:,3])\n",
    "    mse_h11.append(mse_h11_i)\n",
    "    mse_h21.append(mse_h21_i)\n",
    "    mse_h31.append(mse_h31_i)\n",
    "    mse_h22.append(mse_h22_i)\n",
    "    \n",
    "    mae_i = mae(y_test_80, pred_list_80[i])\n",
    "    mae_list.append(mae_i)\n",
    "    mae_h11_i = mae(y_test_80[:,0], pred_list_80[i][:,0])\n",
    "    mae_h21_i = mae(y_test_80[:,1], pred_list_80[i][:,1])\n",
    "    mae_h31_i = mae(y_test_80[:,2], pred_list_80[i][:,2])\n",
    "    mae_h22_i = mae(y_test_80[:,3], pred_list_80[i][:,3])\n",
    "    mae_h11.append(mae_h11_i)\n",
    "    mae_h21.append(mae_h21_i)\n",
    "    mae_h31.append(mae_h31_i)\n",
    "    mae_h22.append(mae_h22_i)\n",
    "    \n",
    "    r2_i = r2(y_test_80, pred_list_80[i])\n",
    "    r2_list.append(r2_i)\n",
    "    r2_h11_i = r2(y_test_80[:,0], pred_list_80[i][:,0])\n",
    "    r2_h21_i = r2(y_test_80[:,1], pred_list_80[i][:,1])\n",
    "    r2_h31_i = r2(y_test_80[:,2], pred_list_80[i][:,2])\n",
    "    r2_h22_i = r2(y_test_80[:,3], pred_list_80[i][:,3])\n",
    "    r2_h11.append(r2_h11_i)\n",
    "    r2_h21.append(r2_h21_i)\n",
    "    r2_h31.append(r2_h31_i)\n",
    "    r2_h22.append(r2_h22_i)"
   ]
  },
  {
   "cell_type": "code",
   "execution_count": 58,
   "id": "2b2be309",
   "metadata": {
    "execution": {
     "iopub.execute_input": "2024-05-23T08:05:49.223796Z",
     "iopub.status.busy": "2024-05-23T08:05:49.223485Z",
     "iopub.status.idle": "2024-05-23T08:05:49.248285Z",
     "shell.execute_reply": "2024-05-23T08:05:49.247430Z"
    },
    "papermill": {
     "duration": 0.0554,
     "end_time": "2024-05-23T08:05:49.250305",
     "exception": false,
     "start_time": "2024-05-23T08:05:49.194905",
     "status": "completed"
    },
    "tags": []
   },
   "outputs": [
    {
     "data": {
      "text/html": [
       "<div>\n",
       "<style scoped>\n",
       "    .dataframe tbody tr th:only-of-type {\n",
       "        vertical-align: middle;\n",
       "    }\n",
       "\n",
       "    .dataframe tbody tr th {\n",
       "        vertical-align: top;\n",
       "    }\n",
       "\n",
       "    .dataframe thead th {\n",
       "        text-align: right;\n",
       "    }\n",
       "</style>\n",
       "<table border=\"1\" class=\"dataframe\">\n",
       "  <thead>\n",
       "    <tr style=\"text-align: right;\">\n",
       "      <th></th>\n",
       "      <th>MSE_all</th>\n",
       "      <th>MSE_h11</th>\n",
       "      <th>MSE_h21</th>\n",
       "      <th>MSE_h31</th>\n",
       "      <th>MSE_h22</th>\n",
       "      <th>MAE_all</th>\n",
       "      <th>MAE_h11</th>\n",
       "      <th>MAE_h21</th>\n",
       "      <th>MAE_h31</th>\n",
       "      <th>MAE_h22</th>\n",
       "      <th>R2_all</th>\n",
       "      <th>r2_h11</th>\n",
       "      <th>r2_h21</th>\n",
       "      <th>r2_h31</th>\n",
       "      <th>r2_h22</th>\n",
       "    </tr>\n",
       "  </thead>\n",
       "  <tbody>\n",
       "    <tr>\n",
       "      <th>CNN-LSTM-400</th>\n",
       "      <td>1.399604</td>\n",
       "      <td>0.007186</td>\n",
       "      <td>0.065475</td>\n",
       "      <td>0.334149</td>\n",
       "      <td>5.191605</td>\n",
       "      <td>0.184734</td>\n",
       "      <td>0.004297</td>\n",
       "      <td>0.042068</td>\n",
       "      <td>0.114665</td>\n",
       "      <td>0.577906</td>\n",
       "      <td>0.994053</td>\n",
       "      <td>0.998773</td>\n",
       "      <td>0.981356</td>\n",
       "      <td>0.998210</td>\n",
       "      <td>0.997872</td>\n",
       "    </tr>\n",
       "    <tr>\n",
       "      <th>CNN-LSTM-400-d72</th>\n",
       "      <td>1.035332</td>\n",
       "      <td>0.004785</td>\n",
       "      <td>0.036253</td>\n",
       "      <td>0.237611</td>\n",
       "      <td>3.862682</td>\n",
       "      <td>0.120158</td>\n",
       "      <td>0.003202</td>\n",
       "      <td>0.023665</td>\n",
       "      <td>0.070205</td>\n",
       "      <td>0.383559</td>\n",
       "      <td>0.996501</td>\n",
       "      <td>0.999183</td>\n",
       "      <td>0.989677</td>\n",
       "      <td>0.998727</td>\n",
       "      <td>0.998416</td>\n",
       "    </tr>\n",
       "    <tr>\n",
       "      <th>LSTM-424</th>\n",
       "      <td>0.758428</td>\n",
       "      <td>0.002466</td>\n",
       "      <td>0.033851</td>\n",
       "      <td>0.177840</td>\n",
       "      <td>2.819556</td>\n",
       "      <td>0.107874</td>\n",
       "      <td>0.002043</td>\n",
       "      <td>0.021908</td>\n",
       "      <td>0.058814</td>\n",
       "      <td>0.348733</td>\n",
       "      <td>0.996958</td>\n",
       "      <td>0.999579</td>\n",
       "      <td>0.990361</td>\n",
       "      <td>0.999047</td>\n",
       "      <td>0.998844</td>\n",
       "    </tr>\n",
       "    <tr>\n",
       "      <th>LSTM-448</th>\n",
       "      <td>0.676418</td>\n",
       "      <td>0.002650</td>\n",
       "      <td>0.029582</td>\n",
       "      <td>0.156512</td>\n",
       "      <td>2.516930</td>\n",
       "      <td>0.093958</td>\n",
       "      <td>0.001803</td>\n",
       "      <td>0.016921</td>\n",
       "      <td>0.053477</td>\n",
       "      <td>0.303629</td>\n",
       "      <td>0.997313</td>\n",
       "      <td>0.999547</td>\n",
       "      <td>0.991577</td>\n",
       "      <td>0.999162</td>\n",
       "      <td>0.998968</td>\n",
       "    </tr>\n",
       "    <tr>\n",
       "      <th>Ens_80-1</th>\n",
       "      <td>0.529085</td>\n",
       "      <td>0.001518</td>\n",
       "      <td>0.020767</td>\n",
       "      <td>0.122265</td>\n",
       "      <td>1.971789</td>\n",
       "      <td>0.080754</td>\n",
       "      <td>0.001297</td>\n",
       "      <td>0.013848</td>\n",
       "      <td>0.043540</td>\n",
       "      <td>0.264331</td>\n",
       "      <td>0.998091</td>\n",
       "      <td>0.999741</td>\n",
       "      <td>0.994087</td>\n",
       "      <td>0.999345</td>\n",
       "      <td>0.999192</td>\n",
       "    </tr>\n",
       "    <tr>\n",
       "      <th>Ens_80-2</th>\n",
       "      <td>0.571939</td>\n",
       "      <td>0.001849</td>\n",
       "      <td>0.024273</td>\n",
       "      <td>0.132211</td>\n",
       "      <td>2.129423</td>\n",
       "      <td>0.095053</td>\n",
       "      <td>0.001537</td>\n",
       "      <td>0.017077</td>\n",
       "      <td>0.051757</td>\n",
       "      <td>0.309840</td>\n",
       "      <td>0.997798</td>\n",
       "      <td>0.999684</td>\n",
       "      <td>0.993088</td>\n",
       "      <td>0.999292</td>\n",
       "      <td>0.999127</td>\n",
       "    </tr>\n",
       "    <tr>\n",
       "      <th>Ens_80-3</th>\n",
       "      <td>0.499478</td>\n",
       "      <td>0.001481</td>\n",
       "      <td>0.018458</td>\n",
       "      <td>0.113487</td>\n",
       "      <td>1.864485</td>\n",
       "      <td>0.077025</td>\n",
       "      <td>0.001279</td>\n",
       "      <td>0.012845</td>\n",
       "      <td>0.041424</td>\n",
       "      <td>0.252553</td>\n",
       "      <td>0.998280</td>\n",
       "      <td>0.999747</td>\n",
       "      <td>0.994744</td>\n",
       "      <td>0.999392</td>\n",
       "      <td>0.999236</td>\n",
       "    </tr>\n",
       "  </tbody>\n",
       "</table>\n",
       "</div>"
      ],
      "text/plain": [
       "                   MSE_all   MSE_h11   MSE_h21   MSE_h31   MSE_h22   MAE_all  \\\n",
       "CNN-LSTM-400      1.399604  0.007186  0.065475  0.334149  5.191605  0.184734   \n",
       "CNN-LSTM-400-d72  1.035332  0.004785  0.036253  0.237611  3.862682  0.120158   \n",
       "LSTM-424          0.758428  0.002466  0.033851  0.177840  2.819556  0.107874   \n",
       "LSTM-448          0.676418  0.002650  0.029582  0.156512  2.516930  0.093958   \n",
       "Ens_80-1          0.529085  0.001518  0.020767  0.122265  1.971789  0.080754   \n",
       "Ens_80-2          0.571939  0.001849  0.024273  0.132211  2.129423  0.095053   \n",
       "Ens_80-3          0.499478  0.001481  0.018458  0.113487  1.864485  0.077025   \n",
       "\n",
       "                   MAE_h11   MAE_h21   MAE_h31   MAE_h22    R2_all    r2_h11  \\\n",
       "CNN-LSTM-400      0.004297  0.042068  0.114665  0.577906  0.994053  0.998773   \n",
       "CNN-LSTM-400-d72  0.003202  0.023665  0.070205  0.383559  0.996501  0.999183   \n",
       "LSTM-424          0.002043  0.021908  0.058814  0.348733  0.996958  0.999579   \n",
       "LSTM-448          0.001803  0.016921  0.053477  0.303629  0.997313  0.999547   \n",
       "Ens_80-1          0.001297  0.013848  0.043540  0.264331  0.998091  0.999741   \n",
       "Ens_80-2          0.001537  0.017077  0.051757  0.309840  0.997798  0.999684   \n",
       "Ens_80-3          0.001279  0.012845  0.041424  0.252553  0.998280  0.999747   \n",
       "\n",
       "                    r2_h21    r2_h31    r2_h22  \n",
       "CNN-LSTM-400      0.981356  0.998210  0.997872  \n",
       "CNN-LSTM-400-d72  0.989677  0.998727  0.998416  \n",
       "LSTM-424          0.990361  0.999047  0.998844  \n",
       "LSTM-448          0.991577  0.999162  0.998968  \n",
       "Ens_80-1          0.994087  0.999345  0.999192  \n",
       "Ens_80-2          0.993088  0.999292  0.999127  \n",
       "Ens_80-3          0.994744  0.999392  0.999236  "
      ]
     },
     "execution_count": 58,
     "metadata": {},
     "output_type": "execute_result"
    }
   ],
   "source": [
    "pred_dict_80 = {'MSE_all': mse_list,\n",
    "             'MSE_h11': mse_h11, 'MSE_h21': mse_h21 , 'MSE_h31': mse_h31, 'MSE_h22': mse_h22,\n",
    "             'MAE_all': mae_list,\n",
    "             'MAE_h11': mae_h11, 'MAE_h21': mae_h21 , 'MAE_h31': mae_h31, 'MAE_h22': mae_h22,\n",
    "             'R2_all': r2_list,\n",
    "             'r2_h11': r2_h11, 'r2_h21': r2_h21 , 'r2_h31': r2_h31, 'r2_h22': r2_h22,\n",
    "            }\n",
    "df_pred_80 = pd.DataFrame(pred_dict_80, index = mds2)\n",
    "df_pred_80.to_csv('pred_mse_mae_80_all.csv')\n",
    "df_pred_80"
   ]
  }
 ],
 "metadata": {
  "kaggle": {
   "accelerator": "gpu",
   "dataSources": [
    {
     "datasetId": 4575883,
     "sourceId": 8488978,
     "sourceType": "datasetVersion"
    },
    {
     "sourceId": 178987982,
     "sourceType": "kernelVersion"
    }
   ],
   "dockerImageVersionId": 30684,
   "isGpuEnabled": true,
   "isInternetEnabled": true,
   "language": "python",
   "sourceType": "notebook"
  },
  "kernelspec": {
   "display_name": "Python 3",
   "language": "python",
   "name": "python3"
  },
  "language_info": {
   "codemirror_mode": {
    "name": "ipython",
    "version": 3
   },
   "file_extension": ".py",
   "mimetype": "text/x-python",
   "name": "python",
   "nbconvert_exporter": "python",
   "pygments_lexer": "ipython3",
   "version": "3.10.13"
  },
  "papermill": {
   "default_parameters": {},
   "duration": 1016.590441,
   "end_time": "2024-05-23T08:05:50.702292",
   "environment_variables": {},
   "exception": null,
   "input_path": "__notebook__.ipynb",
   "output_path": "__notebook__.ipynb",
   "parameters": {},
   "start_time": "2024-05-23T07:48:54.111851",
   "version": "2.5.0"
  }
 },
 "nbformat": 4,
 "nbformat_minor": 5
}
