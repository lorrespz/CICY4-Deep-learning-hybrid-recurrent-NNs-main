{
 "cells": [
  {
   "cell_type": "markdown",
   "id": "fc30b7b1",
   "metadata": {
    "papermill": {
     "duration": 0.008983,
     "end_time": "2024-05-25T05:29:27.354645",
     "exception": false,
     "start_time": "2024-05-25T05:29:27.345662",
     "status": "completed"
    },
    "tags": []
   },
   "source": [
    "# CICY4: CNN-LSTM-400 (80% data split - trained from scratch)"
   ]
  },
  {
   "cell_type": "code",
   "execution_count": 1,
   "id": "0e409220",
   "metadata": {
    "_cell_guid": "b1076dfc-b9ad-4769-8c92-a6c4dae69d19",
    "_uuid": "8f2839f25d086af736a60e9eeb907d3b93b6e0e5",
    "execution": {
     "iopub.execute_input": "2024-05-25T05:29:27.372387Z",
     "iopub.status.busy": "2024-05-25T05:29:27.372038Z",
     "iopub.status.idle": "2024-05-25T05:29:32.927336Z",
     "shell.execute_reply": "2024-05-25T05:29:32.926550Z"
    },
    "papermill": {
     "duration": 5.566714,
     "end_time": "2024-05-25T05:29:32.929693",
     "exception": false,
     "start_time": "2024-05-25T05:29:27.362979",
     "status": "completed"
    },
    "tags": []
   },
   "outputs": [],
   "source": [
    "import numpy as np\n",
    "import pandas as pd\n",
    "import random\n",
    "import os as os\n",
    "import matplotlib.pyplot as plt\n",
    "import seaborn as sns\n",
    "from datetime import datetime\n",
    "sns.set_style(\"darkgrid\")\n",
    "\n",
    "import torch\n",
    "import torch.nn as nn\n",
    "import torch.nn.functional as F\n",
    "import torch.optim.lr_scheduler as lr_scheduler"
   ]
  },
  {
   "cell_type": "code",
   "execution_count": 2,
   "id": "7d13eb50",
   "metadata": {
    "execution": {
     "iopub.execute_input": "2024-05-25T05:29:32.947600Z",
     "iopub.status.busy": "2024-05-25T05:29:32.947177Z",
     "iopub.status.idle": "2024-05-25T05:29:32.999124Z",
     "shell.execute_reply": "2024-05-25T05:29:32.997941Z"
    },
    "papermill": {
     "duration": 0.064511,
     "end_time": "2024-05-25T05:29:33.002494",
     "exception": false,
     "start_time": "2024-05-25T05:29:32.937983",
     "status": "completed"
    },
    "tags": []
   },
   "outputs": [
    {
     "name": "stdout",
     "output_type": "stream",
     "text": [
      "cuda:0\n"
     ]
    }
   ],
   "source": [
    "device = torch.device(\"cuda:0\" if torch.cuda.is_available() else \"cpu\")\n",
    "print(device)"
   ]
  },
  {
   "cell_type": "code",
   "execution_count": 3,
   "id": "250ffd4a",
   "metadata": {
    "execution": {
     "iopub.execute_input": "2024-05-25T05:29:33.023184Z",
     "iopub.status.busy": "2024-05-25T05:29:33.022531Z",
     "iopub.status.idle": "2024-05-25T05:29:33.037454Z",
     "shell.execute_reply": "2024-05-25T05:29:33.036742Z"
    },
    "papermill": {
     "duration": 0.027123,
     "end_time": "2024-05-25T05:29:33.039375",
     "exception": false,
     "start_time": "2024-05-25T05:29:33.012252",
     "status": "completed"
    },
    "tags": []
   },
   "outputs": [],
   "source": [
    "seed = 42\n",
    "\n",
    "def seed_everything(seed):\n",
    "    random.seed(seed)\n",
    "    os.environ['PYTHONHASHSEED'] = str(seed)\n",
    "    np.random.seed(seed)\n",
    "    torch.manual_seed(seed)\n",
    "    torch.cuda.manual_seed(seed)\n",
    "    torch.cuda.manual_seed_all(seed)\n",
    "    torch.backends.cudnn.deterministic = True\n",
    "\n",
    "seed_everything(seed)"
   ]
  },
  {
   "cell_type": "markdown",
   "id": "49b08b2f",
   "metadata": {
    "papermill": {
     "duration": 0.007638,
     "end_time": "2024-05-25T05:29:33.054869",
     "exception": false,
     "start_time": "2024-05-25T05:29:33.047231",
     "status": "completed"
    },
    "tags": []
   },
   "source": [
    "# CNN-LSTM network architecture"
   ]
  },
  {
   "cell_type": "code",
   "execution_count": 4,
   "id": "00451185",
   "metadata": {
    "execution": {
     "iopub.execute_input": "2024-05-25T05:29:33.072482Z",
     "iopub.status.busy": "2024-05-25T05:29:33.072215Z",
     "iopub.status.idle": "2024-05-25T05:29:33.085209Z",
     "shell.execute_reply": "2024-05-25T05:29:33.081754Z"
    },
    "papermill": {
     "duration": 0.026943,
     "end_time": "2024-05-25T05:29:33.089408",
     "exception": false,
     "start_time": "2024-05-25T05:29:33.062465",
     "status": "completed"
    },
    "tags": []
   },
   "outputs": [],
   "source": [
    "##################### CNN ###############################\n",
    "class CNN_block(nn.Module):  \n",
    "    def __init__(self):\n",
    "        super().__init__()\n",
    "        self.conv1 = nn.Conv2d(1,128, 4, 1)\n",
    "        self.conv2 = nn.Conv2d(128, 64, 3, 1)\n",
    "        self.mxpool = nn.MaxPool2d(2,2)\n",
    "        self.flat = nn.Flatten()\n",
    "        self.conv_total = nn.Sequential(\n",
    "            self.conv1,\n",
    "            self.mxpool,\n",
    "            self.conv2,\n",
    "            self.mxpool\n",
    "        )\n",
    "    def forward(self,x):\n",
    "        x = F.relu(self.conv_total(x))\n",
    "        #reshape is the same as flat(x)\n",
    "        #x = x.reshape(x.shape[0], -1)\n",
    "        x = self.flat(x)   \n",
    "        return x"
   ]
  },
  {
   "cell_type": "code",
   "execution_count": 5,
   "id": "6657c469",
   "metadata": {
    "execution": {
     "iopub.execute_input": "2024-05-25T05:29:33.110501Z",
     "iopub.status.busy": "2024-05-25T05:29:33.109820Z",
     "iopub.status.idle": "2024-05-25T05:29:33.120266Z",
     "shell.execute_reply": "2024-05-25T05:29:33.119090Z"
    },
    "papermill": {
     "duration": 0.022886,
     "end_time": "2024-05-25T05:29:33.122231",
     "exception": false,
     "start_time": "2024-05-25T05:29:33.099345",
     "status": "completed"
    },
    "tags": []
   },
   "outputs": [],
   "source": [
    "class LSTM_block(nn.Module):\n",
    "    def __init__(self, n_inputs, n_hidden, n_rnnlayers, n_outputs):\n",
    "        super(LSTM_block,self).__init__()\n",
    "        self.D = n_inputs\n",
    "        self.M = n_hidden\n",
    "        self.K = n_outputs\n",
    "        self.L = n_rnnlayers        \n",
    "        self.lstm = nn.LSTM(input_size = self.D,\n",
    "                           hidden_size = self.M,\n",
    "                           num_layers = self.L,\n",
    "                           batch_first = True)    \n",
    "    def forward(self, X):\n",
    "        #input X is NxTxD\n",
    "        #initial hidden states\n",
    "        h0 = torch.zeros(self.L, X.size(0), self.M).to(device)\n",
    "        c0 = torch.zeros(self.L, X.size(0), self.M).to(device)\n",
    "        #get LSTM unit output:\n",
    "        #output is NxTxM\n",
    "        out, _ = self.lstm(X, (h0,c0))\n",
    "        #out, _ = self.gru(X, h0)   \n",
    "        #we only want h(T) at the final time step\n",
    "        # output is now of shape (N, M)\n",
    "        out = out[:, -1, :]\n",
    "        return out"
   ]
  },
  {
   "cell_type": "code",
   "execution_count": 6,
   "id": "1c3d8acd",
   "metadata": {
    "execution": {
     "iopub.execute_input": "2024-05-25T05:29:33.142659Z",
     "iopub.status.busy": "2024-05-25T05:29:33.142017Z",
     "iopub.status.idle": "2024-05-25T05:29:33.150682Z",
     "shell.execute_reply": "2024-05-25T05:29:33.149384Z"
    },
    "papermill": {
     "duration": 0.021208,
     "end_time": "2024-05-25T05:29:33.153151",
     "exception": false,
     "start_time": "2024-05-25T05:29:33.131943",
     "status": "completed"
    },
    "tags": []
   },
   "outputs": [],
   "source": [
    "class CNN_LSTM_hybrid(nn.Module):\n",
    "    def __init__(self, cnn_block, lstm_block, feat_vec_size):\n",
    "        super(CNN_LSTM_hybrid, self).__init__()\n",
    "        self.cnn_block = cnn_block\n",
    "        self.lstm_block = lstm_block\n",
    "        self.feat_vec_size = feat_vec_size\n",
    "        self.fc1 = nn.Linear(self.feat_vec_size, 1024)\n",
    "        self.fc2 = nn.Linear(1024, 4)       \n",
    "    def forward(self, x):\n",
    "        #output of cnn block is (N,384)\n",
    "        x1 = x.view(-1,1, 16,20)\n",
    "        x1 = self.cnn_block(x1)\n",
    "        #output of rnn block is (N,M)\n",
    "        x2 = self.lstm_block(x)\n",
    "        #concatenate the 2 outputs to produce a feat vec (N, M+384)\n",
    "        xx = torch.cat([x1, x2], dim = 1)\n",
    "        # pass through linear layers\n",
    "        xx = self.fc1(xx)\n",
    "        #final output is 4\n",
    "        xx = self.fc2(xx)       \n",
    "        return xx"
   ]
  },
  {
   "cell_type": "code",
   "execution_count": 7,
   "id": "e76ff3ce",
   "metadata": {
    "execution": {
     "iopub.execute_input": "2024-05-25T05:29:33.170463Z",
     "iopub.status.busy": "2024-05-25T05:29:33.170217Z",
     "iopub.status.idle": "2024-05-25T05:29:33.513128Z",
     "shell.execute_reply": "2024-05-25T05:29:33.512160Z"
    },
    "papermill": {
     "duration": 0.354338,
     "end_time": "2024-05-25T05:29:33.515276",
     "exception": false,
     "start_time": "2024-05-25T05:29:33.160938",
     "status": "completed"
    },
    "tags": []
   },
   "outputs": [
    {
     "data": {
      "text/plain": [
       "CNN_LSTM_hybrid(\n",
       "  (cnn_block): CNN_block(\n",
       "    (conv1): Conv2d(1, 128, kernel_size=(4, 4), stride=(1, 1))\n",
       "    (conv2): Conv2d(128, 64, kernel_size=(3, 3), stride=(1, 1))\n",
       "    (mxpool): MaxPool2d(kernel_size=2, stride=2, padding=0, dilation=1, ceil_mode=False)\n",
       "    (flat): Flatten(start_dim=1, end_dim=-1)\n",
       "    (conv_total): Sequential(\n",
       "      (0): Conv2d(1, 128, kernel_size=(4, 4), stride=(1, 1))\n",
       "      (1): MaxPool2d(kernel_size=2, stride=2, padding=0, dilation=1, ceil_mode=False)\n",
       "      (2): Conv2d(128, 64, kernel_size=(3, 3), stride=(1, 1))\n",
       "      (3): MaxPool2d(kernel_size=2, stride=2, padding=0, dilation=1, ceil_mode=False)\n",
       "    )\n",
       "  )\n",
       "  (lstm_block): LSTM_block(\n",
       "    (lstm): LSTM(20, 400, num_layers=2, batch_first=True)\n",
       "  )\n",
       "  (fc1): Linear(in_features=784, out_features=1024, bias=True)\n",
       "  (fc2): Linear(in_features=1024, out_features=4, bias=True)\n",
       ")"
      ]
     },
     "execution_count": 7,
     "metadata": {},
     "output_type": "execute_result"
    }
   ],
   "source": [
    "# Everything is the same as the best CNN-GRU model, \n",
    "#except that the GRU layer is replaced by the LSTM layer\n",
    "cnn_block = CNN_block()\n",
    "cnn_block.to(device)\n",
    "\n",
    "M_size = 400\n",
    "lstm_block = LSTM_block(20, M_size, 2, 4)\n",
    "lstm_block.to(device)\n",
    "\n",
    "model = CNN_LSTM_hybrid(cnn_block, lstm_block, M_size+384)\n",
    "model.to(device)"
   ]
  },
  {
   "cell_type": "code",
   "execution_count": 8,
   "id": "b42ffad2",
   "metadata": {
    "execution": {
     "iopub.execute_input": "2024-05-25T05:29:33.533188Z",
     "iopub.status.busy": "2024-05-25T05:29:33.532874Z",
     "iopub.status.idle": "2024-05-25T05:29:33.539758Z",
     "shell.execute_reply": "2024-05-25T05:29:33.538848Z"
    },
    "papermill": {
     "duration": 0.018593,
     "end_time": "2024-05-25T05:29:33.542249",
     "exception": false,
     "start_time": "2024-05-25T05:29:33.523656",
     "status": "completed"
    },
    "tags": []
   },
   "outputs": [
    {
     "name": "stdout",
     "output_type": "stream",
     "text": [
      "Total numbers of parameters for the CNN part: 75968\n",
      "\n",
      "Total numbers of parameters for the LSTM part: 1958400\n",
      "\n",
      "Total numbers of parameters: 2842308\n"
     ]
    }
   ],
   "source": [
    "#count the number of parameters in the model\n",
    "params_cnn = [p.numel() for p in cnn_block.parameters() if p.requires_grad]\n",
    "print(f'Total numbers of parameters for the CNN part: {sum(params_cnn)}\\n')\n",
    "\n",
    "#count the number of parameters in the model\n",
    "params_lstm = [p.numel() for p in lstm_block.parameters() if p.requires_grad]\n",
    "print(f'Total numbers of parameters for the LSTM part: {sum(params_lstm)}\\n')\n",
    "\n",
    "#count the number of parameters in the model\n",
    "params = [p.numel() for p in model.parameters() if p.requires_grad]\n",
    "print(f'Total numbers of parameters: {sum(params)}')"
   ]
  },
  {
   "cell_type": "markdown",
   "id": "f21f736f",
   "metadata": {
    "papermill": {
     "duration": 0.008304,
     "end_time": "2024-05-25T05:29:33.558758",
     "exception": false,
     "start_time": "2024-05-25T05:29:33.550454",
     "status": "completed"
    },
    "tags": []
   },
   "source": [
    "# Load data, define custom dataset class and dataloaders"
   ]
  },
  {
   "cell_type": "code",
   "execution_count": 9,
   "id": "22387b38",
   "metadata": {
    "execution": {
     "iopub.execute_input": "2024-05-25T05:29:33.576023Z",
     "iopub.status.busy": "2024-05-25T05:29:33.575765Z",
     "iopub.status.idle": "2024-05-25T05:29:56.030069Z",
     "shell.execute_reply": "2024-05-25T05:29:56.029117Z"
    },
    "papermill": {
     "duration": 22.465526,
     "end_time": "2024-05-25T05:29:56.032392",
     "exception": false,
     "start_time": "2024-05-25T05:29:33.566866",
     "status": "completed"
    },
    "tags": []
   },
   "outputs": [
    {
     "name": "stdout",
     "output_type": "stream",
     "text": [
      "(724547, 16, 20) (72455, 16, 20) (108682, 16, 20)\n",
      "(724547, 4) (72455, 4) (108682, 4)\n"
     ]
    }
   ],
   "source": [
    "X_train = np.load('/kaggle/input/calabi-yau-cicy-4-folds/conf_Xtrain_80.npy')\n",
    "X_test = np.load('/kaggle/input/calabi-yau-cicy-4-folds/conf_Xtest_80.npy')\n",
    "X_valid = np.load('/kaggle/input/calabi-yau-cicy-4-folds/conf_Xvalid.npy')\n",
    "\n",
    "y_train = np.load('/kaggle/input/calabi-yau-cicy-4-folds/hodge_ytrain_80.npy')\n",
    "y_test= np.load('/kaggle/input/calabi-yau-cicy-4-folds/hodge_ytest_80.npy')\n",
    "y_valid = np.load('/kaggle/input/calabi-yau-cicy-4-folds/hodge_yvalid.npy')\n",
    "\n",
    "print(X_train.shape, X_valid.shape, X_test.shape)\n",
    "print(y_train.shape, y_valid.shape, y_test.shape)"
   ]
  },
  {
   "cell_type": "code",
   "execution_count": 10,
   "id": "9b351183",
   "metadata": {
    "execution": {
     "iopub.execute_input": "2024-05-25T05:29:56.050322Z",
     "iopub.status.busy": "2024-05-25T05:29:56.049778Z",
     "iopub.status.idle": "2024-05-25T05:29:56.513992Z",
     "shell.execute_reply": "2024-05-25T05:29:56.512723Z"
    },
    "papermill": {
     "duration": 0.475691,
     "end_time": "2024-05-25T05:29:56.516482",
     "exception": false,
     "start_time": "2024-05-25T05:29:56.040791",
     "status": "completed"
    },
    "tags": []
   },
   "outputs": [],
   "source": [
    "#Convert data to torch tensor with float32 precision \n",
    "#(needed to be compatible with the floating decision of the network parameters)\n",
    "X_train = torch.from_numpy(X_train.astype(np.float32))\n",
    "y_train = torch.from_numpy(y_train.astype(np.float32))\n",
    "\n",
    "X_valid = torch.from_numpy(X_valid.astype(np.float32)) \n",
    "y_valid = torch.from_numpy(y_valid.astype(np.float32)) \n",
    "\n",
    "X_test = torch.from_numpy(X_test.astype(np.float32)) \n",
    "y_test= torch.from_numpy(y_test.astype(np.float32)) "
   ]
  },
  {
   "cell_type": "code",
   "execution_count": 11,
   "id": "2593c8c1",
   "metadata": {
    "execution": {
     "iopub.execute_input": "2024-05-25T05:29:56.534635Z",
     "iopub.status.busy": "2024-05-25T05:29:56.534282Z",
     "iopub.status.idle": "2024-05-25T05:29:56.540517Z",
     "shell.execute_reply": "2024-05-25T05:29:56.539632Z"
    },
    "papermill": {
     "duration": 0.017378,
     "end_time": "2024-05-25T05:29:56.542563",
     "exception": false,
     "start_time": "2024-05-25T05:29:56.525185",
     "status": "completed"
    },
    "tags": []
   },
   "outputs": [],
   "source": [
    "class CICY4Dataset(torch.utils.data.Dataset):\n",
    "    def __init__(self, X, y):\n",
    "        self.X = X\n",
    "        self.y = y        \n",
    "    def __len__(self):\n",
    "        return len(self.X)      \n",
    "    def __getitem__(self, idx):\n",
    "        X0 = self.X[idx]\n",
    "        y0 = self.y[idx]  \n",
    "        return X0, y0\n",
    "        \n",
    "train_set = CICY4Dataset(X_train, y_train)\n",
    "val_set = CICY4Dataset(X_valid, y_valid)\n",
    "test_set = CICY4Dataset(X_test, y_test)"
   ]
  },
  {
   "cell_type": "code",
   "execution_count": 12,
   "id": "2e46ffce",
   "metadata": {
    "execution": {
     "iopub.execute_input": "2024-05-25T05:29:56.559742Z",
     "iopub.status.busy": "2024-05-25T05:29:56.559440Z",
     "iopub.status.idle": "2024-05-25T05:29:56.564938Z",
     "shell.execute_reply": "2024-05-25T05:29:56.564094Z"
    },
    "papermill": {
     "duration": 0.016285,
     "end_time": "2024-05-25T05:29:56.566916",
     "exception": false,
     "start_time": "2024-05-25T05:29:56.550631",
     "status": "completed"
    },
    "tags": []
   },
   "outputs": [],
   "source": [
    "from torch.utils.data import DataLoader\n",
    "\n",
    "train_loader = DataLoader(train_set, batch_size=128, shuffle=True)\n",
    "val_loader = DataLoader(val_set, batch_size=128, shuffle=True)\n",
    "test_loader = DataLoader(test_set, batch_size=128, shuffle=False)"
   ]
  },
  {
   "cell_type": "markdown",
   "id": "ace2c894",
   "metadata": {
    "papermill": {
     "duration": 0.00774,
     "end_time": "2024-05-25T05:29:56.582615",
     "exception": false,
     "start_time": "2024-05-25T05:29:56.574875",
     "status": "completed"
    },
    "tags": []
   },
   "source": [
    "# Utility functions"
   ]
  },
  {
   "cell_type": "code",
   "execution_count": 13,
   "id": "cdce34bc",
   "metadata": {
    "execution": {
     "iopub.execute_input": "2024-05-25T05:29:56.600295Z",
     "iopub.status.busy": "2024-05-25T05:29:56.599752Z",
     "iopub.status.idle": "2024-05-25T05:29:56.604094Z",
     "shell.execute_reply": "2024-05-25T05:29:56.603236Z"
    },
    "papermill": {
     "duration": 0.015086,
     "end_time": "2024-05-25T05:29:56.606008",
     "exception": false,
     "start_time": "2024-05-25T05:29:56.590922",
     "status": "completed"
    },
    "tags": []
   },
   "outputs": [],
   "source": [
    "if not os.path.exists('saved_models'):\n",
    "    os.makedirs('saved_models')"
   ]
  },
  {
   "cell_type": "code",
   "execution_count": 14,
   "id": "1a3c3aaa",
   "metadata": {
    "execution": {
     "iopub.execute_input": "2024-05-25T05:29:56.623133Z",
     "iopub.status.busy": "2024-05-25T05:29:56.622869Z",
     "iopub.status.idle": "2024-05-25T05:29:56.629202Z",
     "shell.execute_reply": "2024-05-25T05:29:56.628500Z"
    },
    "papermill": {
     "duration": 0.017165,
     "end_time": "2024-05-25T05:29:56.631076",
     "exception": false,
     "start_time": "2024-05-25T05:29:56.613911",
     "status": "completed"
    },
    "tags": []
   },
   "outputs": [],
   "source": [
    "def train_one_epoch(model, criterion, optimizer, train_loader, cnn = False):\n",
    "    model.train()\n",
    "    train_loss = []\n",
    "    for inputs, target in train_loader:\n",
    "        if cnn:\n",
    "            inputs = inputs.view(batch_size,1,16,20)\n",
    "        inputs, target = inputs.to(device), target.to(device)\n",
    "        optimizer.zero_grad()\n",
    "        out = model(inputs)\n",
    "        loss = criterion(out, target)\n",
    "        loss.backward()\n",
    "        optimizer.step()\n",
    "        train_loss.append(loss.item())\n",
    "    #average the train_loss list in for all batches in the train_gen\n",
    "    train_loss = np.mean(train_loss)    \n",
    "    return train_loss"
   ]
  },
  {
   "cell_type": "code",
   "execution_count": 15,
   "id": "fbd5941a",
   "metadata": {
    "execution": {
     "iopub.execute_input": "2024-05-25T05:29:56.648235Z",
     "iopub.status.busy": "2024-05-25T05:29:56.647969Z",
     "iopub.status.idle": "2024-05-25T05:29:56.653732Z",
     "shell.execute_reply": "2024-05-25T05:29:56.652864Z"
    },
    "papermill": {
     "duration": 0.016476,
     "end_time": "2024-05-25T05:29:56.655654",
     "exception": false,
     "start_time": "2024-05-25T05:29:56.639178",
     "status": "completed"
    },
    "tags": []
   },
   "outputs": [],
   "source": [
    "def validate_one_epoch(model, criterion, optimizer, val_loader, cnn = False):\n",
    "    model.eval()\n",
    "    test_loss = []\n",
    "    for inputs, target in val_loader:\n",
    "        if cnn:\n",
    "            inputs = inputs.view(batch_size,1,16,20)\n",
    "        inputs, target = inputs.to(device), target.to(device)\n",
    "        out = model(inputs)\n",
    "        loss = criterion(out, target)\n",
    "        test_loss.append(loss.item())\n",
    "    #average the test_loss list in for all batches in the test_gen\n",
    "    test_loss = np.mean(test_loss)\n",
    "    return test_loss"
   ]
  },
  {
   "cell_type": "code",
   "execution_count": 16,
   "id": "1abc365e",
   "metadata": {
    "execution": {
     "iopub.execute_input": "2024-05-25T05:29:56.672813Z",
     "iopub.status.busy": "2024-05-25T05:29:56.672516Z",
     "iopub.status.idle": "2024-05-25T05:29:56.683117Z",
     "shell.execute_reply": "2024-05-25T05:29:56.682280Z"
    },
    "papermill": {
     "duration": 0.02144,
     "end_time": "2024-05-25T05:29:56.685016",
     "exception": false,
     "start_time": "2024-05-25T05:29:56.663576",
     "status": "completed"
    },
    "tags": []
   },
   "outputs": [],
   "source": [
    "def batch_gd_scheduler(model, new_model_name, criterion, optimizer, train_loader, val_loader, scheduler,\n",
    "                         epochs, device, batch_size=128,  cnn = False):\n",
    "    train_losses = np.zeros(epochs)\n",
    "    test_losses = np.zeros(epochs)\n",
    "    patience = 0\n",
    "    best_loss = 1000\n",
    "    max_patience = 20\n",
    "    for i in range(epochs):\n",
    "        t0 = datetime.now()\n",
    "        train_loss = train_one_epoch(model, criterion, optimizer,train_loader)\n",
    "        test_loss = validate_one_epoch(model, criterion, optimizer,val_loader)\n",
    "        #Early stopping based on test loss\n",
    "        if i == 0:\n",
    "            best_loss = test_loss   \n",
    "            torch.save(model, f'/kaggle/working/saved_models/{new_model_name}.pt')\n",
    "            print(f'Model saved as {new_model_name} at epoch {i}')\n",
    "        else:\n",
    "            if test_loss < best_loss:\n",
    "                best_loss = test_loss\n",
    "                torch.save(model, f'/kaggle/working/saved_models/{new_model_name}.pt')\n",
    "                print(f'Model overwritten at epoch {i}, new best val loss {best_loss}')\n",
    "                patience = 0\n",
    "            else:\n",
    "                patience = patience +1\n",
    "                #print(f'No improvement, current patience level is {patience} at epoch {i}')\n",
    "        if patience > max_patience:\n",
    "            print(f'Max patience reached, training is terminated at epoch {i}')\n",
    "            break\n",
    "        #Apply scheduler after the train+validate parts\n",
    "        before_lr = optimizer.param_groups[0][\"lr\"]\n",
    "        scheduler.step(test_loss)\n",
    "        after_lr = optimizer.param_groups[0][\"lr\"]\n",
    "        train_losses[i] = train_loss\n",
    "        test_losses[i] = test_loss\n",
    "        #write the losses into a csv file\n",
    "        loss_dict = {'train_loss': train_losses, 'val_loss': test_losses}\n",
    "        dd = pd.DataFrame(loss_dict)\n",
    "        dd.to_csv(f'loss_dict_cnn_lstm_{M_size}-80pc.csv', index = False)\n",
    "        dt = datetime.now()-t0\n",
    "        if i%10==0:\n",
    "            print(f'Epoch: {i+1}/{epochs}, train loss: {train_loss: .3f}, val_loss: {test_loss: .3f}, duration: {dt}, learning rate: {before_lr, after_lr}')\n",
    "    return train_losses, test_losses"
   ]
  },
  {
   "cell_type": "code",
   "execution_count": 17,
   "id": "642209af",
   "metadata": {
    "execution": {
     "iopub.execute_input": "2024-05-25T05:29:56.702366Z",
     "iopub.status.busy": "2024-05-25T05:29:56.702100Z",
     "iopub.status.idle": "2024-05-25T05:29:56.708778Z",
     "shell.execute_reply": "2024-05-25T05:29:56.707918Z"
    },
    "papermill": {
     "duration": 0.017968,
     "end_time": "2024-05-25T05:29:56.711057",
     "exception": false,
     "start_time": "2024-05-25T05:29:56.693089",
     "status": "completed"
    },
    "tags": []
   },
   "outputs": [],
   "source": [
    "def train_from_scratch_or_load(load_model_weight,new_model_name, epochs, cnn = False):    \n",
    "    if load_model_weight==None:\n",
    "        criterion = nn.HuberLoss()\n",
    "        optimizer = torch.optim.AdamW(model.parameters(), lr=0.01)\n",
    "        scheduler = lr_scheduler.ReduceLROnPlateau(optimizer, 'min', factor=0.1, min_lr = 1e-8)\n",
    "        train_losses, test_losses=batch_gd_scheduler(model, new_model_name, criterion, \n",
    "                                                     optimizer,train_loader, val_loader,\n",
    "                                                      scheduler, epochs, \n",
    "                                                       device = device, cnn=cnn)\n",
    "        return train_losses, test_losses\n",
    "    else:\n",
    "        if torch.cuda.is_available():\n",
    "            trained_model = torch.load(load_model_weight)     \n",
    "        else:\n",
    "            trained_model = torch.load(load_model_weight, map_location=torch.device('cpu'))       \n",
    "        return trained_model"
   ]
  },
  {
   "cell_type": "code",
   "execution_count": 18,
   "id": "a8266c79",
   "metadata": {
    "execution": {
     "iopub.execute_input": "2024-05-25T05:29:56.728153Z",
     "iopub.status.busy": "2024-05-25T05:29:56.727887Z",
     "iopub.status.idle": "2024-05-25T05:29:56.734156Z",
     "shell.execute_reply": "2024-05-25T05:29:56.733267Z"
    },
    "papermill": {
     "duration": 0.017353,
     "end_time": "2024-05-25T05:29:56.736285",
     "exception": false,
     "start_time": "2024-05-25T05:29:56.718932",
     "status": "completed"
    },
    "tags": []
   },
   "outputs": [],
   "source": [
    "def load_and_retrain(load_model_weight, new_model_name, epochs, cnn=False):\n",
    "    trained_model = torch.load(load_model_weight) \n",
    "    print('Saved model loaded!')\n",
    "    criterion = nn.HuberLoss()\n",
    "    optimizer = torch.optim.AdamW(trained_model.parameters(),lr=0.01)\n",
    "    scheduler = lr_scheduler.ReduceLROnPlateau(optimizer, 'min', factor=0.1, min_lr = 1e-7)\n",
    "    trained_model.train()\n",
    "    print('Training starts!')\n",
    "    train_losses, test_losses=batch_gd_scheduler(trained_model,new_model_name, criterion, optimizer,\n",
    "                                                 train_loader, val_loader, \n",
    "                                                 scheduler, epochs, \n",
    "                                                 device = device, cnn=cnn)\n",
    "    return trained_model, train_losses, test_losses"
   ]
  },
  {
   "cell_type": "code",
   "execution_count": 19,
   "id": "b9118867",
   "metadata": {
    "execution": {
     "iopub.execute_input": "2024-05-25T05:29:56.753637Z",
     "iopub.status.busy": "2024-05-25T05:29:56.753395Z",
     "iopub.status.idle": "2024-05-25T05:29:56.758003Z",
     "shell.execute_reply": "2024-05-25T05:29:56.757137Z"
    },
    "papermill": {
     "duration": 0.015393,
     "end_time": "2024-05-25T05:29:56.760043",
     "exception": false,
     "start_time": "2024-05-25T05:29:56.744650",
     "status": "completed"
    },
    "tags": []
   },
   "outputs": [],
   "source": [
    "def plot_losses(train_losses, test_losses):\n",
    "    # Plot the train loss and test loss per iteration\n",
    "    plt.plot(train_losses, label='train loss')\n",
    "    plt.plot(test_losses, label='val loss')\n",
    "    plt.legend()\n",
    "    plt.show()"
   ]
  },
  {
   "cell_type": "code",
   "execution_count": 20,
   "id": "72d3bbdb",
   "metadata": {
    "execution": {
     "iopub.execute_input": "2024-05-25T05:29:56.777543Z",
     "iopub.status.busy": "2024-05-25T05:29:56.777303Z",
     "iopub.status.idle": "2024-05-25T05:29:56.789395Z",
     "shell.execute_reply": "2024-05-25T05:29:56.788514Z"
    },
    "papermill": {
     "duration": 0.022864,
     "end_time": "2024-05-25T05:29:56.791252",
     "exception": false,
     "start_time": "2024-05-25T05:29:56.768388",
     "status": "completed"
    },
    "tags": []
   },
   "outputs": [],
   "source": [
    "################## GET PREDICTIONS + ACCURACY #####################\n",
    "def get_pred_n_acc(models, device, dataloader, num_iter):\n",
    "    i = 0\n",
    "    ypreds =[]\n",
    "    targets = []\n",
    "    #The last batch might not have size 128\n",
    "    while i< num_iter:\n",
    "        for data, target in dataloader:\n",
    "            #this empty list is to hold all models' preds\n",
    "            ypred = []    \n",
    "            data= data.to(device)\n",
    "            data = data.to(torch.float32)\n",
    "            target = target.to(torch.float32)\n",
    "            #append the 'i^th' target\n",
    "            targets.append(target)\n",
    "            for model in models:\n",
    "                model.eval()\n",
    "                yp = model(data)\n",
    "                yp = yp.detach().cpu().numpy()\n",
    "                ypred.append(yp)\n",
    "            #take the mean of all models' predictions\n",
    "            ypred = np.array(ypred).mean(axis = 0)\n",
    "            ypred = np.round(ypred)\n",
    "            i+=1\n",
    "            #append ypred, targets inside the 'i' loop\n",
    "            # append the 'i^th' mean prediction\n",
    "            ypreds.append(ypred)   \n",
    "            if i == num_iter:\n",
    "                break \n",
    "     #Do not convert ypreds, targets to np.array at this point,\n",
    "    #since the last batch has a different size, causing an error !\n",
    "    #CALCULATING ACCURACY    \n",
    "    yp =  np.concatenate([ypreds[j] for j in range(len(ypreds))], axis = 0)\n",
    "    tgs =  np.concatenate([targets[j] for j in range(len(targets))], axis = 0)\n",
    "    h11_acc = ((yp[:,0] == tgs[:,0]).sum())/len(yp)\n",
    "    h21_acc = ((yp[:,1] == tgs[:,1]).sum())/len(yp)\n",
    "    h31_acc = ((yp[:,2] == tgs[:,2]).sum())/len(yp)\n",
    "    h22_acc = ((yp[:,3] == tgs[:,3]).sum())/len(yp)\n",
    "    acc = [h11_acc*100,h21_acc*100,h31_acc*100,h22_acc*100 ]\n",
    "    return  yp, tgs, acc\n"
   ]
  },
  {
   "cell_type": "markdown",
   "id": "872d5109",
   "metadata": {
    "papermill": {
     "duration": 0.007865,
     "end_time": "2024-05-25T05:29:56.807047",
     "exception": false,
     "start_time": "2024-05-25T05:29:56.799182",
     "status": "completed"
    },
    "tags": []
   },
   "source": [
    "# Load trained model and verify accuracies"
   ]
  },
  {
   "cell_type": "code",
   "execution_count": 21,
   "id": "9f430349",
   "metadata": {
    "execution": {
     "iopub.execute_input": "2024-05-25T05:29:56.824315Z",
     "iopub.status.busy": "2024-05-25T05:29:56.823613Z",
     "iopub.status.idle": "2024-05-25T09:59:46.611396Z",
     "shell.execute_reply": "2024-05-25T09:59:46.610338Z"
    },
    "papermill": {
     "duration": 16189.815645,
     "end_time": "2024-05-25T09:59:46.630623",
     "exception": false,
     "start_time": "2024-05-25T05:29:56.814978",
     "status": "completed"
    },
    "tags": []
   },
   "outputs": [
    {
     "name": "stdout",
     "output_type": "stream",
     "text": [
      "Model saved as CNN-LSTM-400-s80pc at epoch 0\n",
      "Epoch: 1/550, train loss:  9.989, val_loss:  9.734, duration: 0:01:04.465732, learning rate: (0.01, 0.01)\n",
      "Model overwritten at epoch 1, new best val loss 9.714708493079668\n",
      "Model overwritten at epoch 2, new best val loss 9.699647333256152\n",
      "Model overwritten at epoch 3, new best val loss 8.54970921830946\n",
      "Model overwritten at epoch 4, new best val loss 8.350729119840754\n",
      "Model overwritten at epoch 8, new best val loss 8.340982675131876\n",
      "Epoch: 11/550, train loss:  8.413, val_loss:  8.421, duration: 0:01:03.562392, learning rate: (0.01, 0.01)\n",
      "Model overwritten at epoch 12, new best val loss 8.334415129673333\n",
      "Epoch: 21/550, train loss:  8.446, val_loss:  8.487, duration: 0:01:03.409915, learning rate: (0.01, 0.01)\n",
      "Model overwritten at epoch 24, new best val loss 7.763446935690689\n",
      "Model overwritten at epoch 25, new best val loss 7.302371858499248\n",
      "Model overwritten at epoch 28, new best val loss 7.08698347132042\n",
      "Model overwritten at epoch 30, new best val loss 7.085791058010525\n",
      "Epoch: 31/550, train loss:  6.982, val_loss:  7.086, duration: 0:01:04.775366, learning rate: (0.001, 0.001)\n",
      "Model overwritten at epoch 31, new best val loss 6.805671407642398\n",
      "Model overwritten at epoch 32, new best val loss 6.680623582641494\n",
      "Model overwritten at epoch 33, new best val loss 6.620142687775681\n",
      "Model overwritten at epoch 35, new best val loss 6.498715376307304\n",
      "Model overwritten at epoch 36, new best val loss 6.454578403022134\n",
      "Epoch: 41/550, train loss:  6.564, val_loss:  6.648, duration: 0:01:03.642448, learning rate: (0.001, 0.001)\n",
      "Model overwritten at epoch 41, new best val loss 6.0955835557698785\n",
      "Model overwritten at epoch 42, new best val loss 5.754887522423289\n",
      "Model overwritten at epoch 43, new best val loss 5.455723747795011\n",
      "Model overwritten at epoch 44, new best val loss 5.09211748701765\n",
      "Model overwritten at epoch 45, new best val loss 4.150192829246453\n",
      "Model overwritten at epoch 46, new best val loss 3.7565686933998497\n",
      "Model overwritten at epoch 47, new best val loss 3.194197087481329\n",
      "Model overwritten at epoch 48, new best val loss 2.922544785067308\n",
      "Model overwritten at epoch 49, new best val loss 2.7005059464688443\n",
      "Model overwritten at epoch 50, new best val loss 2.4569133839699746\n",
      "Epoch: 51/550, train loss:  2.552, val_loss:  2.457, duration: 0:01:03.375867, learning rate: (0.001, 0.001)\n",
      "Model overwritten at epoch 51, new best val loss 2.274007221168101\n",
      "Model overwritten at epoch 52, new best val loss 2.096740792457809\n",
      "Model overwritten at epoch 53, new best val loss 1.9563600686912603\n",
      "Model overwritten at epoch 55, new best val loss 1.8642505747931344\n",
      "Model overwritten at epoch 56, new best val loss 1.78079640570982\n",
      "Model overwritten at epoch 57, new best val loss 1.715677141722758\n",
      "Model overwritten at epoch 58, new best val loss 1.621461612417164\n",
      "Model overwritten at epoch 59, new best val loss 1.5944841950869013\n",
      "Model overwritten at epoch 60, new best val loss 1.4888591150337636\n",
      "Epoch: 61/550, train loss:  1.505, val_loss:  1.489, duration: 0:01:03.420246, learning rate: (0.001, 0.001)\n",
      "Model overwritten at epoch 61, new best val loss 1.4496241227659599\n",
      "Model overwritten at epoch 63, new best val loss 1.3359289132518533\n",
      "Model overwritten at epoch 65, new best val loss 1.2029998003910878\n",
      "Model overwritten at epoch 67, new best val loss 1.1771219951976124\n",
      "Model overwritten at epoch 69, new best val loss 1.1334183432648002\n",
      "Epoch: 71/550, train loss:  1.091, val_loss:  1.284, duration: 0:01:03.400550, learning rate: (0.001, 0.001)\n",
      "Model overwritten at epoch 71, new best val loss 1.1190712217510903\n",
      "Model overwritten at epoch 73, new best val loss 1.1019255923636166\n",
      "Model overwritten at epoch 74, new best val loss 1.0738151801957025\n",
      "Model overwritten at epoch 76, new best val loss 0.9202972416104043\n",
      "Model overwritten at epoch 78, new best val loss 0.8736601623277815\n",
      "Epoch: 81/550, train loss:  0.844, val_loss:  0.895, duration: 0:01:03.588036, learning rate: (0.001, 0.001)\n",
      "Model overwritten at epoch 82, new best val loss 0.8575452621861951\n",
      "Model overwritten at epoch 83, new best val loss 0.8283866644956868\n",
      "Model overwritten at epoch 86, new best val loss 0.7917296142700068\n",
      "Model overwritten at epoch 87, new best val loss 0.7436602285930088\n",
      "Model overwritten at epoch 90, new best val loss 0.7322187814762984\n",
      "Epoch: 91/550, train loss:  0.665, val_loss:  0.732, duration: 0:01:03.415210, learning rate: (0.001, 0.001)\n",
      "Model overwritten at epoch 93, new best val loss 0.686868333101693\n",
      "Model overwritten at epoch 94, new best val loss 0.6379655257944917\n",
      "Model overwritten at epoch 99, new best val loss 0.6359819324664128\n",
      "Model overwritten at epoch 100, new best val loss 0.5759453019767842\n",
      "Epoch: 101/550, train loss:  0.560, val_loss:  0.576, duration: 0:01:03.439241, learning rate: (0.001, 0.001)\n",
      "Model overwritten at epoch 105, new best val loss 0.5531338003367133\n",
      "Model overwritten at epoch 106, new best val loss 0.5361018254695956\n",
      "Model overwritten at epoch 108, new best val loss 0.521230055856957\n",
      "Epoch: 111/550, train loss:  0.477, val_loss:  0.586, duration: 0:01:03.372057, learning rate: (0.001, 0.001)\n",
      "Model overwritten at epoch 114, new best val loss 0.4656879118458094\n",
      "Epoch: 121/550, train loss:  0.403, val_loss:  0.506, duration: 0:01:03.282301, learning rate: (0.001, 0.001)\n",
      "Model overwritten at epoch 121, new best val loss 0.44125716141186905\n",
      "Model overwritten at epoch 122, new best val loss 0.4243727331123655\n",
      "Model overwritten at epoch 130, new best val loss 0.40654010192952666\n",
      "Epoch: 131/550, train loss:  0.368, val_loss:  0.407, duration: 0:01:03.358946, learning rate: (0.001, 0.001)\n",
      "Model overwritten at epoch 133, new best val loss 0.39808929426434597\n",
      "Model overwritten at epoch 135, new best val loss 0.37286383951677426\n",
      "Model overwritten at epoch 136, new best val loss 0.3631568624912326\n",
      "Model overwritten at epoch 137, new best val loss 0.3550240575899313\n",
      "Model overwritten at epoch 139, new best val loss 0.34009929818661333\n",
      "Epoch: 141/550, train loss:  0.326, val_loss:  0.392, duration: 0:01:03.381549, learning rate: (0.001, 0.001)\n",
      "Model overwritten at epoch 144, new best val loss 0.3394382316126395\n",
      "Model overwritten at epoch 149, new best val loss 0.3020942181585327\n",
      "Epoch: 151/550, train loss:  0.291, val_loss:  0.318, duration: 0:01:03.670179, learning rate: (0.001, 0.001)\n",
      "Model overwritten at epoch 159, new best val loss 0.3003035776934716\n",
      "Epoch: 161/550, train loss:  0.288, val_loss:  0.347, duration: 0:01:03.234437, learning rate: (0.001, 0.001)\n",
      "Epoch: 171/550, train loss:  0.254, val_loss:  0.388, duration: 0:01:03.923774, learning rate: (0.001, 0.0001)\n",
      "Model overwritten at epoch 171, new best val loss 0.15635281985845725\n",
      "Model overwritten at epoch 172, new best val loss 0.13708017244475124\n",
      "Model overwritten at epoch 173, new best val loss 0.13013917833855754\n",
      "Model overwritten at epoch 174, new best val loss 0.12228260384429068\n",
      "Model overwritten at epoch 175, new best val loss 0.1179318857938544\n",
      "Model overwritten at epoch 176, new best val loss 0.11431000256217766\n",
      "Model overwritten at epoch 177, new best val loss 0.11193369622662584\n",
      "Model overwritten at epoch 178, new best val loss 0.10978822497490012\n",
      "Model overwritten at epoch 179, new best val loss 0.10778619281412144\n",
      "Model overwritten at epoch 180, new best val loss 0.10535102308033005\n",
      "Epoch: 181/550, train loss:  0.038, val_loss:  0.105, duration: 0:01:03.819339, learning rate: (0.0001, 0.0001)\n",
      "Model overwritten at epoch 183, new best val loss 0.10248877960906037\n",
      "Model overwritten at epoch 184, new best val loss 0.09953169556206497\n",
      "Model overwritten at epoch 186, new best val loss 0.09784715842764424\n",
      "Model overwritten at epoch 188, new best val loss 0.09695222097690459\n",
      "Model overwritten at epoch 189, new best val loss 0.09667041693441242\n",
      "Model overwritten at epoch 190, new best val loss 0.0964617997513036\n",
      "Epoch: 191/550, train loss:  0.026, val_loss:  0.096, duration: 0:01:03.277023, learning rate: (0.0001, 0.0001)\n",
      "Model overwritten at epoch 193, new best val loss 0.09552934331198533\n",
      "Model overwritten at epoch 195, new best val loss 0.09421044811803513\n",
      "Model overwritten at epoch 199, new best val loss 0.09254884770110486\n",
      "Epoch: 201/550, train loss:  0.021, val_loss:  0.095, duration: 0:01:03.324209, learning rate: (0.0001, 0.0001)\n",
      "Model overwritten at epoch 208, new best val loss 0.09176776707632306\n",
      "Model overwritten at epoch 210, new best val loss 0.09142599947014708\n",
      "Epoch: 211/550, train loss:  0.018, val_loss:  0.091, duration: 0:01:03.299130, learning rate: (0.0001, 0.0001)\n",
      "Model overwritten at epoch 215, new best val loss 0.09119418836683298\n",
      "Model overwritten at epoch 218, new best val loss 0.0900549629606254\n",
      "Epoch: 221/550, train loss:  0.017, val_loss:  0.093, duration: 0:01:03.304204, learning rate: (0.0001, 0.0001)\n",
      "Model overwritten at epoch 230, new best val loss 0.08531502170945687\n",
      "Epoch: 231/550, train loss:  0.011, val_loss:  0.085, duration: 0:01:03.342582, learning rate: (1e-05, 1e-05)\n",
      "Model overwritten at epoch 232, new best val loss 0.0846537112404561\n",
      "Model overwritten at epoch 233, new best val loss 0.08440147173086697\n",
      "Epoch: 241/550, train loss:  0.006, val_loss:  0.085, duration: 0:01:03.294473, learning rate: (1e-05, 1e-05)\n",
      "Epoch: 251/550, train loss:  0.005, val_loss:  0.085, duration: 0:01:03.393022, learning rate: (1.0000000000000002e-06, 1.0000000000000002e-06)\n",
      "Max patience reached, training is terminated at epoch 254\n"
     ]
    }
   ],
   "source": [
    "#load_model_weight = '/kaggle/input/calabi-yau-cicy-4-folds/trained_models/CNN-LSTM-384.pt'\n",
    "load_model_weight = None\n",
    "epochs = 550\n",
    "new_model_name = 'CNN-LSTM-400-s80pc'\n",
    "if load_model_weight is None:\n",
    "    train_losses, test_losses=train_from_scratch_or_load(load_model_weight,new_model_name,  epochs)\n",
    "else:\n",
    "    model, train_losses, test_losses=load_and_retrain(load_model_weight, new_model_name, epochs)"
   ]
  },
  {
   "cell_type": "code",
   "execution_count": 22,
   "id": "d1d57de8",
   "metadata": {
    "execution": {
     "iopub.execute_input": "2024-05-25T09:59:46.666244Z",
     "iopub.status.busy": "2024-05-25T09:59:46.665922Z",
     "iopub.status.idle": "2024-05-25T09:59:46.945730Z",
     "shell.execute_reply": "2024-05-25T09:59:46.944855Z"
    },
    "papermill": {
     "duration": 0.299518,
     "end_time": "2024-05-25T09:59:46.947885",
     "exception": false,
     "start_time": "2024-05-25T09:59:46.648367",
     "status": "completed"
    },
    "tags": []
   },
   "outputs": [
    {
     "data": {
      "image/png": "[encoded data removed]",
      "text/plain": [
       "<Figure size 640x480 with 1 Axes>"
      ]
     },
     "metadata": {},
     "output_type": "display_data"
    }
   ],
   "source": [
    "plot_losses(train_losses, test_losses)"
   ]
  },
  {
   "cell_type": "markdown",
   "id": "58331309",
   "metadata": {
    "papermill": {
     "duration": 0.016657,
     "end_time": "2024-05-25T09:59:46.981896",
     "exception": false,
     "start_time": "2024-05-25T09:59:46.965239",
     "status": "completed"
    },
    "tags": []
   },
   "source": [
    "# Train, validation, test accuracies"
   ]
  },
  {
   "cell_type": "code",
   "execution_count": 23,
   "id": "13f0a793",
   "metadata": {
    "execution": {
     "iopub.execute_input": "2024-05-25T09:59:47.016836Z",
     "iopub.status.busy": "2024-05-25T09:59:47.016495Z",
     "iopub.status.idle": "2024-05-25T10:00:16.106267Z",
     "shell.execute_reply": "2024-05-25T10:00:16.105309Z"
    },
    "papermill": {
     "duration": 29.10989,
     "end_time": "2024-05-25T10:00:16.108355",
     "exception": false,
     "start_time": "2024-05-25T09:59:46.998465",
     "status": "completed"
    },
    "tags": []
   },
   "outputs": [
    {
     "name": "stdout",
     "output_type": "stream",
     "text": [
      "Train data, target shapes: ((724547, 4), (724547, 4)),\n",
      " train accuracies [99.98426603105113, 99.81008823444166, 99.93540791694673, 99.40155711085686]\n",
      "Validation data, target shapes: ((72455, 4), (72455, 4)),\n",
      " validation accuracies [99.75156993996274, 97.98909668069837, 95.13353115727003, 79.68118142295218]\n"
     ]
    }
   ],
   "source": [
    "#Train accuracy\n",
    "yt, tgt, acct = get_pred_n_acc([model], device, train_loader, num_iter = len(train_loader))\n",
    "#validation accuracy\n",
    "yv, tgv, accv = get_pred_n_acc([model], device, val_loader, num_iter = len(val_loader))\n",
    "print(f'Train data, target shapes: {yt.shape, tgt.shape},\\n train accuracies {acct}')\n",
    "print(f'Validation data, target shapes: {yv.shape, tgv.shape},\\n validation accuracies {accv}')"
   ]
  },
  {
   "cell_type": "code",
   "execution_count": 24,
   "id": "3e261c77",
   "metadata": {
    "execution": {
     "iopub.execute_input": "2024-05-25T10:00:16.144108Z",
     "iopub.status.busy": "2024-05-25T10:00:16.143811Z",
     "iopub.status.idle": "2024-05-25T10:00:19.955884Z",
     "shell.execute_reply": "2024-05-25T10:00:19.954955Z"
    },
    "papermill": {
     "duration": 3.83213,
     "end_time": "2024-05-25T10:00:19.958037",
     "exception": false,
     "start_time": "2024-05-25T10:00:16.125907",
     "status": "completed"
    },
    "tags": []
   },
   "outputs": [
    {
     "name": "stdout",
     "output_type": "stream",
     "text": [
      "Test data, target shapes: ((108682, 4), (108682, 4)),\n",
      " test accuracies [99.72488544561196, 97.9481422866712, 95.05989952338012, 79.59367696582692]\n"
     ]
    }
   ],
   "source": [
    "#Test accuracy\n",
    "yts, tgts, accts = get_pred_n_acc([model], device, test_loader, num_iter = len(test_loader))\n",
    "print(f'Test data, target shapes: {yts.shape, tgts.shape},\\n test accuracies {accts}')"
   ]
  }
 ],
 "metadata": {
  "kaggle": {
   "accelerator": "gpu",
   "dataSources": [
    {
     "datasetId": 4575883,
     "sourceId": 8483482,
     "sourceType": "datasetVersion"
    }
   ],
   "dockerImageVersionId": 30683,
   "isGpuEnabled": true,
   "isInternetEnabled": true,
   "language": "python",
   "sourceType": "notebook"
  },
  "kernelspec": {
   "display_name": "Python 3",
   "language": "python",
   "name": "python3"
  },
  "language_info": {
   "codemirror_mode": {
    "name": "ipython",
    "version": 3
   },
   "file_extension": ".py",
   "mimetype": "text/x-python",
   "name": "python",
   "nbconvert_exporter": "python",
   "pygments_lexer": "ipython3",
   "version": "3.10.13"
  },
  "papermill": {
   "default_parameters": {},
   "duration": 16257.962849,
   "end_time": "2024-05-25T10:00:22.560136",
   "environment_variables": {},
   "exception": null,
   "input_path": "__notebook__.ipynb",
   "output_path": "__notebook__.ipynb",
   "parameters": {},
   "start_time": "2024-05-25T05:29:24.597287",
   "version": "2.5.0"
  }
 },
 "nbformat": 4,
 "nbformat_minor": 5
}
