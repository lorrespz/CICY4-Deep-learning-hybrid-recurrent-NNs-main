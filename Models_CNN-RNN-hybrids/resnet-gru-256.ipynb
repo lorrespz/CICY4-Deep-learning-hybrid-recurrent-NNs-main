{
 "cells": [
  {
   "cell_type": "markdown",
   "id": "920cc151",
   "metadata": {
    "papermill": {
     "duration": 0.009149,
     "end_time": "2024-05-12T16:36:03.944121",
     "exception": false,
     "start_time": "2024-05-12T16:36:03.934972",
     "status": "completed"
    },
    "tags": []
   },
   "source": [
    "# ResNet-GRU-256"
   ]
  },
  {
   "cell_type": "code",
   "execution_count": 1,
   "id": "64820527",
   "metadata": {
    "_cell_guid": "b1076dfc-b9ad-4769-8c92-a6c4dae69d19",
    "_uuid": "8f2839f25d086af736a60e9eeb907d3b93b6e0e5",
    "execution": {
     "iopub.execute_input": "2024-05-12T16:36:03.962867Z",
     "iopub.status.busy": "2024-05-12T16:36:03.962506Z",
     "iopub.status.idle": "2024-05-12T16:36:09.692342Z",
     "shell.execute_reply": "2024-05-12T16:36:09.691453Z"
    },
    "papermill": {
     "duration": 5.741907,
     "end_time": "2024-05-12T16:36:09.694762",
     "exception": false,
     "start_time": "2024-05-12T16:36:03.952855",
     "status": "completed"
    },
    "tags": []
   },
   "outputs": [],
   "source": [
    "import numpy as np\n",
    "import pandas as pd\n",
    "import random\n",
    "import os as os\n",
    "import matplotlib.pyplot as plt\n",
    "import seaborn as sns\n",
    "from datetime import datetime\n",
    "sns.set_style(\"darkgrid\")\n",
    "\n",
    "import torch\n",
    "import torch.nn as nn\n",
    "import torch.nn.functional as F\n",
    "import torch.optim.lr_scheduler as lr_scheduler"
   ]
  },
  {
   "cell_type": "code",
   "execution_count": 2,
   "id": "0086366d",
   "metadata": {
    "execution": {
     "iopub.execute_input": "2024-05-12T16:36:09.714899Z",
     "iopub.status.busy": "2024-05-12T16:36:09.713956Z",
     "iopub.status.idle": "2024-05-12T16:36:09.768488Z",
     "shell.execute_reply": "2024-05-12T16:36:09.767592Z"
    },
    "papermill": {
     "duration": 0.067066,
     "end_time": "2024-05-12T16:36:09.770855",
     "exception": false,
     "start_time": "2024-05-12T16:36:09.703789",
     "status": "completed"
    },
    "tags": []
   },
   "outputs": [
    {
     "name": "stdout",
     "output_type": "stream",
     "text": [
      "cuda:0\n"
     ]
    }
   ],
   "source": [
    "device = torch.device(\"cuda:0\" if torch.cuda.is_available() else \"cpu\")\n",
    "print(device)"
   ]
  },
  {
   "cell_type": "code",
   "execution_count": 3,
   "id": "1f5c8a9f",
   "metadata": {
    "execution": {
     "iopub.execute_input": "2024-05-12T16:36:09.790668Z",
     "iopub.status.busy": "2024-05-12T16:36:09.789572Z",
     "iopub.status.idle": "2024-05-12T16:36:09.798065Z",
     "shell.execute_reply": "2024-05-12T16:36:09.797397Z"
    },
    "papermill": {
     "duration": 0.020098,
     "end_time": "2024-05-12T16:36:09.799966",
     "exception": false,
     "start_time": "2024-05-12T16:36:09.779868",
     "status": "completed"
    },
    "tags": []
   },
   "outputs": [],
   "source": [
    "seed = 42\n",
    "\n",
    "def seed_everything(seed):\n",
    "    random.seed(seed)\n",
    "    os.environ['PYTHONHASHSEED'] = str(seed)\n",
    "    np.random.seed(seed)\n",
    "    torch.manual_seed(seed)\n",
    "    torch.cuda.manual_seed(seed)\n",
    "    torch.cuda.manual_seed_all(seed)\n",
    "    torch.backends.cudnn.deterministic = True\n",
    "\n",
    "seed_everything(seed)"
   ]
  },
  {
   "cell_type": "markdown",
   "id": "c37292e3",
   "metadata": {
    "papermill": {
     "duration": 0.008647,
     "end_time": "2024-05-12T16:36:09.817337",
     "exception": false,
     "start_time": "2024-05-12T16:36:09.808690",
     "status": "completed"
    },
    "tags": []
   },
   "source": [
    "# ResNet-GRU architecture"
   ]
  },
  {
   "cell_type": "code",
   "execution_count": 4,
   "id": "6fa1e329",
   "metadata": {
    "execution": {
     "iopub.execute_input": "2024-05-12T16:36:09.836742Z",
     "iopub.status.busy": "2024-05-12T16:36:09.836405Z",
     "iopub.status.idle": "2024-05-12T16:36:09.846333Z",
     "shell.execute_reply": "2024-05-12T16:36:09.845677Z"
    },
    "papermill": {
     "duration": 0.022286,
     "end_time": "2024-05-12T16:36:09.848147",
     "exception": false,
     "start_time": "2024-05-12T16:36:09.825861",
     "status": "completed"
    },
    "tags": []
   },
   "outputs": [],
   "source": [
    "# CNN ###############################\n",
    "class ResNet_block(nn.Module):    \n",
    "    def __init__(self, filters, kernels):\n",
    "        super().__init__()\n",
    "        f1, f2, f3 = filters\n",
    "        k1, k2, k3 = kernels\n",
    "        self.conv1 = nn.Conv2d(1,f1, k1, 1)\n",
    "        self.bn1 = nn.BatchNorm2d(f1)\n",
    "        self.conv2 = nn.Conv2d(f1,f2, k2, 1)\n",
    "        self.bn2 = nn.BatchNorm2d(f2)\n",
    "        self.conv3 = nn.Conv2d(f2,f3, k3, 1)\n",
    "        self.maxpool = nn.MaxPool2d(2,2)\n",
    "        self.flat = nn.Flatten()\n",
    "        self.relu = nn.ReLU()\n",
    "        #this layer is to get the identity to have\n",
    "        #the same shape as the other branch, bias = False\n",
    "        self.fc0 = nn.Linear(320,256, bias = False)\n",
    "        #convolution branch/main branch\n",
    "        self.conv_total = nn.Sequential(\n",
    "            self.conv1,\n",
    "            self.maxpool,\n",
    "            #self.bn1,\n",
    "            self.relu,\n",
    "            self.conv2,\n",
    "            self.maxpool,\n",
    "            #self.bn2,\n",
    "            self.relu,\n",
    "            self.conv3,\n",
    "            self.flat\n",
    "        )\n",
    "        #shortcut branch\n",
    "        self.shortcut = nn.Sequential(self.flat, self.fc0)\n",
    "\n",
    "    def forward(self,x):\n",
    "        #x_i and x must have the same shape\n",
    "        x_i = self.shortcut(x)\n",
    "        x = self.conv_total(x)\n",
    "        xt = x+ x_i\n",
    "        #xt = torch.cat([x, x_i], dim = 1) \n",
    "        return xt"
   ]
  },
  {
   "cell_type": "code",
   "execution_count": 5,
   "id": "8fe442e5",
   "metadata": {
    "execution": {
     "iopub.execute_input": "2024-05-12T16:36:09.866366Z",
     "iopub.status.busy": "2024-05-12T16:36:09.866102Z",
     "iopub.status.idle": "2024-05-12T16:36:09.873371Z",
     "shell.execute_reply": "2024-05-12T16:36:09.872515Z"
    },
    "papermill": {
     "duration": 0.018481,
     "end_time": "2024-05-12T16:36:09.875326",
     "exception": false,
     "start_time": "2024-05-12T16:36:09.856845",
     "status": "completed"
    },
    "tags": []
   },
   "outputs": [],
   "source": [
    "class RNN_block(nn.Module):\n",
    "    def __init__(self, n_inputs, n_hidden, n_rnnlayers, n_outputs):\n",
    "        super(RNN_block,self).__init__()\n",
    "        self.D = n_inputs\n",
    "        self.M = n_hidden\n",
    "        self.K = n_outputs\n",
    "        self.L = n_rnnlayers        \n",
    "        #self.lstm = nn.LSTM(input_size = self.D,\n",
    "        #                   hidden_size = self.M,\n",
    "        #                   num_layers = self.L,\n",
    "        #                   batch_first = True)    \n",
    "        self.gru = nn.GRU(input_size = self.D,\n",
    "                           hidden_size = self.M,\n",
    "                           num_layers = self.L,\n",
    "                           batch_first = True,\n",
    "                          bidirectional=False)\n",
    "        #self.fc1 = nn.Linear(self.M, 128)\n",
    "        #self.fc2 = nn.Linear(128, self.K)\n",
    "    def forward(self, X):\n",
    "        #input X is NxTxD\n",
    "        #initial hidden state h\n",
    "        #for bidirectional: Need to multiply L by 2\n",
    "        #h0 = torch.zeros(self.L*2, X.size(0), self.M).to(device)\n",
    "        #non-bidirectional\n",
    "        h0 = torch.zeros(self.L, X.size(0), self.M).to(device)\n",
    "        #output is NxTx2M for birdir, NxTxM for non-bidir\n",
    "        out, _ = self.gru(X, h0)   \n",
    "        #we only want h(T) at the final time step\n",
    "        # output is now of shape (N, M)\n",
    "        out = out[:, -1, :]\n",
    "        return out"
   ]
  },
  {
   "cell_type": "code",
   "execution_count": 6,
   "id": "b2f07923",
   "metadata": {
    "execution": {
     "iopub.execute_input": "2024-05-12T16:36:09.893459Z",
     "iopub.status.busy": "2024-05-12T16:36:09.893196Z",
     "iopub.status.idle": "2024-05-12T16:36:09.900007Z",
     "shell.execute_reply": "2024-05-12T16:36:09.899202Z"
    },
    "papermill": {
     "duration": 0.018101,
     "end_time": "2024-05-12T16:36:09.901965",
     "exception": false,
     "start_time": "2024-05-12T16:36:09.883864",
     "status": "completed"
    },
    "tags": []
   },
   "outputs": [],
   "source": [
    "class ResNet_RNN_hybrid(nn.Module):\n",
    "    def __init__(self, resnet_block, rnn_block, feat_vec_size):\n",
    "        super(ResNet_RNN_hybrid, self).__init__()\n",
    "        self.resnet_block = resnet_block\n",
    "        self.rnn_block = rnn_block\n",
    "        self.feat_vec_size = feat_vec_size\n",
    "        self.fc1 = nn.Linear(self.feat_vec_size, 1024)\n",
    "        self.fc2 = nn.Linear(1024, 4)\n",
    "        \n",
    "    def forward(self, x):\n",
    "        #output of cnn block is (N,848)\n",
    "        x1 = x.view(-1,1, 16,20)\n",
    "        x1 = self.resnet_block(x1)\n",
    "        #output of rnn block is (N,M )\n",
    "        x2 = self.rnn_block(x)\n",
    "        #concatenate the 2 outputs to produce a feat vec (N, M+208)\n",
    "        xx = torch.cat([x1, x2], dim = 1)\n",
    "        # pass through linear layers\n",
    "        xx = self.fc1(xx)\n",
    "        #final output is 4\n",
    "        xx = self.fc2(xx)      \n",
    "        return xx"
   ]
  },
  {
   "cell_type": "code",
   "execution_count": 7,
   "id": "bed7075e",
   "metadata": {
    "execution": {
     "iopub.execute_input": "2024-05-12T16:36:09.920174Z",
     "iopub.status.busy": "2024-05-12T16:36:09.919912Z",
     "iopub.status.idle": "2024-05-12T16:36:10.251220Z",
     "shell.execute_reply": "2024-05-12T16:36:10.250263Z"
    },
    "papermill": {
     "duration": 0.342786,
     "end_time": "2024-05-12T16:36:10.253305",
     "exception": false,
     "start_time": "2024-05-12T16:36:09.910519",
     "status": "completed"
    },
    "tags": []
   },
   "outputs": [
    {
     "data": {
      "text/plain": [
       "ResNet_RNN_hybrid(\n",
       "  (resnet_block): ResNet_block(\n",
       "    (conv1): Conv2d(1, 128, kernel_size=(4, 4), stride=(1, 1))\n",
       "    (bn1): BatchNorm2d(128, eps=1e-05, momentum=0.1, affine=True, track_running_stats=True)\n",
       "    (conv2): Conv2d(128, 64, kernel_size=(3, 3), stride=(1, 1))\n",
       "    (bn2): BatchNorm2d(64, eps=1e-05, momentum=0.1, affine=True, track_running_stats=True)\n",
       "    (conv3): Conv2d(64, 128, kernel_size=(2, 2), stride=(1, 1))\n",
       "    (maxpool): MaxPool2d(kernel_size=2, stride=2, padding=0, dilation=1, ceil_mode=False)\n",
       "    (flat): Flatten(start_dim=1, end_dim=-1)\n",
       "    (relu): ReLU()\n",
       "    (fc0): Linear(in_features=320, out_features=256, bias=False)\n",
       "    (conv_total): Sequential(\n",
       "      (0): Conv2d(1, 128, kernel_size=(4, 4), stride=(1, 1))\n",
       "      (1): MaxPool2d(kernel_size=2, stride=2, padding=0, dilation=1, ceil_mode=False)\n",
       "      (2): ReLU()\n",
       "      (3): Conv2d(128, 64, kernel_size=(3, 3), stride=(1, 1))\n",
       "      (4): MaxPool2d(kernel_size=2, stride=2, padding=0, dilation=1, ceil_mode=False)\n",
       "      (5): ReLU()\n",
       "      (6): Conv2d(64, 128, kernel_size=(2, 2), stride=(1, 1))\n",
       "      (7): Flatten(start_dim=1, end_dim=-1)\n",
       "    )\n",
       "    (shortcut): Sequential(\n",
       "      (0): Flatten(start_dim=1, end_dim=-1)\n",
       "      (1): Linear(in_features=320, out_features=256, bias=False)\n",
       "    )\n",
       "  )\n",
       "  (rnn_block): RNN_block(\n",
       "    (gru): GRU(20, 256, num_layers=2, batch_first=True)\n",
       "  )\n",
       "  (fc1): Linear(in_features=512, out_features=1024, bias=True)\n",
       "  (fc2): Linear(in_features=1024, out_features=4, bias=True)\n",
       ")"
      ]
     },
     "execution_count": 7,
     "metadata": {},
     "output_type": "execute_result"
    }
   ],
   "source": [
    "resnet_block = ResNet_block([128,64,128], [4,3,2])\n",
    "resnet_block.to(device)\n",
    "\n",
    "gru_block = RNN_block(20, 256, 2, 4)\n",
    "#gru_block = RNN_block(20, 400, 2, 4)\n",
    "gru_block.to(device)\n",
    "\n",
    "model = ResNet_RNN_hybrid(resnet_block, gru_block, 256+256)\n",
    "model.to(device)"
   ]
  },
  {
   "cell_type": "code",
   "execution_count": 8,
   "id": "c1e4bf40",
   "metadata": {
    "execution": {
     "iopub.execute_input": "2024-05-12T16:36:10.272561Z",
     "iopub.status.busy": "2024-05-12T16:36:10.272014Z",
     "iopub.status.idle": "2024-05-12T16:36:10.277591Z",
     "shell.execute_reply": "2024-05-12T16:36:10.276431Z"
    },
    "papermill": {
     "duration": 0.017183,
     "end_time": "2024-05-12T16:36:10.279496",
     "exception": false,
     "start_time": "2024-05-12T16:36:10.262313",
     "status": "completed"
    },
    "tags": []
   },
   "outputs": [
    {
     "name": "stdout",
     "output_type": "stream",
     "text": [
      "1328836\n"
     ]
    }
   ],
   "source": [
    "#count the number of parameters in the model\n",
    "params = [p.numel() for p in model.parameters() if p.requires_grad]\n",
    "print(sum(params))"
   ]
  },
  {
   "cell_type": "markdown",
   "id": "469e5fbd",
   "metadata": {
    "papermill": {
     "duration": 0.008966,
     "end_time": "2024-05-12T16:36:10.297515",
     "exception": false,
     "start_time": "2024-05-12T16:36:10.288549",
     "status": "completed"
    },
    "tags": []
   },
   "source": [
    "# Load data, define dataset and dataloaders"
   ]
  },
  {
   "cell_type": "code",
   "execution_count": 9,
   "id": "7d94413b",
   "metadata": {
    "execution": {
     "iopub.execute_input": "2024-05-12T16:36:10.316593Z",
     "iopub.status.busy": "2024-05-12T16:36:10.316334Z",
     "iopub.status.idle": "2024-05-12T16:36:26.516868Z",
     "shell.execute_reply": "2024-05-12T16:36:26.515809Z"
    },
    "papermill": {
     "duration": 16.212585,
     "end_time": "2024-05-12T16:36:26.519030",
     "exception": false,
     "start_time": "2024-05-12T16:36:10.306445",
     "status": "completed"
    },
    "tags": []
   },
   "outputs": [
    {
     "name": "stdout",
     "output_type": "stream",
     "text": [
      "(652092, 16, 20) (72455, 16, 20) (181137, 16, 20)\n",
      "(652092, 4) (72455, 4) (181137, 4)\n"
     ]
    }
   ],
   "source": [
    "X_train = np.load('/kaggle/input/cicy4-data-processing/conf_Xtrain.npy')\n",
    "X_test = np.load('/kaggle/input/cicy4-data-processing/conf_Xtest.npy')\n",
    "X_valid = np.load('/kaggle/input/cicy4-data-processing/conf_Xvalid.npy')\n",
    "\n",
    "y_train = np.load('/kaggle/input/cicy4-data-processing/hodge_ytrain.npy')\n",
    "y_test= np.load('/kaggle/input/cicy4-data-processing/hodge_ytest.npy')\n",
    "y_valid = np.load('/kaggle/input/cicy4-data-processing/hodge_yvalid.npy')\n",
    "\n",
    "print(X_train.shape, X_valid.shape, X_test.shape)\n",
    "print(y_train.shape, y_valid.shape, y_test.shape)"
   ]
  },
  {
   "cell_type": "code",
   "execution_count": 10,
   "id": "e0d36588",
   "metadata": {
    "execution": {
     "iopub.execute_input": "2024-05-12T16:36:26.538711Z",
     "iopub.status.busy": "2024-05-12T16:36:26.538401Z",
     "iopub.status.idle": "2024-05-12T16:36:27.000112Z",
     "shell.execute_reply": "2024-05-12T16:36:26.999220Z"
    },
    "papermill": {
     "duration": 0.473893,
     "end_time": "2024-05-12T16:36:27.002438",
     "exception": false,
     "start_time": "2024-05-12T16:36:26.528545",
     "status": "completed"
    },
    "tags": []
   },
   "outputs": [],
   "source": [
    "#Convert data to torch tensor with float32 precision \n",
    "#(needed to be compatible with the floating decision of the network parameters)\n",
    "X_train = torch.from_numpy(X_train.astype(np.float32))\n",
    "y_train = torch.from_numpy(y_train.astype(np.float32))\n",
    "\n",
    "X_valid = torch.from_numpy(X_valid.astype(np.float32)) \n",
    "y_valid = torch.from_numpy(y_valid.astype(np.float32)) \n",
    "\n",
    "X_test = torch.from_numpy(X_test.astype(np.float32)) \n",
    "y_test= torch.from_numpy(y_test.astype(np.float32))"
   ]
  },
  {
   "cell_type": "code",
   "execution_count": 11,
   "id": "995eba35",
   "metadata": {
    "execution": {
     "iopub.execute_input": "2024-05-12T16:36:27.022466Z",
     "iopub.status.busy": "2024-05-12T16:36:27.022126Z",
     "iopub.status.idle": "2024-05-12T16:36:27.028522Z",
     "shell.execute_reply": "2024-05-12T16:36:27.027686Z"
    },
    "papermill": {
     "duration": 0.018523,
     "end_time": "2024-05-12T16:36:27.030419",
     "exception": false,
     "start_time": "2024-05-12T16:36:27.011896",
     "status": "completed"
    },
    "tags": []
   },
   "outputs": [],
   "source": [
    "class CICY4Dataset(torch.utils.data.Dataset):\n",
    "    def __init__(self, X, y):\n",
    "        self.X = X\n",
    "        self.y = y        \n",
    "    def __len__(self):\n",
    "        return len(self.X)      \n",
    "    def __getitem__(self, idx):\n",
    "        X0 = self.X[idx]\n",
    "        y0 = self.y[idx]  \n",
    "        return X0, y0\n",
    "        \n",
    "train_set = CICY4Dataset(X_train, y_train)\n",
    "val_set = CICY4Dataset(X_valid, y_valid)\n",
    "test_set = CICY4Dataset(X_test, y_test)"
   ]
  },
  {
   "cell_type": "code",
   "execution_count": 12,
   "id": "a441cbfb",
   "metadata": {
    "execution": {
     "iopub.execute_input": "2024-05-12T16:36:27.049916Z",
     "iopub.status.busy": "2024-05-12T16:36:27.049575Z",
     "iopub.status.idle": "2024-05-12T16:36:27.054938Z",
     "shell.execute_reply": "2024-05-12T16:36:27.054047Z"
    },
    "papermill": {
     "duration": 0.017398,
     "end_time": "2024-05-12T16:36:27.056906",
     "exception": false,
     "start_time": "2024-05-12T16:36:27.039508",
     "status": "completed"
    },
    "tags": []
   },
   "outputs": [],
   "source": [
    "from torch.utils.data import DataLoader\n",
    "\n",
    "train_loader = DataLoader(train_set, batch_size=128, shuffle=True)\n",
    "val_loader = DataLoader(val_set, batch_size=128, shuffle=False)\n",
    "test_loader = DataLoader(test_set, batch_size=128, shuffle=False)"
   ]
  },
  {
   "cell_type": "code",
   "execution_count": 13,
   "id": "27e7012e",
   "metadata": {
    "execution": {
     "iopub.execute_input": "2024-05-12T16:36:27.076601Z",
     "iopub.status.busy": "2024-05-12T16:36:27.076354Z",
     "iopub.status.idle": "2024-05-12T16:36:27.101430Z",
     "shell.execute_reply": "2024-05-12T16:36:27.099557Z"
    },
    "papermill": {
     "duration": 0.037158,
     "end_time": "2024-05-12T16:36:27.103476",
     "exception": false,
     "start_time": "2024-05-12T16:36:27.066318",
     "status": "completed"
    },
    "tags": []
   },
   "outputs": [
    {
     "name": "stdout",
     "output_type": "stream",
     "text": [
      "Train loader contains 5095 batches, each of size 128\n",
      "Valid loader contains 567 batches, each of size 128\n",
      "Test loader contains 1416 batches, each of size 128\n",
      "torch.float32\n",
      "Each data and target batch have the following shape\n",
      "torch.Size([128, 16, 20]) torch.Size([128, 4])\n"
     ]
    }
   ],
   "source": [
    "print(f'Train loader contains {len(train_loader)} batches, each of size 128')\n",
    "print(f'Valid loader contains {len(val_loader)} batches, each of size 128')\n",
    "print(f'Test loader contains {len(test_loader)} batches, each of size 128')\n",
    "#d, t = next(iter(train_loader))\n",
    "#print(d.dtype)\n",
    "#print('Each data and target batch have the following shape')\n",
    "#print(d.shape, t.shape)\n",
    "\n",
    "for d, t in test_loader:\n",
    "    print(d.dtype)\n",
    "    print('Each data and target batch have the following shape')\n",
    "    print(d.shape, t.shape)\n",
    "    break"
   ]
  },
  {
   "cell_type": "markdown",
   "id": "79de102c",
   "metadata": {
    "papermill": {
     "duration": 0.008852,
     "end_time": "2024-05-12T16:36:27.121713",
     "exception": false,
     "start_time": "2024-05-12T16:36:27.112861",
     "status": "completed"
    },
    "tags": []
   },
   "source": [
    "# Shape tracing"
   ]
  },
  {
   "cell_type": "code",
   "execution_count": 14,
   "id": "5ec017af",
   "metadata": {
    "execution": {
     "iopub.execute_input": "2024-05-12T16:36:27.140772Z",
     "iopub.status.busy": "2024-05-12T16:36:27.140443Z",
     "iopub.status.idle": "2024-05-12T16:36:27.632061Z",
     "shell.execute_reply": "2024-05-12T16:36:27.630658Z"
    },
    "papermill": {
     "duration": 0.503665,
     "end_time": "2024-05-12T16:36:27.634351",
     "exception": false,
     "start_time": "2024-05-12T16:36:27.130686",
     "status": "completed"
    },
    "tags": []
   },
   "outputs": [
    {
     "name": "stdout",
     "output_type": "stream",
     "text": [
      "CNN BLOCK SHAPE TRACING\n",
      "Original shape of the image before passing through the network: \n",
      " torch.Size([16, 20])\n",
      "\n",
      "Reshape the size to take in account the batch number\n",
      "The new size is torch.Size([1, 1, 16, 20])\n",
      "\n",
      "Shape of the image after passing through the shortcut: \n",
      " torch.Size([1, 256])\n",
      "\n",
      "Shape of the image after passing through Sequential(\n",
      "  (0): Conv2d(1, 128, kernel_size=(4, 4), stride=(1, 1))\n",
      "  (1): MaxPool2d(kernel_size=2, stride=2, padding=0, dilation=1, ceil_mode=False)\n",
      "  (2): ReLU()\n",
      "  (3): Conv2d(128, 64, kernel_size=(3, 3), stride=(1, 1))\n",
      "  (4): MaxPool2d(kernel_size=2, stride=2, padding=0, dilation=1, ceil_mode=False)\n",
      "  (5): ReLU()\n",
      "  (6): Conv2d(64, 128, kernel_size=(2, 2), stride=(1, 1))\n",
      "  (7): Flatten(start_dim=1, end_dim=-1)\n",
      "): \n",
      " torch.Size([1, 256])\n",
      "\n",
      "After flattening torch.Size([1, 256])\n",
      "After adding 2 branches: torch.Size([1, 256])\n"
     ]
    }
   ],
   "source": [
    " X = X_train[0].to(device)\n",
    "print('CNN BLOCK SHAPE TRACING')\n",
    "print(f'Original shape of the image before passing through the network: \\n {X.shape}\\n')\n",
    "\n",
    "print('Reshape the size to take in account the batch number')\n",
    "X = X.view(1,1,16,20)\n",
    "print(f'The new size is {X.shape}\\n')\n",
    "#shortcut branch\n",
    "X_i = resnet_block.shortcut(X)\n",
    "print(f'Shape of the image after passing through the shortcut: \\n {X_i.shape}\\n')\n",
    "#main branch\n",
    "X = resnet_block.conv_total(X)\n",
    "print(f'Shape of the image after passing through {resnet_block.conv_total}: \\n {X.shape}\\n')\n",
    "\n",
    "X = resnet_block.flat(X)\n",
    "print(f'After flattening {X.shape}')\n",
    "# adding 2 branches\n",
    "Xt = X+X_i\n",
    "print(f'After adding 2 branches: {Xt.shape}')\n"
   ]
  },
  {
   "cell_type": "code",
   "execution_count": 15,
   "id": "c9cde79b",
   "metadata": {
    "execution": {
     "iopub.execute_input": "2024-05-12T16:36:27.654037Z",
     "iopub.status.busy": "2024-05-12T16:36:27.653759Z",
     "iopub.status.idle": "2024-05-12T16:36:27.739800Z",
     "shell.execute_reply": "2024-05-12T16:36:27.738672Z"
    },
    "papermill": {
     "duration": 0.097989,
     "end_time": "2024-05-12T16:36:27.741799",
     "exception": false,
     "start_time": "2024-05-12T16:36:27.643810",
     "status": "completed"
    },
    "tags": []
   },
   "outputs": [
    {
     "name": "stdout",
     "output_type": "stream",
     "text": [
      "RNN BLOCK SHAPE TRACING\n",
      "Original shape of the image before passing through the network: \n",
      " torch.Size([16, 20])\n",
      "\n",
      "Reshape the size to take in account the batch number\n",
      "The new size is torch.Size([1, 16, 20])\n",
      "\n",
      "Shape of the image after passing through the GRU(20, 256, num_layers=2, batch_first=True): \n",
      " torch.Size([1, 16, 256])\n",
      "\n",
      "The final output shape is torch.Size([1, 256])\n"
     ]
    }
   ],
   "source": [
    " X = X_train[0].to(device)\n",
    "\n",
    "print('RNN BLOCK SHAPE TRACING')\n",
    "print(f'Original shape of the image before passing through the network: \\n {X.shape}\\n')\n",
    "\n",
    "print('Reshape the size to take in account the batch number')\n",
    "X = X.view(1,16,20)\n",
    "print(f'The new size is {X.shape}\\n')\n",
    "\n",
    "#h0 = torch.zeros(gru_block.L*2, X.size(0), gru_block.M).to(device)\n",
    "h0 = torch.zeros(gru_block.L, X.size(0), gru_block.M).to(device)\n",
    "X, _ = gru_block.gru(X, h0)\n",
    "print(f'Shape of the image after passing through the {gru_block.gru}: \\n {X.shape}\\n')\n",
    "\n",
    "#get only the h(T) at the last time step\n",
    "Xg = X[:, -1, :]\n",
    "print(f'The final output shape is {Xg.shape}')\n",
    "#print(X)\n",
    "#print(f'Target: {y}')"
   ]
  },
  {
   "cell_type": "code",
   "execution_count": 16,
   "id": "de42acbf",
   "metadata": {
    "execution": {
     "iopub.execute_input": "2024-05-12T16:36:27.762245Z",
     "iopub.status.busy": "2024-05-12T16:36:27.761713Z",
     "iopub.status.idle": "2024-05-12T16:36:27.791901Z",
     "shell.execute_reply": "2024-05-12T16:36:27.790968Z"
    },
    "papermill": {
     "duration": 0.042416,
     "end_time": "2024-05-12T16:36:27.793922",
     "exception": false,
     "start_time": "2024-05-12T16:36:27.751506",
     "status": "completed"
    },
    "tags": []
   },
   "outputs": [
    {
     "name": "stdout",
     "output_type": "stream",
     "text": [
      "ResNet-RNN HYBRID BLOCK SHAPE TRACING\n",
      "\n",
      "After Resnet block torch.Size([1, 256])\n",
      "\n",
      "After GRU block torch.Size([1, 256])\n",
      "\n",
      "Shape  after passing through the entire network: \n",
      " torch.Size([1, 4])\n",
      "\n"
     ]
    }
   ],
   "source": [
    "X = X_train[0].to(device)\n",
    "print('ResNet-RNN HYBRID BLOCK SHAPE TRACING\\n')\n",
    "#print(f'Original shape of the image before passing through the network: \\n {X.shape}\\n')\n",
    "\n",
    "#print('Reshape the size to take in account the batch number')\n",
    "X = X.view(1,16,20)\n",
    "#print(f'The new size is {X.shape}\\n')\n",
    "X1 = model.resnet_block(X.view(1,1,16,20))\n",
    "print(f'After Resnet block {X1.shape}\\n')\n",
    "\n",
    "X2= model.rnn_block(X)\n",
    "print(f'After GRU block {X2.shape}\\n')\n",
    "\n",
    "X = model(X)\n",
    "print(f'Shape  after passing through the entire network: \\n {X.shape}\\n')"
   ]
  },
  {
   "cell_type": "markdown",
   "id": "047d7f6c",
   "metadata": {
    "papermill": {
     "duration": 0.009035,
     "end_time": "2024-05-12T16:36:27.812380",
     "exception": false,
     "start_time": "2024-05-12T16:36:27.803345",
     "status": "completed"
    },
    "tags": []
   },
   "source": [
    "# Utility functions for training"
   ]
  },
  {
   "cell_type": "code",
   "execution_count": 17,
   "id": "89788f46",
   "metadata": {
    "execution": {
     "iopub.execute_input": "2024-05-12T16:36:27.832534Z",
     "iopub.status.busy": "2024-05-12T16:36:27.831989Z",
     "iopub.status.idle": "2024-05-12T16:36:27.838656Z",
     "shell.execute_reply": "2024-05-12T16:36:27.837799Z"
    },
    "papermill": {
     "duration": 0.018748,
     "end_time": "2024-05-12T16:36:27.840533",
     "exception": false,
     "start_time": "2024-05-12T16:36:27.821785",
     "status": "completed"
    },
    "tags": []
   },
   "outputs": [],
   "source": [
    "def train_one_epoch(model, criterion, optimizer, train_loader, cnn = False):\n",
    "    model.train()\n",
    "    train_loss = []\n",
    "    for inputs, target in train_loader:\n",
    "        if cnn:\n",
    "            inputs = inputs.view(batch_size,1,16,20)\n",
    "        inputs, target = inputs.to(device), target.to(device)\n",
    "        optimizer.zero_grad()\n",
    "        out = model(inputs)\n",
    "        loss = criterion(out, target)\n",
    "        loss.backward()\n",
    "        optimizer.step()\n",
    "        train_loss.append(loss.item())\n",
    "    #average the train_loss list in for all batches in the train_gen\n",
    "    train_loss = np.mean(train_loss)    \n",
    "    return train_loss"
   ]
  },
  {
   "cell_type": "code",
   "execution_count": 18,
   "id": "df6722e1",
   "metadata": {
    "execution": {
     "iopub.execute_input": "2024-05-12T16:36:27.860592Z",
     "iopub.status.busy": "2024-05-12T16:36:27.859935Z",
     "iopub.status.idle": "2024-05-12T16:36:27.865870Z",
     "shell.execute_reply": "2024-05-12T16:36:27.865088Z"
    },
    "papermill": {
     "duration": 0.017833,
     "end_time": "2024-05-12T16:36:27.867605",
     "exception": false,
     "start_time": "2024-05-12T16:36:27.849772",
     "status": "completed"
    },
    "tags": []
   },
   "outputs": [],
   "source": [
    "def validate_one_epoch(model, criterion, optimizer, val_loader, cnn = False):\n",
    "    model.eval()\n",
    "    test_loss = []\n",
    "    for inputs, target in val_loader:\n",
    "        if cnn:\n",
    "            inputs = inputs.view(batch_size,1,16,20)\n",
    "        inputs, target = inputs.to(device), target.to(device)\n",
    "        out = model(inputs)\n",
    "        loss = criterion(out, target)\n",
    "        test_loss.append(loss.item())\n",
    "    #average the test_loss list in for all batches in the test_gen\n",
    "    test_loss = np.mean(test_loss)\n",
    "    return test_loss"
   ]
  },
  {
   "cell_type": "code",
   "execution_count": 19,
   "id": "49076821",
   "metadata": {
    "execution": {
     "iopub.execute_input": "2024-05-12T16:36:27.888083Z",
     "iopub.status.busy": "2024-05-12T16:36:27.887840Z",
     "iopub.status.idle": "2024-05-12T16:36:27.897990Z",
     "shell.execute_reply": "2024-05-12T16:36:27.897289Z"
    },
    "papermill": {
     "duration": 0.022527,
     "end_time": "2024-05-12T16:36:27.899825",
     "exception": false,
     "start_time": "2024-05-12T16:36:27.877298",
     "status": "completed"
    },
    "tags": []
   },
   "outputs": [],
   "source": [
    "def batch_gd_scheduler(model, new_model_name, criterion, optimizer, train_loader, val_loader, scheduler,\n",
    "                         epochs, device, batch_size=128,  cnn = False):\n",
    "    train_losses = np.zeros(epochs)\n",
    "    test_losses = np.zeros(epochs)\n",
    "    patience = 0\n",
    "    best_loss = 1000\n",
    "    max_patience = 20\n",
    "    for i in range(epochs):\n",
    "        t0 = datetime.now()\n",
    "        train_loss = train_one_epoch(model, criterion, optimizer,train_loader)\n",
    "        test_loss = validate_one_epoch(model, criterion, optimizer,val_loader)\n",
    "        #Early stopping based on test loss\n",
    "        if i == 0:\n",
    "            best_loss = test_loss   \n",
    "            torch.save(model, f'/kaggle/working/{new_model_name}.pt')\n",
    "            print(f'Model saved as {new_model_name} at epoch {i}')\n",
    "        else:\n",
    "            if test_loss < best_loss:\n",
    "                best_loss = test_loss\n",
    "                torch.save(model, f'/kaggle/working/{new_model_name}.pt')\n",
    "                print(f'Model overwritten at epoch {i}, new best val loss {best_loss: .4f}')\n",
    "                patience = 0\n",
    "            else:\n",
    "                patience = patience +1\n",
    "                #print(f'No improvement, current patience level is {patience} at epoch {i}')\n",
    "        if patience > max_patience:\n",
    "            print(f'Max patience reached, training is terminated at epoch {i}')\n",
    "            break\n",
    "        #if early_stopper.early_stop(test_loss):             \n",
    "        #    break\n",
    "        #Apply scheduler after the train+validate parts\n",
    "        before_lr = optimizer.param_groups[0][\"lr\"]\n",
    "        scheduler.step(test_loss)\n",
    "        after_lr = optimizer.param_groups[0][\"lr\"]\n",
    "        train_losses[i] = train_loss\n",
    "        test_losses[i] = test_loss\n",
    "        #write the losses into a csv file\n",
    "        loss_dict = {'train_loss': train_losses, 'test_loss': test_losses}\n",
    "        dd = pd.DataFrame(loss_dict)\n",
    "        dd.to_csv('loss_dict_resnet_gru_256.csv', index = False)\n",
    "        dt = datetime.now()-t0\n",
    "        if i%10==0:\n",
    "            print(f'Epoch: {i}/{epochs}, train loss: {train_loss: .3f}, val_loss: {test_loss: .3f}, duration: {dt}, learning rate: {before_lr, after_lr}')\n",
    "    return train_losses, test_losses"
   ]
  },
  {
   "cell_type": "code",
   "execution_count": 20,
   "id": "e0e5acbf",
   "metadata": {
    "execution": {
     "iopub.execute_input": "2024-05-12T16:36:27.919365Z",
     "iopub.status.busy": "2024-05-12T16:36:27.919128Z",
     "iopub.status.idle": "2024-05-12T16:36:27.925712Z",
     "shell.execute_reply": "2024-05-12T16:36:27.924884Z"
    },
    "papermill": {
     "duration": 0.018365,
     "end_time": "2024-05-12T16:36:27.927537",
     "exception": false,
     "start_time": "2024-05-12T16:36:27.909172",
     "status": "completed"
    },
    "tags": []
   },
   "outputs": [],
   "source": [
    "def train_from_scratch_or_load(load_model_weight,new_model_name, epochs, cnn = False):    \n",
    "    if load_model_weight==None:\n",
    "        #criterion = nn.MSELoss()\n",
    "        criterion = nn.HuberLoss()\n",
    "        optimizer = torch.optim.AdamW(model.parameters(), lr=0.01)\n",
    "        scheduler = lr_scheduler.ReduceLROnPlateau(optimizer, 'min', factor=0.1, min_lr = 1e-7)\n",
    "        train_losses, test_losses=batch_gd_scheduler(model, new_model_name, criterion, \n",
    "                                                     optimizer,train_loader, val_loader,\n",
    "                                                      scheduler, epochs, \n",
    "                                                       device = device, cnn=cnn)\n",
    "        return train_losses, test_losses\n",
    "    else:\n",
    "        if torch.cuda.is_available():\n",
    "            trained_model = torch.load(load_model_weight)     \n",
    "        else:\n",
    "            trained_model = torch.load(load_model_weight, map_location=torch.device('cpu'))       \n",
    "        return trained_model"
   ]
  },
  {
   "cell_type": "code",
   "execution_count": 21,
   "id": "dbc70f93",
   "metadata": {
    "execution": {
     "iopub.execute_input": "2024-05-12T16:36:27.947551Z",
     "iopub.status.busy": "2024-05-12T16:36:27.947068Z",
     "iopub.status.idle": "2024-05-12T16:36:27.952957Z",
     "shell.execute_reply": "2024-05-12T16:36:27.952095Z"
    },
    "papermill": {
     "duration": 0.018118,
     "end_time": "2024-05-12T16:36:27.954986",
     "exception": false,
     "start_time": "2024-05-12T16:36:27.936868",
     "status": "completed"
    },
    "tags": []
   },
   "outputs": [],
   "source": [
    "def load_and_retrain(load_model_weight, new_model_name, epochs, cnn=False):\n",
    "    trained_model = torch.load(load_model_weight) \n",
    "    #criterion = nn.MSELoss()\n",
    "    criterion = nn.HuberLoss()\n",
    "    optimizer = torch.optim.AdamW(trained_model.parameters(),lr=0.0001)\n",
    "    scheduler = lr_scheduler.ReduceLROnPlateau(optimizer, 'min', factor=0.5, min_lr = 5e-7)\n",
    "    trained_model.train()\n",
    "    train_losses, test_losses=batch_gd_scheduler(trained_model,new_model_name, criterion, optimizer,\n",
    "                                                 train_loader, val_loader, \n",
    "                                                 scheduler, epochs, \n",
    "                                                 device = device, cnn=cnn)\n",
    "    return trained_model, train_losses, test_losses\n",
    "\n"
   ]
  },
  {
   "cell_type": "code",
   "execution_count": 22,
   "id": "c9e5f52e",
   "metadata": {
    "execution": {
     "iopub.execute_input": "2024-05-12T16:36:27.974972Z",
     "iopub.status.busy": "2024-05-12T16:36:27.974719Z",
     "iopub.status.idle": "2024-05-12T16:36:27.979284Z",
     "shell.execute_reply": "2024-05-12T16:36:27.978553Z"
    },
    "papermill": {
     "duration": 0.016373,
     "end_time": "2024-05-12T16:36:27.981021",
     "exception": false,
     "start_time": "2024-05-12T16:36:27.964648",
     "status": "completed"
    },
    "tags": []
   },
   "outputs": [],
   "source": [
    "def plot_losses(train_losses, test_losses):\n",
    "    # Plot the train loss and test loss per iteration\n",
    "    plt.plot(train_losses, label='train loss')\n",
    "    plt.plot(test_losses, label='val loss')\n",
    "    plt.legend()\n",
    "    plt.show()"
   ]
  },
  {
   "cell_type": "code",
   "execution_count": 23,
   "id": "8a5fc9f1",
   "metadata": {
    "execution": {
     "iopub.execute_input": "2024-05-12T16:36:28.002023Z",
     "iopub.status.busy": "2024-05-12T16:36:28.001744Z",
     "iopub.status.idle": "2024-05-12T16:36:28.016143Z",
     "shell.execute_reply": "2024-05-12T16:36:28.015447Z"
    },
    "papermill": {
     "duration": 0.027584,
     "end_time": "2024-05-12T16:36:28.018008",
     "exception": false,
     "start_time": "2024-05-12T16:36:27.990424",
     "status": "completed"
    },
    "tags": []
   },
   "outputs": [],
   "source": [
    "def get_pred_n_acc(models, device, dataloader, num_iter):\n",
    "    i = 0\n",
    "    ypreds =[]\n",
    "    targets = []\n",
    "    #The last batch might not have size 128\n",
    "    while i< num_iter:\n",
    "        for data, target in dataloader:\n",
    "            #this empty list is to hold all models' preds\n",
    "            ypred = []    \n",
    "            data= data.to(device)\n",
    "            data = data.to(torch.float32)\n",
    "            target = target.to(torch.float32)\n",
    "            #append the 'i^th' target\n",
    "            targets.append(target)\n",
    "            for model in models:\n",
    "                model.eval()\n",
    "                yp = model(data)\n",
    "                yp = yp.detach().cpu().numpy()\n",
    "                ypred.append(yp)\n",
    "            #take the mean of all models' predictions\n",
    "            ypred = np.array(ypred).mean(axis = 0)\n",
    "            ypred = np.round(ypred)\n",
    "            i+=1\n",
    "            #append ypred, targets inside the 'i' loop\n",
    "            # append the 'i^th' mean prediction\n",
    "            ypreds.append(ypred)   \n",
    "            if i == num_iter:\n",
    "                break \n",
    "     #Do not convert ypreds, targets to np.array at this point,\n",
    "    #since the last batch has a different size, causing an error !\n",
    "    #CALCULATING ACCURACY    \n",
    "    yp =  np.concatenate([ypreds[j] for j in range(len(ypreds))], axis = 0)\n",
    "    tgs =  np.concatenate([targets[j] for j in range(len(targets))], axis = 0)\n",
    "    h11_acc = ((yp[:,0] == tgs[:,0]).sum())/len(yp)\n",
    "    h21_acc = ((yp[:,1] == tgs[:,1]).sum())/len(yp)\n",
    "    h31_acc = ((yp[:,2] == tgs[:,2]).sum())/len(yp)\n",
    "    h22_acc = ((yp[:,3] == tgs[:,3]).sum())/len(yp)\n",
    "    acc = [h11_acc*100,h21_acc*100,h31_acc*100,h22_acc*100 ]\n",
    "    return  yp, tgs, acc"
   ]
  },
  {
   "cell_type": "markdown",
   "id": "64a76cbd",
   "metadata": {
    "papermill": {
     "duration": 0.00926,
     "end_time": "2024-05-12T16:36:28.036570",
     "exception": false,
     "start_time": "2024-05-12T16:36:28.027310",
     "status": "completed"
    },
    "tags": []
   },
   "source": [
    "# Train loop"
   ]
  },
  {
   "cell_type": "code",
   "execution_count": 24,
   "id": "46248959",
   "metadata": {
    "execution": {
     "iopub.execute_input": "2024-05-12T16:36:28.056917Z",
     "iopub.status.busy": "2024-05-12T16:36:28.056186Z",
     "iopub.status.idle": "2024-05-12T20:00:42.332908Z",
     "shell.execute_reply": "2024-05-12T20:00:42.331884Z"
    },
    "papermill": {
     "duration": 12254.307827,
     "end_time": "2024-05-12T20:00:42.353823",
     "exception": false,
     "start_time": "2024-05-12T16:36:28.045996",
     "status": "completed"
    },
    "tags": []
   },
   "outputs": [
    {
     "name": "stdout",
     "output_type": "stream",
     "text": [
      "Model saved as ResNet-GRU-256 at epoch 0\n",
      "Epoch: 0/550, train loss:  8.096, val_loss:  7.536, duration: 0:00:39.829753, learning rate: (0.01, 0.01)\n",
      "Model overwritten at epoch 2, new best val loss  7.3988\n",
      "Model overwritten at epoch 4, new best val loss  7.3856\n",
      "Model overwritten at epoch 10, new best val loss  7.3750\n",
      "Epoch: 10/550, train loss:  7.728, val_loss:  7.375, duration: 0:00:39.649134, learning rate: (0.01, 0.01)\n",
      "Epoch: 20/550, train loss:  7.567, val_loss:  8.194, duration: 0:00:39.519276, learning rate: (0.01, 0.01)\n",
      "Model overwritten at epoch 22, new best val loss  7.2706\n",
      "Model overwritten at epoch 23, new best val loss  7.0816\n",
      "Model overwritten at epoch 24, new best val loss  6.7494\n",
      "Model overwritten at epoch 25, new best val loss  6.5090\n",
      "Model overwritten at epoch 26, new best val loss  6.2364\n",
      "Model overwritten at epoch 27, new best val loss  6.0165\n",
      "Model overwritten at epoch 28, new best val loss  5.7850\n",
      "Model overwritten at epoch 29, new best val loss  5.6264\n",
      "Model overwritten at epoch 30, new best val loss  5.1745\n",
      "Epoch: 30/550, train loss:  5.433, val_loss:  5.174, duration: 0:00:39.477176, learning rate: (0.001, 0.001)\n",
      "Model overwritten at epoch 31, new best val loss  5.1264\n",
      "Model overwritten at epoch 32, new best val loss  4.5087\n",
      "Model overwritten at epoch 33, new best val loss  4.3878\n",
      "Model overwritten at epoch 34, new best val loss  3.8797\n",
      "Model overwritten at epoch 35, new best val loss  3.6134\n",
      "Model overwritten at epoch 37, new best val loss  3.4901\n",
      "Model overwritten at epoch 39, new best val loss  3.1502\n",
      "Epoch: 40/550, train loss:  3.150, val_loss:  3.290, duration: 0:00:39.320043, learning rate: (0.001, 0.001)\n",
      "Model overwritten at epoch 41, new best val loss  2.8983\n",
      "Model overwritten at epoch 43, new best val loss  2.8493\n",
      "Model overwritten at epoch 44, new best val loss  2.7079\n",
      "Model overwritten at epoch 45, new best val loss  2.6925\n",
      "Model overwritten at epoch 46, new best val loss  2.5765\n",
      "Model overwritten at epoch 50, new best val loss  2.4521\n",
      "Epoch: 50/550, train loss:  2.460, val_loss:  2.452, duration: 0:00:39.356112, learning rate: (0.001, 0.001)\n",
      "Model overwritten at epoch 51, new best val loss  2.4017\n",
      "Model overwritten at epoch 52, new best val loss  2.3479\n",
      "Model overwritten at epoch 53, new best val loss  2.1965\n",
      "Model overwritten at epoch 58, new best val loss  2.1148\n",
      "Model overwritten at epoch 60, new best val loss  2.0757\n",
      "Epoch: 60/550, train loss:  2.123, val_loss:  2.076, duration: 0:00:39.305779, learning rate: (0.001, 0.001)\n",
      "Model overwritten at epoch 65, new best val loss  1.9979\n",
      "Model overwritten at epoch 67, new best val loss  1.8787\n",
      "Model overwritten at epoch 70, new best val loss  1.7920\n",
      "Epoch: 70/550, train loss:  1.832, val_loss:  1.792, duration: 0:00:39.340842, learning rate: (0.001, 0.001)\n",
      "Model overwritten at epoch 71, new best val loss  1.7480\n",
      "Model overwritten at epoch 74, new best val loss  1.7292\n",
      "Model overwritten at epoch 75, new best val loss  1.7161\n",
      "Model overwritten at epoch 76, new best val loss  1.6341\n",
      "Model overwritten at epoch 79, new best val loss  1.6206\n",
      "Epoch: 80/550, train loss:  1.572, val_loss:  1.678, duration: 0:00:39.421658, learning rate: (0.001, 0.001)\n",
      "Model overwritten at epoch 83, new best val loss  1.6139\n",
      "Model overwritten at epoch 85, new best val loss  1.4493\n",
      "Model overwritten at epoch 89, new best val loss  1.3833\n",
      "Epoch: 90/550, train loss:  1.340, val_loss:  1.543, duration: 0:00:39.438820, learning rate: (0.001, 0.001)\n",
      "Model overwritten at epoch 92, new best val loss  1.3002\n",
      "Model overwritten at epoch 95, new best val loss  1.2576\n",
      "Model overwritten at epoch 98, new best val loss  1.2180\n",
      "Model overwritten at epoch 99, new best val loss  1.2161\n",
      "Model overwritten at epoch 100, new best val loss  1.1606\n",
      "Epoch: 100/550, train loss:  1.170, val_loss:  1.161, duration: 0:00:39.787859, learning rate: (0.001, 0.001)\n",
      "Model overwritten at epoch 105, new best val loss  1.0918\n",
      "Epoch: 110/550, train loss:  1.055, val_loss:  1.244, duration: 0:00:39.276147, learning rate: (0.001, 0.001)\n",
      "Model overwritten at epoch 111, new best val loss  1.0879\n",
      "Model overwritten at epoch 112, new best val loss  1.0765\n",
      "Model overwritten at epoch 113, new best val loss  1.0648\n",
      "Model overwritten at epoch 117, new best val loss  1.0121\n",
      "Model overwritten at epoch 120, new best val loss  0.9852\n",
      "Epoch: 120/550, train loss:  0.974, val_loss:  0.985, duration: 0:00:39.459618, learning rate: (0.001, 0.001)\n",
      "Model overwritten at epoch 129, new best val loss  0.9519\n",
      "Epoch: 130/550, train loss:  0.910, val_loss:  1.196, duration: 0:00:39.309145, learning rate: (0.001, 0.001)\n",
      "Model overwritten at epoch 133, new best val loss  0.9243\n",
      "Model overwritten at epoch 140, new best val loss  0.9224\n",
      "Epoch: 140/550, train loss:  0.851, val_loss:  0.922, duration: 0:00:39.356777, learning rate: (0.001, 0.001)\n",
      "Model overwritten at epoch 142, new best val loss  0.9098\n",
      "Model overwritten at epoch 144, new best val loss  0.8927\n",
      "Model overwritten at epoch 148, new best val loss  0.8636\n",
      "Epoch: 150/550, train loss:  0.810, val_loss:  0.891, duration: 0:00:39.318157, learning rate: (0.001, 0.001)\n",
      "Model overwritten at epoch 153, new best val loss  0.8222\n",
      "Model overwritten at epoch 157, new best val loss  0.7971\n",
      "Epoch: 160/550, train loss:  0.768, val_loss:  0.861, duration: 0:00:39.327360, learning rate: (0.001, 0.001)\n",
      "Model overwritten at epoch 169, new best val loss  0.5846\n",
      "Model overwritten at epoch 170, new best val loss  0.5539\n",
      "Epoch: 170/550, train loss:  0.432, val_loss:  0.554, duration: 0:00:39.355961, learning rate: (0.0001, 0.0001)\n",
      "Model overwritten at epoch 171, new best val loss  0.5368\n",
      "Model overwritten at epoch 172, new best val loss  0.5302\n",
      "Model overwritten at epoch 173, new best val loss  0.5248\n",
      "Model overwritten at epoch 175, new best val loss  0.5185\n",
      "Model overwritten at epoch 176, new best val loss  0.5115\n",
      "Model overwritten at epoch 177, new best val loss  0.5103\n",
      "Model overwritten at epoch 178, new best val loss  0.5056\n",
      "Epoch: 180/550, train loss:  0.342, val_loss:  0.507, duration: 0:00:39.564015, learning rate: (0.0001, 0.0001)\n",
      "Model overwritten at epoch 181, new best val loss  0.5030\n",
      "Model overwritten at epoch 182, new best val loss  0.4984\n",
      "Model overwritten at epoch 187, new best val loss  0.4944\n",
      "Model overwritten at epoch 189, new best val loss  0.4905\n",
      "Model overwritten at epoch 190, new best val loss  0.4883\n",
      "Epoch: 190/550, train loss:  0.316, val_loss:  0.488, duration: 0:00:39.333532, learning rate: (0.0001, 0.0001)\n",
      "Model overwritten at epoch 193, new best val loss  0.4854\n",
      "Model overwritten at epoch 195, new best val loss  0.4847\n",
      "Model overwritten at epoch 198, new best val loss  0.4824\n",
      "Model overwritten at epoch 200, new best val loss  0.4785\n",
      "Epoch: 200/550, train loss:  0.301, val_loss:  0.479, duration: 0:00:39.648718, learning rate: (0.0001, 0.0001)\n",
      "Model overwritten at epoch 206, new best val loss  0.4760\n",
      "Epoch: 210/550, train loss:  0.289, val_loss:  0.476, duration: 0:00:39.518472, learning rate: (0.0001, 0.0001)\n",
      "Model overwritten at epoch 211, new best val loss  0.4757\n",
      "Model overwritten at epoch 215, new best val loss  0.4726\n",
      "Model overwritten at epoch 220, new best val loss  0.4685\n",
      "Epoch: 220/550, train loss:  0.282, val_loss:  0.469, duration: 0:00:39.578468, learning rate: (0.0001, 0.0001)\n",
      "Model overwritten at epoch 225, new best val loss  0.4677\n",
      "Epoch: 230/550, train loss:  0.276, val_loss:  0.475, duration: 0:00:39.648919, learning rate: (0.0001, 0.0001)\n",
      "Model overwritten at epoch 232, new best val loss  0.4656\n",
      "Epoch: 240/550, train loss:  0.271, val_loss:  0.466, duration: 0:00:39.634103, learning rate: (0.0001, 0.0001)\n",
      "Model overwritten at epoch 244, new best val loss  0.4454\n",
      "Model overwritten at epoch 245, new best val loss  0.4441\n",
      "Model overwritten at epoch 246, new best val loss  0.4437\n",
      "Model overwritten at epoch 247, new best val loss  0.4433\n",
      "Model overwritten at epoch 248, new best val loss  0.4431\n",
      "Epoch: 250/550, train loss:  0.221, val_loss:  0.443, duration: 0:00:40.645775, learning rate: (1e-05, 1e-05)\n",
      "Model overwritten at epoch 253, new best val loss  0.4429\n",
      "Model overwritten at epoch 260, new best val loss  0.4426\n",
      "Epoch: 260/550, train loss:  0.218, val_loss:  0.443, duration: 0:00:40.337212, learning rate: (1e-05, 1e-05)\n",
      "Epoch: 270/550, train loss:  0.216, val_loss:  0.444, duration: 0:00:40.695305, learning rate: (1e-05, 1e-05)\n",
      "Model overwritten at epoch 272, new best val loss  0.4423\n",
      "Model overwritten at epoch 277, new best val loss  0.4423\n",
      "Epoch: 280/550, train loss:  0.211, val_loss:  0.442, duration: 0:00:40.285889, learning rate: (1.0000000000000002e-06, 1.0000000000000002e-06)\n",
      "Model overwritten at epoch 287, new best val loss  0.4422\n",
      "Epoch: 290/550, train loss:  0.210, val_loss:  0.442, duration: 0:00:40.013226, learning rate: (1.0000000000000002e-07, 1.0000000000000002e-07)\n",
      "Epoch: 300/550, train loss:  0.210, val_loss:  0.442, duration: 0:00:40.025458, learning rate: (1.0000000000000002e-07, 1.0000000000000002e-07)\n",
      "Max patience reached, training is terminated at epoch 308\n"
     ]
    }
   ],
   "source": [
    "load_model_weight = None\n",
    "epochs = 550\n",
    "new_model_name = 'ResNet-GRU-256'\n",
    "train_losses, test_losses=train_from_scratch_or_load(load_model_weight,new_model_name,  epochs, cnn = False)"
   ]
  },
  {
   "cell_type": "code",
   "execution_count": 25,
   "id": "e02f0055",
   "metadata": {
    "execution": {
     "iopub.execute_input": "2024-05-12T20:00:42.391171Z",
     "iopub.status.busy": "2024-05-12T20:00:42.390378Z",
     "iopub.status.idle": "2024-05-12T20:00:42.730558Z",
     "shell.execute_reply": "2024-05-12T20:00:42.729702Z"
    },
    "papermill": {
     "duration": 0.360978,
     "end_time": "2024-05-12T20:00:42.732600",
     "exception": false,
     "start_time": "2024-05-12T20:00:42.371622",
     "status": "completed"
    },
    "tags": []
   },
   "outputs": [
    {
     "data": {
      "image/png": "[encoded data removed]",
      "text/plain": [
       "<Figure size 640x480 with 1 Axes>"
      ]
     },
     "metadata": {},
     "output_type": "display_data"
    }
   ],
   "source": [
    "plot_losses(train_losses, test_losses)"
   ]
  },
  {
   "cell_type": "markdown",
   "id": "adc8d3cc",
   "metadata": {
    "papermill": {
     "duration": 0.018558,
     "end_time": "2024-05-12T20:00:42.769905",
     "exception": false,
     "start_time": "2024-05-12T20:00:42.751347",
     "status": "completed"
    },
    "tags": []
   },
   "source": [
    "# Train/validation/test accuracy"
   ]
  },
  {
   "cell_type": "code",
   "execution_count": 26,
   "id": "a74ae9eb",
   "metadata": {
    "execution": {
     "iopub.execute_input": "2024-05-12T20:00:42.808072Z",
     "iopub.status.busy": "2024-05-12T20:00:42.807744Z",
     "iopub.status.idle": "2024-05-12T20:01:02.974658Z",
     "shell.execute_reply": "2024-05-12T20:01:02.973709Z"
    },
    "papermill": {
     "duration": 20.188266,
     "end_time": "2024-05-12T20:01:02.976860",
     "exception": false,
     "start_time": "2024-05-12T20:00:42.788594",
     "status": "completed"
    },
    "tags": []
   },
   "outputs": [
    {
     "name": "stdout",
     "output_type": "stream",
     "text": [
      "Train data, target shapes: ((652092, 4), (652092, 4)),\n",
      " train accuracies [98.41203388478927, 86.77962618771585, 82.07676217466248, 48.24917342951608]\n",
      "Validation data, target shapes: ((72455, 4), (72455, 4)),\n",
      " validation accuracies [97.759988958664, 84.0673521496101, 69.44172244841626, 37.2093023255814]\n"
     ]
    }
   ],
   "source": [
    "#Train accuracy\n",
    "yt, tgt, acct = get_pred_n_acc([model], device, train_loader, num_iter = len(train_loader))\n",
    "#validation accuracy\n",
    "yv, tgv, accv = get_pred_n_acc([model], device, val_loader, num_iter = len(val_loader))\n",
    "print(f'Train data, target shapes: {yt.shape, tgt.shape},\\n train accuracies {acct}')\n",
    "print(f'Validation data, target shapes: {yv.shape, tgv.shape},\\n validation accuracies {accv}')"
   ]
  },
  {
   "cell_type": "code",
   "execution_count": 27,
   "id": "50053a0d",
   "metadata": {
    "execution": {
     "iopub.execute_input": "2024-05-12T20:01:03.016978Z",
     "iopub.status.busy": "2024-05-12T20:01:03.016374Z",
     "iopub.status.idle": "2024-05-12T20:01:08.102916Z",
     "shell.execute_reply": "2024-05-12T20:01:08.101555Z"
    },
    "papermill": {
     "duration": 5.108835,
     "end_time": "2024-05-12T20:01:08.105247",
     "exception": false,
     "start_time": "2024-05-12T20:01:02.996412",
     "status": "completed"
    },
    "tags": []
   },
   "outputs": [
    {
     "name": "stdout",
     "output_type": "stream",
     "text": [
      "Test data, target shapes: ((181137, 4), (181137, 4)),\n",
      " test accuracies [97.89441141235639, 84.03473613894455, 69.55067159111611, 37.223206744066644]\n"
     ]
    }
   ],
   "source": [
    "#Inference: Test accuracy\n",
    "yts, tgts, accts = get_pred_n_acc([model], device, test_loader, num_iter = len(test_loader))\n",
    "print(f'Test data, target shapes: {yts.shape, tgts.shape},\\n test accuracies {accts}')"
   ]
  }
 ],
 "metadata": {
  "kaggle": {
   "accelerator": "none",
   "dataSources": [
    {
     "sourceId": 174871011,
     "sourceType": "kernelVersion"
    }
   ],
   "dockerImageVersionId": 30674,
   "isGpuEnabled": false,
   "isInternetEnabled": true,
   "language": "python",
   "sourceType": "notebook"
  },
  "kernelspec": {
   "display_name": "Python 3",
   "language": "python",
   "name": "python3"
  },
  "language_info": {
   "codemirror_mode": {
    "name": "ipython",
    "version": 3
   },
   "file_extension": ".py",
   "mimetype": "text/x-python",
   "name": "python",
   "nbconvert_exporter": "python",
   "pygments_lexer": "ipython3",
   "version": "3.10.13"
  },
  "papermill": {
   "default_parameters": {},
   "duration": 12309.330292,
   "end_time": "2024-05-12T20:01:10.456553",
   "environment_variables": {},
   "exception": null,
   "input_path": "__notebook__.ipynb",
   "output_path": "__notebook__.ipynb",
   "parameters": {},
   "start_time": "2024-05-12T16:36:01.126261",
   "version": "2.5.0"
  }
 },
 "nbformat": 4,
 "nbformat_minor": 5
}
