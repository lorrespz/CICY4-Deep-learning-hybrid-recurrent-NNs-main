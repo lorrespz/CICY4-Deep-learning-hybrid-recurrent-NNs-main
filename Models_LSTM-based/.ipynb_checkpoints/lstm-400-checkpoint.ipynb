{
 "cells": [
  {
   "cell_type": "markdown",
   "id": "0a7c205b",
   "metadata": {
    "papermill": {
     "duration": 0.00768,
     "end_time": "2024-05-04T12:07:44.866333",
     "exception": false,
     "start_time": "2024-05-04T12:07:44.858653",
     "status": "completed"
    },
    "tags": []
   },
   "source": [
    "# CICY4: LSTM-based network (LSTM-400)"
   ]
  },
  {
   "cell_type": "code",
   "execution_count": 1,
   "id": "812d467b",
   "metadata": {
    "_cell_guid": "b1076dfc-b9ad-4769-8c92-a6c4dae69d19",
    "_uuid": "8f2839f25d086af736a60e9eeb907d3b93b6e0e5",
    "execution": {
     "iopub.execute_input": "2024-05-04T12:07:44.881915Z",
     "iopub.status.busy": "2024-05-04T12:07:44.881570Z",
     "iopub.status.idle": "2024-05-04T12:07:50.462674Z",
     "shell.execute_reply": "2024-05-04T12:07:50.461701Z"
    },
    "papermill": {
     "duration": 5.591561,
     "end_time": "2024-05-04T12:07:50.465084",
     "exception": false,
     "start_time": "2024-05-04T12:07:44.873523",
     "status": "completed"
    },
    "tags": []
   },
   "outputs": [],
   "source": [
    "import numpy as np\n",
    "import random\n",
    "import pandas as pd\n",
    "import os as os\n",
    "import matplotlib.pyplot as plt\n",
    "import seaborn as sns\n",
    "from datetime import datetime\n",
    "#sns.set_style(\"darkgrid\")\n",
    "\n",
    "import torch\n",
    "import torch.nn as nn\n",
    "import torch.nn.functional as F\n",
    "import torch.optim.lr_scheduler as lr_scheduler"
   ]
  },
  {
   "cell_type": "code",
   "execution_count": 2,
   "id": "ca4ef596",
   "metadata": {
    "execution": {
     "iopub.execute_input": "2024-05-04T12:07:50.482442Z",
     "iopub.status.busy": "2024-05-04T12:07:50.481523Z",
     "iopub.status.idle": "2024-05-04T12:07:50.537399Z",
     "shell.execute_reply": "2024-05-04T12:07:50.536416Z"
    },
    "papermill": {
     "duration": 0.066659,
     "end_time": "2024-05-04T12:07:50.539588",
     "exception": false,
     "start_time": "2024-05-04T12:07:50.472929",
     "status": "completed"
    },
    "tags": []
   },
   "outputs": [
    {
     "name": "stdout",
     "output_type": "stream",
     "text": [
      "cuda:0\n"
     ]
    }
   ],
   "source": [
    "device = torch.device(\"cuda:0\" if torch.cuda.is_available() else \"cpu\")\n",
    "print(device)"
   ]
  },
  {
   "cell_type": "code",
   "execution_count": 3,
   "id": "788c6c82",
   "metadata": {
    "execution": {
     "iopub.execute_input": "2024-05-04T12:07:50.555051Z",
     "iopub.status.busy": "2024-05-04T12:07:50.554754Z",
     "iopub.status.idle": "2024-05-04T12:07:50.562695Z",
     "shell.execute_reply": "2024-05-04T12:07:50.562040Z"
    },
    "papermill": {
     "duration": 0.017837,
     "end_time": "2024-05-04T12:07:50.564581",
     "exception": false,
     "start_time": "2024-05-04T12:07:50.546744",
     "status": "completed"
    },
    "tags": []
   },
   "outputs": [],
   "source": [
    "seed = 42\n",
    "\n",
    "def seed_everything(seed):\n",
    "    random.seed(seed)\n",
    "    os.environ['PYTHONHASHSEED'] = str(seed)\n",
    "    np.random.seed(seed)\n",
    "    torch.manual_seed(seed)\n",
    "    torch.cuda.manual_seed(seed)\n",
    "    torch.cuda.manual_seed_all(seed)\n",
    "    torch.backends.cudnn.deterministic = True\n",
    "\n",
    "seed_everything(seed)"
   ]
  },
  {
   "cell_type": "markdown",
   "id": "432bdd90",
   "metadata": {
    "papermill": {
     "duration": 0.006766,
     "end_time": "2024-05-04T12:07:50.578500",
     "exception": false,
     "start_time": "2024-05-04T12:07:50.571734",
     "status": "completed"
    },
    "tags": []
   },
   "source": [
    " # LSTM-based network architecture"
   ]
  },
  {
   "cell_type": "code",
   "execution_count": 4,
   "id": "0d7aec3e",
   "metadata": {
    "execution": {
     "iopub.execute_input": "2024-05-04T12:07:50.593823Z",
     "iopub.status.busy": "2024-05-04T12:07:50.593545Z",
     "iopub.status.idle": "2024-05-04T12:07:50.602185Z",
     "shell.execute_reply": "2024-05-04T12:07:50.601373Z"
    },
    "papermill": {
     "duration": 0.018453,
     "end_time": "2024-05-04T12:07:50.604048",
     "exception": false,
     "start_time": "2024-05-04T12:07:50.585595",
     "status": "completed"
    },
    "tags": []
   },
   "outputs": [],
   "source": [
    "class LSTM_block(nn.Module):\n",
    "    def __init__(self, n_inputs, n_hidden, n_rnnlayers, n_outputs):\n",
    "        super(LSTM_block,self).__init__()\n",
    "        self.D = n_inputs\n",
    "        self.M = n_hidden\n",
    "        self.K = n_outputs\n",
    "        self.L = n_rnnlayers\n",
    "        self.lstm = nn.LSTM(input_size = self.D,\n",
    "                           hidden_size = self.M,\n",
    "                           num_layers = self.L,\n",
    "                           batch_first = True)\n",
    "\n",
    "        self.feat_vec_size = self.M\n",
    "        self.fc1 = nn.Linear(self.feat_vec_size, 1024)\n",
    "        self.fc2 = nn.Linear(1024, 4)\n",
    "    def forward(self, X):\n",
    "        #input X is NxTxD\n",
    "        #initial hidden states\n",
    "        h0 = torch.zeros(self.L, X.size(0), self.M).to(device)\n",
    "        c0 = torch.zeros(self.L, X.size(0), self.M).to(device)\n",
    "        #get LSTM unit output:\n",
    "        #output is NxTxM\n",
    "        out, _ = self.lstm(X, (h0,c0))\n",
    "        #we only want the output y at the final time step\n",
    "        # output is now of shape (N, M)\n",
    "        xx = out[:, -1, :]\n",
    "        xx = self.fc1(xx)\n",
    "        #final output is 4\n",
    "        xx = self.fc2(xx)\n",
    "        return xx"
   ]
  },
  {
   "cell_type": "code",
   "execution_count": 5,
   "id": "64163a91",
   "metadata": {
    "execution": {
     "iopub.execute_input": "2024-05-04T12:07:50.619343Z",
     "iopub.status.busy": "2024-05-04T12:07:50.619048Z",
     "iopub.status.idle": "2024-05-04T12:07:50.952711Z",
     "shell.execute_reply": "2024-05-04T12:07:50.951765Z"
    },
    "papermill": {
     "duration": 0.343604,
     "end_time": "2024-05-04T12:07:50.954819",
     "exception": false,
     "start_time": "2024-05-04T12:07:50.611215",
     "status": "completed"
    },
    "tags": []
   },
   "outputs": [
    {
     "data": {
      "text/plain": [
       "LSTM_block(\n",
       "  (lstm): LSTM(20, 400, num_layers=2, batch_first=True)\n",
       "  (fc1): Linear(in_features=400, out_features=1024, bias=True)\n",
       "  (fc2): Linear(in_features=1024, out_features=4, bias=True)\n",
       ")"
      ]
     },
     "execution_count": 5,
     "metadata": {},
     "output_type": "execute_result"
    }
   ],
   "source": [
    "#model = LSTM_block(20, 456, 2, 4)\n",
    "model = LSTM_block(20, 400, 2, 4)\n",
    "model.to(device)"
   ]
  },
  {
   "cell_type": "code",
   "execution_count": 6,
   "id": "bb327d7f",
   "metadata": {
    "execution": {
     "iopub.execute_input": "2024-05-04T12:07:50.970892Z",
     "iopub.status.busy": "2024-05-04T12:07:50.970584Z",
     "iopub.status.idle": "2024-05-04T12:07:50.975659Z",
     "shell.execute_reply": "2024-05-04T12:07:50.974732Z"
    },
    "papermill": {
     "duration": 0.015451,
     "end_time": "2024-05-04T12:07:50.977771",
     "exception": false,
     "start_time": "2024-05-04T12:07:50.962320",
     "status": "completed"
    },
    "tags": []
   },
   "outputs": [
    {
     "name": "stdout",
     "output_type": "stream",
     "text": [
      "Total numbers of parameters: 2373124\n"
     ]
    }
   ],
   "source": [
    "#count the number of parameters in the model\n",
    "params = [p.numel() for p in model.parameters() if p.requires_grad]\n",
    "print(f'Total numbers of parameters: {sum(params)}')"
   ]
  },
  {
   "cell_type": "markdown",
   "id": "d2a159ae",
   "metadata": {
    "papermill": {
     "duration": 0.00721,
     "end_time": "2024-05-04T12:07:50.993650",
     "exception": false,
     "start_time": "2024-05-04T12:07:50.986440",
     "status": "completed"
    },
    "tags": []
   },
   "source": [
    "# Load data & define dataset class"
   ]
  },
  {
   "cell_type": "code",
   "execution_count": 7,
   "id": "e9768765",
   "metadata": {
    "execution": {
     "iopub.execute_input": "2024-05-04T12:07:51.009430Z",
     "iopub.status.busy": "2024-05-04T12:07:51.009087Z",
     "iopub.status.idle": "2024-05-04T12:08:05.595343Z",
     "shell.execute_reply": "2024-05-04T12:08:05.594352Z"
    },
    "papermill": {
     "duration": 14.596564,
     "end_time": "2024-05-04T12:08:05.597496",
     "exception": false,
     "start_time": "2024-05-04T12:07:51.000932",
     "status": "completed"
    },
    "tags": []
   },
   "outputs": [
    {
     "name": "stdout",
     "output_type": "stream",
     "text": [
      "(652092, 16, 20) (72455, 16, 20) (181137, 16, 20)\n",
      "(652092, 4) (72455, 4) (181137, 4)\n"
     ]
    }
   ],
   "source": [
    "# load data\n",
    "path = '/kaggle/input/cicy4-data-processing/'\n",
    "X_train = np.load(path + 'conf_Xtrain.npy')\n",
    "X_test = np.load(path+'conf_Xtest.npy')\n",
    "X_valid = np.load(path+'conf_Xvalid.npy')\n",
    "\n",
    "y_train = np.load(path+'hodge_ytrain.npy')\n",
    "y_test= np.load(path+'hodge_ytest.npy')\n",
    "y_valid = np.load(path+'hodge_yvalid.npy')\n",
    "\n",
    "print(X_train.shape, X_valid.shape, X_test.shape)\n",
    "print(y_train.shape, y_valid.shape, y_test.shape)"
   ]
  },
  {
   "cell_type": "code",
   "execution_count": 8,
   "id": "1b7d619b",
   "metadata": {
    "execution": {
     "iopub.execute_input": "2024-05-04T12:08:05.614146Z",
     "iopub.status.busy": "2024-05-04T12:08:05.613870Z",
     "iopub.status.idle": "2024-05-04T12:08:06.076358Z",
     "shell.execute_reply": "2024-05-04T12:08:06.075504Z"
    },
    "papermill": {
     "duration": 0.473268,
     "end_time": "2024-05-04T12:08:06.078723",
     "exception": false,
     "start_time": "2024-05-04T12:08:05.605455",
     "status": "completed"
    },
    "tags": []
   },
   "outputs": [],
   "source": [
    "#Convert data to torch tensor with float32 precision\n",
    "#(needed to be compatible with the floating decision of the network parameters)\n",
    "X_train = torch.from_numpy(X_train.astype(np.float32))\n",
    "y_train = torch.from_numpy(y_train.astype(np.float32))\n",
    "\n",
    "X_valid = torch.from_numpy(X_valid.astype(np.float32))\n",
    "y_valid = torch.from_numpy(y_valid.astype(np.float32))\n",
    "\n",
    "X_test = torch.from_numpy(X_test.astype(np.float32))\n",
    "y_test= torch.from_numpy(y_test.astype(np.float32))"
   ]
  },
  {
   "cell_type": "code",
   "execution_count": 9,
   "id": "9b114eab",
   "metadata": {
    "execution": {
     "iopub.execute_input": "2024-05-04T12:08:06.095775Z",
     "iopub.status.busy": "2024-05-04T12:08:06.095153Z",
     "iopub.status.idle": "2024-05-04T12:08:06.101335Z",
     "shell.execute_reply": "2024-05-04T12:08:06.100411Z"
    },
    "papermill": {
     "duration": 0.016676,
     "end_time": "2024-05-04T12:08:06.103277",
     "exception": false,
     "start_time": "2024-05-04T12:08:06.086601",
     "status": "completed"
    },
    "tags": []
   },
   "outputs": [],
   "source": [
    "class CICY4Dataset(torch.utils.data.Dataset):\n",
    "    def __init__(self, X, y):\n",
    "        self.X = X\n",
    "        self.y = y\n",
    "    def __len__(self):\n",
    "        return len(self.X)\n",
    "    def __getitem__(self, idx):\n",
    "        X0 = self.X[idx]\n",
    "        y0 = self.y[idx]\n",
    "        return X0, y0\n",
    "\n",
    "train_set = CICY4Dataset(X_train, y_train)\n",
    "val_set = CICY4Dataset(X_valid, y_valid)\n",
    "test_set = CICY4Dataset(X_test, y_test)"
   ]
  },
  {
   "cell_type": "code",
   "execution_count": 10,
   "id": "5bd39565",
   "metadata": {
    "execution": {
     "iopub.execute_input": "2024-05-04T12:08:06.119348Z",
     "iopub.status.busy": "2024-05-04T12:08:06.118861Z",
     "iopub.status.idle": "2024-05-04T12:08:06.124058Z",
     "shell.execute_reply": "2024-05-04T12:08:06.123236Z"
    },
    "papermill": {
     "duration": 0.015396,
     "end_time": "2024-05-04T12:08:06.126057",
     "exception": false,
     "start_time": "2024-05-04T12:08:06.110661",
     "status": "completed"
    },
    "tags": []
   },
   "outputs": [],
   "source": [
    "from torch.utils.data import DataLoader\n",
    "\n",
    "train_loader = DataLoader(train_set, batch_size=128, shuffle=True)\n",
    "val_loader = DataLoader(val_set, batch_size=128, shuffle=True)\n",
    "test_loader = DataLoader(test_set, batch_size=128, shuffle=False)"
   ]
  },
  {
   "cell_type": "markdown",
   "id": "85dc3d15",
   "metadata": {
    "papermill": {
     "duration": 0.00731,
     "end_time": "2024-05-04T12:08:06.141139",
     "exception": false,
     "start_time": "2024-05-04T12:08:06.133829",
     "status": "completed"
    },
    "tags": []
   },
   "source": [
    "# Utility functions"
   ]
  },
  {
   "cell_type": "code",
   "execution_count": 11,
   "id": "8502bed7",
   "metadata": {
    "execution": {
     "iopub.execute_input": "2024-05-04T12:08:06.157286Z",
     "iopub.status.busy": "2024-05-04T12:08:06.156554Z",
     "iopub.status.idle": "2024-05-04T12:08:06.162358Z",
     "shell.execute_reply": "2024-05-04T12:08:06.161562Z"
    },
    "papermill": {
     "duration": 0.01571,
     "end_time": "2024-05-04T12:08:06.164162",
     "exception": false,
     "start_time": "2024-05-04T12:08:06.148452",
     "status": "completed"
    },
    "tags": []
   },
   "outputs": [],
   "source": [
    "def train_one_epoch(model, criterion, optimizer, train_loader):\n",
    "    model.train()\n",
    "    train_loss = []\n",
    "    for inputs, target in train_loader:\n",
    "        inputs, target = inputs.to(device), target.to(device)\n",
    "        optimizer.zero_grad()\n",
    "        out = model(inputs)\n",
    "        loss = criterion(out, target)\n",
    "        loss.backward()\n",
    "        optimizer.step()\n",
    "        train_loss.append(loss.item())\n",
    "    #average the train_loss list in for all batches in the train_gen\n",
    "    train_loss = np.mean(train_loss)\n",
    "    return train_loss"
   ]
  },
  {
   "cell_type": "code",
   "execution_count": 12,
   "id": "66820c7f",
   "metadata": {
    "execution": {
     "iopub.execute_input": "2024-05-04T12:08:06.180316Z",
     "iopub.status.busy": "2024-05-04T12:08:06.180016Z",
     "iopub.status.idle": "2024-05-04T12:08:06.185567Z",
     "shell.execute_reply": "2024-05-04T12:08:06.184656Z"
    },
    "papermill": {
     "duration": 0.015704,
     "end_time": "2024-05-04T12:08:06.187388",
     "exception": false,
     "start_time": "2024-05-04T12:08:06.171684",
     "status": "completed"
    },
    "tags": []
   },
   "outputs": [],
   "source": [
    "def validate_one_epoch(model, criterion, optimizer, val_loader):\n",
    "    model.eval()\n",
    "    test_loss = []\n",
    "    for inputs, target in val_loader:\n",
    "        inputs, target = inputs.to(device), target.to(device)\n",
    "        out = model(inputs)\n",
    "        loss = criterion(out, target)\n",
    "        test_loss.append(loss.item())\n",
    "    #average the test_loss list in for all batches in the test_gen\n",
    "    test_loss = np.mean(test_loss)\n",
    "    return test_loss"
   ]
  },
  {
   "cell_type": "code",
   "execution_count": 13,
   "id": "d2a6d721",
   "metadata": {
    "execution": {
     "iopub.execute_input": "2024-05-04T12:08:06.204605Z",
     "iopub.status.busy": "2024-05-04T12:08:06.204345Z",
     "iopub.status.idle": "2024-05-04T12:08:06.215175Z",
     "shell.execute_reply": "2024-05-04T12:08:06.214386Z"
    },
    "papermill": {
     "duration": 0.020903,
     "end_time": "2024-05-04T12:08:06.216964",
     "exception": false,
     "start_time": "2024-05-04T12:08:06.196061",
     "status": "completed"
    },
    "tags": []
   },
   "outputs": [],
   "source": [
    "def batch_gd_scheduler(model, new_model_name, criterion, optimizer, train_loader, val_loader, scheduler,\n",
    "                         epochs, device, batch_size=128):\n",
    "    train_losses = np.zeros(epochs)\n",
    "    test_losses = np.zeros(epochs)\n",
    "    patience = 0\n",
    "    best_loss = 1000\n",
    "    max_patience = 20\n",
    "    for i in range(epochs):\n",
    "        t0 = datetime.now()\n",
    "        train_loss = train_one_epoch(model, criterion, optimizer,train_loader)\n",
    "        test_loss = validate_one_epoch(model, criterion, optimizer,val_loader)\n",
    "        #Early stopping based on test loss\n",
    "        if i == 0:\n",
    "            best_loss = test_loss\n",
    "            torch.save(model, f'/kaggle/working/{new_model_name}.pt')\n",
    "            #torch.save(model, path+f'{new_model_name}.pt')\n",
    "            print(f'Model saved as {new_model_name} at epoch {i}')\n",
    "        else:\n",
    "            if test_loss < best_loss:\n",
    "                best_loss = test_loss\n",
    "                torch.save(model, f'/kaggle/working/{new_model_name}.pt')\n",
    "                #torch.save(model, path+f'{new_model_name}.pt')\n",
    "                print(f'Model overwritten at epoch {i}, new best val loss {best_loss}')\n",
    "                patience = 0\n",
    "            else:\n",
    "                patience = patience +1\n",
    "                #print(f'No improvement, current patience level is {patience} at epoch {i}')\n",
    "        if patience > max_patience:\n",
    "            print(f'Max patience reached, training is terminated at epoch {i}')\n",
    "            break\n",
    "        #Apply scheduler after the train+validate parts\n",
    "        before_lr = optimizer.param_groups[0][\"lr\"]\n",
    "        scheduler.step(test_loss)\n",
    "        after_lr = optimizer.param_groups[0][\"lr\"]\n",
    "        train_losses[i] = train_loss\n",
    "        test_losses[i] = test_loss\n",
    "        #write the losses into a csv file\n",
    "        loss_dict = {'train_loss': train_losses, 'test_loss': test_losses}\n",
    "        dd = pd.DataFrame(loss_dict)\n",
    "        dd.to_csv('loss_dict_lstm_400.csv', index = False)\n",
    "        dt = datetime.now()-t0\n",
    "        if i%10==0:\n",
    "            print(f'Epoch: {i+1}/{epochs}, train loss: {train_loss: .3f}, val_loss: {test_loss: .3f}, duration: {dt}, learning rate: {before_lr, after_lr}')\n",
    "    return train_losses, test_losses\n"
   ]
  },
  {
   "cell_type": "code",
   "execution_count": 14,
   "id": "9f54f880",
   "metadata": {
    "execution": {
     "iopub.execute_input": "2024-05-04T12:08:06.233271Z",
     "iopub.status.busy": "2024-05-04T12:08:06.232724Z",
     "iopub.status.idle": "2024-05-04T12:08:06.238964Z",
     "shell.execute_reply": "2024-05-04T12:08:06.238190Z"
    },
    "papermill": {
     "duration": 0.016462,
     "end_time": "2024-05-04T12:08:06.240946",
     "exception": false,
     "start_time": "2024-05-04T12:08:06.224484",
     "status": "completed"
    },
    "tags": []
   },
   "outputs": [],
   "source": [
    "def train_from_scratch_or_load(load_model_weight,new_model_name, epochs):\n",
    "    if load_model_weight==None:\n",
    "        #criterion = nn.MSELoss()\n",
    "        criterion = nn.HuberLoss()\n",
    "        optimizer = torch.optim.AdamW(model.parameters(), lr=0.01)\n",
    "        scheduler = lr_scheduler.ReduceLROnPlateau(optimizer, 'min', factor=0.1, min_lr = 1e-8)\n",
    "        train_losses, test_losses=batch_gd_scheduler(model, new_model_name, criterion,\n",
    "                                                     optimizer,train_loader, val_loader,\n",
    "                                                      scheduler, epochs,\n",
    "                                                       device = device)\n",
    "        return train_losses, test_losses\n",
    "    else:\n",
    "        if torch.cuda.is_available():\n",
    "            trained_model = torch.load(load_model_weight)\n",
    "        else:\n",
    "            trained_model = torch.load(load_model_weight, map_location=torch.device('cpu'))\n",
    "        return trained_model"
   ]
  },
  {
   "cell_type": "code",
   "execution_count": 15,
   "id": "f6f3bc2a",
   "metadata": {
    "execution": {
     "iopub.execute_input": "2024-05-04T12:08:06.256624Z",
     "iopub.status.busy": "2024-05-04T12:08:06.256384Z",
     "iopub.status.idle": "2024-05-04T12:08:06.262063Z",
     "shell.execute_reply": "2024-05-04T12:08:06.261237Z"
    },
    "papermill": {
     "duration": 0.015753,
     "end_time": "2024-05-04T12:08:06.263992",
     "exception": false,
     "start_time": "2024-05-04T12:08:06.248239",
     "status": "completed"
    },
    "tags": []
   },
   "outputs": [],
   "source": [
    "def load_and_retrain(load_model_weight, new_model_name, epochs):\n",
    "    trained_model = torch.load(load_model_weight)\n",
    "    #criterion = nn.MSELoss()\n",
    "    criterion = nn.HuberLoss()\n",
    "    optimizer = torch.optim.AdamW(trained_model.parameters(),lr=0.0001)\n",
    "    scheduler = lr_scheduler.ReduceLROnPlateau(optimizer, 'min', factor=0.5, min_lr = 5e-7)\n",
    "    trained_model.train()\n",
    "    train_losses, test_losses=batch_gd_scheduler(trained_model,new_model_name, criterion, optimizer,\n",
    "                                                 train_loader, val_loader,\n",
    "                                                 scheduler, epochs,\n",
    "                                                 device = device)\n",
    "    return trained_model, train_losses, test_losses"
   ]
  },
  {
   "cell_type": "code",
   "execution_count": 16,
   "id": "8b11a38d",
   "metadata": {
    "execution": {
     "iopub.execute_input": "2024-05-04T12:08:06.279824Z",
     "iopub.status.busy": "2024-05-04T12:08:06.279563Z",
     "iopub.status.idle": "2024-05-04T12:08:06.283996Z",
     "shell.execute_reply": "2024-05-04T12:08:06.283243Z"
    },
    "papermill": {
     "duration": 0.014453,
     "end_time": "2024-05-04T12:08:06.285864",
     "exception": false,
     "start_time": "2024-05-04T12:08:06.271411",
     "status": "completed"
    },
    "tags": []
   },
   "outputs": [],
   "source": [
    "def plot_losses(train_losses, test_losses):\n",
    "    # Plot the train loss and test loss per iteration\n",
    "    plt.plot(train_losses, label='train loss')\n",
    "    plt.plot(test_losses, label='val loss')\n",
    "    plt.legend()\n",
    "    plt.show()"
   ]
  },
  {
   "cell_type": "code",
   "execution_count": 17,
   "id": "06d245b3",
   "metadata": {
    "execution": {
     "iopub.execute_input": "2024-05-04T12:08:06.301593Z",
     "iopub.status.busy": "2024-05-04T12:08:06.301329Z",
     "iopub.status.idle": "2024-05-04T12:08:06.312501Z",
     "shell.execute_reply": "2024-05-04T12:08:06.311676Z"
    },
    "papermill": {
     "duration": 0.021169,
     "end_time": "2024-05-04T12:08:06.314407",
     "exception": false,
     "start_time": "2024-05-04T12:08:06.293238",
     "status": "completed"
    },
    "tags": []
   },
   "outputs": [],
   "source": [
    "################## GET PREDICTIONS + ACCURACY #####################\n",
    "def get_pred_n_acc(models, device, dataloader, num_iter):\n",
    "    i = 0\n",
    "    ypreds =[]\n",
    "    targets = []\n",
    "    #The last batch might not have size 128\n",
    "    while i< num_iter:\n",
    "        for data, target in dataloader:\n",
    "            #this empty list is to hold all models' preds\n",
    "            ypred = []\n",
    "            data= data.to(device)\n",
    "            data = data.to(torch.float32)\n",
    "            target = target.to(torch.float32)\n",
    "            #append the 'i^th' target\n",
    "            targets.append(target)\n",
    "            for model in models:\n",
    "                model.eval()\n",
    "                yp = model(data)\n",
    "                yp = yp.detach().cpu().numpy()\n",
    "                ypred.append(yp)\n",
    "            #take the mean of all models' predictions\n",
    "            ypred = np.array(ypred).mean(axis = 0)\n",
    "            ypred = np.round(ypred)\n",
    "            i+=1\n",
    "            #append ypred, targets inside the 'i' loop\n",
    "            # append the 'i^th' mean prediction\n",
    "            ypreds.append(ypred)\n",
    "            if i == num_iter:\n",
    "                break\n",
    "     #Do not convert ypreds, targets to np.array at this point,\n",
    "    #since the last batch has a different size, causing an error !\n",
    "    #CALCULATING ACCURACY\n",
    "    yp =  np.concatenate([ypreds[j] for j in range(len(ypreds))], axis = 0)\n",
    "    tgs =  np.concatenate([targets[j] for j in range(len(targets))], axis = 0)\n",
    "    h11_acc = ((yp[:,0] == tgs[:,0]).sum())/len(yp)\n",
    "    h21_acc = ((yp[:,1] == tgs[:,1]).sum())/len(yp)\n",
    "    h31_acc = ((yp[:,2] == tgs[:,2]).sum())/len(yp)\n",
    "    h22_acc = ((yp[:,3] == tgs[:,3]).sum())/len(yp)\n",
    "    acc = [h11_acc*100,h21_acc*100,h31_acc*100,h22_acc*100 ]\n",
    "    return  yp, tgs, acc\n"
   ]
  },
  {
   "cell_type": "markdown",
   "id": "b2316197",
   "metadata": {
    "papermill": {
     "duration": 0.007069,
     "end_time": "2024-05-04T12:08:06.328880",
     "exception": false,
     "start_time": "2024-05-04T12:08:06.321811",
     "status": "completed"
    },
    "tags": []
   },
   "source": [
    "# Train loop"
   ]
  },
  {
   "cell_type": "code",
   "execution_count": 18,
   "id": "3f66a2e1",
   "metadata": {
    "execution": {
     "iopub.execute_input": "2024-05-04T12:08:06.344606Z",
     "iopub.status.busy": "2024-05-04T12:08:06.344367Z",
     "iopub.status.idle": "2024-05-04T15:53:17.511011Z",
     "shell.execute_reply": "2024-05-04T15:53:17.509904Z"
    },
    "papermill": {
     "duration": 13511.194874,
     "end_time": "2024-05-04T15:53:17.531139",
     "exception": false,
     "start_time": "2024-05-04T12:08:06.336265",
     "status": "completed"
    },
    "tags": []
   },
   "outputs": [
    {
     "name": "stdout",
     "output_type": "stream",
     "text": [
      "Model saved as LSTM-400 at epoch 0\n",
      "Epoch: 1/550, train loss:  9.957, val_loss:  9.897, duration: 0:00:48.623657, learning rate: (0.01, 0.01)\n",
      "Model overwritten at epoch 1, new best val loss 9.720511661004767\n",
      "Model overwritten at epoch 3, new best val loss 9.68043642111346\n",
      "Model overwritten at epoch 4, new best val loss 8.530748966089211\n",
      "Model overwritten at epoch 5, new best val loss 8.465947078859575\n",
      "Model overwritten at epoch 6, new best val loss 8.46223563576081\n",
      "Model overwritten at epoch 7, new best val loss 8.384358533055273\n",
      "Model overwritten at epoch 9, new best val loss 8.347132488533303\n",
      "Epoch: 11/550, train loss:  8.564, val_loss:  8.903, duration: 0:00:47.729986, learning rate: (0.01, 0.01)\n",
      "Epoch: 21/550, train loss:  8.456, val_loss:  8.381, duration: 0:00:48.178592, learning rate: (0.01, 0.001)\n",
      "Model overwritten at epoch 21, new best val loss 8.3465411053343\n",
      "Model overwritten at epoch 22, new best val loss 7.747292914718547\n",
      "Model overwritten at epoch 23, new best val loss 7.178665118242698\n",
      "Model overwritten at epoch 24, new best val loss 6.900328853983938\n",
      "Model overwritten at epoch 25, new best val loss 6.6728509485826715\n",
      "Model overwritten at epoch 27, new best val loss 6.525729281141224\n",
      "Model overwritten at epoch 28, new best val loss 6.47269010123332\n",
      "Model overwritten at epoch 30, new best val loss 6.133940200957041\n",
      "Epoch: 31/550, train loss:  6.279, val_loss:  6.134, duration: 0:00:47.811537, learning rate: (0.001, 0.001)\n",
      "Model overwritten at epoch 31, new best val loss 5.902746008817481\n",
      "Model overwritten at epoch 33, new best val loss 5.578672789181772\n",
      "Model overwritten at epoch 35, new best val loss 5.567779296289676\n",
      "Model overwritten at epoch 36, new best val loss 5.222132136161576\n",
      "Model overwritten at epoch 37, new best val loss 5.165771988544094\n",
      "Model overwritten at epoch 39, new best val loss 4.972410771371616\n",
      "Epoch: 41/550, train loss:  5.062, val_loss:  5.280, duration: 0:00:47.983268, learning rate: (0.001, 0.001)\n",
      "Model overwritten at epoch 41, new best val loss 4.876989170357033\n",
      "Model overwritten at epoch 44, new best val loss 4.3701493664393345\n",
      "Model overwritten at epoch 45, new best val loss 4.052497569846098\n",
      "Model overwritten at epoch 48, new best val loss 3.9013862143117914\n",
      "Model overwritten at epoch 49, new best val loss 3.5419528438090437\n",
      "Model overwritten at epoch 50, new best val loss 3.322243842708581\n",
      "Epoch: 51/550, train loss:  3.554, val_loss:  3.322, duration: 0:00:47.905398, learning rate: (0.001, 0.001)\n",
      "Model overwritten at epoch 51, new best val loss 3.3091643882596724\n",
      "Model overwritten at epoch 53, new best val loss 2.9483149123149786\n",
      "Model overwritten at epoch 54, new best val loss 2.937444475382514\n",
      "Model overwritten at epoch 56, new best val loss 2.5910450192776096\n",
      "Model overwritten at epoch 57, new best val loss 2.4970297474920016\n",
      "Model overwritten at epoch 60, new best val loss 2.2942809955573376\n",
      "Epoch: 61/550, train loss:  2.314, val_loss:  2.294, duration: 0:00:47.966284, learning rate: (0.001, 0.001)\n",
      "Model overwritten at epoch 61, new best val loss 2.1758842878240756\n",
      "Model overwritten at epoch 62, new best val loss 2.07825666781666\n",
      "Model overwritten at epoch 65, new best val loss 1.9928885025532368\n",
      "Model overwritten at epoch 66, new best val loss 1.7800396832208785\n",
      "Model overwritten at epoch 67, new best val loss 1.7069849181637773\n",
      "Model overwritten at epoch 70, new best val loss 1.5733811270833227\n",
      "Epoch: 71/550, train loss:  1.564, val_loss:  1.573, duration: 0:00:47.762949, learning rate: (0.001, 0.001)\n",
      "Model overwritten at epoch 72, new best val loss 1.4808975760898893\n",
      "Model overwritten at epoch 74, new best val loss 1.3977629573887618\n",
      "Model overwritten at epoch 76, new best val loss 1.316094613579846\n",
      "Model overwritten at epoch 78, new best val loss 1.3157579295429183\n",
      "Model overwritten at epoch 79, new best val loss 1.2668442368717632\n",
      "Epoch: 81/550, train loss:  1.219, val_loss:  1.329, duration: 0:00:47.962543, learning rate: (0.001, 0.001)\n",
      "Model overwritten at epoch 82, new best val loss 1.2118563330362713\n",
      "Model overwritten at epoch 86, new best val loss 1.0938389159384228\n",
      "Model overwritten at epoch 90, new best val loss 1.0883520606123371\n",
      "Epoch: 91/550, train loss:  1.036, val_loss:  1.088, duration: 0:00:47.936379, learning rate: (0.001, 0.001)\n",
      "Model overwritten at epoch 92, new best val loss 1.083554487590016\n",
      "Model overwritten at epoch 93, new best val loss 1.0285625004684273\n",
      "Model overwritten at epoch 98, new best val loss 0.9898614676330876\n",
      "Model overwritten at epoch 99, new best val loss 0.976984018160973\n",
      "Epoch: 101/550, train loss:  0.918, val_loss:  1.030, duration: 0:00:48.006714, learning rate: (0.001, 0.001)\n",
      "Model overwritten at epoch 103, new best val loss 0.9439462725027108\n",
      "Model overwritten at epoch 104, new best val loss 0.905825205948828\n",
      "Epoch: 111/550, train loss:  0.836, val_loss:  0.958, duration: 0:00:47.892291, learning rate: (0.001, 0.001)\n",
      "Model overwritten at epoch 111, new best val loss 0.8987826035872128\n",
      "Model overwritten at epoch 114, new best val loss 0.8957433887680162\n",
      "Model overwritten at epoch 117, new best val loss 0.8560157098414827\n",
      "Model overwritten at epoch 119, new best val loss 0.795957971186865\n",
      "Epoch: 121/550, train loss:  0.746, val_loss:  0.921, duration: 0:00:47.881176, learning rate: (0.001, 0.001)\n",
      "Model overwritten at epoch 122, new best val loss 0.7837425217268958\n",
      "Model overwritten at epoch 126, new best val loss 0.7622290001344428\n",
      "Model overwritten at epoch 130, new best val loss 0.7613143171372657\n",
      "Epoch: 131/550, train loss:  0.676, val_loss:  0.761, duration: 0:00:47.882692, learning rate: (0.001, 0.001)\n",
      "Model overwritten at epoch 134, new best val loss 0.753068769945249\n",
      "Model overwritten at epoch 135, new best val loss 0.714637823416022\n",
      "Model overwritten at epoch 137, new best val loss 0.6949678518048881\n",
      "Model overwritten at epoch 138, new best val loss 0.6943137750844266\n",
      "Epoch: 141/550, train loss:  0.610, val_loss:  0.701, duration: 0:00:47.995827, learning rate: (0.001, 0.001)\n",
      "Model overwritten at epoch 142, new best val loss 0.6818393187127626\n",
      "Model overwritten at epoch 146, new best val loss 0.6280685026178915\n",
      "Epoch: 151/550, train loss:  0.564, val_loss:  0.726, duration: 0:00:47.821679, learning rate: (0.001, 0.001)\n",
      "Model overwritten at epoch 152, new best val loss 0.6236559384793201\n",
      "Model overwritten at epoch 157, new best val loss 0.5960462987948557\n",
      "Epoch: 161/550, train loss:  0.523, val_loss:  0.602, duration: 0:00:47.957442, learning rate: (0.001, 0.001)\n",
      "Model overwritten at epoch 162, new best val loss 0.5527917956916953\n",
      "Model overwritten at epoch 165, new best val loss 0.5479472369954279\n",
      "Model overwritten at epoch 167, new best val loss 0.5352481711373338\n",
      "Model overwritten at epoch 169, new best val loss 0.5294394714386585\n",
      "Epoch: 171/550, train loss:  0.477, val_loss:  0.606, duration: 0:00:47.807495, learning rate: (0.001, 0.001)\n",
      "Model overwritten at epoch 171, new best val loss 0.5144758781901112\n",
      "Model overwritten at epoch 178, new best val loss 0.4908681157615029\n",
      "Epoch: 181/550, train loss:  0.454, val_loss:  0.548, duration: 0:00:47.954078, learning rate: (0.001, 0.001)\n",
      "Model overwritten at epoch 184, new best val loss 0.4657918924639885\n",
      "Model overwritten at epoch 188, new best val loss 0.4650847758092577\n",
      "Epoch: 191/550, train loss:  0.418, val_loss:  0.475, duration: 0:00:47.810530, learning rate: (0.001, 0.001)\n",
      "Model overwritten at epoch 200, new best val loss 0.26538177368081645\n",
      "Epoch: 201/550, train loss:  0.198, val_loss:  0.265, duration: 0:00:48.000772, learning rate: (0.0001, 0.0001)\n",
      "Model overwritten at epoch 201, new best val loss 0.24626121865798978\n",
      "Model overwritten at epoch 203, new best val loss 0.23789277787745736\n",
      "Model overwritten at epoch 204, new best val loss 0.22563626096835213\n",
      "Model overwritten at epoch 205, new best val loss 0.22284394760190704\n",
      "Model overwritten at epoch 206, new best val loss 0.2202268506562899\n",
      "Model overwritten at epoch 207, new best val loss 0.2172253466879775\n",
      "Model overwritten at epoch 208, new best val loss 0.2146104478410312\n",
      "Model overwritten at epoch 209, new best val loss 0.21210456991689755\n",
      "Epoch: 211/550, train loss:  0.088, val_loss:  0.212, duration: 0:00:47.818184, learning rate: (0.0001, 0.0001)\n",
      "Model overwritten at epoch 211, new best val loss 0.2081309858860688\n",
      "Model overwritten at epoch 213, new best val loss 0.20728934118343514\n",
      "Model overwritten at epoch 216, new best val loss 0.2053390088404087\n",
      "Model overwritten at epoch 217, new best val loss 0.2016902853926969\n",
      "Model overwritten at epoch 218, new best val loss 0.20150554866071732\n",
      "Epoch: 221/550, train loss:  0.066, val_loss:  0.203, duration: 0:00:48.034340, learning rate: (0.0001, 0.0001)\n",
      "Model overwritten at epoch 221, new best val loss 0.2007171089844729\n",
      "Model overwritten at epoch 222, new best val loss 0.2004955791239175\n",
      "Model overwritten at epoch 224, new best val loss 0.19816190448492713\n",
      "Model overwritten at epoch 226, new best val loss 0.19732413074326893\n",
      "Model overwritten at epoch 229, new best val loss 0.19562367124505986\n",
      "Model overwritten at epoch 230, new best val loss 0.195307233963799\n",
      "Epoch: 231/550, train loss:  0.055, val_loss:  0.195, duration: 0:00:47.804809, learning rate: (0.0001, 0.0001)\n",
      "Model overwritten at epoch 235, new best val loss 0.19433883857474757\n",
      "Model overwritten at epoch 238, new best val loss 0.19287571195361897\n",
      "Epoch: 241/550, train loss:  0.049, val_loss:  0.199, duration: 0:00:47.936943, learning rate: (0.0001, 0.0001)\n",
      "Model overwritten at epoch 243, new best val loss 0.19284935509769585\n",
      "Model overwritten at epoch 245, new best val loss 0.19177484173307974\n",
      "Model overwritten at epoch 246, new best val loss 0.19038863707419215\n",
      "Epoch: 251/550, train loss:  0.044, val_loss:  0.194, duration: 0:00:47.823305, learning rate: (0.0001, 0.0001)\n",
      "Model overwritten at epoch 258, new best val loss 0.18216182663379732\n",
      "Model overwritten at epoch 259, new best val loss 0.1817805603330518\n",
      "Model overwritten at epoch 260, new best val loss 0.1814630216092686\n",
      "Epoch: 261/550, train loss:  0.025, val_loss:  0.181, duration: 0:00:48.034351, learning rate: (1e-05, 1e-05)\n",
      "Epoch: 271/550, train loss:  0.022, val_loss:  0.183, duration: 0:00:47.802882, learning rate: (1e-05, 1e-05)\n",
      "Epoch: 281/550, train loss:  0.021, val_loss:  0.183, duration: 0:00:48.022809, learning rate: (1.0000000000000002e-06, 1.0000000000000002e-06)\n",
      "Max patience reached, training is terminated at epoch 281\n"
     ]
    }
   ],
   "source": [
    "load_model_weight = None\n",
    "epochs = 550\n",
    "new_model_name = 'LSTM-400'\n",
    "if load_model_weight is None:\n",
    "    train_losses, test_losses=train_from_scratch_or_load(load_model_weight,new_model_name,  epochs)\n",
    "else:\n",
    "    trained_model_v00 = train_from_scratch_or_load(load_model_weight, new_model_name, epochs)\n",
    "    #Train accuracy\n",
    "    yt, tgt, acct = get_pred_n_acc([trained_model_v00], device, train_loader, num_iter = len(train_loader))\n",
    "    #validation accuracy\n",
    "    yv, tgv, accv = get_pred_n_acc([trained_model_v00], device, val_loader, num_iter = len(val_loader))\n",
    "    print(f'Train data, target shapes: {yt.shape, tgt.shape},\\n train accuracies {acct}')\n",
    "    print(f'Validation data, target shapes: {yv.shape, tgv.shape},\\n validation accuracies {accv}')\n",
    "    #Test accuracy\n",
    "    yts, tgts, accts = get_pred_n_acc([trained_model_v00], device, test_loader, num_iter = len(test_loader))\n",
    "    print(f'Test data, target shapes: {yts.shape, tgts.shape},\\n test accuracies {accts}')"
   ]
  },
  {
   "cell_type": "code",
   "execution_count": 19,
   "id": "d762d136",
   "metadata": {
    "execution": {
     "iopub.execute_input": "2024-05-04T15:53:17.567727Z",
     "iopub.status.busy": "2024-05-04T15:53:17.567399Z",
     "iopub.status.idle": "2024-05-04T15:53:17.835480Z",
     "shell.execute_reply": "2024-05-04T15:53:17.834494Z"
    },
    "papermill": {
     "duration": 0.288603,
     "end_time": "2024-05-04T15:53:17.837633",
     "exception": false,
     "start_time": "2024-05-04T15:53:17.549030",
     "status": "completed"
    },
    "tags": []
   },
   "outputs": [
    {
     "data": {
      "image/png": "[encoded data removed]",
      "text/plain": [
       "<Figure size 640x480 with 1 Axes>"
      ]
     },
     "metadata": {},
     "output_type": "display_data"
    }
   ],
   "source": [
    "plot_losses(train_losses, test_losses)"
   ]
  },
  {
   "cell_type": "markdown",
   "id": "d6fdfb6f",
   "metadata": {
    "papermill": {
     "duration": 0.017253,
     "end_time": "2024-05-04T15:53:17.872393",
     "exception": false,
     "start_time": "2024-05-04T15:53:17.855140",
     "status": "completed"
    },
    "tags": []
   },
   "source": [
    "# Accuracies"
   ]
  },
  {
   "cell_type": "code",
   "execution_count": 20,
   "id": "1379dcae",
   "metadata": {
    "execution": {
     "iopub.execute_input": "2024-05-04T15:53:17.908410Z",
     "iopub.status.busy": "2024-05-04T15:53:17.908078Z",
     "iopub.status.idle": "2024-05-04T15:53:41.767136Z",
     "shell.execute_reply": "2024-05-04T15:53:41.766060Z"
    },
    "papermill": {
     "duration": 23.879849,
     "end_time": "2024-05-04T15:53:41.769493",
     "exception": false,
     "start_time": "2024-05-04T15:53:17.889644",
     "status": "completed"
    },
    "tags": []
   },
   "outputs": [
    {
     "name": "stdout",
     "output_type": "stream",
     "text": [
      "Train data, target shapes: ((652092, 4), (652092, 4)),\n",
      " train accuracies [99.91749630420247, 98.44561810296707, 99.38290916005717, 91.59827140955571]\n",
      "Validation data, target shapes: ((72455, 4), (72455, 4)),\n",
      " validation accuracies [99.37478434890622, 94.32613346214892, 88.1126216272169, 65.10247739976536]\n"
     ]
    }
   ],
   "source": [
    "#Train accuracy\n",
    "yt, tgt, acct = get_pred_n_acc([model], device, train_loader, num_iter = len(train_loader))\n",
    "#validation accuracy\n",
    "yv, tgv, accv = get_pred_n_acc([model], device, val_loader, num_iter = len(val_loader))\n",
    "print(f'Train data, target shapes: {yt.shape, tgt.shape},\\n train accuracies {acct}')\n",
    "print(f'Validation data, target shapes: {yv.shape, tgv.shape},\\n validation accuracies {accv}')\n"
   ]
  },
  {
   "cell_type": "code",
   "execution_count": 21,
   "id": "083a8c13",
   "metadata": {
    "execution": {
     "iopub.execute_input": "2024-05-04T15:53:41.806318Z",
     "iopub.status.busy": "2024-05-04T15:53:41.806004Z",
     "iopub.status.idle": "2024-05-04T15:53:47.502539Z",
     "shell.execute_reply": "2024-05-04T15:53:47.501457Z"
    },
    "papermill": {
     "duration": 5.717195,
     "end_time": "2024-05-04T15:53:47.504798",
     "exception": false,
     "start_time": "2024-05-04T15:53:41.787603",
     "status": "completed"
    },
    "tags": []
   },
   "outputs": [
    {
     "name": "stdout",
     "output_type": "stream",
     "text": [
      "Test data, target shapes: ((181137, 4), (181137, 4)),\n",
      " test accuracies [99.38886036535882, 94.17071056713979, 88.00797186659821, 65.26827760203602]\n"
     ]
    }
   ],
   "source": [
    "#Test accuracy\n",
    "yts, tgts, accts = get_pred_n_acc([model], device, test_loader, num_iter = len(test_loader))\n",
    "print(f'Test data, target shapes: {yts.shape, tgts.shape},\\n test accuracies {accts}')\n"
   ]
  }
 ],
 "metadata": {
  "kaggle": {
   "accelerator": "gpu",
   "dataSources": [
    {
     "sourceId": 171630138,
     "sourceType": "kernelVersion"
    }
   ],
   "dockerImageVersionId": 30665,
   "isGpuEnabled": true,
   "isInternetEnabled": true,
   "language": "python",
   "sourceType": "notebook"
  },
  "kernelspec": {
   "display_name": "Python 3 (ipykernel)",
   "language": "python",
   "name": "python3"
  },
  "language_info": {
   "codemirror_mode": {
    "name": "ipython",
    "version": 3
   },
   "file_extension": ".py",
   "mimetype": "text/x-python",
   "name": "python",
   "nbconvert_exporter": "python",
   "pygments_lexer": "ipython3",
   "version": "3.9.12"
  },
  "papermill": {
   "default_parameters": {},
   "duration": 13568.015568,
   "end_time": "2024-05-04T15:53:50.085391",
   "environment_variables": {},
   "exception": null,
   "input_path": "__notebook__.ipynb",
   "output_path": "__notebook__.ipynb",
   "parameters": {},
   "start_time": "2024-05-04T12:07:42.069823",
   "version": "2.5.0"
  }
 },
 "nbformat": 4,
 "nbformat_minor": 5
}
