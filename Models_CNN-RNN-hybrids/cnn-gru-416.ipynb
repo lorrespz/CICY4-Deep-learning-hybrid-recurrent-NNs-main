{
 "cells": [
  {
   "cell_type": "markdown",
   "id": "46c093f0",
   "metadata": {
    "papermill": {
     "duration": 0.008414,
     "end_time": "2024-05-11T18:10:08.497454",
     "exception": false,
     "start_time": "2024-05-11T18:10:08.489040",
     "status": "completed"
    },
    "tags": []
   },
   "source": [
    "# CICY4:CNN-GRU hybrid"
   ]
  },
  {
   "cell_type": "code",
   "execution_count": 1,
   "id": "0cebf188",
   "metadata": {
    "_cell_guid": "b1076dfc-b9ad-4769-8c92-a6c4dae69d19",
    "_uuid": "8f2839f25d086af736a60e9eeb907d3b93b6e0e5",
    "execution": {
     "iopub.execute_input": "2024-05-11T18:10:08.514497Z",
     "iopub.status.busy": "2024-05-11T18:10:08.514193Z",
     "iopub.status.idle": "2024-05-11T18:10:13.926798Z",
     "shell.execute_reply": "2024-05-11T18:10:13.925746Z"
    },
    "papermill": {
     "duration": 5.424515,
     "end_time": "2024-05-11T18:10:13.929891",
     "exception": false,
     "start_time": "2024-05-11T18:10:08.505376",
     "status": "completed"
    },
    "tags": []
   },
   "outputs": [],
   "source": [
    "import numpy as np\n",
    "import pandas as pd\n",
    "import random\n",
    "import os as os\n",
    "import matplotlib.pyplot as plt\n",
    "import seaborn as sns\n",
    "from datetime import datetime\n",
    "sns.set_style(\"darkgrid\")\n",
    "\n",
    "import torch\n",
    "import torch.nn as nn\n",
    "import torch.nn.functional as F\n",
    "import torch.optim.lr_scheduler as lr_scheduler"
   ]
  },
  {
   "cell_type": "code",
   "execution_count": 2,
   "id": "8f9f407b",
   "metadata": {
    "execution": {
     "iopub.execute_input": "2024-05-11T18:10:13.952911Z",
     "iopub.status.busy": "2024-05-11T18:10:13.952450Z",
     "iopub.status.idle": "2024-05-11T18:10:14.010235Z",
     "shell.execute_reply": "2024-05-11T18:10:14.009159Z"
    },
    "papermill": {
     "duration": 0.07163,
     "end_time": "2024-05-11T18:10:14.012716",
     "exception": false,
     "start_time": "2024-05-11T18:10:13.941086",
     "status": "completed"
    },
    "tags": []
   },
   "outputs": [
    {
     "name": "stdout",
     "output_type": "stream",
     "text": [
      "cuda:0\n"
     ]
    }
   ],
   "source": [
    "device = torch.device(\"cuda:0\" if torch.cuda.is_available() else \"cpu\")\n",
    "print(device)"
   ]
  },
  {
   "cell_type": "code",
   "execution_count": 3,
   "id": "fb0549b7",
   "metadata": {
    "execution": {
     "iopub.execute_input": "2024-05-11T18:10:14.033133Z",
     "iopub.status.busy": "2024-05-11T18:10:14.032748Z",
     "iopub.status.idle": "2024-05-11T18:10:14.042510Z",
     "shell.execute_reply": "2024-05-11T18:10:14.041502Z"
    },
    "papermill": {
     "duration": 0.02477,
     "end_time": "2024-05-11T18:10:14.045957",
     "exception": false,
     "start_time": "2024-05-11T18:10:14.021187",
     "status": "completed"
    },
    "tags": []
   },
   "outputs": [],
   "source": [
    "seed = 42\n",
    "\n",
    "def seed_everything(seed):\n",
    "    random.seed(seed)\n",
    "    os.environ['PYTHONHASHSEED'] = str(seed)\n",
    "    np.random.seed(seed)\n",
    "    torch.manual_seed(seed)\n",
    "    torch.cuda.manual_seed(seed)\n",
    "    torch.cuda.manual_seed_all(seed)\n",
    "    torch.backends.cudnn.deterministic = True\n",
    "\n",
    "seed_everything(seed)"
   ]
  },
  {
   "cell_type": "markdown",
   "id": "ed332cbb",
   "metadata": {
    "papermill": {
     "duration": 0.011249,
     "end_time": "2024-05-11T18:10:14.068654",
     "exception": false,
     "start_time": "2024-05-11T18:10:14.057405",
     "status": "completed"
    },
    "tags": []
   },
   "source": [
    "# CNN-RNN hybrid network architecture"
   ]
  },
  {
   "cell_type": "code",
   "execution_count": 4,
   "id": "46e5686a",
   "metadata": {
    "execution": {
     "iopub.execute_input": "2024-05-11T18:10:14.091519Z",
     "iopub.status.busy": "2024-05-11T18:10:14.091223Z",
     "iopub.status.idle": "2024-05-11T18:10:14.098151Z",
     "shell.execute_reply": "2024-05-11T18:10:14.097406Z"
    },
    "papermill": {
     "duration": 0.021422,
     "end_time": "2024-05-11T18:10:14.100013",
     "exception": false,
     "start_time": "2024-05-11T18:10:14.078591",
     "status": "completed"
    },
    "tags": []
   },
   "outputs": [],
   "source": [
    "##################### CNN ###############################\n",
    "class CNN_block(nn.Module):  \n",
    "    def __init__(self):\n",
    "        super().__init__()\n",
    "        self.conv1 = nn.Conv2d(1,128, 4, 1)\n",
    "        #self.bn1 = nn.BatchNorm2d(128)\n",
    "        self.conv2 = nn.Conv2d(128, 64, 3, 1)\n",
    "        #self.bn2 = nn.BatchNorm2d(64)\n",
    "        self.mxpool = nn.MaxPool2d(2,2)\n",
    "        #self.conv3 = nn.Conv2d(128,64, 2, 1)\n",
    "        self.flat = nn.Flatten()\n",
    "        self.conv_total = nn.Sequential(\n",
    "            self.conv1,\n",
    "            self.mxpool,\n",
    "            self.conv2,\n",
    "            self.mxpool,\n",
    "        )\n",
    "    def forward(self,x):\n",
    "        x = F.relu(self.conv_total(x))\n",
    "        #reshape is the same as flat(x)\n",
    "        #x = x.reshape(x.shape[0], -1)\n",
    "        x = self.flat(x)   \n",
    "        return x"
   ]
  },
  {
   "cell_type": "code",
   "execution_count": 5,
   "id": "af28b06d",
   "metadata": {
    "execution": {
     "iopub.execute_input": "2024-05-11T18:10:14.117380Z",
     "iopub.status.busy": "2024-05-11T18:10:14.116909Z",
     "iopub.status.idle": "2024-05-11T18:10:14.123715Z",
     "shell.execute_reply": "2024-05-11T18:10:14.122908Z"
    },
    "papermill": {
     "duration": 0.017659,
     "end_time": "2024-05-11T18:10:14.125630",
     "exception": false,
     "start_time": "2024-05-11T18:10:14.107971",
     "status": "completed"
    },
    "tags": []
   },
   "outputs": [],
   "source": [
    "class RNN_block(nn.Module):\n",
    "    def __init__(self, n_inputs, n_hidden, n_rnnlayers, n_outputs):\n",
    "        super(RNN_block,self).__init__()\n",
    "        self.D = n_inputs\n",
    "        self.M = n_hidden\n",
    "        self.K = n_outputs\n",
    "        self.L = n_rnnlayers          \n",
    "        self.gru = nn.GRU(input_size = self.D,\n",
    "                           hidden_size = self.M,\n",
    "                           num_layers = self.L,\n",
    "                           batch_first = True)\n",
    "    def forward(self, X):\n",
    "        #input X is NxTxD\n",
    "        #initial hidden states\n",
    "        h0 = torch.zeros(self.L, X.size(0), self.M).to(device)\n",
    "        #output is NxTxM\n",
    "        out, _ = self.gru(X, h0)   \n",
    "        #we only want h(T) at the final time step\n",
    "        # output is now of shape (N, M)\n",
    "        out = out[:, -1, :]\n",
    "        return out"
   ]
  },
  {
   "cell_type": "code",
   "execution_count": 6,
   "id": "1b00a885",
   "metadata": {
    "execution": {
     "iopub.execute_input": "2024-05-11T18:10:14.142590Z",
     "iopub.status.busy": "2024-05-11T18:10:14.142338Z",
     "iopub.status.idle": "2024-05-11T18:10:14.149338Z",
     "shell.execute_reply": "2024-05-11T18:10:14.148615Z"
    },
    "papermill": {
     "duration": 0.017615,
     "end_time": "2024-05-11T18:10:14.151166",
     "exception": false,
     "start_time": "2024-05-11T18:10:14.133551",
     "status": "completed"
    },
    "tags": []
   },
   "outputs": [],
   "source": [
    "class CNN_RNN_hybrid(nn.Module):\n",
    "    def __init__(self, cnn_block, rnn_block, feat_vec_size):\n",
    "        super(CNN_RNN_hybrid, self).__init__()\n",
    "        self.cnn_block = cnn_block\n",
    "        self.rnn_block = rnn_block\n",
    "        self.feat_vec_size = feat_vec_size\n",
    "        self.fc1 = nn.Linear(self.feat_vec_size, 1024)\n",
    "        self.fc2 = nn.Linear(1024, 4)       \n",
    "    def forward(self, x):\n",
    "        #output of cnn block is (N,384)\n",
    "        x1 = x.view(-1,1, 16,20)\n",
    "        x1 = self.cnn_block(x1)\n",
    "        #output of rnn block is (N,M = 64)\n",
    "        x2 = self.rnn_block(x)\n",
    "        #concatenate the 2 outputs to produce a feat vec (N, M+384)\n",
    "        xx = torch.cat([x1, x2], dim = 1)\n",
    "        # pass through linear layers\n",
    "        xx = self.fc1(xx)\n",
    "        #final output is 4\n",
    "        xx = self.fc2(xx)       \n",
    "        return xx"
   ]
  },
  {
   "cell_type": "code",
   "execution_count": 7,
   "id": "75a43899",
   "metadata": {
    "execution": {
     "iopub.execute_input": "2024-05-11T18:10:14.168575Z",
     "iopub.status.busy": "2024-05-11T18:10:14.168323Z",
     "iopub.status.idle": "2024-05-11T18:10:14.502544Z",
     "shell.execute_reply": "2024-05-11T18:10:14.501677Z"
    },
    "papermill": {
     "duration": 0.345188,
     "end_time": "2024-05-11T18:10:14.504652",
     "exception": false,
     "start_time": "2024-05-11T18:10:14.159464",
     "status": "completed"
    },
    "tags": []
   },
   "outputs": [
    {
     "data": {
      "text/plain": [
       "CNN_RNN_hybrid(\n",
       "  (cnn_block): CNN_block(\n",
       "    (conv1): Conv2d(1, 128, kernel_size=(4, 4), stride=(1, 1))\n",
       "    (conv2): Conv2d(128, 64, kernel_size=(3, 3), stride=(1, 1))\n",
       "    (mxpool): MaxPool2d(kernel_size=2, stride=2, padding=0, dilation=1, ceil_mode=False)\n",
       "    (flat): Flatten(start_dim=1, end_dim=-1)\n",
       "    (conv_total): Sequential(\n",
       "      (0): Conv2d(1, 128, kernel_size=(4, 4), stride=(1, 1))\n",
       "      (1): MaxPool2d(kernel_size=2, stride=2, padding=0, dilation=1, ceil_mode=False)\n",
       "      (2): Conv2d(128, 64, kernel_size=(3, 3), stride=(1, 1))\n",
       "      (3): MaxPool2d(kernel_size=2, stride=2, padding=0, dilation=1, ceil_mode=False)\n",
       "    )\n",
       "  )\n",
       "  (rnn_block): RNN_block(\n",
       "    (gru): GRU(20, 416, num_layers=2, batch_first=True)\n",
       "  )\n",
       "  (fc1): Linear(in_features=800, out_features=1024, bias=True)\n",
       "  (fc2): Linear(in_features=1024, out_features=4, bias=True)\n",
       ")"
      ]
     },
     "execution_count": 7,
     "metadata": {},
     "output_type": "execute_result"
    }
   ],
   "source": [
    "cnn_block = CNN_block()\n",
    "cnn_block.to(device)\n",
    "gru_block = RNN_block(20, 416, 2, 4)\n",
    "gru_block.to(device)\n",
    "model = CNN_RNN_hybrid(cnn_block, gru_block, 416+384)\n",
    "model.to(device)"
   ]
  },
  {
   "cell_type": "code",
   "execution_count": 8,
   "id": "09294b97",
   "metadata": {
    "execution": {
     "iopub.execute_input": "2024-05-11T18:10:14.522812Z",
     "iopub.status.busy": "2024-05-11T18:10:14.522280Z",
     "iopub.status.idle": "2024-05-11T18:10:14.527375Z",
     "shell.execute_reply": "2024-05-11T18:10:14.526494Z"
    },
    "papermill": {
     "duration": 0.016281,
     "end_time": "2024-05-11T18:10:14.529407",
     "exception": false,
     "start_time": "2024-05-11T18:10:14.513126",
     "status": "completed"
    },
    "tags": []
   },
   "outputs": [
    {
     "name": "stdout",
     "output_type": "stream",
     "text": [
      "2487748\n"
     ]
    }
   ],
   "source": [
    "#count the number of parameters in the model\n",
    "params = [p.numel() for p in model.parameters() if p.requires_grad]\n",
    "print(sum(params))"
   ]
  },
  {
   "cell_type": "markdown",
   "id": "b057bfd7",
   "metadata": {
    "papermill": {
     "duration": 0.008068,
     "end_time": "2024-05-11T18:10:14.545644",
     "exception": false,
     "start_time": "2024-05-11T18:10:14.537576",
     "status": "completed"
    },
    "tags": []
   },
   "source": [
    "# Load data, define custom dataset class and dataloaders"
   ]
  },
  {
   "cell_type": "code",
   "execution_count": 9,
   "id": "8367110e",
   "metadata": {
    "execution": {
     "iopub.execute_input": "2024-05-11T18:10:14.563347Z",
     "iopub.status.busy": "2024-05-11T18:10:14.563073Z",
     "iopub.status.idle": "2024-05-11T18:10:26.180237Z",
     "shell.execute_reply": "2024-05-11T18:10:26.179305Z"
    },
    "papermill": {
     "duration": 11.628718,
     "end_time": "2024-05-11T18:10:26.182507",
     "exception": false,
     "start_time": "2024-05-11T18:10:14.553789",
     "status": "completed"
    },
    "tags": []
   },
   "outputs": [
    {
     "name": "stdout",
     "output_type": "stream",
     "text": [
      "(652092, 16, 20) (72455, 16, 20) (181137, 16, 20)\n",
      "(652092, 4) (72455, 4) (181137, 4)\n"
     ]
    }
   ],
   "source": [
    "X_train = np.load('/kaggle/input/cicy4-data-processing/conf_Xtrain.npy')\n",
    "X_test = np.load('/kaggle/input/cicy4-data-processing/conf_Xtest.npy')\n",
    "X_valid = np.load('/kaggle/input/cicy4-data-processing/conf_Xvalid.npy')\n",
    "\n",
    "y_train = np.load('/kaggle/input/cicy4-data-processing/hodge_ytrain.npy')\n",
    "y_test= np.load('/kaggle/input/cicy4-data-processing/hodge_ytest.npy')\n",
    "y_valid = np.load('/kaggle/input/cicy4-data-processing/hodge_yvalid.npy')\n",
    "\n",
    "print(X_train.shape, X_valid.shape, X_test.shape)\n",
    "print(y_train.shape, y_valid.shape, y_test.shape)"
   ]
  },
  {
   "cell_type": "code",
   "execution_count": 10,
   "id": "2a214e15",
   "metadata": {
    "execution": {
     "iopub.execute_input": "2024-05-11T18:10:26.201179Z",
     "iopub.status.busy": "2024-05-11T18:10:26.200622Z",
     "iopub.status.idle": "2024-05-11T18:10:26.658668Z",
     "shell.execute_reply": "2024-05-11T18:10:26.657871Z"
    },
    "papermill": {
     "duration": 0.469788,
     "end_time": "2024-05-11T18:10:26.661070",
     "exception": false,
     "start_time": "2024-05-11T18:10:26.191282",
     "status": "completed"
    },
    "tags": []
   },
   "outputs": [],
   "source": [
    "#Convert data to torch tensor with float32 precision \n",
    "#(needed to be compatible with the floating decision of the network parameters)\n",
    "X_train = torch.from_numpy(X_train.astype(np.float32))\n",
    "y_train = torch.from_numpy(y_train.astype(np.float32))\n",
    "\n",
    "X_valid = torch.from_numpy(X_valid.astype(np.float32)) \n",
    "y_valid = torch.from_numpy(y_valid.astype(np.float32)) \n",
    "\n",
    "X_test = torch.from_numpy(X_test.astype(np.float32)) \n",
    "y_test= torch.from_numpy(y_test.astype(np.float32)) "
   ]
  },
  {
   "cell_type": "code",
   "execution_count": 11,
   "id": "8ffb1a84",
   "metadata": {
    "execution": {
     "iopub.execute_input": "2024-05-11T18:10:26.679434Z",
     "iopub.status.busy": "2024-05-11T18:10:26.679134Z",
     "iopub.status.idle": "2024-05-11T18:10:26.685193Z",
     "shell.execute_reply": "2024-05-11T18:10:26.684414Z"
    },
    "papermill": {
     "duration": 0.017385,
     "end_time": "2024-05-11T18:10:26.687145",
     "exception": false,
     "start_time": "2024-05-11T18:10:26.669760",
     "status": "completed"
    },
    "tags": []
   },
   "outputs": [],
   "source": [
    "class CICY4Dataset(torch.utils.data.Dataset):\n",
    "    def __init__(self, X, y):\n",
    "        self.X = X\n",
    "        self.y = y        \n",
    "    def __len__(self):\n",
    "        return len(self.X)      \n",
    "    def __getitem__(self, idx):\n",
    "        X0 = self.X[idx]\n",
    "        y0 = self.y[idx]  \n",
    "        return X0, y0\n",
    "        \n",
    "train_set = CICY4Dataset(X_train, y_train)\n",
    "val_set = CICY4Dataset(X_valid, y_valid)\n",
    "test_set = CICY4Dataset(X_test, y_test)"
   ]
  },
  {
   "cell_type": "code",
   "execution_count": 12,
   "id": "36dbc4d5",
   "metadata": {
    "execution": {
     "iopub.execute_input": "2024-05-11T18:10:26.704847Z",
     "iopub.status.busy": "2024-05-11T18:10:26.704561Z",
     "iopub.status.idle": "2024-05-11T18:10:26.709716Z",
     "shell.execute_reply": "2024-05-11T18:10:26.708890Z"
    },
    "papermill": {
     "duration": 0.016112,
     "end_time": "2024-05-11T18:10:26.711561",
     "exception": false,
     "start_time": "2024-05-11T18:10:26.695449",
     "status": "completed"
    },
    "tags": []
   },
   "outputs": [],
   "source": [
    "from torch.utils.data import DataLoader\n",
    "\n",
    "train_loader = DataLoader(train_set, batch_size=128, shuffle=True)\n",
    "val_loader = DataLoader(val_set, batch_size=128, shuffle=True)\n",
    "test_loader = DataLoader(test_set, batch_size=128, shuffle=False)"
   ]
  },
  {
   "cell_type": "code",
   "execution_count": 13,
   "id": "4dec0ad8",
   "metadata": {
    "execution": {
     "iopub.execute_input": "2024-05-11T18:10:26.729237Z",
     "iopub.status.busy": "2024-05-11T18:10:26.728971Z",
     "iopub.status.idle": "2024-05-11T18:10:26.753058Z",
     "shell.execute_reply": "2024-05-11T18:10:26.751868Z"
    },
    "papermill": {
     "duration": 0.034989,
     "end_time": "2024-05-11T18:10:26.754906",
     "exception": false,
     "start_time": "2024-05-11T18:10:26.719917",
     "status": "completed"
    },
    "tags": []
   },
   "outputs": [
    {
     "name": "stdout",
     "output_type": "stream",
     "text": [
      "Train loader contains 5095 batches, each of size 128\n",
      "Valid loader contains 567 batches, each of size 128\n",
      "Test loader contains 1416 batches, each of size 128\n",
      "torch.float32\n",
      "Each data and target batch have the following shape\n",
      "torch.Size([128, 16, 20]) torch.Size([128, 4])\n"
     ]
    }
   ],
   "source": [
    "print(f'Train loader contains {len(train_loader)} batches, each of size 128')\n",
    "print(f'Valid loader contains {len(val_loader)} batches, each of size 128')\n",
    "print(f'Test loader contains {len(test_loader)} batches, each of size 128')\n",
    "#d, t = next(iter(train_loader))\n",
    "#print(d.dtype)\n",
    "#print('Each data and target batch have the following shape')\n",
    "#print(d.shape, t.shape)\n",
    "\n",
    "for d, t in test_loader:\n",
    "    print(d.dtype)\n",
    "    print('Each data and target batch have the following shape')\n",
    "    print(d.shape, t.shape)\n",
    "    break"
   ]
  },
  {
   "cell_type": "markdown",
   "id": "f5789482",
   "metadata": {
    "papermill": {
     "duration": 0.008278,
     "end_time": "2024-05-11T18:10:26.771499",
     "exception": false,
     "start_time": "2024-05-11T18:10:26.763221",
     "status": "completed"
    },
    "tags": []
   },
   "source": [
    "# Utility functions"
   ]
  },
  {
   "cell_type": "code",
   "execution_count": 14,
   "id": "7fa09877",
   "metadata": {
    "execution": {
     "iopub.execute_input": "2024-05-11T18:10:26.789229Z",
     "iopub.status.busy": "2024-05-11T18:10:26.788679Z",
     "iopub.status.idle": "2024-05-11T18:10:26.794823Z",
     "shell.execute_reply": "2024-05-11T18:10:26.793991Z"
    },
    "papermill": {
     "duration": 0.016881,
     "end_time": "2024-05-11T18:10:26.796584",
     "exception": false,
     "start_time": "2024-05-11T18:10:26.779703",
     "status": "completed"
    },
    "tags": []
   },
   "outputs": [],
   "source": [
    "def train_one_epoch(model, criterion, optimizer, train_loader, cnn = False):\n",
    "    model.train()\n",
    "    train_loss = []\n",
    "    for inputs, target in train_loader:\n",
    "        if cnn:\n",
    "            inputs = inputs.view(batch_size,1,16,20)\n",
    "        inputs, target = inputs.to(device), target.to(device)\n",
    "        optimizer.zero_grad()\n",
    "        out = model(inputs)\n",
    "        loss = criterion(out, target)\n",
    "        loss.backward()\n",
    "        optimizer.step()\n",
    "        train_loss.append(loss.item())\n",
    "    #average the train_loss list in for all batches in the train_gen\n",
    "    train_loss = np.mean(train_loss)    \n",
    "    return train_loss"
   ]
  },
  {
   "cell_type": "code",
   "execution_count": 15,
   "id": "5103e2bb",
   "metadata": {
    "execution": {
     "iopub.execute_input": "2024-05-11T18:10:26.814288Z",
     "iopub.status.busy": "2024-05-11T18:10:26.814025Z",
     "iopub.status.idle": "2024-05-11T18:10:26.819719Z",
     "shell.execute_reply": "2024-05-11T18:10:26.818892Z"
    },
    "papermill": {
     "duration": 0.016678,
     "end_time": "2024-05-11T18:10:26.821704",
     "exception": false,
     "start_time": "2024-05-11T18:10:26.805026",
     "status": "completed"
    },
    "tags": []
   },
   "outputs": [],
   "source": [
    "def validate_one_epoch(model, criterion, optimizer, val_loader, cnn = False):\n",
    "    model.eval()\n",
    "    test_loss = []\n",
    "    for inputs, target in val_loader:\n",
    "        if cnn:\n",
    "            inputs = inputs.view(batch_size,1,16,20)\n",
    "        inputs, target = inputs.to(device), target.to(device)\n",
    "        out = model(inputs)\n",
    "        loss = criterion(out, target)\n",
    "        test_loss.append(loss.item())\n",
    "    #average the test_loss list in for all batches in the test_gen\n",
    "    test_loss = np.mean(test_loss)\n",
    "    return test_loss"
   ]
  },
  {
   "cell_type": "code",
   "execution_count": 16,
   "id": "499e7234",
   "metadata": {
    "execution": {
     "iopub.execute_input": "2024-05-11T18:10:26.839578Z",
     "iopub.status.busy": "2024-05-11T18:10:26.839332Z",
     "iopub.status.idle": "2024-05-11T18:10:26.849580Z",
     "shell.execute_reply": "2024-05-11T18:10:26.848789Z"
    },
    "papermill": {
     "duration": 0.021333,
     "end_time": "2024-05-11T18:10:26.851396",
     "exception": false,
     "start_time": "2024-05-11T18:10:26.830063",
     "status": "completed"
    },
    "tags": []
   },
   "outputs": [],
   "source": [
    "def batch_gd_scheduler(model, new_model_name, criterion, optimizer, train_loader, val_loader, scheduler,\n",
    "                         epochs, device, batch_size=128,  cnn = False):\n",
    "    train_losses = np.zeros(epochs)\n",
    "    test_losses = np.zeros(epochs)\n",
    "    patience = 0\n",
    "    best_loss = 1000\n",
    "    max_patience = 20\n",
    "    for i in range(epochs):\n",
    "        t0 = datetime.now()\n",
    "        train_loss = train_one_epoch(model, criterion, optimizer,train_loader)\n",
    "        test_loss = validate_one_epoch(model, criterion, optimizer,val_loader)\n",
    "        #Early stopping based on test loss\n",
    "        if i == 0:\n",
    "            best_loss = test_loss   \n",
    "            torch.save(model, f'/kaggle/working/{new_model_name}.pt')\n",
    "            print(f'Model saved as {new_model_name} at epoch {i}')\n",
    "        else:\n",
    "            if test_loss < best_loss:\n",
    "                best_loss = test_loss\n",
    "                torch.save(model, f'/kaggle/working/{new_model_name}.pt')\n",
    "                print(f'Model overwritten at epoch {i}, new best val loss {best_loss: .4f}')\n",
    "                patience = 0\n",
    "            else:\n",
    "                patience = patience +1\n",
    "                #print(f'No improvement, current patience level is {patience} at epoch {i}')\n",
    "        if patience > max_patience:\n",
    "            print(f'Max patience reached, training is terminated at epoch {i}')\n",
    "            break\n",
    "        #if early_stopper.early_stop(test_loss):             \n",
    "        #    break\n",
    "        #Apply scheduler after the train+validate parts\n",
    "        before_lr = optimizer.param_groups[0][\"lr\"]\n",
    "        scheduler.step(test_loss)\n",
    "        after_lr = optimizer.param_groups[0][\"lr\"]\n",
    "        train_losses[i] = train_loss\n",
    "        test_losses[i] = test_loss\n",
    "        #write the losses into a csv file\n",
    "        loss_dict = {'train_loss': train_losses, 'test_loss': test_losses}\n",
    "        dd = pd.DataFrame(loss_dict)\n",
    "        dd.to_csv('loss_dict_cnn_gru_416.csv', index = False)\n",
    "        dt = datetime.now()-t0\n",
    "        if i%10==0:\n",
    "            print(f'Epoch: {i}/{epochs}, train loss: {train_loss: .3f}, val_loss: {test_loss: .3f}, duration: {dt}, learning rate: {before_lr, after_lr}')\n",
    "    return train_losses, test_losses"
   ]
  },
  {
   "cell_type": "code",
   "execution_count": 17,
   "id": "759bee16",
   "metadata": {
    "execution": {
     "iopub.execute_input": "2024-05-11T18:10:26.868853Z",
     "iopub.status.busy": "2024-05-11T18:10:26.868580Z",
     "iopub.status.idle": "2024-05-11T18:10:26.875116Z",
     "shell.execute_reply": "2024-05-11T18:10:26.874330Z"
    },
    "papermill": {
     "duration": 0.017438,
     "end_time": "2024-05-11T18:10:26.877052",
     "exception": false,
     "start_time": "2024-05-11T18:10:26.859614",
     "status": "completed"
    },
    "tags": []
   },
   "outputs": [],
   "source": [
    "def train_from_scratch_or_load(load_model_weight,new_model_name, epochs, cnn = False):    \n",
    "    if load_model_weight==None:\n",
    "        #criterion = nn.MSELoss()\n",
    "        criterion = nn.HuberLoss()\n",
    "        optimizer = torch.optim.AdamW(model.parameters(), lr=0.01)\n",
    "        scheduler = lr_scheduler.ReduceLROnPlateau(optimizer, 'min', factor=0.1, min_lr = 1e-8)\n",
    "        train_losses, test_losses=batch_gd_scheduler(model, new_model_name, criterion, \n",
    "                                                     optimizer,train_loader, val_loader,\n",
    "                                                      scheduler, epochs, \n",
    "                                                       device = device, cnn=cnn)\n",
    "        return train_losses, test_losses\n",
    "    else:\n",
    "        if torch.cuda.is_available():\n",
    "            trained_model = torch.load(load_model_weight)     \n",
    "        else:\n",
    "            trained_model = torch.load(load_model_weight, map_location=torch.device('cpu'))       \n",
    "        return trained_model"
   ]
  },
  {
   "cell_type": "code",
   "execution_count": 18,
   "id": "4a9b4d19",
   "metadata": {
    "execution": {
     "iopub.execute_input": "2024-05-11T18:10:26.894916Z",
     "iopub.status.busy": "2024-05-11T18:10:26.894644Z",
     "iopub.status.idle": "2024-05-11T18:10:26.900580Z",
     "shell.execute_reply": "2024-05-11T18:10:26.899788Z"
    },
    "papermill": {
     "duration": 0.016838,
     "end_time": "2024-05-11T18:10:26.902353",
     "exception": false,
     "start_time": "2024-05-11T18:10:26.885515",
     "status": "completed"
    },
    "tags": []
   },
   "outputs": [],
   "source": [
    "def load_and_retrain(load_model_weight, new_model_name, epochs, cnn=False):\n",
    "    trained_model = torch.load(load_model_weight) \n",
    "    #criterion = nn.MSELoss()\n",
    "    criterion = nn.HuberLoss()\n",
    "    optimizer = torch.optim.AdamW(trained_model.parameters(),lr=0.0002)\n",
    "    scheduler = lr_scheduler.ReduceLROnPlateau(optimizer, 'min', factor=0.5, min_lr = 5e-7)\n",
    "    trained_model.train()\n",
    "    train_losses, test_losses=batch_gd_scheduler(trained_model,new_model_name, criterion, optimizer,\n",
    "                                                 train_loader, val_loader, \n",
    "                                                 scheduler, epochs, \n",
    "                                                 device = device, cnn=cnn)\n",
    "    return trained_model, train_losses, test_losses"
   ]
  },
  {
   "cell_type": "code",
   "execution_count": 19,
   "id": "386bf541",
   "metadata": {
    "execution": {
     "iopub.execute_input": "2024-05-11T18:10:26.920029Z",
     "iopub.status.busy": "2024-05-11T18:10:26.919760Z",
     "iopub.status.idle": "2024-05-11T18:10:26.924144Z",
     "shell.execute_reply": "2024-05-11T18:10:26.923326Z"
    },
    "papermill": {
     "duration": 0.015355,
     "end_time": "2024-05-11T18:10:26.926003",
     "exception": false,
     "start_time": "2024-05-11T18:10:26.910648",
     "status": "completed"
    },
    "tags": []
   },
   "outputs": [],
   "source": [
    "def plot_losses(train_losses, test_losses):\n",
    "    # Plot the train loss and test loss per iteration\n",
    "    plt.plot(train_losses, label='train loss')\n",
    "    plt.plot(test_losses, label='val loss')\n",
    "    plt.legend()\n",
    "    plt.show()"
   ]
  },
  {
   "cell_type": "code",
   "execution_count": 20,
   "id": "c4015a0c",
   "metadata": {
    "execution": {
     "iopub.execute_input": "2024-05-11T18:10:26.943769Z",
     "iopub.status.busy": "2024-05-11T18:10:26.943482Z",
     "iopub.status.idle": "2024-05-11T18:10:26.955563Z",
     "shell.execute_reply": "2024-05-11T18:10:26.954760Z"
    },
    "papermill": {
     "duration": 0.022923,
     "end_time": "2024-05-11T18:10:26.957333",
     "exception": false,
     "start_time": "2024-05-11T18:10:26.934410",
     "status": "completed"
    },
    "tags": []
   },
   "outputs": [],
   "source": [
    "################## GET PREDICTIONS + ACCURACY #####################\n",
    "def get_pred_n_acc(models, device, dataloader, num_iter):\n",
    "    i = 0\n",
    "    ypreds =[]\n",
    "    targets = []\n",
    "    #The last batch might not have size 128\n",
    "    while i< num_iter:\n",
    "        for data, target in dataloader:\n",
    "            #this empty list is to hold all models' preds\n",
    "            ypred = []    \n",
    "            data= data.to(device)\n",
    "            data = data.to(torch.float32)\n",
    "            target = target.to(torch.float32)\n",
    "            #append the 'i^th' target\n",
    "            targets.append(target)\n",
    "            for model in models:\n",
    "                model.eval()\n",
    "                yp = model(data)\n",
    "                yp = yp.detach().cpu().numpy()\n",
    "                ypred.append(yp)\n",
    "            #take the mean of all models' predictions\n",
    "            ypred = np.array(ypred).mean(axis = 0)\n",
    "            ypred = np.round(ypred)\n",
    "            i+=1\n",
    "            #append ypred, targets inside the 'i' loop\n",
    "            # append the 'i^th' mean prediction\n",
    "            ypreds.append(ypred)   \n",
    "            if i == num_iter:\n",
    "                break \n",
    "     #Do not convert ypreds, targets to np.array at this point,\n",
    "    #since the last batch has a different size, causing an error !\n",
    "    #CALCULATING ACCURACY    \n",
    "    yp =  np.concatenate([ypreds[j] for j in range(len(ypreds))], axis = 0)\n",
    "    tgs =  np.concatenate([targets[j] for j in range(len(targets))], axis = 0)\n",
    "    h11_acc = ((yp[:,0] == tgs[:,0]).sum())/len(yp)\n",
    "    h21_acc = ((yp[:,1] == tgs[:,1]).sum())/len(yp)\n",
    "    h31_acc = ((yp[:,2] == tgs[:,2]).sum())/len(yp)\n",
    "    h22_acc = ((yp[:,3] == tgs[:,3]).sum())/len(yp)\n",
    "    acc = [h11_acc*100,h21_acc*100,h31_acc*100,h22_acc*100 ]\n",
    "    return  yp, tgs, acc"
   ]
  },
  {
   "cell_type": "markdown",
   "id": "e298b148",
   "metadata": {
    "papermill": {
     "duration": 0.008064,
     "end_time": "2024-05-11T18:10:26.973691",
     "exception": false,
     "start_time": "2024-05-11T18:10:26.965627",
     "status": "completed"
    },
    "tags": []
   },
   "source": [
    "# Load trained model and verify accuracies"
   ]
  },
  {
   "cell_type": "code",
   "execution_count": 21,
   "id": "90c24772",
   "metadata": {
    "execution": {
     "iopub.execute_input": "2024-05-11T18:10:26.991312Z",
     "iopub.status.busy": "2024-05-11T18:10:26.991055Z",
     "iopub.status.idle": "2024-05-11T22:49:12.997711Z",
     "shell.execute_reply": "2024-05-11T22:49:12.996645Z"
    },
    "papermill": {
     "duration": 16726.038646,
     "end_time": "2024-05-11T22:49:13.020594",
     "exception": false,
     "start_time": "2024-05-11T18:10:26.981948",
     "status": "completed"
    },
    "tags": []
   },
   "outputs": [
    {
     "name": "stdout",
     "output_type": "stream",
     "text": [
      "Model saved as CNN-GRU-416 at epoch 0\n",
      "Epoch: 0/550, train loss:  6.567, val_loss:  5.260, duration: 0:00:53.154538, learning rate: (0.01, 0.01)\n",
      "Model overwritten at epoch 1, new best val loss  5.1178\n",
      "Model overwritten at epoch 2, new best val loss  4.8110\n",
      "Model overwritten at epoch 3, new best val loss  4.6317\n",
      "Model overwritten at epoch 9, new best val loss  4.6159\n",
      "Epoch: 10/550, train loss:  4.811, val_loss:  5.111, duration: 0:00:52.210786, learning rate: (0.01, 0.01)\n",
      "Model overwritten at epoch 12, new best val loss  4.4207\n",
      "Model overwritten at epoch 14, new best val loss  4.3617\n",
      "Model overwritten at epoch 16, new best val loss  4.1669\n",
      "Epoch: 20/550, train loss:  4.725, val_loss:  5.252, duration: 0:00:52.294623, learning rate: (0.01, 0.01)\n",
      "Model overwritten at epoch 24, new best val loss  4.1315\n",
      "Model overwritten at epoch 29, new best val loss  3.9819\n",
      "Epoch: 30/550, train loss:  4.543, val_loss:  4.075, duration: 0:00:52.094494, learning rate: (0.01, 0.01)\n",
      "Epoch: 40/550, train loss:  4.575, val_loss:  4.293, duration: 0:00:52.075998, learning rate: (0.01, 0.001)\n",
      "Model overwritten at epoch 41, new best val loss  3.6187\n",
      "Model overwritten at epoch 42, new best val loss  3.5289\n",
      "Model overwritten at epoch 43, new best val loss  3.5015\n",
      "Model overwritten at epoch 44, new best val loss  3.4955\n",
      "Model overwritten at epoch 45, new best val loss  3.4645\n",
      "Model overwritten at epoch 46, new best val loss  3.4591\n",
      "Model overwritten at epoch 47, new best val loss  3.4481\n",
      "Model overwritten at epoch 49, new best val loss  3.4010\n",
      "Epoch: 50/550, train loss:  3.340, val_loss:  3.449, duration: 0:00:52.091415, learning rate: (0.001, 0.001)\n",
      "Model overwritten at epoch 53, new best val loss  3.3695\n",
      "Model overwritten at epoch 55, new best val loss  3.3341\n",
      "Model overwritten at epoch 56, new best val loss  3.3199\n",
      "Model overwritten at epoch 60, new best val loss  3.3060\n",
      "Epoch: 60/550, train loss:  3.224, val_loss:  3.306, duration: 0:00:52.122083, learning rate: (0.001, 0.001)\n",
      "Model overwritten at epoch 61, new best val loss  3.2997\n",
      "Model overwritten at epoch 66, new best val loss  3.1854\n",
      "Model overwritten at epoch 67, new best val loss  3.0976\n",
      "Model overwritten at epoch 68, new best val loss  3.0933\n",
      "Model overwritten at epoch 69, new best val loss  3.0160\n",
      "Model overwritten at epoch 70, new best val loss  2.8852\n",
      "Epoch: 70/550, train loss:  2.889, val_loss:  2.885, duration: 0:00:52.094812, learning rate: (0.001, 0.001)\n",
      "Model overwritten at epoch 71, new best val loss  2.8715\n",
      "Model overwritten at epoch 72, new best val loss  2.7210\n",
      "Model overwritten at epoch 73, new best val loss  2.6105\n",
      "Model overwritten at epoch 74, new best val loss  2.5422\n",
      "Model overwritten at epoch 75, new best val loss  2.5064\n",
      "Model overwritten at epoch 76, new best val loss  2.4525\n",
      "Model overwritten at epoch 77, new best val loss  2.4242\n",
      "Model overwritten at epoch 78, new best val loss  2.2239\n",
      "Model overwritten at epoch 79, new best val loss  2.1994\n",
      "Epoch: 80/550, train loss:  2.154, val_loss:  2.241, duration: 0:00:52.005597, learning rate: (0.001, 0.001)\n",
      "Model overwritten at epoch 81, new best val loss  2.0846\n",
      "Model overwritten at epoch 83, new best val loss  2.0481\n",
      "Model overwritten at epoch 84, new best val loss  2.0219\n",
      "Model overwritten at epoch 85, new best val loss  1.9043\n",
      "Model overwritten at epoch 87, new best val loss  1.8202\n",
      "Model overwritten at epoch 90, new best val loss  1.7191\n",
      "Epoch: 90/550, train loss:  1.716, val_loss:  1.719, duration: 0:00:52.092903, learning rate: (0.001, 0.001)\n",
      "Model overwritten at epoch 93, new best val loss  1.6440\n",
      "Model overwritten at epoch 95, new best val loss  1.5906\n",
      "Model overwritten at epoch 96, new best val loss  1.5691\n",
      "Model overwritten at epoch 100, new best val loss  1.4787\n",
      "Epoch: 100/550, train loss:  1.430, val_loss:  1.479, duration: 0:00:51.987902, learning rate: (0.001, 0.001)\n",
      "Model overwritten at epoch 101, new best val loss  1.4111\n",
      "Model overwritten at epoch 103, new best val loss  1.4055\n",
      "Model overwritten at epoch 104, new best val loss  1.3734\n",
      "Model overwritten at epoch 105, new best val loss  1.3538\n",
      "Model overwritten at epoch 109, new best val loss  1.3164\n",
      "Model overwritten at epoch 110, new best val loss  1.3025\n",
      "Epoch: 110/550, train loss:  1.247, val_loss:  1.303, duration: 0:00:51.978930, learning rate: (0.001, 0.001)\n",
      "Model overwritten at epoch 112, new best val loss  1.1976\n",
      "Model overwritten at epoch 117, new best val loss  1.1778\n",
      "Epoch: 120/550, train loss:  1.095, val_loss:  1.200, duration: 0:00:52.057785, learning rate: (0.001, 0.001)\n",
      "Model overwritten at epoch 121, new best val loss  1.1649\n",
      "Model overwritten at epoch 122, new best val loss  1.1522\n",
      "Model overwritten at epoch 124, new best val loss  1.1399\n",
      "Model overwritten at epoch 125, new best val loss  1.0874\n",
      "Model overwritten at epoch 128, new best val loss  1.0837\n",
      "Model overwritten at epoch 129, new best val loss  1.0496\n",
      "Epoch: 130/550, train loss:  0.989, val_loss:  1.099, duration: 0:00:52.096185, learning rate: (0.001, 0.001)\n",
      "Model overwritten at epoch 132, new best val loss  1.0228\n",
      "Model overwritten at epoch 136, new best val loss  0.9944\n",
      "Epoch: 140/550, train loss:  0.893, val_loss:  1.015, duration: 0:00:51.969202, learning rate: (0.001, 0.001)\n",
      "Model overwritten at epoch 142, new best val loss  0.9397\n",
      "Model overwritten at epoch 143, new best val loss  0.9340\n",
      "Model overwritten at epoch 145, new best val loss  0.9315\n",
      "Model overwritten at epoch 148, new best val loss  0.9247\n",
      "Model overwritten at epoch 150, new best val loss  0.9086\n",
      "Epoch: 150/550, train loss:  0.824, val_loss:  0.909, duration: 0:00:52.115221, learning rate: (0.001, 0.001)\n",
      "Model overwritten at epoch 152, new best val loss  0.9001\n",
      "Model overwritten at epoch 154, new best val loss  0.8750\n",
      "Model overwritten at epoch 158, new best val loss  0.8529\n",
      "Epoch: 160/550, train loss:  0.765, val_loss:  0.869, duration: 0:00:52.139537, learning rate: (0.001, 0.001)\n",
      "Model overwritten at epoch 166, new best val loss  0.8046\n",
      "Model overwritten at epoch 170, new best val loss  0.8044\n",
      "Epoch: 170/550, train loss:  0.709, val_loss:  0.804, duration: 0:00:52.071292, learning rate: (0.001, 0.001)\n",
      "Model overwritten at epoch 171, new best val loss  0.7571\n",
      "Model overwritten at epoch 177, new best val loss  0.7542\n",
      "Epoch: 180/550, train loss:  0.678, val_loss:  0.819, duration: 0:00:52.054119, learning rate: (0.001, 0.001)\n",
      "Model overwritten at epoch 183, new best val loss  0.7339\n",
      "Model overwritten at epoch 187, new best val loss  0.7335\n",
      "Epoch: 190/550, train loss:  0.640, val_loss:  0.785, duration: 0:00:52.011687, learning rate: (0.001, 0.001)\n",
      "Model overwritten at epoch 191, new best val loss  0.7219\n",
      "Model overwritten at epoch 192, new best val loss  0.7135\n",
      "Model overwritten at epoch 199, new best val loss  0.6956\n",
      "Epoch: 200/550, train loss:  0.613, val_loss:  0.719, duration: 0:00:52.146640, learning rate: (0.001, 0.001)\n",
      "Model overwritten at epoch 203, new best val loss  0.6879\n",
      "Epoch: 210/550, train loss:  0.595, val_loss:  0.774, duration: 0:00:51.987626, learning rate: (0.001, 0.001)\n",
      "Model overwritten at epoch 212, new best val loss  0.6785\n",
      "Model overwritten at epoch 216, new best val loss  0.6688\n",
      "Model overwritten at epoch 219, new best val loss  0.6281\n",
      "Epoch: 220/550, train loss:  0.568, val_loss:  0.733, duration: 0:00:52.037035, learning rate: (0.001, 0.001)\n",
      "Epoch: 230/550, train loss:  0.547, val_loss:  0.647, duration: 0:00:52.051653, learning rate: (0.001, 0.0001)\n",
      "Model overwritten at epoch 231, new best val loss  0.4208\n",
      "Model overwritten at epoch 232, new best val loss  0.4059\n",
      "Model overwritten at epoch 233, new best val loss  0.3921\n",
      "Model overwritten at epoch 234, new best val loss  0.3861\n",
      "Model overwritten at epoch 235, new best val loss  0.3793\n",
      "Model overwritten at epoch 236, new best val loss  0.3769\n",
      "Model overwritten at epoch 237, new best val loss  0.3744\n",
      "Model overwritten at epoch 238, new best val loss  0.3684\n",
      "Model overwritten at epoch 239, new best val loss  0.3682\n",
      "Model overwritten at epoch 240, new best val loss  0.3643\n",
      "Epoch: 240/550, train loss:  0.196, val_loss:  0.364, duration: 0:00:52.213795, learning rate: (0.0001, 0.0001)\n",
      "Model overwritten at epoch 242, new best val loss  0.3622\n",
      "Model overwritten at epoch 243, new best val loss  0.3584\n",
      "Model overwritten at epoch 246, new best val loss  0.3552\n",
      "Model overwritten at epoch 247, new best val loss  0.3546\n",
      "Model overwritten at epoch 249, new best val loss  0.3511\n",
      "Model overwritten at epoch 250, new best val loss  0.3496\n",
      "Epoch: 250/550, train loss:  0.168, val_loss:  0.350, duration: 0:00:51.990298, learning rate: (0.0001, 0.0001)\n",
      "Model overwritten at epoch 255, new best val loss  0.3488\n",
      "Model overwritten at epoch 256, new best val loss  0.3453\n",
      "Model overwritten at epoch 259, new best val loss  0.3444\n",
      "Model overwritten at epoch 260, new best val loss  0.3432\n",
      "Epoch: 260/550, train loss:  0.153, val_loss:  0.343, duration: 0:00:52.190985, learning rate: (0.0001, 0.0001)\n",
      "Model overwritten at epoch 266, new best val loss  0.3411\n",
      "Model overwritten at epoch 268, new best val loss  0.3411\n",
      "Model overwritten at epoch 270, new best val loss  0.3407\n",
      "Epoch: 270/550, train loss:  0.142, val_loss:  0.341, duration: 0:00:52.157529, learning rate: (0.0001, 0.0001)\n",
      "Model overwritten at epoch 273, new best val loss  0.3378\n",
      "Model overwritten at epoch 279, new best val loss  0.3366\n",
      "Epoch: 280/550, train loss:  0.136, val_loss:  0.344, duration: 0:00:52.086842, learning rate: (0.0001, 0.0001)\n",
      "Model overwritten at epoch 283, new best val loss  0.3358\n",
      "Model overwritten at epoch 284, new best val loss  0.3337\n",
      "Epoch: 290/550, train loss:  0.131, val_loss:  0.335, duration: 0:00:52.293931, learning rate: (0.0001, 0.0001)\n",
      "Model overwritten at epoch 296, new best val loss  0.3223\n",
      "Model overwritten at epoch 299, new best val loss  0.3217\n",
      "Epoch: 300/550, train loss:  0.096, val_loss:  0.322, duration: 0:00:52.394404, learning rate: (1e-05, 1e-05)\n",
      "Epoch: 310/550, train loss:  0.093, val_loss:  0.323, duration: 0:00:52.786017, learning rate: (1e-05, 1.0000000000000002e-06)\n",
      "Max patience reached, training is terminated at epoch 320\n"
     ]
    }
   ],
   "source": [
    "load_model_weight = None\n",
    "epochs = 550\n",
    "new_model_name = 'CNN-GRU-416'\n",
    "if load_model_weight is None:   \n",
    "    train_losses, test_losses=train_from_scratch_or_load(load_model_weight,new_model_name,  epochs, cnn = False)\n",
    "else:\n",
    "    trained_model_v00 = train_from_scratch_or_load(load_model_weight, new_model_name, epochs, cnn = False)\n",
    "    #Train accuracy\n",
    "    yt, tgt, acct = get_pred_n_acc([trained_model_v00], device, train_loader, num_iter = len(train_loader))\n",
    "    #validation accuracy\n",
    "    yv, tgv, accv = get_pred_n_acc([trained_model_v00], device, val_loader, num_iter = len(val_loader))\n",
    "    print(f'Train data, target shapes: {yt.shape, tgt.shape},\\n train accuracies {acct}')\n",
    "    print(f'Validation data, target shapes: {yv.shape, tgv.shape},\\n validation accuracies {accv}')\n",
    "    #Test accuracy\n",
    "    yts, tgts, accts = get_pred_n_acc([trained_model_v00], device, test_loader, num_iter = len(test_loader))\n",
    "    print(f'Test data, target shapes: {yts.shape, tgts.shape},\\n test accuracies {accts}')"
   ]
  },
  {
   "cell_type": "code",
   "execution_count": 22,
   "id": "4ae1e045",
   "metadata": {
    "execution": {
     "iopub.execute_input": "2024-05-11T22:49:13.061376Z",
     "iopub.status.busy": "2024-05-11T22:49:13.061021Z",
     "iopub.status.idle": "2024-05-11T22:49:13.375350Z",
     "shell.execute_reply": "2024-05-11T22:49:13.374268Z"
    },
    "papermill": {
     "duration": 0.337161,
     "end_time": "2024-05-11T22:49:13.377608",
     "exception": false,
     "start_time": "2024-05-11T22:49:13.040447",
     "status": "completed"
    },
    "tags": []
   },
   "outputs": [
    {
     "data": {
      "image/png": "[encoded data removed]",
      "text/plain": [
       "<Figure size 640x480 with 1 Axes>"
      ]
     },
     "metadata": {},
     "output_type": "display_data"
    }
   ],
   "source": [
    "plot_losses(train_losses, test_losses)"
   ]
  },
  {
   "cell_type": "code",
   "execution_count": 23,
   "id": "ae1055fe",
   "metadata": {
    "execution": {
     "iopub.execute_input": "2024-05-11T22:49:13.419828Z",
     "iopub.status.busy": "2024-05-11T22:49:13.419478Z",
     "iopub.status.idle": "2024-05-11T22:49:13.437695Z",
     "shell.execute_reply": "2024-05-11T22:49:13.436768Z"
    },
    "papermill": {
     "duration": 0.041645,
     "end_time": "2024-05-11T22:49:13.439784",
     "exception": false,
     "start_time": "2024-05-11T22:49:13.398139",
     "status": "completed"
    },
    "tags": []
   },
   "outputs": [
    {
     "data": {
      "text/html": [
       "<div>\n",
       "<style scoped>\n",
       "    .dataframe tbody tr th:only-of-type {\n",
       "        vertical-align: middle;\n",
       "    }\n",
       "\n",
       "    .dataframe tbody tr th {\n",
       "        vertical-align: top;\n",
       "    }\n",
       "\n",
       "    .dataframe thead th {\n",
       "        text-align: right;\n",
       "    }\n",
       "</style>\n",
       "<table border=\"1\" class=\"dataframe\">\n",
       "  <thead>\n",
       "    <tr style=\"text-align: right;\">\n",
       "      <th></th>\n",
       "      <th>train_loss</th>\n",
       "      <th>val_loss</th>\n",
       "    </tr>\n",
       "  </thead>\n",
       "  <tbody>\n",
       "    <tr>\n",
       "      <th>0</th>\n",
       "      <td>6.567251</td>\n",
       "      <td>5.259535</td>\n",
       "    </tr>\n",
       "    <tr>\n",
       "      <th>1</th>\n",
       "      <td>5.372093</td>\n",
       "      <td>5.117800</td>\n",
       "    </tr>\n",
       "    <tr>\n",
       "      <th>2</th>\n",
       "      <td>5.297484</td>\n",
       "      <td>4.811018</td>\n",
       "    </tr>\n",
       "    <tr>\n",
       "      <th>3</th>\n",
       "      <td>5.049404</td>\n",
       "      <td>4.631702</td>\n",
       "    </tr>\n",
       "    <tr>\n",
       "      <th>4</th>\n",
       "      <td>5.354156</td>\n",
       "      <td>4.887341</td>\n",
       "    </tr>\n",
       "  </tbody>\n",
       "</table>\n",
       "</div>"
      ],
      "text/plain": [
       "   train_loss  val_loss\n",
       "0    6.567251  5.259535\n",
       "1    5.372093  5.117800\n",
       "2    5.297484  4.811018\n",
       "3    5.049404  4.631702\n",
       "4    5.354156  4.887341"
      ]
     },
     "execution_count": 23,
     "metadata": {},
     "output_type": "execute_result"
    }
   ],
   "source": [
    "loss_dict = {'train_loss': train_losses, 'val_loss': test_losses}\n",
    "dd = pd.DataFrame(loss_dict)\n",
    "dd.to_csv('loss_dict.csv', index = False)\n",
    "dd.head()"
   ]
  },
  {
   "cell_type": "markdown",
   "id": "c7c758d7",
   "metadata": {
    "papermill": {
     "duration": 0.020328,
     "end_time": "2024-05-11T22:49:13.480539",
     "exception": false,
     "start_time": "2024-05-11T22:49:13.460211",
     "status": "completed"
    },
    "tags": []
   },
   "source": [
    "# Train & validation accuracies"
   ]
  },
  {
   "cell_type": "code",
   "execution_count": 24,
   "id": "4f3c0394",
   "metadata": {
    "execution": {
     "iopub.execute_input": "2024-05-11T22:49:13.523415Z",
     "iopub.status.busy": "2024-05-11T22:49:13.523073Z",
     "iopub.status.idle": "2024-05-11T22:49:38.384127Z",
     "shell.execute_reply": "2024-05-11T22:49:38.383081Z"
    },
    "papermill": {
     "duration": 24.885288,
     "end_time": "2024-05-11T22:49:38.386603",
     "exception": false,
     "start_time": "2024-05-11T22:49:13.501315",
     "status": "completed"
    },
    "tags": []
   },
   "outputs": [
    {
     "name": "stdout",
     "output_type": "stream",
     "text": [
      "Train data, target shapes: ((652092, 4), (652092, 4)),\n",
      " train accuracies [99.04031946412469, 92.36227403495212, 93.28116278071192, 65.50486741134686]\n",
      "Validation data, target shapes: ((72455, 4), (72455, 4)),\n",
      " validation accuracies [98.24994824373749, 88.66054792629909, 77.86488165067973, 45.98854461389828]\n"
     ]
    }
   ],
   "source": [
    "#Train accuracy\n",
    "yt, tgt, acct = get_pred_n_acc([model], device, train_loader, num_iter = len(train_loader))\n",
    "#validation accuracy\n",
    "yv, tgv, accv = get_pred_n_acc([model], device, val_loader, num_iter = len(val_loader))\n",
    "print(f'Train data, target shapes: {yt.shape, tgt.shape},\\n train accuracies {acct}')\n",
    "print(f'Validation data, target shapes: {yv.shape, tgv.shape},\\n validation accuracies {accv}')"
   ]
  },
  {
   "cell_type": "markdown",
   "id": "0517e9ab",
   "metadata": {
    "papermill": {
     "duration": 0.021298,
     "end_time": "2024-05-11T22:49:38.429841",
     "exception": false,
     "start_time": "2024-05-11T22:49:38.408543",
     "status": "completed"
    },
    "tags": []
   },
   "source": [
    "# Inference on the test set"
   ]
  },
  {
   "cell_type": "code",
   "execution_count": 25,
   "id": "3e9d5f87",
   "metadata": {
    "execution": {
     "iopub.execute_input": "2024-05-11T22:49:38.472296Z",
     "iopub.status.busy": "2024-05-11T22:49:38.471934Z",
     "iopub.status.idle": "2024-05-11T22:49:44.457751Z",
     "shell.execute_reply": "2024-05-11T22:49:44.456786Z"
    },
    "papermill": {
     "duration": 6.009739,
     "end_time": "2024-05-11T22:49:44.459996",
     "exception": false,
     "start_time": "2024-05-11T22:49:38.450257",
     "status": "completed"
    },
    "tags": []
   },
   "outputs": [
    {
     "name": "stdout",
     "output_type": "stream",
     "text": [
      "Test data, target shapes: ((181137, 4), (181137, 4)),\n",
      " test accuracies [98.27920303416751, 88.6461628491142, 77.67822145668748, 45.4009948271198]\n"
     ]
    }
   ],
   "source": [
    "#Test accuracy\n",
    "yts, tgts, accts = get_pred_n_acc([model], device, test_loader, num_iter = len(test_loader))\n",
    "print(f'Test data, target shapes: {yts.shape, tgts.shape},\\n test accuracies {accts}')"
   ]
  }
 ],
 "metadata": {
  "kaggle": {
   "accelerator": "gpu",
   "dataSources": [
    {
     "sourceId": 174871011,
     "sourceType": "kernelVersion"
    }
   ],
   "dockerImageVersionId": 30674,
   "isGpuEnabled": true,
   "isInternetEnabled": true,
   "language": "python",
   "sourceType": "notebook"
  },
  "kernelspec": {
   "display_name": "Python 3",
   "language": "python",
   "name": "python3"
  },
  "language_info": {
   "codemirror_mode": {
    "name": "ipython",
    "version": 3
   },
   "file_extension": ".py",
   "mimetype": "text/x-python",
   "name": "python",
   "nbconvert_exporter": "python",
   "pygments_lexer": "ipython3",
   "version": "3.10.13"
  },
  "papermill": {
   "default_parameters": {},
   "duration": 16780.974283,
   "end_time": "2024-05-11T22:49:46.786392",
   "environment_variables": {},
   "exception": null,
   "input_path": "__notebook__.ipynb",
   "output_path": "__notebook__.ipynb",
   "parameters": {},
   "start_time": "2024-05-11T18:10:05.812109",
   "version": "2.5.0"
  }
 },
 "nbformat": 4,
 "nbformat_minor": 5
}
