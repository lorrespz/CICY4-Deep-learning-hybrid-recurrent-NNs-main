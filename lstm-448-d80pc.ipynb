{
 "cells": [
  {
   "cell_type": "markdown",
   "id": "45c0c6b0",
   "metadata": {
    "papermill": {
     "duration": 0.009174,
     "end_time": "2024-05-22T04:50:43.101170",
     "exception": false,
     "start_time": "2024-05-22T04:50:43.091996",
     "status": "completed"
    },
    "tags": []
   },
   "source": [
    "# CICY4: LSTM-based network (LSTM-448)"
   ]
  },
  {
   "cell_type": "code",
   "execution_count": 1,
   "id": "b636af2f",
   "metadata": {
    "_cell_guid": "b1076dfc-b9ad-4769-8c92-a6c4dae69d19",
    "_uuid": "8f2839f25d086af736a60e9eeb907d3b93b6e0e5",
    "execution": {
     "iopub.execute_input": "2024-05-22T04:50:43.119721Z",
     "iopub.status.busy": "2024-05-22T04:50:43.119317Z",
     "iopub.status.idle": "2024-05-22T04:50:48.832873Z",
     "shell.execute_reply": "2024-05-22T04:50:48.831827Z"
    },
    "papermill": {
     "duration": 5.726053,
     "end_time": "2024-05-22T04:50:48.835741",
     "exception": false,
     "start_time": "2024-05-22T04:50:43.109688",
     "status": "completed"
    },
    "tags": []
   },
   "outputs": [],
   "source": [
    "import numpy as np\n",
    "import random\n",
    "import pandas as pd\n",
    "import os as os\n",
    "import matplotlib.pyplot as plt\n",
    "import seaborn as sns\n",
    "from datetime import datetime\n",
    "\n",
    "import torch\n",
    "import torch.nn as nn\n",
    "import torch.nn.functional as F\n",
    "import torch.optim.lr_scheduler as lr_scheduler"
   ]
  },
  {
   "cell_type": "code",
   "execution_count": 2,
   "id": "f065fa92",
   "metadata": {
    "execution": {
     "iopub.execute_input": "2024-05-22T04:50:48.857009Z",
     "iopub.status.busy": "2024-05-22T04:50:48.856226Z",
     "iopub.status.idle": "2024-05-22T04:50:48.915967Z",
     "shell.execute_reply": "2024-05-22T04:50:48.914892Z"
    },
    "papermill": {
     "duration": 0.072152,
     "end_time": "2024-05-22T04:50:48.918364",
     "exception": false,
     "start_time": "2024-05-22T04:50:48.846212",
     "status": "completed"
    },
    "tags": []
   },
   "outputs": [
    {
     "name": "stdout",
     "output_type": "stream",
     "text": [
      "cuda:0\n"
     ]
    }
   ],
   "source": [
    "device = torch.device(\"cuda:0\" if torch.cuda.is_available() else \"cpu\")\n",
    "print(device)"
   ]
  },
  {
   "cell_type": "code",
   "execution_count": 3,
   "id": "2120522f",
   "metadata": {
    "execution": {
     "iopub.execute_input": "2024-05-22T04:50:48.934937Z",
     "iopub.status.busy": "2024-05-22T04:50:48.934259Z",
     "iopub.status.idle": "2024-05-22T04:50:48.944476Z",
     "shell.execute_reply": "2024-05-22T04:50:48.943651Z"
    },
    "papermill": {
     "duration": 0.020567,
     "end_time": "2024-05-22T04:50:48.946400",
     "exception": false,
     "start_time": "2024-05-22T04:50:48.925833",
     "status": "completed"
    },
    "tags": []
   },
   "outputs": [],
   "source": [
    "seed = 42\n",
    "\n",
    "def seed_everything(seed):\n",
    "    random.seed(seed)\n",
    "    os.environ['PYTHONHASHSEED'] = str(seed)\n",
    "    np.random.seed(seed)\n",
    "    torch.manual_seed(seed)\n",
    "    torch.cuda.manual_seed(seed)\n",
    "    torch.cuda.manual_seed_all(seed)\n",
    "    torch.backends.cudnn.deterministic = True\n",
    "\n",
    "seed_everything(seed)"
   ]
  },
  {
   "cell_type": "markdown",
   "id": "ce8bc20e",
   "metadata": {
    "papermill": {
     "duration": 0.006967,
     "end_time": "2024-05-22T04:50:48.960663",
     "exception": false,
     "start_time": "2024-05-22T04:50:48.953696",
     "status": "completed"
    },
    "tags": []
   },
   "source": [
    " # LSTM-based network architecture"
   ]
  },
  {
   "cell_type": "code",
   "execution_count": 4,
   "id": "0756cc08",
   "metadata": {
    "execution": {
     "iopub.execute_input": "2024-05-22T04:50:48.976238Z",
     "iopub.status.busy": "2024-05-22T04:50:48.975946Z",
     "iopub.status.idle": "2024-05-22T04:50:48.984615Z",
     "shell.execute_reply": "2024-05-22T04:50:48.983781Z"
    },
    "papermill": {
     "duration": 0.019042,
     "end_time": "2024-05-22T04:50:48.986918",
     "exception": false,
     "start_time": "2024-05-22T04:50:48.967876",
     "status": "completed"
    },
    "tags": []
   },
   "outputs": [],
   "source": [
    "class LSTM_block(nn.Module):\n",
    "    def __init__(self, n_inputs, n_hidden, n_rnnlayers, n_outputs):\n",
    "        super(LSTM_block,self).__init__()\n",
    "        self.D = n_inputs\n",
    "        self.M = n_hidden\n",
    "        self.K = n_outputs\n",
    "        self.L = n_rnnlayers\n",
    "        self.lstm = nn.LSTM(input_size = self.D,\n",
    "                           hidden_size = self.M,\n",
    "                           num_layers = self.L,\n",
    "                           batch_first = True)\n",
    "\n",
    "        self.feat_vec_size = self.M\n",
    "        self.fc1 = nn.Linear(self.feat_vec_size, 1024)\n",
    "        self.fc2 = nn.Linear(1024, 4)\n",
    "    def forward(self, X):\n",
    "        #input X is NxTxD\n",
    "        #initial hidden states\n",
    "        h0 = torch.zeros(self.L, X.size(0), self.M).to(device)\n",
    "        c0 = torch.zeros(self.L, X.size(0), self.M).to(device)\n",
    "        #get LSTM unit output:\n",
    "        #output is NxTxM\n",
    "        out, _ = self.lstm(X, (h0,c0))\n",
    "        #we only want the output y at the final time step\n",
    "        # output is now of shape (N, M)\n",
    "        xx = out[:, -1, :]\n",
    "        xx = self.fc1(xx)\n",
    "        #final output is 4\n",
    "        xx = self.fc2(xx)\n",
    "        return xx"
   ]
  },
  {
   "cell_type": "code",
   "execution_count": 5,
   "id": "e060d17f",
   "metadata": {
    "execution": {
     "iopub.execute_input": "2024-05-22T04:50:49.006918Z",
     "iopub.status.busy": "2024-05-22T04:50:49.004936Z",
     "iopub.status.idle": "2024-05-22T04:50:49.367022Z",
     "shell.execute_reply": "2024-05-22T04:50:49.366011Z"
    },
    "papermill": {
     "duration": 0.374493,
     "end_time": "2024-05-22T04:50:49.369220",
     "exception": false,
     "start_time": "2024-05-22T04:50:48.994727",
     "status": "completed"
    },
    "tags": []
   },
   "outputs": [
    {
     "data": {
      "text/plain": [
       "LSTM_block(\n",
       "  (lstm): LSTM(20, 448, num_layers=2, batch_first=True)\n",
       "  (fc1): Linear(in_features=448, out_features=1024, bias=True)\n",
       "  (fc2): Linear(in_features=1024, out_features=4, bias=True)\n",
       ")"
      ]
     },
     "execution_count": 5,
     "metadata": {},
     "output_type": "execute_result"
    }
   ],
   "source": [
    "model = LSTM_block(20, 448, 2, 4)\n",
    "model.to(device)"
   ]
  },
  {
   "cell_type": "code",
   "execution_count": 6,
   "id": "8d75760b",
   "metadata": {
    "execution": {
     "iopub.execute_input": "2024-05-22T04:50:49.388168Z",
     "iopub.status.busy": "2024-05-22T04:50:49.387863Z",
     "iopub.status.idle": "2024-05-22T04:50:49.393506Z",
     "shell.execute_reply": "2024-05-22T04:50:49.392393Z"
    },
    "papermill": {
     "duration": 0.018705,
     "end_time": "2024-05-22T04:50:49.395534",
     "exception": false,
     "start_time": "2024-05-22T04:50:49.376829",
     "status": "completed"
    },
    "tags": []
   },
   "outputs": [
    {
     "name": "stdout",
     "output_type": "stream",
     "text": [
      "Total numbers of parameters: 2915332\n"
     ]
    }
   ],
   "source": [
    "#count the number of parameters in the model\n",
    "params = [p.numel() for p in model.parameters() if p.requires_grad]\n",
    "print(f'Total numbers of parameters: {sum(params)}')"
   ]
  },
  {
   "cell_type": "markdown",
   "id": "707a4f6f",
   "metadata": {
    "papermill": {
     "duration": 0.00731,
     "end_time": "2024-05-22T04:50:49.410192",
     "exception": false,
     "start_time": "2024-05-22T04:50:49.402882",
     "status": "completed"
    },
    "tags": []
   },
   "source": [
    "# Load data & define dataset class"
   ]
  },
  {
   "cell_type": "code",
   "execution_count": 7,
   "id": "efea7c26",
   "metadata": {
    "execution": {
     "iopub.execute_input": "2024-05-22T04:50:49.426869Z",
     "iopub.status.busy": "2024-05-22T04:50:49.426207Z",
     "iopub.status.idle": "2024-05-22T04:51:12.156317Z",
     "shell.execute_reply": "2024-05-22T04:51:12.155163Z"
    },
    "papermill": {
     "duration": 22.741066,
     "end_time": "2024-05-22T04:51:12.158730",
     "exception": false,
     "start_time": "2024-05-22T04:50:49.417664",
     "status": "completed"
    },
    "tags": []
   },
   "outputs": [
    {
     "name": "stdout",
     "output_type": "stream",
     "text": [
      "(724547, 16, 20) (72455, 16, 20) (108682, 16, 20)\n",
      "(724547, 4) (72455, 4) (108682, 4)\n"
     ]
    }
   ],
   "source": [
    "# load data\n",
    "path = '/kaggle/input/cicy4-create-80-data-split/'\n",
    "X_train = np.load(path + 'conf_Xtrain_80.npy')\n",
    "X_test = np.load(path+'conf_Xtest_80.npy')\n",
    "X_valid = np.load('/kaggle/input/calabi-yau-cicy-4-folds/conf_Xvalid.npy')\n",
    "\n",
    "y_train = np.load(path+'hodge_ytrain_80.npy')\n",
    "y_test= np.load(path+'hodge_ytest_80.npy')\n",
    "y_valid = np.load('/kaggle/input/calabi-yau-cicy-4-folds/hodge_yvalid.npy')\n",
    "\n",
    "print(X_train.shape, X_valid.shape, X_test.shape)\n",
    "print(y_train.shape, y_valid.shape, y_test.shape)"
   ]
  },
  {
   "cell_type": "code",
   "execution_count": 8,
   "id": "74cb12dd",
   "metadata": {
    "execution": {
     "iopub.execute_input": "2024-05-22T04:51:12.175557Z",
     "iopub.status.busy": "2024-05-22T04:51:12.175278Z",
     "iopub.status.idle": "2024-05-22T04:51:12.640404Z",
     "shell.execute_reply": "2024-05-22T04:51:12.639611Z"
    },
    "papermill": {
     "duration": 0.476044,
     "end_time": "2024-05-22T04:51:12.642671",
     "exception": false,
     "start_time": "2024-05-22T04:51:12.166627",
     "status": "completed"
    },
    "tags": []
   },
   "outputs": [],
   "source": [
    "#Convert data to torch tensor with float32 precision\n",
    "#(needed to be compatible with the floating decision of the network parameters)\n",
    "X_train = torch.from_numpy(X_train.astype(np.float32))\n",
    "y_train = torch.from_numpy(y_train.astype(np.float32))\n",
    "\n",
    "X_valid = torch.from_numpy(X_valid.astype(np.float32))\n",
    "y_valid = torch.from_numpy(y_valid.astype(np.float32))\n",
    "\n",
    "X_test = torch.from_numpy(X_test.astype(np.float32))\n",
    "y_test= torch.from_numpy(y_test.astype(np.float32))"
   ]
  },
  {
   "cell_type": "code",
   "execution_count": 9,
   "id": "11085315",
   "metadata": {
    "execution": {
     "iopub.execute_input": "2024-05-22T04:51:12.659519Z",
     "iopub.status.busy": "2024-05-22T04:51:12.658912Z",
     "iopub.status.idle": "2024-05-22T04:51:12.665073Z",
     "shell.execute_reply": "2024-05-22T04:51:12.664210Z"
    },
    "papermill": {
     "duration": 0.016631,
     "end_time": "2024-05-22T04:51:12.667046",
     "exception": false,
     "start_time": "2024-05-22T04:51:12.650415",
     "status": "completed"
    },
    "tags": []
   },
   "outputs": [],
   "source": [
    "class CICY4Dataset(torch.utils.data.Dataset):\n",
    "    def __init__(self, X, y):\n",
    "        self.X = X\n",
    "        self.y = y\n",
    "    def __len__(self):\n",
    "        return len(self.X)\n",
    "    def __getitem__(self, idx):\n",
    "        X0 = self.X[idx]\n",
    "        y0 = self.y[idx]\n",
    "        return X0, y0\n",
    "\n",
    "train_set = CICY4Dataset(X_train, y_train)\n",
    "val_set = CICY4Dataset(X_valid, y_valid)\n",
    "test_set = CICY4Dataset(X_test, y_test)"
   ]
  },
  {
   "cell_type": "code",
   "execution_count": 10,
   "id": "8f3eab24",
   "metadata": {
    "execution": {
     "iopub.execute_input": "2024-05-22T04:51:12.683308Z",
     "iopub.status.busy": "2024-05-22T04:51:12.683051Z",
     "iopub.status.idle": "2024-05-22T04:51:12.687985Z",
     "shell.execute_reply": "2024-05-22T04:51:12.687174Z"
    },
    "papermill": {
     "duration": 0.015154,
     "end_time": "2024-05-22T04:51:12.689813",
     "exception": false,
     "start_time": "2024-05-22T04:51:12.674659",
     "status": "completed"
    },
    "tags": []
   },
   "outputs": [],
   "source": [
    "from torch.utils.data import DataLoader\n",
    "\n",
    "train_loader = DataLoader(train_set, batch_size=128, shuffle=True)\n",
    "val_loader = DataLoader(val_set, batch_size=128, shuffle=True)\n",
    "test_loader = DataLoader(test_set, batch_size=128, shuffle=False)"
   ]
  },
  {
   "cell_type": "markdown",
   "id": "b40ebd3f",
   "metadata": {
    "papermill": {
     "duration": 0.007143,
     "end_time": "2024-05-22T04:51:12.704358",
     "exception": false,
     "start_time": "2024-05-22T04:51:12.697215",
     "status": "completed"
    },
    "tags": []
   },
   "source": [
    "# Utility functions"
   ]
  },
  {
   "cell_type": "code",
   "execution_count": 11,
   "id": "ddbc46c5",
   "metadata": {
    "execution": {
     "iopub.execute_input": "2024-05-22T04:51:12.720324Z",
     "iopub.status.busy": "2024-05-22T04:51:12.720065Z",
     "iopub.status.idle": "2024-05-22T04:51:12.725864Z",
     "shell.execute_reply": "2024-05-22T04:51:12.725015Z"
    },
    "papermill": {
     "duration": 0.01601,
     "end_time": "2024-05-22T04:51:12.727691",
     "exception": false,
     "start_time": "2024-05-22T04:51:12.711681",
     "status": "completed"
    },
    "tags": []
   },
   "outputs": [],
   "source": [
    "def train_one_epoch(model, criterion, optimizer, train_loader):\n",
    "    model.train()\n",
    "    train_loss = []\n",
    "    for inputs, target in train_loader:\n",
    "        inputs, target = inputs.to(device), target.to(device)\n",
    "        optimizer.zero_grad()\n",
    "        out = model(inputs)\n",
    "        loss = criterion(out, target)\n",
    "        loss.backward()\n",
    "        optimizer.step()\n",
    "        train_loss.append(loss.item())\n",
    "    #average the train_loss list in for all batches in the train_gen\n",
    "    train_loss = np.mean(train_loss)\n",
    "    return train_loss"
   ]
  },
  {
   "cell_type": "code",
   "execution_count": 12,
   "id": "9da0ba8d",
   "metadata": {
    "execution": {
     "iopub.execute_input": "2024-05-22T04:51:12.743447Z",
     "iopub.status.busy": "2024-05-22T04:51:12.743180Z",
     "iopub.status.idle": "2024-05-22T04:51:12.748575Z",
     "shell.execute_reply": "2024-05-22T04:51:12.747748Z"
    },
    "papermill": {
     "duration": 0.015512,
     "end_time": "2024-05-22T04:51:12.750527",
     "exception": false,
     "start_time": "2024-05-22T04:51:12.735015",
     "status": "completed"
    },
    "tags": []
   },
   "outputs": [],
   "source": [
    "def validate_one_epoch(model, criterion, optimizer, val_loader):\n",
    "    model.eval()\n",
    "    test_loss = []\n",
    "    for inputs, target in val_loader:\n",
    "        inputs, target = inputs.to(device), target.to(device)\n",
    "        out = model(inputs)\n",
    "        loss = criterion(out, target)\n",
    "        test_loss.append(loss.item())\n",
    "    #average the test_loss list in for all batches in the test_gen\n",
    "    test_loss = np.mean(test_loss)\n",
    "    return test_loss"
   ]
  },
  {
   "cell_type": "code",
   "execution_count": 13,
   "id": "5d856436",
   "metadata": {
    "execution": {
     "iopub.execute_input": "2024-05-22T04:51:12.767149Z",
     "iopub.status.busy": "2024-05-22T04:51:12.766472Z",
     "iopub.status.idle": "2024-05-22T04:51:12.777186Z",
     "shell.execute_reply": "2024-05-22T04:51:12.776345Z"
    },
    "papermill": {
     "duration": 0.021091,
     "end_time": "2024-05-22T04:51:12.779068",
     "exception": false,
     "start_time": "2024-05-22T04:51:12.757977",
     "status": "completed"
    },
    "tags": []
   },
   "outputs": [],
   "source": [
    "def batch_gd_scheduler(model, new_model_name, criterion, optimizer, train_loader, val_loader, scheduler,\n",
    "                         epochs, device, batch_size=128):\n",
    "    train_losses = np.zeros(epochs)\n",
    "    test_losses = np.zeros(epochs)\n",
    "    patience = 0\n",
    "    best_loss = 1000\n",
    "    max_patience = 20\n",
    "    for i in range(epochs):\n",
    "        t0 = datetime.now()\n",
    "        train_loss = train_one_epoch(model, criterion, optimizer,train_loader)\n",
    "        test_loss = validate_one_epoch(model, criterion, optimizer,val_loader)\n",
    "        #Early stopping based on test loss\n",
    "        if i == 0:\n",
    "            best_loss = test_loss\n",
    "            torch.save(model, f'/kaggle/working/{new_model_name}.pt')\n",
    "            #torch.save(model, path+f'{new_model_name}.pt')\n",
    "            print(f'Model saved as {new_model_name} at epoch {i}')\n",
    "        else:\n",
    "            if test_loss < best_loss:\n",
    "                best_loss = test_loss\n",
    "                torch.save(model, f'/kaggle/working/{new_model_name}.pt')\n",
    "                #torch.save(model, path+f'{new_model_name}.pt')\n",
    "                print(f'Model overwritten at epoch {i}, new best val loss {best_loss}')\n",
    "                patience = 0\n",
    "            else:\n",
    "                patience = patience +1\n",
    "                #print(f'No improvement, current patience level is {patience} at epoch {i}')\n",
    "        if patience > max_patience:\n",
    "            print(f'Max patience reached, training is terminated at epoch {i}')\n",
    "            break\n",
    "        #Apply scheduler after the train+validate parts\n",
    "        before_lr = optimizer.param_groups[0][\"lr\"]\n",
    "        scheduler.step(test_loss)\n",
    "        after_lr = optimizer.param_groups[0][\"lr\"]\n",
    "        train_losses[i] = train_loss\n",
    "        test_losses[i] = test_loss\n",
    "        #write the losses into a csv file\n",
    "        loss_dict = {'train_loss': train_losses, 'val_loss': test_losses}\n",
    "        dd = pd.DataFrame(loss_dict)\n",
    "        dd.to_csv('loss_dict_lstm_448_d80pc.csv', index = False)\n",
    "        dt = datetime.now()-t0\n",
    "        if i%10==0:\n",
    "            print(f'Epoch: {i+1}/{epochs}, train loss: {train_loss: .3f}, val_loss: {test_loss: .3f}, duration: {dt}, learning rate: {before_lr, after_lr}')\n",
    "    return train_losses, test_losses\n"
   ]
  },
  {
   "cell_type": "code",
   "execution_count": 14,
   "id": "1f38e0a2",
   "metadata": {
    "execution": {
     "iopub.execute_input": "2024-05-22T04:51:12.795257Z",
     "iopub.status.busy": "2024-05-22T04:51:12.794970Z",
     "iopub.status.idle": "2024-05-22T04:51:12.801460Z",
     "shell.execute_reply": "2024-05-22T04:51:12.800630Z"
    },
    "papermill": {
     "duration": 0.016744,
     "end_time": "2024-05-22T04:51:12.803250",
     "exception": false,
     "start_time": "2024-05-22T04:51:12.786506",
     "status": "completed"
    },
    "tags": []
   },
   "outputs": [],
   "source": [
    "def train_from_scratch_or_load(load_model_weight,new_model_name, epochs):\n",
    "    if load_model_weight==None:\n",
    "        #criterion = nn.MSELoss()\n",
    "        criterion = nn.HuberLoss()\n",
    "        optimizer = torch.optim.AdamW(model.parameters(), lr=0.01)\n",
    "        scheduler = lr_scheduler.ReduceLROnPlateau(optimizer, 'min', factor=0.1, min_lr = 1e-8)\n",
    "        train_losses, test_losses=batch_gd_scheduler(model, new_model_name, criterion,\n",
    "                                                     optimizer,train_loader, val_loader,\n",
    "                                                      scheduler, epochs,\n",
    "                                                       device = device)\n",
    "        return train_losses, test_losses\n",
    "    else:\n",
    "        if torch.cuda.is_available():\n",
    "            trained_model = torch.load(load_model_weight)\n",
    "        else:\n",
    "            trained_model = torch.load(load_model_weight, map_location=torch.device('cpu'))\n",
    "        return trained_model"
   ]
  },
  {
   "cell_type": "code",
   "execution_count": 15,
   "id": "070dd19e",
   "metadata": {
    "execution": {
     "iopub.execute_input": "2024-05-22T04:51:12.819543Z",
     "iopub.status.busy": "2024-05-22T04:51:12.819283Z",
     "iopub.status.idle": "2024-05-22T04:51:12.826254Z",
     "shell.execute_reply": "2024-05-22T04:51:12.825546Z"
    },
    "papermill": {
     "duration": 0.017286,
     "end_time": "2024-05-22T04:51:12.828175",
     "exception": false,
     "start_time": "2024-05-22T04:51:12.810889",
     "status": "completed"
    },
    "tags": []
   },
   "outputs": [],
   "source": [
    "def load_and_retrain(load_model_weight, new_model_name, epochs):\n",
    "    trained_model = torch.load(load_model_weight)\n",
    "    print('Trained model loaded')\n",
    "    criterion = nn.HuberLoss()\n",
    "    optimizer = torch.optim.AdamW(trained_model.parameters(),lr=0.01)\n",
    "    scheduler = lr_scheduler.ReduceLROnPlateau(optimizer, 'min', factor=0.1, min_lr = 1e-7)\n",
    "    trained_model.train()\n",
    "    print('Begin retraining')\n",
    "    train_losses, test_losses=batch_gd_scheduler(trained_model,new_model_name, criterion, optimizer,\n",
    "                                                 train_loader, val_loader,\n",
    "                                                 scheduler, epochs,\n",
    "                                                 device = device)\n",
    "    return trained_model, train_losses, test_losses"
   ]
  },
  {
   "cell_type": "code",
   "execution_count": 16,
   "id": "d6ff00d1",
   "metadata": {
    "execution": {
     "iopub.execute_input": "2024-05-22T04:51:12.844870Z",
     "iopub.status.busy": "2024-05-22T04:51:12.843968Z",
     "iopub.status.idle": "2024-05-22T04:51:12.848740Z",
     "shell.execute_reply": "2024-05-22T04:51:12.848003Z"
    },
    "papermill": {
     "duration": 0.015004,
     "end_time": "2024-05-22T04:51:12.850560",
     "exception": false,
     "start_time": "2024-05-22T04:51:12.835556",
     "status": "completed"
    },
    "tags": []
   },
   "outputs": [],
   "source": [
    "def plot_losses(train_losses, test_losses):\n",
    "    # Plot the train loss and test loss per iteration\n",
    "    plt.plot(train_losses, label='train loss')\n",
    "    plt.plot(test_losses, label='val loss')\n",
    "    plt.legend()\n",
    "    plt.show()"
   ]
  },
  {
   "cell_type": "code",
   "execution_count": 17,
   "id": "6a260be1",
   "metadata": {
    "execution": {
     "iopub.execute_input": "2024-05-22T04:51:12.866346Z",
     "iopub.status.busy": "2024-05-22T04:51:12.866077Z",
     "iopub.status.idle": "2024-05-22T04:51:12.877039Z",
     "shell.execute_reply": "2024-05-22T04:51:12.876209Z"
    },
    "papermill": {
     "duration": 0.021051,
     "end_time": "2024-05-22T04:51:12.878921",
     "exception": false,
     "start_time": "2024-05-22T04:51:12.857870",
     "status": "completed"
    },
    "tags": []
   },
   "outputs": [],
   "source": [
    "################## GET PREDICTIONS + ACCURACY #####################\n",
    "def get_pred_n_acc(models, device, dataloader, num_iter):\n",
    "    i = 0\n",
    "    ypreds =[]\n",
    "    targets = []\n",
    "    #The last batch might not have size 128\n",
    "    while i< num_iter:\n",
    "        for data, target in dataloader:\n",
    "            #this empty list is to hold all models' preds\n",
    "            ypred = []\n",
    "            data= data.to(device)\n",
    "            data = data.to(torch.float32)\n",
    "            target = target.to(torch.float32)\n",
    "            #append the 'i^th' target\n",
    "            targets.append(target)\n",
    "            for model in models:\n",
    "                model.eval()\n",
    "                yp = model(data)\n",
    "                yp = yp.detach().cpu().numpy()\n",
    "                ypred.append(yp)\n",
    "            #take the mean of all models' predictions\n",
    "            ypred = np.array(ypred).mean(axis = 0)\n",
    "            ypred = np.round(ypred)\n",
    "            i+=1\n",
    "            #append ypred, targets inside the 'i' loop\n",
    "            # append the 'i^th' mean prediction\n",
    "            ypreds.append(ypred)\n",
    "            if i == num_iter:\n",
    "                break\n",
    "     #Do not convert ypreds, targets to np.array at this point,\n",
    "    #since the last batch has a different size, causing an error !\n",
    "    #CALCULATING ACCURACY\n",
    "    yp =  np.concatenate([ypreds[j] for j in range(len(ypreds))], axis = 0)\n",
    "    tgs =  np.concatenate([targets[j] for j in range(len(targets))], axis = 0)\n",
    "    h11_acc = ((yp[:,0] == tgs[:,0]).sum())/len(yp)\n",
    "    h21_acc = ((yp[:,1] == tgs[:,1]).sum())/len(yp)\n",
    "    h31_acc = ((yp[:,2] == tgs[:,2]).sum())/len(yp)\n",
    "    h22_acc = ((yp[:,3] == tgs[:,3]).sum())/len(yp)\n",
    "    acc = [h11_acc*100,h21_acc*100,h31_acc*100,h22_acc*100 ]\n",
    "    return  yp, tgs, acc\n"
   ]
  },
  {
   "cell_type": "markdown",
   "id": "b8b811c4",
   "metadata": {
    "papermill": {
     "duration": 0.007174,
     "end_time": "2024-05-22T04:51:12.893426",
     "exception": false,
     "start_time": "2024-05-22T04:51:12.886252",
     "status": "completed"
    },
    "tags": []
   },
   "source": [
    "# Train loop"
   ]
  },
  {
   "cell_type": "code",
   "execution_count": 18,
   "id": "d757cce5",
   "metadata": {
    "execution": {
     "iopub.execute_input": "2024-05-22T04:51:12.909699Z",
     "iopub.status.busy": "2024-05-22T04:51:12.909408Z",
     "iopub.status.idle": "2024-05-22T08:41:48.487908Z",
     "shell.execute_reply": "2024-05-22T08:41:48.486899Z"
    },
    "papermill": {
     "duration": 13835.604059,
     "end_time": "2024-05-22T08:41:48.504797",
     "exception": false,
     "start_time": "2024-05-22T04:51:12.900738",
     "status": "completed"
    },
    "tags": []
   },
   "outputs": [
    {
     "name": "stdout",
     "output_type": "stream",
     "text": [
      "Trained model loaded\n",
      "Begin retraining\n",
      "Model saved as LSTM-448-d80pc at epoch 0\n",
      "Epoch: 1/550, train loss:  4.426, val_loss:  2.742, duration: 0:00:57.624658, learning rate: (0.01, 0.01)\n",
      "Model overwritten at epoch 1, new best val loss 2.00929505715715\n",
      "Model overwritten at epoch 2, new best val loss 1.8091890086572637\n",
      "Model overwritten at epoch 5, new best val loss 1.7962867122478585\n",
      "Model overwritten at epoch 7, new best val loss 1.7523999963698143\n",
      "Model overwritten at epoch 9, new best val loss 1.5890247932186834\n",
      "Epoch: 11/550, train loss:  1.710, val_loss:  1.683, duration: 0:00:57.327399, learning rate: (0.01, 0.01)\n",
      "Model overwritten at epoch 14, new best val loss 1.5131639653202507\n",
      "Model overwritten at epoch 15, new best val loss 1.4086050843225375\n",
      "Epoch: 21/550, train loss:  1.720, val_loss:  1.498, duration: 0:00:57.500080, learning rate: (0.01, 0.01)\n",
      "Model overwritten at epoch 24, new best val loss 1.3912884350176211\n",
      "Model overwritten at epoch 26, new best val loss 1.380827869477516\n",
      "Epoch: 31/550, train loss:  1.485, val_loss:  1.554, duration: 0:00:57.258624, learning rate: (0.01, 0.01)\n",
      "Model overwritten at epoch 33, new best val loss 1.3381536358037744\n",
      "Model overwritten at epoch 38, new best val loss 1.2975550840035528\n",
      "Epoch: 41/550, train loss:  1.575, val_loss:  1.302, duration: 0:00:57.272883, learning rate: (0.01, 0.01)\n",
      "Model overwritten at epoch 41, new best val loss 1.2744850281895364\n",
      "Model overwritten at epoch 43, new best val loss 1.2054838932380474\n",
      "Epoch: 51/550, train loss:  1.380, val_loss:  1.418, duration: 0:00:57.349704, learning rate: (0.01, 0.01)\n",
      "Model overwritten at epoch 51, new best val loss 1.1797045572304432\n",
      "Epoch: 61/550, train loss:  1.444, val_loss:  1.280, duration: 0:00:57.526325, learning rate: (0.01, 0.01)\n",
      "Model overwritten at epoch 63, new best val loss 0.6038795363230259\n",
      "Model overwritten at epoch 64, new best val loss 0.5443890256646239\n",
      "Model overwritten at epoch 65, new best val loss 0.4952642838790934\n",
      "Model overwritten at epoch 66, new best val loss 0.4614109980366217\n",
      "Model overwritten at epoch 67, new best val loss 0.42455359686304023\n",
      "Model overwritten at epoch 68, new best val loss 0.40885650988083455\n",
      "Model overwritten at epoch 69, new best val loss 0.39581930818696504\n",
      "Model overwritten at epoch 70, new best val loss 0.3882324254991096\n",
      "Epoch: 71/550, train loss:  0.296, val_loss:  0.388, duration: 0:00:57.501402, learning rate: (0.001, 0.001)\n",
      "Model overwritten at epoch 72, new best val loss 0.36663137460406703\n",
      "Model overwritten at epoch 74, new best val loss 0.35590273875092704\n",
      "Model overwritten at epoch 76, new best val loss 0.3404339251274365\n",
      "Model overwritten at epoch 77, new best val loss 0.3275237806680131\n",
      "Model overwritten at epoch 80, new best val loss 0.3260074611851778\n",
      "Epoch: 81/550, train loss:  0.230, val_loss:  0.326, duration: 0:00:57.304954, learning rate: (0.001, 0.001)\n",
      "Model overwritten at epoch 81, new best val loss 0.3130701235520146\n",
      "Model overwritten at epoch 89, new best val loss 0.3091725283409132\n",
      "Epoch: 91/550, train loss:  0.214, val_loss:  0.322, duration: 0:00:57.448043, learning rate: (0.001, 0.001)\n",
      "Model overwritten at epoch 92, new best val loss 0.30127579047356123\n",
      "Model overwritten at epoch 93, new best val loss 0.29506229140140394\n",
      "Model overwritten at epoch 94, new best val loss 0.2914680064618062\n",
      "Model overwritten at epoch 100, new best val loss 0.27914190967772584\n",
      "Epoch: 101/550, train loss:  0.206, val_loss:  0.279, duration: 0:00:57.635970, learning rate: (0.001, 0.001)\n",
      "Model overwritten at epoch 107, new best val loss 0.26573060588283726\n",
      "Model overwritten at epoch 110, new best val loss 0.25977802042713033\n",
      "Epoch: 111/550, train loss:  0.194, val_loss:  0.260, duration: 0:00:57.297580, learning rate: (0.001, 0.001)\n",
      "Model overwritten at epoch 118, new best val loss 0.24943970481502106\n",
      "Epoch: 121/550, train loss:  0.191, val_loss:  0.251, duration: 0:00:57.494598, learning rate: (0.001, 0.001)\n",
      "Model overwritten at epoch 124, new best val loss 0.24164894596399245\n",
      "Model overwritten at epoch 129, new best val loss 0.22917366061996952\n",
      "Epoch: 131/550, train loss:  0.183, val_loss:  0.258, duration: 0:00:57.337006, learning rate: (0.001, 0.001)\n",
      "Model overwritten at epoch 138, new best val loss 0.2242692287952181\n",
      "Epoch: 141/550, train loss:  0.173, val_loss:  0.256, duration: 0:00:57.583779, learning rate: (0.001, 0.001)\n",
      "Model overwritten at epoch 142, new best val loss 0.21795044032564448\n",
      "Model overwritten at epoch 148, new best val loss 0.21731722425846828\n",
      "Epoch: 151/550, train loss:  0.170, val_loss:  0.225, duration: 0:00:57.363311, learning rate: (0.001, 0.001)\n",
      "Model overwritten at epoch 156, new best val loss 0.20532118743269112\n",
      "Model overwritten at epoch 160, new best val loss 0.19817846227680355\n",
      "Epoch: 161/550, train loss:  0.166, val_loss:  0.198, duration: 0:00:57.448284, learning rate: (0.001, 0.001)\n",
      "Epoch: 171/550, train loss:  0.157, val_loss:  0.210, duration: 0:00:57.369271, learning rate: (0.001, 0.001)\n",
      "Model overwritten at epoch 172, new best val loss 0.11221806787617991\n",
      "Model overwritten at epoch 173, new best val loss 0.09840939674243936\n",
      "Model overwritten at epoch 174, new best val loss 0.09345346328028768\n",
      "Model overwritten at epoch 175, new best val loss 0.09024058914097843\n",
      "Model overwritten at epoch 176, new best val loss 0.08869581398549219\n",
      "Model overwritten at epoch 177, new best val loss 0.08611797450711488\n",
      "Model overwritten at epoch 178, new best val loss 0.08362286427835203\n",
      "Model overwritten at epoch 179, new best val loss 0.08264236644278337\n",
      "Epoch: 181/550, train loss:  0.018, val_loss:  0.083, duration: 0:00:57.548867, learning rate: (0.0001, 0.0001)\n",
      "Model overwritten at epoch 181, new best val loss 0.08004471962216986\n",
      "Model overwritten at epoch 182, new best val loss 0.0798126446047052\n",
      "Model overwritten at epoch 183, new best val loss 0.0791138958323885\n",
      "Model overwritten at epoch 185, new best val loss 0.07827442371417034\n",
      "Model overwritten at epoch 186, new best val loss 0.07813107105533755\n",
      "Model overwritten at epoch 187, new best val loss 0.0780349840661363\n",
      "Model overwritten at epoch 189, new best val loss 0.07690025418274092\n",
      "Epoch: 191/550, train loss:  0.012, val_loss:  0.077, duration: 0:00:57.366671, learning rate: (0.0001, 0.0001)\n",
      "Model overwritten at epoch 192, new best val loss 0.07677133426372441\n",
      "Model overwritten at epoch 193, new best val loss 0.0760527556496007\n",
      "Epoch: 201/550, train loss:  0.011, val_loss:  0.076, duration: 0:00:57.411096, learning rate: (0.0001, 0.0001)\n",
      "Model overwritten at epoch 202, new best val loss 0.0753695836136318\n",
      "Epoch: 211/550, train loss:  0.010, val_loss:  0.078, duration: 0:00:57.138238, learning rate: (0.0001, 0.0001)\n",
      "Model overwritten at epoch 214, new best val loss 0.07303887797023516\n",
      "Model overwritten at epoch 215, new best val loss 0.07266033624300514\n",
      "Model overwritten at epoch 216, new best val loss 0.07256551138601698\n",
      "Model overwritten at epoch 217, new best val loss 0.07252085542493554\n",
      "Model overwritten at epoch 219, new best val loss 0.07231891312105894\n",
      "Epoch: 221/550, train loss:  0.004, val_loss:  0.073, duration: 0:00:57.411890, learning rate: (1e-05, 1e-05)\n",
      "Epoch: 231/550, train loss:  0.003, val_loss:  0.073, duration: 0:00:57.268148, learning rate: (1e-05, 1.0000000000000002e-06)\n",
      "Max patience reached, training is terminated at epoch 240\n"
     ]
    }
   ],
   "source": [
    "load_model_weight = '/kaggle/input/calabi-yau-cicy-4-folds/trained_models/LSTM-448.pt'\n",
    "epochs = 550\n",
    "new_model_name = 'LSTM-448-d80pc'\n",
    "if load_model_weight is None:\n",
    "    train_losses, test_losses=train_from_scratch_or_load(load_model_weight,new_model_name,  epochs)\n",
    "else:\n",
    "    model, train_losses, test_losses=load_and_retrain(load_model_weight, new_model_name, epochs)"
   ]
  },
  {
   "cell_type": "code",
   "execution_count": 19,
   "id": "5836cbca",
   "metadata": {
    "execution": {
     "iopub.execute_input": "2024-05-22T08:41:48.534769Z",
     "iopub.status.busy": "2024-05-22T08:41:48.534437Z",
     "iopub.status.idle": "2024-05-22T08:41:48.797529Z",
     "shell.execute_reply": "2024-05-22T08:41:48.796525Z"
    },
    "papermill": {
     "duration": 0.280711,
     "end_time": "2024-05-22T08:41:48.800015",
     "exception": false,
     "start_time": "2024-05-22T08:41:48.519304",
     "status": "completed"
    },
    "tags": []
   },
   "outputs": [
    {
     "data": {
      "image/png": "[encoded data removed]",
      "text/plain": [
       "<Figure size 640x480 with 1 Axes>"
      ]
     },
     "metadata": {},
     "output_type": "display_data"
    }
   ],
   "source": [
    "plot_losses(train_losses, test_losses)"
   ]
  },
  {
   "cell_type": "markdown",
   "id": "cb9edc29",
   "metadata": {
    "papermill": {
     "duration": 0.014355,
     "end_time": "2024-05-22T08:41:48.829469",
     "exception": false,
     "start_time": "2024-05-22T08:41:48.815114",
     "status": "completed"
    },
    "tags": []
   },
   "source": [
    "# Accuracies"
   ]
  },
  {
   "cell_type": "code",
   "execution_count": 20,
   "id": "03256a37",
   "metadata": {
    "execution": {
     "iopub.execute_input": "2024-05-22T08:41:48.860430Z",
     "iopub.status.busy": "2024-05-22T08:41:48.860094Z",
     "iopub.status.idle": "2024-05-22T08:42:16.099055Z",
     "shell.execute_reply": "2024-05-22T08:42:16.098071Z"
    },
    "papermill": {
     "duration": 27.257394,
     "end_time": "2024-05-22T08:42:16.101288",
     "exception": false,
     "start_time": "2024-05-22T08:41:48.843894",
     "status": "completed"
    },
    "tags": []
   },
   "outputs": [
    {
     "name": "stdout",
     "output_type": "stream",
     "text": [
      "Train data, target shapes: ((724547, 4), (724547, 4)),\n",
      " train accuracies [99.9940652573263, 99.95390223132523, 99.96646180303003, 99.92919713973006]\n",
      "Validation data, target shapes: ((72455, 4), (72455, 4)),\n",
      " validation accuracies [99.83437995997517, 98.6460561727969, 96.12449106341867, 84.86094817472915]\n"
     ]
    }
   ],
   "source": [
    "#Train accuracy\n",
    "yt, tgt, acct = get_pred_n_acc([model], device, train_loader, num_iter = len(train_loader))\n",
    "#validation accuracy\n",
    "yv, tgv, accv = get_pred_n_acc([model], device, val_loader, num_iter = len(val_loader))\n",
    "print(f'Train data, target shapes: {yt.shape, tgt.shape},\\n train accuracies {acct}')\n",
    "print(f'Validation data, target shapes: {yv.shape, tgv.shape},\\n validation accuracies {accv}')\n"
   ]
  },
  {
   "cell_type": "code",
   "execution_count": 21,
   "id": "c4f6fa3d",
   "metadata": {
    "execution": {
     "iopub.execute_input": "2024-05-22T08:42:16.131907Z",
     "iopub.status.busy": "2024-05-22T08:42:16.131580Z",
     "iopub.status.idle": "2024-05-22T08:42:19.720405Z",
     "shell.execute_reply": "2024-05-22T08:42:19.719286Z"
    },
    "papermill": {
     "duration": 3.606289,
     "end_time": "2024-05-22T08:42:19.722440",
     "exception": false,
     "start_time": "2024-05-22T08:42:16.116151",
     "status": "completed"
    },
    "tags": []
   },
   "outputs": [
    {
     "name": "stdout",
     "output_type": "stream",
     "text": [
      "Test data, target shapes: ((108682, 4), (108682, 4)),\n",
      " test accuracies [99.86106254945622, 98.65663127288788, 96.26157045324892, 84.9846340700392]\n"
     ]
    }
   ],
   "source": [
    "#Test accuracy\n",
    "yts, tgts, accts = get_pred_n_acc([model], device, test_loader, num_iter = len(test_loader))\n",
    "print(f'Test data, target shapes: {yts.shape, tgts.shape},\\n test accuracies {accts}')\n"
   ]
  }
 ],
 "metadata": {
  "kaggle": {
   "accelerator": "gpu",
   "dataSources": [
    {
     "datasetId": 4575883,
     "sourceId": 8466041,
     "sourceType": "datasetVersion"
    },
    {
     "sourceId": 178987982,
     "sourceType": "kernelVersion"
    }
   ],
   "dockerImageVersionId": 30665,
   "isGpuEnabled": true,
   "isInternetEnabled": true,
   "language": "python",
   "sourceType": "notebook"
  },
  "kernelspec": {
   "display_name": "Python 3",
   "language": "python",
   "name": "python3"
  },
  "language_info": {
   "codemirror_mode": {
    "name": "ipython",
    "version": 3
   },
   "file_extension": ".py",
   "mimetype": "text/x-python",
   "name": "python",
   "nbconvert_exporter": "python",
   "pygments_lexer": "ipython3",
   "version": "3.10.13"
  },
  "papermill": {
   "default_parameters": {},
   "duration": 13902.078337,
   "end_time": "2024-05-22T08:42:22.399114",
   "environment_variables": {},
   "exception": null,
   "input_path": "__notebook__.ipynb",
   "output_path": "__notebook__.ipynb",
   "parameters": {},
   "start_time": "2024-05-22T04:50:40.320777",
   "version": "2.5.0"
  }
 },
 "nbformat": 4,
 "nbformat_minor": 5
}
