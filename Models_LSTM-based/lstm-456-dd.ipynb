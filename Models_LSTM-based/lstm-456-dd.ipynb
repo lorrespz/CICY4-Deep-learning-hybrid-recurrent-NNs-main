{
 "cells": [
  {
   "cell_type": "markdown",
   "id": "ea11ec23",
   "metadata": {
    "papermill": {
     "duration": 0.007558,
     "end_time": "2024-04-30T10:44:17.056363",
     "exception": false,
     "start_time": "2024-04-30T10:44:17.048805",
     "status": "completed"
    },
    "tags": []
   },
   "source": [
    "# CICY4: LSTM-based network (LSTM-456)"
   ]
  },
  {
   "cell_type": "code",
   "execution_count": 1,
   "id": "5b2f443a",
   "metadata": {
    "_cell_guid": "b1076dfc-b9ad-4769-8c92-a6c4dae69d19",
    "_uuid": "8f2839f25d086af736a60e9eeb907d3b93b6e0e5",
    "execution": {
     "iopub.execute_input": "2024-04-30T10:44:17.071864Z",
     "iopub.status.busy": "2024-04-30T10:44:17.071511Z",
     "iopub.status.idle": "2024-04-30T10:44:22.634648Z",
     "shell.execute_reply": "2024-04-30T10:44:22.633725Z"
    },
    "papermill": {
     "duration": 5.573693,
     "end_time": "2024-04-30T10:44:22.637131",
     "exception": false,
     "start_time": "2024-04-30T10:44:17.063438",
     "status": "completed"
    },
    "tags": []
   },
   "outputs": [],
   "source": [
    "import numpy as np\n",
    "import random\n",
    "import pandas as pd\n",
    "import os as os\n",
    "import matplotlib.pyplot as plt\n",
    "import seaborn as sns\n",
    "from datetime import datetime\n",
    "#sns.set_style(\"darkgrid\")\n",
    "\n",
    "import torch\n",
    "import torch.nn as nn\n",
    "import torch.nn.functional as F\n",
    "import torch.optim.lr_scheduler as lr_scheduler"
   ]
  },
  {
   "cell_type": "code",
   "execution_count": 2,
   "id": "acc00bd5",
   "metadata": {
    "execution": {
     "iopub.execute_input": "2024-04-30T10:44:22.653292Z",
     "iopub.status.busy": "2024-04-30T10:44:22.652874Z",
     "iopub.status.idle": "2024-04-30T10:44:22.713526Z",
     "shell.execute_reply": "2024-04-30T10:44:22.712662Z"
    },
    "papermill": {
     "duration": 0.0711,
     "end_time": "2024-04-30T10:44:22.715456",
     "exception": false,
     "start_time": "2024-04-30T10:44:22.644356",
     "status": "completed"
    },
    "tags": []
   },
   "outputs": [
    {
     "name": "stdout",
     "output_type": "stream",
     "text": [
      "cuda:0\n"
     ]
    }
   ],
   "source": [
    "device = torch.device(\"cuda:0\" if torch.cuda.is_available() else \"cpu\")\n",
    "print(device)"
   ]
  },
  {
   "cell_type": "code",
   "execution_count": 3,
   "id": "bd521f91",
   "metadata": {
    "execution": {
     "iopub.execute_input": "2024-04-30T10:44:22.730857Z",
     "iopub.status.busy": "2024-04-30T10:44:22.730553Z",
     "iopub.status.idle": "2024-04-30T10:44:22.738443Z",
     "shell.execute_reply": "2024-04-30T10:44:22.737779Z"
    },
    "papermill": {
     "duration": 0.017668,
     "end_time": "2024-04-30T10:44:22.740296",
     "exception": false,
     "start_time": "2024-04-30T10:44:22.722628",
     "status": "completed"
    },
    "tags": []
   },
   "outputs": [],
   "source": [
    "seed = 42\n",
    "\n",
    "def seed_everything(seed):\n",
    "    random.seed(seed)\n",
    "    os.environ['PYTHONHASHSEED'] = str(seed)\n",
    "    np.random.seed(seed)\n",
    "    torch.manual_seed(seed)\n",
    "    torch.cuda.manual_seed(seed)\n",
    "    torch.cuda.manual_seed_all(seed)\n",
    "    torch.backends.cudnn.deterministic = True\n",
    "\n",
    "seed_everything(seed)"
   ]
  },
  {
   "cell_type": "markdown",
   "id": "efdd1f8b",
   "metadata": {
    "papermill": {
     "duration": 0.006794,
     "end_time": "2024-04-30T10:44:22.754176",
     "exception": false,
     "start_time": "2024-04-30T10:44:22.747382",
     "status": "completed"
    },
    "tags": []
   },
   "source": [
    " # LSTM-based network architecture"
   ]
  },
  {
   "cell_type": "code",
   "execution_count": 4,
   "id": "7a8e89d0",
   "metadata": {
    "execution": {
     "iopub.execute_input": "2024-04-30T10:44:22.769224Z",
     "iopub.status.busy": "2024-04-30T10:44:22.768956Z",
     "iopub.status.idle": "2024-04-30T10:44:22.777737Z",
     "shell.execute_reply": "2024-04-30T10:44:22.776912Z"
    },
    "papermill": {
     "duration": 0.018498,
     "end_time": "2024-04-30T10:44:22.779668",
     "exception": false,
     "start_time": "2024-04-30T10:44:22.761170",
     "status": "completed"
    },
    "tags": []
   },
   "outputs": [],
   "source": [
    "class LSTM_block(nn.Module):\n",
    "    def __init__(self, n_inputs, n_hidden, n_rnnlayers, n_outputs):\n",
    "        super(LSTM_block,self).__init__()\n",
    "        self.D = n_inputs\n",
    "        self.M = n_hidden\n",
    "        self.K = n_outputs\n",
    "        self.L = n_rnnlayers\n",
    "        self.lstm = nn.LSTM(input_size = self.D,\n",
    "                           hidden_size = self.M,\n",
    "                           num_layers = self.L,\n",
    "                           batch_first = True)\n",
    "        #self.gru = nn.GRU(input_size = self.D,\n",
    "        #                   hidden_size = self.M,\n",
    "        #                  num_layers = self.L,\n",
    "        #                 batch_first = True)\n",
    "        self.feat_vec_size = self.M\n",
    "        self.fc1 = nn.Linear(self.feat_vec_size, 1024)\n",
    "        self.fc2 = nn.Linear(1024, 4)\n",
    "    def forward(self, X):\n",
    "        #input X is NxTxD\n",
    "        #initial hidden states\n",
    "        h0 = torch.zeros(self.L, X.size(0), self.M).to(device)\n",
    "        c0 = torch.zeros(self.L, X.size(0), self.M).to(device)\n",
    "        #get LSTM unit output:\n",
    "        #output is NxTxM\n",
    "        out, _ = self.lstm(X, (h0,c0))\n",
    "        #we only want the output y at the final time step\n",
    "        # output is now of shape (N, M)\n",
    "        xx = out[:, -1, :]\n",
    "        xx = self.fc1(xx)\n",
    "        #final output is 4\n",
    "        xx = self.fc2(xx)\n",
    "        return xx"
   ]
  },
  {
   "cell_type": "code",
   "execution_count": 5,
   "id": "1a08b8dc",
   "metadata": {
    "execution": {
     "iopub.execute_input": "2024-04-30T10:44:22.794891Z",
     "iopub.status.busy": "2024-04-30T10:44:22.794613Z",
     "iopub.status.idle": "2024-04-30T10:44:23.141689Z",
     "shell.execute_reply": "2024-04-30T10:44:23.140806Z"
    },
    "papermill": {
     "duration": 0.357068,
     "end_time": "2024-04-30T10:44:23.143739",
     "exception": false,
     "start_time": "2024-04-30T10:44:22.786671",
     "status": "completed"
    },
    "tags": []
   },
   "outputs": [
    {
     "data": {
      "text/plain": [
       "LSTM_block(\n",
       "  (lstm): LSTM(20, 456, num_layers=2, batch_first=True)\n",
       "  (fc1): Linear(in_features=456, out_features=1024, bias=True)\n",
       "  (fc2): Linear(in_features=1024, out_features=4, bias=True)\n",
       ")"
      ]
     },
     "execution_count": 5,
     "metadata": {},
     "output_type": "execute_result"
    }
   ],
   "source": [
    "model = LSTM_block(20, 456, 2, 4)\n",
    "model.to(device)"
   ]
  },
  {
   "cell_type": "code",
   "execution_count": 6,
   "id": "29ff7972",
   "metadata": {
    "execution": {
     "iopub.execute_input": "2024-04-30T10:44:23.159488Z",
     "iopub.status.busy": "2024-04-30T10:44:23.159208Z",
     "iopub.status.idle": "2024-04-30T10:44:23.164215Z",
     "shell.execute_reply": "2024-04-30T10:44:23.163265Z"
    },
    "papermill": {
     "duration": 0.015144,
     "end_time": "2024-04-30T10:44:23.166299",
     "exception": false,
     "start_time": "2024-04-30T10:44:23.151155",
     "status": "completed"
    },
    "tags": []
   },
   "outputs": [
    {
     "name": "stdout",
     "output_type": "stream",
     "text": [
      "Total numbers of parameters: 3011076\n"
     ]
    }
   ],
   "source": [
    "#count the number of parameters in the model\n",
    "params = [p.numel() for p in model.parameters() if p.requires_grad]\n",
    "print(f'Total numbers of parameters: {sum(params)}')"
   ]
  },
  {
   "cell_type": "markdown",
   "id": "9860d927",
   "metadata": {
    "papermill": {
     "duration": 0.007056,
     "end_time": "2024-04-30T10:44:23.181501",
     "exception": false,
     "start_time": "2024-04-30T10:44:23.174445",
     "status": "completed"
    },
    "tags": []
   },
   "source": [
    "# Load data & define dataset class"
   ]
  },
  {
   "cell_type": "code",
   "execution_count": 7,
   "id": "bbb27a29",
   "metadata": {
    "execution": {
     "iopub.execute_input": "2024-04-30T10:44:23.197588Z",
     "iopub.status.busy": "2024-04-30T10:44:23.197116Z",
     "iopub.status.idle": "2024-04-30T10:44:37.294355Z",
     "shell.execute_reply": "2024-04-30T10:44:37.293329Z"
    },
    "papermill": {
     "duration": 14.107684,
     "end_time": "2024-04-30T10:44:37.296560",
     "exception": false,
     "start_time": "2024-04-30T10:44:23.188876",
     "status": "completed"
    },
    "tags": []
   },
   "outputs": [
    {
     "name": "stdout",
     "output_type": "stream",
     "text": [
      "(652092, 16, 20) (72455, 16, 20) (181137, 16, 20)\n",
      "(652092, 4) (72455, 4) (181137, 4)\n"
     ]
    }
   ],
   "source": [
    "# load data\n",
    "path = '/kaggle/input/cicy4-data-processing/'\n",
    "X_train = np.load(path + 'conf_Xtrain.npy')\n",
    "X_test = np.load(path+'conf_Xtest.npy')\n",
    "X_valid = np.load(path+'conf_Xvalid.npy')\n",
    "\n",
    "y_train = np.load(path+'hodge_ytrain.npy')\n",
    "y_test= np.load(path+'hodge_ytest.npy')\n",
    "y_valid = np.load(path+'hodge_yvalid.npy')\n",
    "\n",
    "print(X_train.shape, X_valid.shape, X_test.shape)\n",
    "print(y_train.shape, y_valid.shape, y_test.shape)"
   ]
  },
  {
   "cell_type": "code",
   "execution_count": 8,
   "id": "51e4cfbb",
   "metadata": {
    "execution": {
     "iopub.execute_input": "2024-04-30T10:44:37.313219Z",
     "iopub.status.busy": "2024-04-30T10:44:37.312923Z",
     "iopub.status.idle": "2024-04-30T10:44:37.778982Z",
     "shell.execute_reply": "2024-04-30T10:44:37.778193Z"
    },
    "papermill": {
     "duration": 0.476915,
     "end_time": "2024-04-30T10:44:37.781365",
     "exception": false,
     "start_time": "2024-04-30T10:44:37.304450",
     "status": "completed"
    },
    "tags": []
   },
   "outputs": [],
   "source": [
    "#Convert data to torch tensor with float32 precision\n",
    "#(needed to be compatible with the floating decision of the network parameters)\n",
    "X_train = torch.from_numpy(X_train.astype(np.float32))\n",
    "y_train = torch.from_numpy(y_train.astype(np.float32))\n",
    "\n",
    "X_valid = torch.from_numpy(X_valid.astype(np.float32))\n",
    "y_valid = torch.from_numpy(y_valid.astype(np.float32))\n",
    "\n",
    "X_test = torch.from_numpy(X_test.astype(np.float32))\n",
    "y_test= torch.from_numpy(y_test.astype(np.float32))"
   ]
  },
  {
   "cell_type": "code",
   "execution_count": 9,
   "id": "e349958f",
   "metadata": {
    "execution": {
     "iopub.execute_input": "2024-04-30T10:44:37.797850Z",
     "iopub.status.busy": "2024-04-30T10:44:37.797543Z",
     "iopub.status.idle": "2024-04-30T10:44:37.803485Z",
     "shell.execute_reply": "2024-04-30T10:44:37.802675Z"
    },
    "papermill": {
     "duration": 0.016116,
     "end_time": "2024-04-30T10:44:37.805366",
     "exception": false,
     "start_time": "2024-04-30T10:44:37.789250",
     "status": "completed"
    },
    "tags": []
   },
   "outputs": [],
   "source": [
    "class CICY4Dataset(torch.utils.data.Dataset):\n",
    "    def __init__(self, X, y):\n",
    "        self.X = X\n",
    "        self.y = y\n",
    "    def __len__(self):\n",
    "        return len(self.X)\n",
    "    def __getitem__(self, idx):\n",
    "        X0 = self.X[idx]\n",
    "        y0 = self.y[idx]\n",
    "        return X0, y0\n",
    "\n",
    "train_set = CICY4Dataset(X_train, y_train)\n",
    "val_set = CICY4Dataset(X_valid, y_valid)\n",
    "test_set = CICY4Dataset(X_test, y_test)"
   ]
  },
  {
   "cell_type": "code",
   "execution_count": 10,
   "id": "e8f5cd71",
   "metadata": {
    "execution": {
     "iopub.execute_input": "2024-04-30T10:44:37.821015Z",
     "iopub.status.busy": "2024-04-30T10:44:37.820755Z",
     "iopub.status.idle": "2024-04-30T10:44:37.825530Z",
     "shell.execute_reply": "2024-04-30T10:44:37.824747Z"
    },
    "papermill": {
     "duration": 0.014759,
     "end_time": "2024-04-30T10:44:37.827402",
     "exception": false,
     "start_time": "2024-04-30T10:44:37.812643",
     "status": "completed"
    },
    "tags": []
   },
   "outputs": [],
   "source": [
    "from torch.utils.data import DataLoader\n",
    "\n",
    "train_loader = DataLoader(train_set, batch_size=128, shuffle=True)\n",
    "val_loader = DataLoader(val_set, batch_size=128, shuffle=True)\n",
    "test_loader = DataLoader(test_set, batch_size=128, shuffle=False)"
   ]
  },
  {
   "cell_type": "markdown",
   "id": "c98a46a0",
   "metadata": {
    "papermill": {
     "duration": 0.007026,
     "end_time": "2024-04-30T10:44:37.841765",
     "exception": false,
     "start_time": "2024-04-30T10:44:37.834739",
     "status": "completed"
    },
    "tags": []
   },
   "source": [
    "# Utility functions"
   ]
  },
  {
   "cell_type": "code",
   "execution_count": 11,
   "id": "6aacf43c",
   "metadata": {
    "execution": {
     "iopub.execute_input": "2024-04-30T10:44:37.857264Z",
     "iopub.status.busy": "2024-04-30T10:44:37.856998Z",
     "iopub.status.idle": "2024-04-30T10:44:37.862870Z",
     "shell.execute_reply": "2024-04-30T10:44:37.862031Z"
    },
    "papermill": {
     "duration": 0.015689,
     "end_time": "2024-04-30T10:44:37.864652",
     "exception": false,
     "start_time": "2024-04-30T10:44:37.848963",
     "status": "completed"
    },
    "tags": []
   },
   "outputs": [],
   "source": [
    "def train_one_epoch(model, criterion, optimizer, train_loader):\n",
    "    model.train()\n",
    "    train_loss = []\n",
    "    for inputs, target in train_loader:\n",
    "        inputs, target = inputs.to(device), target.to(device)\n",
    "        optimizer.zero_grad()\n",
    "        out = model(inputs)\n",
    "        loss = criterion(out, target)\n",
    "        loss.backward()\n",
    "        optimizer.step()\n",
    "        train_loss.append(loss.item())\n",
    "    #average the train_loss list in for all batches in the train_gen\n",
    "    train_loss = np.mean(train_loss)\n",
    "    return train_loss"
   ]
  },
  {
   "cell_type": "code",
   "execution_count": 12,
   "id": "23fe0365",
   "metadata": {
    "execution": {
     "iopub.execute_input": "2024-04-30T10:44:37.880275Z",
     "iopub.status.busy": "2024-04-30T10:44:37.880012Z",
     "iopub.status.idle": "2024-04-30T10:44:37.885213Z",
     "shell.execute_reply": "2024-04-30T10:44:37.884423Z"
    },
    "papermill": {
     "duration": 0.015042,
     "end_time": "2024-04-30T10:44:37.887025",
     "exception": false,
     "start_time": "2024-04-30T10:44:37.871983",
     "status": "completed"
    },
    "tags": []
   },
   "outputs": [],
   "source": [
    "def validate_one_epoch(model, criterion, optimizer, val_loader):\n",
    "    model.eval()\n",
    "    test_loss = []\n",
    "    for inputs, target in val_loader:\n",
    "        inputs, target = inputs.to(device), target.to(device)\n",
    "        out = model(inputs)\n",
    "        loss = criterion(out, target)\n",
    "        test_loss.append(loss.item())\n",
    "    #average the test_loss list in for all batches in the test_gen\n",
    "    test_loss = np.mean(test_loss)\n",
    "    return test_loss"
   ]
  },
  {
   "cell_type": "code",
   "execution_count": 13,
   "id": "f28b841b",
   "metadata": {
    "execution": {
     "iopub.execute_input": "2024-04-30T10:44:37.902744Z",
     "iopub.status.busy": "2024-04-30T10:44:37.902451Z",
     "iopub.status.idle": "2024-04-30T10:44:37.912539Z",
     "shell.execute_reply": "2024-04-30T10:44:37.911727Z"
    },
    "papermill": {
     "duration": 0.020123,
     "end_time": "2024-04-30T10:44:37.914397",
     "exception": false,
     "start_time": "2024-04-30T10:44:37.894274",
     "status": "completed"
    },
    "tags": []
   },
   "outputs": [],
   "source": [
    "def batch_gd_scheduler(model, new_model_name, criterion, optimizer, train_loader, val_loader, scheduler,\n",
    "                         epochs, device, batch_size=128):\n",
    "    train_losses = np.zeros(epochs)\n",
    "    test_losses = np.zeros(epochs)\n",
    "    patience = 0\n",
    "    best_loss = 1000\n",
    "    max_patience = 20\n",
    "    for i in range(epochs):\n",
    "        t0 = datetime.now()\n",
    "        train_loss = train_one_epoch(model, criterion, optimizer,train_loader)\n",
    "        test_loss = validate_one_epoch(model, criterion, optimizer,val_loader)\n",
    "        #Early stopping based on test loss\n",
    "        if i == 0:\n",
    "            best_loss = test_loss\n",
    "            torch.save(model, f'/kaggle/working/{new_model_name}.pt')\n",
    "            #torch.save(model, path+f'{new_model_name}.pt')\n",
    "            print(f'Model saved as {new_model_name} at epoch {i}')\n",
    "        else:\n",
    "            if test_loss < best_loss:\n",
    "                best_loss = test_loss\n",
    "                torch.save(model, f'/kaggle/working/{new_model_name}.pt')\n",
    "                #torch.save(model, path+f'{new_model_name}.pt')\n",
    "                print(f'Model overwritten at epoch {i}, new best val loss {best_loss}')\n",
    "                patience = 0\n",
    "            else:\n",
    "                patience = patience +1\n",
    "                #print(f'No improvement, current patience level is {patience} at epoch {i}')\n",
    "        if patience > max_patience:\n",
    "            print(f'Max patience reached, training is terminated at epoch {i}')\n",
    "            break\n",
    "        #Apply scheduler after the train+validate parts\n",
    "        before_lr = optimizer.param_groups[0][\"lr\"]\n",
    "        scheduler.step(test_loss)\n",
    "        after_lr = optimizer.param_groups[0][\"lr\"]\n",
    "        train_losses[i] = train_loss\n",
    "        test_losses[i] = test_loss\n",
    "        #write the losses into a csv file\n",
    "        loss_dict = {'train_loss': train_losses, 'test_loss': test_losses}\n",
    "        dd = pd.DataFrame(loss_dict)\n",
    "        dd.to_csv('loss_dict_lstm_456.csv', index = False)\n",
    "        dt = datetime.now()-t0\n",
    "        if i%10==0:\n",
    "            print(f'Epoch: {i+1}/{epochs}, train loss: {train_loss: .3f}, val_loss: {test_loss: .3f}, duration: {dt}, learning rate: {before_lr, after_lr}')\n",
    "    return train_losses, test_losses\n"
   ]
  },
  {
   "cell_type": "code",
   "execution_count": 14,
   "id": "d53aa671",
   "metadata": {
    "execution": {
     "iopub.execute_input": "2024-04-30T10:44:37.930266Z",
     "iopub.status.busy": "2024-04-30T10:44:37.930013Z",
     "iopub.status.idle": "2024-04-30T10:44:37.936383Z",
     "shell.execute_reply": "2024-04-30T10:44:37.935593Z"
    },
    "papermill": {
     "duration": 0.016486,
     "end_time": "2024-04-30T10:44:37.938252",
     "exception": false,
     "start_time": "2024-04-30T10:44:37.921766",
     "status": "completed"
    },
    "tags": []
   },
   "outputs": [],
   "source": [
    "def train_from_scratch_or_load(load_model_weight,new_model_name, epochs):\n",
    "    if load_model_weight==None:\n",
    "        #criterion = nn.MSELoss()\n",
    "        criterion = nn.HuberLoss()\n",
    "        optimizer = torch.optim.AdamW(model.parameters(), lr=0.01)\n",
    "        scheduler = lr_scheduler.ReduceLROnPlateau(optimizer, 'min', factor=0.1, min_lr = 1e-8)\n",
    "        train_losses, test_losses=batch_gd_scheduler(model, new_model_name, criterion,\n",
    "                                                     optimizer,train_loader, val_loader,\n",
    "                                                      scheduler, epochs,\n",
    "                                                       device = device)\n",
    "        return train_losses, test_losses\n",
    "    else:\n",
    "        if torch.cuda.is_available():\n",
    "            trained_model = torch.load(load_model_weight)\n",
    "        else:\n",
    "            trained_model = torch.load(load_model_weight, map_location=torch.device('cpu'))\n",
    "        return trained_model"
   ]
  },
  {
   "cell_type": "code",
   "execution_count": 15,
   "id": "6ace32f9",
   "metadata": {
    "execution": {
     "iopub.execute_input": "2024-04-30T10:44:37.953890Z",
     "iopub.status.busy": "2024-04-30T10:44:37.953597Z",
     "iopub.status.idle": "2024-04-30T10:44:37.959298Z",
     "shell.execute_reply": "2024-04-30T10:44:37.958440Z"
    },
    "papermill": {
     "duration": 0.015658,
     "end_time": "2024-04-30T10:44:37.961176",
     "exception": false,
     "start_time": "2024-04-30T10:44:37.945518",
     "status": "completed"
    },
    "tags": []
   },
   "outputs": [],
   "source": [
    "def load_and_retrain(load_model_weight, new_model_name, epochs):\n",
    "    trained_model = torch.load(load_model_weight)\n",
    "    #criterion = nn.MSELoss()\n",
    "    criterion = nn.HuberLoss()\n",
    "    optimizer = torch.optim.AdamW(trained_model.parameters(),lr=0.0001)\n",
    "    scheduler = lr_scheduler.ReduceLROnPlateau(optimizer, 'min', factor=0.5, min_lr = 5e-7)\n",
    "    trained_model.train()\n",
    "    train_losses, test_losses=batch_gd_scheduler(trained_model,new_model_name, criterion, optimizer,\n",
    "                                                 train_loader, val_loader,\n",
    "                                                 scheduler, epochs,\n",
    "                                                 device = device)\n",
    "    return trained_model, train_losses, test_losses"
   ]
  },
  {
   "cell_type": "code",
   "execution_count": 16,
   "id": "67c8ea3a",
   "metadata": {
    "execution": {
     "iopub.execute_input": "2024-04-30T10:44:37.976775Z",
     "iopub.status.busy": "2024-04-30T10:44:37.976464Z",
     "iopub.status.idle": "2024-04-30T10:44:37.980762Z",
     "shell.execute_reply": "2024-04-30T10:44:37.979989Z"
    },
    "papermill": {
     "duration": 0.014242,
     "end_time": "2024-04-30T10:44:37.982704",
     "exception": false,
     "start_time": "2024-04-30T10:44:37.968462",
     "status": "completed"
    },
    "tags": []
   },
   "outputs": [],
   "source": [
    "def plot_losses(train_losses, test_losses):\n",
    "    # Plot the train loss and test loss per iteration\n",
    "    plt.plot(train_losses, label='train loss')\n",
    "    plt.plot(test_losses, label='val loss')\n",
    "    plt.legend()\n",
    "    plt.show()"
   ]
  },
  {
   "cell_type": "code",
   "execution_count": 17,
   "id": "165f1732",
   "metadata": {
    "execution": {
     "iopub.execute_input": "2024-04-30T10:44:37.998512Z",
     "iopub.status.busy": "2024-04-30T10:44:37.998230Z",
     "iopub.status.idle": "2024-04-30T10:44:38.009392Z",
     "shell.execute_reply": "2024-04-30T10:44:38.008528Z"
    },
    "papermill": {
     "duration": 0.021277,
     "end_time": "2024-04-30T10:44:38.011313",
     "exception": false,
     "start_time": "2024-04-30T10:44:37.990036",
     "status": "completed"
    },
    "tags": []
   },
   "outputs": [],
   "source": [
    "################## GET PREDICTIONS + ACCURACY #####################\n",
    "def get_pred_n_acc(models, device, dataloader, num_iter):\n",
    "    i = 0\n",
    "    ypreds =[]\n",
    "    targets = []\n",
    "    #The last batch might not have size 128\n",
    "    while i< num_iter:\n",
    "        for data, target in dataloader:\n",
    "            #this empty list is to hold all models' preds\n",
    "            ypred = []\n",
    "            data= data.to(device)\n",
    "            data = data.to(torch.float32)\n",
    "            target = target.to(torch.float32)\n",
    "            #append the 'i^th' target\n",
    "            targets.append(target)\n",
    "            for model in models:\n",
    "                model.eval()\n",
    "                yp = model(data)\n",
    "                yp = yp.detach().cpu().numpy()\n",
    "                ypred.append(yp)\n",
    "            #take the mean of all models' predictions\n",
    "            ypred = np.array(ypred).mean(axis = 0)\n",
    "            ypred = np.round(ypred)\n",
    "            i+=1\n",
    "            #append ypred, targets inside the 'i' loop\n",
    "            # append the 'i^th' mean prediction\n",
    "            ypreds.append(ypred)\n",
    "            if i == num_iter:\n",
    "                break\n",
    "     #Do not convert ypreds, targets to np.array at this point,\n",
    "    #since the last batch has a different size, causing an error !\n",
    "    #CALCULATING ACCURACY\n",
    "    yp =  np.concatenate([ypreds[j] for j in range(len(ypreds))], axis = 0)\n",
    "    tgs =  np.concatenate([targets[j] for j in range(len(targets))], axis = 0)\n",
    "    h11_acc = ((yp[:,0] == tgs[:,0]).sum())/len(yp)\n",
    "    h21_acc = ((yp[:,1] == tgs[:,1]).sum())/len(yp)\n",
    "    h31_acc = ((yp[:,2] == tgs[:,2]).sum())/len(yp)\n",
    "    h22_acc = ((yp[:,3] == tgs[:,3]).sum())/len(yp)\n",
    "    acc = [h11_acc*100,h21_acc*100,h31_acc*100,h22_acc*100 ]\n",
    "    return  yp, tgs, acc\n"
   ]
  },
  {
   "cell_type": "markdown",
   "id": "2c0d461a",
   "metadata": {
    "papermill": {
     "duration": 0.007119,
     "end_time": "2024-04-30T10:44:38.025931",
     "exception": false,
     "start_time": "2024-04-30T10:44:38.018812",
     "status": "completed"
    },
    "tags": []
   },
   "source": [
    "# Train loop"
   ]
  },
  {
   "cell_type": "code",
   "execution_count": 18,
   "id": "92caf235",
   "metadata": {
    "execution": {
     "iopub.execute_input": "2024-04-30T10:44:38.042187Z",
     "iopub.status.busy": "2024-04-30T10:44:38.041393Z",
     "iopub.status.idle": "2024-04-30T15:10:37.812557Z",
     "shell.execute_reply": "2024-04-30T15:10:37.811615Z"
    },
    "papermill": {
     "duration": 15959.799004,
     "end_time": "2024-04-30T15:10:37.832240",
     "exception": false,
     "start_time": "2024-04-30T10:44:38.033236",
     "status": "completed"
    },
    "tags": []
   },
   "outputs": [
    {
     "name": "stdout",
     "output_type": "stream",
     "text": [
      "Model saved as LSTM-456 at epoch 0\n",
      "Epoch: 1/550, train loss:  9.961, val_loss:  9.673, duration: 0:00:55.547186, learning rate: (0.01, 0.01)\n",
      "Model overwritten at epoch 6, new best val loss 8.5354359482121\n",
      "Model overwritten at epoch 7, new best val loss 8.479912542581978\n",
      "Model overwritten at epoch 8, new best val loss 8.395433964973193\n",
      "Model overwritten at epoch 9, new best val loss 8.330641121250402\n",
      "Epoch: 11/550, train loss:  8.381, val_loss:  8.655, duration: 0:00:55.330910, learning rate: (0.01, 0.01)\n",
      "Model overwritten at epoch 15, new best val loss 8.32734092244816\n",
      "Epoch: 21/550, train loss:  8.516, val_loss:  8.384, duration: 0:00:55.453951, learning rate: (0.01, 0.01)\n",
      "Model overwritten at epoch 27, new best val loss 7.9809269795762585\n",
      "Model overwritten at epoch 28, new best val loss 7.583964584155478\n",
      "Model overwritten at epoch 29, new best val loss 7.170663832777182\n",
      "Model overwritten at epoch 30, new best val loss 7.142741649028906\n",
      "Epoch: 31/550, train loss:  7.157, val_loss:  7.143, duration: 0:00:54.314912, learning rate: (0.001, 0.001)\n",
      "Model overwritten at epoch 31, new best val loss 7.0726172154542635\n",
      "Model overwritten at epoch 32, new best val loss 6.997472342990694\n",
      "Model overwritten at epoch 33, new best val loss 6.960203941957451\n",
      "Model overwritten at epoch 34, new best val loss 6.861863571920512\n",
      "Model overwritten at epoch 36, new best val loss 6.774954219764292\n",
      "Model overwritten at epoch 37, new best val loss 6.774068770164745\n",
      "Model overwritten at epoch 38, new best val loss 6.610045483923884\n",
      "Model overwritten at epoch 39, new best val loss 6.5282151383697675\n",
      "Model overwritten at epoch 40, new best val loss 6.489266365293473\n",
      "Epoch: 41/550, train loss:  6.558, val_loss:  6.489, duration: 0:00:54.324968, learning rate: (0.001, 0.001)\n",
      "Model overwritten at epoch 41, new best val loss 6.423025703934766\n",
      "Model overwritten at epoch 42, new best val loss 6.379808029800496\n",
      "Model overwritten at epoch 43, new best val loss 6.254228887944835\n",
      "Model overwritten at epoch 44, new best val loss 6.2233947803524226\n",
      "Model overwritten at epoch 46, new best val loss 6.008812660893435\n",
      "Model overwritten at epoch 48, new best val loss 5.828402827025721\n",
      "Model overwritten at epoch 49, new best val loss 5.779754877090454\n",
      "Model overwritten at epoch 50, new best val loss 5.612173146040982\n",
      "Epoch: 51/550, train loss:  5.691, val_loss:  5.612, duration: 0:00:54.379197, learning rate: (0.001, 0.001)\n",
      "Model overwritten at epoch 51, new best val loss 5.577900563177819\n",
      "Model overwritten at epoch 52, new best val loss 5.373233103878284\n",
      "Model overwritten at epoch 54, new best val loss 5.26053949554551\n",
      "Model overwritten at epoch 55, new best val loss 4.9596381721462945\n",
      "Model overwritten at epoch 56, new best val loss 4.8965288449006525\n",
      "Model overwritten at epoch 57, new best val loss 4.6188652969542\n",
      "Model overwritten at epoch 59, new best val loss 4.4359729639016345\n",
      "Epoch: 61/550, train loss:  4.478, val_loss:  4.438, duration: 0:00:54.344737, learning rate: (0.001, 0.001)\n",
      "Model overwritten at epoch 61, new best val loss 4.110056277515606\n",
      "Model overwritten at epoch 62, new best val loss 4.025593194591515\n",
      "Model overwritten at epoch 64, new best val loss 3.5683284297822015\n",
      "Model overwritten at epoch 65, new best val loss 3.2298278657216875\n",
      "Model overwritten at epoch 66, new best val loss 3.0634549219141562\n",
      "Model overwritten at epoch 68, new best val loss 2.6900267113243252\n",
      "Model overwritten at epoch 69, new best val loss 2.564829439292719\n",
      "Model overwritten at epoch 70, new best val loss 2.349383453002472\n",
      "Epoch: 71/550, train loss:  2.526, val_loss:  2.349, duration: 0:00:54.457236, learning rate: (0.001, 0.001)\n",
      "Model overwritten at epoch 72, new best val loss 2.335922804459062\n",
      "Model overwritten at epoch 73, new best val loss 2.250782241686732\n",
      "Model overwritten at epoch 74, new best val loss 1.9356798282586287\n",
      "Model overwritten at epoch 75, new best val loss 1.9317286332027832\n",
      "Model overwritten at epoch 77, new best val loss 1.850791550082084\n",
      "Model overwritten at epoch 78, new best val loss 1.7584994123095559\n",
      "Model overwritten at epoch 80, new best val loss 1.7235977597127305\n",
      "Epoch: 81/550, train loss:  1.687, val_loss:  1.724, duration: 0:00:55.400924, learning rate: (0.001, 0.001)\n",
      "Model overwritten at epoch 82, new best val loss 1.5735149589585669\n",
      "Model overwritten at epoch 83, new best val loss 1.530309241915506\n",
      "Model overwritten at epoch 85, new best val loss 1.506826994700827\n",
      "Model overwritten at epoch 86, new best val loss 1.4300448670589103\n",
      "Model overwritten at epoch 87, new best val loss 1.4200442458586717\n",
      "Model overwritten at epoch 89, new best val loss 1.4034324646837077\n",
      "Model overwritten at epoch 90, new best val loss 1.3465879155845237\n",
      "Epoch: 91/550, train loss:  1.284, val_loss:  1.347, duration: 0:00:55.258542, learning rate: (0.001, 0.001)\n",
      "Model overwritten at epoch 93, new best val loss 1.213611711900701\n",
      "Model overwritten at epoch 96, new best val loss 1.210924908702756\n",
      "Model overwritten at epoch 98, new best val loss 1.088198923349801\n",
      "Epoch: 101/550, train loss:  1.061, val_loss:  1.143, duration: 0:00:55.268876, learning rate: (0.001, 0.001)\n",
      "Model overwritten at epoch 104, new best val loss 0.9661919097210785\n",
      "Epoch: 111/550, train loss:  0.916, val_loss:  0.972, duration: 0:00:55.493160, learning rate: (0.001, 0.001)\n",
      "Model overwritten at epoch 112, new best val loss 0.9634046664944401\n",
      "Model overwritten at epoch 115, new best val loss 0.8883282935388084\n",
      "Model overwritten at epoch 119, new best val loss 0.8674671051258342\n",
      "Epoch: 121/550, train loss:  0.796, val_loss:  0.992, duration: 0:00:54.986699, learning rate: (0.001, 0.001)\n",
      "Model overwritten at epoch 121, new best val loss 0.8531702380541981\n",
      "Model overwritten at epoch 122, new best val loss 0.8258352206077104\n",
      "Model overwritten at epoch 130, new best val loss 0.7822829114381599\n",
      "Epoch: 131/550, train loss:  0.704, val_loss:  0.782, duration: 0:00:55.187608, learning rate: (0.001, 0.001)\n",
      "Model overwritten at epoch 131, new best val loss 0.734865442470268\n",
      "Model overwritten at epoch 138, new best val loss 0.7236174045942028\n",
      "Model overwritten at epoch 140, new best val loss 0.7056331605087092\n",
      "Epoch: 141/550, train loss:  0.620, val_loss:  0.706, duration: 0:00:55.561706, learning rate: (0.001, 0.001)\n",
      "Model overwritten at epoch 141, new best val loss 0.6841512429651129\n",
      "Model overwritten at epoch 143, new best val loss 0.6335858724209787\n",
      "Model overwritten at epoch 149, new best val loss 0.6182122340908757\n",
      "Epoch: 151/550, train loss:  0.548, val_loss:  0.693, duration: 0:00:55.615354, learning rate: (0.001, 0.001)\n",
      "Model overwritten at epoch 153, new best val loss 0.5720416582871156\n",
      "Epoch: 161/550, train loss:  0.504, val_loss:  0.620, duration: 0:00:55.610565, learning rate: (0.001, 0.001)\n",
      "Model overwritten at epoch 162, new best val loss 0.5478945416012349\n",
      "Model overwritten at epoch 165, new best val loss 0.5204243205316903\n",
      "Model overwritten at epoch 166, new best val loss 0.5149210586329196\n",
      "Epoch: 171/550, train loss:  0.477, val_loss:  0.531, duration: 0:00:55.265176, learning rate: (0.001, 0.001)\n",
      "Model overwritten at epoch 173, new best val loss 0.5114040324296901\n",
      "Model overwritten at epoch 180, new best val loss 0.4600451018339322\n",
      "Epoch: 181/550, train loss:  0.433, val_loss:  0.460, duration: 0:00:54.529039, learning rate: (0.001, 0.001)\n",
      "Model overwritten at epoch 188, new best val loss 0.4483037272983968\n",
      "Epoch: 191/550, train loss:  0.437, val_loss:  0.497, duration: 0:00:54.456811, learning rate: (0.001, 0.001)\n",
      "Model overwritten at epoch 200, new best val loss 0.2865309417773386\n",
      "Epoch: 201/550, train loss:  0.232, val_loss:  0.287, duration: 0:00:54.337752, learning rate: (0.0001, 0.0001)\n",
      "Model overwritten at epoch 201, new best val loss 0.26438256948397904\n",
      "Model overwritten at epoch 202, new best val loss 0.2533635783947124\n",
      "Model overwritten at epoch 203, new best val loss 0.24302146515465708\n",
      "Model overwritten at epoch 204, new best val loss 0.23749961976021056\n",
      "Model overwritten at epoch 205, new best val loss 0.23147438440268212\n",
      "Model overwritten at epoch 206, new best val loss 0.22933883774480282\n",
      "Model overwritten at epoch 207, new best val loss 0.22252527824102045\n",
      "Model overwritten at epoch 208, new best val loss 0.22193365781921137\n",
      "Model overwritten at epoch 209, new best val loss 0.21800897156776994\n",
      "Epoch: 211/550, train loss:  0.104, val_loss:  0.219, duration: 0:00:55.157022, learning rate: (0.0001, 0.0001)\n",
      "Model overwritten at epoch 211, new best val loss 0.21496336602292154\n",
      "Model overwritten at epoch 212, new best val loss 0.2145258959586448\n",
      "Model overwritten at epoch 213, new best val loss 0.2135570915629414\n",
      "Model overwritten at epoch 214, new best val loss 0.21120290280807585\n",
      "Model overwritten at epoch 216, new best val loss 0.20915221560884406\n",
      "Model overwritten at epoch 217, new best val loss 0.20627993462209768\n",
      "Model overwritten at epoch 220, new best val loss 0.20306723053703443\n",
      "Epoch: 221/550, train loss:  0.079, val_loss:  0.203, duration: 0:00:55.290931, learning rate: (0.0001, 0.0001)\n",
      "Model overwritten at epoch 223, new best val loss 0.20084548632514118\n",
      "Model overwritten at epoch 225, new best val loss 0.19908050391198887\n",
      "Model overwritten at epoch 227, new best val loss 0.1977703726901369\n",
      "Epoch: 231/550, train loss:  0.066, val_loss:  0.198, duration: 0:00:55.188269, learning rate: (0.0001, 0.0001)\n",
      "Model overwritten at epoch 233, new best val loss 0.19635955476887013\n",
      "Model overwritten at epoch 234, new best val loss 0.19538959424541952\n",
      "Model overwritten at epoch 235, new best val loss 0.1943251880007341\n",
      "Model overwritten at epoch 238, new best val loss 0.1939054902518132\n",
      "Model overwritten at epoch 239, new best val loss 0.19381734417386787\n",
      "Epoch: 241/550, train loss:  0.058, val_loss:  0.196, duration: 0:00:55.188024, learning rate: (0.0001, 0.0001)\n",
      "Model overwritten at epoch 243, new best val loss 0.19287589957159032\n",
      "Model overwritten at epoch 245, new best val loss 0.1924461809494508\n",
      "Model overwritten at epoch 248, new best val loss 0.18950257973985277\n",
      "Epoch: 251/550, train loss:  0.053, val_loss:  0.193, duration: 0:00:55.094420, learning rate: (0.0001, 0.0001)\n",
      "Model overwritten at epoch 254, new best val loss 0.18836402948338019\n",
      "Epoch: 261/550, train loss:  0.050, val_loss:  0.190, duration: 0:00:54.952132, learning rate: (0.0001, 0.0001)\n",
      "Model overwritten at epoch 266, new best val loss 0.17915162765396336\n",
      "Model overwritten at epoch 267, new best val loss 0.17792099674858114\n",
      "Model overwritten at epoch 268, new best val loss 0.17716169384894548\n",
      "Epoch: 271/550, train loss:  0.028, val_loss:  0.179, duration: 0:00:55.094612, learning rate: (1e-05, 1e-05)\n",
      "Epoch: 281/550, train loss:  0.025, val_loss:  0.178, duration: 0:00:55.069098, learning rate: (1.0000000000000002e-06, 1.0000000000000002e-06)\n",
      "Max patience reached, training is terminated at epoch 289\n"
     ]
    }
   ],
   "source": [
    "load_model_weight = None\n",
    "epochs = 550\n",
    "new_model_name = 'LSTM-456'\n",
    "if load_model_weight is None:\n",
    "    train_losses, test_losses=train_from_scratch_or_load(load_model_weight,new_model_name,  epochs)\n",
    "else:\n",
    "    trained_model_v00 = train_from_scratch_or_load(load_model_weight, new_model_name, epochs)\n",
    "    #Train accuracy\n",
    "    yt, tgt, acct = get_pred_n_acc([trained_model_v00], device, train_loader, num_iter = len(train_loader))\n",
    "    #validation accuracy\n",
    "    yv, tgv, accv = get_pred_n_acc([trained_model_v00], device, val_loader, num_iter = len(val_loader))\n",
    "    print(f'Train data, target shapes: {yt.shape, tgt.shape},\\n train accuracies {acct}')\n",
    "    print(f'Validation data, target shapes: {yv.shape, tgv.shape},\\n validation accuracies {accv}')\n",
    "    #Test accuracy\n",
    "    yts, tgts, accts = get_pred_n_acc([trained_model_v00], device, test_loader, num_iter = len(test_loader))\n",
    "    print(f'Test data, target shapes: {yts.shape, tgts.shape},\\n test accuracies {accts}')"
   ]
  },
  {
   "cell_type": "code",
   "execution_count": 19,
   "id": "52e24e80",
   "metadata": {
    "execution": {
     "iopub.execute_input": "2024-04-30T15:10:37.868339Z",
     "iopub.status.busy": "2024-04-30T15:10:37.867582Z",
     "iopub.status.idle": "2024-04-30T15:10:38.130035Z",
     "shell.execute_reply": "2024-04-30T15:10:38.129175Z"
    },
    "papermill": {
     "duration": 0.282473,
     "end_time": "2024-04-30T15:10:38.132066",
     "exception": false,
     "start_time": "2024-04-30T15:10:37.849593",
     "status": "completed"
    },
    "tags": []
   },
   "outputs": [
    {
     "data": {
      "image/png": "[encoded data removed]",
      "text/plain": [
       "<Figure size 640x480 with 1 Axes>"
      ]
     },
     "metadata": {},
     "output_type": "display_data"
    }
   ],
   "source": [
    "plot_losses(train_losses, test_losses)"
   ]
  },
  {
   "cell_type": "markdown",
   "id": "18277579",
   "metadata": {
    "papermill": {
     "duration": 0.017552,
     "end_time": "2024-04-30T15:10:38.167927",
     "exception": false,
     "start_time": "2024-04-30T15:10:38.150375",
     "status": "completed"
    },
    "tags": []
   },
   "source": [
    "# Accuracies"
   ]
  },
  {
   "cell_type": "code",
   "execution_count": 20,
   "id": "2939324b",
   "metadata": {
    "execution": {
     "iopub.execute_input": "2024-04-30T15:10:38.204904Z",
     "iopub.status.busy": "2024-04-30T15:10:38.204301Z",
     "iopub.status.idle": "2024-04-30T15:11:04.497739Z",
     "shell.execute_reply": "2024-04-30T15:11:04.496743Z"
    },
    "papermill": {
     "duration": 26.314468,
     "end_time": "2024-04-30T15:11:04.500047",
     "exception": false,
     "start_time": "2024-04-30T15:10:38.185579",
     "status": "completed"
    },
    "tags": []
   },
   "outputs": [
    {
     "name": "stdout",
     "output_type": "stream",
     "text": [
      "Train data, target shapes: ((652092, 4), (652092, 4)),\n",
      " train accuracies [99.86474301172227, 98.18185164056605, 99.10442084859191, 89.42572520441901]\n",
      "Validation data, target shapes: ((72455, 4), (72455, 4)),\n",
      " validation accuracies [99.34442067490167, 94.16189358912428, 88.053274446208, 64.99758470774964]\n"
     ]
    }
   ],
   "source": [
    "#Train accuracy\n",
    "yt, tgt, acct = get_pred_n_acc([model], device, train_loader, num_iter = len(train_loader))\n",
    "#validation accuracy\n",
    "yv, tgv, accv = get_pred_n_acc([model], device, val_loader, num_iter = len(val_loader))\n",
    "print(f'Train data, target shapes: {yt.shape, tgt.shape},\\n train accuracies {acct}')\n",
    "print(f'Validation data, target shapes: {yv.shape, tgv.shape},\\n validation accuracies {accv}')\n"
   ]
  },
  {
   "cell_type": "code",
   "execution_count": 21,
   "id": "084435e5",
   "metadata": {
    "execution": {
     "iopub.execute_input": "2024-04-30T15:11:04.537527Z",
     "iopub.status.busy": "2024-04-30T15:11:04.536988Z",
     "iopub.status.idle": "2024-04-30T15:11:10.934453Z",
     "shell.execute_reply": "2024-04-30T15:11:10.933333Z"
    },
    "papermill": {
     "duration": 6.418302,
     "end_time": "2024-04-30T15:11:10.936664",
     "exception": false,
     "start_time": "2024-04-30T15:11:04.518362",
     "status": "completed"
    },
    "tags": []
   },
   "outputs": [
    {
     "name": "stdout",
     "output_type": "stream",
     "text": [
      "Test data, target shapes: ((181137, 4), (181137, 4)),\n",
      " test accuracies [99.35187178765244, 94.06416138061246, 87.79818590348741, 64.89783975664828]\n"
     ]
    }
   ],
   "source": [
    "#Test accuracy\n",
    "yts, tgts, accts = get_pred_n_acc([model], device, test_loader, num_iter = len(test_loader))\n",
    "print(f'Test data, target shapes: {yts.shape, tgts.shape},\\n test accuracies {accts}')\n"
   ]
  }
 ],
 "metadata": {
  "kaggle": {
   "accelerator": "gpu",
   "dataSources": [
    {
     "sourceId": 171630138,
     "sourceType": "kernelVersion"
    }
   ],
   "dockerImageVersionId": 30665,
   "isGpuEnabled": true,
   "isInternetEnabled": true,
   "language": "python",
   "sourceType": "notebook"
  },
  "kernelspec": {
   "display_name": "Python 3",
   "language": "python",
   "name": "python3"
  },
  "language_info": {
   "codemirror_mode": {
    "name": "ipython",
    "version": 3
   },
   "file_extension": ".py",
   "mimetype": "text/x-python",
   "name": "python",
   "nbconvert_exporter": "python",
   "pygments_lexer": "ipython3",
   "version": "3.10.13"
  },
  "papermill": {
   "default_parameters": {},
   "duration": 16018.980912,
   "end_time": "2024-04-30T15:11:13.301544",
   "environment_variables": {},
   "exception": null,
   "input_path": "__notebook__.ipynb",
   "output_path": "__notebook__.ipynb",
   "parameters": {},
   "start_time": "2024-04-30T10:44:14.320632",
   "version": "2.5.0"
  }
 },
 "nbformat": 4,
 "nbformat_minor": 5
}
