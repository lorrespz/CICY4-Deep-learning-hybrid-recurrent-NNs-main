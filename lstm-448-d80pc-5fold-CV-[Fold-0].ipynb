{
 "cells": [
  {
   "cell_type": "markdown",
   "id": "78032bd7",
   "metadata": {
    "papermill": {
     "duration": 0.007571,
     "end_time": "2024-05-31T12:29:16.782247",
     "exception": false,
     "start_time": "2024-05-31T12:29:16.774676",
     "status": "completed"
    },
    "tags": []
   },
   "source": [
    "# CICY4: LSTM-448 [5-fold-CV] - Fold-0"
   ]
  },
  {
   "cell_type": "code",
   "execution_count": 1,
   "id": "bc0bb8a6",
   "metadata": {
    "_cell_guid": "b1076dfc-b9ad-4769-8c92-a6c4dae69d19",
    "_uuid": "8f2839f25d086af736a60e9eeb907d3b93b6e0e5",
    "execution": {
     "iopub.execute_input": "2024-05-31T12:29:16.797977Z",
     "iopub.status.busy": "2024-05-31T12:29:16.797246Z",
     "iopub.status.idle": "2024-05-31T12:29:22.011759Z",
     "shell.execute_reply": "2024-05-31T12:29:22.010992Z"
    },
    "papermill": {
     "duration": 5.224739,
     "end_time": "2024-05-31T12:29:22.014038",
     "exception": false,
     "start_time": "2024-05-31T12:29:16.789299",
     "status": "completed"
    },
    "tags": []
   },
   "outputs": [],
   "source": [
    "import numpy as np\n",
    "import random\n",
    "import pandas as pd\n",
    "import os as os\n",
    "import matplotlib.pyplot as plt\n",
    "import seaborn as sns\n",
    "from datetime import datetime\n",
    "\n",
    "import torch\n",
    "import torch.nn as nn\n",
    "import torch.nn.functional as F\n",
    "import torch.optim.lr_scheduler as lr_scheduler"
   ]
  },
  {
   "cell_type": "code",
   "execution_count": 2,
   "id": "e0b939da",
   "metadata": {
    "execution": {
     "iopub.execute_input": "2024-05-31T12:29:22.030311Z",
     "iopub.status.busy": "2024-05-31T12:29:22.029902Z",
     "iopub.status.idle": "2024-05-31T12:29:22.085465Z",
     "shell.execute_reply": "2024-05-31T12:29:22.084570Z"
    },
    "papermill": {
     "duration": 0.065866,
     "end_time": "2024-05-31T12:29:22.087511",
     "exception": false,
     "start_time": "2024-05-31T12:29:22.021645",
     "status": "completed"
    },
    "tags": []
   },
   "outputs": [
    {
     "name": "stdout",
     "output_type": "stream",
     "text": [
      "cuda:0\n"
     ]
    }
   ],
   "source": [
    "device = torch.device(\"cuda:0\" if torch.cuda.is_available() else \"cpu\")\n",
    "print(device)"
   ]
  },
  {
   "cell_type": "code",
   "execution_count": 3,
   "id": "29f407fc",
   "metadata": {
    "execution": {
     "iopub.execute_input": "2024-05-31T12:29:22.103781Z",
     "iopub.status.busy": "2024-05-31T12:29:22.103041Z",
     "iopub.status.idle": "2024-05-31T12:29:22.111324Z",
     "shell.execute_reply": "2024-05-31T12:29:22.110481Z"
    },
    "papermill": {
     "duration": 0.018271,
     "end_time": "2024-05-31T12:29:22.113199",
     "exception": false,
     "start_time": "2024-05-31T12:29:22.094928",
     "status": "completed"
    },
    "tags": []
   },
   "outputs": [],
   "source": [
    "seed = 42\n",
    "\n",
    "def seed_everything(seed):\n",
    "    random.seed(seed)\n",
    "    os.environ['PYTHONHASHSEED'] = str(seed)\n",
    "    np.random.seed(seed)\n",
    "    torch.manual_seed(seed)\n",
    "    torch.cuda.manual_seed(seed)\n",
    "    torch.cuda.manual_seed_all(seed)\n",
    "    torch.backends.cudnn.deterministic = True\n",
    "\n",
    "seed_everything(seed)"
   ]
  },
  {
   "cell_type": "markdown",
   "id": "79c6fead",
   "metadata": {
    "papermill": {
     "duration": 0.00682,
     "end_time": "2024-05-31T12:29:22.127220",
     "exception": false,
     "start_time": "2024-05-31T12:29:22.120400",
     "status": "completed"
    },
    "tags": []
   },
   "source": [
    " # LSTM-based network architecture"
   ]
  },
  {
   "cell_type": "code",
   "execution_count": 4,
   "id": "60fb884e",
   "metadata": {
    "execution": {
     "iopub.execute_input": "2024-05-31T12:29:22.142661Z",
     "iopub.status.busy": "2024-05-31T12:29:22.142399Z",
     "iopub.status.idle": "2024-05-31T12:29:22.150983Z",
     "shell.execute_reply": "2024-05-31T12:29:22.150225Z"
    },
    "papermill": {
     "duration": 0.018503,
     "end_time": "2024-05-31T12:29:22.152869",
     "exception": false,
     "start_time": "2024-05-31T12:29:22.134366",
     "status": "completed"
    },
    "tags": []
   },
   "outputs": [],
   "source": [
    "class LSTM_block(nn.Module):\n",
    "    def __init__(self, n_inputs, n_hidden, n_rnnlayers, n_outputs):\n",
    "        super(LSTM_block,self).__init__()\n",
    "        self.D = n_inputs\n",
    "        self.M = n_hidden\n",
    "        self.K = n_outputs\n",
    "        self.L = n_rnnlayers\n",
    "        self.lstm = nn.LSTM(input_size = self.D,\n",
    "                           hidden_size = self.M,\n",
    "                           num_layers = self.L,\n",
    "                           batch_first = True)\n",
    "\n",
    "        self.feat_vec_size = self.M\n",
    "        self.fc1 = nn.Linear(self.feat_vec_size, 1024)\n",
    "        self.fc2 = nn.Linear(1024, 4)\n",
    "    def forward(self, X):\n",
    "        #input X is NxTxD\n",
    "        #initial hidden states\n",
    "        h0 = torch.zeros(self.L, X.size(0), self.M).to(device)\n",
    "        c0 = torch.zeros(self.L, X.size(0), self.M).to(device)\n",
    "        #get LSTM unit output:\n",
    "        #output is NxTxM\n",
    "        out, _ = self.lstm(X, (h0,c0))\n",
    "        #we only want the output y at the final time step\n",
    "        # output is now of shape (N, M)\n",
    "        xx = out[:, -1, :]\n",
    "        xx = self.fc1(xx)\n",
    "        #final output is 4\n",
    "        xx = self.fc2(xx)\n",
    "        return xx"
   ]
  },
  {
   "cell_type": "code",
   "execution_count": 5,
   "id": "5f367fe8",
   "metadata": {
    "execution": {
     "iopub.execute_input": "2024-05-31T12:29:22.168236Z",
     "iopub.status.busy": "2024-05-31T12:29:22.167971Z",
     "iopub.status.idle": "2024-05-31T12:29:22.515321Z",
     "shell.execute_reply": "2024-05-31T12:29:22.513121Z"
    },
    "papermill": {
     "duration": 0.358155,
     "end_time": "2024-05-31T12:29:22.518174",
     "exception": false,
     "start_time": "2024-05-31T12:29:22.160019",
     "status": "completed"
    },
    "tags": []
   },
   "outputs": [
    {
     "data": {
      "text/plain": [
       "LSTM_block(\n",
       "  (lstm): LSTM(20, 448, num_layers=2, batch_first=True)\n",
       "  (fc1): Linear(in_features=448, out_features=1024, bias=True)\n",
       "  (fc2): Linear(in_features=1024, out_features=4, bias=True)\n",
       ")"
      ]
     },
     "execution_count": 5,
     "metadata": {},
     "output_type": "execute_result"
    }
   ],
   "source": [
    "model = LSTM_block(20, 448, 2, 4)\n",
    "model.to(device)"
   ]
  },
  {
   "cell_type": "code",
   "execution_count": 6,
   "id": "995fb869",
   "metadata": {
    "execution": {
     "iopub.execute_input": "2024-05-31T12:29:22.539615Z",
     "iopub.status.busy": "2024-05-31T12:29:22.539306Z",
     "iopub.status.idle": "2024-05-31T12:29:22.544300Z",
     "shell.execute_reply": "2024-05-31T12:29:22.543487Z"
    },
    "papermill": {
     "duration": 0.017558,
     "end_time": "2024-05-31T12:29:22.546155",
     "exception": false,
     "start_time": "2024-05-31T12:29:22.528597",
     "status": "completed"
    },
    "tags": []
   },
   "outputs": [
    {
     "name": "stdout",
     "output_type": "stream",
     "text": [
      "Total numbers of parameters: 2915332\n"
     ]
    }
   ],
   "source": [
    "#count the number of parameters in the model\n",
    "params = [p.numel() for p in model.parameters() if p.requires_grad]\n",
    "print(f'Total numbers of parameters: {sum(params)}')"
   ]
  },
  {
   "cell_type": "markdown",
   "id": "f11a0594",
   "metadata": {
    "papermill": {
     "duration": 0.007126,
     "end_time": "2024-05-31T12:29:22.560657",
     "exception": false,
     "start_time": "2024-05-31T12:29:22.553531",
     "status": "completed"
    },
    "tags": []
   },
   "source": [
    "# Load data (fold-0) & define dataset class"
   ]
  },
  {
   "cell_type": "code",
   "execution_count": 7,
   "id": "05ff2689",
   "metadata": {
    "execution": {
     "iopub.execute_input": "2024-05-31T12:29:22.576681Z",
     "iopub.status.busy": "2024-05-31T12:29:22.576429Z",
     "iopub.status.idle": "2024-05-31T12:29:35.309186Z",
     "shell.execute_reply": "2024-05-31T12:29:35.308175Z"
    },
    "papermill": {
     "duration": 12.742986,
     "end_time": "2024-05-31T12:29:35.311178",
     "exception": false,
     "start_time": "2024-05-31T12:29:22.568192",
     "status": "completed"
    },
    "tags": []
   },
   "outputs": [
    {
     "name": "stdout",
     "output_type": "stream",
     "text": [
      "(579637, 16, 20) (144910, 16, 20) (181137, 16, 20)\n",
      "(579637, 4) (144910, 4) (181137, 4)\n",
      "0.639999160855221 0.16000061831720555 0.2000002208275734\n"
     ]
    }
   ],
   "source": [
    "# load data\n",
    "path = '/kaggle/input/cicy4-data-for-5-fold-cv/'\n",
    "X_train = np.load(path + 'foldx_0_Xtrain.npy')\n",
    "X_valid = np.load(path +'foldx_0_Xval.npy')\n",
    "y_train = np.load(path+'foldx_0_ytrain.npy')\n",
    "y_valid = np.load(path+'foldx_0_yval.npy')\n",
    "\n",
    "#Test set is the original test set from the 72% dataset\n",
    "path2 = '/kaggle/input/calabi-yau-cicy-4-folds/'\n",
    "X_test = np.load(path2+'conf_Xtest.npy')\n",
    "y_test= np.load(path2+'hodge_ytest.npy')\n",
    "\n",
    "print(X_train.shape, X_valid.shape, X_test.shape)\n",
    "print(y_train.shape, y_valid.shape, y_test.shape)\n",
    "print(y_train.shape[0]/905684, y_valid.shape[0]/905684, y_test.shape[0]/905684)"
   ]
  },
  {
   "cell_type": "code",
   "execution_count": 8,
   "id": "b4659e1b",
   "metadata": {
    "execution": {
     "iopub.execute_input": "2024-05-31T12:29:35.327658Z",
     "iopub.status.busy": "2024-05-31T12:29:35.327368Z",
     "iopub.status.idle": "2024-05-31T12:29:35.801958Z",
     "shell.execute_reply": "2024-05-31T12:29:35.800927Z"
    },
    "papermill": {
     "duration": 0.486053,
     "end_time": "2024-05-31T12:29:35.804935",
     "exception": false,
     "start_time": "2024-05-31T12:29:35.318882",
     "status": "completed"
    },
    "tags": []
   },
   "outputs": [],
   "source": [
    "#Convert data to torch tensor with float32 precision\n",
    "#(needed to be compatible with the floating decision of the network parameters)\n",
    "X_train = torch.from_numpy(X_train.astype(np.float32))\n",
    "y_train = torch.from_numpy(y_train.astype(np.float32))\n",
    "\n",
    "X_valid = torch.from_numpy(X_valid.astype(np.float32))\n",
    "y_valid = torch.from_numpy(y_valid.astype(np.float32))\n",
    "\n",
    "X_test = torch.from_numpy(X_test.astype(np.float32))\n",
    "y_test= torch.from_numpy(y_test.astype(np.float32))"
   ]
  },
  {
   "cell_type": "code",
   "execution_count": 9,
   "id": "cfecc7a0",
   "metadata": {
    "execution": {
     "iopub.execute_input": "2024-05-31T12:29:35.827536Z",
     "iopub.status.busy": "2024-05-31T12:29:35.827218Z",
     "iopub.status.idle": "2024-05-31T12:29:35.834681Z",
     "shell.execute_reply": "2024-05-31T12:29:35.833820Z"
    },
    "papermill": {
     "duration": 0.020693,
     "end_time": "2024-05-31T12:29:35.836560",
     "exception": false,
     "start_time": "2024-05-31T12:29:35.815867",
     "status": "completed"
    },
    "tags": []
   },
   "outputs": [],
   "source": [
    "class CICY4Dataset(torch.utils.data.Dataset):\n",
    "    def __init__(self, X, y):\n",
    "        self.X = X\n",
    "        self.y = y\n",
    "    def __len__(self):\n",
    "        return len(self.X)\n",
    "    def __getitem__(self, idx):\n",
    "        X0 = self.X[idx]\n",
    "        y0 = self.y[idx]\n",
    "        return X0, y0\n",
    "\n",
    "train_set = CICY4Dataset(X_train, y_train)\n",
    "val_set = CICY4Dataset(X_valid, y_valid)\n",
    "test_set = CICY4Dataset(X_test, y_test)"
   ]
  },
  {
   "cell_type": "code",
   "execution_count": 10,
   "id": "7d754fc7",
   "metadata": {
    "execution": {
     "iopub.execute_input": "2024-05-31T12:29:35.853489Z",
     "iopub.status.busy": "2024-05-31T12:29:35.852844Z",
     "iopub.status.idle": "2024-05-31T12:29:35.858801Z",
     "shell.execute_reply": "2024-05-31T12:29:35.857967Z"
    },
    "papermill": {
     "duration": 0.016583,
     "end_time": "2024-05-31T12:29:35.860839",
     "exception": false,
     "start_time": "2024-05-31T12:29:35.844256",
     "status": "completed"
    },
    "tags": []
   },
   "outputs": [],
   "source": [
    "from torch.utils.data import DataLoader\n",
    "\n",
    "train_loader = DataLoader(train_set, batch_size=128, shuffle=True)\n",
    "val_loader = DataLoader(val_set, batch_size=128, shuffle=True)\n",
    "test_loader = DataLoader(test_set, batch_size=128, shuffle=False)"
   ]
  },
  {
   "cell_type": "markdown",
   "id": "8fe6ad2a",
   "metadata": {
    "papermill": {
     "duration": 0.007131,
     "end_time": "2024-05-31T12:29:35.875307",
     "exception": false,
     "start_time": "2024-05-31T12:29:35.868176",
     "status": "completed"
    },
    "tags": []
   },
   "source": [
    "# Utility functions"
   ]
  },
  {
   "cell_type": "code",
   "execution_count": 11,
   "id": "03b91e90",
   "metadata": {
    "execution": {
     "iopub.execute_input": "2024-05-31T12:29:35.891574Z",
     "iopub.status.busy": "2024-05-31T12:29:35.890953Z",
     "iopub.status.idle": "2024-05-31T12:29:35.898203Z",
     "shell.execute_reply": "2024-05-31T12:29:35.897413Z"
    },
    "papermill": {
     "duration": 0.017444,
     "end_time": "2024-05-31T12:29:35.900098",
     "exception": false,
     "start_time": "2024-05-31T12:29:35.882654",
     "status": "completed"
    },
    "tags": []
   },
   "outputs": [],
   "source": [
    "def train_one_epoch(model, criterion, optimizer, train_loader):\n",
    "    model.train()\n",
    "    train_loss = []\n",
    "    for inputs, target in train_loader:\n",
    "        inputs, target = inputs.to(device), target.to(device)\n",
    "        optimizer.zero_grad()\n",
    "        out = model(inputs)\n",
    "        loss = criterion(out, target)\n",
    "        loss.backward()\n",
    "        optimizer.step()\n",
    "        train_loss.append(loss.item())\n",
    "    #average the train_loss list in for all batches in the train_gen\n",
    "    train_loss = np.mean(train_loss)\n",
    "    return train_loss"
   ]
  },
  {
   "cell_type": "code",
   "execution_count": 12,
   "id": "dd37226b",
   "metadata": {
    "execution": {
     "iopub.execute_input": "2024-05-31T12:29:35.916124Z",
     "iopub.status.busy": "2024-05-31T12:29:35.915774Z",
     "iopub.status.idle": "2024-05-31T12:29:35.922302Z",
     "shell.execute_reply": "2024-05-31T12:29:35.921486Z"
    },
    "papermill": {
     "duration": 0.016719,
     "end_time": "2024-05-31T12:29:35.924137",
     "exception": false,
     "start_time": "2024-05-31T12:29:35.907418",
     "status": "completed"
    },
    "tags": []
   },
   "outputs": [],
   "source": [
    "def validate_one_epoch(model, criterion, optimizer, val_loader):\n",
    "    model.eval()\n",
    "    test_loss = []\n",
    "    for inputs, target in val_loader:\n",
    "        inputs, target = inputs.to(device), target.to(device)\n",
    "        out = model(inputs)\n",
    "        loss = criterion(out, target)\n",
    "        test_loss.append(loss.item())\n",
    "    #average the test_loss list in for all batches in the test_gen\n",
    "    test_loss = np.mean(test_loss)\n",
    "    return test_loss"
   ]
  },
  {
   "cell_type": "code",
   "execution_count": 13,
   "id": "89abde34",
   "metadata": {
    "execution": {
     "iopub.execute_input": "2024-05-31T12:29:35.940427Z",
     "iopub.status.busy": "2024-05-31T12:29:35.940067Z",
     "iopub.status.idle": "2024-05-31T12:29:35.952221Z",
     "shell.execute_reply": "2024-05-31T12:29:35.951403Z"
    },
    "papermill": {
     "duration": 0.022567,
     "end_time": "2024-05-31T12:29:35.954118",
     "exception": false,
     "start_time": "2024-05-31T12:29:35.931551",
     "status": "completed"
    },
    "tags": []
   },
   "outputs": [],
   "source": [
    "def batch_gd_scheduler(model, new_model_name, criterion, optimizer, train_loader, val_loader, scheduler,\n",
    "                         epochs, device, batch_size=128):\n",
    "    train_losses = np.zeros(epochs)\n",
    "    test_losses = np.zeros(epochs)\n",
    "    patience = 0\n",
    "    best_loss = 1000\n",
    "    max_patience = 20\n",
    "    for i in range(epochs):\n",
    "        t0 = datetime.now()\n",
    "        train_loss = train_one_epoch(model, criterion, optimizer,train_loader)\n",
    "        test_loss = validate_one_epoch(model, criterion, optimizer,val_loader)\n",
    "        #Early stopping based on test loss\n",
    "        if i == 0:\n",
    "            best_loss = test_loss\n",
    "            torch.save(model, f'/kaggle/working/{new_model_name}.pt')\n",
    "            #torch.save(model, path+f'{new_model_name}.pt')\n",
    "            print(f'Model saved as {new_model_name} at epoch {i}')\n",
    "        else:\n",
    "            if test_loss < best_loss:\n",
    "                best_loss = test_loss\n",
    "                torch.save(model, f'/kaggle/working/{new_model_name}.pt')\n",
    "                #torch.save(model, path+f'{new_model_name}.pt')\n",
    "                print(f'Model overwritten at epoch {i}, new best val loss {best_loss}')\n",
    "                patience = 0\n",
    "            else:\n",
    "                patience = patience +1\n",
    "                #print(f'No improvement, current patience level is {patience} at epoch {i}')\n",
    "        if patience > max_patience:\n",
    "            print(f'Max patience reached, training is terminated at epoch {i}')\n",
    "            break\n",
    "        #Apply scheduler after the train+validate parts\n",
    "        before_lr = optimizer.param_groups[0][\"lr\"]\n",
    "        scheduler.step(test_loss)\n",
    "        after_lr = optimizer.param_groups[0][\"lr\"]\n",
    "        train_losses[i] = train_loss\n",
    "        test_losses[i] = test_loss\n",
    "        #write the losses into a csv file\n",
    "        loss_dict = {'train_loss': train_losses, 'val_loss': test_losses}\n",
    "        dd = pd.DataFrame(loss_dict)\n",
    "        dd.to_csv('loss_dict_lstm_448_d80pc.csv', index = False)\n",
    "        dt = datetime.now()-t0\n",
    "        if i%10==0:\n",
    "            print(f'Epoch: {i+1}/{epochs}, train loss: {train_loss: .3f}, val_loss: {test_loss: .3f}, duration: {dt}, learning rate: {before_lr, after_lr}')\n",
    "    return train_losses, test_losses\n"
   ]
  },
  {
   "cell_type": "code",
   "execution_count": 14,
   "id": "e0d186f3",
   "metadata": {
    "execution": {
     "iopub.execute_input": "2024-05-31T12:29:35.969923Z",
     "iopub.status.busy": "2024-05-31T12:29:35.969672Z",
     "iopub.status.idle": "2024-05-31T12:29:35.983924Z",
     "shell.execute_reply": "2024-05-31T12:29:35.982905Z"
    },
    "papermill": {
     "duration": 0.024605,
     "end_time": "2024-05-31T12:29:35.986175",
     "exception": false,
     "start_time": "2024-05-31T12:29:35.961570",
     "status": "completed"
    },
    "tags": []
   },
   "outputs": [],
   "source": [
    "def train_from_scratch_or_load(load_model_weight,new_model_name, epochs):\n",
    "    if load_model_weight==None:\n",
    "        #criterion = nn.MSELoss()\n",
    "        criterion = nn.HuberLoss()\n",
    "        optimizer = torch.optim.AdamW(model.parameters(), lr=0.01)\n",
    "        scheduler = lr_scheduler.ReduceLROnPlateau(optimizer, 'min', factor=0.1, min_lr = 1e-8)\n",
    "        train_losses, test_losses=batch_gd_scheduler(model, new_model_name, criterion,\n",
    "                                                     optimizer,train_loader, val_loader,\n",
    "                                                      scheduler, epochs,\n",
    "                                                       device = device)\n",
    "        return train_losses, test_losses\n",
    "    else:\n",
    "        if torch.cuda.is_available():\n",
    "            trained_model = torch.load(load_model_weight)\n",
    "        else:\n",
    "            trained_model = torch.load(load_model_weight, map_location=torch.device('cpu'))\n",
    "        return trained_model"
   ]
  },
  {
   "cell_type": "code",
   "execution_count": 15,
   "id": "b6261e57",
   "metadata": {
    "execution": {
     "iopub.execute_input": "2024-05-31T12:29:36.006752Z",
     "iopub.status.busy": "2024-05-31T12:29:36.006007Z",
     "iopub.status.idle": "2024-05-31T12:29:36.013320Z",
     "shell.execute_reply": "2024-05-31T12:29:36.012488Z"
    },
    "papermill": {
     "duration": 0.018845,
     "end_time": "2024-05-31T12:29:36.015226",
     "exception": false,
     "start_time": "2024-05-31T12:29:35.996381",
     "status": "completed"
    },
    "tags": []
   },
   "outputs": [],
   "source": [
    "def load_and_retrain(load_model_weight, new_model_name, epochs):\n",
    "    trained_model = torch.load(load_model_weight)\n",
    "    print('Trained model loaded')\n",
    "    criterion = nn.HuberLoss()\n",
    "    optimizer = torch.optim.AdamW(trained_model.parameters(),lr=0.01)\n",
    "    scheduler = lr_scheduler.ReduceLROnPlateau(optimizer, 'min', factor=0.1, min_lr = 1e-7)\n",
    "    trained_model.train()\n",
    "    print('Begin retraining')\n",
    "    train_losses, test_losses=batch_gd_scheduler(trained_model,new_model_name, criterion, optimizer,\n",
    "                                                 train_loader, val_loader,\n",
    "                                                 scheduler, epochs,\n",
    "                                                 device = device)\n",
    "    return trained_model, train_losses, test_losses"
   ]
  },
  {
   "cell_type": "code",
   "execution_count": 16,
   "id": "ebfb0527",
   "metadata": {
    "execution": {
     "iopub.execute_input": "2024-05-31T12:29:36.032714Z",
     "iopub.status.busy": "2024-05-31T12:29:36.032221Z",
     "iopub.status.idle": "2024-05-31T12:29:36.037812Z",
     "shell.execute_reply": "2024-05-31T12:29:36.036812Z"
    },
    "papermill": {
     "duration": 0.017607,
     "end_time": "2024-05-31T12:29:36.040144",
     "exception": false,
     "start_time": "2024-05-31T12:29:36.022537",
     "status": "completed"
    },
    "tags": []
   },
   "outputs": [],
   "source": [
    "def plot_losses(train_losses, test_losses):\n",
    "    # Plot the train loss and test loss per iteration\n",
    "    plt.plot(train_losses, label='train loss')\n",
    "    plt.plot(test_losses, label='val loss')\n",
    "    plt.legend()\n",
    "    plt.show()"
   ]
  },
  {
   "cell_type": "code",
   "execution_count": 17,
   "id": "20c61e6a",
   "metadata": {
    "execution": {
     "iopub.execute_input": "2024-05-31T12:29:36.058509Z",
     "iopub.status.busy": "2024-05-31T12:29:36.058200Z",
     "iopub.status.idle": "2024-05-31T12:29:36.069272Z",
     "shell.execute_reply": "2024-05-31T12:29:36.068435Z"
    },
    "papermill": {
     "duration": 0.022309,
     "end_time": "2024-05-31T12:29:36.071640",
     "exception": false,
     "start_time": "2024-05-31T12:29:36.049331",
     "status": "completed"
    },
    "tags": []
   },
   "outputs": [],
   "source": [
    "################## GET PREDICTIONS + ACCURACY #####################\n",
    "def get_pred_n_acc(models, device, dataloader, num_iter):\n",
    "    i = 0\n",
    "    ypreds =[]\n",
    "    targets = []\n",
    "    #The last batch might not have size 128\n",
    "    while i< num_iter:\n",
    "        for data, target in dataloader:\n",
    "            #this empty list is to hold all models' preds\n",
    "            ypred = []\n",
    "            data= data.to(device)\n",
    "            data = data.to(torch.float32)\n",
    "            target = target.to(torch.float32)\n",
    "            #append the 'i^th' target\n",
    "            targets.append(target)\n",
    "            for model in models:\n",
    "                model.eval()\n",
    "                yp = model(data)\n",
    "                yp = yp.detach().cpu().numpy()\n",
    "                ypred.append(yp)\n",
    "            #take the mean of all models' predictions\n",
    "            ypred = np.array(ypred).mean(axis = 0)\n",
    "            ypred = np.round(ypred)\n",
    "            i+=1\n",
    "            #append ypred, targets inside the 'i' loop\n",
    "            # append the 'i^th' mean prediction\n",
    "            ypreds.append(ypred)\n",
    "            if i == num_iter:\n",
    "                break\n",
    "     #Do not convert ypreds, targets to np.array at this point,\n",
    "    #since the last batch has a different size, causing an error !\n",
    "    #CALCULATING ACCURACY\n",
    "    yp =  np.concatenate([ypreds[j] for j in range(len(ypreds))], axis = 0)\n",
    "    tgs =  np.concatenate([targets[j] for j in range(len(targets))], axis = 0)\n",
    "    h11_acc = ((yp[:,0] == tgs[:,0]).sum())/len(yp)\n",
    "    h21_acc = ((yp[:,1] == tgs[:,1]).sum())/len(yp)\n",
    "    h31_acc = ((yp[:,2] == tgs[:,2]).sum())/len(yp)\n",
    "    h22_acc = ((yp[:,3] == tgs[:,3]).sum())/len(yp)\n",
    "    acc = [h11_acc*100,h21_acc*100,h31_acc*100,h22_acc*100 ]\n",
    "    return  yp, tgs, acc\n"
   ]
  },
  {
   "cell_type": "markdown",
   "id": "4380616a",
   "metadata": {
    "papermill": {
     "duration": 0.008799,
     "end_time": "2024-05-31T12:29:36.090859",
     "exception": false,
     "start_time": "2024-05-31T12:29:36.082060",
     "status": "completed"
    },
    "tags": []
   },
   "source": [
    "# Train loop"
   ]
  },
  {
   "cell_type": "code",
   "execution_count": 18,
   "id": "d2b12d37",
   "metadata": {
    "execution": {
     "iopub.execute_input": "2024-05-31T12:29:36.106657Z",
     "iopub.status.busy": "2024-05-31T12:29:36.106396Z",
     "iopub.status.idle": "2024-05-31T15:24:27.074705Z",
     "shell.execute_reply": "2024-05-31T15:24:27.073714Z"
    },
    "papermill": {
     "duration": 10490.991681,
     "end_time": "2024-05-31T15:24:27.089851",
     "exception": false,
     "start_time": "2024-05-31T12:29:36.098170",
     "status": "completed"
    },
    "tags": []
   },
   "outputs": [
    {
     "name": "stdout",
     "output_type": "stream",
     "text": [
      "Model saved as LSTM-448-d80-fold0 at epoch 0\n",
      "Epoch: 1/550, train loss:  9.966, val_loss:  9.764, duration: 0:00:49.379001, learning rate: (0.01, 0.01)\n",
      "Model overwritten at epoch 1, new best val loss 9.72504967919305\n",
      "Model overwritten at epoch 3, new best val loss 9.663112777582018\n",
      "Model overwritten at epoch 4, new best val loss 8.73055921354235\n",
      "Model overwritten at epoch 5, new best val loss 8.398197711513617\n",
      "Model overwritten at epoch 6, new best val loss 8.342004296217782\n",
      "Model overwritten at epoch 9, new best val loss 7.8614175014546355\n",
      "Model overwritten at epoch 10, new best val loss 5.151554033804655\n",
      "Epoch: 11/550, train loss:  6.310, val_loss:  5.152, duration: 0:00:48.918516, learning rate: (0.01, 0.01)\n",
      "Model overwritten at epoch 12, new best val loss 2.7707142554230115\n",
      "Model overwritten at epoch 14, new best val loss 2.457733955829415\n",
      "Model overwritten at epoch 15, new best val loss 2.2571032154591655\n",
      "Model overwritten at epoch 18, new best val loss 2.1747547805782768\n",
      "Model overwritten at epoch 19, new best val loss 2.150394444537184\n",
      "Epoch: 21/550, train loss:  2.245, val_loss:  2.155, duration: 0:00:49.012389, learning rate: (0.01, 0.01)\n",
      "Model overwritten at epoch 21, new best val loss 1.96552160821546\n",
      "Model overwritten at epoch 23, new best val loss 1.8875025001544397\n",
      "Model overwritten at epoch 27, new best val loss 1.762290238387166\n",
      "Epoch: 31/550, train loss:  1.869, val_loss:  1.873, duration: 0:00:48.759318, learning rate: (0.01, 0.01)\n",
      "Model overwritten at epoch 31, new best val loss 1.740179999255545\n",
      "Model overwritten at epoch 33, new best val loss 1.7171766616976167\n",
      "Model overwritten at epoch 36, new best val loss 1.6314727800774131\n",
      "Model overwritten at epoch 37, new best val loss 1.5229699185540586\n",
      "Epoch: 41/550, train loss:  1.686, val_loss:  1.608, duration: 0:00:48.822974, learning rate: (0.01, 0.01)\n",
      "Model overwritten at epoch 46, new best val loss 1.5150889820581186\n",
      "Epoch: 51/550, train loss:  1.658, val_loss:  1.664, duration: 0:00:48.790476, learning rate: (0.01, 0.01)\n",
      "Model overwritten at epoch 58, new best val loss 0.8422514124192291\n",
      "Model overwritten at epoch 59, new best val loss 0.737460698186036\n",
      "Model overwritten at epoch 60, new best val loss 0.6979990158055803\n",
      "Epoch: 61/550, train loss:  0.633, val_loss:  0.698, duration: 0:00:49.286594, learning rate: (0.001, 0.001)\n",
      "Model overwritten at epoch 61, new best val loss 0.6653649086249369\n",
      "Model overwritten at epoch 62, new best val loss 0.6237315504243705\n",
      "Model overwritten at epoch 63, new best val loss 0.5935892115518885\n",
      "Model overwritten at epoch 64, new best val loss 0.5757846177834277\n",
      "Model overwritten at epoch 65, new best val loss 0.565251552416809\n",
      "Model overwritten at epoch 66, new best val loss 0.5521929329828361\n",
      "Model overwritten at epoch 68, new best val loss 0.5256767171416152\n",
      "Model overwritten at epoch 69, new best val loss 0.5215197440568894\n",
      "Model overwritten at epoch 70, new best val loss 0.5034102610750527\n",
      "Epoch: 71/550, train loss:  0.375, val_loss:  0.503, duration: 0:00:49.068569, learning rate: (0.001, 0.001)\n",
      "Model overwritten at epoch 71, new best val loss 0.4973732122308053\n",
      "Model overwritten at epoch 72, new best val loss 0.49159018392859577\n",
      "Model overwritten at epoch 74, new best val loss 0.48829035756867856\n",
      "Model overwritten at epoch 75, new best val loss 0.4817213071518416\n",
      "Model overwritten at epoch 76, new best val loss 0.47826125159109995\n",
      "Model overwritten at epoch 78, new best val loss 0.46927069273546324\n",
      "Epoch: 81/550, train loss:  0.330, val_loss:  0.472, duration: 0:00:49.097680, learning rate: (0.001, 0.001)\n",
      "Model overwritten at epoch 81, new best val loss 0.46643150993026894\n",
      "Model overwritten at epoch 82, new best val loss 0.46389184004420847\n",
      "Model overwritten at epoch 83, new best val loss 0.44509603943271336\n",
      "Model overwritten at epoch 86, new best val loss 0.43597327809310654\n",
      "Epoch: 91/550, train loss:  0.314, val_loss:  0.486, duration: 0:00:48.886665, learning rate: (0.001, 0.001)\n",
      "Model overwritten at epoch 93, new best val loss 0.4317645685975781\n",
      "Model overwritten at epoch 95, new best val loss 0.4296164606539212\n",
      "Model overwritten at epoch 97, new best val loss 0.39728821768028383\n",
      "Epoch: 101/550, train loss:  0.294, val_loss:  0.457, duration: 0:00:49.029510, learning rate: (0.001, 0.001)\n",
      "Model overwritten at epoch 106, new best val loss 0.3965180076573238\n",
      "Model overwritten at epoch 108, new best val loss 0.36660215109981276\n",
      "Model overwritten at epoch 110, new best val loss 0.3661914222790726\n",
      "Epoch: 111/550, train loss:  0.275, val_loss:  0.366, duration: 0:00:48.955848, learning rate: (0.001, 0.001)\n",
      "Model overwritten at epoch 117, new best val loss 0.3634863892358063\n",
      "Epoch: 121/550, train loss:  0.258, val_loss:  0.375, duration: 0:00:49.011495, learning rate: (0.001, 0.001)\n",
      "Model overwritten at epoch 121, new best val loss 0.3425860999436475\n",
      "Model overwritten at epoch 126, new best val loss 0.33278269562064705\n",
      "Model overwritten at epoch 129, new best val loss 0.3286068257460632\n",
      "Epoch: 131/550, train loss:  0.254, val_loss:  0.375, duration: 0:00:49.110545, learning rate: (0.001, 0.001)\n",
      "Epoch: 141/550, train loss:  0.230, val_loss:  0.404, duration: 0:00:49.430600, learning rate: (0.001, 0.0001)\n",
      "Model overwritten at epoch 141, new best val loss 0.1944580410376178\n",
      "Model overwritten at epoch 142, new best val loss 0.17800451932180697\n",
      "Model overwritten at epoch 143, new best val loss 0.16909968224991137\n",
      "Model overwritten at epoch 144, new best val loss 0.1651193777005544\n",
      "Model overwritten at epoch 145, new best val loss 0.15789118103045124\n",
      "Model overwritten at epoch 146, new best val loss 0.15685752962057503\n",
      "Model overwritten at epoch 147, new best val loss 0.15317121655774768\n",
      "Model overwritten at epoch 149, new best val loss 0.15006199338706006\n",
      "Model overwritten at epoch 150, new best val loss 0.14992970900917515\n",
      "Epoch: 151/550, train loss:  0.034, val_loss:  0.150, duration: 0:00:48.898277, learning rate: (0.0001, 0.0001)\n",
      "Model overwritten at epoch 151, new best val loss 0.14767784304713003\n",
      "Model overwritten at epoch 153, new best val loss 0.14621385793873196\n",
      "Model overwritten at epoch 154, new best val loss 0.14539518206654034\n",
      "Model overwritten at epoch 156, new best val loss 0.1438543717857756\n",
      "Model overwritten at epoch 157, new best val loss 0.14337422562284693\n",
      "Epoch: 161/550, train loss:  0.022, val_loss:  0.143, duration: 0:00:49.201319, learning rate: (0.0001, 0.0001)\n",
      "Model overwritten at epoch 162, new best val loss 0.1421393741116204\n",
      "Model overwritten at epoch 163, new best val loss 0.14174364879398565\n",
      "Model overwritten at epoch 169, new best val loss 0.1411406860242138\n",
      "Epoch: 171/550, train loss:  0.018, val_loss:  0.142, duration: 0:00:48.901172, learning rate: (0.0001, 0.0001)\n",
      "Model overwritten at epoch 172, new best val loss 0.14083309565150465\n",
      "Model overwritten at epoch 177, new best val loss 0.1399949027549242\n",
      "Epoch: 181/550, train loss:  0.016, val_loss:  0.142, duration: 0:00:49.082091, learning rate: (0.0001, 0.0001)\n",
      "Model overwritten at epoch 189, new best val loss 0.13713252499357642\n",
      "Model overwritten at epoch 190, new best val loss 0.13640523834740917\n",
      "Epoch: 191/550, train loss:  0.009, val_loss:  0.136, duration: 0:00:48.850727, learning rate: (1e-05, 1e-05)\n",
      "Model overwritten at epoch 191, new best val loss 0.13593786538620492\n",
      "Model overwritten at epoch 192, new best val loss 0.13567173957088197\n",
      "Epoch: 201/550, train loss:  0.007, val_loss:  0.136, duration: 0:00:48.989279, learning rate: (1e-05, 1e-05)\n",
      "Epoch: 211/550, train loss:  0.006, val_loss:  0.136, duration: 0:00:48.831984, learning rate: (1.0000000000000002e-06, 1.0000000000000002e-06)\n",
      "Max patience reached, training is terminated at epoch 213\n"
     ]
    }
   ],
   "source": [
    "load_model_weight = None\n",
    "epochs = 550\n",
    "new_model_name = 'LSTM-448-d80-fold0'\n",
    "if load_model_weight is None:\n",
    "    train_losses, test_losses=train_from_scratch_or_load(load_model_weight,new_model_name,  epochs)\n",
    "else:\n",
    "    model, train_losses, test_losses=load_and_retrain(load_model_weight, new_model_name, epochs)"
   ]
  },
  {
   "cell_type": "code",
   "execution_count": 19,
   "id": "e10817b7",
   "metadata": {
    "execution": {
     "iopub.execute_input": "2024-05-31T15:24:27.120699Z",
     "iopub.status.busy": "2024-05-31T15:24:27.120385Z",
     "iopub.status.idle": "2024-05-31T15:24:27.383334Z",
     "shell.execute_reply": "2024-05-31T15:24:27.382441Z"
    },
    "papermill": {
     "duration": 0.280903,
     "end_time": "2024-05-31T15:24:27.385590",
     "exception": false,
     "start_time": "2024-05-31T15:24:27.104687",
     "status": "completed"
    },
    "tags": []
   },
   "outputs": [
    {
     "data": {
      "image/png": "[encoded data removed]",
      "text/plain": [
       "<Figure size 640x480 with 1 Axes>"
      ]
     },
     "metadata": {},
     "output_type": "display_data"
    }
   ],
   "source": [
    "plot_losses(train_losses, test_losses)"
   ]
  },
  {
   "cell_type": "markdown",
   "id": "b5292dcf",
   "metadata": {
    "papermill": {
     "duration": 0.014426,
     "end_time": "2024-05-31T15:24:27.415630",
     "exception": false,
     "start_time": "2024-05-31T15:24:27.401204",
     "status": "completed"
    },
    "tags": []
   },
   "source": [
    "# Accuracies"
   ]
  },
  {
   "cell_type": "code",
   "execution_count": 20,
   "id": "628aef77",
   "metadata": {
    "execution": {
     "iopub.execute_input": "2024-05-31T15:24:27.446323Z",
     "iopub.status.busy": "2024-05-31T15:24:27.445988Z",
     "iopub.status.idle": "2024-05-31T15:24:52.238512Z",
     "shell.execute_reply": "2024-05-31T15:24:52.237480Z"
    },
    "papermill": {
     "duration": 24.810498,
     "end_time": "2024-05-31T15:24:52.240607",
     "exception": false,
     "start_time": "2024-05-31T15:24:27.430109",
     "status": "completed"
    },
    "tags": []
   },
   "outputs": [
    {
     "name": "stdout",
     "output_type": "stream",
     "text": [
      "Train data, target shapes: ((579637, 4), (579637, 4)),\n",
      " train accuracies [99.97860730077618, 99.77779196290092, 99.87578432708747, 99.68549281705619]\n",
      "Validation data, target shapes: ((144910, 4), (144910, 4)),\n",
      " validation accuracies [99.67014008695052, 96.7793803050169, 92.0833620868125, 75.7780691463667]\n"
     ]
    }
   ],
   "source": [
    "#Train accuracy\n",
    "yt, tgt, acct = get_pred_n_acc([model], device, train_loader, num_iter = len(train_loader))\n",
    "#validation accuracy\n",
    "yv, tgv, accv = get_pred_n_acc([model], device, val_loader, num_iter = len(val_loader))\n",
    "print(f'Train data, target shapes: {yt.shape, tgt.shape},\\n train accuracies {acct}')\n",
    "print(f'Validation data, target shapes: {yv.shape, tgv.shape},\\n validation accuracies {accv}')\n"
   ]
  },
  {
   "cell_type": "code",
   "execution_count": 21,
   "id": "c04626ed",
   "metadata": {
    "execution": {
     "iopub.execute_input": "2024-05-31T15:24:52.272297Z",
     "iopub.status.busy": "2024-05-31T15:24:52.272002Z",
     "iopub.status.idle": "2024-05-31T15:24:58.471077Z",
     "shell.execute_reply": "2024-05-31T15:24:58.469970Z"
    },
    "papermill": {
     "duration": 6.217117,
     "end_time": "2024-05-31T15:24:58.473054",
     "exception": false,
     "start_time": "2024-05-31T15:24:52.255937",
     "status": "completed"
    },
    "tags": []
   },
   "outputs": [
    {
     "name": "stdout",
     "output_type": "stream",
     "text": [
      "Test data, target shapes: ((181137, 4), (181137, 4)),\n",
      " test accuracies [99.70188310505308, 96.78806649110894, 92.22743006674506, 75.75481541595587]\n"
     ]
    }
   ],
   "source": [
    "#Test accuracy\n",
    "yts, tgts, accts = get_pred_n_acc([model], device, test_loader, num_iter = len(test_loader))\n",
    "print(f'Test data, target shapes: {yts.shape, tgts.shape},\\n test accuracies {accts}')\n"
   ]
  }
 ],
 "metadata": {
  "kaggle": {
   "accelerator": "gpu",
   "dataSources": [
    {
     "datasetId": 4575883,
     "sourceId": 8488978,
     "sourceType": "datasetVersion"
    },
    {
     "sourceId": 180758667,
     "sourceType": "kernelVersion"
    }
   ],
   "dockerImageVersionId": 30665,
   "isGpuEnabled": true,
   "isInternetEnabled": true,
   "language": "python",
   "sourceType": "notebook"
  },
  "kernelspec": {
   "display_name": "Python 3",
   "language": "python",
   "name": "python3"
  },
  "language_info": {
   "codemirror_mode": {
    "name": "ipython",
    "version": 3
   },
   "file_extension": ".py",
   "mimetype": "text/x-python",
   "name": "python",
   "nbconvert_exporter": "python",
   "pygments_lexer": "ipython3",
   "version": "3.10.13"
  },
  "papermill": {
   "default_parameters": {},
   "duration": 10545.992292,
   "end_time": "2024-05-31T15:25:00.132130",
   "environment_variables": {},
   "exception": null,
   "input_path": "__notebook__.ipynb",
   "output_path": "__notebook__.ipynb",
   "parameters": {},
   "start_time": "2024-05-31T12:29:14.139838",
   "version": "2.5.0"
  }
 },
 "nbformat": 4,
 "nbformat_minor": 5
}
