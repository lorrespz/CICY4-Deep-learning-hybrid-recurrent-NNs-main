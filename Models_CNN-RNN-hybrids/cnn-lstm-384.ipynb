{
 "cells": [
  {
   "cell_type": "markdown",
   "id": "96246f93",
   "metadata": {
    "papermill": {
     "duration": 0.009002,
     "end_time": "2024-05-05T05:19:57.838272",
     "exception": false,
     "start_time": "2024-05-05T05:19:57.829270",
     "status": "completed"
    },
    "tags": []
   },
   "source": [
    "# CICY4: CNN-LSTM-384 for learning 4 Hodge numbers \n",
    "\n",
    "- Version < 10: Models trained with old data. V10: ran with error. \n",
    "\n",
    "- V11: Standard CNN + LSTM layer with parameters (20,256,2,4). \n",
    "- V12: Standard CNN + LSTM layer with parameters (20,400,2,4). \n",
    "- V12: Standard CNN + LSTM layer with parameters (20,416,2,4). \n",
    "- V13: Standard CNN + LSTM layer with parameters (20,384,2,4). \n",
    "\n",
    "- Note: The standard CNN used has the output feature vector of 384 with the following configuration:\n",
    "    - nn.Flatten(F.relu(nn.Sequential(nn.Conv2d(1,128, 4, 1),\n",
    "                nn.MaxPool2d(2,2),\n",
    "                nn.Conv2d(128, 64, 3, 1),\n",
    "                nn.MaxPool2d(2,2)))\n",
    "     "
   ]
  },
  {
   "cell_type": "code",
   "execution_count": 1,
   "id": "bee2e1db",
   "metadata": {
    "_cell_guid": "b1076dfc-b9ad-4769-8c92-a6c4dae69d19",
    "_uuid": "8f2839f25d086af736a60e9eeb907d3b93b6e0e5",
    "execution": {
     "iopub.execute_input": "2024-05-05T05:19:57.856030Z",
     "iopub.status.busy": "2024-05-05T05:19:57.855718Z",
     "iopub.status.idle": "2024-05-05T05:20:03.099602Z",
     "shell.execute_reply": "2024-05-05T05:20:03.098806Z"
    },
    "papermill": {
     "duration": 5.255426,
     "end_time": "2024-05-05T05:20:03.101947",
     "exception": false,
     "start_time": "2024-05-05T05:19:57.846521",
     "status": "completed"
    },
    "tags": []
   },
   "outputs": [],
   "source": [
    "import numpy as np\n",
    "import pandas as pd\n",
    "import random\n",
    "import os as os\n",
    "import matplotlib.pyplot as plt\n",
    "import seaborn as sns\n",
    "from datetime import datetime\n",
    "sns.set_style(\"darkgrid\")\n",
    "\n",
    "import torch\n",
    "import torch.nn as nn\n",
    "import torch.nn.functional as F\n",
    "import torch.optim.lr_scheduler as lr_scheduler"
   ]
  },
  {
   "cell_type": "code",
   "execution_count": 2,
   "id": "26293e1d",
   "metadata": {
    "execution": {
     "iopub.execute_input": "2024-05-05T05:20:03.121492Z",
     "iopub.status.busy": "2024-05-05T05:20:03.120946Z",
     "iopub.status.idle": "2024-05-05T05:20:03.168238Z",
     "shell.execute_reply": "2024-05-05T05:20:03.167265Z"
    },
    "papermill": {
     "duration": 0.059021,
     "end_time": "2024-05-05T05:20:03.170105",
     "exception": false,
     "start_time": "2024-05-05T05:20:03.111084",
     "status": "completed"
    },
    "tags": []
   },
   "outputs": [
    {
     "name": "stdout",
     "output_type": "stream",
     "text": [
      "cuda:0\n"
     ]
    }
   ],
   "source": [
    "device = torch.device(\"cuda:0\" if torch.cuda.is_available() else \"cpu\")\n",
    "print(device)"
   ]
  },
  {
   "cell_type": "code",
   "execution_count": 3,
   "id": "a86232f9",
   "metadata": {
    "execution": {
     "iopub.execute_input": "2024-05-05T05:20:03.188152Z",
     "iopub.status.busy": "2024-05-05T05:20:03.187861Z",
     "iopub.status.idle": "2024-05-05T05:20:03.195528Z",
     "shell.execute_reply": "2024-05-05T05:20:03.194846Z"
    },
    "papermill": {
     "duration": 0.0189,
     "end_time": "2024-05-05T05:20:03.197462",
     "exception": false,
     "start_time": "2024-05-05T05:20:03.178562",
     "status": "completed"
    },
    "tags": []
   },
   "outputs": [],
   "source": [
    "seed = 42\n",
    "\n",
    "def seed_everything(seed):\n",
    "    random.seed(seed)\n",
    "    os.environ['PYTHONHASHSEED'] = str(seed)\n",
    "    np.random.seed(seed)\n",
    "    torch.manual_seed(seed)\n",
    "    torch.cuda.manual_seed(seed)\n",
    "    torch.cuda.manual_seed_all(seed)\n",
    "    torch.backends.cudnn.deterministic = True\n",
    "\n",
    "seed_everything(seed)"
   ]
  },
  {
   "cell_type": "markdown",
   "id": "b8bbf802",
   "metadata": {
    "papermill": {
     "duration": 0.008211,
     "end_time": "2024-05-05T05:20:03.214174",
     "exception": false,
     "start_time": "2024-05-05T05:20:03.205963",
     "status": "completed"
    },
    "tags": []
   },
   "source": [
    "# CNN-LSTM network architecture"
   ]
  },
  {
   "cell_type": "code",
   "execution_count": 4,
   "id": "0142a8fe",
   "metadata": {
    "execution": {
     "iopub.execute_input": "2024-05-05T05:20:03.232782Z",
     "iopub.status.busy": "2024-05-05T05:20:03.232540Z",
     "iopub.status.idle": "2024-05-05T05:20:03.238930Z",
     "shell.execute_reply": "2024-05-05T05:20:03.238179Z"
    },
    "papermill": {
     "duration": 0.018221,
     "end_time": "2024-05-05T05:20:03.240711",
     "exception": false,
     "start_time": "2024-05-05T05:20:03.222490",
     "status": "completed"
    },
    "tags": []
   },
   "outputs": [],
   "source": [
    "##################### CNN ###############################\n",
    "class CNN_block(nn.Module):  \n",
    "    def __init__(self):\n",
    "        super().__init__()\n",
    "        self.conv1 = nn.Conv2d(1,128, 4, 1)\n",
    "        self.conv2 = nn.Conv2d(128, 64, 3, 1)\n",
    "        self.mxpool = nn.MaxPool2d(2,2)\n",
    "        self.flat = nn.Flatten()\n",
    "        self.conv_total = nn.Sequential(\n",
    "            self.conv1,\n",
    "            self.mxpool,\n",
    "            self.conv2,\n",
    "            self.mxpool\n",
    "        )\n",
    "    def forward(self,x):\n",
    "        x = F.relu(self.conv_total(x))\n",
    "        #reshape is the same as flat(x)\n",
    "        #x = x.reshape(x.shape[0], -1)\n",
    "        x = self.flat(x)   \n",
    "        return x"
   ]
  },
  {
   "cell_type": "code",
   "execution_count": 5,
   "id": "d105ef51",
   "metadata": {
    "execution": {
     "iopub.execute_input": "2024-05-05T05:20:03.258263Z",
     "iopub.status.busy": "2024-05-05T05:20:03.257962Z",
     "iopub.status.idle": "2024-05-05T05:20:03.265323Z",
     "shell.execute_reply": "2024-05-05T05:20:03.264514Z"
    },
    "papermill": {
     "duration": 0.01846,
     "end_time": "2024-05-05T05:20:03.267410",
     "exception": false,
     "start_time": "2024-05-05T05:20:03.248950",
     "status": "completed"
    },
    "tags": []
   },
   "outputs": [],
   "source": [
    "class LSTM_block(nn.Module):\n",
    "    def __init__(self, n_inputs, n_hidden, n_rnnlayers, n_outputs):\n",
    "        super(LSTM_block,self).__init__()\n",
    "        self.D = n_inputs\n",
    "        self.M = n_hidden\n",
    "        self.K = n_outputs\n",
    "        self.L = n_rnnlayers        \n",
    "        self.lstm = nn.LSTM(input_size = self.D,\n",
    "                           hidden_size = self.M,\n",
    "                           num_layers = self.L,\n",
    "                           batch_first = True)    \n",
    "    def forward(self, X):\n",
    "        #input X is NxTxD\n",
    "        #initial hidden states\n",
    "        h0 = torch.zeros(self.L, X.size(0), self.M).to(device)\n",
    "        c0 = torch.zeros(self.L, X.size(0), self.M).to(device)\n",
    "        #get LSTM unit output:\n",
    "        #output is NxTxM\n",
    "        out, _ = self.lstm(X, (h0,c0))\n",
    "        #out, _ = self.gru(X, h0)   \n",
    "        #we only want h(T) at the final time step\n",
    "        # output is now of shape (N, M)\n",
    "        out = out[:, -1, :]\n",
    "        return out"
   ]
  },
  {
   "cell_type": "code",
   "execution_count": 6,
   "id": "9e5ff57d",
   "metadata": {
    "execution": {
     "iopub.execute_input": "2024-05-05T05:20:03.285447Z",
     "iopub.status.busy": "2024-05-05T05:20:03.285187Z",
     "iopub.status.idle": "2024-05-05T05:20:03.291938Z",
     "shell.execute_reply": "2024-05-05T05:20:03.291109Z"
    },
    "papermill": {
     "duration": 0.017748,
     "end_time": "2024-05-05T05:20:03.293775",
     "exception": false,
     "start_time": "2024-05-05T05:20:03.276027",
     "status": "completed"
    },
    "tags": []
   },
   "outputs": [],
   "source": [
    "class CNN_LSTM_hybrid(nn.Module):\n",
    "    def __init__(self, cnn_block, lstm_block, feat_vec_size):\n",
    "        super(CNN_LSTM_hybrid, self).__init__()\n",
    "        self.cnn_block = cnn_block\n",
    "        self.lstm_block = lstm_block\n",
    "        self.feat_vec_size = feat_vec_size\n",
    "        self.fc1 = nn.Linear(self.feat_vec_size, 1024)\n",
    "        self.fc2 = nn.Linear(1024, 4)       \n",
    "    def forward(self, x):\n",
    "        #output of cnn block is (N,384)\n",
    "        x1 = x.view(-1,1, 16,20)\n",
    "        x1 = self.cnn_block(x1)\n",
    "        #output of rnn block is (N,M)\n",
    "        x2 = self.lstm_block(x)\n",
    "        #concatenate the 2 outputs to produce a feat vec (N, M+384)\n",
    "        xx = torch.cat([x1, x2], dim = 1)\n",
    "        # pass through linear layers\n",
    "        xx = self.fc1(xx)\n",
    "        #final output is 4\n",
    "        xx = self.fc2(xx)       \n",
    "        return xx"
   ]
  },
  {
   "cell_type": "code",
   "execution_count": 7,
   "id": "8c430d37",
   "metadata": {
    "execution": {
     "iopub.execute_input": "2024-05-05T05:20:03.311405Z",
     "iopub.status.busy": "2024-05-05T05:20:03.311129Z",
     "iopub.status.idle": "2024-05-05T05:20:03.651800Z",
     "shell.execute_reply": "2024-05-05T05:20:03.650579Z"
    },
    "papermill": {
     "duration": 0.352385,
     "end_time": "2024-05-05T05:20:03.654396",
     "exception": false,
     "start_time": "2024-05-05T05:20:03.302011",
     "status": "completed"
    },
    "tags": []
   },
   "outputs": [
    {
     "data": {
      "text/plain": [
       "CNN_LSTM_hybrid(\n",
       "  (cnn_block): CNN_block(\n",
       "    (conv1): Conv2d(1, 128, kernel_size=(4, 4), stride=(1, 1))\n",
       "    (conv2): Conv2d(128, 64, kernel_size=(3, 3), stride=(1, 1))\n",
       "    (mxpool): MaxPool2d(kernel_size=2, stride=2, padding=0, dilation=1, ceil_mode=False)\n",
       "    (flat): Flatten(start_dim=1, end_dim=-1)\n",
       "    (conv_total): Sequential(\n",
       "      (0): Conv2d(1, 128, kernel_size=(4, 4), stride=(1, 1))\n",
       "      (1): MaxPool2d(kernel_size=2, stride=2, padding=0, dilation=1, ceil_mode=False)\n",
       "      (2): Conv2d(128, 64, kernel_size=(3, 3), stride=(1, 1))\n",
       "      (3): MaxPool2d(kernel_size=2, stride=2, padding=0, dilation=1, ceil_mode=False)\n",
       "    )\n",
       "  )\n",
       "  (lstm_block): LSTM_block(\n",
       "    (lstm): LSTM(20, 384, num_layers=2, batch_first=True)\n",
       "  )\n",
       "  (fc1): Linear(in_features=768, out_features=1024, bias=True)\n",
       "  (fc2): Linear(in_features=1024, out_features=4, bias=True)\n",
       ")"
      ]
     },
     "execution_count": 7,
     "metadata": {},
     "output_type": "execute_result"
    }
   ],
   "source": [
    "# Everything is the same as the best CNN-GRU model, \n",
    "#except that the GRU layer is replaced by the LSTM layer\n",
    "cnn_block = CNN_block()\n",
    "cnn_block.to(device)\n",
    "\n",
    "M_size = 384\n",
    "lstm_block = LSTM_block(20, M_size, 2, 4)\n",
    "lstm_block.to(device)\n",
    "\n",
    "model = CNN_LSTM_hybrid(cnn_block, lstm_block, M_size+384)\n",
    "model.to(device)"
   ]
  },
  {
   "cell_type": "code",
   "execution_count": 8,
   "id": "83a20a1e",
   "metadata": {
    "execution": {
     "iopub.execute_input": "2024-05-05T05:20:03.674617Z",
     "iopub.status.busy": "2024-05-05T05:20:03.674159Z",
     "iopub.status.idle": "2024-05-05T05:20:03.684350Z",
     "shell.execute_reply": "2024-05-05T05:20:03.683087Z"
    },
    "papermill": {
     "duration": 0.023142,
     "end_time": "2024-05-05T05:20:03.686512",
     "exception": false,
     "start_time": "2024-05-05T05:20:03.663370",
     "status": "completed"
    },
    "tags": []
   },
   "outputs": [
    {
     "name": "stdout",
     "output_type": "stream",
     "text": [
      "Total numbers of parameters for the CNN part: 75968\n",
      "\n",
      "Total numbers of parameters for the LSTM part: 1806336\n",
      "\n",
      "Total numbers of parameters: 2673860\n"
     ]
    }
   ],
   "source": [
    "#count the number of parameters in the model\n",
    "params_cnn = [p.numel() for p in cnn_block.parameters() if p.requires_grad]\n",
    "print(f'Total numbers of parameters for the CNN part: {sum(params_cnn)}\\n')\n",
    "\n",
    "#count the number of parameters in the model\n",
    "params_lstm = [p.numel() for p in lstm_block.parameters() if p.requires_grad]\n",
    "print(f'Total numbers of parameters for the LSTM part: {sum(params_lstm)}\\n')\n",
    "\n",
    "#count the number of parameters in the model\n",
    "params = [p.numel() for p in model.parameters() if p.requires_grad]\n",
    "print(f'Total numbers of parameters: {sum(params)}')"
   ]
  },
  {
   "cell_type": "markdown",
   "id": "4eb3767a",
   "metadata": {
    "papermill": {
     "duration": 0.009731,
     "end_time": "2024-05-05T05:20:03.705962",
     "exception": false,
     "start_time": "2024-05-05T05:20:03.696231",
     "status": "completed"
    },
    "tags": []
   },
   "source": [
    "# Load data, define custom dataset class and dataloaders"
   ]
  },
  {
   "cell_type": "code",
   "execution_count": 9,
   "id": "9d189a0f",
   "metadata": {
    "execution": {
     "iopub.execute_input": "2024-05-05T05:20:03.726671Z",
     "iopub.status.busy": "2024-05-05T05:20:03.725755Z",
     "iopub.status.idle": "2024-05-05T05:20:15.963207Z",
     "shell.execute_reply": "2024-05-05T05:20:15.962094Z"
    },
    "papermill": {
     "duration": 12.250012,
     "end_time": "2024-05-05T05:20:15.965305",
     "exception": false,
     "start_time": "2024-05-05T05:20:03.715293",
     "status": "completed"
    },
    "tags": []
   },
   "outputs": [
    {
     "name": "stdout",
     "output_type": "stream",
     "text": [
      "(652092, 16, 20) (72455, 16, 20) (181137, 16, 20)\n",
      "(652092, 4) (72455, 4) (181137, 4)\n"
     ]
    }
   ],
   "source": [
    "X_train = np.load('/kaggle/input/cicy4-data-processing/conf_Xtrain.npy')\n",
    "X_test = np.load('/kaggle/input/cicy4-data-processing/conf_Xtest.npy')\n",
    "X_valid = np.load('/kaggle/input/cicy4-data-processing/conf_Xvalid.npy')\n",
    "\n",
    "y_train = np.load('/kaggle/input/cicy4-data-processing/hodge_ytrain.npy')\n",
    "y_test= np.load('/kaggle/input/cicy4-data-processing/hodge_ytest.npy')\n",
    "y_valid = np.load('/kaggle/input/cicy4-data-processing/hodge_yvalid.npy')\n",
    "\n",
    "print(X_train.shape, X_valid.shape, X_test.shape)\n",
    "print(y_train.shape, y_valid.shape, y_test.shape)"
   ]
  },
  {
   "cell_type": "code",
   "execution_count": 10,
   "id": "2e9d360d",
   "metadata": {
    "execution": {
     "iopub.execute_input": "2024-05-05T05:20:15.984216Z",
     "iopub.status.busy": "2024-05-05T05:20:15.983909Z",
     "iopub.status.idle": "2024-05-05T05:20:16.449782Z",
     "shell.execute_reply": "2024-05-05T05:20:16.448972Z"
    },
    "papermill": {
     "duration": 0.477666,
     "end_time": "2024-05-05T05:20:16.452134",
     "exception": false,
     "start_time": "2024-05-05T05:20:15.974468",
     "status": "completed"
    },
    "tags": []
   },
   "outputs": [],
   "source": [
    "#Convert data to torch tensor with float32 precision \n",
    "#(needed to be compatible with the floating decision of the network parameters)\n",
    "X_train = torch.from_numpy(X_train.astype(np.float32))\n",
    "y_train = torch.from_numpy(y_train.astype(np.float32))\n",
    "\n",
    "X_valid = torch.from_numpy(X_valid.astype(np.float32)) \n",
    "y_valid = torch.from_numpy(y_valid.astype(np.float32)) \n",
    "\n",
    "X_test = torch.from_numpy(X_test.astype(np.float32)) \n",
    "y_test= torch.from_numpy(y_test.astype(np.float32)) "
   ]
  },
  {
   "cell_type": "code",
   "execution_count": 11,
   "id": "ddc15390",
   "metadata": {
    "execution": {
     "iopub.execute_input": "2024-05-05T05:20:16.471521Z",
     "iopub.status.busy": "2024-05-05T05:20:16.471222Z",
     "iopub.status.idle": "2024-05-05T05:20:16.478389Z",
     "shell.execute_reply": "2024-05-05T05:20:16.477714Z"
    },
    "papermill": {
     "duration": 0.018756,
     "end_time": "2024-05-05T05:20:16.480261",
     "exception": false,
     "start_time": "2024-05-05T05:20:16.461505",
     "status": "completed"
    },
    "tags": []
   },
   "outputs": [],
   "source": [
    "class CICY4Dataset(torch.utils.data.Dataset):\n",
    "    def __init__(self, X, y):\n",
    "        self.X = X\n",
    "        self.y = y        \n",
    "    def __len__(self):\n",
    "        return len(self.X)      \n",
    "    def __getitem__(self, idx):\n",
    "        X0 = self.X[idx]\n",
    "        y0 = self.y[idx]  \n",
    "        return X0, y0\n",
    "        \n",
    "train_set = CICY4Dataset(X_train, y_train)\n",
    "val_set = CICY4Dataset(X_valid, y_valid)\n",
    "test_set = CICY4Dataset(X_test, y_test)"
   ]
  },
  {
   "cell_type": "code",
   "execution_count": 12,
   "id": "36324244",
   "metadata": {
    "execution": {
     "iopub.execute_input": "2024-05-05T05:20:16.498715Z",
     "iopub.status.busy": "2024-05-05T05:20:16.498472Z",
     "iopub.status.idle": "2024-05-05T05:20:16.503804Z",
     "shell.execute_reply": "2024-05-05T05:20:16.503058Z"
    },
    "papermill": {
     "duration": 0.016559,
     "end_time": "2024-05-05T05:20:16.505641",
     "exception": false,
     "start_time": "2024-05-05T05:20:16.489082",
     "status": "completed"
    },
    "tags": []
   },
   "outputs": [],
   "source": [
    "from torch.utils.data import DataLoader\n",
    "\n",
    "train_loader = DataLoader(train_set, batch_size=128, shuffle=True)\n",
    "val_loader = DataLoader(val_set, batch_size=128, shuffle=True)\n",
    "test_loader = DataLoader(test_set, batch_size=128, shuffle=False)"
   ]
  },
  {
   "cell_type": "markdown",
   "id": "11fe5c4c",
   "metadata": {
    "papermill": {
     "duration": 0.008347,
     "end_time": "2024-05-05T05:20:16.522629",
     "exception": false,
     "start_time": "2024-05-05T05:20:16.514282",
     "status": "completed"
    },
    "tags": []
   },
   "source": [
    "# Utility functions"
   ]
  },
  {
   "cell_type": "code",
   "execution_count": 13,
   "id": "ccd2dead",
   "metadata": {
    "execution": {
     "iopub.execute_input": "2024-05-05T05:20:16.541076Z",
     "iopub.status.busy": "2024-05-05T05:20:16.540425Z",
     "iopub.status.idle": "2024-05-05T05:20:16.546625Z",
     "shell.execute_reply": "2024-05-05T05:20:16.545832Z"
    },
    "papermill": {
     "duration": 0.017294,
     "end_time": "2024-05-05T05:20:16.548376",
     "exception": false,
     "start_time": "2024-05-05T05:20:16.531082",
     "status": "completed"
    },
    "tags": []
   },
   "outputs": [],
   "source": [
    "def train_one_epoch(model, criterion, optimizer, train_loader, cnn = False):\n",
    "    model.train()\n",
    "    train_loss = []\n",
    "    for inputs, target in train_loader:\n",
    "        if cnn:\n",
    "            inputs = inputs.view(batch_size,1,16,20)\n",
    "        inputs, target = inputs.to(device), target.to(device)\n",
    "        optimizer.zero_grad()\n",
    "        out = model(inputs)\n",
    "        loss = criterion(out, target)\n",
    "        loss.backward()\n",
    "        optimizer.step()\n",
    "        train_loss.append(loss.item())\n",
    "    #average the train_loss list in for all batches in the train_gen\n",
    "    train_loss = np.mean(train_loss)    \n",
    "    return train_loss"
   ]
  },
  {
   "cell_type": "code",
   "execution_count": 14,
   "id": "aaa7ae5c",
   "metadata": {
    "execution": {
     "iopub.execute_input": "2024-05-05T05:20:16.566652Z",
     "iopub.status.busy": "2024-05-05T05:20:16.566395Z",
     "iopub.status.idle": "2024-05-05T05:20:16.572085Z",
     "shell.execute_reply": "2024-05-05T05:20:16.571285Z"
    },
    "papermill": {
     "duration": 0.016692,
     "end_time": "2024-05-05T05:20:16.573878",
     "exception": false,
     "start_time": "2024-05-05T05:20:16.557186",
     "status": "completed"
    },
    "tags": []
   },
   "outputs": [],
   "source": [
    "def validate_one_epoch(model, criterion, optimizer, val_loader, cnn = False):\n",
    "    model.eval()\n",
    "    test_loss = []\n",
    "    for inputs, target in val_loader:\n",
    "        if cnn:\n",
    "            inputs = inputs.view(batch_size,1,16,20)\n",
    "        inputs, target = inputs.to(device), target.to(device)\n",
    "        out = model(inputs)\n",
    "        loss = criterion(out, target)\n",
    "        test_loss.append(loss.item())\n",
    "    #average the test_loss list in for all batches in the test_gen\n",
    "    test_loss = np.mean(test_loss)\n",
    "    return test_loss"
   ]
  },
  {
   "cell_type": "code",
   "execution_count": 15,
   "id": "94eefef5",
   "metadata": {
    "execution": {
     "iopub.execute_input": "2024-05-05T05:20:16.592559Z",
     "iopub.status.busy": "2024-05-05T05:20:16.592294Z",
     "iopub.status.idle": "2024-05-05T05:20:16.602389Z",
     "shell.execute_reply": "2024-05-05T05:20:16.601529Z"
    },
    "papermill": {
     "duration": 0.021489,
     "end_time": "2024-05-05T05:20:16.604238",
     "exception": false,
     "start_time": "2024-05-05T05:20:16.582749",
     "status": "completed"
    },
    "tags": []
   },
   "outputs": [],
   "source": [
    "def batch_gd_scheduler(model, new_model_name, criterion, optimizer, train_loader, val_loader, scheduler,\n",
    "                         epochs, device, batch_size=128,  cnn = False):\n",
    "    train_losses = np.zeros(epochs)\n",
    "    test_losses = np.zeros(epochs)\n",
    "    patience = 0\n",
    "    best_loss = 1000\n",
    "    max_patience = 20\n",
    "    for i in range(epochs):\n",
    "        t0 = datetime.now()\n",
    "        train_loss = train_one_epoch(model, criterion, optimizer,train_loader)\n",
    "        test_loss = validate_one_epoch(model, criterion, optimizer,val_loader)\n",
    "        #Early stopping based on test loss\n",
    "        if i == 0:\n",
    "            best_loss = test_loss   \n",
    "            torch.save(model, f'/kaggle/working/saved_models/{new_model_name}.pt')\n",
    "            print(f'Model saved as {new_model_name} at epoch {i}')\n",
    "        else:\n",
    "            if test_loss < best_loss:\n",
    "                best_loss = test_loss\n",
    "                torch.save(model, f'/kaggle/working/saved_models/{new_model_name}.pt')\n",
    "                print(f'Model overwritten at epoch {i}, new best val loss {best_loss}')\n",
    "                patience = 0\n",
    "            else:\n",
    "                patience = patience +1\n",
    "                #print(f'No improvement, current patience level is {patience} at epoch {i}')\n",
    "        if patience > max_patience:\n",
    "            print(f'Max patience reached, training is terminated at epoch {i}')\n",
    "            break\n",
    "        #Apply scheduler after the train+validate parts\n",
    "        before_lr = optimizer.param_groups[0][\"lr\"]\n",
    "        scheduler.step(test_loss)\n",
    "        after_lr = optimizer.param_groups[0][\"lr\"]\n",
    "        train_losses[i] = train_loss\n",
    "        test_losses[i] = test_loss\n",
    "        #write the losses into a csv fil\n",
    "        loss_dict = {'train_loss': train_losses, 'val_loss': test_losses}\n",
    "        dd = pd.DataFrame(loss_dict)\n",
    "        dd.to_csv('loss_dict_cnn_lstm_384.csv', index = False)\n",
    "        dt = datetime.now()-t0\n",
    "        if i%10==0:\n",
    "            print(f'Epoch: {i+1}/{epochs}, train loss: {train_loss: .3f}, val_loss: {test_loss: .3f}, duration: {dt}, learning rate: {before_lr, after_lr}')\n",
    "    return train_losses, test_losses"
   ]
  },
  {
   "cell_type": "code",
   "execution_count": 16,
   "id": "fdc35733",
   "metadata": {
    "execution": {
     "iopub.execute_input": "2024-05-05T05:20:16.622272Z",
     "iopub.status.busy": "2024-05-05T05:20:16.621990Z",
     "iopub.status.idle": "2024-05-05T05:20:16.628430Z",
     "shell.execute_reply": "2024-05-05T05:20:16.627617Z"
    },
    "papermill": {
     "duration": 0.017528,
     "end_time": "2024-05-05T05:20:16.630292",
     "exception": false,
     "start_time": "2024-05-05T05:20:16.612764",
     "status": "completed"
    },
    "tags": []
   },
   "outputs": [],
   "source": [
    "def train_from_scratch_or_load(load_model_weight,new_model_name, epochs, cnn = False):    \n",
    "    if load_model_weight==None:\n",
    "        #criterion = nn.MSELoss()\n",
    "        criterion = nn.HuberLoss()\n",
    "        optimizer = torch.optim.AdamW(model.parameters(), lr=0.01)\n",
    "        scheduler = lr_scheduler.ReduceLROnPlateau(optimizer, 'min', factor=0.1, min_lr = 1e-8)\n",
    "        train_losses, test_losses=batch_gd_scheduler(model, new_model_name, criterion, \n",
    "                                                     optimizer,train_loader, val_loader,\n",
    "                                                      scheduler, epochs, \n",
    "                                                       device = device, cnn=cnn)\n",
    "        return train_losses, test_losses\n",
    "    else:\n",
    "        if torch.cuda.is_available():\n",
    "            trained_model = torch.load(load_model_weight)     \n",
    "        else:\n",
    "            trained_model = torch.load(load_model_weight, map_location=torch.device('cpu'))       \n",
    "        return trained_model"
   ]
  },
  {
   "cell_type": "code",
   "execution_count": 17,
   "id": "224ddc91",
   "metadata": {
    "execution": {
     "iopub.execute_input": "2024-05-05T05:20:16.648618Z",
     "iopub.status.busy": "2024-05-05T05:20:16.647851Z",
     "iopub.status.idle": "2024-05-05T05:20:16.653715Z",
     "shell.execute_reply": "2024-05-05T05:20:16.653058Z"
    },
    "papermill": {
     "duration": 0.016843,
     "end_time": "2024-05-05T05:20:16.655578",
     "exception": false,
     "start_time": "2024-05-05T05:20:16.638735",
     "status": "completed"
    },
    "tags": []
   },
   "outputs": [],
   "source": [
    "def load_and_retrain(load_model_weight, new_model_name, epochs, cnn=False):\n",
    "    trained_model = torch.load(load_model_weight) \n",
    "    #criterion = nn.MSELoss()\n",
    "    criterion = nn.HuberLoss()\n",
    "    optimizer = torch.optim.AdamW(trained_model.parameters(),lr=0.0001)\n",
    "    scheduler = lr_scheduler.ReduceLROnPlateau(optimizer, 'min', factor=0.5, min_lr = 5e-7)\n",
    "    trained_model.train()\n",
    "    train_losses, test_losses=batch_gd_scheduler(trained_model,new_model_name, criterion, optimizer,\n",
    "                                                 train_loader, val_loader, \n",
    "                                                 scheduler, epochs, \n",
    "                                                 device = device, cnn=cnn)\n",
    "    return trained_model, train_losses, test_losses"
   ]
  },
  {
   "cell_type": "code",
   "execution_count": 18,
   "id": "0ce50d68",
   "metadata": {
    "execution": {
     "iopub.execute_input": "2024-05-05T05:20:16.673854Z",
     "iopub.status.busy": "2024-05-05T05:20:16.673584Z",
     "iopub.status.idle": "2024-05-05T05:20:16.677896Z",
     "shell.execute_reply": "2024-05-05T05:20:16.677086Z"
    },
    "papermill": {
     "duration": 0.015674,
     "end_time": "2024-05-05T05:20:16.679807",
     "exception": false,
     "start_time": "2024-05-05T05:20:16.664133",
     "status": "completed"
    },
    "tags": []
   },
   "outputs": [],
   "source": [
    "def plot_losses(train_losses, test_losses):\n",
    "    # Plot the train loss and test loss per iteration\n",
    "    plt.plot(train_losses, label='train loss')\n",
    "    plt.plot(test_losses, label='val loss')\n",
    "    plt.legend()\n",
    "    plt.show()"
   ]
  },
  {
   "cell_type": "code",
   "execution_count": 19,
   "id": "ae902d51",
   "metadata": {
    "execution": {
     "iopub.execute_input": "2024-05-05T05:20:16.697769Z",
     "iopub.status.busy": "2024-05-05T05:20:16.697517Z",
     "iopub.status.idle": "2024-05-05T05:20:16.701400Z",
     "shell.execute_reply": "2024-05-05T05:20:16.700536Z"
    },
    "papermill": {
     "duration": 0.014923,
     "end_time": "2024-05-05T05:20:16.703174",
     "exception": false,
     "start_time": "2024-05-05T05:20:16.688251",
     "status": "completed"
    },
    "tags": []
   },
   "outputs": [],
   "source": [
    "if not os.path.exists('saved_models'):\n",
    "    os.makedirs('saved_models')"
   ]
  },
  {
   "cell_type": "code",
   "execution_count": 20,
   "id": "213c6ba2",
   "metadata": {
    "execution": {
     "iopub.execute_input": "2024-05-05T05:20:16.720961Z",
     "iopub.status.busy": "2024-05-05T05:20:16.720723Z",
     "iopub.status.idle": "2024-05-05T05:20:16.732698Z",
     "shell.execute_reply": "2024-05-05T05:20:16.731920Z"
    },
    "papermill": {
     "duration": 0.022843,
     "end_time": "2024-05-05T05:20:16.734438",
     "exception": false,
     "start_time": "2024-05-05T05:20:16.711595",
     "status": "completed"
    },
    "tags": []
   },
   "outputs": [],
   "source": [
    "################## GET PREDICTIONS + ACCURACY #####################\n",
    "def get_pred_n_acc(models, device, dataloader, num_iter):\n",
    "    i = 0\n",
    "    ypreds =[]\n",
    "    targets = []\n",
    "    #The last batch might not have size 128\n",
    "    while i< num_iter:\n",
    "        for data, target in dataloader:\n",
    "            #this empty list is to hold all models' preds\n",
    "            ypred = []    \n",
    "            data= data.to(device)\n",
    "            data = data.to(torch.float32)\n",
    "            target = target.to(torch.float32)\n",
    "            #append the 'i^th' target\n",
    "            targets.append(target)\n",
    "            for model in models:\n",
    "                model.eval()\n",
    "                yp = model(data)\n",
    "                yp = yp.detach().cpu().numpy()\n",
    "                ypred.append(yp)\n",
    "            #take the mean of all models' predictions\n",
    "            ypred = np.array(ypred).mean(axis = 0)\n",
    "            ypred = np.round(ypred)\n",
    "            i+=1\n",
    "            #append ypred, targets inside the 'i' loop\n",
    "            # append the 'i^th' mean prediction\n",
    "            ypreds.append(ypred)   \n",
    "            if i == num_iter:\n",
    "                break \n",
    "     #Do not convert ypreds, targets to np.array at this point,\n",
    "    #since the last batch has a different size, causing an error !\n",
    "    #CALCULATING ACCURACY    \n",
    "    yp =  np.concatenate([ypreds[j] for j in range(len(ypreds))], axis = 0)\n",
    "    tgs =  np.concatenate([targets[j] for j in range(len(targets))], axis = 0)\n",
    "    h11_acc = ((yp[:,0] == tgs[:,0]).sum())/len(yp)\n",
    "    h21_acc = ((yp[:,1] == tgs[:,1]).sum())/len(yp)\n",
    "    h31_acc = ((yp[:,2] == tgs[:,2]).sum())/len(yp)\n",
    "    h22_acc = ((yp[:,3] == tgs[:,3]).sum())/len(yp)\n",
    "    acc = [h11_acc*100,h21_acc*100,h31_acc*100,h22_acc*100 ]\n",
    "    return  yp, tgs, acc\n"
   ]
  },
  {
   "cell_type": "markdown",
   "id": "7d4e488e",
   "metadata": {
    "papermill": {
     "duration": 0.008378,
     "end_time": "2024-05-05T05:20:16.751327",
     "exception": false,
     "start_time": "2024-05-05T05:20:16.742949",
     "status": "completed"
    },
    "tags": []
   },
   "source": [
    "# Load trained model and verify accuracies"
   ]
  },
  {
   "cell_type": "code",
   "execution_count": 21,
   "id": "41b99171",
   "metadata": {
    "execution": {
     "iopub.execute_input": "2024-05-05T05:20:16.769365Z",
     "iopub.status.busy": "2024-05-05T05:20:16.769111Z",
     "iopub.status.idle": "2024-05-05T10:05:13.620013Z",
     "shell.execute_reply": "2024-05-05T10:05:13.619016Z"
    },
    "papermill": {
     "duration": 17096.880689,
     "end_time": "2024-05-05T10:05:13.640602",
     "exception": false,
     "start_time": "2024-05-05T05:20:16.759913",
     "status": "completed"
    },
    "tags": []
   },
   "outputs": [
    {
     "name": "stdout",
     "output_type": "stream",
     "text": [
      "Model saved as CNN-LSTM-384 at epoch 0\n",
      "Epoch: 1/550, train loss:  5.785, val_loss:  5.006, duration: 0:00:55.995379, learning rate: (0.01, 0.01)\n",
      "Model overwritten at epoch 1, new best val loss 4.307463066498018\n",
      "Model overwritten at epoch 4, new best val loss 4.2096149341139215\n",
      "Model overwritten at epoch 5, new best val loss 4.083890312352929\n",
      "Model overwritten at epoch 6, new best val loss 3.9494766608747858\n",
      "Model overwritten at epoch 8, new best val loss 3.883107645381275\n",
      "Epoch: 11/550, train loss:  4.111, val_loss:  4.094, duration: 0:00:54.783263, learning rate: (0.01, 0.01)\n",
      "Model overwritten at epoch 19, new best val loss 3.8279577790113986\n",
      "Epoch: 21/550, train loss:  4.013, val_loss:  4.072, duration: 0:00:55.804766, learning rate: (0.01, 0.01)\n",
      "Epoch: 31/550, train loss:  3.999, val_loss:  3.881, duration: 0:00:55.861756, learning rate: (0.01, 0.001)\n",
      "Model overwritten at epoch 31, new best val loss 3.336682012682449\n",
      "Model overwritten at epoch 32, new best val loss 3.280607351340104\n",
      "Model overwritten at epoch 33, new best val loss 3.2370965707869757\n",
      "Model overwritten at epoch 34, new best val loss 3.2216305068350763\n",
      "Model overwritten at epoch 35, new best val loss 3.1987370401883672\n",
      "Model overwritten at epoch 36, new best val loss 3.1895420324234736\n",
      "Model overwritten at epoch 37, new best val loss 3.1752242608886125\n",
      "Model overwritten at epoch 38, new best val loss 3.1534577008908387\n",
      "Model overwritten at epoch 40, new best val loss 3.1378807781865357\n",
      "Epoch: 41/550, train loss:  3.055, val_loss:  3.138, duration: 0:00:55.742790, learning rate: (0.001, 0.001)\n",
      "Model overwritten at epoch 41, new best val loss 3.127192984182368\n",
      "Model overwritten at epoch 42, new best val loss 3.1247911091624534\n",
      "Model overwritten at epoch 45, new best val loss 3.1121443756042964\n",
      "Model overwritten at epoch 46, new best val loss 3.1042110755960777\n",
      "Model overwritten at epoch 47, new best val loss 3.0769935974578586\n",
      "Epoch: 51/550, train loss:  2.975, val_loss:  3.163, duration: 0:00:55.445357, learning rate: (0.001, 0.001)\n",
      "Model overwritten at epoch 54, new best val loss 3.064942419634084\n",
      "Model overwritten at epoch 56, new best val loss 3.0356555952176425\n",
      "Epoch: 61/550, train loss:  2.940, val_loss:  3.228, duration: 0:00:55.605582, learning rate: (0.001, 0.001)\n",
      "Model overwritten at epoch 66, new best val loss 3.0346510284161443\n",
      "Model overwritten at epoch 68, new best val loss 3.0122089877961176\n",
      "Epoch: 71/550, train loss:  2.932, val_loss:  3.309, duration: 0:00:55.823721, learning rate: (0.001, 0.001)\n",
      "Model overwritten at epoch 79, new best val loss 3.0093494268952226\n",
      "Epoch: 81/550, train loss:  2.900, val_loss:  3.092, duration: 0:00:55.539928, learning rate: (0.001, 0.001)\n",
      "Model overwritten at epoch 85, new best val loss 3.003464938471557\n",
      "Model overwritten at epoch 86, new best val loss 2.9555433734173917\n",
      "Model overwritten at epoch 87, new best val loss 2.8406369311889432\n",
      "Model overwritten at epoch 89, new best val loss 2.6850396630204756\n",
      "Model overwritten at epoch 90, new best val loss 2.636989753082316\n",
      "Epoch: 91/550, train loss:  2.572, val_loss:  2.637, duration: 0:00:54.539628, learning rate: (0.001, 0.001)\n",
      "Model overwritten at epoch 92, new best val loss 2.467341811358403\n",
      "Model overwritten at epoch 93, new best val loss 2.402393649494837\n",
      "Model overwritten at epoch 94, new best val loss 2.261920244395207\n",
      "Model overwritten at epoch 95, new best val loss 2.0492905321575345\n",
      "Model overwritten at epoch 97, new best val loss 1.9084899793436498\n",
      "Model overwritten at epoch 98, new best val loss 1.7464166327759072\n",
      "Model overwritten at epoch 99, new best val loss 1.719713037817146\n",
      "Model overwritten at epoch 100, new best val loss 1.6162288121655715\n",
      "Epoch: 101/550, train loss:  1.601, val_loss:  1.616, duration: 0:00:54.545362, learning rate: (0.001, 0.001)\n",
      "Model overwritten at epoch 101, new best val loss 1.5949384791930936\n",
      "Model overwritten at epoch 102, new best val loss 1.5831345391231448\n",
      "Model overwritten at epoch 103, new best val loss 1.5498195077166146\n",
      "Model overwritten at epoch 104, new best val loss 1.42616410019957\n",
      "Model overwritten at epoch 105, new best val loss 1.400005637863536\n",
      "Model overwritten at epoch 106, new best val loss 1.2715972051208402\n",
      "Model overwritten at epoch 110, new best val loss 1.2046307800518352\n",
      "Epoch: 111/550, train loss:  1.151, val_loss:  1.205, duration: 0:00:54.549177, learning rate: (0.001, 0.001)\n",
      "Model overwritten at epoch 112, new best val loss 1.1755719108135823\n",
      "Model overwritten at epoch 114, new best val loss 1.106265392253008\n",
      "Model overwritten at epoch 116, new best val loss 1.0777092451981978\n",
      "Model overwritten at epoch 118, new best val loss 1.0252646781780101\n",
      "Model overwritten at epoch 120, new best val loss 0.999406094378685\n",
      "Epoch: 121/550, train loss:  0.920, val_loss:  0.999, duration: 0:00:55.770180, learning rate: (0.001, 0.001)\n",
      "Model overwritten at epoch 121, new best val loss 0.9904689554394448\n",
      "Model overwritten at epoch 123, new best val loss 0.9425847682793094\n",
      "Model overwritten at epoch 124, new best val loss 0.9390224933203776\n",
      "Model overwritten at epoch 125, new best val loss 0.9343360978880046\n",
      "Model overwritten at epoch 126, new best val loss 0.9277096132122019\n",
      "Model overwritten at epoch 127, new best val loss 0.9185230954824511\n",
      "Model overwritten at epoch 128, new best val loss 0.8528551728426884\n",
      "Epoch: 131/550, train loss:  0.763, val_loss:  0.926, duration: 0:00:55.682941, learning rate: (0.001, 0.001)\n",
      "Model overwritten at epoch 134, new best val loss 0.8392561860185451\n",
      "Model overwritten at epoch 138, new best val loss 0.749504998825635\n",
      "Epoch: 141/550, train loss:  0.641, val_loss:  0.858, duration: 0:00:54.583427, learning rate: (0.001, 0.001)\n",
      "Model overwritten at epoch 141, new best val loss 0.7059544502006847\n",
      "Model overwritten at epoch 145, new best val loss 0.667433792636508\n",
      "Model overwritten at epoch 149, new best val loss 0.6591955649369188\n",
      "Epoch: 151/550, train loss:  0.559, val_loss:  0.672, duration: 0:00:55.586362, learning rate: (0.001, 0.001)\n",
      "Model overwritten at epoch 153, new best val loss 0.5928591163911097\n",
      "Epoch: 161/550, train loss:  0.509, val_loss:  0.630, duration: 0:00:55.690747, learning rate: (0.001, 0.001)\n",
      "Model overwritten at epoch 163, new best val loss 0.5725087086149414\n",
      "Model overwritten at epoch 166, new best val loss 0.545460802327178\n",
      "Model overwritten at epoch 167, new best val loss 0.5315197745380789\n",
      "Epoch: 171/550, train loss:  0.439, val_loss:  0.650, duration: 0:00:55.658173, learning rate: (0.001, 0.001)\n",
      "Model overwritten at epoch 171, new best val loss 0.5117228504211183\n",
      "Model overwritten at epoch 176, new best val loss 0.4745382539914819\n",
      "Epoch: 181/550, train loss:  0.412, val_loss:  0.475, duration: 0:00:55.765435, learning rate: (0.001, 0.001)\n",
      "Model overwritten at epoch 188, new best val loss 0.28044074645012984\n",
      "Model overwritten at epoch 189, new best val loss 0.26103589388113174\n",
      "Model overwritten at epoch 190, new best val loss 0.24702974946305445\n",
      "Epoch: 191/550, train loss:  0.137, val_loss:  0.247, duration: 0:00:55.044565, learning rate: (0.0001, 0.0001)\n",
      "Model overwritten at epoch 191, new best val loss 0.24248119270202345\n",
      "Model overwritten at epoch 192, new best val loss 0.23515827267888992\n",
      "Model overwritten at epoch 193, new best val loss 0.2332642930617303\n",
      "Model overwritten at epoch 194, new best val loss 0.22697080569292502\n",
      "Model overwritten at epoch 196, new best val loss 0.22167524879361378\n",
      "Model overwritten at epoch 197, new best val loss 0.2191021981562046\n",
      "Model overwritten at epoch 198, new best val loss 0.21833552818292032\n",
      "Model overwritten at epoch 199, new best val loss 0.21808874563723013\n",
      "Model overwritten at epoch 200, new best val loss 0.2159601392674488\n",
      "Epoch: 201/550, train loss:  0.077, val_loss:  0.216, duration: 0:00:55.815671, learning rate: (0.0001, 0.0001)\n",
      "Model overwritten at epoch 201, new best val loss 0.21568364755133893\n",
      "Model overwritten at epoch 202, new best val loss 0.2132533726198648\n",
      "Model overwritten at epoch 204, new best val loss 0.2115263951255741\n",
      "Model overwritten at epoch 206, new best val loss 0.2107643709112307\n",
      "Model overwritten at epoch 207, new best val loss 0.2093081843416737\n",
      "Model overwritten at epoch 210, new best val loss 0.2081798186141347\n",
      "Epoch: 211/550, train loss:  0.058, val_loss:  0.208, duration: 0:00:55.984692, learning rate: (0.0001, 0.0001)\n",
      "Model overwritten at epoch 211, new best val loss 0.20735282454856488\n",
      "Model overwritten at epoch 212, new best val loss 0.2064067588649309\n",
      "Model overwritten at epoch 215, new best val loss 0.20443215688963207\n",
      "Epoch: 221/550, train loss:  0.049, val_loss:  0.205, duration: 0:00:55.803275, learning rate: (0.0001, 0.0001)\n",
      "Model overwritten at epoch 222, new best val loss 0.20253448065442592\n",
      "Model overwritten at epoch 230, new best val loss 0.20154596827727148\n",
      "Epoch: 231/550, train loss:  0.044, val_loss:  0.202, duration: 0:00:55.841164, learning rate: (0.0001, 0.0001)\n",
      "Model overwritten at epoch 235, new best val loss 0.2014732014722925\n",
      "Model overwritten at epoch 238, new best val loss 0.19999007084382275\n",
      "Epoch: 241/550, train loss:  0.040, val_loss:  0.202, duration: 0:00:54.674182, learning rate: (0.0001, 0.0001)\n",
      "Model overwritten at epoch 241, new best val loss 0.19984408153953587\n",
      "Model overwritten at epoch 250, new best val loss 0.19951866275419003\n",
      "Epoch: 251/550, train loss:  0.039, val_loss:  0.200, duration: 0:00:54.840762, learning rate: (0.0001, 0.0001)\n",
      "Model overwritten at epoch 260, new best val loss 0.19883921431012885\n",
      "Epoch: 261/550, train loss:  0.038, val_loss:  0.199, duration: 0:00:54.923942, learning rate: (0.0001, 0.0001)\n",
      "Epoch: 271/550, train loss:  0.037, val_loss:  0.200, duration: 0:00:54.881314, learning rate: (0.0001, 0.0001)\n",
      "Model overwritten at epoch 271, new best val loss 0.19853895522877443\n",
      "Model overwritten at epoch 272, new best val loss 0.19800489234230506\n",
      "Epoch: 281/550, train loss:  0.037, val_loss:  0.201, duration: 0:00:54.852567, learning rate: (0.0001, 0.0001)\n",
      "Model overwritten at epoch 284, new best val loss 0.18998500752070593\n",
      "Model overwritten at epoch 285, new best val loss 0.18994309102732038\n",
      "Model overwritten at epoch 286, new best val loss 0.18945937248265513\n",
      "Model overwritten at epoch 287, new best val loss 0.18935391807524615\n",
      "Epoch: 291/550, train loss:  0.016, val_loss:  0.191, duration: 0:00:55.018426, learning rate: (1e-05, 1e-05)\n",
      "Epoch: 301/550, train loss:  0.014, val_loss:  0.190, duration: 0:00:54.934785, learning rate: (1.0000000000000002e-06, 1.0000000000000002e-06)\n",
      "Max patience reached, training is terminated at epoch 308\n"
     ]
    }
   ],
   "source": [
    "load_model_weight = None\n",
    "epochs = 550\n",
    "new_model_name = 'CNN-LSTM-384'\n",
    "if load_model_weight is None:   \n",
    "    train_losses, test_losses=train_from_scratch_or_load(load_model_weight,new_model_name,  epochs, cnn = False)\n",
    "else:\n",
    "    trained_model_v00 = train_from_scratch_or_load(load_model_weight, new_model_name, epochs, cnn = False)\n",
    "    #Train accuracy\n",
    "    yt, tgt, acct = get_pred_n_acc([trained_model_v00], device, train_loader, num_iter = len(train_loader))\n",
    "    #validation accuracy\n",
    "    yv, tgv, accv = get_pred_n_acc([trained_model_v00], device, val_loader, num_iter = len(val_loader))\n",
    "    print(f'Train data, target shapes: {yt.shape, tgt.shape},\\n train accuracies {acct}')\n",
    "    print(f'Validation data, target shapes: {yv.shape, tgv.shape},\\n validation accuracies {accv}')\n",
    "    #Test accuracy\n",
    "    yts, tgts, accts = get_pred_n_acc([trained_model_v00], device, test_loader, num_iter = len(test_loader))\n",
    "    print(f'Test data, target shapes: {yts.shape, tgts.shape},\\n test accuracies {accts}')"
   ]
  },
  {
   "cell_type": "code",
   "execution_count": 22,
   "id": "db6b09bd",
   "metadata": {
    "execution": {
     "iopub.execute_input": "2024-05-05T10:05:13.677738Z",
     "iopub.status.busy": "2024-05-05T10:05:13.677432Z",
     "iopub.status.idle": "2024-05-05T10:05:13.681466Z",
     "shell.execute_reply": "2024-05-05T10:05:13.680576Z"
    },
    "papermill": {
     "duration": 0.024912,
     "end_time": "2024-05-05T10:05:13.683362",
     "exception": false,
     "start_time": "2024-05-05T10:05:13.658450",
     "status": "completed"
    },
    "tags": []
   },
   "outputs": [],
   "source": [
    "# (Re)train loop"
   ]
  },
  {
   "cell_type": "code",
   "execution_count": 23,
   "id": "48daa367",
   "metadata": {
    "execution": {
     "iopub.execute_input": "2024-05-05T10:05:13.720511Z",
     "iopub.status.busy": "2024-05-05T10:05:13.720218Z",
     "iopub.status.idle": "2024-05-05T10:05:13.724022Z",
     "shell.execute_reply": "2024-05-05T10:05:13.723101Z"
    },
    "papermill": {
     "duration": 0.02469,
     "end_time": "2024-05-05T10:05:13.726094",
     "exception": false,
     "start_time": "2024-05-05T10:05:13.701404",
     "status": "completed"
    },
    "tags": []
   },
   "outputs": [],
   "source": [
    "#trained_model_v01, train_losses, test_losses = load_and_retrain(load_model_weight, new_model_name, epochs, cnn=False)"
   ]
  },
  {
   "cell_type": "code",
   "execution_count": 24,
   "id": "28093b43",
   "metadata": {
    "execution": {
     "iopub.execute_input": "2024-05-05T10:05:13.763395Z",
     "iopub.status.busy": "2024-05-05T10:05:13.763150Z",
     "iopub.status.idle": "2024-05-05T10:05:13.781432Z",
     "shell.execute_reply": "2024-05-05T10:05:13.780451Z"
    },
    "papermill": {
     "duration": 0.038937,
     "end_time": "2024-05-05T10:05:13.783298",
     "exception": false,
     "start_time": "2024-05-05T10:05:13.744361",
     "status": "completed"
    },
    "tags": []
   },
   "outputs": [
    {
     "data": {
      "text/html": [
       "<div>\n",
       "<style scoped>\n",
       "    .dataframe tbody tr th:only-of-type {\n",
       "        vertical-align: middle;\n",
       "    }\n",
       "\n",
       "    .dataframe tbody tr th {\n",
       "        vertical-align: top;\n",
       "    }\n",
       "\n",
       "    .dataframe thead th {\n",
       "        text-align: right;\n",
       "    }\n",
       "</style>\n",
       "<table border=\"1\" class=\"dataframe\">\n",
       "  <thead>\n",
       "    <tr style=\"text-align: right;\">\n",
       "      <th></th>\n",
       "      <th>train_loss</th>\n",
       "      <th>val_loss</th>\n",
       "    </tr>\n",
       "  </thead>\n",
       "  <tbody>\n",
       "    <tr>\n",
       "      <th>0</th>\n",
       "      <td>5.785324</td>\n",
       "      <td>5.005508</td>\n",
       "    </tr>\n",
       "    <tr>\n",
       "      <th>1</th>\n",
       "      <td>4.700519</td>\n",
       "      <td>4.307463</td>\n",
       "    </tr>\n",
       "    <tr>\n",
       "      <th>2</th>\n",
       "      <td>4.564378</td>\n",
       "      <td>5.335253</td>\n",
       "    </tr>\n",
       "    <tr>\n",
       "      <th>3</th>\n",
       "      <td>4.444065</td>\n",
       "      <td>4.391352</td>\n",
       "    </tr>\n",
       "    <tr>\n",
       "      <th>4</th>\n",
       "      <td>4.402752</td>\n",
       "      <td>4.209615</td>\n",
       "    </tr>\n",
       "  </tbody>\n",
       "</table>\n",
       "</div>"
      ],
      "text/plain": [
       "   train_loss  val_loss\n",
       "0    5.785324  5.005508\n",
       "1    4.700519  4.307463\n",
       "2    4.564378  5.335253\n",
       "3    4.444065  4.391352\n",
       "4    4.402752  4.209615"
      ]
     },
     "execution_count": 24,
     "metadata": {},
     "output_type": "execute_result"
    }
   ],
   "source": [
    "import pandas as pd\n",
    "loss_dict = {'train_loss': train_losses, 'val_loss': test_losses}\n",
    "dd = pd.DataFrame(loss_dict)\n",
    "dd.to_csv('loss_dict.csv', index = False)\n",
    "dd.head()"
   ]
  },
  {
   "cell_type": "code",
   "execution_count": 25,
   "id": "68c31c8e",
   "metadata": {
    "execution": {
     "iopub.execute_input": "2024-05-05T10:05:13.821170Z",
     "iopub.status.busy": "2024-05-05T10:05:13.820896Z",
     "iopub.status.idle": "2024-05-05T10:05:14.148525Z",
     "shell.execute_reply": "2024-05-05T10:05:14.147582Z"
    },
    "papermill": {
     "duration": 0.348964,
     "end_time": "2024-05-05T10:05:14.150546",
     "exception": false,
     "start_time": "2024-05-05T10:05:13.801582",
     "status": "completed"
    },
    "tags": []
   },
   "outputs": [
    {
     "data": {
      "image/png": "[encoded data removed]",
      "text/plain": [
       "<Figure size 640x480 with 1 Axes>"
      ]
     },
     "metadata": {},
     "output_type": "display_data"
    }
   ],
   "source": [
    "plot_losses(train_losses, test_losses)"
   ]
  },
  {
   "cell_type": "markdown",
   "id": "68ad5c6a",
   "metadata": {
    "papermill": {
     "duration": 0.019974,
     "end_time": "2024-05-05T10:05:14.190030",
     "exception": false,
     "start_time": "2024-05-05T10:05:14.170056",
     "status": "completed"
    },
    "tags": []
   },
   "source": [
    "# Train, validation, test accuracies"
   ]
  },
  {
   "cell_type": "code",
   "execution_count": 26,
   "id": "b88227b0",
   "metadata": {
    "execution": {
     "iopub.execute_input": "2024-05-05T10:05:14.228278Z",
     "iopub.status.busy": "2024-05-05T10:05:14.227953Z",
     "iopub.status.idle": "2024-05-05T10:05:40.050419Z",
     "shell.execute_reply": "2024-05-05T10:05:40.049333Z"
    },
    "papermill": {
     "duration": 25.843889,
     "end_time": "2024-05-05T10:05:40.052463",
     "exception": false,
     "start_time": "2024-05-05T10:05:14.208574",
     "status": "completed"
    },
    "tags": []
   },
   "outputs": [
    {
     "name": "stdout",
     "output_type": "stream",
     "text": [
      "Train data, target shapes: ((652092, 4), (652092, 4)),\n",
      " train accuracies [99.89311324168982, 98.96517669285929, 99.712463885464, 96.68605043460126]\n",
      "Validation data, target shapes: ((72455, 4), (72455, 4)),\n",
      " validation accuracies [99.0573459388586, 94.71120005520667, 87.80622455317094, 62.43047408736457]\n"
     ]
    }
   ],
   "source": [
    "#Train accuracy\n",
    "yt, tgt, acct = get_pred_n_acc([model], device, train_loader, num_iter = len(train_loader))\n",
    "#validation accuracy\n",
    "yv, tgv, accv = get_pred_n_acc([model], device, val_loader, num_iter = len(val_loader))\n",
    "print(f'Train data, target shapes: {yt.shape, tgt.shape},\\n train accuracies {acct}')\n",
    "print(f'Validation data, target shapes: {yv.shape, tgv.shape},\\n validation accuracies {accv}')"
   ]
  },
  {
   "cell_type": "code",
   "execution_count": 27,
   "id": "102cd15c",
   "metadata": {
    "execution": {
     "iopub.execute_input": "2024-05-05T10:05:40.092703Z",
     "iopub.status.busy": "2024-05-05T10:05:40.091974Z",
     "iopub.status.idle": "2024-05-05T10:05:46.341563Z",
     "shell.execute_reply": "2024-05-05T10:05:46.340612Z"
    },
    "papermill": {
     "duration": 6.271707,
     "end_time": "2024-05-05T10:05:46.343694",
     "exception": false,
     "start_time": "2024-05-05T10:05:40.071987",
     "status": "completed"
    },
    "tags": []
   },
   "outputs": [
    {
     "name": "stdout",
     "output_type": "stream",
     "text": [
      "Test data, target shapes: ((181137, 4), (181137, 4)),\n",
      " test accuracies [99.1476065077814, 94.78405847507688, 87.87437133219608, 62.422917460264884]\n"
     ]
    }
   ],
   "source": [
    "#Test accuracy\n",
    "yts, tgts, accts = get_pred_n_acc([model], device, test_loader, num_iter = len(test_loader))\n",
    "print(f'Test data, target shapes: {yts.shape, tgts.shape},\\n test accuracies {accts}')"
   ]
  }
 ],
 "metadata": {
  "kaggle": {
   "accelerator": "gpu",
   "dataSources": [
    {
     "sourceId": 174871011,
     "sourceType": "kernelVersion"
    }
   ],
   "dockerImageVersionId": 30683,
   "isGpuEnabled": true,
   "isInternetEnabled": true,
   "language": "python",
   "sourceType": "notebook"
  },
  "kernelspec": {
   "display_name": "Python 3",
   "language": "python",
   "name": "python3"
  },
  "language_info": {
   "codemirror_mode": {
    "name": "ipython",
    "version": 3
   },
   "file_extension": ".py",
   "mimetype": "text/x-python",
   "name": "python",
   "nbconvert_exporter": "python",
   "pygments_lexer": "ipython3",
   "version": "3.10.13"
  },
  "papermill": {
   "default_parameters": {},
   "duration": 17152.882729,
   "end_time": "2024-05-05T10:05:48.020021",
   "environment_variables": {},
   "exception": null,
   "input_path": "__notebook__.ipynb",
   "output_path": "__notebook__.ipynb",
   "parameters": {},
   "start_time": "2024-05-05T05:19:55.137292",
   "version": "2.5.0"
  }
 },
 "nbformat": 4,
 "nbformat_minor": 5
}
