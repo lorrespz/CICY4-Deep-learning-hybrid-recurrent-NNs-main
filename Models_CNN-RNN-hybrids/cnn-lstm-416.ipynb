{
 "cells": [
  {
   "cell_type": "markdown",
   "id": "c80e50f9",
   "metadata": {
    "papermill": {
     "duration": 0.008742,
     "end_time": "2024-05-04T16:06:44.280289",
     "exception": false,
     "start_time": "2024-05-04T16:06:44.271547",
     "status": "completed"
    },
    "tags": []
   },
   "source": [
    "# CICY4: CNN-LSTM-416 for learning 4 Hodge numbers \n",
    "\n",
    "- Version < 10: Models trained with old data. V10: ran with error. \n",
    "\n",
    "- V11: Standard CNN + LSTM layer with parameters (20,256,2,4). \n",
    "- V12: Standard CNN + LSTM layer with parameters (20,400,2,4). \n",
    "- V12: Standard CNN + LSTM layer with parameters (20,416,2,4). \n",
    "\n",
    "- Note: The standard CNN used has the output feature vector of 384 with the following configuration:\n",
    "    - nn.Flatten(F.relu(nn.Sequential(nn.Conv2d(1,128, 4, 1),\n",
    "                nn.MaxPool2d(2,2),\n",
    "                nn.Conv2d(128, 64, 3, 1),\n",
    "                nn.MaxPool2d(2,2)))\n",
    "     "
   ]
  },
  {
   "cell_type": "code",
   "execution_count": 1,
   "id": "8d2b31ae",
   "metadata": {
    "_cell_guid": "b1076dfc-b9ad-4769-8c92-a6c4dae69d19",
    "_uuid": "8f2839f25d086af736a60e9eeb907d3b93b6e0e5",
    "execution": {
     "iopub.execute_input": "2024-05-04T16:06:44.298063Z",
     "iopub.status.busy": "2024-05-04T16:06:44.297763Z",
     "iopub.status.idle": "2024-05-04T16:06:49.464930Z",
     "shell.execute_reply": "2024-05-04T16:06:49.464171Z"
    },
    "papermill": {
     "duration": 5.178684,
     "end_time": "2024-05-04T16:06:49.467311",
     "exception": false,
     "start_time": "2024-05-04T16:06:44.288627",
     "status": "completed"
    },
    "tags": []
   },
   "outputs": [],
   "source": [
    "import numpy as np\n",
    "import pandas as pd\n",
    "import random\n",
    "import os as os\n",
    "import matplotlib.pyplot as plt\n",
    "import seaborn as sns\n",
    "from datetime import datetime\n",
    "sns.set_style(\"darkgrid\")\n",
    "\n",
    "import torch\n",
    "import torch.nn as nn\n",
    "import torch.nn.functional as F\n",
    "import torch.optim.lr_scheduler as lr_scheduler"
   ]
  },
  {
   "cell_type": "code",
   "execution_count": 2,
   "id": "08705a3b",
   "metadata": {
    "execution": {
     "iopub.execute_input": "2024-05-04T16:06:49.486535Z",
     "iopub.status.busy": "2024-05-04T16:06:49.486105Z",
     "iopub.status.idle": "2024-05-04T16:06:49.530553Z",
     "shell.execute_reply": "2024-05-04T16:06:49.529677Z"
    },
    "papermill": {
     "duration": 0.056139,
     "end_time": "2024-05-04T16:06:49.532793",
     "exception": false,
     "start_time": "2024-05-04T16:06:49.476654",
     "status": "completed"
    },
    "tags": []
   },
   "outputs": [
    {
     "name": "stdout",
     "output_type": "stream",
     "text": [
      "cuda:0\n"
     ]
    }
   ],
   "source": [
    "device = torch.device(\"cuda:0\" if torch.cuda.is_available() else \"cpu\")\n",
    "print(device)"
   ]
  },
  {
   "cell_type": "code",
   "execution_count": 3,
   "id": "e123609e",
   "metadata": {
    "execution": {
     "iopub.execute_input": "2024-05-04T16:06:49.550678Z",
     "iopub.status.busy": "2024-05-04T16:06:49.550401Z",
     "iopub.status.idle": "2024-05-04T16:06:49.557962Z",
     "shell.execute_reply": "2024-05-04T16:06:49.557322Z"
    },
    "papermill": {
     "duration": 0.018493,
     "end_time": "2024-05-04T16:06:49.559715",
     "exception": false,
     "start_time": "2024-05-04T16:06:49.541222",
     "status": "completed"
    },
    "tags": []
   },
   "outputs": [],
   "source": [
    "seed = 42\n",
    "\n",
    "def seed_everything(seed):\n",
    "    random.seed(seed)\n",
    "    os.environ['PYTHONHASHSEED'] = str(seed)\n",
    "    np.random.seed(seed)\n",
    "    torch.manual_seed(seed)\n",
    "    torch.cuda.manual_seed(seed)\n",
    "    torch.cuda.manual_seed_all(seed)\n",
    "    torch.backends.cudnn.deterministic = True\n",
    "\n",
    "seed_everything(seed)"
   ]
  },
  {
   "cell_type": "markdown",
   "id": "3072abd8",
   "metadata": {
    "papermill": {
     "duration": 0.008203,
     "end_time": "2024-05-04T16:06:49.576144",
     "exception": false,
     "start_time": "2024-05-04T16:06:49.567941",
     "status": "completed"
    },
    "tags": []
   },
   "source": [
    "# CNN-LSTM network architecture"
   ]
  },
  {
   "cell_type": "code",
   "execution_count": 4,
   "id": "e5378f37",
   "metadata": {
    "execution": {
     "iopub.execute_input": "2024-05-04T16:06:49.594753Z",
     "iopub.status.busy": "2024-05-04T16:06:49.594490Z",
     "iopub.status.idle": "2024-05-04T16:06:49.600760Z",
     "shell.execute_reply": "2024-05-04T16:06:49.600040Z"
    },
    "papermill": {
     "duration": 0.018084,
     "end_time": "2024-05-04T16:06:49.602533",
     "exception": false,
     "start_time": "2024-05-04T16:06:49.584449",
     "status": "completed"
    },
    "tags": []
   },
   "outputs": [],
   "source": [
    "##################### CNN ###############################\n",
    "class CNN_block(nn.Module):  \n",
    "    def __init__(self):\n",
    "        super().__init__()\n",
    "        self.conv1 = nn.Conv2d(1,128, 4, 1)\n",
    "        self.conv2 = nn.Conv2d(128, 64, 3, 1)\n",
    "        self.mxpool = nn.MaxPool2d(2,2)\n",
    "        self.flat = nn.Flatten()\n",
    "        self.conv_total = nn.Sequential(\n",
    "            self.conv1,\n",
    "            self.mxpool,\n",
    "            self.conv2,\n",
    "            self.mxpool\n",
    "        )\n",
    "    def forward(self,x):\n",
    "        x = F.relu(self.conv_total(x))\n",
    "        #reshape is the same as flat(x)\n",
    "        #x = x.reshape(x.shape[0], -1)\n",
    "        x = self.flat(x)   \n",
    "        return x"
   ]
  },
  {
   "cell_type": "code",
   "execution_count": 5,
   "id": "15c43be4",
   "metadata": {
    "execution": {
     "iopub.execute_input": "2024-05-04T16:06:49.620766Z",
     "iopub.status.busy": "2024-05-04T16:06:49.620494Z",
     "iopub.status.idle": "2024-05-04T16:06:49.627980Z",
     "shell.execute_reply": "2024-05-04T16:06:49.627161Z"
    },
    "papermill": {
     "duration": 0.018827,
     "end_time": "2024-05-04T16:06:49.630037",
     "exception": false,
     "start_time": "2024-05-04T16:06:49.611210",
     "status": "completed"
    },
    "tags": []
   },
   "outputs": [],
   "source": [
    "class LSTM_block(nn.Module):\n",
    "    def __init__(self, n_inputs, n_hidden, n_rnnlayers, n_outputs):\n",
    "        super(LSTM_block,self).__init__()\n",
    "        self.D = n_inputs\n",
    "        self.M = n_hidden\n",
    "        self.K = n_outputs\n",
    "        self.L = n_rnnlayers        \n",
    "        self.lstm = nn.LSTM(input_size = self.D,\n",
    "                           hidden_size = self.M,\n",
    "                           num_layers = self.L,\n",
    "                           batch_first = True)    \n",
    "    def forward(self, X):\n",
    "        #input X is NxTxD\n",
    "        #initial hidden states\n",
    "        h0 = torch.zeros(self.L, X.size(0), self.M).to(device)\n",
    "        c0 = torch.zeros(self.L, X.size(0), self.M).to(device)\n",
    "        #get LSTM unit output:\n",
    "        #output is NxTxM\n",
    "        out, _ = self.lstm(X, (h0,c0))\n",
    "        #out, _ = self.gru(X, h0)   \n",
    "        #we only want h(T) at the final time step\n",
    "        # output is now of shape (N, M)\n",
    "        out = out[:, -1, :]\n",
    "        return out"
   ]
  },
  {
   "cell_type": "code",
   "execution_count": 6,
   "id": "ed85423f",
   "metadata": {
    "execution": {
     "iopub.execute_input": "2024-05-04T16:06:49.647881Z",
     "iopub.status.busy": "2024-05-04T16:06:49.647386Z",
     "iopub.status.idle": "2024-05-04T16:06:49.654448Z",
     "shell.execute_reply": "2024-05-04T16:06:49.653601Z"
    },
    "papermill": {
     "duration": 0.018169,
     "end_time": "2024-05-04T16:06:49.656389",
     "exception": false,
     "start_time": "2024-05-04T16:06:49.638220",
     "status": "completed"
    },
    "tags": []
   },
   "outputs": [],
   "source": [
    "class CNN_LSTM_hybrid(nn.Module):\n",
    "    def __init__(self, cnn_block, lstm_block, feat_vec_size):\n",
    "        super(CNN_LSTM_hybrid, self).__init__()\n",
    "        self.cnn_block = cnn_block\n",
    "        self.lstm_block = lstm_block\n",
    "        self.feat_vec_size = feat_vec_size\n",
    "        self.fc1 = nn.Linear(self.feat_vec_size, 1024)\n",
    "        self.fc2 = nn.Linear(1024, 4)       \n",
    "    def forward(self, x):\n",
    "        #output of cnn block is (N,384)\n",
    "        x1 = x.view(-1,1, 16,20)\n",
    "        x1 = self.cnn_block(x1)\n",
    "        #output of rnn block is (N,M)\n",
    "        x2 = self.lstm_block(x)\n",
    "        #concatenate the 2 outputs to produce a feat vec (N, M+384)\n",
    "        xx = torch.cat([x1, x2], dim = 1)\n",
    "        # pass through linear layers\n",
    "        xx = self.fc1(xx)\n",
    "        #final output is 4\n",
    "        xx = self.fc2(xx)       \n",
    "        return xx"
   ]
  },
  {
   "cell_type": "code",
   "execution_count": 7,
   "id": "85d4b1aa",
   "metadata": {
    "execution": {
     "iopub.execute_input": "2024-05-04T16:06:49.673954Z",
     "iopub.status.busy": "2024-05-04T16:06:49.673693Z",
     "iopub.status.idle": "2024-05-04T16:06:49.991139Z",
     "shell.execute_reply": "2024-05-04T16:06:49.990103Z"
    },
    "papermill": {
     "duration": 0.328558,
     "end_time": "2024-05-04T16:06:49.993257",
     "exception": false,
     "start_time": "2024-05-04T16:06:49.664699",
     "status": "completed"
    },
    "tags": []
   },
   "outputs": [
    {
     "data": {
      "text/plain": [
       "CNN_LSTM_hybrid(\n",
       "  (cnn_block): CNN_block(\n",
       "    (conv1): Conv2d(1, 128, kernel_size=(4, 4), stride=(1, 1))\n",
       "    (conv2): Conv2d(128, 64, kernel_size=(3, 3), stride=(1, 1))\n",
       "    (mxpool): MaxPool2d(kernel_size=2, stride=2, padding=0, dilation=1, ceil_mode=False)\n",
       "    (flat): Flatten(start_dim=1, end_dim=-1)\n",
       "    (conv_total): Sequential(\n",
       "      (0): Conv2d(1, 128, kernel_size=(4, 4), stride=(1, 1))\n",
       "      (1): MaxPool2d(kernel_size=2, stride=2, padding=0, dilation=1, ceil_mode=False)\n",
       "      (2): Conv2d(128, 64, kernel_size=(3, 3), stride=(1, 1))\n",
       "      (3): MaxPool2d(kernel_size=2, stride=2, padding=0, dilation=1, ceil_mode=False)\n",
       "    )\n",
       "  )\n",
       "  (lstm_block): LSTM_block(\n",
       "    (lstm): LSTM(20, 416, num_layers=2, batch_first=True)\n",
       "  )\n",
       "  (fc1): Linear(in_features=800, out_features=1024, bias=True)\n",
       "  (fc2): Linear(in_features=1024, out_features=4, bias=True)\n",
       ")"
      ]
     },
     "execution_count": 7,
     "metadata": {},
     "output_type": "execute_result"
    }
   ],
   "source": [
    "# Everything is the same as the best CNN-GRU model, \n",
    "#except that the GRU layer is replaced by the LSTM layer\n",
    "cnn_block = CNN_block()\n",
    "cnn_block.to(device)\n",
    "\n",
    "M_size = 416\n",
    "lstm_block = LSTM_block(20, M_size, 2, 4)\n",
    "lstm_block.to(device)\n",
    "\n",
    "model = CNN_LSTM_hybrid(cnn_block, lstm_block, M_size+384)\n",
    "model.to(device)"
   ]
  },
  {
   "cell_type": "code",
   "execution_count": 8,
   "id": "425c84b4",
   "metadata": {
    "execution": {
     "iopub.execute_input": "2024-05-04T16:06:50.012423Z",
     "iopub.status.busy": "2024-05-04T16:06:50.012100Z",
     "iopub.status.idle": "2024-05-04T16:06:50.018833Z",
     "shell.execute_reply": "2024-05-04T16:06:50.017993Z"
    },
    "papermill": {
     "duration": 0.018333,
     "end_time": "2024-05-04T16:06:50.020964",
     "exception": false,
     "start_time": "2024-05-04T16:06:50.002631",
     "status": "completed"
    },
    "tags": []
   },
   "outputs": [
    {
     "name": "stdout",
     "output_type": "stream",
     "text": [
      "Total numbers of parameters for the CNN part: 75968\n",
      "\n",
      "Total numbers of parameters for the LSTM part: 2116608\n",
      "\n",
      "Total numbers of parameters: 3016900\n"
     ]
    }
   ],
   "source": [
    "#count the number of parameters in the model\n",
    "params_cnn = [p.numel() for p in cnn_block.parameters() if p.requires_grad]\n",
    "print(f'Total numbers of parameters for the CNN part: {sum(params_cnn)}\\n')\n",
    "\n",
    "#count the number of parameters in the model\n",
    "params_lstm = [p.numel() for p in lstm_block.parameters() if p.requires_grad]\n",
    "print(f'Total numbers of parameters for the LSTM part: {sum(params_lstm)}\\n')\n",
    "\n",
    "#count the number of parameters in the model\n",
    "params = [p.numel() for p in model.parameters() if p.requires_grad]\n",
    "print(f'Total numbers of parameters: {sum(params)}')"
   ]
  },
  {
   "cell_type": "markdown",
   "id": "b9c2d254",
   "metadata": {
    "papermill": {
     "duration": 0.008679,
     "end_time": "2024-05-04T16:06:50.038072",
     "exception": false,
     "start_time": "2024-05-04T16:06:50.029393",
     "status": "completed"
    },
    "tags": []
   },
   "source": [
    "# Load data, define custom dataset class and dataloaders"
   ]
  },
  {
   "cell_type": "code",
   "execution_count": 9,
   "id": "c9c64848",
   "metadata": {
    "execution": {
     "iopub.execute_input": "2024-05-04T16:06:50.056358Z",
     "iopub.status.busy": "2024-05-04T16:06:50.055783Z",
     "iopub.status.idle": "2024-05-04T16:07:05.812485Z",
     "shell.execute_reply": "2024-05-04T16:07:05.811549Z"
    },
    "papermill": {
     "duration": 15.768154,
     "end_time": "2024-05-04T16:07:05.814645",
     "exception": false,
     "start_time": "2024-05-04T16:06:50.046491",
     "status": "completed"
    },
    "tags": []
   },
   "outputs": [
    {
     "name": "stdout",
     "output_type": "stream",
     "text": [
      "(652092, 16, 20) (72455, 16, 20) (181137, 16, 20)\n",
      "(652092, 4) (72455, 4) (181137, 4)\n"
     ]
    }
   ],
   "source": [
    "X_train = np.load('/kaggle/input/cicy4-data-processing/conf_Xtrain.npy')\n",
    "X_test = np.load('/kaggle/input/cicy4-data-processing/conf_Xtest.npy')\n",
    "X_valid = np.load('/kaggle/input/cicy4-data-processing/conf_Xvalid.npy')\n",
    "\n",
    "y_train = np.load('/kaggle/input/cicy4-data-processing/hodge_ytrain.npy')\n",
    "y_test= np.load('/kaggle/input/cicy4-data-processing/hodge_ytest.npy')\n",
    "y_valid = np.load('/kaggle/input/cicy4-data-processing/hodge_yvalid.npy')\n",
    "\n",
    "print(X_train.shape, X_valid.shape, X_test.shape)\n",
    "print(y_train.shape, y_valid.shape, y_test.shape)"
   ]
  },
  {
   "cell_type": "code",
   "execution_count": 10,
   "id": "97b27f55",
   "metadata": {
    "execution": {
     "iopub.execute_input": "2024-05-04T16:07:05.833573Z",
     "iopub.status.busy": "2024-05-04T16:07:05.833290Z",
     "iopub.status.idle": "2024-05-04T16:07:06.285523Z",
     "shell.execute_reply": "2024-05-04T16:07:06.284436Z"
    },
    "papermill": {
     "duration": 0.464283,
     "end_time": "2024-05-04T16:07:06.287945",
     "exception": false,
     "start_time": "2024-05-04T16:07:05.823662",
     "status": "completed"
    },
    "tags": []
   },
   "outputs": [],
   "source": [
    "#Convert data to torch tensor with float32 precision \n",
    "#(needed to be compatible with the floating decision of the network parameters)\n",
    "X_train = torch.from_numpy(X_train.astype(np.float32))\n",
    "y_train = torch.from_numpy(y_train.astype(np.float32))\n",
    "\n",
    "X_valid = torch.from_numpy(X_valid.astype(np.float32)) \n",
    "y_valid = torch.from_numpy(y_valid.astype(np.float32)) \n",
    "\n",
    "X_test = torch.from_numpy(X_test.astype(np.float32)) \n",
    "y_test= torch.from_numpy(y_test.astype(np.float32)) "
   ]
  },
  {
   "cell_type": "code",
   "execution_count": 11,
   "id": "0d067643",
   "metadata": {
    "execution": {
     "iopub.execute_input": "2024-05-04T16:07:06.307356Z",
     "iopub.status.busy": "2024-05-04T16:07:06.307026Z",
     "iopub.status.idle": "2024-05-04T16:07:06.313212Z",
     "shell.execute_reply": "2024-05-04T16:07:06.312381Z"
    },
    "papermill": {
     "duration": 0.018026,
     "end_time": "2024-05-04T16:07:06.315251",
     "exception": false,
     "start_time": "2024-05-04T16:07:06.297225",
     "status": "completed"
    },
    "tags": []
   },
   "outputs": [],
   "source": [
    "class CICY4Dataset(torch.utils.data.Dataset):\n",
    "    def __init__(self, X, y):\n",
    "        self.X = X\n",
    "        self.y = y        \n",
    "    def __len__(self):\n",
    "        return len(self.X)      \n",
    "    def __getitem__(self, idx):\n",
    "        X0 = self.X[idx]\n",
    "        y0 = self.y[idx]  \n",
    "        return X0, y0\n",
    "        \n",
    "train_set = CICY4Dataset(X_train, y_train)\n",
    "val_set = CICY4Dataset(X_valid, y_valid)\n",
    "test_set = CICY4Dataset(X_test, y_test)"
   ]
  },
  {
   "cell_type": "code",
   "execution_count": 12,
   "id": "b7163862",
   "metadata": {
    "execution": {
     "iopub.execute_input": "2024-05-04T16:07:06.333999Z",
     "iopub.status.busy": "2024-05-04T16:07:06.333731Z",
     "iopub.status.idle": "2024-05-04T16:07:06.338671Z",
     "shell.execute_reply": "2024-05-04T16:07:06.337914Z"
    },
    "papermill": {
     "duration": 0.016518,
     "end_time": "2024-05-04T16:07:06.340617",
     "exception": false,
     "start_time": "2024-05-04T16:07:06.324099",
     "status": "completed"
    },
    "tags": []
   },
   "outputs": [],
   "source": [
    "from torch.utils.data import DataLoader\n",
    "\n",
    "train_loader = DataLoader(train_set, batch_size=128, shuffle=True)\n",
    "val_loader = DataLoader(val_set, batch_size=128, shuffle=True)\n",
    "test_loader = DataLoader(test_set, batch_size=128, shuffle=False)"
   ]
  },
  {
   "cell_type": "markdown",
   "id": "aa2feb2b",
   "metadata": {
    "papermill": {
     "duration": 0.008232,
     "end_time": "2024-05-04T16:07:06.357756",
     "exception": false,
     "start_time": "2024-05-04T16:07:06.349524",
     "status": "completed"
    },
    "tags": []
   },
   "source": [
    "# Utility functions"
   ]
  },
  {
   "cell_type": "code",
   "execution_count": 13,
   "id": "d5fe8518",
   "metadata": {
    "execution": {
     "iopub.execute_input": "2024-05-04T16:07:06.375746Z",
     "iopub.status.busy": "2024-05-04T16:07:06.375476Z",
     "iopub.status.idle": "2024-05-04T16:07:06.381542Z",
     "shell.execute_reply": "2024-05-04T16:07:06.380726Z"
    },
    "papermill": {
     "duration": 0.017249,
     "end_time": "2024-05-04T16:07:06.383453",
     "exception": false,
     "start_time": "2024-05-04T16:07:06.366204",
     "status": "completed"
    },
    "tags": []
   },
   "outputs": [],
   "source": [
    "def train_one_epoch(model, criterion, optimizer, train_loader, cnn = False):\n",
    "    model.train()\n",
    "    train_loss = []\n",
    "    for inputs, target in train_loader:\n",
    "        if cnn:\n",
    "            inputs = inputs.view(batch_size,1,16,20)\n",
    "        inputs, target = inputs.to(device), target.to(device)\n",
    "        optimizer.zero_grad()\n",
    "        out = model(inputs)\n",
    "        loss = criterion(out, target)\n",
    "        loss.backward()\n",
    "        optimizer.step()\n",
    "        train_loss.append(loss.item())\n",
    "    #average the train_loss list in for all batches in the train_gen\n",
    "    train_loss = np.mean(train_loss)    \n",
    "    return train_loss"
   ]
  },
  {
   "cell_type": "code",
   "execution_count": 14,
   "id": "2d56224f",
   "metadata": {
    "execution": {
     "iopub.execute_input": "2024-05-04T16:07:06.401944Z",
     "iopub.status.busy": "2024-05-04T16:07:06.401208Z",
     "iopub.status.idle": "2024-05-04T16:07:06.406820Z",
     "shell.execute_reply": "2024-05-04T16:07:06.406129Z"
    },
    "papermill": {
     "duration": 0.016516,
     "end_time": "2024-05-04T16:07:06.408565",
     "exception": false,
     "start_time": "2024-05-04T16:07:06.392049",
     "status": "completed"
    },
    "tags": []
   },
   "outputs": [],
   "source": [
    "def validate_one_epoch(model, criterion, optimizer, val_loader, cnn = False):\n",
    "    model.eval()\n",
    "    test_loss = []\n",
    "    for inputs, target in val_loader:\n",
    "        if cnn:\n",
    "            inputs = inputs.view(batch_size,1,16,20)\n",
    "        inputs, target = inputs.to(device), target.to(device)\n",
    "        out = model(inputs)\n",
    "        loss = criterion(out, target)\n",
    "        test_loss.append(loss.item())\n",
    "    #average the test_loss list in for all batches in the test_gen\n",
    "    test_loss = np.mean(test_loss)\n",
    "    return test_loss"
   ]
  },
  {
   "cell_type": "code",
   "execution_count": 15,
   "id": "64709a4d",
   "metadata": {
    "execution": {
     "iopub.execute_input": "2024-05-04T16:07:06.427710Z",
     "iopub.status.busy": "2024-05-04T16:07:06.427460Z",
     "iopub.status.idle": "2024-05-04T16:07:06.437714Z",
     "shell.execute_reply": "2024-05-04T16:07:06.436948Z"
    },
    "papermill": {
     "duration": 0.022329,
     "end_time": "2024-05-04T16:07:06.439531",
     "exception": false,
     "start_time": "2024-05-04T16:07:06.417202",
     "status": "completed"
    },
    "tags": []
   },
   "outputs": [],
   "source": [
    "def batch_gd_scheduler(model, new_model_name, criterion, optimizer, train_loader, val_loader, scheduler,\n",
    "                         epochs, device, batch_size=128,  cnn = False):\n",
    "    train_losses = np.zeros(epochs)\n",
    "    test_losses = np.zeros(epochs)\n",
    "    patience = 0\n",
    "    best_loss = 1000\n",
    "    max_patience = 20\n",
    "    for i in range(epochs):\n",
    "        t0 = datetime.now()\n",
    "        train_loss = train_one_epoch(model, criterion, optimizer,train_loader)\n",
    "        test_loss = validate_one_epoch(model, criterion, optimizer,val_loader)\n",
    "        #Early stopping based on test loss\n",
    "        if i == 0:\n",
    "            best_loss = test_loss   \n",
    "            torch.save(model, f'/kaggle/working/saved_models/{new_model_name}.pt')\n",
    "            print(f'Model saved as {new_model_name} at epoch {i}')\n",
    "        else:\n",
    "            if test_loss < best_loss:\n",
    "                best_loss = test_loss\n",
    "                torch.save(model, f'/kaggle/working/saved_models/{new_model_name}.pt')\n",
    "                print(f'Model overwritten at epoch {i}, new best val loss {best_loss}')\n",
    "                patience = 0\n",
    "            else:\n",
    "                patience = patience +1\n",
    "                #print(f'No improvement, current patience level is {patience} at epoch {i}')\n",
    "        if patience > max_patience:\n",
    "            print(f'Max patience reached, training is terminated at epoch {i}')\n",
    "            break\n",
    "        #Apply scheduler after the train+validate parts\n",
    "        before_lr = optimizer.param_groups[0][\"lr\"]\n",
    "        scheduler.step(test_loss)\n",
    "        after_lr = optimizer.param_groups[0][\"lr\"]\n",
    "        train_losses[i] = train_loss\n",
    "        test_losses[i] = test_loss\n",
    "        #write the losses into a csv fil\n",
    "        loss_dict = {'train_loss': train_losses, 'val_loss': test_losses}\n",
    "        dd = pd.DataFrame(loss_dict)\n",
    "        dd.to_csv('loss_dict_cnn_lstm_416.csv', index = False)\n",
    "        dt = datetime.now()-t0\n",
    "        if i%10==0:\n",
    "            print(f'Epoch: {i+1}/{epochs}, train loss: {train_loss: .3f}, val_loss: {test_loss: .3f}, duration: {dt}, learning rate: {before_lr, after_lr}')\n",
    "    return train_losses, test_losses"
   ]
  },
  {
   "cell_type": "code",
   "execution_count": 16,
   "id": "b4c03f8f",
   "metadata": {
    "execution": {
     "iopub.execute_input": "2024-05-04T16:07:06.457581Z",
     "iopub.status.busy": "2024-05-04T16:07:06.457323Z",
     "iopub.status.idle": "2024-05-04T16:07:06.463748Z",
     "shell.execute_reply": "2024-05-04T16:07:06.462996Z"
    },
    "papermill": {
     "duration": 0.017557,
     "end_time": "2024-05-04T16:07:06.465509",
     "exception": false,
     "start_time": "2024-05-04T16:07:06.447952",
     "status": "completed"
    },
    "tags": []
   },
   "outputs": [],
   "source": [
    "def train_from_scratch_or_load(load_model_weight,new_model_name, epochs, cnn = False):    \n",
    "    if load_model_weight==None:\n",
    "        #criterion = nn.MSELoss()\n",
    "        criterion = nn.HuberLoss()\n",
    "        optimizer = torch.optim.AdamW(model.parameters(), lr=0.01)\n",
    "        scheduler = lr_scheduler.ReduceLROnPlateau(optimizer, 'min', factor=0.1, min_lr = 1e-8)\n",
    "        train_losses, test_losses=batch_gd_scheduler(model, new_model_name, criterion, \n",
    "                                                     optimizer,train_loader, val_loader,\n",
    "                                                      scheduler, epochs, \n",
    "                                                       device = device, cnn=cnn)\n",
    "        return train_losses, test_losses\n",
    "    else:\n",
    "        if torch.cuda.is_available():\n",
    "            trained_model = torch.load(load_model_weight)     \n",
    "        else:\n",
    "            trained_model = torch.load(load_model_weight, map_location=torch.device('cpu'))       \n",
    "        return trained_model"
   ]
  },
  {
   "cell_type": "code",
   "execution_count": 17,
   "id": "5bdb1248",
   "metadata": {
    "execution": {
     "iopub.execute_input": "2024-05-04T16:07:06.483434Z",
     "iopub.status.busy": "2024-05-04T16:07:06.483181Z",
     "iopub.status.idle": "2024-05-04T16:07:06.488849Z",
     "shell.execute_reply": "2024-05-04T16:07:06.488061Z"
    },
    "papermill": {
     "duration": 0.016648,
     "end_time": "2024-05-04T16:07:06.490741",
     "exception": false,
     "start_time": "2024-05-04T16:07:06.474093",
     "status": "completed"
    },
    "tags": []
   },
   "outputs": [],
   "source": [
    "def load_and_retrain(load_model_weight, new_model_name, epochs, cnn=False):\n",
    "    trained_model = torch.load(load_model_weight) \n",
    "    #criterion = nn.MSELoss()\n",
    "    criterion = nn.HuberLoss()\n",
    "    optimizer = torch.optim.AdamW(trained_model.parameters(),lr=0.0001)\n",
    "    scheduler = lr_scheduler.ReduceLROnPlateau(optimizer, 'min', factor=0.5, min_lr = 5e-7)\n",
    "    trained_model.train()\n",
    "    train_losses, test_losses=batch_gd_scheduler(trained_model,new_model_name, criterion, optimizer,\n",
    "                                                 train_loader, val_loader, \n",
    "                                                 scheduler, epochs, \n",
    "                                                 device = device, cnn=cnn)\n",
    "    return trained_model, train_losses, test_losses"
   ]
  },
  {
   "cell_type": "code",
   "execution_count": 18,
   "id": "e386780d",
   "metadata": {
    "execution": {
     "iopub.execute_input": "2024-05-04T16:07:06.508668Z",
     "iopub.status.busy": "2024-05-04T16:07:06.508427Z",
     "iopub.status.idle": "2024-05-04T16:07:06.512898Z",
     "shell.execute_reply": "2024-05-04T16:07:06.512079Z"
    },
    "papermill": {
     "duration": 0.015609,
     "end_time": "2024-05-04T16:07:06.514805",
     "exception": false,
     "start_time": "2024-05-04T16:07:06.499196",
     "status": "completed"
    },
    "tags": []
   },
   "outputs": [],
   "source": [
    "def plot_losses(train_losses, test_losses):\n",
    "    # Plot the train loss and test loss per iteration\n",
    "    plt.plot(train_losses, label='train loss')\n",
    "    plt.plot(test_losses, label='val loss')\n",
    "    plt.legend()\n",
    "    plt.show()"
   ]
  },
  {
   "cell_type": "code",
   "execution_count": 19,
   "id": "b6e66fd5",
   "metadata": {
    "execution": {
     "iopub.execute_input": "2024-05-04T16:07:06.533049Z",
     "iopub.status.busy": "2024-05-04T16:07:06.532791Z",
     "iopub.status.idle": "2024-05-04T16:07:06.536616Z",
     "shell.execute_reply": "2024-05-04T16:07:06.535826Z"
    },
    "papermill": {
     "duration": 0.014926,
     "end_time": "2024-05-04T16:07:06.538519",
     "exception": false,
     "start_time": "2024-05-04T16:07:06.523593",
     "status": "completed"
    },
    "tags": []
   },
   "outputs": [],
   "source": [
    "if not os.path.exists('saved_models'):\n",
    "    os.makedirs('saved_models')"
   ]
  },
  {
   "cell_type": "code",
   "execution_count": 20,
   "id": "fa10daa5",
   "metadata": {
    "execution": {
     "iopub.execute_input": "2024-05-04T16:07:06.556564Z",
     "iopub.status.busy": "2024-05-04T16:07:06.556290Z",
     "iopub.status.idle": "2024-05-04T16:07:06.568398Z",
     "shell.execute_reply": "2024-05-04T16:07:06.567678Z"
    },
    "papermill": {
     "duration": 0.023201,
     "end_time": "2024-05-04T16:07:06.570282",
     "exception": false,
     "start_time": "2024-05-04T16:07:06.547081",
     "status": "completed"
    },
    "tags": []
   },
   "outputs": [],
   "source": [
    "################## GET PREDICTIONS + ACCURACY #####################\n",
    "def get_pred_n_acc(models, device, dataloader, num_iter):\n",
    "    i = 0\n",
    "    ypreds =[]\n",
    "    targets = []\n",
    "    #The last batch might not have size 128\n",
    "    while i< num_iter:\n",
    "        for data, target in dataloader:\n",
    "            #this empty list is to hold all models' preds\n",
    "            ypred = []    \n",
    "            data= data.to(device)\n",
    "            data = data.to(torch.float32)\n",
    "            target = target.to(torch.float32)\n",
    "            #append the 'i^th' target\n",
    "            targets.append(target)\n",
    "            for model in models:\n",
    "                model.eval()\n",
    "                yp = model(data)\n",
    "                yp = yp.detach().cpu().numpy()\n",
    "                ypred.append(yp)\n",
    "            #take the mean of all models' predictions\n",
    "            ypred = np.array(ypred).mean(axis = 0)\n",
    "            ypred = np.round(ypred)\n",
    "            i+=1\n",
    "            #append ypred, targets inside the 'i' loop\n",
    "            # append the 'i^th' mean prediction\n",
    "            ypreds.append(ypred)   \n",
    "            if i == num_iter:\n",
    "                break \n",
    "     #Do not convert ypreds, targets to np.array at this point,\n",
    "    #since the last batch has a different size, causing an error !\n",
    "    #CALCULATING ACCURACY    \n",
    "    yp =  np.concatenate([ypreds[j] for j in range(len(ypreds))], axis = 0)\n",
    "    tgs =  np.concatenate([targets[j] for j in range(len(targets))], axis = 0)\n",
    "    h11_acc = ((yp[:,0] == tgs[:,0]).sum())/len(yp)\n",
    "    h21_acc = ((yp[:,1] == tgs[:,1]).sum())/len(yp)\n",
    "    h31_acc = ((yp[:,2] == tgs[:,2]).sum())/len(yp)\n",
    "    h22_acc = ((yp[:,3] == tgs[:,3]).sum())/len(yp)\n",
    "    acc = [h11_acc*100,h21_acc*100,h31_acc*100,h22_acc*100 ]\n",
    "    return  yp, tgs, acc\n"
   ]
  },
  {
   "cell_type": "markdown",
   "id": "c547f598",
   "metadata": {
    "papermill": {
     "duration": 0.008277,
     "end_time": "2024-05-04T16:07:06.587076",
     "exception": false,
     "start_time": "2024-05-04T16:07:06.578799",
     "status": "completed"
    },
    "tags": []
   },
   "source": [
    "# Load trained model and verify accuracies"
   ]
  },
  {
   "cell_type": "code",
   "execution_count": 21,
   "id": "dcb439e8",
   "metadata": {
    "execution": {
     "iopub.execute_input": "2024-05-04T16:07:06.605223Z",
     "iopub.status.busy": "2024-05-04T16:07:06.604910Z",
     "iopub.status.idle": "2024-05-05T00:55:00.477125Z",
     "shell.execute_reply": "2024-05-05T00:55:00.476075Z"
    },
    "papermill": {
     "duration": 31673.909806,
     "end_time": "2024-05-05T00:55:00.505473",
     "exception": false,
     "start_time": "2024-05-04T16:07:06.595667",
     "status": "completed"
    },
    "tags": []
   },
   "outputs": [
    {
     "name": "stdout",
     "output_type": "stream",
     "text": [
      "Model saved as CNN-LSTM-416 at epoch 0\n",
      "Epoch: 1/550, train loss:  5.907, val_loss:  4.757, duration: 0:00:58.566418, learning rate: (0.01, 0.01)\n",
      "Model overwritten at epoch 3, new best val loss 4.2929820064093915\n",
      "Model overwritten at epoch 4, new best val loss 4.2865802337673395\n",
      "Model overwritten at epoch 6, new best val loss 4.114130544073788\n",
      "Epoch: 11/550, train loss:  4.304, val_loss:  4.221, duration: 0:00:57.733930, learning rate: (0.01, 0.01)\n",
      "Model overwritten at epoch 18, new best val loss 3.579445151845404\n",
      "Model overwritten at epoch 19, new best val loss 3.5187399105630432\n",
      "Model overwritten at epoch 20, new best val loss 3.4789497099645974\n",
      "Epoch: 21/550, train loss:  3.417, val_loss:  3.479, duration: 0:00:57.844269, learning rate: (0.001, 0.001)\n",
      "Model overwritten at epoch 21, new best val loss 3.404788045445868\n",
      "Model overwritten at epoch 22, new best val loss 3.350117846561277\n",
      "Model overwritten at epoch 23, new best val loss 3.3091633811829584\n",
      "Model overwritten at epoch 24, new best val loss 3.3021639108237344\n",
      "Model overwritten at epoch 25, new best val loss 3.297007252509842\n",
      "Model overwritten at epoch 26, new best val loss 3.2177409667396883\n",
      "Model overwritten at epoch 28, new best val loss 3.1918773739426225\n",
      "Model overwritten at epoch 29, new best val loss 3.181760339720119\n",
      "Epoch: 31/550, train loss:  3.082, val_loss:  3.205, duration: 0:00:57.718328, learning rate: (0.001, 0.001)\n",
      "Model overwritten at epoch 32, new best val loss 3.1384237983659884\n",
      "Model overwritten at epoch 34, new best val loss 3.1337984634244673\n",
      "Model overwritten at epoch 37, new best val loss 3.1016611127836575\n",
      "Epoch: 41/550, train loss:  2.982, val_loss:  3.127, duration: 0:00:57.620892, learning rate: (0.001, 0.001)\n",
      "Model overwritten at epoch 41, new best val loss 3.090295373237112\n",
      "Model overwritten at epoch 45, new best val loss 3.0698007208539906\n",
      "Epoch: 51/550, train loss:  2.935, val_loss:  3.140, duration: 0:00:57.665815, learning rate: (0.001, 0.001)\n",
      "Model overwritten at epoch 51, new best val loss 3.0353139876478354\n",
      "Model overwritten at epoch 56, new best val loss 3.0165773102425604\n",
      "Model overwritten at epoch 58, new best val loss 3.008620055264266\n",
      "Epoch: 61/550, train loss:  2.907, val_loss:  3.009, duration: 0:00:57.744787, learning rate: (0.001, 0.001)\n",
      "Model overwritten at epoch 67, new best val loss 2.9996857109103465\n",
      "Model overwritten at epoch 68, new best val loss 2.992723210568571\n",
      "Model overwritten at epoch 70, new best val loss 2.973171992697203\n",
      "Epoch: 71/550, train loss:  2.892, val_loss:  2.973, duration: 0:00:57.757139, learning rate: (0.001, 0.001)\n",
      "Epoch: 81/550, train loss:  2.878, val_loss:  3.088, duration: 0:00:57.650134, learning rate: (0.001, 0.001)\n",
      "Model overwritten at epoch 82, new best val loss 2.8531576990030008\n",
      "Model overwritten at epoch 83, new best val loss 2.8420287368579307\n",
      "Model overwritten at epoch 84, new best val loss 2.835391926176754\n",
      "Model overwritten at epoch 85, new best val loss 2.83109500000296\n",
      "Model overwritten at epoch 86, new best val loss 2.828738652629617\n",
      "Model overwritten at epoch 87, new best val loss 2.824136336223999\n",
      "Model overwritten at epoch 89, new best val loss 2.823016730145382\n",
      "Epoch: 91/550, train loss:  2.580, val_loss:  2.830, duration: 0:00:57.698703, learning rate: (0.0001, 0.0001)\n",
      "Model overwritten at epoch 94, new best val loss 2.81839972240374\n",
      "Model overwritten at epoch 96, new best val loss 2.8177351825451726\n",
      "Model overwritten at epoch 99, new best val loss 2.8136569488616217\n",
      "Epoch: 101/550, train loss:  2.555, val_loss:  2.820, duration: 0:00:57.659059, learning rate: (0.0001, 0.0001)\n",
      "Model overwritten at epoch 105, new best val loss 2.8078542359081315\n",
      "Epoch: 111/550, train loss:  2.538, val_loss:  2.822, duration: 0:00:57.654976, learning rate: (0.0001, 0.0001)\n",
      "Model overwritten at epoch 114, new best val loss 2.8036463401515226\n",
      "Epoch: 121/550, train loss:  2.523, val_loss:  2.806, duration: 0:00:57.786218, learning rate: (0.0001, 0.0001)\n",
      "Model overwritten at epoch 124, new best val loss 2.797321104498767\n",
      "Model overwritten at epoch 125, new best val loss 2.794034957465251\n",
      "Model overwritten at epoch 130, new best val loss 2.781019331496439\n",
      "Epoch: 131/550, train loss:  2.503, val_loss:  2.781, duration: 0:00:57.716395, learning rate: (0.0001, 0.0001)\n",
      "Model overwritten at epoch 133, new best val loss 2.7751479970925277\n",
      "Model overwritten at epoch 135, new best val loss 2.7731661989995833\n",
      "Model overwritten at epoch 137, new best val loss 2.767348913288621\n",
      "Model overwritten at epoch 140, new best val loss 2.749788194947352\n",
      "Epoch: 141/550, train loss:  2.468, val_loss:  2.750, duration: 0:00:57.650302, learning rate: (0.0001, 0.0001)\n",
      "Model overwritten at epoch 144, new best val loss 2.7457534446918146\n",
      "Model overwritten at epoch 147, new best val loss 2.7261101840034363\n",
      "Epoch: 151/550, train loss:  2.438, val_loss:  2.746, duration: 0:00:57.496602, learning rate: (0.0001, 0.0001)\n",
      "Model overwritten at epoch 151, new best val loss 2.7140883451206133\n",
      "Model overwritten at epoch 154, new best val loss 2.6994615307560674\n",
      "Model overwritten at epoch 160, new best val loss 2.6819009913338556\n",
      "Epoch: 161/550, train loss:  2.399, val_loss:  2.682, duration: 0:00:57.660474, learning rate: (0.0001, 0.0001)\n",
      "Model overwritten at epoch 163, new best val loss 2.667223646947736\n",
      "Model overwritten at epoch 165, new best val loss 2.6661139848581277\n",
      "Model overwritten at epoch 166, new best val loss 2.6608305334834617\n",
      "Model overwritten at epoch 167, new best val loss 2.6574251906161166\n",
      "Model overwritten at epoch 168, new best val loss 2.6487660132598205\n",
      "Model overwritten at epoch 169, new best val loss 2.6468567230083324\n",
      "Model overwritten at epoch 170, new best val loss 2.637964805387736\n",
      "Epoch: 171/550, train loss:  2.354, val_loss:  2.638, duration: 0:00:57.520447, learning rate: (0.0001, 0.0001)\n",
      "Model overwritten at epoch 172, new best val loss 2.636821056799914\n",
      "Model overwritten at epoch 173, new best val loss 2.622724279524788\n",
      "Model overwritten at epoch 177, new best val loss 2.601301491575897\n",
      "Model overwritten at epoch 179, new best val loss 2.5928413668217063\n",
      "Model overwritten at epoch 180, new best val loss 2.5698258504665716\n",
      "Epoch: 181/550, train loss:  2.291, val_loss:  2.570, duration: 0:00:57.685455, learning rate: (0.0001, 0.0001)\n",
      "Model overwritten at epoch 181, new best val loss 2.5638143171078314\n",
      "Model overwritten at epoch 183, new best val loss 2.5480273280824934\n",
      "Model overwritten at epoch 186, new best val loss 2.538708449040771\n",
      "Model overwritten at epoch 187, new best val loss 2.5045614654635204\n",
      "Model overwritten at epoch 188, new best val loss 2.500956806346012\n",
      "Epoch: 191/550, train loss:  2.213, val_loss:  2.504, duration: 0:00:57.519974, learning rate: (0.0001, 0.0001)\n",
      "Model overwritten at epoch 192, new best val loss 2.4941755587882257\n",
      "Model overwritten at epoch 193, new best val loss 2.4649679353838456\n",
      "Model overwritten at epoch 196, new best val loss 2.4328504727210527\n",
      "Model overwritten at epoch 200, new best val loss 2.4047844437274564\n",
      "Epoch: 201/550, train loss:  2.141, val_loss:  2.405, duration: 0:00:57.476016, learning rate: (0.0001, 0.0001)\n",
      "Model overwritten at epoch 204, new best val loss 2.3874048707346436\n",
      "Model overwritten at epoch 209, new best val loss 2.3747542324940785\n",
      "Epoch: 211/550, train loss:  2.080, val_loss:  2.383, duration: 0:00:57.547682, learning rate: (0.0001, 0.0001)\n",
      "Model overwritten at epoch 212, new best val loss 2.359524566870728\n",
      "Model overwritten at epoch 213, new best val loss 2.3577248663288364\n",
      "Model overwritten at epoch 214, new best val loss 2.3277238167993186\n",
      "Model overwritten at epoch 218, new best val loss 2.3243629585498224\n",
      "Model overwritten at epoch 220, new best val loss 2.3102292581420305\n",
      "Epoch: 221/550, train loss:  2.020, val_loss:  2.310, duration: 0:00:57.495565, learning rate: (0.0001, 0.0001)\n",
      "Model overwritten at epoch 222, new best val loss 2.305656072954652\n",
      "Model overwritten at epoch 223, new best val loss 2.3037434688110623\n",
      "Model overwritten at epoch 225, new best val loss 2.266557371595339\n",
      "Model overwritten at epoch 229, new best val loss 2.2566704470434304\n",
      "Model overwritten at epoch 230, new best val loss 2.248711025273358\n",
      "Epoch: 231/550, train loss:  1.952, val_loss:  2.249, duration: 0:00:57.507366, learning rate: (0.0001, 0.0001)\n",
      "Model overwritten at epoch 232, new best val loss 2.2330400651514637\n",
      "Model overwritten at epoch 235, new best val loss 2.205467837828177\n",
      "Model overwritten at epoch 237, new best val loss 2.188976703287222\n",
      "Model overwritten at epoch 240, new best val loss 2.188133978339099\n",
      "Epoch: 241/550, train loss:  1.879, val_loss:  2.188, duration: 0:00:57.497147, learning rate: (0.0001, 0.0001)\n",
      "Model overwritten at epoch 241, new best val loss 2.1772607529184387\n",
      "Model overwritten at epoch 242, new best val loss 2.1583696826635426\n",
      "Model overwritten at epoch 244, new best val loss 2.1461074425850386\n",
      "Model overwritten at epoch 247, new best val loss 2.1174851977635942\n",
      "Epoch: 251/550, train loss:  1.807, val_loss:  2.121, duration: 0:00:57.440409, learning rate: (0.0001, 0.0001)\n",
      "Model overwritten at epoch 252, new best val loss 2.1049268235184737\n",
      "Model overwritten at epoch 253, new best val loss 2.0739370275426796\n",
      "Model overwritten at epoch 255, new best val loss 2.064784021394383\n",
      "Model overwritten at epoch 258, new best val loss 2.0499844477500444\n",
      "Model overwritten at epoch 260, new best val loss 2.0285502895055836\n",
      "Epoch: 261/550, train loss:  1.738, val_loss:  2.029, duration: 0:00:57.446008, learning rate: (0.0001, 0.0001)\n",
      "Model overwritten at epoch 262, new best val loss 2.0153827707183005\n",
      "Model overwritten at epoch 265, new best val loss 1.9919215461774689\n",
      "Model overwritten at epoch 266, new best val loss 1.9899045462330813\n",
      "Model overwritten at epoch 270, new best val loss 1.9743831214450656\n",
      "Epoch: 271/550, train loss:  1.666, val_loss:  1.974, duration: 0:00:57.459907, learning rate: (0.0001, 0.0001)\n",
      "Model overwritten at epoch 272, new best val loss 1.9723615149131317\n",
      "Model overwritten at epoch 273, new best val loss 1.9547903758508187\n",
      "Model overwritten at epoch 275, new best val loss 1.9376719792683919\n",
      "Model overwritten at epoch 276, new best val loss 1.9338218528757651\n",
      "Epoch: 281/550, train loss:  1.602, val_loss:  1.941, duration: 0:00:57.548457, learning rate: (0.0001, 0.0001)\n",
      "Model overwritten at epoch 282, new best val loss 1.9147958520018025\n",
      "Model overwritten at epoch 283, new best val loss 1.89825601615603\n",
      "Model overwritten at epoch 285, new best val loss 1.8887748119061587\n",
      "Model overwritten at epoch 288, new best val loss 1.8798498018288319\n",
      "Epoch: 291/550, train loss:  1.532, val_loss:  1.910, duration: 0:00:57.360980, learning rate: (0.0001, 0.0001)\n",
      "Model overwritten at epoch 291, new best val loss 1.8647985668619684\n",
      "Model overwritten at epoch 293, new best val loss 1.864114771864822\n",
      "Model overwritten at epoch 295, new best val loss 1.8365965852451493\n",
      "Model overwritten at epoch 296, new best val loss 1.8079597889010448\n",
      "Model overwritten at epoch 298, new best val loss 1.8031279031561795\n",
      "Model overwritten at epoch 299, new best val loss 1.796408886421715\n",
      "Epoch: 301/550, train loss:  1.462, val_loss:  1.815, duration: 0:00:57.620113, learning rate: (0.0001, 0.0001)\n",
      "Model overwritten at epoch 302, new best val loss 1.7954812592299527\n",
      "Model overwritten at epoch 303, new best val loss 1.7575705263770236\n",
      "Model overwritten at epoch 305, new best val loss 1.752545517378173\n",
      "Model overwritten at epoch 306, new best val loss 1.7259690107702157\n",
      "Model overwritten at epoch 309, new best val loss 1.711986348952776\n",
      "Epoch: 311/550, train loss:  1.385, val_loss:  1.719, duration: 0:00:57.514368, learning rate: (0.0001, 0.0001)\n",
      "Model overwritten at epoch 312, new best val loss 1.6991412910834822\n",
      "Model overwritten at epoch 315, new best val loss 1.685777378250472\n",
      "Model overwritten at epoch 316, new best val loss 1.66755141972234\n",
      "Model overwritten at epoch 320, new best val loss 1.6666044917686906\n",
      "Epoch: 321/550, train loss:  1.302, val_loss:  1.667, duration: 0:00:57.467468, learning rate: (0.0001, 0.0001)\n",
      "Model overwritten at epoch 321, new best val loss 1.642118112225171\n",
      "Model overwritten at epoch 322, new best val loss 1.6381245136681477\n",
      "Model overwritten at epoch 323, new best val loss 1.6222893867963626\n",
      "Model overwritten at epoch 324, new best val loss 1.588038601782797\n",
      "Model overwritten at epoch 329, new best val loss 1.571853239700277\n",
      "Epoch: 331/550, train loss:  1.225, val_loss:  1.583, duration: 0:00:57.793190, learning rate: (0.0001, 0.0001)\n",
      "Model overwritten at epoch 331, new best val loss 1.5578444802992348\n",
      "Model overwritten at epoch 332, new best val loss 1.5469337167773507\n",
      "Model overwritten at epoch 333, new best val loss 1.533461492738606\n",
      "Model overwritten at epoch 334, new best val loss 1.5157845504910437\n",
      "Model overwritten at epoch 335, new best val loss 1.5070982170693668\n",
      "Model overwritten at epoch 337, new best val loss 1.483472346944153\n",
      "Model overwritten at epoch 340, new best val loss 1.4621130490849679\n",
      "Epoch: 341/550, train loss:  1.141, val_loss:  1.462, duration: 0:00:57.926848, learning rate: (0.0001, 0.0001)\n",
      "Model overwritten at epoch 341, new best val loss 1.4596394139622886\n",
      "Model overwritten at epoch 344, new best val loss 1.4303525440276614\n",
      "Model overwritten at epoch 347, new best val loss 1.426995546308985\n",
      "Model overwritten at epoch 349, new best val loss 1.422527453256032\n",
      "Model overwritten at epoch 350, new best val loss 1.4056028890862036\n",
      "Epoch: 351/550, train loss:  1.066, val_loss:  1.406, duration: 0:00:57.817244, learning rate: (0.0001, 0.0001)\n",
      "Model overwritten at epoch 352, new best val loss 1.3805890455447807\n",
      "Model overwritten at epoch 355, new best val loss 1.3506652692848622\n",
      "Model overwritten at epoch 359, new best val loss 1.321182401827824\n",
      "Epoch: 361/550, train loss:  1.001, val_loss:  1.409, duration: 0:00:58.166882, learning rate: (0.0001, 0.0001)\n",
      "Model overwritten at epoch 364, new best val loss 1.313046273205436\n",
      "Model overwritten at epoch 367, new best val loss 1.3043029425005432\n",
      "Model overwritten at epoch 369, new best val loss 1.273606170842677\n",
      "Epoch: 371/550, train loss:  0.940, val_loss:  1.276, duration: 0:00:57.823802, learning rate: (0.0001, 0.0001)\n",
      "Model overwritten at epoch 373, new best val loss 1.273283695627983\n",
      "Model overwritten at epoch 374, new best val loss 1.2637219868429543\n",
      "Model overwritten at epoch 375, new best val loss 1.2548784731346885\n",
      "Model overwritten at epoch 378, new best val loss 1.237979751730722\n",
      "Model overwritten at epoch 379, new best val loss 1.2333011969897691\n",
      "Model overwritten at epoch 380, new best val loss 1.2151712552370006\n",
      "Epoch: 381/550, train loss:  0.884, val_loss:  1.215, duration: 0:00:57.645194, learning rate: (0.0001, 0.0001)\n",
      "Model overwritten at epoch 384, new best val loss 1.2105151754417958\n",
      "Model overwritten at epoch 387, new best val loss 1.1994810262054363\n",
      "Model overwritten at epoch 389, new best val loss 1.1957418355151248\n",
      "Model overwritten at epoch 390, new best val loss 1.1850617004450037\n",
      "Epoch: 391/550, train loss:  0.835, val_loss:  1.185, duration: 0:00:57.516234, learning rate: (0.0001, 0.0001)\n",
      "Model overwritten at epoch 391, new best val loss 1.1782104628426688\n",
      "Model overwritten at epoch 392, new best val loss 1.1674216026982303\n",
      "Model overwritten at epoch 399, new best val loss 1.1482029455258942\n",
      "Model overwritten at epoch 400, new best val loss 1.1445662985823561\n",
      "Epoch: 401/550, train loss:  0.789, val_loss:  1.145, duration: 0:00:57.409964, learning rate: (0.0001, 0.0001)\n",
      "Model overwritten at epoch 405, new best val loss 1.1251683633583984\n",
      "Model overwritten at epoch 406, new best val loss 1.1230669945636123\n",
      "Model overwritten at epoch 407, new best val loss 1.1220236207232064\n",
      "Model overwritten at epoch 410, new best val loss 1.0887188846261833\n",
      "Epoch: 411/550, train loss:  0.749, val_loss:  1.089, duration: 0:00:57.511874, learning rate: (0.0001, 0.0001)\n",
      "Model overwritten at epoch 417, new best val loss 1.0847164810860177\n",
      "Model overwritten at epoch 420, new best val loss 1.0831498529965704\n",
      "Epoch: 421/550, train loss:  0.713, val_loss:  1.083, duration: 0:00:57.472556, learning rate: (0.0001, 0.0001)\n",
      "Model overwritten at epoch 422, new best val loss 1.0681544194881667\n",
      "Model overwritten at epoch 428, new best val loss 1.0596346840446378\n",
      "Epoch: 431/550, train loss:  0.679, val_loss:  1.069, duration: 0:00:57.412964, learning rate: (0.0001, 0.0001)\n",
      "Model overwritten at epoch 433, new best val loss 1.0422814373827065\n",
      "Model overwritten at epoch 438, new best val loss 1.038647891562662\n",
      "Epoch: 441/550, train loss:  0.649, val_loss:  1.049, duration: 0:00:57.394935, learning rate: (0.0001, 0.0001)\n",
      "Model overwritten at epoch 441, new best val loss 1.0338794036096577\n",
      "Model overwritten at epoch 442, new best val loss 1.0290620421606398\n",
      "Model overwritten at epoch 444, new best val loss 1.0186906003867928\n",
      "Model overwritten at epoch 446, new best val loss 1.0144218761454185\n",
      "Model overwritten at epoch 448, new best val loss 1.0056311045584434\n",
      "Epoch: 451/550, train loss:  0.619, val_loss:  1.008, duration: 0:00:57.394241, learning rate: (0.0001, 0.0001)\n",
      "Model overwritten at epoch 454, new best val loss 1.0027619560349346\n",
      "Model overwritten at epoch 455, new best val loss 0.9964930873489043\n",
      "Model overwritten at epoch 457, new best val loss 0.9772959078220254\n",
      "Epoch: 461/550, train loss:  0.592, val_loss:  0.988, duration: 0:00:57.377551, learning rate: (0.0001, 0.0001)\n",
      "Model overwritten at epoch 464, new best val loss 0.9765788992666483\n",
      "Model overwritten at epoch 466, new best val loss 0.9651974080100892\n",
      "Epoch: 471/550, train loss:  0.570, val_loss:  0.990, duration: 0:00:57.433112, learning rate: (0.0001, 0.0001)\n",
      "Model overwritten at epoch 473, new best val loss 0.9606138876716506\n",
      "Model overwritten at epoch 475, new best val loss 0.9428276363924487\n",
      "Epoch: 481/550, train loss:  0.549, val_loss:  0.958, duration: 0:00:57.404484, learning rate: (0.0001, 0.0001)\n",
      "Model overwritten at epoch 486, new best val loss 0.9406666015611544\n",
      "Model overwritten at epoch 489, new best val loss 0.9371395198335933\n",
      "Epoch: 491/550, train loss:  0.529, val_loss:  0.946, duration: 0:00:57.410444, learning rate: (0.0001, 0.0001)\n",
      "Model overwritten at epoch 491, new best val loss 0.9238264753074242\n",
      "Model overwritten at epoch 496, new best val loss 0.9195103192245309\n",
      "Model overwritten at epoch 500, new best val loss 0.9063416810893508\n",
      "Epoch: 501/550, train loss:  0.509, val_loss:  0.906, duration: 0:00:57.436767, learning rate: (0.0001, 0.0001)\n",
      "Model overwritten at epoch 509, new best val loss 0.9053925254778046\n",
      "Epoch: 511/550, train loss:  0.491, val_loss:  0.932, duration: 0:00:57.550299, learning rate: (0.0001, 0.0001)\n",
      "Model overwritten at epoch 512, new best val loss 0.8967386597678775\n",
      "Epoch: 521/550, train loss:  0.477, val_loss:  0.911, duration: 0:00:57.632621, learning rate: (0.0001, 0.0001)\n",
      "Model overwritten at epoch 523, new best val loss 0.8893727174511662\n",
      "Model overwritten at epoch 524, new best val loss 0.8867259742511433\n",
      "Epoch: 531/550, train loss:  0.460, val_loss:  0.892, duration: 0:00:57.493748, learning rate: (0.0001, 0.0001)\n",
      "Model overwritten at epoch 532, new best val loss 0.8681972862551453\n",
      "Epoch: 541/550, train loss:  0.448, val_loss:  0.898, duration: 0:00:57.492925, learning rate: (0.0001, 0.0001)\n",
      "Model overwritten at epoch 544, new best val loss 0.7995485132543708\n",
      "Model overwritten at epoch 545, new best val loss 0.7975944167091733\n",
      "Model overwritten at epoch 546, new best val loss 0.7959763374067909\n",
      "Model overwritten at epoch 547, new best val loss 0.795229700349626\n",
      "Model overwritten at epoch 549, new best val loss 0.7946446166887906\n"
     ]
    }
   ],
   "source": [
    "load_model_weight = None\n",
    "epochs = 550\n",
    "new_model_name = 'CNN-LSTM-416'\n",
    "if load_model_weight is None:   \n",
    "    train_losses, test_losses=train_from_scratch_or_load(load_model_weight,new_model_name,  epochs, cnn = False)\n",
    "else:\n",
    "    trained_model_v00 = train_from_scratch_or_load(load_model_weight, new_model_name, epochs, cnn = False)\n",
    "    #Train accuracy\n",
    "    yt, tgt, acct = get_pred_n_acc([trained_model_v00], device, train_loader, num_iter = len(train_loader))\n",
    "    #validation accuracy\n",
    "    yv, tgv, accv = get_pred_n_acc([trained_model_v00], device, val_loader, num_iter = len(val_loader))\n",
    "    print(f'Train data, target shapes: {yt.shape, tgt.shape},\\n train accuracies {acct}')\n",
    "    print(f'Validation data, target shapes: {yv.shape, tgv.shape},\\n validation accuracies {accv}')\n",
    "    #Test accuracy\n",
    "    yts, tgts, accts = get_pred_n_acc([trained_model_v00], device, test_loader, num_iter = len(test_loader))\n",
    "    print(f'Test data, target shapes: {yts.shape, tgts.shape},\\n test accuracies {accts}')"
   ]
  },
  {
   "cell_type": "code",
   "execution_count": 22,
   "id": "89f69958",
   "metadata": {
    "execution": {
     "iopub.execute_input": "2024-05-05T00:55:00.558717Z",
     "iopub.status.busy": "2024-05-05T00:55:00.558430Z",
     "iopub.status.idle": "2024-05-05T00:55:00.562476Z",
     "shell.execute_reply": "2024-05-05T00:55:00.561545Z"
    },
    "papermill": {
     "duration": 0.032506,
     "end_time": "2024-05-05T00:55:00.564378",
     "exception": false,
     "start_time": "2024-05-05T00:55:00.531872",
     "status": "completed"
    },
    "tags": []
   },
   "outputs": [],
   "source": [
    "# (Re)train loop"
   ]
  },
  {
   "cell_type": "code",
   "execution_count": 23,
   "id": "2ce773a0",
   "metadata": {
    "execution": {
     "iopub.execute_input": "2024-05-05T00:55:00.616923Z",
     "iopub.status.busy": "2024-05-05T00:55:00.616679Z",
     "iopub.status.idle": "2024-05-05T00:55:00.620247Z",
     "shell.execute_reply": "2024-05-05T00:55:00.619398Z"
    },
    "papermill": {
     "duration": 0.031799,
     "end_time": "2024-05-05T00:55:00.622138",
     "exception": false,
     "start_time": "2024-05-05T00:55:00.590339",
     "status": "completed"
    },
    "tags": []
   },
   "outputs": [],
   "source": [
    "#trained_model_v01, train_losses, test_losses = load_and_retrain(load_model_weight, new_model_name, epochs, cnn=False)"
   ]
  },
  {
   "cell_type": "code",
   "execution_count": 24,
   "id": "167f7e2f",
   "metadata": {
    "execution": {
     "iopub.execute_input": "2024-05-05T00:55:00.675010Z",
     "iopub.status.busy": "2024-05-05T00:55:00.674777Z",
     "iopub.status.idle": "2024-05-05T00:55:00.693772Z",
     "shell.execute_reply": "2024-05-05T00:55:00.692838Z"
    },
    "papermill": {
     "duration": 0.048308,
     "end_time": "2024-05-05T00:55:00.695836",
     "exception": false,
     "start_time": "2024-05-05T00:55:00.647528",
     "status": "completed"
    },
    "tags": []
   },
   "outputs": [
    {
     "data": {
      "text/html": [
       "<div>\n",
       "<style scoped>\n",
       "    .dataframe tbody tr th:only-of-type {\n",
       "        vertical-align: middle;\n",
       "    }\n",
       "\n",
       "    .dataframe tbody tr th {\n",
       "        vertical-align: top;\n",
       "    }\n",
       "\n",
       "    .dataframe thead th {\n",
       "        text-align: right;\n",
       "    }\n",
       "</style>\n",
       "<table border=\"1\" class=\"dataframe\">\n",
       "  <thead>\n",
       "    <tr style=\"text-align: right;\">\n",
       "      <th></th>\n",
       "      <th>train_loss</th>\n",
       "      <th>val_loss</th>\n",
       "    </tr>\n",
       "  </thead>\n",
       "  <tbody>\n",
       "    <tr>\n",
       "      <th>0</th>\n",
       "      <td>5.906789</td>\n",
       "      <td>4.757478</td>\n",
       "    </tr>\n",
       "    <tr>\n",
       "      <th>1</th>\n",
       "      <td>4.766558</td>\n",
       "      <td>4.970746</td>\n",
       "    </tr>\n",
       "    <tr>\n",
       "      <th>2</th>\n",
       "      <td>4.935742</td>\n",
       "      <td>5.456880</td>\n",
       "    </tr>\n",
       "    <tr>\n",
       "      <th>3</th>\n",
       "      <td>4.490434</td>\n",
       "      <td>4.292982</td>\n",
       "    </tr>\n",
       "    <tr>\n",
       "      <th>4</th>\n",
       "      <td>4.733915</td>\n",
       "      <td>4.286580</td>\n",
       "    </tr>\n",
       "  </tbody>\n",
       "</table>\n",
       "</div>"
      ],
      "text/plain": [
       "   train_loss  val_loss\n",
       "0    5.906789  4.757478\n",
       "1    4.766558  4.970746\n",
       "2    4.935742  5.456880\n",
       "3    4.490434  4.292982\n",
       "4    4.733915  4.286580"
      ]
     },
     "execution_count": 24,
     "metadata": {},
     "output_type": "execute_result"
    }
   ],
   "source": [
    "import pandas as pd\n",
    "loss_dict = {'train_loss': train_losses, 'val_loss': test_losses}\n",
    "dd = pd.DataFrame(loss_dict)\n",
    "dd.to_csv('loss_dict.csv', index = False)\n",
    "dd.head()"
   ]
  },
  {
   "cell_type": "code",
   "execution_count": 25,
   "id": "afcb81c3",
   "metadata": {
    "execution": {
     "iopub.execute_input": "2024-05-05T00:55:00.749642Z",
     "iopub.status.busy": "2024-05-05T00:55:00.749385Z",
     "iopub.status.idle": "2024-05-05T00:55:01.081360Z",
     "shell.execute_reply": "2024-05-05T00:55:01.080492Z"
    },
    "papermill": {
     "duration": 0.360887,
     "end_time": "2024-05-05T00:55:01.083491",
     "exception": false,
     "start_time": "2024-05-05T00:55:00.722604",
     "status": "completed"
    },
    "tags": []
   },
   "outputs": [
    {
     "data": {
      "image/png": "[encoded data removed]",
      "text/plain": [
       "<Figure size 640x480 with 1 Axes>"
      ]
     },
     "metadata": {},
     "output_type": "display_data"
    }
   ],
   "source": [
    "plot_losses(train_losses, test_losses)"
   ]
  },
  {
   "cell_type": "markdown",
   "id": "9543535c",
   "metadata": {
    "papermill": {
     "duration": 0.026265,
     "end_time": "2024-05-05T00:55:01.136724",
     "exception": false,
     "start_time": "2024-05-05T00:55:01.110459",
     "status": "completed"
    },
    "tags": []
   },
   "source": [
    "# Train, validation, test accuracies"
   ]
  },
  {
   "cell_type": "code",
   "execution_count": 26,
   "id": "02a14e23",
   "metadata": {
    "execution": {
     "iopub.execute_input": "2024-05-05T00:55:01.190601Z",
     "iopub.status.busy": "2024-05-05T00:55:01.190312Z",
     "iopub.status.idle": "2024-05-05T00:55:26.760193Z",
     "shell.execute_reply": "2024-05-05T00:55:26.759181Z"
    },
    "papermill": {
     "duration": 25.599235,
     "end_time": "2024-05-05T00:55:26.762187",
     "exception": false,
     "start_time": "2024-05-05T00:55:01.162952",
     "status": "completed"
    },
    "tags": []
   },
   "outputs": [
    {
     "name": "stdout",
     "output_type": "stream",
     "text": [
      "Train data, target shapes: ((652092, 4), (652092, 4)),\n",
      " train accuracies [94.39204897468456, 81.82802426651455, 78.31793673285364, 37.013642246799535]\n",
      "Validation data, target shapes: ((72455, 4), (72455, 4)),\n",
      " validation accuracies [91.79214684976881, 77.56124491063419, 51.75074183976262, 16.607549513491133]\n"
     ]
    }
   ],
   "source": [
    "#Train accuracy\n",
    "yt, tgt, acct = get_pred_n_acc([model], device, train_loader, num_iter = len(train_loader))\n",
    "#validation accuracy\n",
    "yv, tgv, accv = get_pred_n_acc([model], device, val_loader, num_iter = len(val_loader))\n",
    "print(f'Train data, target shapes: {yt.shape, tgt.shape},\\n train accuracies {acct}')\n",
    "print(f'Validation data, target shapes: {yv.shape, tgv.shape},\\n validation accuracies {accv}')"
   ]
  },
  {
   "cell_type": "code",
   "execution_count": 27,
   "id": "fb7aa880",
   "metadata": {
    "execution": {
     "iopub.execute_input": "2024-05-05T00:55:26.817210Z",
     "iopub.status.busy": "2024-05-05T00:55:26.816899Z",
     "iopub.status.idle": "2024-05-05T00:55:33.104406Z",
     "shell.execute_reply": "2024-05-05T00:55:33.103168Z"
    },
    "papermill": {
     "duration": 6.317384,
     "end_time": "2024-05-05T00:55:33.106842",
     "exception": false,
     "start_time": "2024-05-05T00:55:26.789458",
     "status": "completed"
    },
    "tags": []
   },
   "outputs": [
    {
     "name": "stdout",
     "output_type": "stream",
     "text": [
      "Test data, target shapes: ((181137, 4), (181137, 4)),\n",
      " test accuracies [92.15290084300834, 77.59265086647123, 51.62059656503089, 16.37379442079752]\n"
     ]
    }
   ],
   "source": [
    "#Test accuracy\n",
    "yts, tgts, accts = get_pred_n_acc([model], device, test_loader, num_iter = len(test_loader))\n",
    "print(f'Test data, target shapes: {yts.shape, tgts.shape},\\n test accuracies {accts}')"
   ]
  }
 ],
 "metadata": {
  "kaggle": {
   "accelerator": "gpu",
   "dataSources": [
    {
     "sourceId": 174871011,
     "sourceType": "kernelVersion"
    }
   ],
   "dockerImageVersionId": 30683,
   "isGpuEnabled": true,
   "isInternetEnabled": true,
   "language": "python",
   "sourceType": "notebook"
  },
  "kernelspec": {
   "display_name": "Python 3",
   "language": "python",
   "name": "python3"
  },
  "language_info": {
   "codemirror_mode": {
    "name": "ipython",
    "version": 3
   },
   "file_extension": ".py",
   "mimetype": "text/x-python",
   "name": "python",
   "nbconvert_exporter": "python",
   "pygments_lexer": "ipython3",
   "version": "3.10.13"
  },
  "papermill": {
   "default_parameters": {},
   "duration": 31733.990671,
   "end_time": "2024-05-05T00:55:35.689806",
   "environment_variables": {},
   "exception": null,
   "input_path": "__notebook__.ipynb",
   "output_path": "__notebook__.ipynb",
   "parameters": {},
   "start_time": "2024-05-04T16:06:41.699135",
   "version": "2.5.0"
  }
 },
 "nbformat": 4,
 "nbformat_minor": 5
}
