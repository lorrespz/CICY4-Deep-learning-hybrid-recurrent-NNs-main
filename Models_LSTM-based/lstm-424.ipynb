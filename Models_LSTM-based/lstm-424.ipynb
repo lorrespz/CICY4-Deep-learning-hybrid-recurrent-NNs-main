{
 "cells": [
  {
   "cell_type": "markdown",
   "id": "f94c1d26",
   "metadata": {
    "papermill": {
     "duration": 0.007801,
     "end_time": "2024-05-11T13:02:15.147189",
     "exception": false,
     "start_time": "2024-05-11T13:02:15.139388",
     "status": "completed"
    },
    "tags": []
   },
   "source": [
    "# CICY4: LSTM-based network (LSTM-424)"
   ]
  },
  {
   "cell_type": "code",
   "execution_count": 1,
   "id": "4f8ac154",
   "metadata": {
    "_cell_guid": "b1076dfc-b9ad-4769-8c92-a6c4dae69d19",
    "_uuid": "8f2839f25d086af736a60e9eeb907d3b93b6e0e5",
    "execution": {
     "iopub.execute_input": "2024-05-11T13:02:15.163438Z",
     "iopub.status.busy": "2024-05-11T13:02:15.163082Z",
     "iopub.status.idle": "2024-05-11T13:02:20.622274Z",
     "shell.execute_reply": "2024-05-11T13:02:20.621011Z"
    },
    "papermill": {
     "duration": 5.472347,
     "end_time": "2024-05-11T13:02:20.627055",
     "exception": false,
     "start_time": "2024-05-11T13:02:15.154708",
     "status": "completed"
    },
    "tags": []
   },
   "outputs": [],
   "source": [
    "import numpy as np\n",
    "import random\n",
    "import pandas as pd\n",
    "import os as os\n",
    "import matplotlib.pyplot as plt\n",
    "import seaborn as sns\n",
    "from datetime import datetime\n",
    "#sns.set_style(\"darkgrid\")\n",
    "\n",
    "import torch\n",
    "import torch.nn as nn\n",
    "import torch.nn.functional as F\n",
    "import torch.optim.lr_scheduler as lr_scheduler"
   ]
  },
  {
   "cell_type": "code",
   "execution_count": 2,
   "id": "b053c147",
   "metadata": {
    "execution": {
     "iopub.execute_input": "2024-05-11T13:02:20.645415Z",
     "iopub.status.busy": "2024-05-11T13:02:20.644687Z",
     "iopub.status.idle": "2024-05-11T13:02:20.695722Z",
     "shell.execute_reply": "2024-05-11T13:02:20.694549Z"
    },
    "papermill": {
     "duration": 0.062478,
     "end_time": "2024-05-11T13:02:20.697657",
     "exception": false,
     "start_time": "2024-05-11T13:02:20.635179",
     "status": "completed"
    },
    "tags": []
   },
   "outputs": [
    {
     "name": "stdout",
     "output_type": "stream",
     "text": [
      "cuda:0\n"
     ]
    }
   ],
   "source": [
    "device = torch.device(\"cuda:0\" if torch.cuda.is_available() else \"cpu\")\n",
    "print(device)"
   ]
  },
  {
   "cell_type": "code",
   "execution_count": 3,
   "id": "af3e4db7",
   "metadata": {
    "execution": {
     "iopub.execute_input": "2024-05-11T13:02:20.713816Z",
     "iopub.status.busy": "2024-05-11T13:02:20.713119Z",
     "iopub.status.idle": "2024-05-11T13:02:20.721361Z",
     "shell.execute_reply": "2024-05-11T13:02:20.720434Z"
    },
    "papermill": {
     "duration": 0.018254,
     "end_time": "2024-05-11T13:02:20.723256",
     "exception": false,
     "start_time": "2024-05-11T13:02:20.705002",
     "status": "completed"
    },
    "tags": []
   },
   "outputs": [],
   "source": [
    "seed = 42\n",
    "\n",
    "def seed_everything(seed):\n",
    "    random.seed(seed)\n",
    "    os.environ['PYTHONHASHSEED'] = str(seed)\n",
    "    np.random.seed(seed)\n",
    "    torch.manual_seed(seed)\n",
    "    torch.cuda.manual_seed(seed)\n",
    "    torch.cuda.manual_seed_all(seed)\n",
    "    torch.backends.cudnn.deterministic = True\n",
    "\n",
    "seed_everything(seed)"
   ]
  },
  {
   "cell_type": "markdown",
   "id": "a25a5ebb",
   "metadata": {
    "papermill": {
     "duration": 0.006883,
     "end_time": "2024-05-11T13:02:20.737224",
     "exception": false,
     "start_time": "2024-05-11T13:02:20.730341",
     "status": "completed"
    },
    "tags": []
   },
   "source": [
    " # LSTM-based network architecture"
   ]
  },
  {
   "cell_type": "code",
   "execution_count": 4,
   "id": "415e1af8",
   "metadata": {
    "execution": {
     "iopub.execute_input": "2024-05-11T13:02:20.753307Z",
     "iopub.status.busy": "2024-05-11T13:02:20.752724Z",
     "iopub.status.idle": "2024-05-11T13:02:20.761609Z",
     "shell.execute_reply": "2024-05-11T13:02:20.760677Z"
    },
    "papermill": {
     "duration": 0.01898,
     "end_time": "2024-05-11T13:02:20.763555",
     "exception": false,
     "start_time": "2024-05-11T13:02:20.744575",
     "status": "completed"
    },
    "tags": []
   },
   "outputs": [],
   "source": [
    "class LSTM_block(nn.Module):\n",
    "    def __init__(self, n_inputs, n_hidden, n_rnnlayers, n_outputs):\n",
    "        super(LSTM_block,self).__init__()\n",
    "        self.D = n_inputs\n",
    "        self.M = n_hidden\n",
    "        self.K = n_outputs\n",
    "        self.L = n_rnnlayers\n",
    "        self.lstm = nn.LSTM(input_size = self.D,\n",
    "                           hidden_size = self.M,\n",
    "                           num_layers = self.L,\n",
    "                           batch_first = True)\n",
    "\n",
    "        self.feat_vec_size = self.M\n",
    "        self.fc1 = nn.Linear(self.feat_vec_size, 1024)\n",
    "        self.fc2 = nn.Linear(1024, 4)\n",
    "    def forward(self, X):\n",
    "        #input X is NxTxD\n",
    "        #initial hidden states\n",
    "        h0 = torch.zeros(self.L, X.size(0), self.M).to(device)\n",
    "        c0 = torch.zeros(self.L, X.size(0), self.M).to(device)\n",
    "        #get LSTM unit output:\n",
    "        #output is NxTxM\n",
    "        out, _ = self.lstm(X, (h0,c0))\n",
    "        #we only want the output y at the final time step\n",
    "        # output is now of shape (N, M)\n",
    "        xx = out[:, -1, :]\n",
    "        xx = self.fc1(xx)\n",
    "        #final output is 4\n",
    "        xx = self.fc2(xx)\n",
    "        return xx"
   ]
  },
  {
   "cell_type": "code",
   "execution_count": 5,
   "id": "f7ae6886",
   "metadata": {
    "execution": {
     "iopub.execute_input": "2024-05-11T13:02:20.779054Z",
     "iopub.status.busy": "2024-05-11T13:02:20.778557Z",
     "iopub.status.idle": "2024-05-11T13:02:21.105964Z",
     "shell.execute_reply": "2024-05-11T13:02:21.105020Z"
    },
    "papermill": {
     "duration": 0.337287,
     "end_time": "2024-05-11T13:02:21.108027",
     "exception": false,
     "start_time": "2024-05-11T13:02:20.770740",
     "status": "completed"
    },
    "tags": []
   },
   "outputs": [
    {
     "data": {
      "text/plain": [
       "LSTM_block(\n",
       "  (lstm): LSTM(20, 424, num_layers=2, batch_first=True)\n",
       "  (fc1): Linear(in_features=424, out_features=1024, bias=True)\n",
       "  (fc2): Linear(in_features=1024, out_features=4, bias=True)\n",
       ")"
      ]
     },
     "execution_count": 5,
     "metadata": {},
     "output_type": "execute_result"
    }
   ],
   "source": [
    "model = LSTM_block(20, 424, 2, 4)\n",
    "model.to(device)"
   ]
  },
  {
   "cell_type": "code",
   "execution_count": 6,
   "id": "26685cb3",
   "metadata": {
    "execution": {
     "iopub.execute_input": "2024-05-11T13:02:21.124348Z",
     "iopub.status.busy": "2024-05-11T13:02:21.124048Z",
     "iopub.status.idle": "2024-05-11T13:02:21.129305Z",
     "shell.execute_reply": "2024-05-11T13:02:21.128204Z"
    },
    "papermill": {
     "duration": 0.015782,
     "end_time": "2024-05-11T13:02:21.131295",
     "exception": false,
     "start_time": "2024-05-11T13:02:21.115513",
     "status": "completed"
    },
    "tags": []
   },
   "outputs": [
    {
     "name": "stdout",
     "output_type": "stream",
     "text": [
      "Total numbers of parameters: 2637316\n"
     ]
    }
   ],
   "source": [
    "#count the number of parameters in the model\n",
    "params = [p.numel() for p in model.parameters() if p.requires_grad]\n",
    "print(f'Total numbers of parameters: {sum(params)}')"
   ]
  },
  {
   "cell_type": "markdown",
   "id": "36ecfcec",
   "metadata": {
    "papermill": {
     "duration": 0.007412,
     "end_time": "2024-05-11T13:02:21.147017",
     "exception": false,
     "start_time": "2024-05-11T13:02:21.139605",
     "status": "completed"
    },
    "tags": []
   },
   "source": [
    "# Load data & define dataset class"
   ]
  },
  {
   "cell_type": "code",
   "execution_count": 7,
   "id": "1cba8836",
   "metadata": {
    "execution": {
     "iopub.execute_input": "2024-05-11T13:02:21.163113Z",
     "iopub.status.busy": "2024-05-11T13:02:21.162839Z",
     "iopub.status.idle": "2024-05-11T13:02:32.895813Z",
     "shell.execute_reply": "2024-05-11T13:02:32.894699Z"
    },
    "papermill": {
     "duration": 11.743748,
     "end_time": "2024-05-11T13:02:32.898114",
     "exception": false,
     "start_time": "2024-05-11T13:02:21.154366",
     "status": "completed"
    },
    "tags": []
   },
   "outputs": [
    {
     "name": "stdout",
     "output_type": "stream",
     "text": [
      "(652092, 16, 20) (72455, 16, 20) (181137, 16, 20)\n",
      "(652092, 4) (72455, 4) (181137, 4)\n"
     ]
    }
   ],
   "source": [
    "# load data\n",
    "path = '/kaggle/input/cicy4-data-processing/'\n",
    "X_train = np.load(path + 'conf_Xtrain.npy')\n",
    "X_test = np.load(path+'conf_Xtest.npy')\n",
    "X_valid = np.load(path+'conf_Xvalid.npy')\n",
    "\n",
    "y_train = np.load(path+'hodge_ytrain.npy')\n",
    "y_test= np.load(path+'hodge_ytest.npy')\n",
    "y_valid = np.load(path+'hodge_yvalid.npy')\n",
    "\n",
    "print(X_train.shape, X_valid.shape, X_test.shape)\n",
    "print(y_train.shape, y_valid.shape, y_test.shape)"
   ]
  },
  {
   "cell_type": "code",
   "execution_count": 8,
   "id": "1b22a7e1",
   "metadata": {
    "execution": {
     "iopub.execute_input": "2024-05-11T13:02:32.914890Z",
     "iopub.status.busy": "2024-05-11T13:02:32.914537Z",
     "iopub.status.idle": "2024-05-11T13:02:33.380239Z",
     "shell.execute_reply": "2024-05-11T13:02:33.379406Z"
    },
    "papermill": {
     "duration": 0.476705,
     "end_time": "2024-05-11T13:02:33.382752",
     "exception": false,
     "start_time": "2024-05-11T13:02:32.906047",
     "status": "completed"
    },
    "tags": []
   },
   "outputs": [],
   "source": [
    "#Convert data to torch tensor with float32 precision\n",
    "#(needed to be compatible with the floating decision of the network parameters)\n",
    "X_train = torch.from_numpy(X_train.astype(np.float32))\n",
    "y_train = torch.from_numpy(y_train.astype(np.float32))\n",
    "\n",
    "X_valid = torch.from_numpy(X_valid.astype(np.float32))\n",
    "y_valid = torch.from_numpy(y_valid.astype(np.float32))\n",
    "\n",
    "X_test = torch.from_numpy(X_test.astype(np.float32))\n",
    "y_test= torch.from_numpy(y_test.astype(np.float32))"
   ]
  },
  {
   "cell_type": "code",
   "execution_count": 9,
   "id": "1500c4dc",
   "metadata": {
    "execution": {
     "iopub.execute_input": "2024-05-11T13:02:33.399509Z",
     "iopub.status.busy": "2024-05-11T13:02:33.399231Z",
     "iopub.status.idle": "2024-05-11T13:02:33.405690Z",
     "shell.execute_reply": "2024-05-11T13:02:33.404798Z"
    },
    "papermill": {
     "duration": 0.016918,
     "end_time": "2024-05-11T13:02:33.407644",
     "exception": false,
     "start_time": "2024-05-11T13:02:33.390726",
     "status": "completed"
    },
    "tags": []
   },
   "outputs": [],
   "source": [
    "class CICY4Dataset(torch.utils.data.Dataset):\n",
    "    def __init__(self, X, y):\n",
    "        self.X = X\n",
    "        self.y = y\n",
    "    def __len__(self):\n",
    "        return len(self.X)\n",
    "    def __getitem__(self, idx):\n",
    "        X0 = self.X[idx]\n",
    "        y0 = self.y[idx]\n",
    "        return X0, y0\n",
    "\n",
    "train_set = CICY4Dataset(X_train, y_train)\n",
    "val_set = CICY4Dataset(X_valid, y_valid)\n",
    "test_set = CICY4Dataset(X_test, y_test)"
   ]
  },
  {
   "cell_type": "code",
   "execution_count": 10,
   "id": "9b235c2f",
   "metadata": {
    "execution": {
     "iopub.execute_input": "2024-05-11T13:02:33.423883Z",
     "iopub.status.busy": "2024-05-11T13:02:33.423579Z",
     "iopub.status.idle": "2024-05-11T13:02:33.428720Z",
     "shell.execute_reply": "2024-05-11T13:02:33.427911Z"
    },
    "papermill": {
     "duration": 0.015519,
     "end_time": "2024-05-11T13:02:33.430662",
     "exception": false,
     "start_time": "2024-05-11T13:02:33.415143",
     "status": "completed"
    },
    "tags": []
   },
   "outputs": [],
   "source": [
    "from torch.utils.data import DataLoader\n",
    "\n",
    "train_loader = DataLoader(train_set, batch_size=128, shuffle=True)\n",
    "val_loader = DataLoader(val_set, batch_size=128, shuffle=True)\n",
    "test_loader = DataLoader(test_set, batch_size=128, shuffle=False)"
   ]
  },
  {
   "cell_type": "markdown",
   "id": "41f0379d",
   "metadata": {
    "papermill": {
     "duration": 0.007215,
     "end_time": "2024-05-11T13:02:33.445345",
     "exception": false,
     "start_time": "2024-05-11T13:02:33.438130",
     "status": "completed"
    },
    "tags": []
   },
   "source": [
    "# Utility functions"
   ]
  },
  {
   "cell_type": "code",
   "execution_count": 11,
   "id": "29db6839",
   "metadata": {
    "execution": {
     "iopub.execute_input": "2024-05-11T13:02:33.461320Z",
     "iopub.status.busy": "2024-05-11T13:02:33.460687Z",
     "iopub.status.idle": "2024-05-11T13:02:33.466746Z",
     "shell.execute_reply": "2024-05-11T13:02:33.465890Z"
    },
    "papermill": {
     "duration": 0.016025,
     "end_time": "2024-05-11T13:02:33.468726",
     "exception": false,
     "start_time": "2024-05-11T13:02:33.452701",
     "status": "completed"
    },
    "tags": []
   },
   "outputs": [],
   "source": [
    "def train_one_epoch(model, criterion, optimizer, train_loader):\n",
    "    model.train()\n",
    "    train_loss = []\n",
    "    for inputs, target in train_loader:\n",
    "        inputs, target = inputs.to(device), target.to(device)\n",
    "        optimizer.zero_grad()\n",
    "        out = model(inputs)\n",
    "        loss = criterion(out, target)\n",
    "        loss.backward()\n",
    "        optimizer.step()\n",
    "        train_loss.append(loss.item())\n",
    "    #average the train_loss list in for all batches in the train_gen\n",
    "    train_loss = np.mean(train_loss)\n",
    "    return train_loss"
   ]
  },
  {
   "cell_type": "code",
   "execution_count": 12,
   "id": "1ae072b8",
   "metadata": {
    "execution": {
     "iopub.execute_input": "2024-05-11T13:02:33.485033Z",
     "iopub.status.busy": "2024-05-11T13:02:33.484772Z",
     "iopub.status.idle": "2024-05-11T13:02:33.490434Z",
     "shell.execute_reply": "2024-05-11T13:02:33.489606Z"
    },
    "papermill": {
     "duration": 0.016395,
     "end_time": "2024-05-11T13:02:33.492599",
     "exception": false,
     "start_time": "2024-05-11T13:02:33.476204",
     "status": "completed"
    },
    "tags": []
   },
   "outputs": [],
   "source": [
    "def validate_one_epoch(model, criterion, optimizer, val_loader):\n",
    "    model.eval()\n",
    "    test_loss = []\n",
    "    for inputs, target in val_loader:\n",
    "        inputs, target = inputs.to(device), target.to(device)\n",
    "        out = model(inputs)\n",
    "        loss = criterion(out, target)\n",
    "        test_loss.append(loss.item())\n",
    "    #average the test_loss list in for all batches in the test_gen\n",
    "    test_loss = np.mean(test_loss)\n",
    "    return test_loss"
   ]
  },
  {
   "cell_type": "code",
   "execution_count": 13,
   "id": "6cf84ecc",
   "metadata": {
    "execution": {
     "iopub.execute_input": "2024-05-11T13:02:33.508931Z",
     "iopub.status.busy": "2024-05-11T13:02:33.508349Z",
     "iopub.status.idle": "2024-05-11T13:02:33.519002Z",
     "shell.execute_reply": "2024-05-11T13:02:33.518180Z"
    },
    "papermill": {
     "duration": 0.020861,
     "end_time": "2024-05-11T13:02:33.520903",
     "exception": false,
     "start_time": "2024-05-11T13:02:33.500042",
     "status": "completed"
    },
    "tags": []
   },
   "outputs": [],
   "source": [
    "def batch_gd_scheduler(model, new_model_name, criterion, optimizer, train_loader, val_loader, scheduler,\n",
    "                         epochs, device, batch_size=128):\n",
    "    train_losses = np.zeros(epochs)\n",
    "    test_losses = np.zeros(epochs)\n",
    "    patience = 0\n",
    "    best_loss = 1000\n",
    "    max_patience = 20\n",
    "    for i in range(epochs):\n",
    "        t0 = datetime.now()\n",
    "        train_loss = train_one_epoch(model, criterion, optimizer,train_loader)\n",
    "        test_loss = validate_one_epoch(model, criterion, optimizer,val_loader)\n",
    "        #Early stopping based on test loss\n",
    "        if i == 0:\n",
    "            best_loss = test_loss\n",
    "            torch.save(model, f'/kaggle/working/{new_model_name}.pt')\n",
    "            #torch.save(model, path+f'{new_model_name}.pt')\n",
    "            print(f'Model saved as {new_model_name} at epoch {i}')\n",
    "        else:\n",
    "            if test_loss < best_loss:\n",
    "                best_loss = test_loss\n",
    "                torch.save(model, f'/kaggle/working/{new_model_name}.pt')\n",
    "                #torch.save(model, path+f'{new_model_name}.pt')\n",
    "                print(f'Model overwritten at epoch {i}, new best val loss {best_loss}')\n",
    "                patience = 0\n",
    "            else:\n",
    "                patience = patience +1\n",
    "                #print(f'No improvement, current patience level is {patience} at epoch {i}')\n",
    "        if patience > max_patience:\n",
    "            print(f'Max patience reached, training is terminated at epoch {i}')\n",
    "            break\n",
    "        #Apply scheduler after the train+validate parts\n",
    "        before_lr = optimizer.param_groups[0][\"lr\"]\n",
    "        scheduler.step(test_loss)\n",
    "        after_lr = optimizer.param_groups[0][\"lr\"]\n",
    "        train_losses[i] = train_loss\n",
    "        test_losses[i] = test_loss\n",
    "        #write the losses into a csv file\n",
    "        loss_dict = {'train_loss': train_losses, 'test_loss': test_losses}\n",
    "        dd = pd.DataFrame(loss_dict)\n",
    "        dd.to_csv('loss_dict_lstm_424.csv', index = False)\n",
    "        dt = datetime.now()-t0\n",
    "        if i%10==0:\n",
    "            print(f'Epoch: {i+1}/{epochs}, train loss: {train_loss: .3f}, val_loss: {test_loss: .3f}, duration: {dt}, learning rate: {before_lr, after_lr}')\n",
    "    return train_losses, test_losses\n"
   ]
  },
  {
   "cell_type": "code",
   "execution_count": 14,
   "id": "e3a8abcb",
   "metadata": {
    "execution": {
     "iopub.execute_input": "2024-05-11T13:02:33.536904Z",
     "iopub.status.busy": "2024-05-11T13:02:33.536645Z",
     "iopub.status.idle": "2024-05-11T13:02:33.543320Z",
     "shell.execute_reply": "2024-05-11T13:02:33.542489Z"
    },
    "papermill": {
     "duration": 0.016638,
     "end_time": "2024-05-11T13:02:33.545139",
     "exception": false,
     "start_time": "2024-05-11T13:02:33.528501",
     "status": "completed"
    },
    "tags": []
   },
   "outputs": [],
   "source": [
    "def train_from_scratch_or_load(load_model_weight,new_model_name, epochs):\n",
    "    if load_model_weight==None:\n",
    "        #criterion = nn.MSELoss()\n",
    "        criterion = nn.HuberLoss()\n",
    "        optimizer = torch.optim.AdamW(model.parameters(), lr=0.01)\n",
    "        scheduler = lr_scheduler.ReduceLROnPlateau(optimizer, 'min', factor=0.1, min_lr = 1e-8)\n",
    "        train_losses, test_losses=batch_gd_scheduler(model, new_model_name, criterion,\n",
    "                                                     optimizer,train_loader, val_loader,\n",
    "                                                      scheduler, epochs,\n",
    "                                                       device = device)\n",
    "        return train_losses, test_losses\n",
    "    else:\n",
    "        if torch.cuda.is_available():\n",
    "            trained_model = torch.load(load_model_weight)\n",
    "        else:\n",
    "            trained_model = torch.load(load_model_weight, map_location=torch.device('cpu'))\n",
    "        return trained_model"
   ]
  },
  {
   "cell_type": "code",
   "execution_count": 15,
   "id": "a3f2a2a3",
   "metadata": {
    "execution": {
     "iopub.execute_input": "2024-05-11T13:02:33.561349Z",
     "iopub.status.busy": "2024-05-11T13:02:33.561100Z",
     "iopub.status.idle": "2024-05-11T13:02:33.566939Z",
     "shell.execute_reply": "2024-05-11T13:02:33.566147Z"
    },
    "papermill": {
     "duration": 0.015953,
     "end_time": "2024-05-11T13:02:33.568790",
     "exception": false,
     "start_time": "2024-05-11T13:02:33.552837",
     "status": "completed"
    },
    "tags": []
   },
   "outputs": [],
   "source": [
    "def load_and_retrain(load_model_weight, new_model_name, epochs):\n",
    "    trained_model = torch.load(load_model_weight)\n",
    "    criterion = nn.HuberLoss()\n",
    "    optimizer = torch.optim.AdamW(trained_model.parameters(),lr=0.0001)\n",
    "    scheduler = lr_scheduler.ReduceLROnPlateau(optimizer, 'min', factor=0.5, min_lr = 5e-7)\n",
    "    trained_model.train()\n",
    "    train_losses, test_losses=batch_gd_scheduler(trained_model,new_model_name, criterion, optimizer,\n",
    "                                                 train_loader, val_loader,\n",
    "                                                 scheduler, epochs,\n",
    "                                                 device = device)\n",
    "    return trained_model, train_losses, test_losses"
   ]
  },
  {
   "cell_type": "code",
   "execution_count": 16,
   "id": "cc0ea021",
   "metadata": {
    "execution": {
     "iopub.execute_input": "2024-05-11T13:02:33.585152Z",
     "iopub.status.busy": "2024-05-11T13:02:33.584511Z",
     "iopub.status.idle": "2024-05-11T13:02:33.589019Z",
     "shell.execute_reply": "2024-05-11T13:02:33.588305Z"
    },
    "papermill": {
     "duration": 0.014506,
     "end_time": "2024-05-11T13:02:33.590848",
     "exception": false,
     "start_time": "2024-05-11T13:02:33.576342",
     "status": "completed"
    },
    "tags": []
   },
   "outputs": [],
   "source": [
    "def plot_losses(train_losses, test_losses):\n",
    "    # Plot the train loss and test loss per iteration\n",
    "    plt.plot(train_losses, label='train loss')\n",
    "    plt.plot(test_losses, label='val loss')\n",
    "    plt.legend()\n",
    "    plt.show()"
   ]
  },
  {
   "cell_type": "code",
   "execution_count": 17,
   "id": "b8e0c427",
   "metadata": {
    "execution": {
     "iopub.execute_input": "2024-05-11T13:02:33.606378Z",
     "iopub.status.busy": "2024-05-11T13:02:33.606145Z",
     "iopub.status.idle": "2024-05-11T13:02:33.616964Z",
     "shell.execute_reply": "2024-05-11T13:02:33.616303Z"
    },
    "papermill": {
     "duration": 0.020588,
     "end_time": "2024-05-11T13:02:33.618714",
     "exception": false,
     "start_time": "2024-05-11T13:02:33.598126",
     "status": "completed"
    },
    "tags": []
   },
   "outputs": [],
   "source": [
    "################## GET PREDICTIONS + ACCURACY #####################\n",
    "def get_pred_n_acc(models, device, dataloader, num_iter):\n",
    "    i = 0\n",
    "    ypreds =[]\n",
    "    targets = []\n",
    "    #The last batch might not have size 128\n",
    "    while i< num_iter:\n",
    "        for data, target in dataloader:\n",
    "            #this empty list is to hold all models' preds\n",
    "            ypred = []\n",
    "            data= data.to(device)\n",
    "            data = data.to(torch.float32)\n",
    "            target = target.to(torch.float32)\n",
    "            #append the 'i^th' target\n",
    "            targets.append(target)\n",
    "            for model in models:\n",
    "                model.eval()\n",
    "                yp = model(data)\n",
    "                yp = yp.detach().cpu().numpy()\n",
    "                ypred.append(yp)\n",
    "            #take the mean of all models' predictions\n",
    "            ypred = np.array(ypred).mean(axis = 0)\n",
    "            ypred = np.round(ypred)\n",
    "            i+=1\n",
    "            #append ypred, targets inside the 'i' loop\n",
    "            # append the 'i^th' mean prediction\n",
    "            ypreds.append(ypred)\n",
    "            if i == num_iter:\n",
    "                break\n",
    "     #Do not convert ypreds, targets to np.array at this point,\n",
    "    #since the last batch has a different size, causing an error !\n",
    "    #CALCULATING ACCURACY\n",
    "    yp =  np.concatenate([ypreds[j] for j in range(len(ypreds))], axis = 0)\n",
    "    tgs =  np.concatenate([targets[j] for j in range(len(targets))], axis = 0)\n",
    "    h11_acc = ((yp[:,0] == tgs[:,0]).sum())/len(yp)\n",
    "    h21_acc = ((yp[:,1] == tgs[:,1]).sum())/len(yp)\n",
    "    h31_acc = ((yp[:,2] == tgs[:,2]).sum())/len(yp)\n",
    "    h22_acc = ((yp[:,3] == tgs[:,3]).sum())/len(yp)\n",
    "    acc = [h11_acc*100,h21_acc*100,h31_acc*100,h22_acc*100 ]\n",
    "    return  yp, tgs, acc\n"
   ]
  },
  {
   "cell_type": "markdown",
   "id": "80b66fa0",
   "metadata": {
    "papermill": {
     "duration": 0.007249,
     "end_time": "2024-05-11T13:02:33.633317",
     "exception": false,
     "start_time": "2024-05-11T13:02:33.626068",
     "status": "completed"
    },
    "tags": []
   },
   "source": [
    "# Train loop"
   ]
  },
  {
   "cell_type": "code",
   "execution_count": 18,
   "id": "e844a763",
   "metadata": {
    "execution": {
     "iopub.execute_input": "2024-05-11T13:02:33.649509Z",
     "iopub.status.busy": "2024-05-11T13:02:33.649188Z",
     "iopub.status.idle": "2024-05-11T17:11:55.472505Z",
     "shell.execute_reply": "2024-05-11T17:11:55.471471Z"
    },
    "papermill": {
     "duration": 14961.851457,
     "end_time": "2024-05-11T17:11:55.492275",
     "exception": false,
     "start_time": "2024-05-11T13:02:33.640818",
     "status": "completed"
    },
    "tags": []
   },
   "outputs": [
    {
     "name": "stdout",
     "output_type": "stream",
     "text": [
      "Model saved as LSTM-424 at epoch 0\n",
      "Epoch: 1/550, train loss:  9.997, val_loss:  9.831, duration: 0:00:51.184695, learning rate: (0.01, 0.01)\n",
      "Model overwritten at epoch 1, new best val loss 8.560033743553902\n",
      "Model overwritten at epoch 4, new best val loss 8.481373691054248\n",
      "Model overwritten at epoch 8, new best val loss 8.417339119751407\n",
      "Model overwritten at epoch 10, new best val loss 8.414050863323178\n",
      "Epoch: 11/550, train loss:  8.443, val_loss:  8.414, duration: 0:00:50.775821, learning rate: (0.01, 0.01)\n",
      "Model overwritten at epoch 11, new best val loss 8.379450290081152\n",
      "Model overwritten at epoch 19, new best val loss 8.324216715662988\n",
      "Epoch: 21/550, train loss:  8.457, val_loss:  8.387, duration: 0:00:50.909989, learning rate: (0.01, 0.01)\n",
      "Epoch: 31/550, train loss:  8.561, val_loss:  8.769, duration: 0:00:50.713366, learning rate: (0.01, 0.001)\n",
      "Model overwritten at epoch 32, new best val loss 7.3556589096311535\n",
      "Model overwritten at epoch 33, new best val loss 7.299337129744273\n",
      "Model overwritten at epoch 34, new best val loss 7.186037976905783\n",
      "Model overwritten at epoch 35, new best val loss 7.157267461167862\n",
      "Model overwritten at epoch 36, new best val loss 7.108103248387628\n",
      "Model overwritten at epoch 37, new best val loss 7.04554044128095\n",
      "Model overwritten at epoch 38, new best val loss 6.909716850866086\n",
      "Model overwritten at epoch 39, new best val loss 6.676214726093164\n",
      "Epoch: 41/550, train loss:  6.696, val_loss:  6.847, duration: 0:00:50.880301, learning rate: (0.001, 0.001)\n",
      "Model overwritten at epoch 41, new best val loss 6.503407003177327\n",
      "Model overwritten at epoch 42, new best val loss 6.483312312467598\n",
      "Model overwritten at epoch 43, new best val loss 6.252961057414033\n",
      "Model overwritten at epoch 44, new best val loss 5.986046391609905\n",
      "Model overwritten at epoch 45, new best val loss 5.4242352085349\n",
      "Model overwritten at epoch 46, new best val loss 4.891089630295149\n",
      "Model overwritten at epoch 47, new best val loss 3.9500370328388517\n",
      "Model overwritten at epoch 48, new best val loss 3.4228678695739263\n",
      "Model overwritten at epoch 49, new best val loss 2.7867743868045705\n",
      "Epoch: 51/550, train loss:  2.653, val_loss:  2.944, duration: 0:00:50.784301, learning rate: (0.001, 0.001)\n",
      "Model overwritten at epoch 51, new best val loss 2.4871315367427873\n",
      "Model overwritten at epoch 52, new best val loss 2.2982687367753796\n",
      "Model overwritten at epoch 53, new best val loss 2.1875987080249417\n",
      "Model overwritten at epoch 54, new best val loss 1.9169002628410514\n",
      "Model overwritten at epoch 55, new best val loss 1.7816831893180833\n",
      "Model overwritten at epoch 56, new best val loss 1.696419186430213\n",
      "Model overwritten at epoch 57, new best val loss 1.5278440520456438\n",
      "Model overwritten at epoch 60, new best val loss 1.3897746049748105\n",
      "Epoch: 61/550, train loss:  1.421, val_loss:  1.390, duration: 0:00:50.881290, learning rate: (0.001, 0.001)\n",
      "Model overwritten at epoch 62, new best val loss 1.3464631981740343\n",
      "Model overwritten at epoch 63, new best val loss 1.3055701142265683\n",
      "Model overwritten at epoch 64, new best val loss 1.208956699943206\n",
      "Model overwritten at epoch 68, new best val loss 1.1891030121522395\n",
      "Model overwritten at epoch 70, new best val loss 1.1668574724878584\n",
      "Epoch: 71/550, train loss:  1.092, val_loss:  1.167, duration: 0:00:50.784610, learning rate: (0.001, 0.001)\n",
      "Model overwritten at epoch 71, new best val loss 1.1439714228875633\n",
      "Model overwritten at epoch 73, new best val loss 1.1218116959356548\n",
      "Model overwritten at epoch 74, new best val loss 1.0413506718539687\n",
      "Model overwritten at epoch 76, new best val loss 0.9947285331536012\n",
      "Model overwritten at epoch 77, new best val loss 0.9664097447243948\n",
      "Epoch: 81/550, train loss:  0.905, val_loss:  1.184, duration: 0:00:50.921239, learning rate: (0.001, 0.001)\n",
      "Model overwritten at epoch 83, new best val loss 0.9530876369282892\n",
      "Model overwritten at epoch 85, new best val loss 0.8764999143555892\n",
      "Model overwritten at epoch 87, new best val loss 0.8302310507028401\n",
      "Epoch: 91/550, train loss:  0.773, val_loss:  0.864, duration: 0:00:50.816980, learning rate: (0.001, 0.001)\n",
      "Model overwritten at epoch 92, new best val loss 0.823499597306815\n",
      "Model overwritten at epoch 94, new best val loss 0.7760860699194448\n",
      "Model overwritten at epoch 96, new best val loss 0.772954288824105\n",
      "Model overwritten at epoch 98, new best val loss 0.7541584257936562\n",
      "Model overwritten at epoch 99, new best val loss 0.7264623022794303\n",
      "Epoch: 101/550, train loss:  0.656, val_loss:  0.786, duration: 0:00:50.640282, learning rate: (0.001, 0.001)\n",
      "Model overwritten at epoch 101, new best val loss 0.6950350016408076\n",
      "Model overwritten at epoch 103, new best val loss 0.6865843457729939\n",
      "Model overwritten at epoch 104, new best val loss 0.6734967823066409\n",
      "Model overwritten at epoch 110, new best val loss 0.6366127082910488\n",
      "Epoch: 111/550, train loss:  0.563, val_loss:  0.637, duration: 0:00:50.750099, learning rate: (0.001, 0.001)\n",
      "Model overwritten at epoch 112, new best val loss 0.616890799326451\n",
      "Model overwritten at epoch 113, new best val loss 0.6043183417757563\n",
      "Model overwritten at epoch 114, new best val loss 0.5873918576031345\n",
      "Model overwritten at epoch 116, new best val loss 0.577191495495919\n",
      "Model overwritten at epoch 118, new best val loss 0.5712790340447973\n",
      "Model overwritten at epoch 119, new best val loss 0.55915973315794\n",
      "Model overwritten at epoch 120, new best val loss 0.5300824845068459\n",
      "Epoch: 121/550, train loss:  0.484, val_loss:  0.530, duration: 0:00:50.563052, learning rate: (0.001, 0.001)\n",
      "Model overwritten at epoch 128, new best val loss 0.5248778552027186\n",
      "Epoch: 131/550, train loss:  0.444, val_loss:  0.720, duration: 0:00:51.470838, learning rate: (0.001, 0.001)\n",
      "Model overwritten at epoch 134, new best val loss 0.5127217323376388\n",
      "Model overwritten at epoch 135, new best val loss 0.4879805364726502\n",
      "Model overwritten at epoch 136, new best val loss 0.46628779480381616\n",
      "Model overwritten at epoch 138, new best val loss 0.46258515070933304\n",
      "Model overwritten at epoch 140, new best val loss 0.43968685489062487\n",
      "Epoch: 141/550, train loss:  0.396, val_loss:  0.440, duration: 0:00:51.392637, learning rate: (0.001, 0.001)\n",
      "Model overwritten at epoch 145, new best val loss 0.4377963519154192\n",
      "Epoch: 151/550, train loss:  0.387, val_loss:  0.764, duration: 0:00:51.657672, learning rate: (0.001, 0.001)\n",
      "Model overwritten at epoch 156, new best val loss 0.4287452040999024\n",
      "Model overwritten at epoch 158, new best val loss 0.4256945455568388\n",
      "Epoch: 161/550, train loss:  0.343, val_loss:  0.653, duration: 0:00:51.594097, learning rate: (0.001, 0.001)\n",
      "Model overwritten at epoch 165, new best val loss 0.42030603999708904\n",
      "Model overwritten at epoch 166, new best val loss 0.3923628764913616\n",
      "Model overwritten at epoch 168, new best val loss 0.38363627276040047\n",
      "Model overwritten at epoch 169, new best val loss 0.36447071096148653\n",
      "Epoch: 171/550, train loss:  0.329, val_loss:  0.413, duration: 0:00:51.448738, learning rate: (0.001, 0.001)\n",
      "Model overwritten at epoch 174, new best val loss 0.3603959871189935\n",
      "Model overwritten at epoch 179, new best val loss 0.35829139145081323\n",
      "Epoch: 181/550, train loss:  0.310, val_loss:  0.388, duration: 0:00:51.209723, learning rate: (0.001, 0.001)\n",
      "Model overwritten at epoch 181, new best val loss 0.3544375686733811\n",
      "Model overwritten at epoch 183, new best val loss 0.34827674171070994\n",
      "Model overwritten at epoch 187, new best val loss 0.3383195280595116\n",
      "Model overwritten at epoch 189, new best val loss 0.3180215035481428\n",
      "Model overwritten at epoch 190, new best val loss 0.31271519841760975\n",
      "Epoch: 191/550, train loss:  0.287, val_loss:  0.313, duration: 0:00:51.372279, learning rate: (0.001, 0.001)\n",
      "Epoch: 201/550, train loss:  0.266, val_loss:  0.333, duration: 0:00:51.361755, learning rate: (0.001, 0.001)\n",
      "Model overwritten at epoch 202, new best val loss 0.18853212394989777\n",
      "Model overwritten at epoch 203, new best val loss 0.16657725065894016\n",
      "Model overwritten at epoch 204, new best val loss 0.15599412827159573\n",
      "Model overwritten at epoch 205, new best val loss 0.15198980613465451\n",
      "Model overwritten at epoch 206, new best val loss 0.1457652454798289\n",
      "Model overwritten at epoch 207, new best val loss 0.14349009420532188\n",
      "Model overwritten at epoch 208, new best val loss 0.1399222124249689\n",
      "Model overwritten at epoch 209, new best val loss 0.13707829833135823\n",
      "Model overwritten at epoch 210, new best val loss 0.13423504722444257\n",
      "Epoch: 211/550, train loss:  0.043, val_loss:  0.134, duration: 0:00:50.866011, learning rate: (0.0001, 0.0001)\n",
      "Model overwritten at epoch 211, new best val loss 0.13400811117267272\n",
      "Model overwritten at epoch 212, new best val loss 0.13294773859610842\n",
      "Model overwritten at epoch 213, new best val loss 0.13083478568591558\n",
      "Model overwritten at epoch 214, new best val loss 0.12927687499915272\n",
      "Model overwritten at epoch 216, new best val loss 0.12785442651789866\n",
      "Model overwritten at epoch 218, new best val loss 0.1276152788265567\n",
      "Model overwritten at epoch 219, new best val loss 0.12570016987529803\n",
      "Model overwritten at epoch 220, new best val loss 0.12501241915039651\n",
      "Epoch: 221/550, train loss:  0.028, val_loss:  0.125, duration: 0:00:51.312858, learning rate: (0.0001, 0.0001)\n",
      "Model overwritten at epoch 222, new best val loss 0.12392743455814412\n",
      "Model overwritten at epoch 224, new best val loss 0.12347001417554797\n",
      "Model overwritten at epoch 227, new best val loss 0.12093531134385596\n",
      "Epoch: 231/550, train loss:  0.022, val_loss:  0.123, duration: 0:00:51.519705, learning rate: (0.0001, 0.0001)\n",
      "Model overwritten at epoch 233, new best val loss 0.1195207936089729\n",
      "Model overwritten at epoch 237, new best val loss 0.11910970256100466\n",
      "Model overwritten at epoch 239, new best val loss 0.11881677297188702\n",
      "Epoch: 241/550, train loss:  0.019, val_loss:  0.119, duration: 0:00:51.381342, learning rate: (0.0001, 0.0001)\n",
      "Model overwritten at epoch 244, new best val loss 0.11872636083993121\n",
      "Model overwritten at epoch 246, new best val loss 0.11859041014834056\n",
      "Model overwritten at epoch 247, new best val loss 0.11845952707360871\n",
      "Epoch: 251/550, train loss:  0.018, val_loss:  0.119, duration: 0:00:51.403853, learning rate: (0.0001, 0.0001)\n",
      "Model overwritten at epoch 252, new best val loss 0.11721971442486033\n",
      "Epoch: 261/550, train loss:  0.018, val_loss:  0.118, duration: 0:00:51.418772, learning rate: (0.0001, 0.0001)\n",
      "Model overwritten at epoch 264, new best val loss 0.1121110620956073\n",
      "Model overwritten at epoch 265, new best val loss 0.11182581892851379\n",
      "Model overwritten at epoch 267, new best val loss 0.11180340679365701\n",
      "Model overwritten at epoch 270, new best val loss 0.1117394678081128\n",
      "Epoch: 271/550, train loss:  0.007, val_loss:  0.112, duration: 0:00:50.489159, learning rate: (1e-05, 1e-05)\n",
      "Model overwritten at epoch 271, new best val loss 0.11166794706346234\n",
      "Epoch: 281/550, train loss:  0.006, val_loss:  0.112, duration: 0:00:50.473889, learning rate: (1e-05, 1e-05)\n",
      "Epoch: 291/550, train loss:  0.005, val_loss:  0.112, duration: 0:00:50.759631, learning rate: (1.0000000000000002e-06, 1.0000000000000002e-06)\n",
      "Max patience reached, training is terminated at epoch 292\n"
     ]
    }
   ],
   "source": [
    "load_model_weight = None\n",
    "epochs = 550\n",
    "new_model_name = 'LSTM-424'\n",
    "if load_model_weight is None:\n",
    "    train_losses, test_losses=train_from_scratch_or_load(load_model_weight,new_model_name,  epochs)\n",
    "else:\n",
    "    trained_model_v00 = train_from_scratch_or_load(load_model_weight, new_model_name, epochs)\n",
    "    #Train accuracy\n",
    "    yt, tgt, acct = get_pred_n_acc([trained_model_v00], device, train_loader, num_iter = len(train_loader))\n",
    "    #validation accuracy\n",
    "    yv, tgv, accv = get_pred_n_acc([trained_model_v00], device, val_loader, num_iter = len(val_loader))\n",
    "    print(f'Train data, target shapes: {yt.shape, tgt.shape},\\n train accuracies {acct}')\n",
    "    print(f'Validation data, target shapes: {yv.shape, tgv.shape},\\n validation accuracies {accv}')\n",
    "    #Test accuracy\n",
    "    yts, tgts, accts = get_pred_n_acc([trained_model_v00], device, test_loader, num_iter = len(test_loader))\n",
    "    print(f'Test data, target shapes: {yts.shape, tgts.shape},\\n test accuracies {accts}')"
   ]
  },
  {
   "cell_type": "code",
   "execution_count": 19,
   "id": "715e6050",
   "metadata": {
    "execution": {
     "iopub.execute_input": "2024-05-11T17:11:55.528443Z",
     "iopub.status.busy": "2024-05-11T17:11:55.528120Z",
     "iopub.status.idle": "2024-05-11T17:11:55.794722Z",
     "shell.execute_reply": "2024-05-11T17:11:55.793812Z"
    },
    "papermill": {
     "duration": 0.287074,
     "end_time": "2024-05-11T17:11:55.796842",
     "exception": false,
     "start_time": "2024-05-11T17:11:55.509768",
     "status": "completed"
    },
    "tags": []
   },
   "outputs": [
    {
     "data": {
      "image/png": "[encoded data removed]",
      "text/plain": [
       "<Figure size 640x480 with 1 Axes>"
      ]
     },
     "metadata": {},
     "output_type": "display_data"
    }
   ],
   "source": [
    "plot_losses(train_losses, test_losses)"
   ]
  },
  {
   "cell_type": "markdown",
   "id": "f37b01e5",
   "metadata": {
    "papermill": {
     "duration": 0.018194,
     "end_time": "2024-05-11T17:11:55.833715",
     "exception": false,
     "start_time": "2024-05-11T17:11:55.815521",
     "status": "completed"
    },
    "tags": []
   },
   "source": [
    "# Accuracies"
   ]
  },
  {
   "cell_type": "code",
   "execution_count": 20,
   "id": "3e514952",
   "metadata": {
    "execution": {
     "iopub.execute_input": "2024-05-11T17:11:55.870385Z",
     "iopub.status.busy": "2024-05-11T17:11:55.870057Z",
     "iopub.status.idle": "2024-05-11T17:12:20.200404Z",
     "shell.execute_reply": "2024-05-11T17:12:20.199454Z"
    },
    "papermill": {
     "duration": 24.351158,
     "end_time": "2024-05-11T17:12:20.202684",
     "exception": false,
     "start_time": "2024-05-11T17:11:55.851526",
     "status": "completed"
    },
    "tags": []
   },
   "outputs": [
    {
     "name": "stdout",
     "output_type": "stream",
     "text": [
      "Train data, target shapes: ((652092, 4), (652092, 4)),\n",
      " train accuracies [99.98727173466321, 99.76460376756654, 99.93666537850487, 99.58947510473982]\n",
      "Validation data, target shapes: ((72455, 4), (72455, 4)),\n",
      " validation accuracies [99.5845697329377, 97.05748395555862, 93.20543785798081, 74.90580360223586]\n"
     ]
    }
   ],
   "source": [
    "#Train accuracy\n",
    "yt, tgt, acct = get_pred_n_acc([model], device, train_loader, num_iter = len(train_loader))\n",
    "#validation accuracy\n",
    "yv, tgv, accv = get_pred_n_acc([model], device, val_loader, num_iter = len(val_loader))\n",
    "print(f'Train data, target shapes: {yt.shape, tgt.shape},\\n train accuracies {acct}')\n",
    "print(f'Validation data, target shapes: {yv.shape, tgv.shape},\\n validation accuracies {accv}')\n"
   ]
  },
  {
   "cell_type": "code",
   "execution_count": 21,
   "id": "4822c999",
   "metadata": {
    "execution": {
     "iopub.execute_input": "2024-05-11T17:12:20.240324Z",
     "iopub.status.busy": "2024-05-11T17:12:20.240047Z",
     "iopub.status.idle": "2024-05-11T17:12:26.118955Z",
     "shell.execute_reply": "2024-05-11T17:12:26.117856Z"
    },
    "papermill": {
     "duration": 5.899948,
     "end_time": "2024-05-11T17:12:26.121043",
     "exception": false,
     "start_time": "2024-05-11T17:12:20.221095",
     "status": "completed"
    },
    "tags": []
   },
   "outputs": [
    {
     "name": "stdout",
     "output_type": "stream",
     "text": [
      "Test data, target shapes: ((181137, 4), (181137, 4)),\n",
      " test accuracies [99.56552222903106, 97.06078824315297, 93.17974792560328, 74.65399117794819]\n"
     ]
    }
   ],
   "source": [
    "#Test accuracy\n",
    "yts, tgts, accts = get_pred_n_acc([model], device, test_loader, num_iter = len(test_loader))\n",
    "print(f'Test data, target shapes: {yts.shape, tgts.shape},\\n test accuracies {accts}')\n"
   ]
  }
 ],
 "metadata": {
  "kaggle": {
   "accelerator": "none",
   "dataSources": [
    {
     "sourceId": 171630138,
     "sourceType": "kernelVersion"
    }
   ],
   "dockerImageVersionId": 30665,
   "isGpuEnabled": false,
   "isInternetEnabled": true,
   "language": "python",
   "sourceType": "notebook"
  },
  "kernelspec": {
   "display_name": "Python 3",
   "language": "python",
   "name": "python3"
  },
  "language_info": {
   "codemirror_mode": {
    "name": "ipython",
    "version": 3
   },
   "file_extension": ".py",
   "mimetype": "text/x-python",
   "name": "python",
   "nbconvert_exporter": "python",
   "pygments_lexer": "ipython3",
   "version": "3.10.13"
  },
  "papermill": {
   "default_parameters": {},
   "duration": 15015.37868,
   "end_time": "2024-05-11T17:12:27.792259",
   "environment_variables": {},
   "exception": null,
   "input_path": "__notebook__.ipynb",
   "output_path": "__notebook__.ipynb",
   "parameters": {},
   "start_time": "2024-05-11T13:02:12.413579",
   "version": "2.5.0"
  }
 },
 "nbformat": 4,
 "nbformat_minor": 5
}
