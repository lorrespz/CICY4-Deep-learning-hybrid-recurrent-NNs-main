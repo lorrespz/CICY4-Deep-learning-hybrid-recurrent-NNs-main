{
 "cells": [
  {
   "cell_type": "markdown",
   "id": "9d78bd3a",
   "metadata": {
    "papermill": {
     "duration": 0.00779,
     "end_time": "2024-05-11T07:04:35.521279",
     "exception": false,
     "start_time": "2024-05-11T07:04:35.513489",
     "status": "completed"
    },
    "tags": []
   },
   "source": [
    "# CICY4: LSTM-based network (LSTM-448)"
   ]
  },
  {
   "cell_type": "code",
   "execution_count": 1,
   "id": "0dc782b4",
   "metadata": {
    "_cell_guid": "b1076dfc-b9ad-4769-8c92-a6c4dae69d19",
    "_uuid": "8f2839f25d086af736a60e9eeb907d3b93b6e0e5",
    "execution": {
     "iopub.execute_input": "2024-05-11T07:04:35.537167Z",
     "iopub.status.busy": "2024-05-11T07:04:35.536773Z",
     "iopub.status.idle": "2024-05-11T07:04:41.357559Z",
     "shell.execute_reply": "2024-05-11T07:04:41.356446Z"
    },
    "papermill": {
     "duration": 5.831309,
     "end_time": "2024-05-11T07:04:41.360043",
     "exception": false,
     "start_time": "2024-05-11T07:04:35.528734",
     "status": "completed"
    },
    "tags": []
   },
   "outputs": [],
   "source": [
    "import numpy as np\n",
    "import random\n",
    "import pandas as pd\n",
    "import os as os\n",
    "import matplotlib.pyplot as plt\n",
    "import seaborn as sns\n",
    "from datetime import datetime\n",
    "#sns.set_style(\"darkgrid\")\n",
    "\n",
    "import torch\n",
    "import torch.nn as nn\n",
    "import torch.nn.functional as F\n",
    "import torch.optim.lr_scheduler as lr_scheduler"
   ]
  },
  {
   "cell_type": "code",
   "execution_count": 2,
   "id": "f32a42ef",
   "metadata": {
    "execution": {
     "iopub.execute_input": "2024-05-11T07:04:41.376786Z",
     "iopub.status.busy": "2024-05-11T07:04:41.376042Z",
     "iopub.status.idle": "2024-05-11T07:04:41.431712Z",
     "shell.execute_reply": "2024-05-11T07:04:41.430803Z"
    },
    "papermill": {
     "duration": 0.066093,
     "end_time": "2024-05-11T07:04:41.433641",
     "exception": false,
     "start_time": "2024-05-11T07:04:41.367548",
     "status": "completed"
    },
    "tags": []
   },
   "outputs": [
    {
     "name": "stdout",
     "output_type": "stream",
     "text": [
      "cuda:0\n"
     ]
    }
   ],
   "source": [
    "device = torch.device(\"cuda:0\" if torch.cuda.is_available() else \"cpu\")\n",
    "print(device)"
   ]
  },
  {
   "cell_type": "code",
   "execution_count": 3,
   "id": "753de676",
   "metadata": {
    "execution": {
     "iopub.execute_input": "2024-05-11T07:04:41.449728Z",
     "iopub.status.busy": "2024-05-11T07:04:41.449436Z",
     "iopub.status.idle": "2024-05-11T07:04:41.458110Z",
     "shell.execute_reply": "2024-05-11T07:04:41.457232Z"
    },
    "papermill": {
     "duration": 0.019014,
     "end_time": "2024-05-11T07:04:41.460001",
     "exception": false,
     "start_time": "2024-05-11T07:04:41.440987",
     "status": "completed"
    },
    "tags": []
   },
   "outputs": [],
   "source": [
    "seed = 42\n",
    "\n",
    "def seed_everything(seed):\n",
    "    random.seed(seed)\n",
    "    os.environ['PYTHONHASHSEED'] = str(seed)\n",
    "    np.random.seed(seed)\n",
    "    torch.manual_seed(seed)\n",
    "    torch.cuda.manual_seed(seed)\n",
    "    torch.cuda.manual_seed_all(seed)\n",
    "    torch.backends.cudnn.deterministic = True\n",
    "\n",
    "seed_everything(seed)"
   ]
  },
  {
   "cell_type": "markdown",
   "id": "ffcb1f2b",
   "metadata": {
    "papermill": {
     "duration": 0.006848,
     "end_time": "2024-05-11T07:04:41.473968",
     "exception": false,
     "start_time": "2024-05-11T07:04:41.467120",
     "status": "completed"
    },
    "tags": []
   },
   "source": [
    " # LSTM-based network architecture"
   ]
  },
  {
   "cell_type": "code",
   "execution_count": 4,
   "id": "ab076602",
   "metadata": {
    "execution": {
     "iopub.execute_input": "2024-05-11T07:04:41.489449Z",
     "iopub.status.busy": "2024-05-11T07:04:41.489159Z",
     "iopub.status.idle": "2024-05-11T07:04:41.498063Z",
     "shell.execute_reply": "2024-05-11T07:04:41.497139Z"
    },
    "papermill": {
     "duration": 0.018636,
     "end_time": "2024-05-11T07:04:41.499824",
     "exception": false,
     "start_time": "2024-05-11T07:04:41.481188",
     "status": "completed"
    },
    "tags": []
   },
   "outputs": [],
   "source": [
    "class LSTM_block(nn.Module):\n",
    "    def __init__(self, n_inputs, n_hidden, n_rnnlayers, n_outputs):\n",
    "        super(LSTM_block,self).__init__()\n",
    "        self.D = n_inputs\n",
    "        self.M = n_hidden\n",
    "        self.K = n_outputs\n",
    "        self.L = n_rnnlayers\n",
    "        self.lstm = nn.LSTM(input_size = self.D,\n",
    "                           hidden_size = self.M,\n",
    "                           num_layers = self.L,\n",
    "                           batch_first = True)\n",
    "\n",
    "        self.feat_vec_size = self.M\n",
    "        self.fc1 = nn.Linear(self.feat_vec_size, 1024)\n",
    "        self.fc2 = nn.Linear(1024, 4)\n",
    "    def forward(self, X):\n",
    "        #input X is NxTxD\n",
    "        #initial hidden states\n",
    "        h0 = torch.zeros(self.L, X.size(0), self.M).to(device)\n",
    "        c0 = torch.zeros(self.L, X.size(0), self.M).to(device)\n",
    "        #get LSTM unit output:\n",
    "        #output is NxTxM\n",
    "        out, _ = self.lstm(X, (h0,c0))\n",
    "        #we only want the output y at the final time step\n",
    "        # output is now of shape (N, M)\n",
    "        xx = out[:, -1, :]\n",
    "        xx = self.fc1(xx)\n",
    "        #final output is 4\n",
    "        xx = self.fc2(xx)\n",
    "        return xx"
   ]
  },
  {
   "cell_type": "code",
   "execution_count": 5,
   "id": "1ad9d23e",
   "metadata": {
    "execution": {
     "iopub.execute_input": "2024-05-11T07:04:41.515113Z",
     "iopub.status.busy": "2024-05-11T07:04:41.514815Z",
     "iopub.status.idle": "2024-05-11T07:04:41.871135Z",
     "shell.execute_reply": "2024-05-11T07:04:41.870166Z"
    },
    "papermill": {
     "duration": 0.36625,
     "end_time": "2024-05-11T07:04:41.873284",
     "exception": false,
     "start_time": "2024-05-11T07:04:41.507034",
     "status": "completed"
    },
    "tags": []
   },
   "outputs": [
    {
     "data": {
      "text/plain": [
       "LSTM_block(\n",
       "  (lstm): LSTM(20, 448, num_layers=2, batch_first=True)\n",
       "  (fc1): Linear(in_features=448, out_features=1024, bias=True)\n",
       "  (fc2): Linear(in_features=1024, out_features=4, bias=True)\n",
       ")"
      ]
     },
     "execution_count": 5,
     "metadata": {},
     "output_type": "execute_result"
    }
   ],
   "source": [
    "model = LSTM_block(20, 448, 2, 4)\n",
    "model.to(device)"
   ]
  },
  {
   "cell_type": "code",
   "execution_count": 6,
   "id": "fb7a3c9b",
   "metadata": {
    "execution": {
     "iopub.execute_input": "2024-05-11T07:04:41.890105Z",
     "iopub.status.busy": "2024-05-11T07:04:41.889540Z",
     "iopub.status.idle": "2024-05-11T07:04:41.894968Z",
     "shell.execute_reply": "2024-05-11T07:04:41.893868Z"
    },
    "papermill": {
     "duration": 0.015894,
     "end_time": "2024-05-11T07:04:41.897005",
     "exception": false,
     "start_time": "2024-05-11T07:04:41.881111",
     "status": "completed"
    },
    "tags": []
   },
   "outputs": [
    {
     "name": "stdout",
     "output_type": "stream",
     "text": [
      "Total numbers of parameters: 2915332\n"
     ]
    }
   ],
   "source": [
    "#count the number of parameters in the model\n",
    "params = [p.numel() for p in model.parameters() if p.requires_grad]\n",
    "print(f'Total numbers of parameters: {sum(params)}')"
   ]
  },
  {
   "cell_type": "markdown",
   "id": "588c023e",
   "metadata": {
    "papermill": {
     "duration": 0.007198,
     "end_time": "2024-05-11T07:04:41.912333",
     "exception": false,
     "start_time": "2024-05-11T07:04:41.905135",
     "status": "completed"
    },
    "tags": []
   },
   "source": [
    "# Load data & define dataset class"
   ]
  },
  {
   "cell_type": "code",
   "execution_count": 7,
   "id": "0cc0a109",
   "metadata": {
    "execution": {
     "iopub.execute_input": "2024-05-11T07:04:41.928536Z",
     "iopub.status.busy": "2024-05-11T07:04:41.928277Z",
     "iopub.status.idle": "2024-05-11T07:04:55.188250Z",
     "shell.execute_reply": "2024-05-11T07:04:55.186949Z"
    },
    "papermill": {
     "duration": 13.270804,
     "end_time": "2024-05-11T07:04:55.190728",
     "exception": false,
     "start_time": "2024-05-11T07:04:41.919924",
     "status": "completed"
    },
    "tags": []
   },
   "outputs": [
    {
     "name": "stdout",
     "output_type": "stream",
     "text": [
      "(652092, 16, 20) (72455, 16, 20) (181137, 16, 20)\n",
      "(652092, 4) (72455, 4) (181137, 4)\n"
     ]
    }
   ],
   "source": [
    "# load data\n",
    "path = '/kaggle/input/cicy4-data-processing/'\n",
    "X_train = np.load(path + 'conf_Xtrain.npy')\n",
    "X_test = np.load(path+'conf_Xtest.npy')\n",
    "X_valid = np.load(path+'conf_Xvalid.npy')\n",
    "\n",
    "y_train = np.load(path+'hodge_ytrain.npy')\n",
    "y_test= np.load(path+'hodge_ytest.npy')\n",
    "y_valid = np.load(path+'hodge_yvalid.npy')\n",
    "\n",
    "print(X_train.shape, X_valid.shape, X_test.shape)\n",
    "print(y_train.shape, y_valid.shape, y_test.shape)"
   ]
  },
  {
   "cell_type": "code",
   "execution_count": 8,
   "id": "c1d9d545",
   "metadata": {
    "execution": {
     "iopub.execute_input": "2024-05-11T07:04:55.207455Z",
     "iopub.status.busy": "2024-05-11T07:04:55.207130Z",
     "iopub.status.idle": "2024-05-11T07:04:55.668709Z",
     "shell.execute_reply": "2024-05-11T07:04:55.667889Z"
    },
    "papermill": {
     "duration": 0.472327,
     "end_time": "2024-05-11T07:04:55.671100",
     "exception": false,
     "start_time": "2024-05-11T07:04:55.198773",
     "status": "completed"
    },
    "tags": []
   },
   "outputs": [],
   "source": [
    "#Convert data to torch tensor with float32 precision\n",
    "#(needed to be compatible with the floating decision of the network parameters)\n",
    "X_train = torch.from_numpy(X_train.astype(np.float32))\n",
    "y_train = torch.from_numpy(y_train.astype(np.float32))\n",
    "\n",
    "X_valid = torch.from_numpy(X_valid.astype(np.float32))\n",
    "y_valid = torch.from_numpy(y_valid.astype(np.float32))\n",
    "\n",
    "X_test = torch.from_numpy(X_test.astype(np.float32))\n",
    "y_test= torch.from_numpy(y_test.astype(np.float32))"
   ]
  },
  {
   "cell_type": "code",
   "execution_count": 9,
   "id": "f6565125",
   "metadata": {
    "execution": {
     "iopub.execute_input": "2024-05-11T07:04:55.687636Z",
     "iopub.status.busy": "2024-05-11T07:04:55.687300Z",
     "iopub.status.idle": "2024-05-11T07:04:55.693400Z",
     "shell.execute_reply": "2024-05-11T07:04:55.692554Z"
    },
    "papermill": {
     "duration": 0.01629,
     "end_time": "2024-05-11T07:04:55.695254",
     "exception": false,
     "start_time": "2024-05-11T07:04:55.678964",
     "status": "completed"
    },
    "tags": []
   },
   "outputs": [],
   "source": [
    "class CICY4Dataset(torch.utils.data.Dataset):\n",
    "    def __init__(self, X, y):\n",
    "        self.X = X\n",
    "        self.y = y\n",
    "    def __len__(self):\n",
    "        return len(self.X)\n",
    "    def __getitem__(self, idx):\n",
    "        X0 = self.X[idx]\n",
    "        y0 = self.y[idx]\n",
    "        return X0, y0\n",
    "\n",
    "train_set = CICY4Dataset(X_train, y_train)\n",
    "val_set = CICY4Dataset(X_valid, y_valid)\n",
    "test_set = CICY4Dataset(X_test, y_test)"
   ]
  },
  {
   "cell_type": "code",
   "execution_count": 10,
   "id": "bff55c8f",
   "metadata": {
    "execution": {
     "iopub.execute_input": "2024-05-11T07:04:55.711541Z",
     "iopub.status.busy": "2024-05-11T07:04:55.711277Z",
     "iopub.status.idle": "2024-05-11T07:04:55.716112Z",
     "shell.execute_reply": "2024-05-11T07:04:55.715318Z"
    },
    "papermill": {
     "duration": 0.015089,
     "end_time": "2024-05-11T07:04:55.718047",
     "exception": false,
     "start_time": "2024-05-11T07:04:55.702958",
     "status": "completed"
    },
    "tags": []
   },
   "outputs": [],
   "source": [
    "from torch.utils.data import DataLoader\n",
    "\n",
    "train_loader = DataLoader(train_set, batch_size=128, shuffle=True)\n",
    "val_loader = DataLoader(val_set, batch_size=128, shuffle=True)\n",
    "test_loader = DataLoader(test_set, batch_size=128, shuffle=False)"
   ]
  },
  {
   "cell_type": "markdown",
   "id": "cf4a76e2",
   "metadata": {
    "papermill": {
     "duration": 0.007272,
     "end_time": "2024-05-11T07:04:55.732885",
     "exception": false,
     "start_time": "2024-05-11T07:04:55.725613",
     "status": "completed"
    },
    "tags": []
   },
   "source": [
    "# Utility functions"
   ]
  },
  {
   "cell_type": "code",
   "execution_count": 11,
   "id": "97e90e5c",
   "metadata": {
    "execution": {
     "iopub.execute_input": "2024-05-11T07:04:55.748660Z",
     "iopub.status.busy": "2024-05-11T07:04:55.748374Z",
     "iopub.status.idle": "2024-05-11T07:04:55.753859Z",
     "shell.execute_reply": "2024-05-11T07:04:55.753061Z"
    },
    "papermill": {
     "duration": 0.01548,
     "end_time": "2024-05-11T07:04:55.755749",
     "exception": false,
     "start_time": "2024-05-11T07:04:55.740269",
     "status": "completed"
    },
    "tags": []
   },
   "outputs": [],
   "source": [
    "def train_one_epoch(model, criterion, optimizer, train_loader):\n",
    "    model.train()\n",
    "    train_loss = []\n",
    "    for inputs, target in train_loader:\n",
    "        inputs, target = inputs.to(device), target.to(device)\n",
    "        optimizer.zero_grad()\n",
    "        out = model(inputs)\n",
    "        loss = criterion(out, target)\n",
    "        loss.backward()\n",
    "        optimizer.step()\n",
    "        train_loss.append(loss.item())\n",
    "    #average the train_loss list in for all batches in the train_gen\n",
    "    train_loss = np.mean(train_loss)\n",
    "    return train_loss"
   ]
  },
  {
   "cell_type": "code",
   "execution_count": 12,
   "id": "84932729",
   "metadata": {
    "execution": {
     "iopub.execute_input": "2024-05-11T07:04:55.772760Z",
     "iopub.status.busy": "2024-05-11T07:04:55.772501Z",
     "iopub.status.idle": "2024-05-11T07:04:55.777704Z",
     "shell.execute_reply": "2024-05-11T07:04:55.776937Z"
    },
    "papermill": {
     "duration": 0.016465,
     "end_time": "2024-05-11T07:04:55.779713",
     "exception": false,
     "start_time": "2024-05-11T07:04:55.763248",
     "status": "completed"
    },
    "tags": []
   },
   "outputs": [],
   "source": [
    "def validate_one_epoch(model, criterion, optimizer, val_loader):\n",
    "    model.eval()\n",
    "    test_loss = []\n",
    "    for inputs, target in val_loader:\n",
    "        inputs, target = inputs.to(device), target.to(device)\n",
    "        out = model(inputs)\n",
    "        loss = criterion(out, target)\n",
    "        test_loss.append(loss.item())\n",
    "    #average the test_loss list in for all batches in the test_gen\n",
    "    test_loss = np.mean(test_loss)\n",
    "    return test_loss"
   ]
  },
  {
   "cell_type": "code",
   "execution_count": 13,
   "id": "a2bc882b",
   "metadata": {
    "execution": {
     "iopub.execute_input": "2024-05-11T07:04:55.795582Z",
     "iopub.status.busy": "2024-05-11T07:04:55.795323Z",
     "iopub.status.idle": "2024-05-11T07:04:55.805670Z",
     "shell.execute_reply": "2024-05-11T07:04:55.804891Z"
    },
    "papermill": {
     "duration": 0.020484,
     "end_time": "2024-05-11T07:04:55.807550",
     "exception": false,
     "start_time": "2024-05-11T07:04:55.787066",
     "status": "completed"
    },
    "tags": []
   },
   "outputs": [],
   "source": [
    "def batch_gd_scheduler(model, new_model_name, criterion, optimizer, train_loader, val_loader, scheduler,\n",
    "                         epochs, device, batch_size=128):\n",
    "    train_losses = np.zeros(epochs)\n",
    "    test_losses = np.zeros(epochs)\n",
    "    patience = 0\n",
    "    best_loss = 1000\n",
    "    max_patience = 20\n",
    "    for i in range(epochs):\n",
    "        t0 = datetime.now()\n",
    "        train_loss = train_one_epoch(model, criterion, optimizer,train_loader)\n",
    "        test_loss = validate_one_epoch(model, criterion, optimizer,val_loader)\n",
    "        #Early stopping based on test loss\n",
    "        if i == 0:\n",
    "            best_loss = test_loss\n",
    "            torch.save(model, f'/kaggle/working/{new_model_name}.pt')\n",
    "            #torch.save(model, path+f'{new_model_name}.pt')\n",
    "            print(f'Model saved as {new_model_name} at epoch {i}')\n",
    "        else:\n",
    "            if test_loss < best_loss:\n",
    "                best_loss = test_loss\n",
    "                torch.save(model, f'/kaggle/working/{new_model_name}.pt')\n",
    "                #torch.save(model, path+f'{new_model_name}.pt')\n",
    "                print(f'Model overwritten at epoch {i}, new best val loss {best_loss}')\n",
    "                patience = 0\n",
    "            else:\n",
    "                patience = patience +1\n",
    "                #print(f'No improvement, current patience level is {patience} at epoch {i}')\n",
    "        if patience > max_patience:\n",
    "            print(f'Max patience reached, training is terminated at epoch {i}')\n",
    "            break\n",
    "        #Apply scheduler after the train+validate parts\n",
    "        before_lr = optimizer.param_groups[0][\"lr\"]\n",
    "        scheduler.step(test_loss)\n",
    "        after_lr = optimizer.param_groups[0][\"lr\"]\n",
    "        train_losses[i] = train_loss\n",
    "        test_losses[i] = test_loss\n",
    "        #write the losses into a csv file\n",
    "        loss_dict = {'train_loss': train_losses, 'test_loss': test_losses}\n",
    "        dd = pd.DataFrame(loss_dict)\n",
    "        dd.to_csv('loss_dict_lstm_448.csv', index = False)\n",
    "        dt = datetime.now()-t0\n",
    "        if i%10==0:\n",
    "            print(f'Epoch: {i+1}/{epochs}, train loss: {train_loss: .3f}, val_loss: {test_loss: .3f}, duration: {dt}, learning rate: {before_lr, after_lr}')\n",
    "    return train_losses, test_losses\n"
   ]
  },
  {
   "cell_type": "code",
   "execution_count": 14,
   "id": "f2af3483",
   "metadata": {
    "execution": {
     "iopub.execute_input": "2024-05-11T07:04:55.823314Z",
     "iopub.status.busy": "2024-05-11T07:04:55.823062Z",
     "iopub.status.idle": "2024-05-11T07:04:55.829547Z",
     "shell.execute_reply": "2024-05-11T07:04:55.828707Z"
    },
    "papermill": {
     "duration": 0.016436,
     "end_time": "2024-05-11T07:04:55.831429",
     "exception": false,
     "start_time": "2024-05-11T07:04:55.814993",
     "status": "completed"
    },
    "tags": []
   },
   "outputs": [],
   "source": [
    "def train_from_scratch_or_load(load_model_weight,new_model_name, epochs):\n",
    "    if load_model_weight==None:\n",
    "        #criterion = nn.MSELoss()\n",
    "        criterion = nn.HuberLoss()\n",
    "        optimizer = torch.optim.AdamW(model.parameters(), lr=0.01)\n",
    "        scheduler = lr_scheduler.ReduceLROnPlateau(optimizer, 'min', factor=0.1, min_lr = 1e-8)\n",
    "        train_losses, test_losses=batch_gd_scheduler(model, new_model_name, criterion,\n",
    "                                                     optimizer,train_loader, val_loader,\n",
    "                                                      scheduler, epochs,\n",
    "                                                       device = device)\n",
    "        return train_losses, test_losses\n",
    "    else:\n",
    "        if torch.cuda.is_available():\n",
    "            trained_model = torch.load(load_model_weight)\n",
    "        else:\n",
    "            trained_model = torch.load(load_model_weight, map_location=torch.device('cpu'))\n",
    "        return trained_model"
   ]
  },
  {
   "cell_type": "code",
   "execution_count": 15,
   "id": "fe9ede07",
   "metadata": {
    "execution": {
     "iopub.execute_input": "2024-05-11T07:04:55.847126Z",
     "iopub.status.busy": "2024-05-11T07:04:55.846852Z",
     "iopub.status.idle": "2024-05-11T07:04:55.852597Z",
     "shell.execute_reply": "2024-05-11T07:04:55.851853Z"
    },
    "papermill": {
     "duration": 0.015497,
     "end_time": "2024-05-11T07:04:55.854308",
     "exception": false,
     "start_time": "2024-05-11T07:04:55.838811",
     "status": "completed"
    },
    "tags": []
   },
   "outputs": [],
   "source": [
    "def load_and_retrain(load_model_weight, new_model_name, epochs):\n",
    "    trained_model = torch.load(load_model_weight)\n",
    "    criterion = nn.HuberLoss()\n",
    "    optimizer = torch.optim.AdamW(trained_model.parameters(),lr=0.0001)\n",
    "    scheduler = lr_scheduler.ReduceLROnPlateau(optimizer, 'min', factor=0.5, min_lr = 5e-7)\n",
    "    trained_model.train()\n",
    "    train_losses, test_losses=batch_gd_scheduler(trained_model,new_model_name, criterion, optimizer,\n",
    "                                                 train_loader, val_loader,\n",
    "                                                 scheduler, epochs,\n",
    "                                                 device = device)\n",
    "    return trained_model, train_losses, test_losses"
   ]
  },
  {
   "cell_type": "code",
   "execution_count": 16,
   "id": "8c7db69d",
   "metadata": {
    "execution": {
     "iopub.execute_input": "2024-05-11T07:04:55.870118Z",
     "iopub.status.busy": "2024-05-11T07:04:55.869822Z",
     "iopub.status.idle": "2024-05-11T07:04:55.874231Z",
     "shell.execute_reply": "2024-05-11T07:04:55.873393Z"
    },
    "papermill": {
     "duration": 0.014259,
     "end_time": "2024-05-11T07:04:55.876026",
     "exception": false,
     "start_time": "2024-05-11T07:04:55.861767",
     "status": "completed"
    },
    "tags": []
   },
   "outputs": [],
   "source": [
    "def plot_losses(train_losses, test_losses):\n",
    "    # Plot the train loss and test loss per iteration\n",
    "    plt.plot(train_losses, label='train loss')\n",
    "    plt.plot(test_losses, label='val loss')\n",
    "    plt.legend()\n",
    "    plt.show()"
   ]
  },
  {
   "cell_type": "code",
   "execution_count": 17,
   "id": "fe0afc68",
   "metadata": {
    "execution": {
     "iopub.execute_input": "2024-05-11T07:04:55.891620Z",
     "iopub.status.busy": "2024-05-11T07:04:55.891367Z",
     "iopub.status.idle": "2024-05-11T07:04:55.902216Z",
     "shell.execute_reply": "2024-05-11T07:04:55.901381Z"
    },
    "papermill": {
     "duration": 0.020676,
     "end_time": "2024-05-11T07:04:55.903966",
     "exception": false,
     "start_time": "2024-05-11T07:04:55.883290",
     "status": "completed"
    },
    "tags": []
   },
   "outputs": [],
   "source": [
    "################## GET PREDICTIONS + ACCURACY #####################\n",
    "def get_pred_n_acc(models, device, dataloader, num_iter):\n",
    "    i = 0\n",
    "    ypreds =[]\n",
    "    targets = []\n",
    "    #The last batch might not have size 128\n",
    "    while i< num_iter:\n",
    "        for data, target in dataloader:\n",
    "            #this empty list is to hold all models' preds\n",
    "            ypred = []\n",
    "            data= data.to(device)\n",
    "            data = data.to(torch.float32)\n",
    "            target = target.to(torch.float32)\n",
    "            #append the 'i^th' target\n",
    "            targets.append(target)\n",
    "            for model in models:\n",
    "                model.eval()\n",
    "                yp = model(data)\n",
    "                yp = yp.detach().cpu().numpy()\n",
    "                ypred.append(yp)\n",
    "            #take the mean of all models' predictions\n",
    "            ypred = np.array(ypred).mean(axis = 0)\n",
    "            ypred = np.round(ypred)\n",
    "            i+=1\n",
    "            #append ypred, targets inside the 'i' loop\n",
    "            # append the 'i^th' mean prediction\n",
    "            ypreds.append(ypred)\n",
    "            if i == num_iter:\n",
    "                break\n",
    "     #Do not convert ypreds, targets to np.array at this point,\n",
    "    #since the last batch has a different size, causing an error !\n",
    "    #CALCULATING ACCURACY\n",
    "    yp =  np.concatenate([ypreds[j] for j in range(len(ypreds))], axis = 0)\n",
    "    tgs =  np.concatenate([targets[j] for j in range(len(targets))], axis = 0)\n",
    "    h11_acc = ((yp[:,0] == tgs[:,0]).sum())/len(yp)\n",
    "    h21_acc = ((yp[:,1] == tgs[:,1]).sum())/len(yp)\n",
    "    h31_acc = ((yp[:,2] == tgs[:,2]).sum())/len(yp)\n",
    "    h22_acc = ((yp[:,3] == tgs[:,3]).sum())/len(yp)\n",
    "    acc = [h11_acc*100,h21_acc*100,h31_acc*100,h22_acc*100 ]\n",
    "    return  yp, tgs, acc\n"
   ]
  },
  {
   "cell_type": "markdown",
   "id": "e1a6134d",
   "metadata": {
    "papermill": {
     "duration": 0.007023,
     "end_time": "2024-05-11T07:04:55.918347",
     "exception": false,
     "start_time": "2024-05-11T07:04:55.911324",
     "status": "completed"
    },
    "tags": []
   },
   "source": [
    "# Train loop"
   ]
  },
  {
   "cell_type": "code",
   "execution_count": 18,
   "id": "6f29d34b",
   "metadata": {
    "execution": {
     "iopub.execute_input": "2024-05-11T07:04:55.934334Z",
     "iopub.status.busy": "2024-05-11T07:04:55.934084Z",
     "iopub.status.idle": "2024-05-11T11:53:37.752558Z",
     "shell.execute_reply": "2024-05-11T11:53:37.748067Z"
    },
    "papermill": {
     "duration": 17321.844967,
     "end_time": "2024-05-11T11:53:37.770772",
     "exception": false,
     "start_time": "2024-05-11T07:04:55.925805",
     "status": "completed"
    },
    "tags": []
   },
   "outputs": [
    {
     "name": "stdout",
     "output_type": "stream",
     "text": [
      "Model saved as LSTM-448 at epoch 0\n",
      "Epoch: 1/550, train loss:  10.037, val_loss:  14.942, duration: 0:00:52.866649, learning rate: (0.01, 0.01)\n",
      "Model overwritten at epoch 1, new best val loss 9.745406268555442\n",
      "Model overwritten at epoch 2, new best val loss 8.603081804103953\n",
      "Model overwritten at epoch 3, new best val loss 8.514111271610966\n",
      "Model overwritten at epoch 6, new best val loss 8.344904001427706\n",
      "Model overwritten at epoch 9, new best val loss 8.331109825685962\n",
      "Epoch: 11/550, train loss:  8.582, val_loss:  8.367, duration: 0:00:52.373540, learning rate: (0.01, 0.01)\n",
      "Epoch: 21/550, train loss:  8.473, val_loss:  8.481, duration: 0:00:52.499171, learning rate: (0.01, 0.001)\n",
      "Model overwritten at epoch 21, new best val loss 8.31543584601589\n",
      "Model overwritten at epoch 23, new best val loss 7.9447734427410035\n",
      "Model overwritten at epoch 24, new best val loss 7.417336881055613\n",
      "Model overwritten at epoch 25, new best val loss 6.965264934290864\n",
      "Model overwritten at epoch 28, new best val loss 6.694906069908613\n",
      "Model overwritten at epoch 29, new best val loss 6.67156412067447\n",
      "Model overwritten at epoch 30, new best val loss 6.625089633611985\n",
      "Epoch: 31/550, train loss:  6.641, val_loss:  6.625, duration: 0:00:52.445304, learning rate: (0.001, 0.001)\n",
      "Model overwritten at epoch 31, new best val loss 6.561044343985367\n",
      "Model overwritten at epoch 32, new best val loss 6.487297069038243\n",
      "Model overwritten at epoch 33, new best val loss 6.432191027955824\n",
      "Model overwritten at epoch 34, new best val loss 6.232381784516457\n",
      "Model overwritten at epoch 35, new best val loss 6.226046897746898\n",
      "Model overwritten at epoch 36, new best val loss 6.151035539267134\n",
      "Model overwritten at epoch 37, new best val loss 6.044213745749606\n",
      "Model overwritten at epoch 38, new best val loss 5.777808985382161\n",
      "Model overwritten at epoch 39, new best val loss 5.689351030548203\n",
      "Epoch: 41/550, train loss:  5.782, val_loss:  5.757, duration: 0:00:52.342027, learning rate: (0.001, 0.001)\n",
      "Model overwritten at epoch 42, new best val loss 5.617805842159076\n",
      "Model overwritten at epoch 43, new best val loss 5.2862409212391634\n",
      "Model overwritten at epoch 45, new best val loss 5.22886258037843\n",
      "Model overwritten at epoch 46, new best val loss 5.151040371553398\n",
      "Model overwritten at epoch 48, new best val loss 5.0053491495694225\n",
      "Model overwritten at epoch 50, new best val loss 4.9609528533996095\n",
      "Epoch: 51/550, train loss:  4.852, val_loss:  4.961, duration: 0:00:52.312220, learning rate: (0.001, 0.001)\n",
      "Model overwritten at epoch 52, new best val loss 4.590824298757725\n",
      "Model overwritten at epoch 53, new best val loss 4.0177739616844805\n",
      "Model overwritten at epoch 54, new best val loss 3.9357962032264293\n",
      "Model overwritten at epoch 56, new best val loss 3.870391387367585\n",
      "Model overwritten at epoch 57, new best val loss 3.5150605110054083\n",
      "Model overwritten at epoch 58, new best val loss 3.4881731126674267\n",
      "Model overwritten at epoch 59, new best val loss 3.101823471841358\n",
      "Model overwritten at epoch 60, new best val loss 3.0240558184013167\n",
      "Epoch: 61/550, train loss:  3.149, val_loss:  3.024, duration: 0:00:52.400764, learning rate: (0.001, 0.001)\n",
      "Model overwritten at epoch 61, new best val loss 2.897665113368362\n",
      "Model overwritten at epoch 62, new best val loss 2.7363256853093545\n",
      "Model overwritten at epoch 65, new best val loss 2.4945679722219127\n",
      "Model overwritten at epoch 68, new best val loss 2.4259814614761863\n",
      "Model overwritten at epoch 69, new best val loss 2.102749316360164\n",
      "Epoch: 71/550, train loss:  2.145, val_loss:  2.168, duration: 0:00:52.205924, learning rate: (0.001, 0.001)\n",
      "Model overwritten at epoch 73, new best val loss 2.057106246813685\n",
      "Model overwritten at epoch 74, new best val loss 1.9799116372641643\n",
      "Model overwritten at epoch 75, new best val loss 1.9014509977276783\n",
      "Model overwritten at epoch 76, new best val loss 1.8344381385379367\n",
      "Model overwritten at epoch 77, new best val loss 1.8062852297300174\n",
      "Model overwritten at epoch 79, new best val loss 1.7090373140163522\n",
      "Model overwritten at epoch 80, new best val loss 1.618077341421151\n",
      "Epoch: 81/550, train loss:  1.623, val_loss:  1.618, duration: 0:00:52.304768, learning rate: (0.001, 0.001)\n",
      "Model overwritten at epoch 81, new best val loss 1.5668161306431685\n",
      "Model overwritten at epoch 83, new best val loss 1.5472069004225353\n",
      "Model overwritten at epoch 84, new best val loss 1.5018706468888272\n",
      "Model overwritten at epoch 86, new best val loss 1.4577217811629886\n",
      "Model overwritten at epoch 87, new best val loss 1.3569293974568604\n",
      "Epoch: 91/550, train loss:  1.292, val_loss:  1.370, duration: 0:00:52.290389, learning rate: (0.001, 0.001)\n",
      "Model overwritten at epoch 91, new best val loss 1.2927046892293967\n",
      "Model overwritten at epoch 93, new best val loss 1.2797971974394728\n",
      "Model overwritten at epoch 94, new best val loss 1.220794843723324\n",
      "Model overwritten at epoch 96, new best val loss 1.1465333698077598\n",
      "Model overwritten at epoch 100, new best val loss 1.1156999882987357\n",
      "Epoch: 101/550, train loss:  1.074, val_loss:  1.116, duration: 0:00:52.433829, learning rate: (0.001, 0.001)\n",
      "Model overwritten at epoch 101, new best val loss 1.082124185204716\n",
      "Model overwritten at epoch 104, new best val loss 1.0662483825254692\n",
      "Model overwritten at epoch 107, new best val loss 1.010317739986238\n",
      "Epoch: 111/550, train loss:  0.930, val_loss:  1.132, duration: 0:00:52.336598, learning rate: (0.001, 0.001)\n",
      "Model overwritten at epoch 112, new best val loss 0.9610326441770298\n",
      "Model overwritten at epoch 113, new best val loss 0.9581119316175081\n",
      "Model overwritten at epoch 115, new best val loss 0.9514857397087878\n",
      "Model overwritten at epoch 116, new best val loss 0.9102115622168075\n",
      "Epoch: 121/550, train loss:  0.814, val_loss:  0.919, duration: 0:00:52.259953, learning rate: (0.001, 0.001)\n",
      "Model overwritten at epoch 121, new best val loss 0.8615010453805301\n",
      "Model overwritten at epoch 123, new best val loss 0.8423386839542019\n",
      "Model overwritten at epoch 125, new best val loss 0.833643412148511\n",
      "Model overwritten at epoch 129, new best val loss 0.7557554110437894\n",
      "Epoch: 131/550, train loss:  0.723, val_loss:  0.811, duration: 0:00:52.383028, learning rate: (0.001, 0.001)\n",
      "Model overwritten at epoch 137, new best val loss 0.7142116152525368\n",
      "Epoch: 141/550, train loss:  0.637, val_loss:  0.748, duration: 0:00:52.475335, learning rate: (0.001, 0.001)\n",
      "Model overwritten at epoch 142, new best val loss 0.6904056171576182\n",
      "Model overwritten at epoch 147, new best val loss 0.6834126187905643\n",
      "Model overwritten at epoch 148, new best val loss 0.6407127140165426\n",
      "Epoch: 151/550, train loss:  0.577, val_loss:  0.777, duration: 0:00:52.266313, learning rate: (0.001, 0.001)\n",
      "Model overwritten at epoch 153, new best val loss 0.6331252375029592\n",
      "Model overwritten at epoch 155, new best val loss 0.6155164224971119\n",
      "Model overwritten at epoch 156, new best val loss 0.6013809560257711\n",
      "Model overwritten at epoch 159, new best val loss 0.5796935443209592\n",
      "Epoch: 161/550, train loss:  0.530, val_loss:  0.589, duration: 0:00:52.252516, learning rate: (0.001, 0.001)\n",
      "Model overwritten at epoch 164, new best val loss 0.5596665070380693\n",
      "Model overwritten at epoch 167, new best val loss 0.5171298094527431\n",
      "Epoch: 171/550, train loss:  0.478, val_loss:  0.605, duration: 0:00:52.341757, learning rate: (0.001, 0.001)\n",
      "Model overwritten at epoch 172, new best val loss 0.4991618619814541\n",
      "Epoch: 181/550, train loss:  0.452, val_loss:  0.532, duration: 0:00:52.352280, learning rate: (0.001, 0.001)\n",
      "Model overwritten at epoch 181, new best val loss 0.48117674811623296\n",
      "Model overwritten at epoch 183, new best val loss 0.4733166273624178\n",
      "Model overwritten at epoch 188, new best val loss 0.461265479327825\n",
      "Epoch: 191/550, train loss:  0.405, val_loss:  0.515, duration: 0:00:52.257581, learning rate: (0.001, 0.001)\n",
      "Model overwritten at epoch 196, new best val loss 0.4603893356348472\n",
      "Model overwritten at epoch 197, new best val loss 0.40010540568429115\n",
      "Epoch: 201/550, train loss:  0.383, val_loss:  0.581, duration: 0:00:52.289126, learning rate: (0.001, 0.001)\n",
      "Model overwritten at epoch 207, new best val loss 0.3949946706138906\n",
      "Model overwritten at epoch 208, new best val loss 0.38050625895066237\n",
      "Epoch: 211/550, train loss:  0.356, val_loss:  0.428, duration: 0:00:52.351747, learning rate: (0.001, 0.001)\n",
      "Model overwritten at epoch 215, new best val loss 0.3801597528934899\n",
      "Model overwritten at epoch 216, new best val loss 0.35619032969024866\n",
      "Epoch: 221/550, train loss:  0.317, val_loss:  0.359, duration: 0:00:52.364029, learning rate: (0.001, 0.001)\n",
      "Model overwritten at epoch 226, new best val loss 0.33985270743752705\n",
      "Model overwritten at epoch 229, new best val loss 0.32663433416705495\n",
      "Epoch: 231/550, train loss:  0.308, val_loss:  0.350, duration: 0:00:52.298282, learning rate: (0.001, 0.001)\n",
      "Model overwritten at epoch 237, new best val loss 0.30197789140269027\n",
      "Epoch: 241/550, train loss:  0.291, val_loss:  0.364, duration: 0:00:52.268099, learning rate: (0.001, 0.001)\n",
      "Model overwritten at epoch 249, new best val loss 0.17249807702275602\n",
      "Model overwritten at epoch 250, new best val loss 0.15485312871148768\n",
      "Epoch: 251/550, train loss:  0.086, val_loss:  0.155, duration: 0:00:52.428777, learning rate: (0.0001, 0.0001)\n",
      "Model overwritten at epoch 251, new best val loss 0.14599798579669082\n",
      "Model overwritten at epoch 252, new best val loss 0.140515968440071\n",
      "Model overwritten at epoch 253, new best val loss 0.13422463141789093\n",
      "Model overwritten at epoch 255, new best val loss 0.13067675284003244\n",
      "Model overwritten at epoch 256, new best val loss 0.12651331535486318\n",
      "Model overwritten at epoch 257, new best val loss 0.121821386122015\n",
      "Model overwritten at epoch 260, new best val loss 0.11963829166884986\n",
      "Epoch: 261/550, train loss:  0.033, val_loss:  0.120, duration: 0:00:52.557858, learning rate: (0.0001, 0.0001)\n",
      "Model overwritten at epoch 261, new best val loss 0.11865903518607797\n",
      "Model overwritten at epoch 262, new best val loss 0.11684723363982306\n",
      "Model overwritten at epoch 265, new best val loss 0.11589157558662236\n",
      "Model overwritten at epoch 266, new best val loss 0.11585410299334786\n",
      "Model overwritten at epoch 267, new best val loss 0.11458482626477352\n",
      "Model overwritten at epoch 268, new best val loss 0.11410862604251404\n",
      "Model overwritten at epoch 269, new best val loss 0.1118644794647958\n",
      "Model overwritten at epoch 270, new best val loss 0.11088547905836406\n",
      "Epoch: 271/550, train loss:  0.023, val_loss:  0.111, duration: 0:00:52.142226, learning rate: (0.0001, 0.0001)\n",
      "Model overwritten at epoch 272, new best val loss 0.10986150276553168\n",
      "Model overwritten at epoch 276, new best val loss 0.10965585240164552\n",
      "Model overwritten at epoch 278, new best val loss 0.10845724784981006\n",
      "Epoch: 281/550, train loss:  0.019, val_loss:  0.110, duration: 0:00:52.296364, learning rate: (0.0001, 0.0001)\n",
      "Model overwritten at epoch 284, new best val loss 0.10830972406099923\n",
      "Model overwritten at epoch 287, new best val loss 0.1082450173749232\n",
      "Model overwritten at epoch 288, new best val loss 0.10797907221517025\n",
      "Model overwritten at epoch 290, new best val loss 0.10692427855977095\n",
      "Epoch: 291/550, train loss:  0.017, val_loss:  0.107, duration: 0:00:52.371865, learning rate: (0.0001, 0.0001)\n",
      "Model overwritten at epoch 292, new best val loss 0.10628736186674033\n",
      "Model overwritten at epoch 293, new best val loss 0.10626901995318382\n",
      "Epoch: 301/550, train loss:  0.016, val_loss:  0.110, duration: 0:00:52.321102, learning rate: (0.0001, 0.0001)\n",
      "Model overwritten at epoch 305, new best val loss 0.10010487224900112\n",
      "Model overwritten at epoch 306, new best val loss 0.10003086944099193\n",
      "Model overwritten at epoch 307, new best val loss 0.09985223131638671\n",
      "Model overwritten at epoch 308, new best val loss 0.09946871079883096\n",
      "Model overwritten at epoch 309, new best val loss 0.09946389025942845\n",
      "Epoch: 311/550, train loss:  0.007, val_loss:  0.100, duration: 0:00:52.261538, learning rate: (1e-05, 1e-05)\n",
      "Epoch: 321/550, train loss:  0.006, val_loss:  0.100, duration: 0:00:52.267754, learning rate: (1.0000000000000002e-06, 1.0000000000000002e-06)\n",
      "Max patience reached, training is terminated at epoch 330\n"
     ]
    }
   ],
   "source": [
    "load_model_weight = None\n",
    "epochs = 550\n",
    "new_model_name = 'LSTM-448'\n",
    "if load_model_weight is None:\n",
    "    train_losses, test_losses=train_from_scratch_or_load(load_model_weight,new_model_name,  epochs)\n",
    "else:\n",
    "    trained_model_v00 = train_from_scratch_or_load(load_model_weight, new_model_name, epochs)\n",
    "    #Train accuracy\n",
    "    yt, tgt, acct = get_pred_n_acc([trained_model_v00], device, train_loader, num_iter = len(train_loader))\n",
    "    #validation accuracy\n",
    "    yv, tgv, accv = get_pred_n_acc([trained_model_v00], device, val_loader, num_iter = len(val_loader))\n",
    "    print(f'Train data, target shapes: {yt.shape, tgt.shape},\\n train accuracies {acct}')\n",
    "    print(f'Validation data, target shapes: {yv.shape, tgv.shape},\\n validation accuracies {accv}')\n",
    "    #Test accuracy\n",
    "    yts, tgts, accts = get_pred_n_acc([trained_model_v00], device, test_loader, num_iter = len(test_loader))\n",
    "    print(f'Test data, target shapes: {yts.shape, tgts.shape},\\n test accuracies {accts}')"
   ]
  },
  {
   "cell_type": "code",
   "execution_count": 19,
   "id": "9e27737d",
   "metadata": {
    "execution": {
     "iopub.execute_input": "2024-05-11T11:53:37.810415Z",
     "iopub.status.busy": "2024-05-11T11:53:37.809501Z",
     "iopub.status.idle": "2024-05-11T11:53:38.091108Z",
     "shell.execute_reply": "2024-05-11T11:53:38.090176Z"
    },
    "papermill": {
     "duration": 0.303796,
     "end_time": "2024-05-11T11:53:38.093378",
     "exception": false,
     "start_time": "2024-05-11T11:53:37.789582",
     "status": "completed"
    },
    "tags": []
   },
   "outputs": [
    {
     "data": {
      "image/png": "[encoded data removed]",
      "text/plain": [
       "<Figure size 640x480 with 1 Axes>"
      ]
     },
     "metadata": {},
     "output_type": "display_data"
    }
   ],
   "source": [
    "plot_losses(train_losses, test_losses)"
   ]
  },
  {
   "cell_type": "markdown",
   "id": "cc46818f",
   "metadata": {
    "papermill": {
     "duration": 0.019322,
     "end_time": "2024-05-11T11:53:38.132079",
     "exception": false,
     "start_time": "2024-05-11T11:53:38.112757",
     "status": "completed"
    },
    "tags": []
   },
   "source": [
    "# Accuracies"
   ]
  },
  {
   "cell_type": "code",
   "execution_count": 20,
   "id": "71ab5fa6",
   "metadata": {
    "execution": {
     "iopub.execute_input": "2024-05-11T11:53:38.172272Z",
     "iopub.status.busy": "2024-05-11T11:53:38.171617Z",
     "iopub.status.idle": "2024-05-11T11:54:03.406015Z",
     "shell.execute_reply": "2024-05-11T11:54:03.404838Z"
    },
    "papermill": {
     "duration": 25.256878,
     "end_time": "2024-05-11T11:54:03.408138",
     "exception": false,
     "start_time": "2024-05-11T11:53:38.151260",
     "status": "completed"
    },
    "tags": []
   },
   "outputs": [
    {
     "name": "stdout",
     "output_type": "stream",
     "text": [
      "Train data, target shapes: ((652092, 4), (652092, 4)),\n",
      " train accuracies [99.98359127239715, 99.81843052820768, 99.91090214264244, 99.68808082295136]\n",
      "Validation data, target shapes: ((72455, 4), (72455, 4)),\n",
      " validation accuracies [99.71982609895798, 97.38182320060727, 94.13291008211993, 78.6460561727969]\n"
     ]
    }
   ],
   "source": [
    "#Train accuracy\n",
    "yt, tgt, acct = get_pred_n_acc([model], device, train_loader, num_iter = len(train_loader))\n",
    "#validation accuracy\n",
    "yv, tgv, accv = get_pred_n_acc([model], device, val_loader, num_iter = len(val_loader))\n",
    "print(f'Train data, target shapes: {yt.shape, tgt.shape},\\n train accuracies {acct}')\n",
    "print(f'Validation data, target shapes: {yv.shape, tgv.shape},\\n validation accuracies {accv}')\n"
   ]
  },
  {
   "cell_type": "code",
   "execution_count": 21,
   "id": "0c89600c",
   "metadata": {
    "execution": {
     "iopub.execute_input": "2024-05-11T11:54:03.449759Z",
     "iopub.status.busy": "2024-05-11T11:54:03.448923Z",
     "iopub.status.idle": "2024-05-11T11:54:09.725487Z",
     "shell.execute_reply": "2024-05-11T11:54:09.724512Z"
    },
    "papermill": {
     "duration": 6.299588,
     "end_time": "2024-05-11T11:54:09.727854",
     "exception": false,
     "start_time": "2024-05-11T11:54:03.428266",
     "status": "completed"
    },
    "tags": []
   },
   "outputs": [
    {
     "name": "stdout",
     "output_type": "stream",
     "text": [
      "Test data, target shapes: ((181137, 4), (181137, 4)),\n",
      " test accuracies [99.74107995605536, 97.51845288372888, 94.24192738093267, 78.83922114200853]\n"
     ]
    }
   ],
   "source": [
    "#Test accuracy\n",
    "yts, tgts, accts = get_pred_n_acc([model], device, test_loader, num_iter = len(test_loader))\n",
    "print(f'Test data, target shapes: {yts.shape, tgts.shape},\\n test accuracies {accts}')\n"
   ]
  }
 ],
 "metadata": {
  "kaggle": {
   "accelerator": "gpu",
   "dataSources": [
    {
     "sourceId": 171630138,
     "sourceType": "kernelVersion"
    }
   ],
   "dockerImageVersionId": 30665,
   "isGpuEnabled": true,
   "isInternetEnabled": true,
   "language": "python",
   "sourceType": "notebook"
  },
  "kernelspec": {
   "display_name": "Python 3",
   "language": "python",
   "name": "python3"
  },
  "language_info": {
   "codemirror_mode": {
    "name": "ipython",
    "version": 3
   },
   "file_extension": ".py",
   "mimetype": "text/x-python",
   "name": "python",
   "nbconvert_exporter": "python",
   "pygments_lexer": "ipython3",
   "version": "3.10.13"
  },
  "papermill": {
   "default_parameters": {},
   "duration": 17379.675385,
   "end_time": "2024-05-11T11:54:12.382354",
   "environment_variables": {},
   "exception": null,
   "input_path": "__notebook__.ipynb",
   "output_path": "__notebook__.ipynb",
   "parameters": {},
   "start_time": "2024-05-11T07:04:32.706969",
   "version": "2.5.0"
  }
 },
 "nbformat": 4,
 "nbformat_minor": 5
}
