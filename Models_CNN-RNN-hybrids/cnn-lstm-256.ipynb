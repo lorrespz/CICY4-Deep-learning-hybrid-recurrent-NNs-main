{
 "cells": [
  {
   "cell_type": "markdown",
   "id": "ba4a9752",
   "metadata": {
    "papermill": {
     "duration": 0.008717,
     "end_time": "2024-04-30T18:49:15.419813",
     "exception": false,
     "start_time": "2024-04-30T18:49:15.411096",
     "status": "completed"
    },
    "tags": []
   },
   "source": [
    "# CICY4: CNN-LSTM-256 for learning 4 Hodge numbers \n",
    "\n",
    "- Version < 10: Models trained with old data. V10: ran with error. \n",
    "\n",
    "- V11: Standard CNN + LSTM layer with parameters (20,256,2,4). \n",
    "\n",
    "- Note: The standard CNN used has the output feature vector of 384 with the following configuration:\n",
    "    - nn.Flatten(F.relu(nn.Sequential(nn.Conv2d(1,128, 4, 1),\n",
    "                nn.MaxPool2d(2,2),\n",
    "                nn.Conv2d(128, 64, 3, 1),\n",
    "                nn.MaxPool2d(2,2)))\n",
    "     "
   ]
  },
  {
   "cell_type": "code",
   "execution_count": 1,
   "id": "a319cd2d",
   "metadata": {
    "_cell_guid": "b1076dfc-b9ad-4769-8c92-a6c4dae69d19",
    "_uuid": "8f2839f25d086af736a60e9eeb907d3b93b6e0e5",
    "execution": {
     "iopub.execute_input": "2024-04-30T18:49:15.437117Z",
     "iopub.status.busy": "2024-04-30T18:49:15.436856Z",
     "iopub.status.idle": "2024-04-30T18:49:20.794993Z",
     "shell.execute_reply": "2024-04-30T18:49:20.794184Z"
    },
    "papermill": {
     "duration": 5.369296,
     "end_time": "2024-04-30T18:49:20.797302",
     "exception": false,
     "start_time": "2024-04-30T18:49:15.428006",
     "status": "completed"
    },
    "tags": []
   },
   "outputs": [],
   "source": [
    "import numpy as np\n",
    "import pandas as pd\n",
    "import random\n",
    "import os as os\n",
    "import matplotlib.pyplot as plt\n",
    "import seaborn as sns\n",
    "from datetime import datetime\n",
    "sns.set_style(\"darkgrid\")\n",
    "\n",
    "import torch\n",
    "import torch.nn as nn\n",
    "import torch.nn.functional as F\n",
    "import torch.optim.lr_scheduler as lr_scheduler"
   ]
  },
  {
   "cell_type": "code",
   "execution_count": 2,
   "id": "060550ac",
   "metadata": {
    "execution": {
     "iopub.execute_input": "2024-04-30T18:49:20.817739Z",
     "iopub.status.busy": "2024-04-30T18:49:20.817332Z",
     "iopub.status.idle": "2024-04-30T18:49:20.868013Z",
     "shell.execute_reply": "2024-04-30T18:49:20.867165Z"
    },
    "papermill": {
     "duration": 0.06414,
     "end_time": "2024-04-30T18:49:20.870120",
     "exception": false,
     "start_time": "2024-04-30T18:49:20.805980",
     "status": "completed"
    },
    "tags": []
   },
   "outputs": [
    {
     "name": "stdout",
     "output_type": "stream",
     "text": [
      "cuda:0\n"
     ]
    }
   ],
   "source": [
    "device = torch.device(\"cuda:0\" if torch.cuda.is_available() else \"cpu\")\n",
    "print(device)"
   ]
  },
  {
   "cell_type": "code",
   "execution_count": 3,
   "id": "2a4dae24",
   "metadata": {
    "execution": {
     "iopub.execute_input": "2024-04-30T18:49:20.888106Z",
     "iopub.status.busy": "2024-04-30T18:49:20.887747Z",
     "iopub.status.idle": "2024-04-30T18:49:20.895956Z",
     "shell.execute_reply": "2024-04-30T18:49:20.895245Z"
    },
    "papermill": {
     "duration": 0.019307,
     "end_time": "2024-04-30T18:49:20.897754",
     "exception": false,
     "start_time": "2024-04-30T18:49:20.878447",
     "status": "completed"
    },
    "tags": []
   },
   "outputs": [],
   "source": [
    "seed = 42\n",
    "\n",
    "def seed_everything(seed):\n",
    "    random.seed(seed)\n",
    "    os.environ['PYTHONHASHSEED'] = str(seed)\n",
    "    np.random.seed(seed)\n",
    "    torch.manual_seed(seed)\n",
    "    torch.cuda.manual_seed(seed)\n",
    "    torch.cuda.manual_seed_all(seed)\n",
    "    torch.backends.cudnn.deterministic = True\n",
    "\n",
    "seed_everything(seed)"
   ]
  },
  {
   "cell_type": "markdown",
   "id": "29252a9f",
   "metadata": {
    "papermill": {
     "duration": 0.008059,
     "end_time": "2024-04-30T18:49:20.914148",
     "exception": false,
     "start_time": "2024-04-30T18:49:20.906089",
     "status": "completed"
    },
    "tags": []
   },
   "source": [
    "# CNN-LSTM network architecture"
   ]
  },
  {
   "cell_type": "code",
   "execution_count": 4,
   "id": "4016ddeb",
   "metadata": {
    "execution": {
     "iopub.execute_input": "2024-04-30T18:49:20.932635Z",
     "iopub.status.busy": "2024-04-30T18:49:20.932376Z",
     "iopub.status.idle": "2024-04-30T18:49:20.938735Z",
     "shell.execute_reply": "2024-04-30T18:49:20.937924Z"
    },
    "papermill": {
     "duration": 0.01822,
     "end_time": "2024-04-30T18:49:20.940555",
     "exception": false,
     "start_time": "2024-04-30T18:49:20.922335",
     "status": "completed"
    },
    "tags": []
   },
   "outputs": [],
   "source": [
    "##################### CNN ###############################\n",
    "class CNN_block(nn.Module):  \n",
    "    def __init__(self):\n",
    "        super().__init__()\n",
    "        self.conv1 = nn.Conv2d(1,128, 4, 1)\n",
    "        self.conv2 = nn.Conv2d(128, 64, 3, 1)\n",
    "        self.mxpool = nn.MaxPool2d(2,2)\n",
    "        self.flat = nn.Flatten()\n",
    "        self.conv_total = nn.Sequential(\n",
    "            self.conv1,\n",
    "            self.mxpool,\n",
    "            self.conv2,\n",
    "            self.mxpool\n",
    "        )\n",
    "    def forward(self,x):\n",
    "        x = F.relu(self.conv_total(x))\n",
    "        #reshape is the same as flat(x)\n",
    "        #x = x.reshape(x.shape[0], -1)\n",
    "        x = self.flat(x)   \n",
    "        return x"
   ]
  },
  {
   "cell_type": "code",
   "execution_count": 5,
   "id": "1bed785a",
   "metadata": {
    "execution": {
     "iopub.execute_input": "2024-04-30T18:49:20.958454Z",
     "iopub.status.busy": "2024-04-30T18:49:20.957758Z",
     "iopub.status.idle": "2024-04-30T18:49:20.965045Z",
     "shell.execute_reply": "2024-04-30T18:49:20.964234Z"
    },
    "papermill": {
     "duration": 0.018162,
     "end_time": "2024-04-30T18:49:20.966965",
     "exception": false,
     "start_time": "2024-04-30T18:49:20.948803",
     "status": "completed"
    },
    "tags": []
   },
   "outputs": [],
   "source": [
    "class LSTM_block(nn.Module):\n",
    "    def __init__(self, n_inputs, n_hidden, n_rnnlayers, n_outputs):\n",
    "        super(LSTM_block,self).__init__()\n",
    "        self.D = n_inputs\n",
    "        self.M = n_hidden\n",
    "        self.K = n_outputs\n",
    "        self.L = n_rnnlayers        \n",
    "        self.lstm = nn.LSTM(input_size = self.D,\n",
    "                           hidden_size = self.M,\n",
    "                           num_layers = self.L,\n",
    "                           batch_first = True)    \n",
    "    def forward(self, X):\n",
    "        #input X is NxTxD\n",
    "        #initial hidden states\n",
    "        h0 = torch.zeros(self.L, X.size(0), self.M).to(device)\n",
    "        c0 = torch.zeros(self.L, X.size(0), self.M).to(device)\n",
    "        #get LSTM unit output:\n",
    "        #output is NxTxM\n",
    "        out, _ = self.lstm(X, (h0,c0))\n",
    "        #out, _ = self.gru(X, h0)   \n",
    "        #we only want h(T) at the final time step\n",
    "        # output is now of shape (N, M)\n",
    "        out = out[:, -1, :]\n",
    "        return out"
   ]
  },
  {
   "cell_type": "code",
   "execution_count": 6,
   "id": "6e014633",
   "metadata": {
    "execution": {
     "iopub.execute_input": "2024-04-30T18:49:20.984284Z",
     "iopub.status.busy": "2024-04-30T18:49:20.984051Z",
     "iopub.status.idle": "2024-04-30T18:49:20.990608Z",
     "shell.execute_reply": "2024-04-30T18:49:20.989837Z"
    },
    "papermill": {
     "duration": 0.017304,
     "end_time": "2024-04-30T18:49:20.992446",
     "exception": false,
     "start_time": "2024-04-30T18:49:20.975142",
     "status": "completed"
    },
    "tags": []
   },
   "outputs": [],
   "source": [
    "class CNN_LSTM_hybrid(nn.Module):\n",
    "    def __init__(self, cnn_block, lstm_block, feat_vec_size):\n",
    "        super(CNN_LSTM_hybrid, self).__init__()\n",
    "        self.cnn_block = cnn_block\n",
    "        self.lstm_block = lstm_block\n",
    "        self.feat_vec_size = feat_vec_size\n",
    "        self.fc1 = nn.Linear(self.feat_vec_size, 1024)\n",
    "        self.fc2 = nn.Linear(1024, 4)       \n",
    "    def forward(self, x):\n",
    "        #output of cnn block is (N,384)\n",
    "        x1 = x.view(-1,1, 16,20)\n",
    "        x1 = self.cnn_block(x1)\n",
    "        #output of rnn block is (N,M)\n",
    "        x2 = self.lstm_block(x)\n",
    "        #concatenate the 2 outputs to produce a feat vec (N, M+384)\n",
    "        xx = torch.cat([x1, x2], dim = 1)\n",
    "        # pass through linear layers\n",
    "        xx = self.fc1(xx)\n",
    "        #final output is 4\n",
    "        xx = self.fc2(xx)       \n",
    "        return xx"
   ]
  },
  {
   "cell_type": "code",
   "execution_count": 7,
   "id": "51268bc9",
   "metadata": {
    "execution": {
     "iopub.execute_input": "2024-04-30T18:49:21.009779Z",
     "iopub.status.busy": "2024-04-30T18:49:21.009499Z",
     "iopub.status.idle": "2024-04-30T18:49:21.337710Z",
     "shell.execute_reply": "2024-04-30T18:49:21.336744Z"
    },
    "papermill": {
     "duration": 0.339132,
     "end_time": "2024-04-30T18:49:21.339753",
     "exception": false,
     "start_time": "2024-04-30T18:49:21.000621",
     "status": "completed"
    },
    "tags": []
   },
   "outputs": [
    {
     "data": {
      "text/plain": [
       "CNN_LSTM_hybrid(\n",
       "  (cnn_block): CNN_block(\n",
       "    (conv1): Conv2d(1, 128, kernel_size=(4, 4), stride=(1, 1))\n",
       "    (conv2): Conv2d(128, 64, kernel_size=(3, 3), stride=(1, 1))\n",
       "    (mxpool): MaxPool2d(kernel_size=2, stride=2, padding=0, dilation=1, ceil_mode=False)\n",
       "    (flat): Flatten(start_dim=1, end_dim=-1)\n",
       "    (conv_total): Sequential(\n",
       "      (0): Conv2d(1, 128, kernel_size=(4, 4), stride=(1, 1))\n",
       "      (1): MaxPool2d(kernel_size=2, stride=2, padding=0, dilation=1, ceil_mode=False)\n",
       "      (2): Conv2d(128, 64, kernel_size=(3, 3), stride=(1, 1))\n",
       "      (3): MaxPool2d(kernel_size=2, stride=2, padding=0, dilation=1, ceil_mode=False)\n",
       "    )\n",
       "  )\n",
       "  (lstm_block): LSTM_block(\n",
       "    (lstm): LSTM(20, 256, num_layers=2, batch_first=True)\n",
       "  )\n",
       "  (fc1): Linear(in_features=640, out_features=1024, bias=True)\n",
       "  (fc2): Linear(in_features=1024, out_features=4, bias=True)\n",
       ")"
      ]
     },
     "execution_count": 7,
     "metadata": {},
     "output_type": "execute_result"
    }
   ],
   "source": [
    "# Everything is the same as the best CNN-GRU model, \n",
    "#except that the GRU layer is replaced by the LSTM layer\n",
    "cnn_block = CNN_block()\n",
    "cnn_block.to(device)\n",
    "lstm_block = LSTM_block(20, 256, 2, 4)\n",
    "#lstm_block = LSTM_block(20, 384, 2, 4)\n",
    "#lstm_block = LSTM_block(20, 400, 2, 4)\n",
    "#lstm_block = LSTM_block(20, 448, 2, 4)\n",
    "#lstm_block = LSTM_block(20, 416, 2, 4)\n",
    "#lstm_block = LSTM_block(20, 424, 2, 4)\n",
    "lstm_block.to(device)\n",
    "model = CNN_LSTM_hybrid(cnn_block, lstm_block, 256+384)\n",
    "model.to(device)"
   ]
  },
  {
   "cell_type": "code",
   "execution_count": 8,
   "id": "abbd8c82",
   "metadata": {
    "execution": {
     "iopub.execute_input": "2024-04-30T18:49:21.359396Z",
     "iopub.status.busy": "2024-04-30T18:49:21.359087Z",
     "iopub.status.idle": "2024-04-30T18:49:21.365848Z",
     "shell.execute_reply": "2024-04-30T18:49:21.364840Z"
    },
    "papermill": {
     "duration": 0.018638,
     "end_time": "2024-04-30T18:49:21.367871",
     "exception": false,
     "start_time": "2024-04-30T18:49:21.349233",
     "status": "completed"
    },
    "tags": []
   },
   "outputs": [
    {
     "name": "stdout",
     "output_type": "stream",
     "text": [
      "Total numbers of parameters for the CNN part: 75968\n",
      "\n",
      "Total numbers of parameters for the LSTM part: 811008\n",
      "\n",
      "Total numbers of parameters: 1547460\n"
     ]
    }
   ],
   "source": [
    "#count the number of parameters in the model\n",
    "params_cnn = [p.numel() for p in cnn_block.parameters() if p.requires_grad]\n",
    "print(f'Total numbers of parameters for the CNN part: {sum(params_cnn)}\\n')\n",
    "\n",
    "#count the number of parameters in the model\n",
    "params_lstm = [p.numel() for p in lstm_block.parameters() if p.requires_grad]\n",
    "print(f'Total numbers of parameters for the LSTM part: {sum(params_lstm)}\\n')\n",
    "\n",
    "#count the number of parameters in the model\n",
    "params = [p.numel() for p in model.parameters() if p.requires_grad]\n",
    "print(f'Total numbers of parameters: {sum(params)}')"
   ]
  },
  {
   "cell_type": "markdown",
   "id": "cc1cc8b0",
   "metadata": {
    "papermill": {
     "duration": 0.008319,
     "end_time": "2024-04-30T18:49:21.385119",
     "exception": false,
     "start_time": "2024-04-30T18:49:21.376800",
     "status": "completed"
    },
    "tags": []
   },
   "source": [
    "# Load data, define custom dataset class and dataloaders"
   ]
  },
  {
   "cell_type": "code",
   "execution_count": 9,
   "id": "cf6370f5",
   "metadata": {
    "execution": {
     "iopub.execute_input": "2024-04-30T18:49:21.403079Z",
     "iopub.status.busy": "2024-04-30T18:49:21.402810Z",
     "iopub.status.idle": "2024-04-30T18:49:41.570193Z",
     "shell.execute_reply": "2024-04-30T18:49:41.569146Z"
    },
    "papermill": {
     "duration": 20.178794,
     "end_time": "2024-04-30T18:49:41.572351",
     "exception": false,
     "start_time": "2024-04-30T18:49:21.393557",
     "status": "completed"
    },
    "tags": []
   },
   "outputs": [
    {
     "name": "stdout",
     "output_type": "stream",
     "text": [
      "(652092, 16, 20) (72455, 16, 20) (181137, 16, 20)\n",
      "(652092, 4) (72455, 4) (181137, 4)\n"
     ]
    }
   ],
   "source": [
    "X_train = np.load('/kaggle/input/cicy4-data-processing/conf_Xtrain.npy')\n",
    "X_test = np.load('/kaggle/input/cicy4-data-processing/conf_Xtest.npy')\n",
    "X_valid = np.load('/kaggle/input/cicy4-data-processing/conf_Xvalid.npy')\n",
    "\n",
    "y_train = np.load('/kaggle/input/cicy4-data-processing/hodge_ytrain.npy')\n",
    "y_test= np.load('/kaggle/input/cicy4-data-processing/hodge_ytest.npy')\n",
    "y_valid = np.load('/kaggle/input/cicy4-data-processing/hodge_yvalid.npy')\n",
    "\n",
    "print(X_train.shape, X_valid.shape, X_test.shape)\n",
    "print(y_train.shape, y_valid.shape, y_test.shape)"
   ]
  },
  {
   "cell_type": "code",
   "execution_count": 10,
   "id": "b5db46e2",
   "metadata": {
    "execution": {
     "iopub.execute_input": "2024-04-30T18:49:41.591504Z",
     "iopub.status.busy": "2024-04-30T18:49:41.591227Z",
     "iopub.status.idle": "2024-04-30T18:49:42.053163Z",
     "shell.execute_reply": "2024-04-30T18:49:42.052355Z"
    },
    "papermill": {
     "duration": 0.473791,
     "end_time": "2024-04-30T18:49:42.055551",
     "exception": false,
     "start_time": "2024-04-30T18:49:41.581760",
     "status": "completed"
    },
    "tags": []
   },
   "outputs": [],
   "source": [
    "#Convert data to torch tensor with float32 precision \n",
    "#(needed to be compatible with the floating decision of the network parameters)\n",
    "X_train = torch.from_numpy(X_train.astype(np.float32))\n",
    "y_train = torch.from_numpy(y_train.astype(np.float32))\n",
    "\n",
    "X_valid = torch.from_numpy(X_valid.astype(np.float32)) \n",
    "y_valid = torch.from_numpy(y_valid.astype(np.float32)) \n",
    "\n",
    "X_test = torch.from_numpy(X_test.astype(np.float32)) \n",
    "y_test= torch.from_numpy(y_test.astype(np.float32)) "
   ]
  },
  {
   "cell_type": "code",
   "execution_count": 11,
   "id": "707fe680",
   "metadata": {
    "execution": {
     "iopub.execute_input": "2024-04-30T18:49:42.074706Z",
     "iopub.status.busy": "2024-04-30T18:49:42.074340Z",
     "iopub.status.idle": "2024-04-30T18:49:42.080435Z",
     "shell.execute_reply": "2024-04-30T18:49:42.079631Z"
    },
    "papermill": {
     "duration": 0.017702,
     "end_time": "2024-04-30T18:49:42.082255",
     "exception": false,
     "start_time": "2024-04-30T18:49:42.064553",
     "status": "completed"
    },
    "tags": []
   },
   "outputs": [],
   "source": [
    "class CICY4Dataset(torch.utils.data.Dataset):\n",
    "    def __init__(self, X, y):\n",
    "        self.X = X\n",
    "        self.y = y        \n",
    "    def __len__(self):\n",
    "        return len(self.X)      \n",
    "    def __getitem__(self, idx):\n",
    "        X0 = self.X[idx]\n",
    "        y0 = self.y[idx]  \n",
    "        return X0, y0\n",
    "        \n",
    "train_set = CICY4Dataset(X_train, y_train)\n",
    "val_set = CICY4Dataset(X_valid, y_valid)\n",
    "test_set = CICY4Dataset(X_test, y_test)"
   ]
  },
  {
   "cell_type": "code",
   "execution_count": 12,
   "id": "3b8ed01a",
   "metadata": {
    "execution": {
     "iopub.execute_input": "2024-04-30T18:49:42.100356Z",
     "iopub.status.busy": "2024-04-30T18:49:42.100100Z",
     "iopub.status.idle": "2024-04-30T18:49:42.104892Z",
     "shell.execute_reply": "2024-04-30T18:49:42.104080Z"
    },
    "papermill": {
     "duration": 0.015985,
     "end_time": "2024-04-30T18:49:42.106721",
     "exception": false,
     "start_time": "2024-04-30T18:49:42.090736",
     "status": "completed"
    },
    "tags": []
   },
   "outputs": [],
   "source": [
    "from torch.utils.data import DataLoader\n",
    "\n",
    "train_loader = DataLoader(train_set, batch_size=128, shuffle=True)\n",
    "val_loader = DataLoader(val_set, batch_size=128, shuffle=True)\n",
    "test_loader = DataLoader(test_set, batch_size=128, shuffle=False)"
   ]
  },
  {
   "cell_type": "markdown",
   "id": "5f3cc882",
   "metadata": {
    "papermill": {
     "duration": 0.00839,
     "end_time": "2024-04-30T18:49:42.123708",
     "exception": false,
     "start_time": "2024-04-30T18:49:42.115318",
     "status": "completed"
    },
    "tags": []
   },
   "source": [
    "# Utility functions"
   ]
  },
  {
   "cell_type": "code",
   "execution_count": 13,
   "id": "dc556243",
   "metadata": {
    "execution": {
     "iopub.execute_input": "2024-04-30T18:49:42.141996Z",
     "iopub.status.busy": "2024-04-30T18:49:42.141744Z",
     "iopub.status.idle": "2024-04-30T18:49:42.149063Z",
     "shell.execute_reply": "2024-04-30T18:49:42.148045Z"
    },
    "papermill": {
     "duration": 0.018559,
     "end_time": "2024-04-30T18:49:42.150878",
     "exception": false,
     "start_time": "2024-04-30T18:49:42.132319",
     "status": "completed"
    },
    "tags": []
   },
   "outputs": [],
   "source": [
    "def train_one_epoch(model, criterion, optimizer, train_loader, cnn = False):\n",
    "    model.train()\n",
    "    train_loss = []\n",
    "    for inputs, target in train_loader:\n",
    "        if cnn:\n",
    "            inputs = inputs.view(batch_size,1,16,20)\n",
    "        inputs, target = inputs.to(device), target.to(device)\n",
    "        optimizer.zero_grad()\n",
    "        out = model(inputs)\n",
    "        loss = criterion(out, target)\n",
    "        loss.backward()\n",
    "        optimizer.step()\n",
    "        train_loss.append(loss.item())\n",
    "    #average the train_loss list in for all batches in the train_gen\n",
    "    train_loss = np.mean(train_loss)    \n",
    "    return train_loss"
   ]
  },
  {
   "cell_type": "code",
   "execution_count": 14,
   "id": "80c132b5",
   "metadata": {
    "execution": {
     "iopub.execute_input": "2024-04-30T18:49:42.169021Z",
     "iopub.status.busy": "2024-04-30T18:49:42.168780Z",
     "iopub.status.idle": "2024-04-30T18:49:42.174369Z",
     "shell.execute_reply": "2024-04-30T18:49:42.173574Z"
    },
    "papermill": {
     "duration": 0.017113,
     "end_time": "2024-04-30T18:49:42.176639",
     "exception": false,
     "start_time": "2024-04-30T18:49:42.159526",
     "status": "completed"
    },
    "tags": []
   },
   "outputs": [],
   "source": [
    "def validate_one_epoch(model, criterion, optimizer, val_loader, cnn = False):\n",
    "    model.eval()\n",
    "    test_loss = []\n",
    "    for inputs, target in val_loader:\n",
    "        if cnn:\n",
    "            inputs = inputs.view(batch_size,1,16,20)\n",
    "        inputs, target = inputs.to(device), target.to(device)\n",
    "        out = model(inputs)\n",
    "        loss = criterion(out, target)\n",
    "        test_loss.append(loss.item())\n",
    "    #average the test_loss list in for all batches in the test_gen\n",
    "    test_loss = np.mean(test_loss)\n",
    "    return test_loss"
   ]
  },
  {
   "cell_type": "code",
   "execution_count": 15,
   "id": "dc751044",
   "metadata": {
    "execution": {
     "iopub.execute_input": "2024-04-30T18:49:42.194730Z",
     "iopub.status.busy": "2024-04-30T18:49:42.194441Z",
     "iopub.status.idle": "2024-04-30T18:49:42.204670Z",
     "shell.execute_reply": "2024-04-30T18:49:42.203870Z"
    },
    "papermill": {
     "duration": 0.021319,
     "end_time": "2024-04-30T18:49:42.206485",
     "exception": false,
     "start_time": "2024-04-30T18:49:42.185166",
     "status": "completed"
    },
    "tags": []
   },
   "outputs": [],
   "source": [
    "def batch_gd_scheduler(model, new_model_name, criterion, optimizer, train_loader, val_loader, scheduler,\n",
    "                         epochs, device, batch_size=128,  cnn = False):\n",
    "    train_losses = np.zeros(epochs)\n",
    "    test_losses = np.zeros(epochs)\n",
    "    patience = 0\n",
    "    best_loss = 1000\n",
    "    max_patience = 20\n",
    "    for i in range(epochs):\n",
    "        t0 = datetime.now()\n",
    "        train_loss = train_one_epoch(model, criterion, optimizer,train_loader)\n",
    "        test_loss = validate_one_epoch(model, criterion, optimizer,val_loader)\n",
    "        #Early stopping based on test loss\n",
    "        if i == 0:\n",
    "            best_loss = test_loss   \n",
    "            torch.save(model, f'/kaggle/working/saved_models/{new_model_name}.pt')\n",
    "            print(f'Model saved as {new_model_name} at epoch {i}')\n",
    "        else:\n",
    "            if test_loss < best_loss:\n",
    "                best_loss = test_loss\n",
    "                torch.save(model, f'/kaggle/working/saved_models/{new_model_name}.pt')\n",
    "                print(f'Model overwritten at epoch {i}, new best val loss {best_loss}')\n",
    "                patience = 0\n",
    "            else:\n",
    "                patience = patience +1\n",
    "                #print(f'No improvement, current patience level is {patience} at epoch {i}')\n",
    "        if patience > max_patience:\n",
    "            print(f'Max patience reached, training is terminated at epoch {i}')\n",
    "            break\n",
    "        #Apply scheduler after the train+validate parts\n",
    "        before_lr = optimizer.param_groups[0][\"lr\"]\n",
    "        scheduler.step(test_loss)\n",
    "        after_lr = optimizer.param_groups[0][\"lr\"]\n",
    "        train_losses[i] = train_loss\n",
    "        test_losses[i] = test_loss\n",
    "        #write the losses into a csv fil\n",
    "        loss_dict = {'train_loss': train_losses, 'val_loss': test_losses}\n",
    "        dd = pd.DataFrame(loss_dict)\n",
    "        dd.to_csv('loss_dict_lstm_256.csv', index = False)\n",
    "        dt = datetime.now()-t0\n",
    "        if i%10==0:\n",
    "            print(f'Epoch: {i+1}/{epochs}, train loss: {train_loss: .3f}, val_loss: {test_loss: .3f}, duration: {dt}, learning rate: {before_lr, after_lr}')\n",
    "    return train_losses, test_losses"
   ]
  },
  {
   "cell_type": "code",
   "execution_count": 16,
   "id": "e84c5878",
   "metadata": {
    "execution": {
     "iopub.execute_input": "2024-04-30T18:49:42.224407Z",
     "iopub.status.busy": "2024-04-30T18:49:42.224151Z",
     "iopub.status.idle": "2024-04-30T18:49:42.230826Z",
     "shell.execute_reply": "2024-04-30T18:49:42.229992Z"
    },
    "papermill": {
     "duration": 0.017607,
     "end_time": "2024-04-30T18:49:42.232561",
     "exception": false,
     "start_time": "2024-04-30T18:49:42.214954",
     "status": "completed"
    },
    "tags": []
   },
   "outputs": [],
   "source": [
    "def train_from_scratch_or_load(load_model_weight,new_model_name, epochs, cnn = False):    \n",
    "    if load_model_weight==None:\n",
    "        #criterion = nn.MSELoss()\n",
    "        criterion = nn.HuberLoss()\n",
    "        optimizer = torch.optim.AdamW(model.parameters(), lr=0.01)\n",
    "        scheduler = lr_scheduler.ReduceLROnPlateau(optimizer, 'min', factor=0.1, min_lr = 1e-8)\n",
    "        train_losses, test_losses=batch_gd_scheduler(model, new_model_name, criterion, \n",
    "                                                     optimizer,train_loader, val_loader,\n",
    "                                                      scheduler, epochs, \n",
    "                                                       device = device, cnn=cnn)\n",
    "        return train_losses, test_losses\n",
    "    else:\n",
    "        if torch.cuda.is_available():\n",
    "            trained_model = torch.load(load_model_weight)     \n",
    "        else:\n",
    "            trained_model = torch.load(load_model_weight, map_location=torch.device('cpu'))       \n",
    "        return trained_model"
   ]
  },
  {
   "cell_type": "code",
   "execution_count": 17,
   "id": "818ae257",
   "metadata": {
    "execution": {
     "iopub.execute_input": "2024-04-30T18:49:42.250734Z",
     "iopub.status.busy": "2024-04-30T18:49:42.250458Z",
     "iopub.status.idle": "2024-04-30T18:49:42.256408Z",
     "shell.execute_reply": "2024-04-30T18:49:42.255563Z"
    },
    "papermill": {
     "duration": 0.017191,
     "end_time": "2024-04-30T18:49:42.258400",
     "exception": false,
     "start_time": "2024-04-30T18:49:42.241209",
     "status": "completed"
    },
    "tags": []
   },
   "outputs": [],
   "source": [
    "def load_and_retrain(load_model_weight, new_model_name, epochs, cnn=False):\n",
    "    trained_model = torch.load(load_model_weight) \n",
    "    #criterion = nn.MSELoss()\n",
    "    criterion = nn.HuberLoss()\n",
    "    optimizer = torch.optim.AdamW(trained_model.parameters(),lr=0.0001)\n",
    "    scheduler = lr_scheduler.ReduceLROnPlateau(optimizer, 'min', factor=0.5, min_lr = 5e-7)\n",
    "    trained_model.train()\n",
    "    train_losses, test_losses=batch_gd_scheduler(trained_model,new_model_name, criterion, optimizer,\n",
    "                                                 train_loader, val_loader, \n",
    "                                                 scheduler, epochs, \n",
    "                                                 device = device, cnn=cnn)\n",
    "    return trained_model, train_losses, test_losses"
   ]
  },
  {
   "cell_type": "code",
   "execution_count": 18,
   "id": "da182af0",
   "metadata": {
    "execution": {
     "iopub.execute_input": "2024-04-30T18:49:42.276268Z",
     "iopub.status.busy": "2024-04-30T18:49:42.276030Z",
     "iopub.status.idle": "2024-04-30T18:49:42.280466Z",
     "shell.execute_reply": "2024-04-30T18:49:42.279662Z"
    },
    "papermill": {
     "duration": 0.015472,
     "end_time": "2024-04-30T18:49:42.282387",
     "exception": false,
     "start_time": "2024-04-30T18:49:42.266915",
     "status": "completed"
    },
    "tags": []
   },
   "outputs": [],
   "source": [
    "def plot_losses(train_losses, test_losses):\n",
    "    # Plot the train loss and test loss per iteration\n",
    "    plt.plot(train_losses, label='train loss')\n",
    "    plt.plot(test_losses, label='val loss')\n",
    "    plt.legend()\n",
    "    plt.show()"
   ]
  },
  {
   "cell_type": "code",
   "execution_count": 19,
   "id": "823995ba",
   "metadata": {
    "execution": {
     "iopub.execute_input": "2024-04-30T18:49:42.300289Z",
     "iopub.status.busy": "2024-04-30T18:49:42.300034Z",
     "iopub.status.idle": "2024-04-30T18:49:42.304113Z",
     "shell.execute_reply": "2024-04-30T18:49:42.303192Z"
    },
    "papermill": {
     "duration": 0.015343,
     "end_time": "2024-04-30T18:49:42.306145",
     "exception": false,
     "start_time": "2024-04-30T18:49:42.290802",
     "status": "completed"
    },
    "tags": []
   },
   "outputs": [],
   "source": [
    "if not os.path.exists('saved_models'):\n",
    "    os.makedirs('saved_models')"
   ]
  },
  {
   "cell_type": "code",
   "execution_count": 20,
   "id": "eac730a3",
   "metadata": {
    "execution": {
     "iopub.execute_input": "2024-04-30T18:49:42.325554Z",
     "iopub.status.busy": "2024-04-30T18:49:42.325303Z",
     "iopub.status.idle": "2024-04-30T18:49:42.337427Z",
     "shell.execute_reply": "2024-04-30T18:49:42.336794Z"
    },
    "papermill": {
     "duration": 0.023844,
     "end_time": "2024-04-30T18:49:42.339269",
     "exception": false,
     "start_time": "2024-04-30T18:49:42.315425",
     "status": "completed"
    },
    "tags": []
   },
   "outputs": [],
   "source": [
    "################## GET PREDICTIONS + ACCURACY #####################\n",
    "def get_pred_n_acc(models, device, dataloader, num_iter):\n",
    "    i = 0\n",
    "    ypreds =[]\n",
    "    targets = []\n",
    "    #The last batch might not have size 128\n",
    "    while i< num_iter:\n",
    "        for data, target in dataloader:\n",
    "            #this empty list is to hold all models' preds\n",
    "            ypred = []    \n",
    "            data= data.to(device)\n",
    "            data = data.to(torch.float32)\n",
    "            target = target.to(torch.float32)\n",
    "            #append the 'i^th' target\n",
    "            targets.append(target)\n",
    "            for model in models:\n",
    "                model.eval()\n",
    "                yp = model(data)\n",
    "                yp = yp.detach().cpu().numpy()\n",
    "                ypred.append(yp)\n",
    "            #take the mean of all models' predictions\n",
    "            ypred = np.array(ypred).mean(axis = 0)\n",
    "            ypred = np.round(ypred)\n",
    "            i+=1\n",
    "            #append ypred, targets inside the 'i' loop\n",
    "            # append the 'i^th' mean prediction\n",
    "            ypreds.append(ypred)   \n",
    "            if i == num_iter:\n",
    "                break \n",
    "     #Do not convert ypreds, targets to np.array at this point,\n",
    "    #since the last batch has a different size, causing an error !\n",
    "    #CALCULATING ACCURACY    \n",
    "    yp =  np.concatenate([ypreds[j] for j in range(len(ypreds))], axis = 0)\n",
    "    tgs =  np.concatenate([targets[j] for j in range(len(targets))], axis = 0)\n",
    "    h11_acc = ((yp[:,0] == tgs[:,0]).sum())/len(yp)\n",
    "    h21_acc = ((yp[:,1] == tgs[:,1]).sum())/len(yp)\n",
    "    h31_acc = ((yp[:,2] == tgs[:,2]).sum())/len(yp)\n",
    "    h22_acc = ((yp[:,3] == tgs[:,3]).sum())/len(yp)\n",
    "    acc = [h11_acc*100,h21_acc*100,h31_acc*100,h22_acc*100 ]\n",
    "    return  yp, tgs, acc\n"
   ]
  },
  {
   "cell_type": "markdown",
   "id": "ad1584aa",
   "metadata": {
    "papermill": {
     "duration": 0.008156,
     "end_time": "2024-04-30T18:49:42.355885",
     "exception": false,
     "start_time": "2024-04-30T18:49:42.347729",
     "status": "completed"
    },
    "tags": []
   },
   "source": [
    "# Load trained model and verify accuracies"
   ]
  },
  {
   "cell_type": "code",
   "execution_count": 21,
   "id": "0cb8e602",
   "metadata": {
    "execution": {
     "iopub.execute_input": "2024-04-30T18:49:42.373713Z",
     "iopub.status.busy": "2024-04-30T18:49:42.373438Z",
     "iopub.status.idle": "2024-04-30T22:48:30.334553Z",
     "shell.execute_reply": "2024-04-30T22:48:30.333557Z"
    },
    "papermill": {
     "duration": 14327.991948,
     "end_time": "2024-04-30T22:48:30.356197",
     "exception": false,
     "start_time": "2024-04-30T18:49:42.364249",
     "status": "completed"
    },
    "tags": []
   },
   "outputs": [
    {
     "name": "stdout",
     "output_type": "stream",
     "text": [
      "Model saved as CNN-LSTM-256 at epoch 0\n",
      "Epoch: 1/550, train loss:  5.832, val_loss:  4.962, duration: 0:00:42.173419, learning rate: (0.01, 0.01)\n",
      "Model overwritten at epoch 1, new best val loss 4.551136666084303\n",
      "Model overwritten at epoch 2, new best val loss 4.548508049108785\n",
      "Model overwritten at epoch 3, new best val loss 4.4120506765140215\n",
      "Model overwritten at epoch 5, new best val loss 4.302233631228224\n",
      "Model overwritten at epoch 8, new best val loss 4.1284157821951295\n",
      "Model overwritten at epoch 9, new best val loss 4.089193579591351\n",
      "Epoch: 11/550, train loss:  4.249, val_loss:  4.695, duration: 0:00:41.247594, learning rate: (0.01, 0.01)\n",
      "Model overwritten at epoch 14, new best val loss 4.013814138777462\n",
      "Epoch: 21/550, train loss:  4.174, val_loss:  4.265, duration: 0:00:41.235789, learning rate: (0.01, 0.01)\n",
      "Model overwritten at epoch 23, new best val loss 4.006961851944158\n",
      "Epoch: 31/550, train loss:  4.155, val_loss:  4.065, duration: 0:00:41.213208, learning rate: (0.01, 0.01)\n",
      "Model overwritten at epoch 35, new best val loss 3.5149647449479953\n",
      "Model overwritten at epoch 36, new best val loss 3.453702294216795\n",
      "Model overwritten at epoch 37, new best val loss 3.4505323905372958\n",
      "Model overwritten at epoch 38, new best val loss 3.3731572203325006\n",
      "Model overwritten at epoch 39, new best val loss 3.35185030444379\n",
      "Epoch: 41/550, train loss:  3.247, val_loss:  3.358, duration: 0:00:41.144367, learning rate: (0.001, 0.001)\n",
      "Model overwritten at epoch 41, new best val loss 3.2952919414224238\n",
      "Model overwritten at epoch 42, new best val loss 3.2660112872956293\n",
      "Model overwritten at epoch 44, new best val loss 3.24501406074201\n",
      "Model overwritten at epoch 48, new best val loss 3.216293550252494\n",
      "Model overwritten at epoch 49, new best val loss 3.2004695708158786\n",
      "Model overwritten at epoch 50, new best val loss 3.1863795752247803\n",
      "Epoch: 51/550, train loss:  3.106, val_loss:  3.186, duration: 0:00:41.215733, learning rate: (0.001, 0.001)\n",
      "Model overwritten at epoch 52, new best val loss 3.1722558482403898\n",
      "Model overwritten at epoch 56, new best val loss 3.1714384850160577\n",
      "Model overwritten at epoch 57, new best val loss 3.1695283270807284\n",
      "Epoch: 61/550, train loss:  3.061, val_loss:  3.412, duration: 0:00:41.355290, learning rate: (0.001, 0.001)\n",
      "Model overwritten at epoch 61, new best val loss 3.166247357767095\n",
      "Model overwritten at epoch 63, new best val loss 3.166019567736873\n",
      "Model overwritten at epoch 64, new best val loss 3.1393654005868092\n",
      "Model overwritten at epoch 66, new best val loss 3.1051221696998286\n",
      "Model overwritten at epoch 67, new best val loss 3.1000958094521174\n",
      "Model overwritten at epoch 70, new best val loss 2.941208899967254\n",
      "Epoch: 71/550, train loss:  2.892, val_loss:  2.941, duration: 0:00:41.397611, learning rate: (0.001, 0.001)\n",
      "Model overwritten at epoch 71, new best val loss 2.8109337362662825\n",
      "Model overwritten at epoch 72, new best val loss 2.7889258554583085\n",
      "Model overwritten at epoch 73, new best val loss 2.5733472146685163\n",
      "Model overwritten at epoch 74, new best val loss 2.475023299087713\n",
      "Model overwritten at epoch 75, new best val loss 2.416297233293927\n",
      "Model overwritten at epoch 76, new best val loss 2.2851942891166326\n",
      "Model overwritten at epoch 77, new best val loss 2.2183258508248302\n",
      "Model overwritten at epoch 78, new best val loss 2.1851042677275507\n",
      "Model overwritten at epoch 79, new best val loss 2.0699617379136397\n",
      "Model overwritten at epoch 80, new best val loss 1.9659031280554582\n",
      "Epoch: 81/550, train loss:  1.888, val_loss:  1.966, duration: 0:00:41.607363, learning rate: (0.001, 0.001)\n",
      "Model overwritten at epoch 81, new best val loss 1.8531621145823645\n",
      "Model overwritten at epoch 82, new best val loss 1.753449183923227\n",
      "Model overwritten at epoch 84, new best val loss 1.6226969225696786\n",
      "Model overwritten at epoch 85, new best val loss 1.5690514107860585\n",
      "Model overwritten at epoch 86, new best val loss 1.5683322374362374\n",
      "Model overwritten at epoch 88, new best val loss 1.420791538934859\n",
      "Epoch: 91/550, train loss:  1.336, val_loss:  1.429, duration: 0:00:41.389030, learning rate: (0.001, 0.001)\n",
      "Model overwritten at epoch 91, new best val loss 1.3243451767077101\n",
      "Model overwritten at epoch 92, new best val loss 1.3070140093091935\n",
      "Model overwritten at epoch 94, new best val loss 1.2966664332561393\n",
      "Model overwritten at epoch 95, new best val loss 1.1997937320401428\n",
      "Model overwritten at epoch 97, new best val loss 1.1752629959183816\n",
      "Model overwritten at epoch 98, new best val loss 1.1652416307249187\n",
      "Model overwritten at epoch 99, new best val loss 1.1261314324495864\n",
      "Epoch: 101/550, train loss:  1.070, val_loss:  1.295, duration: 0:00:41.448750, learning rate: (0.001, 0.001)\n",
      "Model overwritten at epoch 103, new best val loss 1.0973081812656746\n",
      "Model overwritten at epoch 105, new best val loss 1.068822802795094\n",
      "Model overwritten at epoch 109, new best val loss 1.0597429670774536\n",
      "Model overwritten at epoch 110, new best val loss 0.9830762796511305\n",
      "Epoch: 111/550, train loss:  0.926, val_loss:  0.983, duration: 0:00:41.366667, learning rate: (0.001, 0.001)\n",
      "Model overwritten at epoch 113, new best val loss 0.9293367995156182\n",
      "Model overwritten at epoch 116, new best val loss 0.9242574309756095\n",
      "Model overwritten at epoch 120, new best val loss 0.9070623226897426\n",
      "Epoch: 121/550, train loss:  0.822, val_loss:  0.907, duration: 0:00:41.314418, learning rate: (0.001, 0.001)\n",
      "Model overwritten at epoch 121, new best val loss 0.871320603490927\n",
      "Model overwritten at epoch 126, new best val loss 0.8556715853420305\n",
      "Model overwritten at epoch 127, new best val loss 0.8506363772210621\n",
      "Model overwritten at epoch 128, new best val loss 0.8439912698519083\n",
      "Model overwritten at epoch 130, new best val loss 0.8404369702204615\n",
      "Epoch: 131/550, train loss:  0.750, val_loss:  0.840, duration: 0:00:41.156362, learning rate: (0.001, 0.001)\n",
      "Model overwritten at epoch 131, new best val loss 0.8376275364053313\n",
      "Model overwritten at epoch 132, new best val loss 0.8186867213964042\n",
      "Model overwritten at epoch 138, new best val loss 0.7643486450588892\n",
      "Model overwritten at epoch 140, new best val loss 0.750694484464706\n",
      "Epoch: 141/550, train loss:  0.697, val_loss:  0.751, duration: 0:00:41.164094, learning rate: (0.001, 0.001)\n",
      "Model overwritten at epoch 144, new best val loss 0.7182094245570888\n",
      "Model overwritten at epoch 148, new best val loss 0.7108669130680212\n",
      "Epoch: 151/550, train loss:  0.632, val_loss:  0.762, duration: 0:00:41.173212, learning rate: (0.001, 0.001)\n",
      "Model overwritten at epoch 153, new best val loss 0.6964900560900438\n",
      "Model overwritten at epoch 158, new best val loss 0.6807643465264134\n",
      "Epoch: 161/550, train loss:  0.589, val_loss:  0.685, duration: 0:00:41.228896, learning rate: (0.001, 0.001)\n",
      "Model overwritten at epoch 163, new best val loss 0.6500535127977846\n",
      "Model overwritten at epoch 164, new best val loss 0.6201708608518832\n",
      "Epoch: 171/550, train loss:  0.545, val_loss:  0.625, duration: 0:00:41.353689, learning rate: (0.001, 0.001)\n",
      "Model overwritten at epoch 172, new best val loss 0.6056110798471609\n",
      "Model overwritten at epoch 178, new best val loss 0.5869759833423759\n",
      "Model overwritten at epoch 180, new best val loss 0.5842907474469886\n",
      "Epoch: 181/550, train loss:  0.521, val_loss:  0.584, duration: 0:00:41.268186, learning rate: (0.001, 0.001)\n",
      "Model overwritten at epoch 182, new best val loss 0.5779105410689399\n",
      "Model overwritten at epoch 184, new best val loss 0.5758224866587859\n",
      "Model overwritten at epoch 188, new best val loss 0.5533117033554343\n",
      "Model overwritten at epoch 189, new best val loss 0.5409704344823457\n",
      "Epoch: 191/550, train loss:  0.493, val_loss:  0.601, duration: 0:00:41.204924, learning rate: (0.001, 0.001)\n",
      "Model overwritten at epoch 192, new best val loss 0.533155847110866\n",
      "Model overwritten at epoch 196, new best val loss 0.5240851899303457\n",
      "Model overwritten at epoch 199, new best val loss 0.5125439702097911\n",
      "Epoch: 201/550, train loss:  0.457, val_loss:  0.534, duration: 0:00:41.274023, learning rate: (0.001, 0.001)\n",
      "Model overwritten at epoch 203, new best val loss 0.5053865489347902\n",
      "Model overwritten at epoch 205, new best val loss 0.4995045114761938\n",
      "Epoch: 211/550, train loss:  0.442, val_loss:  0.555, duration: 0:00:41.377921, learning rate: (0.001, 0.001)\n",
      "Model overwritten at epoch 213, new best val loss 0.48880612072280266\n",
      "Model overwritten at epoch 220, new best val loss 0.47109802719041366\n",
      "Epoch: 221/550, train loss:  0.420, val_loss:  0.471, duration: 0:00:41.272862, learning rate: (0.001, 0.001)\n",
      "Model overwritten at epoch 229, new best val loss 0.4534017528806414\n",
      "Epoch: 231/550, train loss:  0.404, val_loss:  0.664, duration: 0:00:41.155682, learning rate: (0.001, 0.001)\n",
      "Model overwritten at epoch 236, new best val loss 0.4449539558807588\n",
      "Epoch: 241/550, train loss:  0.383, val_loss:  0.518, duration: 0:00:41.281916, learning rate: (0.001, 0.001)\n",
      "Model overwritten at epoch 242, new best val loss 0.44341508435772\n",
      "Model overwritten at epoch 244, new best val loss 0.4377147716977609\n",
      "Model overwritten at epoch 245, new best val loss 0.4083246597511007\n",
      "Model overwritten at epoch 248, new best val loss 0.4056135014461672\n",
      "Epoch: 251/550, train loss:  0.379, val_loss:  0.462, duration: 0:00:41.269453, learning rate: (0.001, 0.001)\n",
      "Model overwritten at epoch 260, new best val loss 0.2596193674222502\n",
      "Epoch: 261/550, train loss:  0.209, val_loss:  0.260, duration: 0:00:41.202747, learning rate: (0.0001, 0.0001)\n",
      "Model overwritten at epoch 261, new best val loss 0.23974624736073577\n",
      "Model overwritten at epoch 262, new best val loss 0.22842654842075216\n",
      "Model overwritten at epoch 263, new best val loss 0.22260717808464428\n",
      "Model overwritten at epoch 264, new best val loss 0.21640006565805886\n",
      "Model overwritten at epoch 265, new best val loss 0.21094785120857246\n",
      "Model overwritten at epoch 266, new best val loss 0.20941956255854333\n",
      "Model overwritten at epoch 267, new best val loss 0.20797282399534128\n",
      "Model overwritten at epoch 268, new best val loss 0.20564233892099568\n",
      "Model overwritten at epoch 269, new best val loss 0.20416471868017574\n",
      "Model overwritten at epoch 270, new best val loss 0.20319824778791878\n",
      "Epoch: 271/550, train loss:  0.093, val_loss:  0.203, duration: 0:00:41.188559, learning rate: (0.0001, 0.0001)\n",
      "Model overwritten at epoch 271, new best val loss 0.20145658621764898\n",
      "Model overwritten at epoch 272, new best val loss 0.1999559670660441\n",
      "Model overwritten at epoch 274, new best val loss 0.19855948064535384\n",
      "Model overwritten at epoch 275, new best val loss 0.1981921579156603\n",
      "Model overwritten at epoch 276, new best val loss 0.19365721201192346\n",
      "Model overwritten at epoch 280, new best val loss 0.19317134963167829\n",
      "Epoch: 281/550, train loss:  0.073, val_loss:  0.193, duration: 0:00:41.478430, learning rate: (0.0001, 0.0001)\n",
      "Model overwritten at epoch 281, new best val loss 0.1911771170913227\n",
      "Model overwritten at epoch 285, new best val loss 0.1895956891133882\n",
      "Model overwritten at epoch 287, new best val loss 0.18911338928673002\n",
      "Model overwritten at epoch 290, new best val loss 0.18908798297771912\n",
      "Epoch: 291/550, train loss:  0.063, val_loss:  0.189, duration: 0:00:41.646661, learning rate: (0.0001, 0.0001)\n",
      "Model overwritten at epoch 291, new best val loss 0.18847102539144076\n",
      "Model overwritten at epoch 297, new best val loss 0.18766637691797614\n",
      "Model overwritten at epoch 300, new best val loss 0.18744669223903979\n",
      "Epoch: 301/550, train loss:  0.058, val_loss:  0.187, duration: 0:00:41.161214, learning rate: (0.0001, 0.0001)\n",
      "Model overwritten at epoch 303, new best val loss 0.1862264327980854\n",
      "Model overwritten at epoch 308, new best val loss 0.1859492504512612\n",
      "Epoch: 311/550, train loss:  0.054, val_loss:  0.187, duration: 0:00:41.183629, learning rate: (0.0001, 0.0001)\n",
      "Model overwritten at epoch 320, new best val loss 0.17897333514858596\n",
      "Epoch: 321/550, train loss:  0.040, val_loss:  0.179, duration: 0:00:41.305489, learning rate: (1e-05, 1e-05)\n",
      "Model overwritten at epoch 321, new best val loss 0.17819980386072998\n",
      "Model overwritten at epoch 325, new best val loss 0.17819461312368381\n",
      "Epoch: 331/550, train loss:  0.033, val_loss:  0.179, duration: 0:00:41.258006, learning rate: (1e-05, 1e-05)\n",
      "Epoch: 341/550, train loss:  0.031, val_loss:  0.179, duration: 0:00:41.210030, learning rate: (1.0000000000000002e-06, 1.0000000000000002e-06)\n",
      "Max patience reached, training is terminated at epoch 346\n"
     ]
    }
   ],
   "source": [
    "load_model_weight = None\n",
    "epochs = 550\n",
    "new_model_name = 'CNN-LSTM-256'\n",
    "if load_model_weight is None:   \n",
    "    train_losses, test_losses=train_from_scratch_or_load(load_model_weight,new_model_name,  epochs, cnn = False)\n",
    "else:\n",
    "    trained_model_v00 = train_from_scratch_or_load(load_model_weight, new_model_name, epochs, cnn = False)\n",
    "    #Train accuracy\n",
    "    yt, tgt, acct = get_pred_n_acc([trained_model_v00], device, train_loader, num_iter = len(train_loader))\n",
    "    #validation accuracy\n",
    "    yv, tgv, accv = get_pred_n_acc([trained_model_v00], device, val_loader, num_iter = len(val_loader))\n",
    "    print(f'Train data, target shapes: {yt.shape, tgt.shape},\\n train accuracies {acct}')\n",
    "    print(f'Validation data, target shapes: {yv.shape, tgv.shape},\\n validation accuracies {accv}')\n",
    "    #Test accuracy\n",
    "    yts, tgts, accts = get_pred_n_acc([trained_model_v00], device, test_loader, num_iter = len(test_loader))\n",
    "    print(f'Test data, target shapes: {yts.shape, tgts.shape},\\n test accuracies {accts}')"
   ]
  },
  {
   "cell_type": "code",
   "execution_count": 22,
   "id": "65316e8d",
   "metadata": {
    "execution": {
     "iopub.execute_input": "2024-04-30T22:48:30.396118Z",
     "iopub.status.busy": "2024-04-30T22:48:30.395313Z",
     "iopub.status.idle": "2024-04-30T22:48:30.399316Z",
     "shell.execute_reply": "2024-04-30T22:48:30.398638Z"
    },
    "papermill": {
     "duration": 0.025862,
     "end_time": "2024-04-30T22:48:30.401194",
     "exception": false,
     "start_time": "2024-04-30T22:48:30.375332",
     "status": "completed"
    },
    "tags": []
   },
   "outputs": [],
   "source": [
    "# (Re)train loop"
   ]
  },
  {
   "cell_type": "code",
   "execution_count": 23,
   "id": "f629aa0e",
   "metadata": {
    "execution": {
     "iopub.execute_input": "2024-04-30T22:48:30.441143Z",
     "iopub.status.busy": "2024-04-30T22:48:30.440872Z",
     "iopub.status.idle": "2024-04-30T22:48:30.444425Z",
     "shell.execute_reply": "2024-04-30T22:48:30.443738Z"
    },
    "papermill": {
     "duration": 0.025724,
     "end_time": "2024-04-30T22:48:30.446228",
     "exception": false,
     "start_time": "2024-04-30T22:48:30.420504",
     "status": "completed"
    },
    "tags": []
   },
   "outputs": [],
   "source": [
    "#trained_model_v01, train_losses, test_losses = load_and_retrain(load_model_weight, new_model_name, epochs, cnn=False)"
   ]
  },
  {
   "cell_type": "code",
   "execution_count": 24,
   "id": "89115435",
   "metadata": {
    "execution": {
     "iopub.execute_input": "2024-04-30T22:48:30.485730Z",
     "iopub.status.busy": "2024-04-30T22:48:30.485427Z",
     "iopub.status.idle": "2024-04-30T22:48:30.502477Z",
     "shell.execute_reply": "2024-04-30T22:48:30.501662Z"
    },
    "papermill": {
     "duration": 0.039054,
     "end_time": "2024-04-30T22:48:30.504419",
     "exception": false,
     "start_time": "2024-04-30T22:48:30.465365",
     "status": "completed"
    },
    "tags": []
   },
   "outputs": [
    {
     "data": {
      "text/html": [
       "<div>\n",
       "<style scoped>\n",
       "    .dataframe tbody tr th:only-of-type {\n",
       "        vertical-align: middle;\n",
       "    }\n",
       "\n",
       "    .dataframe tbody tr th {\n",
       "        vertical-align: top;\n",
       "    }\n",
       "\n",
       "    .dataframe thead th {\n",
       "        text-align: right;\n",
       "    }\n",
       "</style>\n",
       "<table border=\"1\" class=\"dataframe\">\n",
       "  <thead>\n",
       "    <tr style=\"text-align: right;\">\n",
       "      <th></th>\n",
       "      <th>train_loss</th>\n",
       "      <th>val_loss</th>\n",
       "    </tr>\n",
       "  </thead>\n",
       "  <tbody>\n",
       "    <tr>\n",
       "      <th>0</th>\n",
       "      <td>5.831919</td>\n",
       "      <td>4.961580</td>\n",
       "    </tr>\n",
       "    <tr>\n",
       "      <th>1</th>\n",
       "      <td>4.935305</td>\n",
       "      <td>4.551137</td>\n",
       "    </tr>\n",
       "    <tr>\n",
       "      <th>2</th>\n",
       "      <td>5.092556</td>\n",
       "      <td>4.548508</td>\n",
       "    </tr>\n",
       "    <tr>\n",
       "      <th>3</th>\n",
       "      <td>4.595841</td>\n",
       "      <td>4.412051</td>\n",
       "    </tr>\n",
       "    <tr>\n",
       "      <th>4</th>\n",
       "      <td>4.493947</td>\n",
       "      <td>4.413387</td>\n",
       "    </tr>\n",
       "  </tbody>\n",
       "</table>\n",
       "</div>"
      ],
      "text/plain": [
       "   train_loss  val_loss\n",
       "0    5.831919  4.961580\n",
       "1    4.935305  4.551137\n",
       "2    5.092556  4.548508\n",
       "3    4.595841  4.412051\n",
       "4    4.493947  4.413387"
      ]
     },
     "execution_count": 24,
     "metadata": {},
     "output_type": "execute_result"
    }
   ],
   "source": [
    "import pandas as pd\n",
    "loss_dict = {'train_loss': train_losses, 'val_loss': test_losses}\n",
    "dd = pd.DataFrame(loss_dict)\n",
    "dd.to_csv('loss_dict.csv', index = False)\n",
    "dd.head()"
   ]
  },
  {
   "cell_type": "code",
   "execution_count": 25,
   "id": "75219ebf",
   "metadata": {
    "execution": {
     "iopub.execute_input": "2024-04-30T22:48:30.544996Z",
     "iopub.status.busy": "2024-04-30T22:48:30.544740Z",
     "iopub.status.idle": "2024-04-30T22:48:30.879622Z",
     "shell.execute_reply": "2024-04-30T22:48:30.878749Z"
    },
    "papermill": {
     "duration": 0.357676,
     "end_time": "2024-04-30T22:48:30.881568",
     "exception": false,
     "start_time": "2024-04-30T22:48:30.523892",
     "status": "completed"
    },
    "tags": []
   },
   "outputs": [
    {
     "data": {
      "image/png": "[encoded data removed]",
      "text/plain": [
       "<Figure size 640x480 with 1 Axes>"
      ]
     },
     "metadata": {},
     "output_type": "display_data"
    }
   ],
   "source": [
    "plot_losses(train_losses, test_losses)"
   ]
  },
  {
   "cell_type": "markdown",
   "id": "72d2e01a",
   "metadata": {
    "papermill": {
     "duration": 0.020314,
     "end_time": "2024-04-30T22:48:30.922706",
     "exception": false,
     "start_time": "2024-04-30T22:48:30.902392",
     "status": "completed"
    },
    "tags": []
   },
   "source": [
    "# Train, validation, test accuracies"
   ]
  },
  {
   "cell_type": "code",
   "execution_count": 26,
   "id": "691c34d8",
   "metadata": {
    "execution": {
     "iopub.execute_input": "2024-04-30T22:48:30.964068Z",
     "iopub.status.busy": "2024-04-30T22:48:30.963782Z",
     "iopub.status.idle": "2024-04-30T22:48:51.196838Z",
     "shell.execute_reply": "2024-04-30T22:48:51.195822Z"
    },
    "papermill": {
     "duration": 20.256215,
     "end_time": "2024-04-30T22:48:51.199058",
     "exception": false,
     "start_time": "2024-04-30T22:48:30.942843",
     "status": "completed"
    },
    "tags": []
   },
   "outputs": [
    {
     "name": "stdout",
     "output_type": "stream",
     "text": [
      "Train data, target shapes: ((652092, 4), (652092, 4)),\n",
      " train accuracies [99.75724284303442, 97.4623212675512, 98.72410641443233, 84.71841396612749]\n",
      "Validation data, target shapes: ((72455, 4), (72455, 4)),\n",
      " validation accuracies [99.31819750189773, 94.3620178041543, 88.5860189082879, 62.550548616382585]\n"
     ]
    }
   ],
   "source": [
    "#Train accuracy\n",
    "yt, tgt, acct = get_pred_n_acc([model], device, train_loader, num_iter = len(train_loader))\n",
    "#validation accuracy\n",
    "yv, tgv, accv = get_pred_n_acc([model], device, val_loader, num_iter = len(val_loader))\n",
    "print(f'Train data, target shapes: {yt.shape, tgt.shape},\\n train accuracies {acct}')\n",
    "print(f'Validation data, target shapes: {yv.shape, tgv.shape},\\n validation accuracies {accv}')"
   ]
  },
  {
   "cell_type": "code",
   "execution_count": 27,
   "id": "2e58672d",
   "metadata": {
    "execution": {
     "iopub.execute_input": "2024-04-30T22:48:51.241785Z",
     "iopub.status.busy": "2024-04-30T22:48:51.241139Z",
     "iopub.status.idle": "2024-04-30T22:48:56.105799Z",
     "shell.execute_reply": "2024-04-30T22:48:56.104736Z"
    },
    "papermill": {
     "duration": 4.888,
     "end_time": "2024-04-30T22:48:56.107929",
     "exception": false,
     "start_time": "2024-04-30T22:48:51.219929",
     "status": "completed"
    },
    "tags": []
   },
   "outputs": [
    {
     "name": "stdout",
     "output_type": "stream",
     "text": [
      "Test data, target shapes: ((181137, 4), (181137, 4)),\n",
      " test accuracies [99.31874768821389, 94.39485030667394, 88.59040394839265, 62.46818706283089]\n"
     ]
    }
   ],
   "source": [
    "#Test accuracy\n",
    "yts, tgts, accts = get_pred_n_acc([model], device, test_loader, num_iter = len(test_loader))\n",
    "print(f'Test data, target shapes: {yts.shape, tgts.shape},\\n test accuracies {accts}')"
   ]
  }
 ],
 "metadata": {
  "kaggle": {
   "accelerator": "gpu",
   "dataSources": [
    {
     "sourceId": 174871011,
     "sourceType": "kernelVersion"
    }
   ],
   "dockerImageVersionId": 30683,
   "isGpuEnabled": true,
   "isInternetEnabled": true,
   "language": "python",
   "sourceType": "notebook"
  },
  "kernelspec": {
   "display_name": "Python 3",
   "language": "python",
   "name": "python3"
  },
  "language_info": {
   "codemirror_mode": {
    "name": "ipython",
    "version": 3
   },
   "file_extension": ".py",
   "mimetype": "text/x-python",
   "name": "python",
   "nbconvert_exporter": "python",
   "pygments_lexer": "ipython3",
   "version": "3.10.13"
  },
  "papermill": {
   "default_parameters": {},
   "duration": 14385.081152,
   "end_time": "2024-04-30T22:48:57.780496",
   "environment_variables": {},
   "exception": null,
   "input_path": "__notebook__.ipynb",
   "output_path": "__notebook__.ipynb",
   "parameters": {},
   "start_time": "2024-04-30T18:49:12.699344",
   "version": "2.5.0"
  }
 },
 "nbformat": 4,
 "nbformat_minor": 5
}
