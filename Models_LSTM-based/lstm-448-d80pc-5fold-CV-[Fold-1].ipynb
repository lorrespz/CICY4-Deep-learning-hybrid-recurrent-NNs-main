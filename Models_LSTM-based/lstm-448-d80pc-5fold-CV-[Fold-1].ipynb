{
 "cells": [
  {
   "cell_type": "markdown",
   "id": "deb5f678",
   "metadata": {
    "papermill": {
     "duration": 0.007981,
     "end_time": "2024-05-31T15:37:33.264921",
     "exception": false,
     "start_time": "2024-05-31T15:37:33.256940",
     "status": "completed"
    },
    "tags": []
   },
   "source": [
    "# CICY4: LSTM-448 [5-fold-CV] - Fold-1"
   ]
  },
  {
   "cell_type": "code",
   "execution_count": 1,
   "id": "3ce60b86",
   "metadata": {
    "_cell_guid": "b1076dfc-b9ad-4769-8c92-a6c4dae69d19",
    "_uuid": "8f2839f25d086af736a60e9eeb907d3b93b6e0e5",
    "execution": {
     "iopub.execute_input": "2024-05-31T15:37:33.280956Z",
     "iopub.status.busy": "2024-05-31T15:37:33.280610Z",
     "iopub.status.idle": "2024-05-31T15:37:38.860877Z",
     "shell.execute_reply": "2024-05-31T15:37:38.859445Z"
    },
    "papermill": {
     "duration": 5.592712,
     "end_time": "2024-05-31T15:37:38.865056",
     "exception": false,
     "start_time": "2024-05-31T15:37:33.272344",
     "status": "completed"
    },
    "tags": []
   },
   "outputs": [],
   "source": [
    "import numpy as np\n",
    "import random\n",
    "import pandas as pd\n",
    "import os as os\n",
    "import matplotlib.pyplot as plt\n",
    "import seaborn as sns\n",
    "from datetime import datetime\n",
    "\n",
    "import torch\n",
    "import torch.nn as nn\n",
    "import torch.nn.functional as F\n",
    "import torch.optim.lr_scheduler as lr_scheduler"
   ]
  },
  {
   "cell_type": "code",
   "execution_count": 2,
   "id": "cca9587c",
   "metadata": {
    "execution": {
     "iopub.execute_input": "2024-05-31T15:37:38.887108Z",
     "iopub.status.busy": "2024-05-31T15:37:38.885915Z",
     "iopub.status.idle": "2024-05-31T15:37:38.939511Z",
     "shell.execute_reply": "2024-05-31T15:37:38.938314Z"
    },
    "papermill": {
     "duration": 0.067823,
     "end_time": "2024-05-31T15:37:38.941889",
     "exception": false,
     "start_time": "2024-05-31T15:37:38.874066",
     "status": "completed"
    },
    "tags": []
   },
   "outputs": [
    {
     "name": "stdout",
     "output_type": "stream",
     "text": [
      "cuda:0\n"
     ]
    }
   ],
   "source": [
    "device = torch.device(\"cuda:0\" if torch.cuda.is_available() else \"cpu\")\n",
    "print(device)"
   ]
  },
  {
   "cell_type": "code",
   "execution_count": 3,
   "id": "acfc26a0",
   "metadata": {
    "execution": {
     "iopub.execute_input": "2024-05-31T15:37:38.957957Z",
     "iopub.status.busy": "2024-05-31T15:37:38.957640Z",
     "iopub.status.idle": "2024-05-31T15:37:38.965882Z",
     "shell.execute_reply": "2024-05-31T15:37:38.965193Z"
    },
    "papermill": {
     "duration": 0.018389,
     "end_time": "2024-05-31T15:37:38.967706",
     "exception": false,
     "start_time": "2024-05-31T15:37:38.949317",
     "status": "completed"
    },
    "tags": []
   },
   "outputs": [],
   "source": [
    "seed = 42\n",
    "\n",
    "def seed_everything(seed):\n",
    "    random.seed(seed)\n",
    "    os.environ['PYTHONHASHSEED'] = str(seed)\n",
    "    np.random.seed(seed)\n",
    "    torch.manual_seed(seed)\n",
    "    torch.cuda.manual_seed(seed)\n",
    "    torch.cuda.manual_seed_all(seed)\n",
    "    torch.backends.cudnn.deterministic = True\n",
    "\n",
    "seed_everything(seed)"
   ]
  },
  {
   "cell_type": "markdown",
   "id": "727d81ca",
   "metadata": {
    "papermill": {
     "duration": 0.007253,
     "end_time": "2024-05-31T15:37:38.982303",
     "exception": false,
     "start_time": "2024-05-31T15:37:38.975050",
     "status": "completed"
    },
    "tags": []
   },
   "source": [
    " # LSTM-based network architecture"
   ]
  },
  {
   "cell_type": "code",
   "execution_count": 4,
   "id": "b2cff1f9",
   "metadata": {
    "execution": {
     "iopub.execute_input": "2024-05-31T15:37:38.998316Z",
     "iopub.status.busy": "2024-05-31T15:37:38.997962Z",
     "iopub.status.idle": "2024-05-31T15:37:39.007246Z",
     "shell.execute_reply": "2024-05-31T15:37:39.006455Z"
    },
    "papermill": {
     "duration": 0.019398,
     "end_time": "2024-05-31T15:37:39.009021",
     "exception": false,
     "start_time": "2024-05-31T15:37:38.989623",
     "status": "completed"
    },
    "tags": []
   },
   "outputs": [],
   "source": [
    "class LSTM_block(nn.Module):\n",
    "    def __init__(self, n_inputs, n_hidden, n_rnnlayers, n_outputs):\n",
    "        super(LSTM_block,self).__init__()\n",
    "        self.D = n_inputs\n",
    "        self.M = n_hidden\n",
    "        self.K = n_outputs\n",
    "        self.L = n_rnnlayers\n",
    "        self.lstm = nn.LSTM(input_size = self.D,\n",
    "                           hidden_size = self.M,\n",
    "                           num_layers = self.L,\n",
    "                           batch_first = True)\n",
    "\n",
    "        self.feat_vec_size = self.M\n",
    "        self.fc1 = nn.Linear(self.feat_vec_size, 1024)\n",
    "        self.fc2 = nn.Linear(1024, 4)\n",
    "    def forward(self, X):\n",
    "        #input X is NxTxD\n",
    "        #initial hidden states\n",
    "        h0 = torch.zeros(self.L, X.size(0), self.M).to(device)\n",
    "        c0 = torch.zeros(self.L, X.size(0), self.M).to(device)\n",
    "        #get LSTM unit output:\n",
    "        #output is NxTxM\n",
    "        out, _ = self.lstm(X, (h0,c0))\n",
    "        #we only want the output y at the final time step\n",
    "        # output is now of shape (N, M)\n",
    "        xx = out[:, -1, :]\n",
    "        xx = self.fc1(xx)\n",
    "        #final output is 4\n",
    "        xx = self.fc2(xx)\n",
    "        return xx"
   ]
  },
  {
   "cell_type": "code",
   "execution_count": 5,
   "id": "b1d2b876",
   "metadata": {
    "execution": {
     "iopub.execute_input": "2024-05-31T15:37:39.025701Z",
     "iopub.status.busy": "2024-05-31T15:37:39.025369Z",
     "iopub.status.idle": "2024-05-31T15:37:39.372111Z",
     "shell.execute_reply": "2024-05-31T15:37:39.371187Z"
    },
    "papermill": {
     "duration": 0.357738,
     "end_time": "2024-05-31T15:37:39.374246",
     "exception": false,
     "start_time": "2024-05-31T15:37:39.016508",
     "status": "completed"
    },
    "tags": []
   },
   "outputs": [
    {
     "data": {
      "text/plain": [
       "LSTM_block(\n",
       "  (lstm): LSTM(20, 448, num_layers=2, batch_first=True)\n",
       "  (fc1): Linear(in_features=448, out_features=1024, bias=True)\n",
       "  (fc2): Linear(in_features=1024, out_features=4, bias=True)\n",
       ")"
      ]
     },
     "execution_count": 5,
     "metadata": {},
     "output_type": "execute_result"
    }
   ],
   "source": [
    "model = LSTM_block(20, 448, 2, 4)\n",
    "model.to(device)"
   ]
  },
  {
   "cell_type": "code",
   "execution_count": 6,
   "id": "b8c64604",
   "metadata": {
    "execution": {
     "iopub.execute_input": "2024-05-31T15:37:39.391358Z",
     "iopub.status.busy": "2024-05-31T15:37:39.391035Z",
     "iopub.status.idle": "2024-05-31T15:37:39.395952Z",
     "shell.execute_reply": "2024-05-31T15:37:39.395082Z"
    },
    "papermill": {
     "duration": 0.016766,
     "end_time": "2024-05-31T15:37:39.398446",
     "exception": false,
     "start_time": "2024-05-31T15:37:39.381680",
     "status": "completed"
    },
    "tags": []
   },
   "outputs": [
    {
     "name": "stdout",
     "output_type": "stream",
     "text": [
      "Total numbers of parameters: 2915332\n"
     ]
    }
   ],
   "source": [
    "#count the number of parameters in the model\n",
    "params = [p.numel() for p in model.parameters() if p.requires_grad]\n",
    "print(f'Total numbers of parameters: {sum(params)}')"
   ]
  },
  {
   "cell_type": "markdown",
   "id": "c1c64868",
   "metadata": {
    "papermill": {
     "duration": 0.007449,
     "end_time": "2024-05-31T15:37:39.413508",
     "exception": false,
     "start_time": "2024-05-31T15:37:39.406059",
     "status": "completed"
    },
    "tags": []
   },
   "source": [
    "# Load data (fold-0) & define dataset class"
   ]
  },
  {
   "cell_type": "code",
   "execution_count": 7,
   "id": "0f03ffab",
   "metadata": {
    "execution": {
     "iopub.execute_input": "2024-05-31T15:37:39.430274Z",
     "iopub.status.busy": "2024-05-31T15:37:39.429939Z",
     "iopub.status.idle": "2024-05-31T15:37:54.644192Z",
     "shell.execute_reply": "2024-05-31T15:37:54.643108Z"
    },
    "papermill": {
     "duration": 15.225459,
     "end_time": "2024-05-31T15:37:54.646552",
     "exception": false,
     "start_time": "2024-05-31T15:37:39.421093",
     "status": "completed"
    },
    "tags": []
   },
   "outputs": [
    {
     "name": "stdout",
     "output_type": "stream",
     "text": [
      "(579637, 16, 20) (144910, 16, 20) (181137, 16, 20)\n",
      "(579637, 4) (144910, 4) (181137, 4)\n",
      "0.639999160855221 0.16000061831720555 0.2000002208275734\n"
     ]
    }
   ],
   "source": [
    "# load data\n",
    "path = '/kaggle/input/cicy4-data-for-5-fold-cv/'\n",
    "X_train = np.load(path + 'foldx_1_Xtrain.npy')\n",
    "X_valid = np.load(path +'foldx_1_Xval.npy')\n",
    "y_train = np.load(path+'foldx_1_ytrain.npy')\n",
    "y_valid = np.load(path+'foldx_1_yval.npy')\n",
    "\n",
    "#Test set is the original test set from the 72% dataset\n",
    "path2 = '/kaggle/input/calabi-yau-cicy-4-folds/'\n",
    "X_test = np.load(path2+'conf_Xtest.npy')\n",
    "y_test= np.load(path2+'hodge_ytest.npy')\n",
    "\n",
    "print(X_train.shape, X_valid.shape, X_test.shape)\n",
    "print(y_train.shape, y_valid.shape, y_test.shape)\n",
    "print(y_train.shape[0]/905684, y_valid.shape[0]/905684, y_test.shape[0]/905684)"
   ]
  },
  {
   "cell_type": "code",
   "execution_count": 8,
   "id": "68c00100",
   "metadata": {
    "execution": {
     "iopub.execute_input": "2024-05-31T15:37:54.663668Z",
     "iopub.status.busy": "2024-05-31T15:37:54.663330Z",
     "iopub.status.idle": "2024-05-31T15:37:55.130292Z",
     "shell.execute_reply": "2024-05-31T15:37:55.129460Z"
    },
    "papermill": {
     "duration": 0.478072,
     "end_time": "2024-05-31T15:37:55.132576",
     "exception": false,
     "start_time": "2024-05-31T15:37:54.654504",
     "status": "completed"
    },
    "tags": []
   },
   "outputs": [],
   "source": [
    "#Convert data to torch tensor with float32 precision\n",
    "#(needed to be compatible with the floating decision of the network parameters)\n",
    "X_train = torch.from_numpy(X_train.astype(np.float32))\n",
    "y_train = torch.from_numpy(y_train.astype(np.float32))\n",
    "\n",
    "X_valid = torch.from_numpy(X_valid.astype(np.float32))\n",
    "y_valid = torch.from_numpy(y_valid.astype(np.float32))\n",
    "\n",
    "X_test = torch.from_numpy(X_test.astype(np.float32))\n",
    "y_test= torch.from_numpy(y_test.astype(np.float32))"
   ]
  },
  {
   "cell_type": "code",
   "execution_count": 9,
   "id": "a9ca9a6c",
   "metadata": {
    "execution": {
     "iopub.execute_input": "2024-05-31T15:37:55.149089Z",
     "iopub.status.busy": "2024-05-31T15:37:55.148798Z",
     "iopub.status.idle": "2024-05-31T15:37:55.154823Z",
     "shell.execute_reply": "2024-05-31T15:37:55.153966Z"
    },
    "papermill": {
     "duration": 0.016409,
     "end_time": "2024-05-31T15:37:55.156754",
     "exception": false,
     "start_time": "2024-05-31T15:37:55.140345",
     "status": "completed"
    },
    "tags": []
   },
   "outputs": [],
   "source": [
    "class CICY4Dataset(torch.utils.data.Dataset):\n",
    "    def __init__(self, X, y):\n",
    "        self.X = X\n",
    "        self.y = y\n",
    "    def __len__(self):\n",
    "        return len(self.X)\n",
    "    def __getitem__(self, idx):\n",
    "        X0 = self.X[idx]\n",
    "        y0 = self.y[idx]\n",
    "        return X0, y0\n",
    "\n",
    "train_set = CICY4Dataset(X_train, y_train)\n",
    "val_set = CICY4Dataset(X_valid, y_valid)\n",
    "test_set = CICY4Dataset(X_test, y_test)"
   ]
  },
  {
   "cell_type": "code",
   "execution_count": 10,
   "id": "c6dbf985",
   "metadata": {
    "execution": {
     "iopub.execute_input": "2024-05-31T15:37:55.173119Z",
     "iopub.status.busy": "2024-05-31T15:37:55.172826Z",
     "iopub.status.idle": "2024-05-31T15:37:55.178046Z",
     "shell.execute_reply": "2024-05-31T15:37:55.177194Z"
    },
    "papermill": {
     "duration": 0.015642,
     "end_time": "2024-05-31T15:37:55.180014",
     "exception": false,
     "start_time": "2024-05-31T15:37:55.164372",
     "status": "completed"
    },
    "tags": []
   },
   "outputs": [],
   "source": [
    "from torch.utils.data import DataLoader\n",
    "\n",
    "train_loader = DataLoader(train_set, batch_size=128, shuffle=True)\n",
    "val_loader = DataLoader(val_set, batch_size=128, shuffle=True)\n",
    "test_loader = DataLoader(test_set, batch_size=128, shuffle=False)"
   ]
  },
  {
   "cell_type": "markdown",
   "id": "5fbcf4e6",
   "metadata": {
    "papermill": {
     "duration": 0.007265,
     "end_time": "2024-05-31T15:37:55.194873",
     "exception": false,
     "start_time": "2024-05-31T15:37:55.187608",
     "status": "completed"
    },
    "tags": []
   },
   "source": [
    "# Utility functions"
   ]
  },
  {
   "cell_type": "code",
   "execution_count": 11,
   "id": "f094902d",
   "metadata": {
    "execution": {
     "iopub.execute_input": "2024-05-31T15:37:55.212102Z",
     "iopub.status.busy": "2024-05-31T15:37:55.211168Z",
     "iopub.status.idle": "2024-05-31T15:37:55.217665Z",
     "shell.execute_reply": "2024-05-31T15:37:55.216817Z"
    },
    "papermill": {
     "duration": 0.017217,
     "end_time": "2024-05-31T15:37:55.219529",
     "exception": false,
     "start_time": "2024-05-31T15:37:55.202312",
     "status": "completed"
    },
    "tags": []
   },
   "outputs": [],
   "source": [
    "def train_one_epoch(model, criterion, optimizer, train_loader):\n",
    "    model.train()\n",
    "    train_loss = []\n",
    "    for inputs, target in train_loader:\n",
    "        inputs, target = inputs.to(device), target.to(device)\n",
    "        optimizer.zero_grad()\n",
    "        out = model(inputs)\n",
    "        loss = criterion(out, target)\n",
    "        loss.backward()\n",
    "        optimizer.step()\n",
    "        train_loss.append(loss.item())\n",
    "    #average the train_loss list in for all batches in the train_gen\n",
    "    train_loss = np.mean(train_loss)\n",
    "    return train_loss"
   ]
  },
  {
   "cell_type": "code",
   "execution_count": 12,
   "id": "f476b467",
   "metadata": {
    "execution": {
     "iopub.execute_input": "2024-05-31T15:37:55.235791Z",
     "iopub.status.busy": "2024-05-31T15:37:55.235513Z",
     "iopub.status.idle": "2024-05-31T15:37:55.241088Z",
     "shell.execute_reply": "2024-05-31T15:37:55.240201Z"
    },
    "papermill": {
     "duration": 0.015833,
     "end_time": "2024-05-31T15:37:55.243022",
     "exception": false,
     "start_time": "2024-05-31T15:37:55.227189",
     "status": "completed"
    },
    "tags": []
   },
   "outputs": [],
   "source": [
    "def validate_one_epoch(model, criterion, optimizer, val_loader):\n",
    "    model.eval()\n",
    "    test_loss = []\n",
    "    for inputs, target in val_loader:\n",
    "        inputs, target = inputs.to(device), target.to(device)\n",
    "        out = model(inputs)\n",
    "        loss = criterion(out, target)\n",
    "        test_loss.append(loss.item())\n",
    "    #average the test_loss list in for all batches in the test_gen\n",
    "    test_loss = np.mean(test_loss)\n",
    "    return test_loss"
   ]
  },
  {
   "cell_type": "code",
   "execution_count": 13,
   "id": "7dea02a3",
   "metadata": {
    "execution": {
     "iopub.execute_input": "2024-05-31T15:37:55.259414Z",
     "iopub.status.busy": "2024-05-31T15:37:55.259066Z",
     "iopub.status.idle": "2024-05-31T15:37:55.270225Z",
     "shell.execute_reply": "2024-05-31T15:37:55.269296Z"
    },
    "papermill": {
     "duration": 0.021636,
     "end_time": "2024-05-31T15:37:55.272180",
     "exception": false,
     "start_time": "2024-05-31T15:37:55.250544",
     "status": "completed"
    },
    "tags": []
   },
   "outputs": [],
   "source": [
    "def batch_gd_scheduler(model, new_model_name, criterion, optimizer, train_loader, val_loader, scheduler,\n",
    "                         epochs, device, batch_size=128):\n",
    "    train_losses = np.zeros(epochs)\n",
    "    test_losses = np.zeros(epochs)\n",
    "    patience = 0\n",
    "    best_loss = 1000\n",
    "    max_patience = 20\n",
    "    for i in range(epochs):\n",
    "        t0 = datetime.now()\n",
    "        train_loss = train_one_epoch(model, criterion, optimizer,train_loader)\n",
    "        test_loss = validate_one_epoch(model, criterion, optimizer,val_loader)\n",
    "        #Early stopping based on test loss\n",
    "        if i == 0:\n",
    "            best_loss = test_loss\n",
    "            torch.save(model, f'/kaggle/working/{new_model_name}.pt')\n",
    "            #torch.save(model, path+f'{new_model_name}.pt')\n",
    "            print(f'Model saved as {new_model_name} at epoch {i}')\n",
    "        else:\n",
    "            if test_loss < best_loss:\n",
    "                best_loss = test_loss\n",
    "                torch.save(model, f'/kaggle/working/{new_model_name}.pt')\n",
    "                #torch.save(model, path+f'{new_model_name}.pt')\n",
    "                print(f'Model overwritten at epoch {i}, new best val loss {best_loss}')\n",
    "                patience = 0\n",
    "            else:\n",
    "                patience = patience +1\n",
    "                #print(f'No improvement, current patience level is {patience} at epoch {i}')\n",
    "        if patience > max_patience:\n",
    "            print(f'Max patience reached, training is terminated at epoch {i}')\n",
    "            break\n",
    "        #Apply scheduler after the train+validate parts\n",
    "        before_lr = optimizer.param_groups[0][\"lr\"]\n",
    "        scheduler.step(test_loss)\n",
    "        after_lr = optimizer.param_groups[0][\"lr\"]\n",
    "        train_losses[i] = train_loss\n",
    "        test_losses[i] = test_loss\n",
    "        #write the losses into a csv file\n",
    "        loss_dict = {'train_loss': train_losses, 'val_loss': test_losses}\n",
    "        dd = pd.DataFrame(loss_dict)\n",
    "        dd.to_csv('loss_dict_lstm_448_fold1.csv', index = False)\n",
    "        dt = datetime.now()-t0\n",
    "        if i%10==0:\n",
    "            print(f'Epoch: {i+1}/{epochs}, train loss: {train_loss: .3f}, val_loss: {test_loss: .3f}, duration: {dt}, learning rate: {before_lr, after_lr}')\n",
    "    return train_losses, test_losses\n"
   ]
  },
  {
   "cell_type": "code",
   "execution_count": 14,
   "id": "df9f74ea",
   "metadata": {
    "execution": {
     "iopub.execute_input": "2024-05-31T15:37:55.289228Z",
     "iopub.status.busy": "2024-05-31T15:37:55.288862Z",
     "iopub.status.idle": "2024-05-31T15:37:55.295980Z",
     "shell.execute_reply": "2024-05-31T15:37:55.295105Z"
    },
    "papermill": {
     "duration": 0.018029,
     "end_time": "2024-05-31T15:37:55.297936",
     "exception": false,
     "start_time": "2024-05-31T15:37:55.279907",
     "status": "completed"
    },
    "tags": []
   },
   "outputs": [],
   "source": [
    "def train_from_scratch_or_load(load_model_weight,new_model_name, epochs):\n",
    "    if load_model_weight==None:\n",
    "        #criterion = nn.MSELoss()\n",
    "        criterion = nn.HuberLoss()\n",
    "        optimizer = torch.optim.AdamW(model.parameters(), lr=0.01)\n",
    "        scheduler = lr_scheduler.ReduceLROnPlateau(optimizer, 'min', factor=0.1, min_lr = 1e-8)\n",
    "        train_losses, test_losses=batch_gd_scheduler(model, new_model_name, criterion,\n",
    "                                                     optimizer,train_loader, val_loader,\n",
    "                                                      scheduler, epochs,\n",
    "                                                       device = device)\n",
    "        return train_losses, test_losses\n",
    "    else:\n",
    "        if torch.cuda.is_available():\n",
    "            trained_model = torch.load(load_model_weight)\n",
    "        else:\n",
    "            trained_model = torch.load(load_model_weight, map_location=torch.device('cpu'))\n",
    "        return trained_model"
   ]
  },
  {
   "cell_type": "code",
   "execution_count": 15,
   "id": "dad4240f",
   "metadata": {
    "execution": {
     "iopub.execute_input": "2024-05-31T15:37:55.314293Z",
     "iopub.status.busy": "2024-05-31T15:37:55.314015Z",
     "iopub.status.idle": "2024-05-31T15:37:55.320039Z",
     "shell.execute_reply": "2024-05-31T15:37:55.319290Z"
    },
    "papermill": {
     "duration": 0.016425,
     "end_time": "2024-05-31T15:37:55.321958",
     "exception": false,
     "start_time": "2024-05-31T15:37:55.305533",
     "status": "completed"
    },
    "tags": []
   },
   "outputs": [],
   "source": [
    "def load_and_retrain(load_model_weight, new_model_name, epochs):\n",
    "    trained_model = torch.load(load_model_weight)\n",
    "    print('Trained model loaded')\n",
    "    criterion = nn.HuberLoss()\n",
    "    optimizer = torch.optim.AdamW(trained_model.parameters(),lr=0.01)\n",
    "    scheduler = lr_scheduler.ReduceLROnPlateau(optimizer, 'min', factor=0.1, min_lr = 1e-7)\n",
    "    trained_model.train()\n",
    "    print('Begin retraining')\n",
    "    train_losses, test_losses=batch_gd_scheduler(trained_model,new_model_name, criterion, optimizer,\n",
    "                                                 train_loader, val_loader,\n",
    "                                                 scheduler, epochs,\n",
    "                                                 device = device)\n",
    "    return trained_model, train_losses, test_losses"
   ]
  },
  {
   "cell_type": "code",
   "execution_count": 16,
   "id": "1a10e159",
   "metadata": {
    "execution": {
     "iopub.execute_input": "2024-05-31T15:37:55.338548Z",
     "iopub.status.busy": "2024-05-31T15:37:55.338229Z",
     "iopub.status.idle": "2024-05-31T15:37:55.343059Z",
     "shell.execute_reply": "2024-05-31T15:37:55.342177Z"
    },
    "papermill": {
     "duration": 0.015502,
     "end_time": "2024-05-31T15:37:55.345087",
     "exception": false,
     "start_time": "2024-05-31T15:37:55.329585",
     "status": "completed"
    },
    "tags": []
   },
   "outputs": [],
   "source": [
    "def plot_losses(train_losses, test_losses):\n",
    "    # Plot the train loss and test loss per iteration\n",
    "    plt.plot(train_losses, label='train loss')\n",
    "    plt.plot(test_losses, label='val loss')\n",
    "    plt.legend()\n",
    "    plt.show()"
   ]
  },
  {
   "cell_type": "code",
   "execution_count": 17,
   "id": "38ca4a3c",
   "metadata": {
    "execution": {
     "iopub.execute_input": "2024-05-31T15:37:55.362336Z",
     "iopub.status.busy": "2024-05-31T15:37:55.361940Z",
     "iopub.status.idle": "2024-05-31T15:37:55.373332Z",
     "shell.execute_reply": "2024-05-31T15:37:55.372429Z"
    },
    "papermill": {
     "duration": 0.022462,
     "end_time": "2024-05-31T15:37:55.375290",
     "exception": false,
     "start_time": "2024-05-31T15:37:55.352828",
     "status": "completed"
    },
    "tags": []
   },
   "outputs": [],
   "source": [
    "################## GET PREDICTIONS + ACCURACY #####################\n",
    "def get_pred_n_acc(models, device, dataloader, num_iter):\n",
    "    i = 0\n",
    "    ypreds =[]\n",
    "    targets = []\n",
    "    #The last batch might not have size 128\n",
    "    while i< num_iter:\n",
    "        for data, target in dataloader:\n",
    "            #this empty list is to hold all models' preds\n",
    "            ypred = []\n",
    "            data= data.to(device)\n",
    "            data = data.to(torch.float32)\n",
    "            target = target.to(torch.float32)\n",
    "            #append the 'i^th' target\n",
    "            targets.append(target)\n",
    "            for model in models:\n",
    "                model.eval()\n",
    "                yp = model(data)\n",
    "                yp = yp.detach().cpu().numpy()\n",
    "                ypred.append(yp)\n",
    "            #take the mean of all models' predictions\n",
    "            ypred = np.array(ypred).mean(axis = 0)\n",
    "            ypred = np.round(ypred)\n",
    "            i+=1\n",
    "            #append ypred, targets inside the 'i' loop\n",
    "            # append the 'i^th' mean prediction\n",
    "            ypreds.append(ypred)\n",
    "            if i == num_iter:\n",
    "                break\n",
    "     #Do not convert ypreds, targets to np.array at this point,\n",
    "    #since the last batch has a different size, causing an error !\n",
    "    #CALCULATING ACCURACY\n",
    "    yp =  np.concatenate([ypreds[j] for j in range(len(ypreds))], axis = 0)\n",
    "    tgs =  np.concatenate([targets[j] for j in range(len(targets))], axis = 0)\n",
    "    h11_acc = ((yp[:,0] == tgs[:,0]).sum())/len(yp)\n",
    "    h21_acc = ((yp[:,1] == tgs[:,1]).sum())/len(yp)\n",
    "    h31_acc = ((yp[:,2] == tgs[:,2]).sum())/len(yp)\n",
    "    h22_acc = ((yp[:,3] == tgs[:,3]).sum())/len(yp)\n",
    "    acc = [h11_acc*100,h21_acc*100,h31_acc*100,h22_acc*100 ]\n",
    "    return  yp, tgs, acc\n"
   ]
  },
  {
   "cell_type": "markdown",
   "id": "4b15f3da",
   "metadata": {
    "papermill": {
     "duration": 0.007371,
     "end_time": "2024-05-31T15:37:55.390284",
     "exception": false,
     "start_time": "2024-05-31T15:37:55.382913",
     "status": "completed"
    },
    "tags": []
   },
   "source": [
    "# Train loop"
   ]
  },
  {
   "cell_type": "code",
   "execution_count": 18,
   "id": "ee3a79b4",
   "metadata": {
    "execution": {
     "iopub.execute_input": "2024-05-31T15:37:55.406914Z",
     "iopub.status.busy": "2024-05-31T15:37:55.406611Z",
     "iopub.status.idle": "2024-05-31T18:41:11.221591Z",
     "shell.execute_reply": "2024-05-31T18:41:11.220496Z"
    },
    "papermill": {
     "duration": 10995.84123,
     "end_time": "2024-05-31T18:41:11.238942",
     "exception": false,
     "start_time": "2024-05-31T15:37:55.397712",
     "status": "completed"
    },
    "tags": []
   },
   "outputs": [
    {
     "name": "stdout",
     "output_type": "stream",
     "text": [
      "Model saved as LSTM-448-d80-fold1 at epoch 0\n",
      "Epoch: 1/550, train loss:  9.968, val_loss:  10.181, duration: 0:00:49.420500, learning rate: (0.01, 0.01)\n",
      "Model overwritten at epoch 1, new best val loss 9.664558788999877\n",
      "Model overwritten at epoch 2, new best val loss 9.64710705362372\n",
      "Model overwritten at epoch 3, new best val loss 8.433816064698235\n",
      "Model overwritten at epoch 5, new best val loss 4.891308609195652\n",
      "Model overwritten at epoch 6, new best val loss 3.1527474090680547\n",
      "Model overwritten at epoch 7, new best val loss 2.8080500352729874\n",
      "Model overwritten at epoch 8, new best val loss 2.4128898051809866\n",
      "Model overwritten at epoch 9, new best val loss 2.3379751886820648\n",
      "Model overwritten at epoch 10, new best val loss 2.0503704932971223\n",
      "Epoch: 11/550, train loss:  2.256, val_loss:  2.050, duration: 0:00:48.517928, learning rate: (0.01, 0.01)\n",
      "Model overwritten at epoch 12, new best val loss 2.0260608618173155\n",
      "Model overwritten at epoch 16, new best val loss 1.8337816865909236\n",
      "Model overwritten at epoch 18, new best val loss 1.7579264553479146\n",
      "Model overwritten at epoch 19, new best val loss 1.659629199637424\n",
      "Epoch: 21/550, train loss:  1.714, val_loss:  1.898, duration: 0:00:48.647003, learning rate: (0.01, 0.01)\n",
      "Model overwritten at epoch 23, new best val loss 1.635997584038673\n",
      "Model overwritten at epoch 28, new best val loss 1.4483455746760963\n",
      "Epoch: 31/550, train loss:  1.522, val_loss:  2.325, duration: 0:00:48.763775, learning rate: (0.01, 0.01)\n",
      "Model overwritten at epoch 33, new best val loss 1.3971032056257142\n",
      "Epoch: 41/550, train loss:  1.435, val_loss:  1.528, duration: 0:00:48.567747, learning rate: (0.01, 0.01)\n",
      "Model overwritten at epoch 44, new best val loss 1.395917144425654\n",
      "Model overwritten at epoch 45, new best val loss 1.3767968434100644\n",
      "Epoch: 51/550, train loss:  1.503, val_loss:  1.641, duration: 0:00:48.808816, learning rate: (0.01, 0.01)\n",
      "Model overwritten at epoch 54, new best val loss 1.285126333255633\n",
      "Epoch: 61/550, train loss:  1.389, val_loss:  1.439, duration: 0:00:48.613364, learning rate: (0.01, 0.01)\n",
      "Model overwritten at epoch 66, new best val loss 0.6533709472770304\n",
      "Model overwritten at epoch 67, new best val loss 0.599837910045277\n",
      "Model overwritten at epoch 68, new best val loss 0.5055469417351068\n",
      "Model overwritten at epoch 69, new best val loss 0.4751196088169069\n",
      "Model overwritten at epoch 70, new best val loss 0.4334376634798109\n",
      "Epoch: 71/550, train loss:  0.353, val_loss:  0.433, duration: 0:00:49.036257, learning rate: (0.001, 0.001)\n",
      "Model overwritten at epoch 71, new best val loss 0.42259622063398994\n",
      "Model overwritten at epoch 72, new best val loss 0.41322418565994223\n",
      "Model overwritten at epoch 73, new best val loss 0.39868921901626286\n",
      "Model overwritten at epoch 74, new best val loss 0.36441697937823564\n",
      "Model overwritten at epoch 76, new best val loss 0.3420994963237172\n",
      "Model overwritten at epoch 78, new best val loss 0.3346135949441425\n",
      "Epoch: 81/550, train loss:  0.212, val_loss:  0.342, duration: 0:00:49.270764, learning rate: (0.001, 0.001)\n",
      "Model overwritten at epoch 81, new best val loss 0.3316579329052123\n",
      "Model overwritten at epoch 82, new best val loss 0.3126588020694014\n",
      "Model overwritten at epoch 84, new best val loss 0.3079406389175846\n",
      "Model overwritten at epoch 90, new best val loss 0.2920249515991503\n",
      "Epoch: 91/550, train loss:  0.195, val_loss:  0.292, duration: 0:00:48.621320, learning rate: (0.001, 0.001)\n",
      "Model overwritten at epoch 95, new best val loss 0.27479314717274267\n",
      "Epoch: 101/550, train loss:  0.192, val_loss:  0.300, duration: 0:00:49.835317, learning rate: (0.001, 0.001)\n",
      "Model overwritten at epoch 102, new best val loss 0.2704780806326172\n",
      "Model overwritten at epoch 107, new best val loss 0.26347259528086653\n",
      "Epoch: 111/550, train loss:  0.189, val_loss:  0.328, duration: 0:00:49.375778, learning rate: (0.001, 0.001)\n",
      "Model overwritten at epoch 111, new best val loss 0.26119882104439957\n",
      "Model overwritten at epoch 113, new best val loss 0.2591164495930773\n",
      "Model overwritten at epoch 120, new best val loss 0.24407290808678936\n",
      "Epoch: 121/550, train loss:  0.178, val_loss:  0.244, duration: 0:00:49.038112, learning rate: (0.001, 0.001)\n",
      "Epoch: 131/550, train loss:  0.170, val_loss:  0.278, duration: 0:00:49.321271, learning rate: (0.001, 0.001)\n",
      "Model overwritten at epoch 131, new best val loss 0.23704794540488394\n",
      "Model overwritten at epoch 132, new best val loss 0.23150282132867575\n",
      "Model overwritten at epoch 140, new best val loss 0.22136630521658135\n",
      "Epoch: 141/550, train loss:  0.167, val_loss:  0.221, duration: 0:00:49.425703, learning rate: (0.001, 0.001)\n",
      "Model overwritten at epoch 147, new best val loss 0.2105712379244241\n",
      "Epoch: 151/550, train loss:  0.170, val_loss:  0.232, duration: 0:00:48.476305, learning rate: (0.001, 0.001)\n",
      "Model overwritten at epoch 159, new best val loss 0.12589738546933943\n",
      "Model overwritten at epoch 160, new best val loss 0.11523962176395851\n",
      "Epoch: 161/550, train loss:  0.050, val_loss:  0.115, duration: 0:00:49.444990, learning rate: (0.0001, 0.0001)\n",
      "Model overwritten at epoch 161, new best val loss 0.10679204860457202\n",
      "Model overwritten at epoch 162, new best val loss 0.10421495521827441\n",
      "Model overwritten at epoch 163, new best val loss 0.10032212129561437\n",
      "Model overwritten at epoch 164, new best val loss 0.09928599741253985\n",
      "Model overwritten at epoch 165, new best val loss 0.09596620560751115\n",
      "Model overwritten at epoch 167, new best val loss 0.09392305970067012\n",
      "Model overwritten at epoch 168, new best val loss 0.09350438855936963\n",
      "Model overwritten at epoch 169, new best val loss 0.09325901643329507\n",
      "Model overwritten at epoch 170, new best val loss 0.09223291949128168\n",
      "Epoch: 171/550, train loss:  0.017, val_loss:  0.092, duration: 0:00:49.644152, learning rate: (0.0001, 0.0001)\n",
      "Model overwritten at epoch 171, new best val loss 0.09142953628757994\n",
      "Model overwritten at epoch 172, new best val loss 0.09068600089179922\n",
      "Model overwritten at epoch 173, new best val loss 0.09037583943255845\n",
      "Model overwritten at epoch 176, new best val loss 0.08967571294910068\n",
      "Model overwritten at epoch 180, new best val loss 0.08863245539321167\n",
      "Epoch: 181/550, train loss:  0.013, val_loss:  0.089, duration: 0:00:49.640043, learning rate: (0.0001, 0.0001)\n",
      "Model overwritten at epoch 182, new best val loss 0.08834303934406572\n",
      "Model overwritten at epoch 184, new best val loss 0.08747908931689144\n",
      "Epoch: 191/550, train loss:  0.012, val_loss:  0.089, duration: 0:00:48.684962, learning rate: (0.0001, 0.0001)\n",
      "Model overwritten at epoch 196, new best val loss 0.08551864211249435\n",
      "Model overwritten at epoch 197, new best val loss 0.0853570267551522\n",
      "Model overwritten at epoch 198, new best val loss 0.08521113059724314\n",
      "Model overwritten at epoch 199, new best val loss 0.085185087794752\n",
      "Model overwritten at epoch 200, new best val loss 0.08498279524462368\n",
      "Epoch: 201/550, train loss:  0.005, val_loss:  0.085, duration: 0:00:49.608713, learning rate: (1e-05, 1e-05)\n",
      "Model overwritten at epoch 201, new best val loss 0.08495823827030471\n",
      "Model overwritten at epoch 202, new best val loss 0.08484275536554137\n",
      "Epoch: 211/550, train loss:  0.004, val_loss:  0.085, duration: 0:00:49.558083, learning rate: (1e-05, 1e-05)\n",
      "Epoch: 221/550, train loss:  0.003, val_loss:  0.085, duration: 0:00:50.260862, learning rate: (1.0000000000000002e-06, 1.0000000000000002e-06)\n",
      "Max patience reached, training is terminated at epoch 223\n"
     ]
    }
   ],
   "source": [
    "load_model_weight = None\n",
    "epochs = 550\n",
    "new_model_name = 'LSTM-448-d80-fold1'\n",
    "if load_model_weight is None:\n",
    "    train_losses, test_losses=train_from_scratch_or_load(load_model_weight,new_model_name,  epochs)\n",
    "else:\n",
    "    model, train_losses, test_losses=load_and_retrain(load_model_weight, new_model_name, epochs)"
   ]
  },
  {
   "cell_type": "code",
   "execution_count": 19,
   "id": "4d5d569b",
   "metadata": {
    "execution": {
     "iopub.execute_input": "2024-05-31T18:41:11.270912Z",
     "iopub.status.busy": "2024-05-31T18:41:11.270250Z",
     "iopub.status.idle": "2024-05-31T18:41:11.556574Z",
     "shell.execute_reply": "2024-05-31T18:41:11.555481Z"
    },
    "papermill": {
     "duration": 0.30469,
     "end_time": "2024-05-31T18:41:11.558706",
     "exception": false,
     "start_time": "2024-05-31T18:41:11.254016",
     "status": "completed"
    },
    "tags": []
   },
   "outputs": [
    {
     "data": {
      "image/png": "[encoded data removed]",
      "text/plain": [
       "<Figure size 640x480 with 1 Axes>"
      ]
     },
     "metadata": {},
     "output_type": "display_data"
    }
   ],
   "source": [
    "plot_losses(train_losses, test_losses)"
   ]
  },
  {
   "cell_type": "markdown",
   "id": "84b4de2f",
   "metadata": {
    "papermill": {
     "duration": 0.015244,
     "end_time": "2024-05-31T18:41:11.589354",
     "exception": false,
     "start_time": "2024-05-31T18:41:11.574110",
     "status": "completed"
    },
    "tags": []
   },
   "source": [
    "# Accuracies"
   ]
  },
  {
   "cell_type": "code",
   "execution_count": 20,
   "id": "93bebe48",
   "metadata": {
    "execution": {
     "iopub.execute_input": "2024-05-31T18:41:11.621623Z",
     "iopub.status.busy": "2024-05-31T18:41:11.620883Z",
     "iopub.status.idle": "2024-05-31T18:41:36.626728Z",
     "shell.execute_reply": "2024-05-31T18:41:36.625757Z"
    },
    "papermill": {
     "duration": 25.024505,
     "end_time": "2024-05-31T18:41:36.628944",
     "exception": false,
     "start_time": "2024-05-31T18:41:11.604439",
     "status": "completed"
    },
    "tags": []
   },
   "outputs": [
    {
     "name": "stdout",
     "output_type": "stream",
     "text": [
      "Train data, target shapes: ((579637, 4), (579637, 4)),\n",
      " train accuracies [99.9913739116033, 99.90252520111726, 99.96290781989417, 99.88372032841244]\n",
      "Validation data, target shapes: ((144910, 4), (144910, 4)),\n",
      " validation accuracies [99.78400386446759, 98.2941135877441, 95.31364295079705, 82.10061417431508]\n"
     ]
    }
   ],
   "source": [
    "#Train accuracy\n",
    "yt, tgt, acct = get_pred_n_acc([model], device, train_loader, num_iter = len(train_loader))\n",
    "#validation accuracy\n",
    "yv, tgv, accv = get_pred_n_acc([model], device, val_loader, num_iter = len(val_loader))\n",
    "print(f'Train data, target shapes: {yt.shape, tgt.shape},\\n train accuracies {acct}')\n",
    "print(f'Validation data, target shapes: {yv.shape, tgv.shape},\\n validation accuracies {accv}')\n"
   ]
  },
  {
   "cell_type": "code",
   "execution_count": 21,
   "id": "303cbde1",
   "metadata": {
    "execution": {
     "iopub.execute_input": "2024-05-31T18:41:36.659837Z",
     "iopub.status.busy": "2024-05-31T18:41:36.659463Z",
     "iopub.status.idle": "2024-05-31T18:41:42.721158Z",
     "shell.execute_reply": "2024-05-31T18:41:42.720232Z"
    },
    "papermill": {
     "duration": 6.079814,
     "end_time": "2024-05-31T18:41:42.723555",
     "exception": false,
     "start_time": "2024-05-31T18:41:36.643741",
     "status": "completed"
    },
    "tags": []
   },
   "outputs": [
    {
     "name": "stdout",
     "output_type": "stream",
     "text": [
      "Test data, target shapes: ((181137, 4), (181137, 4)),\n",
      " test accuracies [99.81064056487631, 98.30459817707039, 95.35268884877193, 82.15052694921523]\n"
     ]
    }
   ],
   "source": [
    "#Test accuracy\n",
    "yts, tgts, accts = get_pred_n_acc([model], device, test_loader, num_iter = len(test_loader))\n",
    "print(f'Test data, target shapes: {yts.shape, tgts.shape},\\n test accuracies {accts}')\n"
   ]
  }
 ],
 "metadata": {
  "kaggle": {
   "accelerator": "gpu",
   "dataSources": [
    {
     "datasetId": 4575883,
     "sourceId": 8488978,
     "sourceType": "datasetVersion"
    },
    {
     "sourceId": 180758667,
     "sourceType": "kernelVersion"
    }
   ],
   "dockerImageVersionId": 30665,
   "isGpuEnabled": true,
   "isInternetEnabled": true,
   "language": "python",
   "sourceType": "notebook"
  },
  "kernelspec": {
   "display_name": "Python 3",
   "language": "python",
   "name": "python3"
  },
  "language_info": {
   "codemirror_mode": {
    "name": "ipython",
    "version": 3
   },
   "file_extension": ".py",
   "mimetype": "text/x-python",
   "name": "python",
   "nbconvert_exporter": "python",
   "pygments_lexer": "ipython3",
   "version": "3.10.13"
  },
  "papermill": {
   "default_parameters": {},
   "duration": 11054.863526,
   "end_time": "2024-05-31T18:41:45.365750",
   "environment_variables": {},
   "exception": null,
   "input_path": "__notebook__.ipynb",
   "output_path": "__notebook__.ipynb",
   "parameters": {},
   "start_time": "2024-05-31T15:37:30.502224",
   "version": "2.5.0"
  }
 },
 "nbformat": 4,
 "nbformat_minor": 5
}
