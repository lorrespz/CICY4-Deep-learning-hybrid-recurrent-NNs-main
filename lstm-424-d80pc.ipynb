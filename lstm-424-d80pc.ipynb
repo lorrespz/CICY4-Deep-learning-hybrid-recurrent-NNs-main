{
 "cells": [
  {
   "cell_type": "markdown",
   "id": "b16dee4e",
   "metadata": {
    "papermill": {
     "duration": 0.007628,
     "end_time": "2024-05-21T17:31:54.564540",
     "exception": false,
     "start_time": "2024-05-21T17:31:54.556912",
     "status": "completed"
    },
    "tags": []
   },
   "source": [
    "# CICY4: LSTM-based network (LSTM-424)"
   ]
  },
  {
   "cell_type": "code",
   "execution_count": 1,
   "id": "f6018675",
   "metadata": {
    "_cell_guid": "b1076dfc-b9ad-4769-8c92-a6c4dae69d19",
    "_uuid": "8f2839f25d086af736a60e9eeb907d3b93b6e0e5",
    "execution": {
     "iopub.execute_input": "2024-05-21T17:31:54.579918Z",
     "iopub.status.busy": "2024-05-21T17:31:54.579635Z",
     "iopub.status.idle": "2024-05-21T17:31:59.950990Z",
     "shell.execute_reply": "2024-05-21T17:31:59.949954Z"
    },
    "papermill": {
     "duration": 5.381859,
     "end_time": "2024-05-21T17:31:59.953503",
     "exception": false,
     "start_time": "2024-05-21T17:31:54.571644",
     "status": "completed"
    },
    "tags": []
   },
   "outputs": [],
   "source": [
    "import numpy as np\n",
    "import random\n",
    "import pandas as pd\n",
    "import os as os\n",
    "import matplotlib.pyplot as plt\n",
    "import seaborn as sns\n",
    "from datetime import datetime\n",
    "\n",
    "import torch\n",
    "import torch.nn as nn\n",
    "import torch.nn.functional as F\n",
    "import torch.optim.lr_scheduler as lr_scheduler"
   ]
  },
  {
   "cell_type": "code",
   "execution_count": 2,
   "id": "b3911b42",
   "metadata": {
    "execution": {
     "iopub.execute_input": "2024-05-21T17:31:59.971539Z",
     "iopub.status.busy": "2024-05-21T17:31:59.971052Z",
     "iopub.status.idle": "2024-05-21T17:32:00.028248Z",
     "shell.execute_reply": "2024-05-21T17:32:00.027369Z"
    },
    "papermill": {
     "duration": 0.068231,
     "end_time": "2024-05-21T17:32:00.030212",
     "exception": false,
     "start_time": "2024-05-21T17:31:59.961981",
     "status": "completed"
    },
    "tags": []
   },
   "outputs": [
    {
     "name": "stdout",
     "output_type": "stream",
     "text": [
      "cuda:0\n"
     ]
    }
   ],
   "source": [
    "device = torch.device(\"cuda:0\" if torch.cuda.is_available() else \"cpu\")\n",
    "print(device)"
   ]
  },
  {
   "cell_type": "code",
   "execution_count": 3,
   "id": "c755c1a4",
   "metadata": {
    "execution": {
     "iopub.execute_input": "2024-05-21T17:32:00.046248Z",
     "iopub.status.busy": "2024-05-21T17:32:00.045734Z",
     "iopub.status.idle": "2024-05-21T17:32:00.053722Z",
     "shell.execute_reply": "2024-05-21T17:32:00.053053Z"
    },
    "papermill": {
     "duration": 0.018017,
     "end_time": "2024-05-21T17:32:00.055661",
     "exception": false,
     "start_time": "2024-05-21T17:32:00.037644",
     "status": "completed"
    },
    "tags": []
   },
   "outputs": [],
   "source": [
    "seed = 42\n",
    "\n",
    "def seed_everything(seed):\n",
    "    random.seed(seed)\n",
    "    os.environ['PYTHONHASHSEED'] = str(seed)\n",
    "    np.random.seed(seed)\n",
    "    torch.manual_seed(seed)\n",
    "    torch.cuda.manual_seed(seed)\n",
    "    torch.cuda.manual_seed_all(seed)\n",
    "    torch.backends.cudnn.deterministic = True\n",
    "\n",
    "seed_everything(seed)"
   ]
  },
  {
   "cell_type": "markdown",
   "id": "5b31686e",
   "metadata": {
    "papermill": {
     "duration": 0.006936,
     "end_time": "2024-05-21T17:32:00.069621",
     "exception": false,
     "start_time": "2024-05-21T17:32:00.062685",
     "status": "completed"
    },
    "tags": []
   },
   "source": [
    " # LSTM-based network architecture"
   ]
  },
  {
   "cell_type": "code",
   "execution_count": 4,
   "id": "43eb42c0",
   "metadata": {
    "execution": {
     "iopub.execute_input": "2024-05-21T17:32:00.085108Z",
     "iopub.status.busy": "2024-05-21T17:32:00.084736Z",
     "iopub.status.idle": "2024-05-21T17:32:00.093633Z",
     "shell.execute_reply": "2024-05-21T17:32:00.092795Z"
    },
    "papermill": {
     "duration": 0.01865,
     "end_time": "2024-05-21T17:32:00.095574",
     "exception": false,
     "start_time": "2024-05-21T17:32:00.076924",
     "status": "completed"
    },
    "tags": []
   },
   "outputs": [],
   "source": [
    "class LSTM_block(nn.Module):\n",
    "    def __init__(self, n_inputs, n_hidden, n_rnnlayers, n_outputs):\n",
    "        super(LSTM_block,self).__init__()\n",
    "        self.D = n_inputs\n",
    "        self.M = n_hidden\n",
    "        self.K = n_outputs\n",
    "        self.L = n_rnnlayers\n",
    "        self.lstm = nn.LSTM(input_size = self.D,\n",
    "                           hidden_size = self.M,\n",
    "                           num_layers = self.L,\n",
    "                           batch_first = True)\n",
    "\n",
    "        self.feat_vec_size = self.M\n",
    "        self.fc1 = nn.Linear(self.feat_vec_size, 1024)\n",
    "        self.fc2 = nn.Linear(1024, 4)\n",
    "    def forward(self, X):\n",
    "        #input X is NxTxD\n",
    "        #initial hidden states\n",
    "        h0 = torch.zeros(self.L, X.size(0), self.M).to(device)\n",
    "        c0 = torch.zeros(self.L, X.size(0), self.M).to(device)\n",
    "        #get LSTM unit output:\n",
    "        #output is NxTxM\n",
    "        out, _ = self.lstm(X, (h0,c0))\n",
    "        #we only want the output y at the final time step\n",
    "        # output is now of shape (N, M)\n",
    "        xx = out[:, -1, :]\n",
    "        xx = self.fc1(xx)\n",
    "        #final output is 4\n",
    "        xx = self.fc2(xx)\n",
    "        return xx"
   ]
  },
  {
   "cell_type": "code",
   "execution_count": 5,
   "id": "09cd38ef",
   "metadata": {
    "execution": {
     "iopub.execute_input": "2024-05-21T17:32:00.110784Z",
     "iopub.status.busy": "2024-05-21T17:32:00.110542Z",
     "iopub.status.idle": "2024-05-21T17:32:00.429496Z",
     "shell.execute_reply": "2024-05-21T17:32:00.428604Z"
    },
    "papermill": {
     "duration": 0.329045,
     "end_time": "2024-05-21T17:32:00.431657",
     "exception": false,
     "start_time": "2024-05-21T17:32:00.102612",
     "status": "completed"
    },
    "tags": []
   },
   "outputs": [
    {
     "data": {
      "text/plain": [
       "LSTM_block(\n",
       "  (lstm): LSTM(20, 424, num_layers=2, batch_first=True)\n",
       "  (fc1): Linear(in_features=424, out_features=1024, bias=True)\n",
       "  (fc2): Linear(in_features=1024, out_features=4, bias=True)\n",
       ")"
      ]
     },
     "execution_count": 5,
     "metadata": {},
     "output_type": "execute_result"
    }
   ],
   "source": [
    "model = LSTM_block(20, 424, 2, 4)\n",
    "model.to(device)"
   ]
  },
  {
   "cell_type": "code",
   "execution_count": 6,
   "id": "4a252460",
   "metadata": {
    "execution": {
     "iopub.execute_input": "2024-05-21T17:32:00.448371Z",
     "iopub.status.busy": "2024-05-21T17:32:00.448067Z",
     "iopub.status.idle": "2024-05-21T17:32:00.453265Z",
     "shell.execute_reply": "2024-05-21T17:32:00.452240Z"
    },
    "papermill": {
     "duration": 0.016035,
     "end_time": "2024-05-21T17:32:00.455206",
     "exception": false,
     "start_time": "2024-05-21T17:32:00.439171",
     "status": "completed"
    },
    "tags": []
   },
   "outputs": [
    {
     "name": "stdout",
     "output_type": "stream",
     "text": [
      "Total numbers of parameters: 2637316\n"
     ]
    }
   ],
   "source": [
    "#count the number of parameters in the model\n",
    "params = [p.numel() for p in model.parameters() if p.requires_grad]\n",
    "print(f'Total numbers of parameters: {sum(params)}')"
   ]
  },
  {
   "cell_type": "markdown",
   "id": "5d105a29",
   "metadata": {
    "papermill": {
     "duration": 0.007155,
     "end_time": "2024-05-21T17:32:00.469793",
     "exception": false,
     "start_time": "2024-05-21T17:32:00.462638",
     "status": "completed"
    },
    "tags": []
   },
   "source": [
    "# Load data & define dataset class"
   ]
  },
  {
   "cell_type": "code",
   "execution_count": 7,
   "id": "60e10c18",
   "metadata": {
    "execution": {
     "iopub.execute_input": "2024-05-21T17:32:00.485763Z",
     "iopub.status.busy": "2024-05-21T17:32:00.485488Z",
     "iopub.status.idle": "2024-05-21T17:32:16.885410Z",
     "shell.execute_reply": "2024-05-21T17:32:16.884496Z"
    },
    "papermill": {
     "duration": 16.410436,
     "end_time": "2024-05-21T17:32:16.887653",
     "exception": false,
     "start_time": "2024-05-21T17:32:00.477217",
     "status": "completed"
    },
    "tags": []
   },
   "outputs": [
    {
     "name": "stdout",
     "output_type": "stream",
     "text": [
      "(724547, 16, 20) (72455, 16, 20) (108682, 16, 20)\n",
      "(724547, 4) (72455, 4) (108682, 4)\n"
     ]
    }
   ],
   "source": [
    "# load data\n",
    "path = '/kaggle/input/cicy4-create-80-data-split/'\n",
    "X_train = np.load(path + 'conf_Xtrain_80.npy')\n",
    "X_test = np.load(path+'conf_Xtest_80.npy')\n",
    "X_valid = np.load('/kaggle/input/calabi-yau-cicy-4-folds/conf_Xvalid.npy')\n",
    "\n",
    "y_train = np.load(path+'hodge_ytrain_80.npy')\n",
    "y_test= np.load(path+'hodge_ytest_80.npy')\n",
    "y_valid = np.load('/kaggle/input/calabi-yau-cicy-4-folds/hodge_yvalid.npy')\n",
    "\n",
    "print(X_train.shape, X_valid.shape, X_test.shape)\n",
    "print(y_train.shape, y_valid.shape, y_test.shape)"
   ]
  },
  {
   "cell_type": "code",
   "execution_count": 8,
   "id": "d12ef18b",
   "metadata": {
    "execution": {
     "iopub.execute_input": "2024-05-21T17:32:16.904201Z",
     "iopub.status.busy": "2024-05-21T17:32:16.903910Z",
     "iopub.status.idle": "2024-05-21T17:32:17.367035Z",
     "shell.execute_reply": "2024-05-21T17:32:17.366003Z"
    },
    "papermill": {
     "duration": 0.474055,
     "end_time": "2024-05-21T17:32:17.369395",
     "exception": false,
     "start_time": "2024-05-21T17:32:16.895340",
     "status": "completed"
    },
    "tags": []
   },
   "outputs": [],
   "source": [
    "#Convert data to torch tensor with float32 precision\n",
    "#(needed to be compatible with the floating decision of the network parameters)\n",
    "X_train = torch.from_numpy(X_train.astype(np.float32))\n",
    "y_train = torch.from_numpy(y_train.astype(np.float32))\n",
    "\n",
    "X_valid = torch.from_numpy(X_valid.astype(np.float32))\n",
    "y_valid = torch.from_numpy(y_valid.astype(np.float32))\n",
    "\n",
    "X_test = torch.from_numpy(X_test.astype(np.float32))\n",
    "y_test= torch.from_numpy(y_test.astype(np.float32))"
   ]
  },
  {
   "cell_type": "code",
   "execution_count": 9,
   "id": "90cb4635",
   "metadata": {
    "execution": {
     "iopub.execute_input": "2024-05-21T17:32:17.386107Z",
     "iopub.status.busy": "2024-05-21T17:32:17.385811Z",
     "iopub.status.idle": "2024-05-21T17:32:17.391966Z",
     "shell.execute_reply": "2024-05-21T17:32:17.391067Z"
    },
    "papermill": {
     "duration": 0.016402,
     "end_time": "2024-05-21T17:32:17.393873",
     "exception": false,
     "start_time": "2024-05-21T17:32:17.377471",
     "status": "completed"
    },
    "tags": []
   },
   "outputs": [],
   "source": [
    "class CICY4Dataset(torch.utils.data.Dataset):\n",
    "    def __init__(self, X, y):\n",
    "        self.X = X\n",
    "        self.y = y\n",
    "    def __len__(self):\n",
    "        return len(self.X)\n",
    "    def __getitem__(self, idx):\n",
    "        X0 = self.X[idx]\n",
    "        y0 = self.y[idx]\n",
    "        return X0, y0\n",
    "\n",
    "train_set = CICY4Dataset(X_train, y_train)\n",
    "val_set = CICY4Dataset(X_valid, y_valid)\n",
    "test_set = CICY4Dataset(X_test, y_test)"
   ]
  },
  {
   "cell_type": "code",
   "execution_count": 10,
   "id": "5a74fcc7",
   "metadata": {
    "execution": {
     "iopub.execute_input": "2024-05-21T17:32:17.410424Z",
     "iopub.status.busy": "2024-05-21T17:32:17.409846Z",
     "iopub.status.idle": "2024-05-21T17:32:17.414885Z",
     "shell.execute_reply": "2024-05-21T17:32:17.414057Z"
    },
    "papermill": {
     "duration": 0.015434,
     "end_time": "2024-05-21T17:32:17.416912",
     "exception": false,
     "start_time": "2024-05-21T17:32:17.401478",
     "status": "completed"
    },
    "tags": []
   },
   "outputs": [],
   "source": [
    "from torch.utils.data import DataLoader\n",
    "\n",
    "train_loader = DataLoader(train_set, batch_size=128, shuffle=True)\n",
    "val_loader = DataLoader(val_set, batch_size=128, shuffle=True)\n",
    "test_loader = DataLoader(test_set, batch_size=128, shuffle=False)"
   ]
  },
  {
   "cell_type": "markdown",
   "id": "f188e172",
   "metadata": {
    "papermill": {
     "duration": 0.007493,
     "end_time": "2024-05-21T17:32:17.431908",
     "exception": false,
     "start_time": "2024-05-21T17:32:17.424415",
     "status": "completed"
    },
    "tags": []
   },
   "source": [
    "# Utility functions"
   ]
  },
  {
   "cell_type": "code",
   "execution_count": 11,
   "id": "43d69b30",
   "metadata": {
    "execution": {
     "iopub.execute_input": "2024-05-21T17:32:17.448250Z",
     "iopub.status.busy": "2024-05-21T17:32:17.447709Z",
     "iopub.status.idle": "2024-05-21T17:32:17.453306Z",
     "shell.execute_reply": "2024-05-21T17:32:17.452511Z"
    },
    "papermill": {
     "duration": 0.015677,
     "end_time": "2024-05-21T17:32:17.455160",
     "exception": false,
     "start_time": "2024-05-21T17:32:17.439483",
     "status": "completed"
    },
    "tags": []
   },
   "outputs": [],
   "source": [
    "def train_one_epoch(model, criterion, optimizer, train_loader):\n",
    "    model.train()\n",
    "    train_loss = []\n",
    "    for inputs, target in train_loader:\n",
    "        inputs, target = inputs.to(device), target.to(device)\n",
    "        optimizer.zero_grad()\n",
    "        out = model(inputs)\n",
    "        loss = criterion(out, target)\n",
    "        loss.backward()\n",
    "        optimizer.step()\n",
    "        train_loss.append(loss.item())\n",
    "    #average the train_loss list in for all batches in the train_gen\n",
    "    train_loss = np.mean(train_loss)\n",
    "    return train_loss"
   ]
  },
  {
   "cell_type": "code",
   "execution_count": 12,
   "id": "f38fe9be",
   "metadata": {
    "execution": {
     "iopub.execute_input": "2024-05-21T17:32:17.470978Z",
     "iopub.status.busy": "2024-05-21T17:32:17.470524Z",
     "iopub.status.idle": "2024-05-21T17:32:17.475981Z",
     "shell.execute_reply": "2024-05-21T17:32:17.475087Z"
    },
    "papermill": {
     "duration": 0.015356,
     "end_time": "2024-05-21T17:32:17.477834",
     "exception": false,
     "start_time": "2024-05-21T17:32:17.462478",
     "status": "completed"
    },
    "tags": []
   },
   "outputs": [],
   "source": [
    "def validate_one_epoch(model, criterion, optimizer, val_loader):\n",
    "    model.eval()\n",
    "    test_loss = []\n",
    "    for inputs, target in val_loader:\n",
    "        inputs, target = inputs.to(device), target.to(device)\n",
    "        out = model(inputs)\n",
    "        loss = criterion(out, target)\n",
    "        test_loss.append(loss.item())\n",
    "    #average the test_loss list in for all batches in the test_gen\n",
    "    test_loss = np.mean(test_loss)\n",
    "    return test_loss"
   ]
  },
  {
   "cell_type": "code",
   "execution_count": 13,
   "id": "23c560e5",
   "metadata": {
    "execution": {
     "iopub.execute_input": "2024-05-21T17:32:17.493937Z",
     "iopub.status.busy": "2024-05-21T17:32:17.493660Z",
     "iopub.status.idle": "2024-05-21T17:32:17.503971Z",
     "shell.execute_reply": "2024-05-21T17:32:17.503166Z"
    },
    "papermill": {
     "duration": 0.020592,
     "end_time": "2024-05-21T17:32:17.505751",
     "exception": false,
     "start_time": "2024-05-21T17:32:17.485159",
     "status": "completed"
    },
    "tags": []
   },
   "outputs": [],
   "source": [
    "def batch_gd_scheduler(model, new_model_name, criterion, optimizer, train_loader, val_loader, scheduler,\n",
    "                         epochs, device, batch_size=128):\n",
    "    train_losses = np.zeros(epochs)\n",
    "    test_losses = np.zeros(epochs)\n",
    "    patience = 0\n",
    "    best_loss = 1000\n",
    "    max_patience = 20\n",
    "    for i in range(epochs):\n",
    "        t0 = datetime.now()\n",
    "        train_loss = train_one_epoch(model, criterion, optimizer,train_loader)\n",
    "        test_loss = validate_one_epoch(model, criterion, optimizer,val_loader)\n",
    "        #Early stopping based on test loss\n",
    "        if i == 0:\n",
    "            best_loss = test_loss\n",
    "            torch.save(model, f'/kaggle/working/{new_model_name}.pt')\n",
    "            #torch.save(model, path+f'{new_model_name}.pt')\n",
    "            print(f'Model saved as {new_model_name} at epoch {i}')\n",
    "        else:\n",
    "            if test_loss < best_loss:\n",
    "                best_loss = test_loss\n",
    "                torch.save(model, f'/kaggle/working/{new_model_name}.pt')\n",
    "                #torch.save(model, path+f'{new_model_name}.pt')\n",
    "                print(f'Model overwritten at epoch {i}, new best val loss {best_loss}')\n",
    "                patience = 0\n",
    "            else:\n",
    "                patience = patience +1\n",
    "                #print(f'No improvement, current patience level is {patience} at epoch {i}')\n",
    "        if patience > max_patience:\n",
    "            print(f'Max patience reached, training is terminated at epoch {i}')\n",
    "            break\n",
    "        #Apply scheduler after the train+validate parts\n",
    "        before_lr = optimizer.param_groups[0][\"lr\"]\n",
    "        scheduler.step(test_loss)\n",
    "        after_lr = optimizer.param_groups[0][\"lr\"]\n",
    "        train_losses[i] = train_loss\n",
    "        test_losses[i] = test_loss\n",
    "        #write the losses into a csv file\n",
    "        loss_dict = {'train_loss': train_losses, 'val_loss': test_losses}\n",
    "        dd = pd.DataFrame(loss_dict)\n",
    "        dd.to_csv('loss_dict_lstm_424_d80pc.csv', index = False)\n",
    "        dt = datetime.now()-t0\n",
    "        if i%10==0:\n",
    "            print(f'Epoch: {i+1}/{epochs}, train loss: {train_loss: .3f}, val_loss: {test_loss: .3f}, duration: {dt}, learning rate: {before_lr, after_lr}')\n",
    "    return train_losses, test_losses\n"
   ]
  },
  {
   "cell_type": "code",
   "execution_count": 14,
   "id": "f591d80c",
   "metadata": {
    "execution": {
     "iopub.execute_input": "2024-05-21T17:32:17.521755Z",
     "iopub.status.busy": "2024-05-21T17:32:17.521493Z",
     "iopub.status.idle": "2024-05-21T17:32:17.527885Z",
     "shell.execute_reply": "2024-05-21T17:32:17.527088Z"
    },
    "papermill": {
     "duration": 0.016499,
     "end_time": "2024-05-21T17:32:17.529676",
     "exception": false,
     "start_time": "2024-05-21T17:32:17.513177",
     "status": "completed"
    },
    "tags": []
   },
   "outputs": [],
   "source": [
    "def train_from_scratch_or_load(load_model_weight,new_model_name, epochs):\n",
    "    if load_model_weight==None:\n",
    "        #criterion = nn.MSELoss()\n",
    "        criterion = nn.HuberLoss()\n",
    "        optimizer = torch.optim.AdamW(model.parameters(), lr=0.01)\n",
    "        scheduler = lr_scheduler.ReduceLROnPlateau(optimizer, 'min', factor=0.1, min_lr = 1e-8)\n",
    "        train_losses, test_losses=batch_gd_scheduler(model, new_model_name, criterion,\n",
    "                                                     optimizer,train_loader, val_loader,\n",
    "                                                      scheduler, epochs,\n",
    "                                                       device = device)\n",
    "        return train_losses, test_losses\n",
    "    else:\n",
    "        if torch.cuda.is_available():\n",
    "            trained_model = torch.load(load_model_weight)\n",
    "        else:\n",
    "            trained_model = torch.load(load_model_weight, map_location=torch.device('cpu'))\n",
    "        return trained_model"
   ]
  },
  {
   "cell_type": "code",
   "execution_count": 15,
   "id": "5ff8878f",
   "metadata": {
    "execution": {
     "iopub.execute_input": "2024-05-21T17:32:17.545578Z",
     "iopub.status.busy": "2024-05-21T17:32:17.545341Z",
     "iopub.status.idle": "2024-05-21T17:32:17.551363Z",
     "shell.execute_reply": "2024-05-21T17:32:17.550601Z"
    },
    "papermill": {
     "duration": 0.016117,
     "end_time": "2024-05-21T17:32:17.553174",
     "exception": false,
     "start_time": "2024-05-21T17:32:17.537057",
     "status": "completed"
    },
    "tags": []
   },
   "outputs": [],
   "source": [
    "def load_and_retrain(load_model_weight, new_model_name, epochs):\n",
    "    trained_model = torch.load(load_model_weight)\n",
    "    print('Trained model loaded')\n",
    "    criterion = nn.HuberLoss()\n",
    "    optimizer = torch.optim.AdamW(trained_model.parameters(),lr=0.01)\n",
    "    scheduler = lr_scheduler.ReduceLROnPlateau(optimizer, 'min', factor=0.1, min_lr = 1e-7)\n",
    "    trained_model.train()\n",
    "    print('Begin retraining')\n",
    "    train_losses, test_losses=batch_gd_scheduler(trained_model,new_model_name, criterion, optimizer,\n",
    "                                                 train_loader, val_loader,\n",
    "                                                 scheduler, epochs,\n",
    "                                                 device = device)\n",
    "    return trained_model, train_losses, test_losses"
   ]
  },
  {
   "cell_type": "code",
   "execution_count": 16,
   "id": "69a6e285",
   "metadata": {
    "execution": {
     "iopub.execute_input": "2024-05-21T17:32:17.568930Z",
     "iopub.status.busy": "2024-05-21T17:32:17.568693Z",
     "iopub.status.idle": "2024-05-21T17:32:17.572988Z",
     "shell.execute_reply": "2024-05-21T17:32:17.572179Z"
    },
    "papermill": {
     "duration": 0.014276,
     "end_time": "2024-05-21T17:32:17.574750",
     "exception": false,
     "start_time": "2024-05-21T17:32:17.560474",
     "status": "completed"
    },
    "tags": []
   },
   "outputs": [],
   "source": [
    "def plot_losses(train_losses, test_losses):\n",
    "    # Plot the train loss and test loss per iteration\n",
    "    plt.plot(train_losses, label='train loss')\n",
    "    plt.plot(test_losses, label='val loss')\n",
    "    plt.legend()\n",
    "    plt.show()"
   ]
  },
  {
   "cell_type": "code",
   "execution_count": 17,
   "id": "c8810a1b",
   "metadata": {
    "execution": {
     "iopub.execute_input": "2024-05-21T17:32:17.590447Z",
     "iopub.status.busy": "2024-05-21T17:32:17.590195Z",
     "iopub.status.idle": "2024-05-21T17:32:17.600921Z",
     "shell.execute_reply": "2024-05-21T17:32:17.600089Z"
    },
    "papermill": {
     "duration": 0.020722,
     "end_time": "2024-05-21T17:32:17.602744",
     "exception": false,
     "start_time": "2024-05-21T17:32:17.582022",
     "status": "completed"
    },
    "tags": []
   },
   "outputs": [],
   "source": [
    "################## GET PREDICTIONS + ACCURACY #####################\n",
    "def get_pred_n_acc(models, device, dataloader, num_iter):\n",
    "    i = 0\n",
    "    ypreds =[]\n",
    "    targets = []\n",
    "    #The last batch might not have size 128\n",
    "    while i< num_iter:\n",
    "        for data, target in dataloader:\n",
    "            #this empty list is to hold all models' preds\n",
    "            ypred = []\n",
    "            data= data.to(device)\n",
    "            data = data.to(torch.float32)\n",
    "            target = target.to(torch.float32)\n",
    "            #append the 'i^th' target\n",
    "            targets.append(target)\n",
    "            for model in models:\n",
    "                model.eval()\n",
    "                yp = model(data)\n",
    "                yp = yp.detach().cpu().numpy()\n",
    "                ypred.append(yp)\n",
    "            #take the mean of all models' predictions\n",
    "            ypred = np.array(ypred).mean(axis = 0)\n",
    "            ypred = np.round(ypred)\n",
    "            i+=1\n",
    "            #append ypred, targets inside the 'i' loop\n",
    "            # append the 'i^th' mean prediction\n",
    "            ypreds.append(ypred)\n",
    "            if i == num_iter:\n",
    "                break\n",
    "     #Do not convert ypreds, targets to np.array at this point,\n",
    "    #since the last batch has a different size, causing an error !\n",
    "    #CALCULATING ACCURACY\n",
    "    yp =  np.concatenate([ypreds[j] for j in range(len(ypreds))], axis = 0)\n",
    "    tgs =  np.concatenate([targets[j] for j in range(len(targets))], axis = 0)\n",
    "    h11_acc = ((yp[:,0] == tgs[:,0]).sum())/len(yp)\n",
    "    h21_acc = ((yp[:,1] == tgs[:,1]).sum())/len(yp)\n",
    "    h31_acc = ((yp[:,2] == tgs[:,2]).sum())/len(yp)\n",
    "    h22_acc = ((yp[:,3] == tgs[:,3]).sum())/len(yp)\n",
    "    acc = [h11_acc*100,h21_acc*100,h31_acc*100,h22_acc*100 ]\n",
    "    return  yp, tgs, acc\n"
   ]
  },
  {
   "cell_type": "markdown",
   "id": "6fe01c0b",
   "metadata": {
    "papermill": {
     "duration": 0.007444,
     "end_time": "2024-05-21T17:32:17.617929",
     "exception": false,
     "start_time": "2024-05-21T17:32:17.610485",
     "status": "completed"
    },
    "tags": []
   },
   "source": [
    "# Train loop"
   ]
  },
  {
   "cell_type": "code",
   "execution_count": 18,
   "id": "14d5c08f",
   "metadata": {
    "execution": {
     "iopub.execute_input": "2024-05-21T17:32:17.633696Z",
     "iopub.status.busy": "2024-05-21T17:32:17.633439Z",
     "iopub.status.idle": "2024-05-21T20:21:32.022715Z",
     "shell.execute_reply": "2024-05-21T20:21:32.021697Z"
    },
    "papermill": {
     "duration": 10154.413185,
     "end_time": "2024-05-21T20:21:32.038453",
     "exception": false,
     "start_time": "2024-05-21T17:32:17.625268",
     "status": "completed"
    },
    "tags": []
   },
   "outputs": [
    {
     "name": "stdout",
     "output_type": "stream",
     "text": [
      "Trained model loaded\n",
      "Begin retraining\n",
      "Model saved as LSTM-424-d80pc at epoch 0\n",
      "Epoch: 1/550, train loss:  2.884, val_loss:  2.000, duration: 0:00:56.053074, learning rate: (0.01, 0.01)\n",
      "Model overwritten at epoch 1, new best val loss 1.8410203015362774\n",
      "Model overwritten at epoch 2, new best val loss 1.6120810338429041\n",
      "Model overwritten at epoch 3, new best val loss 1.5703303973721028\n",
      "Model overwritten at epoch 7, new best val loss 1.3789269893678198\n",
      "Epoch: 11/550, train loss:  1.580, val_loss:  1.426, duration: 0:00:55.775933, learning rate: (0.01, 0.01)\n",
      "Model overwritten at epoch 12, new best val loss 1.3572341146923246\n",
      "Model overwritten at epoch 13, new best val loss 1.2565698351389096\n",
      "Epoch: 21/550, train loss:  1.432, val_loss:  1.315, duration: 0:00:55.743895, learning rate: (0.01, 0.01)\n",
      "Model overwritten at epoch 25, new best val loss 0.6235795310144913\n",
      "Model overwritten at epoch 26, new best val loss 0.5383345443210064\n",
      "Model overwritten at epoch 27, new best val loss 0.4929392545942276\n",
      "Model overwritten at epoch 28, new best val loss 0.4700672145032799\n",
      "Model overwritten at epoch 29, new best val loss 0.42669122877680227\n",
      "Model overwritten at epoch 30, new best val loss 0.4071150304358683\n",
      "Epoch: 31/550, train loss:  0.329, val_loss:  0.407, duration: 0:00:55.797312, learning rate: (0.001, 0.001)\n",
      "Model overwritten at epoch 31, new best val loss 0.38936697514284224\n",
      "Model overwritten at epoch 33, new best val loss 0.3625698214695777\n",
      "Model overwritten at epoch 34, new best val loss 0.3484912051094903\n",
      "Model overwritten at epoch 37, new best val loss 0.3290069354353128\n",
      "Model overwritten at epoch 38, new best val loss 0.3248775147190695\n",
      "Model overwritten at epoch 39, new best val loss 0.3198554742115515\n",
      "Model overwritten at epoch 40, new best val loss 0.3181798401333037\n",
      "Epoch: 41/550, train loss:  0.224, val_loss:  0.318, duration: 0:00:55.997300, learning rate: (0.001, 0.001)\n",
      "Model overwritten at epoch 41, new best val loss 0.3147361839364235\n",
      "Model overwritten at epoch 42, new best val loss 0.31099645096999207\n",
      "Model overwritten at epoch 44, new best val loss 0.31068661384534163\n",
      "Model overwritten at epoch 47, new best val loss 0.3103099755246383\n",
      "Model overwritten at epoch 48, new best val loss 0.28304991350760533\n",
      "Epoch: 51/550, train loss:  0.206, val_loss:  0.299, duration: 0:00:55.677711, learning rate: (0.001, 0.001)\n",
      "Model overwritten at epoch 57, new best val loss 0.26087222237803526\n",
      "Epoch: 61/550, train loss:  0.197, val_loss:  0.285, duration: 0:00:55.746987, learning rate: (0.001, 0.001)\n",
      "Model overwritten at epoch 65, new best val loss 0.26013661467682114\n",
      "Model overwritten at epoch 70, new best val loss 0.25826136535279964\n",
      "Epoch: 71/550, train loss:  0.189, val_loss:  0.258, duration: 0:00:55.766442, learning rate: (0.001, 0.001)\n",
      "Model overwritten at epoch 72, new best val loss 0.25318270915136976\n",
      "Model overwritten at epoch 73, new best val loss 0.2405682535319732\n",
      "Model overwritten at epoch 74, new best val loss 0.2404348724365655\n",
      "Epoch: 81/550, train loss:  0.185, val_loss:  0.276, duration: 0:00:55.741107, learning rate: (0.001, 0.001)\n",
      "Model overwritten at epoch 84, new best val loss 0.21981958447047223\n",
      "Epoch: 91/550, train loss:  0.182, val_loss:  0.226, duration: 0:00:55.804877, learning rate: (0.001, 0.001)\n",
      "Model overwritten at epoch 94, new best val loss 0.2172107093785175\n",
      "Epoch: 101/550, train loss:  0.179, val_loss:  0.260, duration: 0:00:55.699568, learning rate: (0.001, 0.001)\n",
      "Model overwritten at epoch 106, new best val loss 0.12063902420381074\n",
      "Model overwritten at epoch 107, new best val loss 0.11079808809782987\n",
      "Model overwritten at epoch 108, new best val loss 0.10185728272722092\n",
      "Model overwritten at epoch 109, new best val loss 0.09955305987197045\n",
      "Model overwritten at epoch 110, new best val loss 0.09703570087990564\n",
      "Epoch: 111/550, train loss:  0.034, val_loss:  0.097, duration: 0:00:56.044311, learning rate: (0.0001, 0.0001)\n",
      "Model overwritten at epoch 111, new best val loss 0.09698841530284344\n",
      "Model overwritten at epoch 112, new best val loss 0.09239377110302974\n",
      "Model overwritten at epoch 113, new best val loss 0.09130627991437806\n",
      "Model overwritten at epoch 114, new best val loss 0.09020415677753076\n",
      "Model overwritten at epoch 115, new best val loss 0.08880322528066774\n",
      "Model overwritten at epoch 117, new best val loss 0.0878247166844167\n",
      "Model overwritten at epoch 118, new best val loss 0.08710039164903828\n",
      "Model overwritten at epoch 119, new best val loss 0.08543314569263441\n",
      "Epoch: 121/550, train loss:  0.018, val_loss:  0.086, duration: 0:00:55.896639, learning rate: (0.0001, 0.0001)\n",
      "Model overwritten at epoch 121, new best val loss 0.08520961803182092\n",
      "Model overwritten at epoch 122, new best val loss 0.08497144125986719\n",
      "Model overwritten at epoch 123, new best val loss 0.08437627386400308\n",
      "Model overwritten at epoch 125, new best val loss 0.08278494300994188\n",
      "Model overwritten at epoch 129, new best val loss 0.0825498092696202\n",
      "Epoch: 131/550, train loss:  0.015, val_loss:  0.084, duration: 0:00:55.812766, learning rate: (0.0001, 0.0001)\n",
      "Model overwritten at epoch 132, new best val loss 0.0821860822991877\n",
      "Model overwritten at epoch 133, new best val loss 0.0820377804338932\n",
      "Model overwritten at epoch 137, new best val loss 0.08106466068687472\n",
      "Epoch: 141/550, train loss:  0.013, val_loss:  0.083, duration: 0:00:55.713093, learning rate: (0.0001, 0.0001)\n",
      "Model overwritten at epoch 145, new best val loss 0.08053055110287309\n",
      "Epoch: 151/550, train loss:  0.012, val_loss:  0.082, duration: 0:00:55.822870, learning rate: (0.0001, 0.0001)\n",
      "Model overwritten at epoch 157, new best val loss 0.07772041766902651\n",
      "Model overwritten at epoch 158, new best val loss 0.07738029342341833\n",
      "Model overwritten at epoch 160, new best val loss 0.07733272411408826\n",
      "Epoch: 161/550, train loss:  0.005, val_loss:  0.077, duration: 0:00:55.751921, learning rate: (1e-05, 1e-05)\n",
      "Epoch: 171/550, train loss:  0.004, val_loss:  0.077, duration: 0:00:55.897805, learning rate: (1e-05, 1e-05)\n",
      "Epoch: 181/550, train loss:  0.004, val_loss:  0.077, duration: 0:00:55.871136, learning rate: (1.0000000000000002e-06, 1.0000000000000002e-06)\n",
      "Max patience reached, training is terminated at epoch 181\n"
     ]
    }
   ],
   "source": [
    "load_model_weight = '/kaggle/input/calabi-yau-cicy-4-folds/trained_models/LSTM-424.pt'\n",
    "epochs = 550\n",
    "new_model_name = 'LSTM-424-d80pc'\n",
    "if load_model_weight is None:\n",
    "    train_losses, test_losses=train_from_scratch_or_load(load_model_weight,new_model_name,  epochs)\n",
    "else:\n",
    "    model, train_losses, test_losses=load_and_retrain(load_model_weight, new_model_name, epochs)"
   ]
  },
  {
   "cell_type": "code",
   "execution_count": 19,
   "id": "a46f9391",
   "metadata": {
    "execution": {
     "iopub.execute_input": "2024-05-21T20:21:32.067723Z",
     "iopub.status.busy": "2024-05-21T20:21:32.066816Z",
     "iopub.status.idle": "2024-05-21T20:21:32.343746Z",
     "shell.execute_reply": "2024-05-21T20:21:32.342815Z"
    },
    "papermill": {
     "duration": 0.293857,
     "end_time": "2024-05-21T20:21:32.345915",
     "exception": false,
     "start_time": "2024-05-21T20:21:32.052058",
     "status": "completed"
    },
    "tags": []
   },
   "outputs": [
    {
     "data": {
      "image/png": "[encoded data removed]",
      "text/plain": [
       "<Figure size 640x480 with 1 Axes>"
      ]
     },
     "metadata": {},
     "output_type": "display_data"
    }
   ],
   "source": [
    "plot_losses(train_losses, test_losses)"
   ]
  },
  {
   "cell_type": "markdown",
   "id": "2b77b399",
   "metadata": {
    "papermill": {
     "duration": 0.013664,
     "end_time": "2024-05-21T20:21:32.373484",
     "exception": false,
     "start_time": "2024-05-21T20:21:32.359820",
     "status": "completed"
    },
    "tags": []
   },
   "source": [
    "# Accuracies"
   ]
  },
  {
   "cell_type": "code",
   "execution_count": 20,
   "id": "d5ed903c",
   "metadata": {
    "execution": {
     "iopub.execute_input": "2024-05-21T20:21:32.402561Z",
     "iopub.status.busy": "2024-05-21T20:21:32.401768Z",
     "iopub.status.idle": "2024-05-21T20:21:59.312534Z",
     "shell.execute_reply": "2024-05-21T20:21:59.311565Z"
    },
    "papermill": {
     "duration": 26.92741,
     "end_time": "2024-05-21T20:21:59.314771",
     "exception": false,
     "start_time": "2024-05-21T20:21:32.387361",
     "status": "completed"
    },
    "tags": []
   },
   "outputs": [
    {
     "name": "stdout",
     "output_type": "stream",
     "text": [
      "Train data, target shapes: ((724547, 4), (724547, 4)),\n",
      " train accuracies [99.99282310188296, 99.8919324764301, 99.9541782658682, 99.81560892530091]\n",
      "Validation data, target shapes: ((72455, 4), (72455, 4)),\n",
      " validation accuracies [99.77641294596647, 98.22924573873438, 95.65247394934786, 81.57477054723621]\n"
     ]
    }
   ],
   "source": [
    "#Train accuracy\n",
    "yt, tgt, acct = get_pred_n_acc([model], device, train_loader, num_iter = len(train_loader))\n",
    "#validation accuracy\n",
    "yv, tgv, accv = get_pred_n_acc([model], device, val_loader, num_iter = len(val_loader))\n",
    "print(f'Train data, target shapes: {yt.shape, tgt.shape},\\n train accuracies {acct}')\n",
    "print(f'Validation data, target shapes: {yv.shape, tgv.shape},\\n validation accuracies {accv}')\n"
   ]
  },
  {
   "cell_type": "code",
   "execution_count": 21,
   "id": "b05ecdaf",
   "metadata": {
    "execution": {
     "iopub.execute_input": "2024-05-21T20:21:59.344029Z",
     "iopub.status.busy": "2024-05-21T20:21:59.343716Z",
     "iopub.status.idle": "2024-05-21T20:22:02.862111Z",
     "shell.execute_reply": "2024-05-21T20:22:02.861183Z"
    },
    "papermill": {
     "duration": 3.535353,
     "end_time": "2024-05-21T20:22:02.864266",
     "exception": false,
     "start_time": "2024-05-21T20:21:59.328913",
     "status": "completed"
    },
    "tags": []
   },
   "outputs": [
    {
     "name": "stdout",
     "output_type": "stream",
     "text": [
      "Test data, target shapes: ((108682, 4), (108682, 4)),\n",
      " test accuracies [99.81781711783, 98.21589591652712, 95.76562816289726, 81.63633352349055]\n"
     ]
    }
   ],
   "source": [
    "#Test accuracy\n",
    "yts, tgts, accts = get_pred_n_acc([model], device, test_loader, num_iter = len(test_loader))\n",
    "print(f'Test data, target shapes: {yts.shape, tgts.shape},\\n test accuracies {accts}')\n"
   ]
  }
 ],
 "metadata": {
  "kaggle": {
   "accelerator": "gpu",
   "dataSources": [
    {
     "datasetId": 4575883,
     "sourceId": 8466041,
     "sourceType": "datasetVersion"
    },
    {
     "sourceId": 178987982,
     "sourceType": "kernelVersion"
    }
   ],
   "dockerImageVersionId": 30665,
   "isGpuEnabled": true,
   "isInternetEnabled": true,
   "language": "python",
   "sourceType": "notebook"
  },
  "kernelspec": {
   "display_name": "Python 3",
   "language": "python",
   "name": "python3"
  },
  "language_info": {
   "codemirror_mode": {
    "name": "ipython",
    "version": 3
   },
   "file_extension": ".py",
   "mimetype": "text/x-python",
   "name": "python",
   "nbconvert_exporter": "python",
   "pygments_lexer": "ipython3",
   "version": "3.10.13"
  },
  "papermill": {
   "default_parameters": {},
   "duration": 10213.376185,
   "end_time": "2024-05-21T20:22:05.288602",
   "environment_variables": {},
   "exception": null,
   "input_path": "__notebook__.ipynb",
   "output_path": "__notebook__.ipynb",
   "parameters": {},
   "start_time": "2024-05-21T17:31:51.912417",
   "version": "2.5.0"
  }
 },
 "nbformat": 4,
 "nbformat_minor": 5
}
