{
 "cells": [
  {
   "cell_type": "markdown",
   "id": "b439f23b",
   "metadata": {
    "papermill": {
     "duration": 0.008865,
     "end_time": "2024-05-04T05:43:09.303090",
     "exception": false,
     "start_time": "2024-05-04T05:43:09.294225",
     "status": "completed"
    },
    "tags": []
   },
   "source": [
    "# CICY4: CNN-LSTM-400 for learning 4 Hodge numbers \n",
    "\n",
    "- Version < 10: Models trained with old data. V10: ran with error. \n",
    "\n",
    "- V11: Standard CNN + LSTM layer with parameters (20,256,2,4). \n",
    "- V12: Standard CNN + LSTM layer with parameters (20,400,2,4). \n",
    "\n",
    "- Note: The standard CNN used has the output feature vector of 384 with the following configuration:\n",
    "    - nn.Flatten(F.relu(nn.Sequential(nn.Conv2d(1,128, 4, 1),\n",
    "                nn.MaxPool2d(2,2),\n",
    "                nn.Conv2d(128, 64, 3, 1),\n",
    "                nn.MaxPool2d(2,2)))\n",
    "     "
   ]
  },
  {
   "cell_type": "code",
   "execution_count": 1,
   "id": "e4e5cbfa",
   "metadata": {
    "_cell_guid": "b1076dfc-b9ad-4769-8c92-a6c4dae69d19",
    "_uuid": "8f2839f25d086af736a60e9eeb907d3b93b6e0e5",
    "execution": {
     "iopub.execute_input": "2024-05-04T05:43:09.321189Z",
     "iopub.status.busy": "2024-05-04T05:43:09.320909Z",
     "iopub.status.idle": "2024-05-04T05:43:14.912789Z",
     "shell.execute_reply": "2024-05-04T05:43:14.911971Z"
    },
    "papermill": {
     "duration": 5.603535,
     "end_time": "2024-05-04T05:43:14.915124",
     "exception": false,
     "start_time": "2024-05-04T05:43:09.311589",
     "status": "completed"
    },
    "tags": []
   },
   "outputs": [],
   "source": [
    "import numpy as np\n",
    "import pandas as pd\n",
    "import random\n",
    "import os as os\n",
    "import matplotlib.pyplot as plt\n",
    "import seaborn as sns\n",
    "from datetime import datetime\n",
    "sns.set_style(\"darkgrid\")\n",
    "\n",
    "import torch\n",
    "import torch.nn as nn\n",
    "import torch.nn.functional as F\n",
    "import torch.optim.lr_scheduler as lr_scheduler"
   ]
  },
  {
   "cell_type": "code",
   "execution_count": 2,
   "id": "3a788c0c",
   "metadata": {
    "execution": {
     "iopub.execute_input": "2024-05-04T05:43:14.935542Z",
     "iopub.status.busy": "2024-05-04T05:43:14.935108Z",
     "iopub.status.idle": "2024-05-04T05:43:14.987006Z",
     "shell.execute_reply": "2024-05-04T05:43:14.986108Z"
    },
    "papermill": {
     "duration": 0.063953,
     "end_time": "2024-05-04T05:43:14.988999",
     "exception": false,
     "start_time": "2024-05-04T05:43:14.925046",
     "status": "completed"
    },
    "tags": []
   },
   "outputs": [
    {
     "name": "stdout",
     "output_type": "stream",
     "text": [
      "cuda:0\n"
     ]
    }
   ],
   "source": [
    "device = torch.device(\"cuda:0\" if torch.cuda.is_available() else \"cpu\")\n",
    "print(device)"
   ]
  },
  {
   "cell_type": "code",
   "execution_count": 3,
   "id": "89b119fe",
   "metadata": {
    "execution": {
     "iopub.execute_input": "2024-05-04T05:43:15.007027Z",
     "iopub.status.busy": "2024-05-04T05:43:15.006769Z",
     "iopub.status.idle": "2024-05-04T05:43:15.014629Z",
     "shell.execute_reply": "2024-05-04T05:43:15.013877Z"
    },
    "papermill": {
     "duration": 0.019055,
     "end_time": "2024-05-04T05:43:15.016519",
     "exception": false,
     "start_time": "2024-05-04T05:43:14.997464",
     "status": "completed"
    },
    "tags": []
   },
   "outputs": [],
   "source": [
    "seed = 42\n",
    "\n",
    "def seed_everything(seed):\n",
    "    random.seed(seed)\n",
    "    os.environ['PYTHONHASHSEED'] = str(seed)\n",
    "    np.random.seed(seed)\n",
    "    torch.manual_seed(seed)\n",
    "    torch.cuda.manual_seed(seed)\n",
    "    torch.cuda.manual_seed_all(seed)\n",
    "    torch.backends.cudnn.deterministic = True\n",
    "\n",
    "seed_everything(seed)"
   ]
  },
  {
   "cell_type": "markdown",
   "id": "e302cd65",
   "metadata": {
    "papermill": {
     "duration": 0.008198,
     "end_time": "2024-05-04T05:43:15.032995",
     "exception": false,
     "start_time": "2024-05-04T05:43:15.024797",
     "status": "completed"
    },
    "tags": []
   },
   "source": [
    "# CNN-LSTM network architecture"
   ]
  },
  {
   "cell_type": "code",
   "execution_count": 4,
   "id": "d3880583",
   "metadata": {
    "execution": {
     "iopub.execute_input": "2024-05-04T05:43:15.051635Z",
     "iopub.status.busy": "2024-05-04T05:43:15.051382Z",
     "iopub.status.idle": "2024-05-04T05:43:15.057899Z",
     "shell.execute_reply": "2024-05-04T05:43:15.057107Z"
    },
    "papermill": {
     "duration": 0.018497,
     "end_time": "2024-05-04T05:43:15.059822",
     "exception": false,
     "start_time": "2024-05-04T05:43:15.041325",
     "status": "completed"
    },
    "tags": []
   },
   "outputs": [],
   "source": [
    "##################### CNN ###############################\n",
    "class CNN_block(nn.Module):  \n",
    "    def __init__(self):\n",
    "        super().__init__()\n",
    "        self.conv1 = nn.Conv2d(1,128, 4, 1)\n",
    "        self.conv2 = nn.Conv2d(128, 64, 3, 1)\n",
    "        self.mxpool = nn.MaxPool2d(2,2)\n",
    "        self.flat = nn.Flatten()\n",
    "        self.conv_total = nn.Sequential(\n",
    "            self.conv1,\n",
    "            self.mxpool,\n",
    "            self.conv2,\n",
    "            self.mxpool\n",
    "        )\n",
    "    def forward(self,x):\n",
    "        x = F.relu(self.conv_total(x))\n",
    "        #reshape is the same as flat(x)\n",
    "        #x = x.reshape(x.shape[0], -1)\n",
    "        x = self.flat(x)   \n",
    "        return x"
   ]
  },
  {
   "cell_type": "code",
   "execution_count": 5,
   "id": "226e84a9",
   "metadata": {
    "execution": {
     "iopub.execute_input": "2024-05-04T05:43:15.077779Z",
     "iopub.status.busy": "2024-05-04T05:43:15.077534Z",
     "iopub.status.idle": "2024-05-04T05:43:15.085112Z",
     "shell.execute_reply": "2024-05-04T05:43:15.084317Z"
    },
    "papermill": {
     "duration": 0.019045,
     "end_time": "2024-05-04T05:43:15.087035",
     "exception": false,
     "start_time": "2024-05-04T05:43:15.067990",
     "status": "completed"
    },
    "tags": []
   },
   "outputs": [],
   "source": [
    "class LSTM_block(nn.Module):\n",
    "    def __init__(self, n_inputs, n_hidden, n_rnnlayers, n_outputs):\n",
    "        super(LSTM_block,self).__init__()\n",
    "        self.D = n_inputs\n",
    "        self.M = n_hidden\n",
    "        self.K = n_outputs\n",
    "        self.L = n_rnnlayers        \n",
    "        self.lstm = nn.LSTM(input_size = self.D,\n",
    "                           hidden_size = self.M,\n",
    "                           num_layers = self.L,\n",
    "                           batch_first = True)    \n",
    "    def forward(self, X):\n",
    "        #input X is NxTxD\n",
    "        #initial hidden states\n",
    "        h0 = torch.zeros(self.L, X.size(0), self.M).to(device)\n",
    "        c0 = torch.zeros(self.L, X.size(0), self.M).to(device)\n",
    "        #get LSTM unit output:\n",
    "        #output is NxTxM\n",
    "        out, _ = self.lstm(X, (h0,c0))\n",
    "        #out, _ = self.gru(X, h0)   \n",
    "        #we only want h(T) at the final time step\n",
    "        # output is now of shape (N, M)\n",
    "        out = out[:, -1, :]\n",
    "        return out"
   ]
  },
  {
   "cell_type": "code",
   "execution_count": 6,
   "id": "16c32d8f",
   "metadata": {
    "execution": {
     "iopub.execute_input": "2024-05-04T05:43:15.104585Z",
     "iopub.status.busy": "2024-05-04T05:43:15.104329Z",
     "iopub.status.idle": "2024-05-04T05:43:15.111049Z",
     "shell.execute_reply": "2024-05-04T05:43:15.110216Z"
    },
    "papermill": {
     "duration": 0.017601,
     "end_time": "2024-05-04T05:43:15.112837",
     "exception": false,
     "start_time": "2024-05-04T05:43:15.095236",
     "status": "completed"
    },
    "tags": []
   },
   "outputs": [],
   "source": [
    "class CNN_LSTM_hybrid(nn.Module):\n",
    "    def __init__(self, cnn_block, lstm_block, feat_vec_size):\n",
    "        super(CNN_LSTM_hybrid, self).__init__()\n",
    "        self.cnn_block = cnn_block\n",
    "        self.lstm_block = lstm_block\n",
    "        self.feat_vec_size = feat_vec_size\n",
    "        self.fc1 = nn.Linear(self.feat_vec_size, 1024)\n",
    "        self.fc2 = nn.Linear(1024, 4)       \n",
    "    def forward(self, x):\n",
    "        #output of cnn block is (N,384)\n",
    "        x1 = x.view(-1,1, 16,20)\n",
    "        x1 = self.cnn_block(x1)\n",
    "        #output of rnn block is (N,M)\n",
    "        x2 = self.lstm_block(x)\n",
    "        #concatenate the 2 outputs to produce a feat vec (N, M+384)\n",
    "        xx = torch.cat([x1, x2], dim = 1)\n",
    "        # pass through linear layers\n",
    "        xx = self.fc1(xx)\n",
    "        #final output is 4\n",
    "        xx = self.fc2(xx)       \n",
    "        return xx"
   ]
  },
  {
   "cell_type": "code",
   "execution_count": 7,
   "id": "b801827c",
   "metadata": {
    "execution": {
     "iopub.execute_input": "2024-05-04T05:43:15.130613Z",
     "iopub.status.busy": "2024-05-04T05:43:15.130347Z",
     "iopub.status.idle": "2024-05-04T05:43:15.472617Z",
     "shell.execute_reply": "2024-05-04T05:43:15.471627Z"
    },
    "papermill": {
     "duration": 0.353361,
     "end_time": "2024-05-04T05:43:15.474649",
     "exception": false,
     "start_time": "2024-05-04T05:43:15.121288",
     "status": "completed"
    },
    "tags": []
   },
   "outputs": [
    {
     "data": {
      "text/plain": [
       "CNN_LSTM_hybrid(\n",
       "  (cnn_block): CNN_block(\n",
       "    (conv1): Conv2d(1, 128, kernel_size=(4, 4), stride=(1, 1))\n",
       "    (conv2): Conv2d(128, 64, kernel_size=(3, 3), stride=(1, 1))\n",
       "    (mxpool): MaxPool2d(kernel_size=2, stride=2, padding=0, dilation=1, ceil_mode=False)\n",
       "    (flat): Flatten(start_dim=1, end_dim=-1)\n",
       "    (conv_total): Sequential(\n",
       "      (0): Conv2d(1, 128, kernel_size=(4, 4), stride=(1, 1))\n",
       "      (1): MaxPool2d(kernel_size=2, stride=2, padding=0, dilation=1, ceil_mode=False)\n",
       "      (2): Conv2d(128, 64, kernel_size=(3, 3), stride=(1, 1))\n",
       "      (3): MaxPool2d(kernel_size=2, stride=2, padding=0, dilation=1, ceil_mode=False)\n",
       "    )\n",
       "  )\n",
       "  (lstm_block): LSTM_block(\n",
       "    (lstm): LSTM(20, 400, num_layers=2, batch_first=True)\n",
       "  )\n",
       "  (fc1): Linear(in_features=784, out_features=1024, bias=True)\n",
       "  (fc2): Linear(in_features=1024, out_features=4, bias=True)\n",
       ")"
      ]
     },
     "execution_count": 7,
     "metadata": {},
     "output_type": "execute_result"
    }
   ],
   "source": [
    "# Everything is the same as the best CNN-GRU model, \n",
    "#except that the GRU layer is replaced by the LSTM layer\n",
    "cnn_block = CNN_block()\n",
    "cnn_block.to(device)\n",
    "\n",
    "M_size = 400\n",
    "lstm_block = LSTM_block(20, M_size, 2, 4)\n",
    "lstm_block.to(device)\n",
    "\n",
    "model = CNN_LSTM_hybrid(cnn_block, lstm_block, M_size+384)\n",
    "model.to(device)"
   ]
  },
  {
   "cell_type": "code",
   "execution_count": 8,
   "id": "915b68bc",
   "metadata": {
    "execution": {
     "iopub.execute_input": "2024-05-04T05:43:15.493750Z",
     "iopub.status.busy": "2024-05-04T05:43:15.493464Z",
     "iopub.status.idle": "2024-05-04T05:43:15.500317Z",
     "shell.execute_reply": "2024-05-04T05:43:15.499472Z"
    },
    "papermill": {
     "duration": 0.018944,
     "end_time": "2024-05-04T05:43:15.502527",
     "exception": false,
     "start_time": "2024-05-04T05:43:15.483583",
     "status": "completed"
    },
    "tags": []
   },
   "outputs": [
    {
     "name": "stdout",
     "output_type": "stream",
     "text": [
      "Total numbers of parameters for the CNN part: 75968\n",
      "\n",
      "Total numbers of parameters for the LSTM part: 1958400\n",
      "\n",
      "Total numbers of parameters: 2842308\n"
     ]
    }
   ],
   "source": [
    "#count the number of parameters in the model\n",
    "params_cnn = [p.numel() for p in cnn_block.parameters() if p.requires_grad]\n",
    "print(f'Total numbers of parameters for the CNN part: {sum(params_cnn)}\\n')\n",
    "\n",
    "#count the number of parameters in the model\n",
    "params_lstm = [p.numel() for p in lstm_block.parameters() if p.requires_grad]\n",
    "print(f'Total numbers of parameters for the LSTM part: {sum(params_lstm)}\\n')\n",
    "\n",
    "#count the number of parameters in the model\n",
    "params = [p.numel() for p in model.parameters() if p.requires_grad]\n",
    "print(f'Total numbers of parameters: {sum(params)}')"
   ]
  },
  {
   "cell_type": "markdown",
   "id": "3b58292a",
   "metadata": {
    "papermill": {
     "duration": 0.008549,
     "end_time": "2024-05-04T05:43:15.519919",
     "exception": false,
     "start_time": "2024-05-04T05:43:15.511370",
     "status": "completed"
    },
    "tags": []
   },
   "source": [
    "# Load data, define custom dataset class and dataloaders"
   ]
  },
  {
   "cell_type": "code",
   "execution_count": 9,
   "id": "9cebcd39",
   "metadata": {
    "execution": {
     "iopub.execute_input": "2024-05-04T05:43:15.538436Z",
     "iopub.status.busy": "2024-05-04T05:43:15.538131Z",
     "iopub.status.idle": "2024-05-04T05:43:27.895894Z",
     "shell.execute_reply": "2024-05-04T05:43:27.894881Z"
    },
    "papermill": {
     "duration": 12.370359,
     "end_time": "2024-05-04T05:43:27.898800",
     "exception": false,
     "start_time": "2024-05-04T05:43:15.528441",
     "status": "completed"
    },
    "tags": []
   },
   "outputs": [
    {
     "name": "stdout",
     "output_type": "stream",
     "text": [
      "(652092, 16, 20) (72455, 16, 20) (181137, 16, 20)\n",
      "(652092, 4) (72455, 4) (181137, 4)\n"
     ]
    }
   ],
   "source": [
    "X_train = np.load('/kaggle/input/cicy4-data-processing/conf_Xtrain.npy')\n",
    "X_test = np.load('/kaggle/input/cicy4-data-processing/conf_Xtest.npy')\n",
    "X_valid = np.load('/kaggle/input/cicy4-data-processing/conf_Xvalid.npy')\n",
    "\n",
    "y_train = np.load('/kaggle/input/cicy4-data-processing/hodge_ytrain.npy')\n",
    "y_test= np.load('/kaggle/input/cicy4-data-processing/hodge_ytest.npy')\n",
    "y_valid = np.load('/kaggle/input/cicy4-data-processing/hodge_yvalid.npy')\n",
    "\n",
    "print(X_train.shape, X_valid.shape, X_test.shape)\n",
    "print(y_train.shape, y_valid.shape, y_test.shape)"
   ]
  },
  {
   "cell_type": "code",
   "execution_count": 10,
   "id": "b51e1575",
   "metadata": {
    "execution": {
     "iopub.execute_input": "2024-05-04T05:43:27.926118Z",
     "iopub.status.busy": "2024-05-04T05:43:27.925397Z",
     "iopub.status.idle": "2024-05-04T05:43:28.401839Z",
     "shell.execute_reply": "2024-05-04T05:43:28.400789Z"
    },
    "papermill": {
     "duration": 0.493107,
     "end_time": "2024-05-04T05:43:28.404666",
     "exception": false,
     "start_time": "2024-05-04T05:43:27.911559",
     "status": "completed"
    },
    "tags": []
   },
   "outputs": [],
   "source": [
    "#Convert data to torch tensor with float32 precision \n",
    "#(needed to be compatible with the floating decision of the network parameters)\n",
    "X_train = torch.from_numpy(X_train.astype(np.float32))\n",
    "y_train = torch.from_numpy(y_train.astype(np.float32))\n",
    "\n",
    "X_valid = torch.from_numpy(X_valid.astype(np.float32)) \n",
    "y_valid = torch.from_numpy(y_valid.astype(np.float32)) \n",
    "\n",
    "X_test = torch.from_numpy(X_test.astype(np.float32)) \n",
    "y_test= torch.from_numpy(y_test.astype(np.float32)) "
   ]
  },
  {
   "cell_type": "code",
   "execution_count": 11,
   "id": "fd210b9d",
   "metadata": {
    "execution": {
     "iopub.execute_input": "2024-05-04T05:43:28.428087Z",
     "iopub.status.busy": "2024-05-04T05:43:28.427776Z",
     "iopub.status.idle": "2024-05-04T05:43:28.434119Z",
     "shell.execute_reply": "2024-05-04T05:43:28.433241Z"
    },
    "papermill": {
     "duration": 0.019185,
     "end_time": "2024-05-04T05:43:28.436639",
     "exception": false,
     "start_time": "2024-05-04T05:43:28.417454",
     "status": "completed"
    },
    "tags": []
   },
   "outputs": [],
   "source": [
    "class CICY4Dataset(torch.utils.data.Dataset):\n",
    "    def __init__(self, X, y):\n",
    "        self.X = X\n",
    "        self.y = y        \n",
    "    def __len__(self):\n",
    "        return len(self.X)      \n",
    "    def __getitem__(self, idx):\n",
    "        X0 = self.X[idx]\n",
    "        y0 = self.y[idx]  \n",
    "        return X0, y0\n",
    "        \n",
    "train_set = CICY4Dataset(X_train, y_train)\n",
    "val_set = CICY4Dataset(X_valid, y_valid)\n",
    "test_set = CICY4Dataset(X_test, y_test)"
   ]
  },
  {
   "cell_type": "code",
   "execution_count": 12,
   "id": "02d99f02",
   "metadata": {
    "execution": {
     "iopub.execute_input": "2024-05-04T05:43:28.458773Z",
     "iopub.status.busy": "2024-05-04T05:43:28.458500Z",
     "iopub.status.idle": "2024-05-04T05:43:28.463796Z",
     "shell.execute_reply": "2024-05-04T05:43:28.462963Z"
    },
    "papermill": {
     "duration": 0.01706,
     "end_time": "2024-05-04T05:43:28.465657",
     "exception": false,
     "start_time": "2024-05-04T05:43:28.448597",
     "status": "completed"
    },
    "tags": []
   },
   "outputs": [],
   "source": [
    "from torch.utils.data import DataLoader\n",
    "\n",
    "train_loader = DataLoader(train_set, batch_size=128, shuffle=True)\n",
    "val_loader = DataLoader(val_set, batch_size=128, shuffle=True)\n",
    "test_loader = DataLoader(test_set, batch_size=128, shuffle=False)"
   ]
  },
  {
   "cell_type": "markdown",
   "id": "bf5181f1",
   "metadata": {
    "papermill": {
     "duration": 0.008319,
     "end_time": "2024-05-04T05:43:28.482741",
     "exception": false,
     "start_time": "2024-05-04T05:43:28.474422",
     "status": "completed"
    },
    "tags": []
   },
   "source": [
    "# Utility functions"
   ]
  },
  {
   "cell_type": "code",
   "execution_count": 13,
   "id": "e1ba2011",
   "metadata": {
    "execution": {
     "iopub.execute_input": "2024-05-04T05:43:28.501003Z",
     "iopub.status.busy": "2024-05-04T05:43:28.500679Z",
     "iopub.status.idle": "2024-05-04T05:43:28.508431Z",
     "shell.execute_reply": "2024-05-04T05:43:28.507572Z"
    },
    "papermill": {
     "duration": 0.01913,
     "end_time": "2024-05-04T05:43:28.510319",
     "exception": false,
     "start_time": "2024-05-04T05:43:28.491189",
     "status": "completed"
    },
    "tags": []
   },
   "outputs": [],
   "source": [
    "def train_one_epoch(model, criterion, optimizer, train_loader, cnn = False):\n",
    "    model.train()\n",
    "    train_loss = []\n",
    "    for inputs, target in train_loader:\n",
    "        if cnn:\n",
    "            inputs = inputs.view(batch_size,1,16,20)\n",
    "        inputs, target = inputs.to(device), target.to(device)\n",
    "        optimizer.zero_grad()\n",
    "        out = model(inputs)\n",
    "        loss = criterion(out, target)\n",
    "        loss.backward()\n",
    "        optimizer.step()\n",
    "        train_loss.append(loss.item())\n",
    "    #average the train_loss list in for all batches in the train_gen\n",
    "    train_loss = np.mean(train_loss)    \n",
    "    return train_loss"
   ]
  },
  {
   "cell_type": "code",
   "execution_count": 14,
   "id": "e56105c5",
   "metadata": {
    "execution": {
     "iopub.execute_input": "2024-05-04T05:43:28.529939Z",
     "iopub.status.busy": "2024-05-04T05:43:28.529180Z",
     "iopub.status.idle": "2024-05-04T05:43:28.536923Z",
     "shell.execute_reply": "2024-05-04T05:43:28.536043Z"
    },
    "papermill": {
     "duration": 0.019943,
     "end_time": "2024-05-04T05:43:28.538997",
     "exception": false,
     "start_time": "2024-05-04T05:43:28.519054",
     "status": "completed"
    },
    "tags": []
   },
   "outputs": [],
   "source": [
    "def validate_one_epoch(model, criterion, optimizer, val_loader, cnn = False):\n",
    "    model.eval()\n",
    "    test_loss = []\n",
    "    for inputs, target in val_loader:\n",
    "        if cnn:\n",
    "            inputs = inputs.view(batch_size,1,16,20)\n",
    "        inputs, target = inputs.to(device), target.to(device)\n",
    "        out = model(inputs)\n",
    "        loss = criterion(out, target)\n",
    "        test_loss.append(loss.item())\n",
    "    #average the test_loss list in for all batches in the test_gen\n",
    "    test_loss = np.mean(test_loss)\n",
    "    return test_loss"
   ]
  },
  {
   "cell_type": "code",
   "execution_count": 15,
   "id": "30871fd0",
   "metadata": {
    "execution": {
     "iopub.execute_input": "2024-05-04T05:43:28.558178Z",
     "iopub.status.busy": "2024-05-04T05:43:28.557616Z",
     "iopub.status.idle": "2024-05-04T05:43:28.571235Z",
     "shell.execute_reply": "2024-05-04T05:43:28.570399Z"
    },
    "papermill": {
     "duration": 0.025477,
     "end_time": "2024-05-04T05:43:28.573113",
     "exception": false,
     "start_time": "2024-05-04T05:43:28.547636",
     "status": "completed"
    },
    "tags": []
   },
   "outputs": [],
   "source": [
    "def batch_gd_scheduler(model, new_model_name, criterion, optimizer, train_loader, val_loader, scheduler,\n",
    "                         epochs, device, batch_size=128,  cnn = False):\n",
    "    train_losses = np.zeros(epochs)\n",
    "    test_losses = np.zeros(epochs)\n",
    "    patience = 0\n",
    "    best_loss = 1000\n",
    "    max_patience = 20\n",
    "    for i in range(epochs):\n",
    "        t0 = datetime.now()\n",
    "        train_loss = train_one_epoch(model, criterion, optimizer,train_loader)\n",
    "        test_loss = validate_one_epoch(model, criterion, optimizer,val_loader)\n",
    "        #Early stopping based on test loss\n",
    "        if i == 0:\n",
    "            best_loss = test_loss   \n",
    "            torch.save(model, f'/kaggle/working/saved_models/{new_model_name}.pt')\n",
    "            print(f'Model saved as {new_model_name} at epoch {i}')\n",
    "        else:\n",
    "            if test_loss < best_loss:\n",
    "                best_loss = test_loss\n",
    "                torch.save(model, f'/kaggle/working/saved_models/{new_model_name}.pt')\n",
    "                print(f'Model overwritten at epoch {i}, new best val loss {best_loss}')\n",
    "                patience = 0\n",
    "            else:\n",
    "                patience = patience +1\n",
    "                #print(f'No improvement, current patience level is {patience} at epoch {i}')\n",
    "        if patience > max_patience:\n",
    "            print(f'Max patience reached, training is terminated at epoch {i}')\n",
    "            break\n",
    "        #Apply scheduler after the train+validate parts\n",
    "        before_lr = optimizer.param_groups[0][\"lr\"]\n",
    "        scheduler.step(test_loss)\n",
    "        after_lr = optimizer.param_groups[0][\"lr\"]\n",
    "        train_losses[i] = train_loss\n",
    "        test_losses[i] = test_loss\n",
    "        #write the losses into a csv fil\n",
    "        loss_dict = {'train_loss': train_losses, 'val_loss': test_losses}\n",
    "        dd = pd.DataFrame(loss_dict)\n",
    "        dd.to_csv('loss_dict_cnn_lstm_400.csv', index = False)\n",
    "        dt = datetime.now()-t0\n",
    "        if i%10==0:\n",
    "            print(f'Epoch: {i+1}/{epochs}, train loss: {train_loss: .3f}, val_loss: {test_loss: .3f}, duration: {dt}, learning rate: {before_lr, after_lr}')\n",
    "    return train_losses, test_losses"
   ]
  },
  {
   "cell_type": "code",
   "execution_count": 16,
   "id": "48960f7f",
   "metadata": {
    "execution": {
     "iopub.execute_input": "2024-05-04T05:43:28.592228Z",
     "iopub.status.busy": "2024-05-04T05:43:28.591628Z",
     "iopub.status.idle": "2024-05-04T05:43:28.599278Z",
     "shell.execute_reply": "2024-05-04T05:43:28.598451Z"
    },
    "papermill": {
     "duration": 0.019532,
     "end_time": "2024-05-04T05:43:28.601501",
     "exception": false,
     "start_time": "2024-05-04T05:43:28.581969",
     "status": "completed"
    },
    "tags": []
   },
   "outputs": [],
   "source": [
    "def train_from_scratch_or_load(load_model_weight,new_model_name, epochs, cnn = False):    \n",
    "    if load_model_weight==None:\n",
    "        #criterion = nn.MSELoss()\n",
    "        criterion = nn.HuberLoss()\n",
    "        optimizer = torch.optim.AdamW(model.parameters(), lr=0.01)\n",
    "        scheduler = lr_scheduler.ReduceLROnPlateau(optimizer, 'min', factor=0.1, min_lr = 1e-8)\n",
    "        train_losses, test_losses=batch_gd_scheduler(model, new_model_name, criterion, \n",
    "                                                     optimizer,train_loader, val_loader,\n",
    "                                                      scheduler, epochs, \n",
    "                                                       device = device, cnn=cnn)\n",
    "        return train_losses, test_losses\n",
    "    else:\n",
    "        if torch.cuda.is_available():\n",
    "            trained_model = torch.load(load_model_weight)     \n",
    "        else:\n",
    "            trained_model = torch.load(load_model_weight, map_location=torch.device('cpu'))       \n",
    "        return trained_model"
   ]
  },
  {
   "cell_type": "code",
   "execution_count": 17,
   "id": "314a260a",
   "metadata": {
    "execution": {
     "iopub.execute_input": "2024-05-04T05:43:28.622892Z",
     "iopub.status.busy": "2024-05-04T05:43:28.622638Z",
     "iopub.status.idle": "2024-05-04T05:43:28.628103Z",
     "shell.execute_reply": "2024-05-04T05:43:28.627413Z"
    },
    "papermill": {
     "duration": 0.016709,
     "end_time": "2024-05-04T05:43:28.630051",
     "exception": false,
     "start_time": "2024-05-04T05:43:28.613342",
     "status": "completed"
    },
    "tags": []
   },
   "outputs": [],
   "source": [
    "def load_and_retrain(load_model_weight, new_model_name, epochs, cnn=False):\n",
    "    trained_model = torch.load(load_model_weight) \n",
    "    #criterion = nn.MSELoss()\n",
    "    criterion = nn.HuberLoss()\n",
    "    optimizer = torch.optim.AdamW(trained_model.parameters(),lr=0.0001)\n",
    "    scheduler = lr_scheduler.ReduceLROnPlateau(optimizer, 'min', factor=0.5, min_lr = 5e-7)\n",
    "    trained_model.train()\n",
    "    train_losses, test_losses=batch_gd_scheduler(trained_model,new_model_name, criterion, optimizer,\n",
    "                                                 train_loader, val_loader, \n",
    "                                                 scheduler, epochs, \n",
    "                                                 device = device, cnn=cnn)\n",
    "    return trained_model, train_losses, test_losses"
   ]
  },
  {
   "cell_type": "code",
   "execution_count": 18,
   "id": "98d7af4d",
   "metadata": {
    "execution": {
     "iopub.execute_input": "2024-05-04T05:43:28.649200Z",
     "iopub.status.busy": "2024-05-04T05:43:28.648711Z",
     "iopub.status.idle": "2024-05-04T05:43:28.653907Z",
     "shell.execute_reply": "2024-05-04T05:43:28.652948Z"
    },
    "papermill": {
     "duration": 0.016896,
     "end_time": "2024-05-04T05:43:28.655806",
     "exception": false,
     "start_time": "2024-05-04T05:43:28.638910",
     "status": "completed"
    },
    "tags": []
   },
   "outputs": [],
   "source": [
    "def plot_losses(train_losses, test_losses):\n",
    "    # Plot the train loss and test loss per iteration\n",
    "    plt.plot(train_losses, label='train loss')\n",
    "    plt.plot(test_losses, label='val loss')\n",
    "    plt.legend()\n",
    "    plt.show()"
   ]
  },
  {
   "cell_type": "code",
   "execution_count": 19,
   "id": "1b6ec30d",
   "metadata": {
    "execution": {
     "iopub.execute_input": "2024-05-04T05:43:28.674879Z",
     "iopub.status.busy": "2024-05-04T05:43:28.674566Z",
     "iopub.status.idle": "2024-05-04T05:43:28.678939Z",
     "shell.execute_reply": "2024-05-04T05:43:28.678075Z"
    },
    "papermill": {
     "duration": 0.016036,
     "end_time": "2024-05-04T05:43:28.680844",
     "exception": false,
     "start_time": "2024-05-04T05:43:28.664808",
     "status": "completed"
    },
    "tags": []
   },
   "outputs": [],
   "source": [
    "if not os.path.exists('saved_models'):\n",
    "    os.makedirs('saved_models')"
   ]
  },
  {
   "cell_type": "code",
   "execution_count": 20,
   "id": "7ed9be21",
   "metadata": {
    "execution": {
     "iopub.execute_input": "2024-05-04T05:43:28.699299Z",
     "iopub.status.busy": "2024-05-04T05:43:28.698983Z",
     "iopub.status.idle": "2024-05-04T05:43:28.713480Z",
     "shell.execute_reply": "2024-05-04T05:43:28.712679Z"
    },
    "papermill": {
     "duration": 0.025941,
     "end_time": "2024-05-04T05:43:28.715354",
     "exception": false,
     "start_time": "2024-05-04T05:43:28.689413",
     "status": "completed"
    },
    "tags": []
   },
   "outputs": [],
   "source": [
    "################## GET PREDICTIONS + ACCURACY #####################\n",
    "def get_pred_n_acc(models, device, dataloader, num_iter):\n",
    "    i = 0\n",
    "    ypreds =[]\n",
    "    targets = []\n",
    "    #The last batch might not have size 128\n",
    "    while i< num_iter:\n",
    "        for data, target in dataloader:\n",
    "            #this empty list is to hold all models' preds\n",
    "            ypred = []    \n",
    "            data= data.to(device)\n",
    "            data = data.to(torch.float32)\n",
    "            target = target.to(torch.float32)\n",
    "            #append the 'i^th' target\n",
    "            targets.append(target)\n",
    "            for model in models:\n",
    "                model.eval()\n",
    "                yp = model(data)\n",
    "                yp = yp.detach().cpu().numpy()\n",
    "                ypred.append(yp)\n",
    "            #take the mean of all models' predictions\n",
    "            ypred = np.array(ypred).mean(axis = 0)\n",
    "            ypred = np.round(ypred)\n",
    "            i+=1\n",
    "            #append ypred, targets inside the 'i' loop\n",
    "            # append the 'i^th' mean prediction\n",
    "            ypreds.append(ypred)   \n",
    "            if i == num_iter:\n",
    "                break \n",
    "     #Do not convert ypreds, targets to np.array at this point,\n",
    "    #since the last batch has a different size, causing an error !\n",
    "    #CALCULATING ACCURACY    \n",
    "    yp =  np.concatenate([ypreds[j] for j in range(len(ypreds))], axis = 0)\n",
    "    tgs =  np.concatenate([targets[j] for j in range(len(targets))], axis = 0)\n",
    "    h11_acc = ((yp[:,0] == tgs[:,0]).sum())/len(yp)\n",
    "    h21_acc = ((yp[:,1] == tgs[:,1]).sum())/len(yp)\n",
    "    h31_acc = ((yp[:,2] == tgs[:,2]).sum())/len(yp)\n",
    "    h22_acc = ((yp[:,3] == tgs[:,3]).sum())/len(yp)\n",
    "    acc = [h11_acc*100,h21_acc*100,h31_acc*100,h22_acc*100 ]\n",
    "    return  yp, tgs, acc\n"
   ]
  },
  {
   "cell_type": "markdown",
   "id": "2222a4fa",
   "metadata": {
    "papermill": {
     "duration": 0.008737,
     "end_time": "2024-05-04T05:43:28.732832",
     "exception": false,
     "start_time": "2024-05-04T05:43:28.724095",
     "status": "completed"
    },
    "tags": []
   },
   "source": [
    "# Load trained model and verify accuracies"
   ]
  },
  {
   "cell_type": "code",
   "execution_count": 21,
   "id": "b16d613d",
   "metadata": {
    "execution": {
     "iopub.execute_input": "2024-05-04T05:43:28.751338Z",
     "iopub.status.busy": "2024-05-04T05:43:28.750576Z",
     "iopub.status.idle": "2024-05-04T12:04:46.387410Z",
     "shell.execute_reply": "2024-05-04T12:04:46.386307Z"
    },
    "papermill": {
     "duration": 22877.669343,
     "end_time": "2024-05-04T12:04:46.410715",
     "exception": false,
     "start_time": "2024-05-04T05:43:28.741372",
     "status": "completed"
    },
    "tags": []
   },
   "outputs": [
    {
     "name": "stdout",
     "output_type": "stream",
     "text": [
      "Model saved as CNN-LSTM-400 at epoch 0\n",
      "Epoch: 1/550, train loss:  6.196, val_loss:  4.918, duration: 0:00:58.130327, learning rate: (0.01, 0.01)\n",
      "Model overwritten at epoch 1, new best val loss 4.504559063196603\n",
      "Model overwritten at epoch 4, new best val loss 4.36858408371187\n",
      "Model overwritten at epoch 6, new best val loss 4.30857674491048\n",
      "Model overwritten at epoch 9, new best val loss 4.284748919636694\n",
      "Epoch: 11/550, train loss:  4.384, val_loss:  4.665, duration: 0:00:57.248493, learning rate: (0.01, 0.01)\n",
      "Model overwritten at epoch 12, new best val loss 4.23003915504173\n",
      "Model overwritten at epoch 13, new best val loss 4.228634829664146\n",
      "Model overwritten at epoch 15, new best val loss 4.174696925666177\n",
      "Model overwritten at epoch 16, new best val loss 4.089654391404813\n",
      "Epoch: 21/550, train loss:  4.287, val_loss:  4.116, duration: 0:00:57.103418, learning rate: (0.01, 0.01)\n",
      "Model overwritten at epoch 22, new best val loss 4.077918743540581\n",
      "Model overwritten at epoch 28, new best val loss 4.056186033935143\n",
      "Epoch: 31/550, train loss:  4.181, val_loss:  4.289, duration: 0:00:57.239879, learning rate: (0.01, 0.01)\n",
      "Model overwritten at epoch 40, new best val loss 3.590140271649369\n",
      "Epoch: 41/550, train loss:  3.599, val_loss:  3.590, duration: 0:00:57.314106, learning rate: (0.001, 0.001)\n",
      "Model overwritten at epoch 41, new best val loss 3.5100469942446106\n",
      "Model overwritten at epoch 43, new best val loss 3.4416625714175915\n",
      "Model overwritten at epoch 45, new best val loss 3.397729741622952\n",
      "Model overwritten at epoch 46, new best val loss 3.3895906527416626\n",
      "Model overwritten at epoch 47, new best val loss 3.3623628683611617\n",
      "Model overwritten at epoch 50, new best val loss 3.3479042641910506\n",
      "Epoch: 51/550, train loss:  3.256, val_loss:  3.348, duration: 0:00:57.318820, learning rate: (0.001, 0.001)\n",
      "Model overwritten at epoch 51, new best val loss 3.3293209681435236\n",
      "Model overwritten at epoch 54, new best val loss 3.3116640014412964\n",
      "Model overwritten at epoch 59, new best val loss 3.3099349529024154\n",
      "Epoch: 61/550, train loss:  3.202, val_loss:  3.312, duration: 0:00:57.084998, learning rate: (0.001, 0.001)\n",
      "Model overwritten at epoch 61, new best val loss 3.28266946769055\n",
      "Model overwritten at epoch 62, new best val loss 3.28225267669301\n",
      "Model overwritten at epoch 64, new best val loss 3.2808079378945485\n",
      "Model overwritten at epoch 65, new best val loss 3.272930197404596\n",
      "Model overwritten at epoch 66, new best val loss 3.254803485550788\n",
      "Model overwritten at epoch 68, new best val loss 3.2142881237009844\n",
      "Epoch: 71/550, train loss:  3.146, val_loss:  3.216, duration: 0:00:57.010921, learning rate: (0.001, 0.001)\n",
      "Model overwritten at epoch 74, new best val loss 3.208400891571449\n",
      "Model overwritten at epoch 78, new best val loss 3.1976017590342796\n",
      "Epoch: 81/550, train loss:  3.116, val_loss:  3.276, duration: 0:00:57.390261, learning rate: (0.001, 0.001)\n",
      "Model overwritten at epoch 84, new best val loss 3.18394558139579\n",
      "Model overwritten at epoch 87, new best val loss 3.180904957772983\n",
      "Epoch: 91/550, train loss:  3.082, val_loss:  3.242, duration: 0:00:57.369787, learning rate: (0.001, 0.001)\n",
      "Model overwritten at epoch 96, new best val loss 3.155682621389049\n",
      "Model overwritten at epoch 99, new best val loss 3.1460275275787137\n",
      "Epoch: 101/550, train loss:  3.056, val_loss:  3.147, duration: 0:00:57.330516, learning rate: (0.001, 0.001)\n",
      "Model overwritten at epoch 107, new best val loss 3.1454113021729486\n",
      "Epoch: 111/550, train loss:  3.027, val_loss:  3.251, duration: 0:00:57.271889, learning rate: (0.001, 0.001)\n",
      "Model overwritten at epoch 112, new best val loss 3.1405748845828696\n",
      "Model overwritten at epoch 113, new best val loss 3.1143528645631497\n",
      "Model overwritten at epoch 117, new best val loss 3.0684829338517767\n",
      "Model overwritten at epoch 118, new best val loss 2.9840081730427146\n",
      "Model overwritten at epoch 119, new best val loss 2.885280813910133\n",
      "Model overwritten at epoch 120, new best val loss 2.766543979997988\n",
      "Epoch: 121/550, train loss:  2.730, val_loss:  2.767, duration: 0:00:57.239720, learning rate: (0.001, 0.001)\n",
      "Model overwritten at epoch 121, new best val loss 2.6431127811865833\n",
      "Model overwritten at epoch 122, new best val loss 2.635807759337114\n",
      "Model overwritten at epoch 123, new best val loss 2.4348253245076172\n",
      "Model overwritten at epoch 124, new best val loss 2.268230653313733\n",
      "Model overwritten at epoch 125, new best val loss 2.1250881547440086\n",
      "Model overwritten at epoch 126, new best val loss 2.0014094593663696\n",
      "Model overwritten at epoch 127, new best val loss 1.89166589178526\n",
      "Model overwritten at epoch 128, new best val loss 1.7508160363639684\n",
      "Model overwritten at epoch 129, new best val loss 1.711770103932268\n",
      "Model overwritten at epoch 130, new best val loss 1.6816379332248075\n",
      "Epoch: 131/550, train loss:  1.633, val_loss:  1.682, duration: 0:00:57.223854, learning rate: (0.001, 0.001)\n",
      "Model overwritten at epoch 131, new best val loss 1.6321431959747636\n",
      "Model overwritten at epoch 132, new best val loss 1.4873076635273255\n",
      "Model overwritten at epoch 134, new best val loss 1.4608104090211254\n",
      "Model overwritten at epoch 135, new best val loss 1.3942403612523693\n",
      "Model overwritten at epoch 136, new best val loss 1.3014192184863687\n",
      "Model overwritten at epoch 139, new best val loss 1.2399657836456568\n",
      "Epoch: 141/550, train loss:  1.197, val_loss:  1.311, duration: 0:00:57.062954, learning rate: (0.001, 0.001)\n",
      "Model overwritten at epoch 141, new best val loss 1.2164128908930212\n",
      "Model overwritten at epoch 144, new best val loss 1.1998641424708896\n",
      "Model overwritten at epoch 146, new best val loss 1.1102622239677995\n",
      "Model overwritten at epoch 149, new best val loss 1.1099706143929213\n",
      "Epoch: 151/550, train loss:  1.015, val_loss:  1.148, duration: 0:00:57.062058, learning rate: (0.001, 0.001)\n",
      "Model overwritten at epoch 151, new best val loss 1.086994970917071\n",
      "Model overwritten at epoch 152, new best val loss 1.0734183697893926\n",
      "Model overwritten at epoch 153, new best val loss 1.0084177820140092\n",
      "Model overwritten at epoch 155, new best val loss 1.007503979841027\n",
      "Model overwritten at epoch 159, new best val loss 0.9871912721603636\n",
      "Model overwritten at epoch 160, new best val loss 0.9560914804906021\n",
      "Epoch: 161/550, train loss:  0.890, val_loss:  0.956, duration: 0:00:57.083784, learning rate: (0.001, 0.001)\n",
      "Model overwritten at epoch 163, new best val loss 0.8992311401552203\n",
      "Model overwritten at epoch 165, new best val loss 0.887698557116157\n",
      "Model overwritten at epoch 166, new best val loss 0.8825806270516108\n",
      "Model overwritten at epoch 167, new best val loss 0.8752832964614585\n",
      "Epoch: 171/550, train loss:  0.781, val_loss:  0.965, duration: 0:00:57.034738, learning rate: (0.001, 0.001)\n",
      "Model overwritten at epoch 171, new best val loss 0.8346861607183225\n",
      "Model overwritten at epoch 173, new best val loss 0.8313358442913708\n",
      "Model overwritten at epoch 177, new best val loss 0.7999136645011801\n",
      "Model overwritten at epoch 180, new best val loss 0.7765799616800204\n",
      "Epoch: 181/550, train loss:  0.682, val_loss:  0.777, duration: 0:00:57.015930, learning rate: (0.001, 0.001)\n",
      "Model overwritten at epoch 181, new best val loss 0.7474672059007843\n",
      "Model overwritten at epoch 183, new best val loss 0.7036713015360386\n",
      "Model overwritten at epoch 188, new best val loss 0.7013973956385617\n",
      "Model overwritten at epoch 189, new best val loss 0.6667733221352626\n",
      "Epoch: 191/550, train loss:  0.597, val_loss:  0.741, duration: 0:00:56.998297, learning rate: (0.001, 0.001)\n",
      "Model overwritten at epoch 197, new best val loss 0.6596455200323983\n",
      "Model overwritten at epoch 198, new best val loss 0.6182122590838286\n",
      "Epoch: 201/550, train loss:  0.528, val_loss:  0.628, duration: 0:00:57.557346, learning rate: (0.001, 0.001)\n",
      "Model overwritten at epoch 202, new best val loss 0.6149799507866881\n",
      "Model overwritten at epoch 203, new best val loss 0.61443521295275\n",
      "Model overwritten at epoch 204, new best val loss 0.5802403787246246\n",
      "Model overwritten at epoch 205, new best val loss 0.5625032170739754\n",
      "Model overwritten at epoch 209, new best val loss 0.5439760924909901\n",
      "Epoch: 211/550, train loss:  0.468, val_loss:  0.659, duration: 0:00:57.249602, learning rate: (0.001, 0.001)\n",
      "Model overwritten at epoch 212, new best val loss 0.5035470391392077\n",
      "Model overwritten at epoch 220, new best val loss 0.4945731395346357\n",
      "Epoch: 221/550, train loss:  0.431, val_loss:  0.495, duration: 0:00:57.139981, learning rate: (0.001, 0.001)\n",
      "Model overwritten at epoch 222, new best val loss 0.4779440764817401\n",
      "Model overwritten at epoch 223, new best val loss 0.4526608876713159\n",
      "Model overwritten at epoch 230, new best val loss 0.43377796272752145\n",
      "Epoch: 231/550, train loss:  0.392, val_loss:  0.434, duration: 0:00:57.385835, learning rate: (0.001, 0.001)\n",
      "Model overwritten at epoch 233, new best val loss 0.4214472306573622\n",
      "Model overwritten at epoch 238, new best val loss 0.3961589086991349\n",
      "Model overwritten at epoch 240, new best val loss 0.3912766214453564\n",
      "Epoch: 241/550, train loss:  0.358, val_loss:  0.391, duration: 0:00:57.288189, learning rate: (0.001, 0.001)\n",
      "Model overwritten at epoch 244, new best val loss 0.3794945025228529\n",
      "Epoch: 251/550, train loss:  0.334, val_loss:  0.383, duration: 0:00:57.363621, learning rate: (0.001, 0.001)\n",
      "Model overwritten at epoch 252, new best val loss 0.3723524767228745\n",
      "Model overwritten at epoch 259, new best val loss 0.33360419087309057\n",
      "Epoch: 261/550, train loss:  0.312, val_loss:  0.371, duration: 0:00:57.084099, learning rate: (0.001, 0.001)\n",
      "Model overwritten at epoch 265, new best val loss 0.33342588084505137\n",
      "Model overwritten at epoch 270, new best val loss 0.33233422477199076\n",
      "Epoch: 271/550, train loss:  0.303, val_loss:  0.332, duration: 0:00:57.237577, learning rate: (0.001, 0.001)\n",
      "Model overwritten at epoch 274, new best val loss 0.3179037353217707\n",
      "Model overwritten at epoch 278, new best val loss 0.311307438440634\n",
      "Epoch: 281/550, train loss:  0.282, val_loss:  0.405, duration: 0:00:57.098279, learning rate: (0.001, 0.001)\n",
      "Model overwritten at epoch 281, new best val loss 0.30847899994206807\n",
      "Model overwritten at epoch 282, new best val loss 0.2997797524434969\n",
      "Model overwritten at epoch 285, new best val loss 0.28613121119020685\n",
      "Model overwritten at epoch 288, new best val loss 0.2798749123563632\n",
      "Epoch: 291/550, train loss:  0.271, val_loss:  0.612, duration: 0:00:57.281722, learning rate: (0.001, 0.001)\n",
      "Model overwritten at epoch 294, new best val loss 0.27299108709712927\n",
      "Epoch: 301/550, train loss:  0.257, val_loss:  0.371, duration: 0:00:57.156883, learning rate: (0.001, 0.001)\n",
      "Model overwritten at epoch 306, new best val loss 0.15993344938839132\n",
      "Model overwritten at epoch 307, new best val loss 0.14136014311086564\n",
      "Model overwritten at epoch 308, new best val loss 0.13368752039640458\n",
      "Model overwritten at epoch 309, new best val loss 0.12781469140865395\n",
      "Model overwritten at epoch 310, new best val loss 0.1187637427286286\n",
      "Epoch: 311/550, train loss:  0.053, val_loss:  0.119, duration: 0:00:57.044757, learning rate: (0.0001, 0.0001)\n",
      "Model overwritten at epoch 311, new best val loss 0.11531775387913987\n",
      "Model overwritten at epoch 312, new best val loss 0.11223911574829823\n",
      "Model overwritten at epoch 313, new best val loss 0.11047272779034349\n",
      "Model overwritten at epoch 314, new best val loss 0.10797309494418021\n",
      "Model overwritten at epoch 315, new best val loss 0.10733379946604397\n",
      "Model overwritten at epoch 316, new best val loss 0.10530972784973117\n",
      "Model overwritten at epoch 317, new best val loss 0.10246191746054292\n",
      "Model overwritten at epoch 318, new best val loss 0.10159046845789835\n",
      "Model overwritten at epoch 319, new best val loss 0.10138237700720418\n",
      "Model overwritten at epoch 320, new best val loss 0.10044897729744462\n",
      "Epoch: 321/550, train loss:  0.028, val_loss:  0.100, duration: 0:00:57.186332, learning rate: (0.0001, 0.0001)\n",
      "Model overwritten at epoch 321, new best val loss 0.10023383032431994\n",
      "Model overwritten at epoch 322, new best val loss 0.09896048845647715\n",
      "Model overwritten at epoch 323, new best val loss 0.0971326527055977\n",
      "Model overwritten at epoch 327, new best val loss 0.09434810594197303\n",
      "Epoch: 331/550, train loss:  0.020, val_loss:  0.095, duration: 0:00:57.140071, learning rate: (0.0001, 0.0001)\n",
      "Model overwritten at epoch 332, new best val loss 0.09415504490756274\n",
      "Model overwritten at epoch 335, new best val loss 0.09362611816489717\n",
      "Model overwritten at epoch 337, new best val loss 0.09276893376528796\n",
      "Model overwritten at epoch 339, new best val loss 0.09241552419001253\n",
      "Epoch: 341/550, train loss:  0.017, val_loss:  0.095, duration: 0:00:57.132863, learning rate: (0.0001, 0.0001)\n",
      "Model overwritten at epoch 341, new best val loss 0.09032095947041713\n",
      "Model overwritten at epoch 346, new best val loss 0.0900130929027863\n",
      "Model overwritten at epoch 347, new best val loss 0.08966288075665738\n",
      "Model overwritten at epoch 349, new best val loss 0.08942942724380859\n",
      "Epoch: 351/550, train loss:  0.016, val_loss:  0.092, duration: 0:00:57.241470, learning rate: (0.0001, 0.0001)\n",
      "Model overwritten at epoch 359, new best val loss 0.08829014255571618\n",
      "Epoch: 361/550, train loss:  0.015, val_loss:  0.091, duration: 0:00:57.185056, learning rate: (0.0001, 0.0001)\n",
      "Epoch: 371/550, train loss:  0.015, val_loss:  0.089, duration: 0:00:57.222741, learning rate: (0.0001, 1e-05)\n",
      "Model overwritten at epoch 371, new best val loss 0.08452753847829564\n",
      "Model overwritten at epoch 372, new best val loss 0.08383301504258546\n",
      "Model overwritten at epoch 374, new best val loss 0.08355317395870332\n",
      "Model overwritten at epoch 377, new best val loss 0.0835344961875593\n",
      "Model overwritten at epoch 378, new best val loss 0.08336014804845869\n",
      "Epoch: 381/550, train loss:  0.005, val_loss:  0.084, duration: 0:00:57.231147, learning rate: (1e-05, 1e-05)\n",
      "Epoch: 391/550, train loss:  0.004, val_loss:  0.084, duration: 0:00:57.277323, learning rate: (1.0000000000000002e-06, 1.0000000000000002e-06)\n",
      "Max patience reached, training is terminated at epoch 399\n"
     ]
    }
   ],
   "source": [
    "load_model_weight = None\n",
    "epochs = 550\n",
    "new_model_name = 'CNN-LSTM-400'\n",
    "if load_model_weight is None:   \n",
    "    train_losses, test_losses=train_from_scratch_or_load(load_model_weight,new_model_name,  epochs, cnn = False)\n",
    "else:\n",
    "    trained_model_v00 = train_from_scratch_or_load(load_model_weight, new_model_name, epochs, cnn = False)\n",
    "    #Train accuracy\n",
    "    yt, tgt, acct = get_pred_n_acc([trained_model_v00], device, train_loader, num_iter = len(train_loader))\n",
    "    #validation accuracy\n",
    "    yv, tgv, accv = get_pred_n_acc([trained_model_v00], device, val_loader, num_iter = len(val_loader))\n",
    "    print(f'Train data, target shapes: {yt.shape, tgt.shape},\\n train accuracies {acct}')\n",
    "    print(f'Validation data, target shapes: {yv.shape, tgv.shape},\\n validation accuracies {accv}')\n",
    "    #Test accuracy\n",
    "    yts, tgts, accts = get_pred_n_acc([trained_model_v00], device, test_loader, num_iter = len(test_loader))\n",
    "    print(f'Test data, target shapes: {yts.shape, tgts.shape},\\n test accuracies {accts}')"
   ]
  },
  {
   "cell_type": "code",
   "execution_count": 22,
   "id": "1ab8b66e",
   "metadata": {
    "execution": {
     "iopub.execute_input": "2024-05-04T12:04:46.455394Z",
     "iopub.status.busy": "2024-05-04T12:04:46.455073Z",
     "iopub.status.idle": "2024-05-04T12:04:46.459231Z",
     "shell.execute_reply": "2024-05-04T12:04:46.458386Z"
    },
    "papermill": {
     "duration": 0.028192,
     "end_time": "2024-05-04T12:04:46.461088",
     "exception": false,
     "start_time": "2024-05-04T12:04:46.432896",
     "status": "completed"
    },
    "tags": []
   },
   "outputs": [],
   "source": [
    "# (Re)train loop"
   ]
  },
  {
   "cell_type": "code",
   "execution_count": 23,
   "id": "de432161",
   "metadata": {
    "execution": {
     "iopub.execute_input": "2024-05-04T12:04:46.504931Z",
     "iopub.status.busy": "2024-05-04T12:04:46.504642Z",
     "iopub.status.idle": "2024-05-04T12:04:46.508654Z",
     "shell.execute_reply": "2024-05-04T12:04:46.507745Z"
    },
    "papermill": {
     "duration": 0.02838,
     "end_time": "2024-05-04T12:04:46.510589",
     "exception": false,
     "start_time": "2024-05-04T12:04:46.482209",
     "status": "completed"
    },
    "tags": []
   },
   "outputs": [],
   "source": [
    "#trained_model_v01, train_losses, test_losses = load_and_retrain(load_model_weight, new_model_name, epochs, cnn=False)"
   ]
  },
  {
   "cell_type": "code",
   "execution_count": 24,
   "id": "101bb2e2",
   "metadata": {
    "execution": {
     "iopub.execute_input": "2024-05-04T12:04:46.556063Z",
     "iopub.status.busy": "2024-05-04T12:04:46.555772Z",
     "iopub.status.idle": "2024-05-04T12:04:46.575491Z",
     "shell.execute_reply": "2024-05-04T12:04:46.574600Z"
    },
    "papermill": {
     "duration": 0.044477,
     "end_time": "2024-05-04T12:04:46.577515",
     "exception": false,
     "start_time": "2024-05-04T12:04:46.533038",
     "status": "completed"
    },
    "tags": []
   },
   "outputs": [
    {
     "data": {
      "text/html": [
       "<div>\n",
       "<style scoped>\n",
       "    .dataframe tbody tr th:only-of-type {\n",
       "        vertical-align: middle;\n",
       "    }\n",
       "\n",
       "    .dataframe tbody tr th {\n",
       "        vertical-align: top;\n",
       "    }\n",
       "\n",
       "    .dataframe thead th {\n",
       "        text-align: right;\n",
       "    }\n",
       "</style>\n",
       "<table border=\"1\" class=\"dataframe\">\n",
       "  <thead>\n",
       "    <tr style=\"text-align: right;\">\n",
       "      <th></th>\n",
       "      <th>train_loss</th>\n",
       "      <th>val_loss</th>\n",
       "    </tr>\n",
       "  </thead>\n",
       "  <tbody>\n",
       "    <tr>\n",
       "      <th>0</th>\n",
       "      <td>6.195759</td>\n",
       "      <td>4.917875</td>\n",
       "    </tr>\n",
       "    <tr>\n",
       "      <th>1</th>\n",
       "      <td>5.175456</td>\n",
       "      <td>4.504559</td>\n",
       "    </tr>\n",
       "    <tr>\n",
       "      <th>2</th>\n",
       "      <td>4.885787</td>\n",
       "      <td>4.739056</td>\n",
       "    </tr>\n",
       "    <tr>\n",
       "      <th>3</th>\n",
       "      <td>4.694159</td>\n",
       "      <td>4.562169</td>\n",
       "    </tr>\n",
       "    <tr>\n",
       "      <th>4</th>\n",
       "      <td>4.626456</td>\n",
       "      <td>4.368584</td>\n",
       "    </tr>\n",
       "  </tbody>\n",
       "</table>\n",
       "</div>"
      ],
      "text/plain": [
       "   train_loss  val_loss\n",
       "0    6.195759  4.917875\n",
       "1    5.175456  4.504559\n",
       "2    4.885787  4.739056\n",
       "3    4.694159  4.562169\n",
       "4    4.626456  4.368584"
      ]
     },
     "execution_count": 24,
     "metadata": {},
     "output_type": "execute_result"
    }
   ],
   "source": [
    "import pandas as pd\n",
    "loss_dict = {'train_loss': train_losses, 'val_loss': test_losses}\n",
    "dd = pd.DataFrame(loss_dict)\n",
    "dd.to_csv('loss_dict.csv', index = False)\n",
    "dd.head()"
   ]
  },
  {
   "cell_type": "code",
   "execution_count": 25,
   "id": "4dc5a1f4",
   "metadata": {
    "execution": {
     "iopub.execute_input": "2024-05-04T12:04:46.624908Z",
     "iopub.status.busy": "2024-05-04T12:04:46.624612Z",
     "iopub.status.idle": "2024-05-04T12:04:46.970485Z",
     "shell.execute_reply": "2024-05-04T12:04:46.969568Z"
    },
    "papermill": {
     "duration": 0.370642,
     "end_time": "2024-05-04T12:04:46.972430",
     "exception": false,
     "start_time": "2024-05-04T12:04:46.601788",
     "status": "completed"
    },
    "tags": []
   },
   "outputs": [
    {
     "data": {
      "image/png": "[encoded data removed]",
      "text/plain": [
       "<Figure size 640x480 with 1 Axes>"
      ]
     },
     "metadata": {},
     "output_type": "display_data"
    }
   ],
   "source": [
    "plot_losses(train_losses, test_losses)"
   ]
  },
  {
   "cell_type": "markdown",
   "id": "afc1f4ee",
   "metadata": {
    "papermill": {
     "duration": 0.022022,
     "end_time": "2024-05-04T12:04:47.017175",
     "exception": false,
     "start_time": "2024-05-04T12:04:46.995153",
     "status": "completed"
    },
    "tags": []
   },
   "source": [
    "# Train, validation, test accuracies"
   ]
  },
  {
   "cell_type": "code",
   "execution_count": 26,
   "id": "78cb7d3d",
   "metadata": {
    "execution": {
     "iopub.execute_input": "2024-05-04T12:04:47.062341Z",
     "iopub.status.busy": "2024-05-04T12:04:47.062050Z",
     "iopub.status.idle": "2024-05-04T12:05:13.399591Z",
     "shell.execute_reply": "2024-05-04T12:05:13.398524Z"
    },
    "papermill": {
     "duration": 26.362993,
     "end_time": "2024-05-04T12:05:13.402197",
     "exception": false,
     "start_time": "2024-05-04T12:04:47.039204",
     "status": "completed"
    },
    "tags": []
   },
   "outputs": [
    {
     "name": "stdout",
     "output_type": "stream",
     "text": [
      "Train data, target shapes: ((652092, 4), (652092, 4)),\n",
      " train accuracies [99.98987872876833, 99.89618029357821, 99.95491433724075, 99.77794544328101]\n",
      "Validation data, target shapes: ((72455, 4), (72455, 4)),\n",
      " validation accuracies [99.7253467669588, 98.13953488372093, 95.15837416327375, 81.20212545718032]\n"
     ]
    }
   ],
   "source": [
    "#Train accuracy\n",
    "yt, tgt, acct = get_pred_n_acc([model], device, train_loader, num_iter = len(train_loader))\n",
    "#validation accuracy\n",
    "yv, tgv, accv = get_pred_n_acc([model], device, val_loader, num_iter = len(val_loader))\n",
    "print(f'Train data, target shapes: {yt.shape, tgt.shape},\\n train accuracies {acct}')\n",
    "print(f'Validation data, target shapes: {yv.shape, tgv.shape},\\n validation accuracies {accv}')"
   ]
  },
  {
   "cell_type": "code",
   "execution_count": 27,
   "id": "404862b3",
   "metadata": {
    "execution": {
     "iopub.execute_input": "2024-05-04T12:05:13.453155Z",
     "iopub.status.busy": "2024-05-04T12:05:13.452831Z",
     "iopub.status.idle": "2024-05-04T12:05:19.849056Z",
     "shell.execute_reply": "2024-05-04T12:05:19.847924Z"
    },
    "papermill": {
     "duration": 6.424039,
     "end_time": "2024-05-04T12:05:19.851214",
     "exception": false,
     "start_time": "2024-05-04T12:05:13.427175",
     "status": "completed"
    },
    "tags": []
   },
   "outputs": [
    {
     "name": "stdout",
     "output_type": "stream",
     "text": [
      "Test data, target shapes: ((181137, 4), (181137, 4)),\n",
      " test accuracies [99.74880891259103, 98.07383361764852, 95.18596421493125, 81.17888669901787]\n"
     ]
    }
   ],
   "source": [
    "#Test accuracy\n",
    "yts, tgts, accts = get_pred_n_acc([model], device, test_loader, num_iter = len(test_loader))\n",
    "print(f'Test data, target shapes: {yts.shape, tgts.shape},\\n test accuracies {accts}')"
   ]
  }
 ],
 "metadata": {
  "kaggle": {
   "accelerator": "gpu",
   "dataSources": [
    {
     "sourceId": 174871011,
     "sourceType": "kernelVersion"
    }
   ],
   "dockerImageVersionId": 30683,
   "isGpuEnabled": true,
   "isInternetEnabled": true,
   "language": "python",
   "sourceType": "notebook"
  },
  "kernelspec": {
   "display_name": "Python 3",
   "language": "python",
   "name": "python3"
  },
  "language_info": {
   "codemirror_mode": {
    "name": "ipython",
    "version": 3
   },
   "file_extension": ".py",
   "mimetype": "text/x-python",
   "name": "python",
   "nbconvert_exporter": "python",
   "pygments_lexer": "ipython3",
   "version": "3.10.13"
  },
  "papermill": {
   "default_parameters": {},
   "duration": 22935.802364,
   "end_time": "2024-05-04T12:05:22.381030",
   "environment_variables": {},
   "exception": null,
   "input_path": "__notebook__.ipynb",
   "output_path": "__notebook__.ipynb",
   "parameters": {},
   "start_time": "2024-05-04T05:43:06.578666",
   "version": "2.5.0"
  }
 },
 "nbformat": 4,
 "nbformat_minor": 5
}
