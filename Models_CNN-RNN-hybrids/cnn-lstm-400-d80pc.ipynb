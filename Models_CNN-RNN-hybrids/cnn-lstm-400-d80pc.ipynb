{
 "cells": [
  {
   "cell_type": "markdown",
   "id": "0b587c22",
   "metadata": {
    "papermill": {
     "duration": 0.008802,
     "end_time": "2024-05-22T08:44:45.214583",
     "exception": false,
     "start_time": "2024-05-22T08:44:45.205781",
     "status": "completed"
    },
    "tags": []
   },
   "source": [
    "# CICY4: CNN-LSTM-400 (80% data split)"
   ]
  },
  {
   "cell_type": "code",
   "execution_count": 1,
   "id": "5cbfd195",
   "metadata": {
    "_cell_guid": "b1076dfc-b9ad-4769-8c92-a6c4dae69d19",
    "_uuid": "8f2839f25d086af736a60e9eeb907d3b93b6e0e5",
    "execution": {
     "iopub.execute_input": "2024-05-22T08:44:45.231480Z",
     "iopub.status.busy": "2024-05-22T08:44:45.231113Z",
     "iopub.status.idle": "2024-05-22T08:44:50.776964Z",
     "shell.execute_reply": "2024-05-22T08:44:50.776177Z"
    },
    "papermill": {
     "duration": 5.556873,
     "end_time": "2024-05-22T08:44:50.779281",
     "exception": false,
     "start_time": "2024-05-22T08:44:45.222408",
     "status": "completed"
    },
    "tags": []
   },
   "outputs": [],
   "source": [
    "import numpy as np\n",
    "import pandas as pd\n",
    "import random\n",
    "import os as os\n",
    "import matplotlib.pyplot as plt\n",
    "import seaborn as sns\n",
    "from datetime import datetime\n",
    "sns.set_style(\"darkgrid\")\n",
    "\n",
    "import torch\n",
    "import torch.nn as nn\n",
    "import torch.nn.functional as F\n",
    "import torch.optim.lr_scheduler as lr_scheduler"
   ]
  },
  {
   "cell_type": "code",
   "execution_count": 2,
   "id": "bf059bdd",
   "metadata": {
    "execution": {
     "iopub.execute_input": "2024-05-22T08:44:50.797709Z",
     "iopub.status.busy": "2024-05-22T08:44:50.796949Z",
     "iopub.status.idle": "2024-05-22T08:44:50.848722Z",
     "shell.execute_reply": "2024-05-22T08:44:50.847792Z"
    },
    "papermill": {
     "duration": 0.063334,
     "end_time": "2024-05-22T08:44:50.850811",
     "exception": false,
     "start_time": "2024-05-22T08:44:50.787477",
     "status": "completed"
    },
    "tags": []
   },
   "outputs": [
    {
     "name": "stdout",
     "output_type": "stream",
     "text": [
      "cuda:0\n"
     ]
    }
   ],
   "source": [
    "device = torch.device(\"cuda:0\" if torch.cuda.is_available() else \"cpu\")\n",
    "print(device)"
   ]
  },
  {
   "cell_type": "code",
   "execution_count": 3,
   "id": "a14b704c",
   "metadata": {
    "execution": {
     "iopub.execute_input": "2024-05-22T08:44:50.867892Z",
     "iopub.status.busy": "2024-05-22T08:44:50.867624Z",
     "iopub.status.idle": "2024-05-22T08:44:50.875549Z",
     "shell.execute_reply": "2024-05-22T08:44:50.874884Z"
    },
    "papermill": {
     "duration": 0.018327,
     "end_time": "2024-05-22T08:44:50.877323",
     "exception": false,
     "start_time": "2024-05-22T08:44:50.858996",
     "status": "completed"
    },
    "tags": []
   },
   "outputs": [],
   "source": [
    "seed = 42\n",
    "\n",
    "def seed_everything(seed):\n",
    "    random.seed(seed)\n",
    "    os.environ['PYTHONHASHSEED'] = str(seed)\n",
    "    np.random.seed(seed)\n",
    "    torch.manual_seed(seed)\n",
    "    torch.cuda.manual_seed(seed)\n",
    "    torch.cuda.manual_seed_all(seed)\n",
    "    torch.backends.cudnn.deterministic = True\n",
    "\n",
    "seed_everything(seed)"
   ]
  },
  {
   "cell_type": "markdown",
   "id": "fcd6978e",
   "metadata": {
    "papermill": {
     "duration": 0.007845,
     "end_time": "2024-05-22T08:44:50.892963",
     "exception": false,
     "start_time": "2024-05-22T08:44:50.885118",
     "status": "completed"
    },
    "tags": []
   },
   "source": [
    "# CNN-LSTM network architecture"
   ]
  },
  {
   "cell_type": "code",
   "execution_count": 4,
   "id": "3850dec1",
   "metadata": {
    "execution": {
     "iopub.execute_input": "2024-05-22T08:44:50.910315Z",
     "iopub.status.busy": "2024-05-22T08:44:50.910030Z",
     "iopub.status.idle": "2024-05-22T08:44:50.916477Z",
     "shell.execute_reply": "2024-05-22T08:44:50.915657Z"
    },
    "papermill": {
     "duration": 0.017808,
     "end_time": "2024-05-22T08:44:50.918386",
     "exception": false,
     "start_time": "2024-05-22T08:44:50.900578",
     "status": "completed"
    },
    "tags": []
   },
   "outputs": [],
   "source": [
    "##################### CNN ###############################\n",
    "class CNN_block(nn.Module):  \n",
    "    def __init__(self):\n",
    "        super().__init__()\n",
    "        self.conv1 = nn.Conv2d(1,128, 4, 1)\n",
    "        self.conv2 = nn.Conv2d(128, 64, 3, 1)\n",
    "        self.mxpool = nn.MaxPool2d(2,2)\n",
    "        self.flat = nn.Flatten()\n",
    "        self.conv_total = nn.Sequential(\n",
    "            self.conv1,\n",
    "            self.mxpool,\n",
    "            self.conv2,\n",
    "            self.mxpool\n",
    "        )\n",
    "    def forward(self,x):\n",
    "        x = F.relu(self.conv_total(x))\n",
    "        #reshape is the same as flat(x)\n",
    "        #x = x.reshape(x.shape[0], -1)\n",
    "        x = self.flat(x)   \n",
    "        return x"
   ]
  },
  {
   "cell_type": "code",
   "execution_count": 5,
   "id": "b7004bb4",
   "metadata": {
    "execution": {
     "iopub.execute_input": "2024-05-22T08:44:50.934683Z",
     "iopub.status.busy": "2024-05-22T08:44:50.934420Z",
     "iopub.status.idle": "2024-05-22T08:44:50.941828Z",
     "shell.execute_reply": "2024-05-22T08:44:50.941098Z"
    },
    "papermill": {
     "duration": 0.018341,
     "end_time": "2024-05-22T08:44:50.944276",
     "exception": false,
     "start_time": "2024-05-22T08:44:50.925935",
     "status": "completed"
    },
    "tags": []
   },
   "outputs": [],
   "source": [
    "class LSTM_block(nn.Module):\n",
    "    def __init__(self, n_inputs, n_hidden, n_rnnlayers, n_outputs):\n",
    "        super(LSTM_block,self).__init__()\n",
    "        self.D = n_inputs\n",
    "        self.M = n_hidden\n",
    "        self.K = n_outputs\n",
    "        self.L = n_rnnlayers        \n",
    "        self.lstm = nn.LSTM(input_size = self.D,\n",
    "                           hidden_size = self.M,\n",
    "                           num_layers = self.L,\n",
    "                           batch_first = True)    \n",
    "    def forward(self, X):\n",
    "        #input X is NxTxD\n",
    "        #initial hidden states\n",
    "        h0 = torch.zeros(self.L, X.size(0), self.M).to(device)\n",
    "        c0 = torch.zeros(self.L, X.size(0), self.M).to(device)\n",
    "        #get LSTM unit output:\n",
    "        #output is NxTxM\n",
    "        out, _ = self.lstm(X, (h0,c0))\n",
    "        #out, _ = self.gru(X, h0)   \n",
    "        #we only want h(T) at the final time step\n",
    "        # output is now of shape (N, M)\n",
    "        out = out[:, -1, :]\n",
    "        return out"
   ]
  },
  {
   "cell_type": "code",
   "execution_count": 6,
   "id": "4ea286b3",
   "metadata": {
    "execution": {
     "iopub.execute_input": "2024-05-22T08:44:50.963634Z",
     "iopub.status.busy": "2024-05-22T08:44:50.963120Z",
     "iopub.status.idle": "2024-05-22T08:44:50.971850Z",
     "shell.execute_reply": "2024-05-22T08:44:50.970612Z"
    },
    "papermill": {
     "duration": 0.022017,
     "end_time": "2024-05-22T08:44:50.974295",
     "exception": false,
     "start_time": "2024-05-22T08:44:50.952278",
     "status": "completed"
    },
    "tags": []
   },
   "outputs": [],
   "source": [
    "class CNN_LSTM_hybrid(nn.Module):\n",
    "    def __init__(self, cnn_block, lstm_block, feat_vec_size):\n",
    "        super(CNN_LSTM_hybrid, self).__init__()\n",
    "        self.cnn_block = cnn_block\n",
    "        self.lstm_block = lstm_block\n",
    "        self.feat_vec_size = feat_vec_size\n",
    "        self.fc1 = nn.Linear(self.feat_vec_size, 1024)\n",
    "        self.fc2 = nn.Linear(1024, 4)       \n",
    "    def forward(self, x):\n",
    "        #output of cnn block is (N,384)\n",
    "        x1 = x.view(-1,1, 16,20)\n",
    "        x1 = self.cnn_block(x1)\n",
    "        #output of rnn block is (N,M)\n",
    "        x2 = self.lstm_block(x)\n",
    "        #concatenate the 2 outputs to produce a feat vec (N, M+384)\n",
    "        xx = torch.cat([x1, x2], dim = 1)\n",
    "        # pass through linear layers\n",
    "        xx = self.fc1(xx)\n",
    "        #final output is 4\n",
    "        xx = self.fc2(xx)       \n",
    "        return xx"
   ]
  },
  {
   "cell_type": "code",
   "execution_count": 7,
   "id": "a9d05855",
   "metadata": {
    "execution": {
     "iopub.execute_input": "2024-05-22T08:44:50.994001Z",
     "iopub.status.busy": "2024-05-22T08:44:50.993721Z",
     "iopub.status.idle": "2024-05-22T08:44:51.339450Z",
     "shell.execute_reply": "2024-05-22T08:44:51.338517Z"
    },
    "papermill": {
     "duration": 0.358877,
     "end_time": "2024-05-22T08:44:51.341414",
     "exception": false,
     "start_time": "2024-05-22T08:44:50.982537",
     "status": "completed"
    },
    "tags": []
   },
   "outputs": [
    {
     "data": {
      "text/plain": [
       "CNN_LSTM_hybrid(\n",
       "  (cnn_block): CNN_block(\n",
       "    (conv1): Conv2d(1, 128, kernel_size=(4, 4), stride=(1, 1))\n",
       "    (conv2): Conv2d(128, 64, kernel_size=(3, 3), stride=(1, 1))\n",
       "    (mxpool): MaxPool2d(kernel_size=2, stride=2, padding=0, dilation=1, ceil_mode=False)\n",
       "    (flat): Flatten(start_dim=1, end_dim=-1)\n",
       "    (conv_total): Sequential(\n",
       "      (0): Conv2d(1, 128, kernel_size=(4, 4), stride=(1, 1))\n",
       "      (1): MaxPool2d(kernel_size=2, stride=2, padding=0, dilation=1, ceil_mode=False)\n",
       "      (2): Conv2d(128, 64, kernel_size=(3, 3), stride=(1, 1))\n",
       "      (3): MaxPool2d(kernel_size=2, stride=2, padding=0, dilation=1, ceil_mode=False)\n",
       "    )\n",
       "  )\n",
       "  (lstm_block): LSTM_block(\n",
       "    (lstm): LSTM(20, 400, num_layers=2, batch_first=True)\n",
       "  )\n",
       "  (fc1): Linear(in_features=784, out_features=1024, bias=True)\n",
       "  (fc2): Linear(in_features=1024, out_features=4, bias=True)\n",
       ")"
      ]
     },
     "execution_count": 7,
     "metadata": {},
     "output_type": "execute_result"
    }
   ],
   "source": [
    "# Everything is the same as the best CNN-GRU model, \n",
    "#except that the GRU layer is replaced by the LSTM layer\n",
    "cnn_block = CNN_block()\n",
    "cnn_block.to(device)\n",
    "\n",
    "M_size = 400\n",
    "lstm_block = LSTM_block(20, M_size, 2, 4)\n",
    "lstm_block.to(device)\n",
    "\n",
    "model = CNN_LSTM_hybrid(cnn_block, lstm_block, M_size+384)\n",
    "model.to(device)"
   ]
  },
  {
   "cell_type": "code",
   "execution_count": 8,
   "id": "61acaaf0",
   "metadata": {
    "execution": {
     "iopub.execute_input": "2024-05-22T08:44:51.358555Z",
     "iopub.status.busy": "2024-05-22T08:44:51.358251Z",
     "iopub.status.idle": "2024-05-22T08:44:51.365296Z",
     "shell.execute_reply": "2024-05-22T08:44:51.364174Z"
    },
    "papermill": {
     "duration": 0.018365,
     "end_time": "2024-05-22T08:44:51.367831",
     "exception": false,
     "start_time": "2024-05-22T08:44:51.349466",
     "status": "completed"
    },
    "tags": []
   },
   "outputs": [
    {
     "name": "stdout",
     "output_type": "stream",
     "text": [
      "Total numbers of parameters for the CNN part: 75968\n",
      "\n",
      "Total numbers of parameters for the LSTM part: 1958400\n",
      "\n",
      "Total numbers of parameters: 2842308\n"
     ]
    }
   ],
   "source": [
    "#count the number of parameters in the model\n",
    "params_cnn = [p.numel() for p in cnn_block.parameters() if p.requires_grad]\n",
    "print(f'Total numbers of parameters for the CNN part: {sum(params_cnn)}\\n')\n",
    "\n",
    "#count the number of parameters in the model\n",
    "params_lstm = [p.numel() for p in lstm_block.parameters() if p.requires_grad]\n",
    "print(f'Total numbers of parameters for the LSTM part: {sum(params_lstm)}\\n')\n",
    "\n",
    "#count the number of parameters in the model\n",
    "params = [p.numel() for p in model.parameters() if p.requires_grad]\n",
    "print(f'Total numbers of parameters: {sum(params)}')"
   ]
  },
  {
   "cell_type": "markdown",
   "id": "a366514a",
   "metadata": {
    "papermill": {
     "duration": 0.009867,
     "end_time": "2024-05-22T08:44:51.388234",
     "exception": false,
     "start_time": "2024-05-22T08:44:51.378367",
     "status": "completed"
    },
    "tags": []
   },
   "source": [
    "# Load data, define custom dataset class and dataloaders"
   ]
  },
  {
   "cell_type": "code",
   "execution_count": 9,
   "id": "fe4f4eea",
   "metadata": {
    "execution": {
     "iopub.execute_input": "2024-05-22T08:44:51.406731Z",
     "iopub.status.busy": "2024-05-22T08:44:51.406425Z",
     "iopub.status.idle": "2024-05-22T08:45:05.727306Z",
     "shell.execute_reply": "2024-05-22T08:45:05.726306Z"
    },
    "papermill": {
     "duration": 14.332498,
     "end_time": "2024-05-22T08:45:05.729418",
     "exception": false,
     "start_time": "2024-05-22T08:44:51.396920",
     "status": "completed"
    },
    "tags": []
   },
   "outputs": [
    {
     "name": "stdout",
     "output_type": "stream",
     "text": [
      "(724547, 16, 20) (72455, 16, 20) (108682, 16, 20)\n",
      "(724547, 4) (72455, 4) (108682, 4)\n"
     ]
    }
   ],
   "source": [
    "X_train = np.load('/kaggle/input/calabi-yau-cicy-4-folds/conf_Xtrain_80.npy')\n",
    "X_test = np.load('/kaggle/input/calabi-yau-cicy-4-folds/conf_Xtest_80.npy')\n",
    "X_valid = np.load('/kaggle/input/calabi-yau-cicy-4-folds/conf_Xvalid.npy')\n",
    "\n",
    "y_train = np.load('/kaggle/input/calabi-yau-cicy-4-folds/hodge_ytrain_80.npy')\n",
    "y_test= np.load('/kaggle/input/calabi-yau-cicy-4-folds/hodge_ytest_80.npy')\n",
    "y_valid = np.load('/kaggle/input/calabi-yau-cicy-4-folds/hodge_yvalid.npy')\n",
    "\n",
    "print(X_train.shape, X_valid.shape, X_test.shape)\n",
    "print(y_train.shape, y_valid.shape, y_test.shape)"
   ]
  },
  {
   "cell_type": "code",
   "execution_count": 10,
   "id": "09d8fbf2",
   "metadata": {
    "execution": {
     "iopub.execute_input": "2024-05-22T08:45:05.747268Z",
     "iopub.status.busy": "2024-05-22T08:45:05.746921Z",
     "iopub.status.idle": "2024-05-22T08:45:06.205675Z",
     "shell.execute_reply": "2024-05-22T08:45:06.204874Z"
    },
    "papermill": {
     "duration": 0.470205,
     "end_time": "2024-05-22T08:45:06.207909",
     "exception": false,
     "start_time": "2024-05-22T08:45:05.737704",
     "status": "completed"
    },
    "tags": []
   },
   "outputs": [],
   "source": [
    "#Convert data to torch tensor with float32 precision \n",
    "#(needed to be compatible with the floating decision of the network parameters)\n",
    "X_train = torch.from_numpy(X_train.astype(np.float32))\n",
    "y_train = torch.from_numpy(y_train.astype(np.float32))\n",
    "\n",
    "X_valid = torch.from_numpy(X_valid.astype(np.float32)) \n",
    "y_valid = torch.from_numpy(y_valid.astype(np.float32)) \n",
    "\n",
    "X_test = torch.from_numpy(X_test.astype(np.float32)) \n",
    "y_test= torch.from_numpy(y_test.astype(np.float32)) "
   ]
  },
  {
   "cell_type": "code",
   "execution_count": 11,
   "id": "f3e77012",
   "metadata": {
    "execution": {
     "iopub.execute_input": "2024-05-22T08:45:06.225519Z",
     "iopub.status.busy": "2024-05-22T08:45:06.225218Z",
     "iopub.status.idle": "2024-05-22T08:45:06.231345Z",
     "shell.execute_reply": "2024-05-22T08:45:06.230488Z"
    },
    "papermill": {
     "duration": 0.016833,
     "end_time": "2024-05-22T08:45:06.233118",
     "exception": false,
     "start_time": "2024-05-22T08:45:06.216285",
     "status": "completed"
    },
    "tags": []
   },
   "outputs": [],
   "source": [
    "class CICY4Dataset(torch.utils.data.Dataset):\n",
    "    def __init__(self, X, y):\n",
    "        self.X = X\n",
    "        self.y = y        \n",
    "    def __len__(self):\n",
    "        return len(self.X)      \n",
    "    def __getitem__(self, idx):\n",
    "        X0 = self.X[idx]\n",
    "        y0 = self.y[idx]  \n",
    "        return X0, y0\n",
    "        \n",
    "train_set = CICY4Dataset(X_train, y_train)\n",
    "val_set = CICY4Dataset(X_valid, y_valid)\n",
    "test_set = CICY4Dataset(X_test, y_test)"
   ]
  },
  {
   "cell_type": "code",
   "execution_count": 12,
   "id": "8458e5d1",
   "metadata": {
    "execution": {
     "iopub.execute_input": "2024-05-22T08:45:06.250060Z",
     "iopub.status.busy": "2024-05-22T08:45:06.249782Z",
     "iopub.status.idle": "2024-05-22T08:45:06.254810Z",
     "shell.execute_reply": "2024-05-22T08:45:06.253979Z"
    },
    "papermill": {
     "duration": 0.015591,
     "end_time": "2024-05-22T08:45:06.256604",
     "exception": false,
     "start_time": "2024-05-22T08:45:06.241013",
     "status": "completed"
    },
    "tags": []
   },
   "outputs": [],
   "source": [
    "from torch.utils.data import DataLoader\n",
    "\n",
    "train_loader = DataLoader(train_set, batch_size=128, shuffle=True)\n",
    "val_loader = DataLoader(val_set, batch_size=128, shuffle=True)\n",
    "test_loader = DataLoader(test_set, batch_size=128, shuffle=False)"
   ]
  },
  {
   "cell_type": "markdown",
   "id": "4b365d88",
   "metadata": {
    "papermill": {
     "duration": 0.007855,
     "end_time": "2024-05-22T08:45:06.272284",
     "exception": false,
     "start_time": "2024-05-22T08:45:06.264429",
     "status": "completed"
    },
    "tags": []
   },
   "source": [
    "# Utility functions"
   ]
  },
  {
   "cell_type": "code",
   "execution_count": 13,
   "id": "27da41df",
   "metadata": {
    "execution": {
     "iopub.execute_input": "2024-05-22T08:45:06.289590Z",
     "iopub.status.busy": "2024-05-22T08:45:06.289312Z",
     "iopub.status.idle": "2024-05-22T08:45:06.293286Z",
     "shell.execute_reply": "2024-05-22T08:45:06.292486Z"
    },
    "papermill": {
     "duration": 0.01478,
     "end_time": "2024-05-22T08:45:06.295202",
     "exception": false,
     "start_time": "2024-05-22T08:45:06.280422",
     "status": "completed"
    },
    "tags": []
   },
   "outputs": [],
   "source": [
    "if not os.path.exists('saved_models'):\n",
    "    os.makedirs('saved_models')"
   ]
  },
  {
   "cell_type": "code",
   "execution_count": 14,
   "id": "3cfc17aa",
   "metadata": {
    "execution": {
     "iopub.execute_input": "2024-05-22T08:45:06.311989Z",
     "iopub.status.busy": "2024-05-22T08:45:06.311731Z",
     "iopub.status.idle": "2024-05-22T08:45:06.317640Z",
     "shell.execute_reply": "2024-05-22T08:45:06.316938Z"
    },
    "papermill": {
     "duration": 0.01635,
     "end_time": "2024-05-22T08:45:06.319457",
     "exception": false,
     "start_time": "2024-05-22T08:45:06.303107",
     "status": "completed"
    },
    "tags": []
   },
   "outputs": [],
   "source": [
    "def train_one_epoch(model, criterion, optimizer, train_loader, cnn = False):\n",
    "    model.train()\n",
    "    train_loss = []\n",
    "    for inputs, target in train_loader:\n",
    "        if cnn:\n",
    "            inputs = inputs.view(batch_size,1,16,20)\n",
    "        inputs, target = inputs.to(device), target.to(device)\n",
    "        optimizer.zero_grad()\n",
    "        out = model(inputs)\n",
    "        loss = criterion(out, target)\n",
    "        loss.backward()\n",
    "        optimizer.step()\n",
    "        train_loss.append(loss.item())\n",
    "    #average the train_loss list in for all batches in the train_gen\n",
    "    train_loss = np.mean(train_loss)    \n",
    "    return train_loss"
   ]
  },
  {
   "cell_type": "code",
   "execution_count": 15,
   "id": "0e13bce1",
   "metadata": {
    "execution": {
     "iopub.execute_input": "2024-05-22T08:45:06.336693Z",
     "iopub.status.busy": "2024-05-22T08:45:06.336203Z",
     "iopub.status.idle": "2024-05-22T08:45:06.341771Z",
     "shell.execute_reply": "2024-05-22T08:45:06.340953Z"
    },
    "papermill": {
     "duration": 0.016185,
     "end_time": "2024-05-22T08:45:06.343628",
     "exception": false,
     "start_time": "2024-05-22T08:45:06.327443",
     "status": "completed"
    },
    "tags": []
   },
   "outputs": [],
   "source": [
    "def validate_one_epoch(model, criterion, optimizer, val_loader, cnn = False):\n",
    "    model.eval()\n",
    "    test_loss = []\n",
    "    for inputs, target in val_loader:\n",
    "        if cnn:\n",
    "            inputs = inputs.view(batch_size,1,16,20)\n",
    "        inputs, target = inputs.to(device), target.to(device)\n",
    "        out = model(inputs)\n",
    "        loss = criterion(out, target)\n",
    "        test_loss.append(loss.item())\n",
    "    #average the test_loss list in for all batches in the test_gen\n",
    "    test_loss = np.mean(test_loss)\n",
    "    return test_loss"
   ]
  },
  {
   "cell_type": "code",
   "execution_count": 16,
   "id": "377f4f5c",
   "metadata": {
    "execution": {
     "iopub.execute_input": "2024-05-22T08:45:06.360650Z",
     "iopub.status.busy": "2024-05-22T08:45:06.360381Z",
     "iopub.status.idle": "2024-05-22T08:45:06.370210Z",
     "shell.execute_reply": "2024-05-22T08:45:06.369431Z"
    },
    "papermill": {
     "duration": 0.020385,
     "end_time": "2024-05-22T08:45:06.371983",
     "exception": false,
     "start_time": "2024-05-22T08:45:06.351598",
     "status": "completed"
    },
    "tags": []
   },
   "outputs": [],
   "source": [
    "def batch_gd_scheduler(model, new_model_name, criterion, optimizer, train_loader, val_loader, scheduler,\n",
    "                         epochs, device, batch_size=128,  cnn = False):\n",
    "    train_losses = np.zeros(epochs)\n",
    "    test_losses = np.zeros(epochs)\n",
    "    patience = 0\n",
    "    best_loss = 1000\n",
    "    max_patience = 20\n",
    "    for i in range(epochs):\n",
    "        t0 = datetime.now()\n",
    "        train_loss = train_one_epoch(model, criterion, optimizer,train_loader)\n",
    "        test_loss = validate_one_epoch(model, criterion, optimizer,val_loader)\n",
    "        #Early stopping based on test loss\n",
    "        if i == 0:\n",
    "            best_loss = test_loss   \n",
    "            torch.save(model, f'/kaggle/working/saved_models/{new_model_name}.pt')\n",
    "            print(f'Model saved as {new_model_name} at epoch {i}')\n",
    "        else:\n",
    "            if test_loss < best_loss:\n",
    "                best_loss = test_loss\n",
    "                torch.save(model, f'/kaggle/working/saved_models/{new_model_name}.pt')\n",
    "                print(f'Model overwritten at epoch {i}, new best val loss {best_loss}')\n",
    "                patience = 0\n",
    "            else:\n",
    "                patience = patience +1\n",
    "                #print(f'No improvement, current patience level is {patience} at epoch {i}')\n",
    "        if patience > max_patience:\n",
    "            print(f'Max patience reached, training is terminated at epoch {i}')\n",
    "            break\n",
    "        #Apply scheduler after the train+validate parts\n",
    "        before_lr = optimizer.param_groups[0][\"lr\"]\n",
    "        scheduler.step(test_loss)\n",
    "        after_lr = optimizer.param_groups[0][\"lr\"]\n",
    "        train_losses[i] = train_loss\n",
    "        test_losses[i] = test_loss\n",
    "        #write the losses into a csv file\n",
    "        loss_dict = {'train_loss': train_losses, 'val_loss': test_losses}\n",
    "        dd = pd.DataFrame(loss_dict)\n",
    "        dd.to_csv(f'loss_dict_cnn_lstm_{M_size}-80pc.csv', index = False)\n",
    "        dt = datetime.now()-t0\n",
    "        if i%10==0:\n",
    "            print(f'Epoch: {i+1}/{epochs}, train loss: {train_loss: .3f}, val_loss: {test_loss: .3f}, duration: {dt}, learning rate: {before_lr, after_lr}')\n",
    "    return train_losses, test_losses"
   ]
  },
  {
   "cell_type": "code",
   "execution_count": 17,
   "id": "0ccad895",
   "metadata": {
    "execution": {
     "iopub.execute_input": "2024-05-22T08:45:06.389210Z",
     "iopub.status.busy": "2024-05-22T08:45:06.388687Z",
     "iopub.status.idle": "2024-05-22T08:45:06.395196Z",
     "shell.execute_reply": "2024-05-22T08:45:06.394406Z"
    },
    "papermill": {
     "duration": 0.017068,
     "end_time": "2024-05-22T08:45:06.396952",
     "exception": false,
     "start_time": "2024-05-22T08:45:06.379884",
     "status": "completed"
    },
    "tags": []
   },
   "outputs": [],
   "source": [
    "def train_from_scratch_or_load(load_model_weight,new_model_name, epochs, cnn = False):    \n",
    "    if load_model_weight==None:\n",
    "        criterion = nn.HuberLoss()\n",
    "        optimizer = torch.optim.AdamW(model.parameters(), lr=0.01)\n",
    "        scheduler = lr_scheduler.ReduceLROnPlateau(optimizer, 'min', factor=0.1, min_lr = 1e-8)\n",
    "        train_losses, test_losses=batch_gd_scheduler(model, new_model_name, criterion, \n",
    "                                                     optimizer,train_loader, val_loader,\n",
    "                                                      scheduler, epochs, \n",
    "                                                       device = device, cnn=cnn)\n",
    "        return train_losses, test_losses\n",
    "    else:\n",
    "        if torch.cuda.is_available():\n",
    "            trained_model = torch.load(load_model_weight)     \n",
    "        else:\n",
    "            trained_model = torch.load(load_model_weight, map_location=torch.device('cpu'))       \n",
    "        return trained_model"
   ]
  },
  {
   "cell_type": "code",
   "execution_count": 18,
   "id": "75313a7f",
   "metadata": {
    "execution": {
     "iopub.execute_input": "2024-05-22T08:45:06.413969Z",
     "iopub.status.busy": "2024-05-22T08:45:06.413524Z",
     "iopub.status.idle": "2024-05-22T08:45:06.419405Z",
     "shell.execute_reply": "2024-05-22T08:45:06.418630Z"
    },
    "papermill": {
     "duration": 0.016367,
     "end_time": "2024-05-22T08:45:06.421267",
     "exception": false,
     "start_time": "2024-05-22T08:45:06.404900",
     "status": "completed"
    },
    "tags": []
   },
   "outputs": [],
   "source": [
    "def load_and_retrain(load_model_weight, new_model_name, epochs, cnn=False):\n",
    "    trained_model = torch.load(load_model_weight) \n",
    "    print('Saved model loaded!')\n",
    "    criterion = nn.HuberLoss()\n",
    "    optimizer = torch.optim.AdamW(trained_model.parameters(),lr=0.01)\n",
    "    scheduler = lr_scheduler.ReduceLROnPlateau(optimizer, 'min', factor=0.1, min_lr = 1e-7)\n",
    "    trained_model.train()\n",
    "    print('Training starts!')\n",
    "    train_losses, test_losses=batch_gd_scheduler(trained_model,new_model_name, criterion, optimizer,\n",
    "                                                 train_loader, val_loader, \n",
    "                                                 scheduler, epochs, \n",
    "                                                 device = device, cnn=cnn)\n",
    "    return trained_model, train_losses, test_losses"
   ]
  },
  {
   "cell_type": "code",
   "execution_count": 19,
   "id": "3f63ff4e",
   "metadata": {
    "execution": {
     "iopub.execute_input": "2024-05-22T08:45:06.438247Z",
     "iopub.status.busy": "2024-05-22T08:45:06.437736Z",
     "iopub.status.idle": "2024-05-22T08:45:06.442041Z",
     "shell.execute_reply": "2024-05-22T08:45:06.441276Z"
    },
    "papermill": {
     "duration": 0.0147,
     "end_time": "2024-05-22T08:45:06.443788",
     "exception": false,
     "start_time": "2024-05-22T08:45:06.429088",
     "status": "completed"
    },
    "tags": []
   },
   "outputs": [],
   "source": [
    "def plot_losses(train_losses, test_losses):\n",
    "    # Plot the train loss and test loss per iteration\n",
    "    plt.plot(train_losses, label='train loss')\n",
    "    plt.plot(test_losses, label='val loss')\n",
    "    plt.legend()\n",
    "    plt.show()"
   ]
  },
  {
   "cell_type": "code",
   "execution_count": 20,
   "id": "a7be6597",
   "metadata": {
    "execution": {
     "iopub.execute_input": "2024-05-22T08:45:06.461072Z",
     "iopub.status.busy": "2024-05-22T08:45:06.460823Z",
     "iopub.status.idle": "2024-05-22T08:45:06.473040Z",
     "shell.execute_reply": "2024-05-22T08:45:06.472310Z"
    },
    "papermill": {
     "duration": 0.022996,
     "end_time": "2024-05-22T08:45:06.474817",
     "exception": false,
     "start_time": "2024-05-22T08:45:06.451821",
     "status": "completed"
    },
    "tags": []
   },
   "outputs": [],
   "source": [
    "################## GET PREDICTIONS + ACCURACY #####################\n",
    "def get_pred_n_acc(models, device, dataloader, num_iter):\n",
    "    i = 0\n",
    "    ypreds =[]\n",
    "    targets = []\n",
    "    #The last batch might not have size 128\n",
    "    while i< num_iter:\n",
    "        for data, target in dataloader:\n",
    "            #this empty list is to hold all models' preds\n",
    "            ypred = []    \n",
    "            data= data.to(device)\n",
    "            data = data.to(torch.float32)\n",
    "            target = target.to(torch.float32)\n",
    "            #append the 'i^th' target\n",
    "            targets.append(target)\n",
    "            for model in models:\n",
    "                model.eval()\n",
    "                yp = model(data)\n",
    "                yp = yp.detach().cpu().numpy()\n",
    "                ypred.append(yp)\n",
    "            #take the mean of all models' predictions\n",
    "            ypred = np.array(ypred).mean(axis = 0)\n",
    "            ypred = np.round(ypred)\n",
    "            i+=1\n",
    "            #append ypred, targets inside the 'i' loop\n",
    "            # append the 'i^th' mean prediction\n",
    "            ypreds.append(ypred)   \n",
    "            if i == num_iter:\n",
    "                break \n",
    "     #Do not convert ypreds, targets to np.array at this point,\n",
    "    #since the last batch has a different size, causing an error !\n",
    "    #CALCULATING ACCURACY    \n",
    "    yp =  np.concatenate([ypreds[j] for j in range(len(ypreds))], axis = 0)\n",
    "    tgs =  np.concatenate([targets[j] for j in range(len(targets))], axis = 0)\n",
    "    h11_acc = ((yp[:,0] == tgs[:,0]).sum())/len(yp)\n",
    "    h21_acc = ((yp[:,1] == tgs[:,1]).sum())/len(yp)\n",
    "    h31_acc = ((yp[:,2] == tgs[:,2]).sum())/len(yp)\n",
    "    h22_acc = ((yp[:,3] == tgs[:,3]).sum())/len(yp)\n",
    "    acc = [h11_acc*100,h21_acc*100,h31_acc*100,h22_acc*100 ]\n",
    "    return  yp, tgs, acc\n"
   ]
  },
  {
   "cell_type": "markdown",
   "id": "217a7d70",
   "metadata": {
    "papermill": {
     "duration": 0.007892,
     "end_time": "2024-05-22T08:45:06.490715",
     "exception": false,
     "start_time": "2024-05-22T08:45:06.482823",
     "status": "completed"
    },
    "tags": []
   },
   "source": [
    "# Load trained model and verify accuracies"
   ]
  },
  {
   "cell_type": "code",
   "execution_count": 21,
   "id": "d1282d09",
   "metadata": {
    "execution": {
     "iopub.execute_input": "2024-05-22T08:45:06.507725Z",
     "iopub.status.busy": "2024-05-22T08:45:06.507338Z",
     "iopub.status.idle": "2024-05-22T12:49:45.912165Z",
     "shell.execute_reply": "2024-05-22T12:49:45.911106Z"
    },
    "papermill": {
     "duration": 14679.430385,
     "end_time": "2024-05-22T12:49:45.928970",
     "exception": false,
     "start_time": "2024-05-22T08:45:06.498585",
     "status": "completed"
    },
    "tags": []
   },
   "outputs": [
    {
     "name": "stdout",
     "output_type": "stream",
     "text": [
      "Saved model loaded!\n",
      "Training starts!\n",
      "Model saved as CNN-LSTM-400-d80pc at epoch 0\n",
      "Epoch: 1/550, train loss:  3.123, val_loss:  2.255, duration: 0:01:04.466624, learning rate: (0.01, 0.01)\n",
      "Model overwritten at epoch 1, new best val loss 1.8867845179963154\n",
      "Model overwritten at epoch 2, new best val loss 1.6659383336492737\n",
      "Model overwritten at epoch 3, new best val loss 1.6360386786637482\n",
      "Model overwritten at epoch 4, new best val loss 1.5961179417907876\n",
      "Epoch: 11/550, train loss:  1.993, val_loss:  2.683, duration: 0:01:03.061765, learning rate: (0.01, 0.01)\n",
      "Model overwritten at epoch 16, new best val loss 0.8131444598737007\n",
      "Model overwritten at epoch 17, new best val loss 0.7202313493483912\n",
      "Model overwritten at epoch 18, new best val loss 0.6812182933985661\n",
      "Model overwritten at epoch 19, new best val loss 0.6407416034259914\n",
      "Epoch: 21/550, train loss:  0.564, val_loss:  0.662, duration: 0:01:03.295421, learning rate: (0.001, 0.001)\n",
      "Model overwritten at epoch 21, new best val loss 0.5980913074559004\n",
      "Model overwritten at epoch 24, new best val loss 0.5668869804873458\n",
      "Model overwritten at epoch 25, new best val loss 0.5627561450214823\n",
      "Model overwritten at epoch 28, new best val loss 0.5480906713156053\n",
      "Model overwritten at epoch 30, new best val loss 0.5397408234589525\n",
      "Epoch: 31/550, train loss:  0.455, val_loss:  0.540, duration: 0:01:03.243899, learning rate: (0.001, 0.001)\n",
      "Model overwritten at epoch 36, new best val loss 0.5362072779913638\n",
      "Model overwritten at epoch 40, new best val loss 0.5288309594205658\n",
      "Epoch: 41/550, train loss:  0.455, val_loss:  0.529, duration: 0:01:03.245384, learning rate: (0.001, 0.001)\n",
      "Model overwritten at epoch 44, new best val loss 0.5103864184132328\n",
      "Model overwritten at epoch 47, new best val loss 0.5052805484077076\n",
      "Model overwritten at epoch 49, new best val loss 0.49524923601898985\n",
      "Epoch: 51/550, train loss:  0.440, val_loss:  0.531, duration: 0:01:03.161105, learning rate: (0.001, 0.001)\n",
      "Model overwritten at epoch 52, new best val loss 0.49442675383843654\n",
      "Model overwritten at epoch 60, new best val loss 0.48524900966010187\n",
      "Epoch: 61/550, train loss:  0.434, val_loss:  0.485, duration: 0:01:03.419674, learning rate: (0.001, 0.001)\n",
      "Model overwritten at epoch 67, new best val loss 0.4749220811763558\n",
      "Model overwritten at epoch 68, new best val loss 0.4489610092402346\n",
      "Epoch: 71/550, train loss:  0.402, val_loss:  0.499, duration: 0:01:03.165388, learning rate: (0.001, 0.001)\n",
      "Model overwritten at epoch 73, new best val loss 0.447354630161425\n",
      "Model overwritten at epoch 76, new best val loss 0.42740683883060643\n",
      "Epoch: 81/550, train loss:  0.373, val_loss:  0.518, duration: 0:01:03.180555, learning rate: (0.001, 0.001)\n",
      "Model overwritten at epoch 84, new best val loss 0.42205223391190616\n",
      "Epoch: 91/550, train loss:  0.359, val_loss:  0.440, duration: 0:01:03.070233, learning rate: (0.001, 0.001)\n",
      "Model overwritten at epoch 92, new best val loss 0.4105166763435175\n",
      "Model overwritten at epoch 100, new best val loss 0.3962333220758556\n",
      "Epoch: 101/550, train loss:  0.340, val_loss:  0.396, duration: 0:01:03.141278, learning rate: (0.001, 0.001)\n",
      "Model overwritten at epoch 103, new best val loss 0.3935759971328934\n",
      "Epoch: 111/550, train loss:  0.325, val_loss:  0.463, duration: 0:01:03.323338, learning rate: (0.001, 0.001)\n",
      "Model overwritten at epoch 111, new best val loss 0.3925315148248033\n",
      "Model overwritten at epoch 113, new best val loss 0.385524587393648\n",
      "Model overwritten at epoch 114, new best val loss 0.38446230813203874\n",
      "Model overwritten at epoch 115, new best val loss 0.37016359415739725\n",
      "Model overwritten at epoch 117, new best val loss 0.3583843812635546\n",
      "Epoch: 121/550, train loss:  0.304, val_loss:  0.378, duration: 0:01:03.119067, learning rate: (0.001, 0.001)\n",
      "Model overwritten at epoch 127, new best val loss 0.3444178778237977\n",
      "Model overwritten at epoch 130, new best val loss 0.3364868606366808\n",
      "Epoch: 131/550, train loss:  0.278, val_loss:  0.336, duration: 0:01:03.360239, learning rate: (0.001, 0.001)\n",
      "Model overwritten at epoch 132, new best val loss 0.3334338131378778\n",
      "Model overwritten at epoch 134, new best val loss 0.3255308458624273\n",
      "Epoch: 141/550, train loss:  0.277, val_loss:  0.380, duration: 0:01:03.012390, learning rate: (0.001, 0.001)\n",
      "Model overwritten at epoch 146, new best val loss 0.19085140158364802\n",
      "Model overwritten at epoch 147, new best val loss 0.17594225471100164\n",
      "Model overwritten at epoch 148, new best val loss 0.1645091775101749\n",
      "Model overwritten at epoch 149, new best val loss 0.16024928739396246\n",
      "Epoch: 151/550, train loss:  0.059, val_loss:  0.162, duration: 0:01:03.105991, learning rate: (0.0001, 0.0001)\n",
      "Model overwritten at epoch 151, new best val loss 0.15395917095625\n",
      "Model overwritten at epoch 152, new best val loss 0.15190285950820281\n",
      "Model overwritten at epoch 153, new best val loss 0.14839384558970337\n",
      "Model overwritten at epoch 155, new best val loss 0.14691693588066354\n",
      "Model overwritten at epoch 157, new best val loss 0.14535974195420848\n",
      "Model overwritten at epoch 158, new best val loss 0.14337880779353399\n",
      "Model overwritten at epoch 159, new best val loss 0.1425290286501564\n",
      "Model overwritten at epoch 160, new best val loss 0.1410976387757473\n",
      "Epoch: 161/550, train loss:  0.033, val_loss:  0.141, duration: 0:01:03.082898, learning rate: (0.0001, 0.0001)\n",
      "Model overwritten at epoch 162, new best val loss 0.1405722010006875\n",
      "Model overwritten at epoch 164, new best val loss 0.13962483488194105\n",
      "Model overwritten at epoch 166, new best val loss 0.13831053882167138\n",
      "Model overwritten at epoch 167, new best val loss 0.1376696014448317\n",
      "Model overwritten at epoch 169, new best val loss 0.1376387700307096\n",
      "Epoch: 171/550, train loss:  0.026, val_loss:  0.138, duration: 0:01:03.356616, learning rate: (0.0001, 0.0001)\n",
      "Model overwritten at epoch 172, new best val loss 0.13756463245851705\n",
      "Model overwritten at epoch 176, new best val loss 0.137033479311216\n",
      "Model overwritten at epoch 180, new best val loss 0.13642079400874318\n",
      "Epoch: 181/550, train loss:  0.023, val_loss:  0.136, duration: 0:01:03.352652, learning rate: (0.0001, 0.0001)\n",
      "Model overwritten at epoch 183, new best val loss 0.13543013713899113\n",
      "Model overwritten at epoch 190, new best val loss 0.13529986398692065\n",
      "Epoch: 191/550, train loss:  0.022, val_loss:  0.135, duration: 0:01:03.675596, learning rate: (0.0001, 0.0001)\n",
      "Epoch: 201/550, train loss:  0.021, val_loss:  0.138, duration: 0:01:03.296317, learning rate: (0.0001, 0.0001)\n",
      "Model overwritten at epoch 202, new best val loss 0.13118683298428854\n",
      "Model overwritten at epoch 204, new best val loss 0.13071592525304732\n",
      "Model overwritten at epoch 205, new best val loss 0.1306315174677805\n",
      "Model overwritten at epoch 207, new best val loss 0.13059126041547067\n",
      "Model overwritten at epoch 210, new best val loss 0.13058350223808088\n",
      "Epoch: 211/550, train loss:  0.009, val_loss:  0.131, duration: 0:01:03.108195, learning rate: (1e-05, 1e-05)\n",
      "Epoch: 221/550, train loss:  0.008, val_loss:  0.131, duration: 0:01:03.112780, learning rate: (1.0000000000000002e-06, 1.0000000000000002e-06)\n",
      "Epoch: 231/550, train loss:  0.007, val_loss:  0.131, duration: 0:01:04.129129, learning rate: (1.0000000000000002e-07, 1.0000000000000002e-07)\n",
      "Max patience reached, training is terminated at epoch 231\n"
     ]
    }
   ],
   "source": [
    "load_model_weight = '/kaggle/input/calabi-yau-cicy-4-folds/trained_models/CNN-LSTM-400.pt'\n",
    "epochs = 550\n",
    "new_model_name = 'CNN-LSTM-400-d80pc'\n",
    "if load_model_weight is None:\n",
    "    train_losses, test_losses=train_from_scratch_or_load(load_model_weight,new_model_name,  epochs)\n",
    "else:\n",
    "    model, train_losses, test_losses=load_and_retrain(load_model_weight, new_model_name, epochs)"
   ]
  },
  {
   "cell_type": "code",
   "execution_count": 22,
   "id": "03a6a3a1",
   "metadata": {
    "execution": {
     "iopub.execute_input": "2024-05-22T12:49:45.959885Z",
     "iopub.status.busy": "2024-05-22T12:49:45.959529Z",
     "iopub.status.idle": "2024-05-22T12:49:46.242067Z",
     "shell.execute_reply": "2024-05-22T12:49:46.241116Z"
    },
    "papermill": {
     "duration": 0.300273,
     "end_time": "2024-05-22T12:49:46.244030",
     "exception": false,
     "start_time": "2024-05-22T12:49:45.943757",
     "status": "completed"
    },
    "tags": []
   },
   "outputs": [
    {
     "data": {
      "image/png": "[encoded data removed]",
      "text/plain": [
       "<Figure size 640x480 with 1 Axes>"
      ]
     },
     "metadata": {},
     "output_type": "display_data"
    }
   ],
   "source": [
    "plot_losses(train_losses, test_losses)"
   ]
  },
  {
   "cell_type": "markdown",
   "id": "c0835207",
   "metadata": {
    "papermill": {
     "duration": 0.014706,
     "end_time": "2024-05-22T12:49:46.273925",
     "exception": false,
     "start_time": "2024-05-22T12:49:46.259219",
     "status": "completed"
    },
    "tags": []
   },
   "source": [
    "# Train, validation, test accuracies"
   ]
  },
  {
   "cell_type": "code",
   "execution_count": 23,
   "id": "05123fe7",
   "metadata": {
    "execution": {
     "iopub.execute_input": "2024-05-22T12:49:46.305771Z",
     "iopub.status.busy": "2024-05-22T12:49:46.304906Z",
     "iopub.status.idle": "2024-05-22T12:50:15.237523Z",
     "shell.execute_reply": "2024-05-22T12:50:15.236274Z"
    },
    "papermill": {
     "duration": 28.950771,
     "end_time": "2024-05-22T12:50:15.239643",
     "exception": false,
     "start_time": "2024-05-22T12:49:46.288872",
     "status": "completed"
    },
    "tags": []
   },
   "outputs": [
    {
     "name": "stdout",
     "output_type": "stream",
     "text": [
      "Train data, target shapes: ((724547, 4), (724547, 4)),\n",
      " train accuracies [99.9799874956352, 99.6713808766029, 99.85383970950124, 99.2058486198963]\n",
      "Validation data, target shapes: ((72455, 4), (72455, 4)),\n",
      " validation accuracies [99.63839624594576, 96.49437581947416, 91.66241115174935, 73.96590987509488]\n"
     ]
    }
   ],
   "source": [
    "#Train accuracy\n",
    "yt, tgt, acct = get_pred_n_acc([model], device, train_loader, num_iter = len(train_loader))\n",
    "#validation accuracy\n",
    "yv, tgv, accv = get_pred_n_acc([model], device, val_loader, num_iter = len(val_loader))\n",
    "print(f'Train data, target shapes: {yt.shape, tgt.shape},\\n train accuracies {acct}')\n",
    "print(f'Validation data, target shapes: {yv.shape, tgv.shape},\\n validation accuracies {accv}')"
   ]
  },
  {
   "cell_type": "code",
   "execution_count": 24,
   "id": "e13d2413",
   "metadata": {
    "execution": {
     "iopub.execute_input": "2024-05-22T12:50:15.272591Z",
     "iopub.status.busy": "2024-05-22T12:50:15.272228Z",
     "iopub.status.idle": "2024-05-22T12:50:19.080757Z",
     "shell.execute_reply": "2024-05-22T12:50:19.079806Z"
    },
    "papermill": {
     "duration": 3.827289,
     "end_time": "2024-05-22T12:50:19.082875",
     "exception": false,
     "start_time": "2024-05-22T12:50:15.255586",
     "status": "completed"
    },
    "tags": []
   },
   "outputs": [
    {
     "name": "stdout",
     "output_type": "stream",
     "text": [
      "Test data, target shapes: ((108682, 4), (108682, 4)),\n",
      " test accuracies [99.67151874275409, 96.53208442980439, 91.6885960876686, 73.85031559963932]\n"
     ]
    }
   ],
   "source": [
    "#Test accuracy\n",
    "yts, tgts, accts = get_pred_n_acc([model], device, test_loader, num_iter = len(test_loader))\n",
    "print(f'Test data, target shapes: {yts.shape, tgts.shape},\\n test accuracies {accts}')"
   ]
  }
 ],
 "metadata": {
  "kaggle": {
   "accelerator": "gpu",
   "dataSources": [
    {
     "datasetId": 4575883,
     "sourceId": 8483482,
     "sourceType": "datasetVersion"
    }
   ],
   "dockerImageVersionId": 30683,
   "isGpuEnabled": true,
   "isInternetEnabled": true,
   "language": "python",
   "sourceType": "notebook"
  },
  "kernelspec": {
   "display_name": "Python 3",
   "language": "python",
   "name": "python3"
  },
  "language_info": {
   "codemirror_mode": {
    "name": "ipython",
    "version": 3
   },
   "file_extension": ".py",
   "mimetype": "text/x-python",
   "name": "python",
   "nbconvert_exporter": "python",
   "pygments_lexer": "ipython3",
   "version": "3.10.13"
  },
  "papermill": {
   "default_parameters": {},
   "duration": 14739.397629,
   "end_time": "2024-05-22T12:50:21.853594",
   "environment_variables": {},
   "exception": null,
   "input_path": "__notebook__.ipynb",
   "output_path": "__notebook__.ipynb",
   "parameters": {},
   "start_time": "2024-05-22T08:44:42.455965",
   "version": "2.5.0"
  }
 },
 "nbformat": 4,
 "nbformat_minor": 5
}
